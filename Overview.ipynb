{
 "cells": [
  {
   "cell_type": "code",
   "execution_count": 1,
   "metadata": {},
   "outputs": [],
   "source": [
    "import overview\n",
    "import importlib\n",
    "from matplotlib.backends.backend_pdf import PdfPages\n"
   ]
  },
  {
   "cell_type": "code",
   "execution_count": 2,
   "metadata": {},
   "outputs": [
    {
     "name": "stderr",
     "output_type": "stream",
     "text": [
      "Processing Chunks proAnubis_240810_1240.raw:   0%|          | 0/1000 [00:00<?, ?Chunk/s]"
     ]
    },
    {
     "name": "stderr",
     "output_type": "stream",
     "text": [
      "Processing Chunks proAnubis_240810_1240.raw: 100%|██████████| 1000/1000 [00:24<00:00, 41.29Chunk/s]\n"
     ]
    },
    {
     "name": "stdout",
     "output_type": "stream",
     "text": [
      "Possible reconstructions [5, 4, 5, 6, 5, 5]\n"
     ]
    }
   ],
   "source": [
    "importlib.reload(overview)\n",
    "file_name = \"proAnubis_240815_1759.raw\"\n",
    "\n",
    "chunks, times, tdc_mets, Tot_TDC_info = overview.get_chunks(file_name, 1_00_000)\n",
    "with PdfPages(file_name[:-4] + \".pdf\") as pdf:\n",
    "    overview.alignment(chunks, pdf=pdf)\n",
    "    overview.bvg(tdc_mets, pdf=pdf) #bad vs good counts\n",
    "    overview.timeVsChunks(times, pdf=pdf)\n",
    "    overview.absBvgHits(chunks, pdf=pdf)\n",
    "    overview.efficiency(chunks, pdf=pdf)\n",
    "    overview.hitTimeHist(Tot_TDC_info, pdf=pdf)\n",
    "    overview.hitChannelHist(Tot_TDC_info, pdf=pdf)"
   ]
  }
 ],
 "metadata": {
  "kernelspec": {
   "display_name": ".venv",
   "language": "python",
   "name": "python3"
  },
  "language_info": {
   "codemirror_mode": {
    "name": "ipython",
    "version": 3
   },
   "file_extension": ".py",
   "mimetype": "text/x-python",
   "name": "python",
   "nbconvert_exporter": "python",
   "pygments_lexer": "ipython3",
   "version": "3.10.4"
  }
 },
 "nbformat": 4,
 "nbformat_minor": 2
}
