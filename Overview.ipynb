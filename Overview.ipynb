{
 "cells": [
  {
   "cell_type": "code",
   "execution_count": 1,
   "metadata": {},
   "outputs": [],
   "source": [
    "import overview\n",
    "import importlib\n",
    "import pickle\n",
    "from matplotlib.backends.backend_pdf import PdfPages\n",
    "import pandas as pd\n",
    "\n",
    "dir_path = \"C://Users//jony//Programming//Python//Anubis//anubis//\" # insert your directory path\n"
   ]
  },
  {
   "cell_type": "code",
   "execution_count": 4,
   "metadata": {},
   "outputs": [],
   "source": [
    "#Save chunks\n",
    "importlib.reload(overview)\n",
    "\n",
    "file_name = \"proAnubis_240815_1759.raw\"\n",
    "\n",
    "start = \"19:28:22\"\n",
    "end = \"19:34:23\"\n",
    "\n",
    "start = \"2024-08-15 \" + start \n",
    "end = \"2024-08-15 \"+ end"
   ]
  },
  {
   "cell_type": "code",
   "execution_count": null,
   "metadata": {},
   "outputs": [],
   "source": [
    "chunks, times, fReader = overview.get_chunks(file_name, start= start, end = end)"
   ]
  },
  {
   "cell_type": "code",
   "execution_count": 10,
   "metadata": {},
   "outputs": [],
   "source": [
    "with open(f\"{file_name}.pkl\", \"wb\") as outp:\n",
    "    pickle.dump([chunks, times], outp)\n",
    "print(\"Chunks Saved\")"
   ]
  },
  {
   "cell_type": "code",
   "execution_count": null,
   "metadata": {},
   "outputs": [],
   "source": [
    "importlib.reload(overview)\n",
    "import matplotlib.pyplot as plt\n",
    "\n",
    "file_name = \"chunks_hv0\"\n",
    "storage_name = f\"data/{file_name}.pkl\"\n",
    "with open(storage_name, \"rb\") as inp:\n",
    "    total_chunks = pickle.load(inp)\n",
    "voltage, times, chunks = total_chunks\n",
    "print(\"Chunks Loaded\")"
   ]
  },
  {
   "cell_type": "code",
   "execution_count": 8,
   "metadata": {},
   "outputs": [
    {
     "name": "stdout",
     "output_type": "stream",
     "text": [
      "Alignment Done\n",
      "Time vs Chunk Done\n"
     ]
    },
    {
     "ename": "AttributeError",
     "evalue": "'list' object has no attribute 'tdcEvents'",
     "output_type": "error",
     "traceback": [
      "\u001b[0;31m---------------------------------------------------------------------------\u001b[0m",
      "\u001b[0;31mAttributeError\u001b[0m                            Traceback (most recent call last)",
      "Cell \u001b[0;32mIn [8], line 9\u001b[0m\n\u001b[1;32m      7\u001b[0m overview\u001b[38;5;241m.\u001b[39mtime_vs_chunks(times, pdf\u001b[38;5;241m=\u001b[39mpdf)\n\u001b[1;32m      8\u001b[0m \u001b[38;5;66;03m#overview.abs_bvg_hits(chunks,times, pdf=pdf)\u001b[39;00m\n\u001b[0;32m----> 9\u001b[0m Tot_TDC_info \u001b[38;5;241m=\u001b[39m \u001b[43moverview\u001b[49m\u001b[38;5;241;43m.\u001b[39;49m\u001b[43mtdc_monitoring\u001b[49m\u001b[43m(\u001b[49m\u001b[43mchunks\u001b[49m\u001b[43m)\u001b[49m\n\u001b[1;32m     10\u001b[0m \u001b[38;5;28;01mtry\u001b[39;00m:\n\u001b[1;32m     11\u001b[0m     overview\u001b[38;5;241m.\u001b[39mefficiency(chunks, pdf\u001b[38;5;241m=\u001b[39mpdf)\n",
      "File \u001b[0;32m~/Documents/anubis/overview.py:467\u001b[0m, in \u001b[0;36mtdc_monitoring\u001b[0;34m(chunks, only_min, recordtimes)\u001b[0m\n\u001b[1;32m    465\u001b[0m good_time_count \u001b[38;5;241m=\u001b[39m \u001b[38;5;241m0\u001b[39m\n\u001b[1;32m    466\u001b[0m \u001b[38;5;28;01mfor\u001b[39;00m i, event \u001b[38;5;129;01min\u001b[39;00m \u001b[38;5;28menumerate\u001b[39m(chunks):\n\u001b[0;32m--> 467\u001b[0m     words \u001b[38;5;241m=\u001b[39m \u001b[43mevent\u001b[49m\u001b[38;5;241;43m.\u001b[39;49m\u001b[43mtdcEvents\u001b[49m[tdc]\u001b[38;5;241m.\u001b[39mwords\n\u001b[1;32m    468\u001b[0m     times_words \u001b[38;5;241m=\u001b[39m [(word \u001b[38;5;241m&\u001b[39m \u001b[38;5;241m0xfffff\u001b[39m, word) \u001b[38;5;28;01mfor\u001b[39;00m word \u001b[38;5;129;01min\u001b[39;00m words \u001b[38;5;28;01mif\u001b[39;00m (word \u001b[38;5;241m>>\u001b[39m \u001b[38;5;241m24\u001b[39m) \u001b[38;5;241m&\u001b[39m \u001b[38;5;241m0x7f\u001b[39m \u001b[38;5;129;01mnot\u001b[39;00m \u001b[38;5;129;01min\u001b[39;00m bad_channels[tdc]]\n\u001b[1;32m    469\u001b[0m     \u001b[38;5;28;01mif\u001b[39;00m times_words:\n",
      "\u001b[0;31mAttributeError\u001b[0m: 'list' object has no attribute 'tdcEvents'"
     ]
    }
   ],
   "source": [
    "importlib.reload(overview)\n",
    "file_name = \"proAnubis_240829_2026\"\n",
    "\n",
    "with PdfPages(f\"{file_name}.pdf\") as pdf:\n",
    "    timed_hits, bvg = overview.tdc_times_stats(chunks[-1])\n",
    "    overview.bvg(bvg, window_size = 100, pdf=pdf) #bad vs good counts\n",
    "    #overview.alignment(chunks, pdf=pdf)\n",
    "    #overview.time_vs_chunks(times, pdf=pdf)\n",
    "    #overview.abs_bvg_hits(chunks,times, pdf=pdf)\n",
    "    try:\n",
    "        overview.hit_channel_hist(timed_hits,tdcs_to_plot=[0,1], pdf=pdf)\n",
    "    except:\n",
    "        print(\"No hits in this range\")"
   ]
  },
  {
   "cell_type": "code",
   "execution_count": null,
   "metadata": {},
   "outputs": [],
   "source": []
  }
 ],
 "metadata": {
  "kernelspec": {
   "display_name": "Python 3 (ipykernel)",
   "language": "python",
   "name": "python3"
  },
  "language_info": {
   "codemirror_mode": {
    "name": "ipython",
    "version": 3
   },
   "file_extension": ".py",
   "mimetype": "text/x-python",
   "name": "python",
   "nbconvert_exporter": "python",
   "pygments_lexer": "ipython3",
   "version": "3.10.4"
  }
 },
 "nbformat": 4,
 "nbformat_minor": 4
}
