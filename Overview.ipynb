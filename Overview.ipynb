{
 "cells": [
  {
   "cell_type": "code",
   "execution_count": 1,
   "metadata": {},
   "outputs": [],
   "source": [
    "import overview\n",
    "import importlib\n",
    "import pickle\n",
    "from matplotlib.backends.backend_pdf import PdfPages\n",
    "import pandas as pd\n",
    "\n",
    "dir_path = \"C://Users//jony//Programming//Python//Anubis//anubis//\" # insert your directory path\n"
   ]
  },
  {
   "cell_type": "code",
   "execution_count": null,
   "metadata": {},
   "outputs": [],
   "source": [
    "#Save chunks\n",
    "storage_name = \"chunks_hv.pkl\"\n",
    "\n",
    "file_name = \"proAnubis_240815_1759.raw\"\n",
    "\n",
    "start = \"17:24:22\"\n",
    "end = \"17:24:23\"\n",
    "#rpc 0: 2024-08-15 17:24:22\t\n",
    "#rpc 1\t2024-08-18 11:39:42\n",
    "#rpc 2\t2024-08-18 12:22:21 \n",
    "start = \"2024-08-15 \" + start \n",
    "end = \"2024-08-15 \"+ end\n",
    "chunks, times, fReader = overview.get_chunks(file_name, start= start, end = end)"
   ]
  },
  {
   "cell_type": "code",
   "execution_count": 2,
   "metadata": {},
   "outputs": [
    {
     "ename": "NameError",
     "evalue": "name 'rpc' is not defined",
     "output_type": "error",
     "traceback": [
      "\u001b[1;31m---------------------------------------------------------------------------\u001b[0m",
      "\u001b[1;31mNameError\u001b[0m                                 Traceback (most recent call last)",
      "Cell \u001b[1;32mIn[2], line 1\u001b[0m\n\u001b[1;32m----> 1\u001b[0m \u001b[38;5;28;01mwith\u001b[39;00m \u001b[38;5;28mopen\u001b[39m(\u001b[38;5;124m\"\u001b[39m\u001b[38;5;124mhv_data_\u001b[39m\u001b[38;5;124m\"\u001b[39m\u001b[38;5;241m+\u001b[39m\u001b[38;5;28mstr\u001b[39m(\u001b[43mrpc\u001b[49m), \u001b[38;5;124m\"\u001b[39m\u001b[38;5;124mwb\u001b[39m\u001b[38;5;124m\"\u001b[39m) \u001b[38;5;28;01mas\u001b[39;00m outp:\n\u001b[0;32m      2\u001b[0m     pickle\u001b[38;5;241m.\u001b[39mdump(total_chunks, outp)\n",
      "\u001b[1;31mNameError\u001b[0m: name 'rpc' is not defined"
     ]
    }
   ],
   "source": [
    "with open(f\"{file_name}.pkl\", \"wb\") as outp:\n",
    "    pickle.dump([chunks, times], outp)"
   ]
  },
  {
   "cell_type": "code",
   "execution_count": null,
   "metadata": {},
   "outputs": [],
   "source": [
    "importlib.reload(overview)\n",
    "import matplotlib.pyplot as plt\n",
    "\n",
    "storage_name = \"chunks_hv0.pkl\"\n",
    "with open(storage_name, \"rb\") as inp:\n",
    "    total_chunks = pickle.load(inp)\n",
    "print(\"Chunks Loaded\")"
   ]
  },
  {
   "cell_type": "code",
   "execution_count": 2,
   "metadata": {},
   "outputs": [
    {
     "name": "stdout",
     "output_type": "stream",
     "text": [
      "Initial time 2024-08-18 10:25:27.234751\n"
     ]
    },
    {
     "name": "stderr",
     "output_type": "stream",
     "text": [
      "Skipping Events proAnubis_240818_1125.raw: 4939Events [23:21,  3.52Events/s]                      \n"
     ]
    },
    {
     "name": "stdout",
     "output_type": "stream",
     "text": [
      "Skip time 2024-08-18 11:47:48.637525\n"
     ]
    },
    {
     "name": "stderr",
     "output_type": "stream",
     "text": [
      "Processing Chunks proAnubis_240818_1125.raw:   1%|▏         | 1/73.0 [00:00<?, ?seconds/s]\n"
     ]
    },
    {
     "name": "stdout",
     "output_type": "stream",
     "text": [
      "Ending time: 2024-08-18 11:47:51.182172\n",
      "Alignment Done\n",
      "Time vs Chunk Done\n",
      "Efficiency Done\n",
      "Possible reconstructions [0, 0, 0, 0, 0, 0]\n"
     ]
    },
    {
     "name": "stderr",
     "output_type": "stream",
     "text": [
      "c:\\Users\\jony\\Programming\\Python\\Anubis\\anubis\\overview.py:303: UserWarning: Data has no positive values, and therefore cannot be log-scaled.\n",
      "  plt.yscale('log')\n"
     ]
    },
    {
     "name": "stdout",
     "output_type": "stream",
     "text": [
      "Hit Time Histogram Done\n",
      "No hits in this range\n",
      "Initial time 2024-08-18 11:47:53.905631\n"
     ]
    },
    {
     "name": "stderr",
     "output_type": "stream",
     "text": [
      "Skipping Events proAnubis_240818_1125.raw: 0Events [00:00, ?Events/s]\n"
     ]
    },
    {
     "name": "stdout",
     "output_type": "stream",
     "text": [
      "Skip time 2024-08-18 11:47:56.421043\n"
     ]
    },
    {
     "name": "stderr",
     "output_type": "stream",
     "text": [
      "Processing Chunks proAnubis_240818_1125.raw:   2%|▏         | 1/53.0 [00:00<00:01, 44.84seconds/s]\n"
     ]
    },
    {
     "name": "stdout",
     "output_type": "stream",
     "text": [
      "Ending time: 2024-08-18 11:47:58.796397\n",
      "Alignment Done\n",
      "Time vs Chunk Done\n",
      "Efficiency Done\n",
      "Possible reconstructions [0, 0, 0, 0, 0, 0]\n"
     ]
    },
    {
     "name": "stderr",
     "output_type": "stream",
     "text": [
      "c:\\Users\\jony\\Programming\\Python\\Anubis\\anubis\\overview.py:303: UserWarning: Data has no positive values, and therefore cannot be log-scaled.\n",
      "  plt.yscale('log')\n"
     ]
    },
    {
     "name": "stdout",
     "output_type": "stream",
     "text": [
      "Hit Time Histogram Done\n",
      "No hits in this range\n",
      "Initial time 2024-08-18 11:48:01.428508\n"
     ]
    },
    {
     "name": "stderr",
     "output_type": "stream",
     "text": [
      "Skipping Events proAnubis_240818_1125.raw: 0Events [00:00, ?Events/s]\n"
     ]
    },
    {
     "name": "stdout",
     "output_type": "stream",
     "text": [
      "Skip time 2024-08-18 11:48:04.469133\n"
     ]
    },
    {
     "name": "stderr",
     "output_type": "stream",
     "text": [
      "Processing Chunks proAnubis_240818_1125.raw:   1%|▏         | 1/74.0 [00:00<00:01, 44.52seconds/s]\n"
     ]
    },
    {
     "name": "stdout",
     "output_type": "stream",
     "text": [
      "Ending time: 2024-08-18 11:48:07.122248\n",
      "Alignment Done\n",
      "Time vs Chunk Done\n",
      "Efficiency Done\n",
      "Possible reconstructions [0, 0, 0, 0, 0, 0]\n"
     ]
    },
    {
     "name": "stderr",
     "output_type": "stream",
     "text": [
      "c:\\Users\\jony\\Programming\\Python\\Anubis\\anubis\\overview.py:303: UserWarning: Data has no positive values, and therefore cannot be log-scaled.\n",
      "  plt.yscale('log')\n"
     ]
    },
    {
     "name": "stdout",
     "output_type": "stream",
     "text": [
      "Hit Time Histogram Done\n",
      "No hits in this range\n",
      "Initial time 2024-08-18 11:48:09.853701\n"
     ]
    },
    {
     "name": "stderr",
     "output_type": "stream",
     "text": [
      "Skipping Events proAnubis_240818_1125.raw: 0Events [00:00, ?Events/s]\n"
     ]
    },
    {
     "name": "stdout",
     "output_type": "stream",
     "text": [
      "Skip time 2024-08-18 11:48:12.534587\n"
     ]
    },
    {
     "name": "stderr",
     "output_type": "stream",
     "text": [
      "Processing Chunks proAnubis_240818_1125.raw:   1%|▏         | 1/70.0 [00:00<00:01, 65.02seconds/s]\n"
     ]
    },
    {
     "name": "stdout",
     "output_type": "stream",
     "text": [
      "Ending time: 2024-08-18 11:48:15.470863\n",
      "Alignment Done\n",
      "Time vs Chunk Done\n",
      "Efficiency Done\n",
      "Possible reconstructions [0, 0, 0, 0, 0, 0]\n"
     ]
    },
    {
     "name": "stderr",
     "output_type": "stream",
     "text": [
      "c:\\Users\\jony\\Programming\\Python\\Anubis\\anubis\\overview.py:303: UserWarning: Data has no positive values, and therefore cannot be log-scaled.\n",
      "  plt.yscale('log')\n"
     ]
    },
    {
     "name": "stdout",
     "output_type": "stream",
     "text": [
      "Hit Time Histogram Done\n",
      "No hits in this range\n",
      "Initial time 2024-08-18 11:48:18.515270\n"
     ]
    },
    {
     "name": "stderr",
     "output_type": "stream",
     "text": [
      "Skipping Events proAnubis_240818_1125.raw: 0Events [00:00, ?Events/s]\n"
     ]
    },
    {
     "name": "stdout",
     "output_type": "stream",
     "text": [
      "Skip time 2024-08-18 11:48:20.971383\n"
     ]
    },
    {
     "name": "stderr",
     "output_type": "stream",
     "text": [
      "Processing Chunks proAnubis_240818_1125.raw:   1%|▏         | 1/67.0 [00:00<00:12,  5.39seconds/s]\n",
      "c:\\Users\\jony\\Programming\\Python\\Anubis\\anubis\\overview.py:111: RuntimeWarning: More than 20 figures have been opened. Figures created through the pyplot interface (`matplotlib.pyplot.figure`) are retained until explicitly closed and may consume too much memory. (To control this warning, see the rcParam `figure.max_open_warning`). Consider using `matplotlib.pyplot.close()`.\n",
      "  fig, ax = plt.subplots(figsize=(10, 8))\n"
     ]
    },
    {
     "name": "stdout",
     "output_type": "stream",
     "text": [
      "Ending time: 2024-08-18 11:48:23.668630\n",
      "Alignment Done\n",
      "Time vs Chunk Done\n"
     ]
    },
    {
     "name": "stderr",
     "output_type": "stream",
     "text": [
      "c:\\Users\\jony\\Programming\\Python\\Anubis\\anubis\\overview.py:179: RuntimeWarning: More than 20 figures have been opened. Figures created through the pyplot interface (`matplotlib.pyplot.figure`) are retained until explicitly closed and may consume too much memory. (To control this warning, see the rcParam `figure.max_open_warning`). Consider using `matplotlib.pyplot.close()`.\n",
      "  plt.figure(figsize=(10, 6))\n",
      "c:\\Users\\jony\\Programming\\Python\\Anubis\\anubis\\overview.py:251: RuntimeWarning: More than 20 figures have been opened. Figures created through the pyplot interface (`matplotlib.pyplot.figure`) are retained until explicitly closed and may consume too much memory. (To control this warning, see the rcParam `figure.max_open_warning`). Consider using `matplotlib.pyplot.close()`.\n",
      "  plt.figure(figsize=(10, 6))\n"
     ]
    },
    {
     "name": "stdout",
     "output_type": "stream",
     "text": [
      "Efficiency Done\n",
      "Possible reconstructions [0, 0, 0, 0, 0, 0]\n"
     ]
    },
    {
     "name": "stderr",
     "output_type": "stream",
     "text": [
      "c:\\Users\\jony\\Programming\\Python\\Anubis\\anubis\\overview.py:279: RuntimeWarning: More than 20 figures have been opened. Figures created through the pyplot interface (`matplotlib.pyplot.figure`) are retained until explicitly closed and may consume too much memory. (To control this warning, see the rcParam `figure.max_open_warning`). Consider using `matplotlib.pyplot.close()`.\n",
      "  plt.figure(figsize=(12, 8))\n"
     ]
    },
    {
     "name": "stdout",
     "output_type": "stream",
     "text": [
      "Hit Time Histogram Done\n",
      "Hit Channel Histogram Done\n",
      "Hit Channel Histogram Done\n",
      "Initial time 2024-08-18 11:48:26.975603\n"
     ]
    },
    {
     "name": "stderr",
     "output_type": "stream",
     "text": [
      "Skipping Events proAnubis_240818_1125.raw: 0Events [00:00, ?Events/s]\n"
     ]
    },
    {
     "name": "stdout",
     "output_type": "stream",
     "text": [
      "Skip time 2024-08-18 11:48:29.677900\n"
     ]
    },
    {
     "name": "stderr",
     "output_type": "stream",
     "text": [
      "Processing Chunks proAnubis_240818_1125.raw:   2%|▏         | 1/60.0 [00:00<00:00, 117.38seconds/s]"
     ]
    },
    {
     "name": "stdout",
     "output_type": "stream",
     "text": [
      "Ending time: 2024-08-18 11:48:32.356995\n"
     ]
    },
    {
     "name": "stderr",
     "output_type": "stream",
     "text": [
      "\n"
     ]
    },
    {
     "name": "stdout",
     "output_type": "stream",
     "text": [
      "Alignment Done\n",
      "Time vs Chunk Done\n",
      "Efficiency Done\n",
      "Possible reconstructions [0, 0, 0, 0, 0, 0]\n"
     ]
    },
    {
     "name": "stderr",
     "output_type": "stream",
     "text": [
      "c:\\Users\\jony\\Programming\\Python\\Anubis\\anubis\\overview.py:303: UserWarning: Data has no positive values, and therefore cannot be log-scaled.\n",
      "  plt.yscale('log')\n"
     ]
    },
    {
     "name": "stdout",
     "output_type": "stream",
     "text": [
      "Hit Time Histogram Done\n",
      "No hits in this range\n",
      "Initial time 2024-08-18 11:48:35.654182\n"
     ]
    },
    {
     "name": "stderr",
     "output_type": "stream",
     "text": [
      "Skipping Events proAnubis_240818_1125.raw: 0Events [00:00, ?Events/s]\n"
     ]
    },
    {
     "name": "stdout",
     "output_type": "stream",
     "text": [
      "Skip time 2024-08-18 11:48:38.775586\n"
     ]
    },
    {
     "name": "stderr",
     "output_type": "stream",
     "text": [
      "Processing Chunks proAnubis_240818_1125.raw:   2%|▏         | 1/54.0 [00:00<00:01, 51.20seconds/s]\n"
     ]
    },
    {
     "name": "stdout",
     "output_type": "stream",
     "text": [
      "Ending time: 2024-08-18 11:48:41.237688\n",
      "Alignment Done\n",
      "Time vs Chunk Done\n",
      "Efficiency Done\n",
      "Possible reconstructions [0, 0, 0, 0, 0, 0]\n"
     ]
    },
    {
     "name": "stderr",
     "output_type": "stream",
     "text": [
      "c:\\Users\\jony\\Programming\\Python\\Anubis\\anubis\\overview.py:303: UserWarning: Data has no positive values, and therefore cannot be log-scaled.\n",
      "  plt.yscale('log')\n"
     ]
    },
    {
     "name": "stdout",
     "output_type": "stream",
     "text": [
      "Hit Time Histogram Done\n",
      "No hits in this range\n",
      "Initial time 2024-08-18 11:48:43.787812\n"
     ]
    },
    {
     "name": "stderr",
     "output_type": "stream",
     "text": [
      "Skipping Events proAnubis_240818_1125.raw: 0Events [00:00, ?Events/s]\n"
     ]
    },
    {
     "name": "stdout",
     "output_type": "stream",
     "text": [
      "Skip time 2024-08-18 11:48:46.500995\n"
     ]
    },
    {
     "name": "stderr",
     "output_type": "stream",
     "text": [
      "Processing Chunks proAnubis_240818_1125.raw:   1%|▏         | 1/70.0 [00:00<00:01, 54.51seconds/s]\n"
     ]
    },
    {
     "name": "stdout",
     "output_type": "stream",
     "text": [
      "Ending time: 2024-08-18 11:48:48.640305\n",
      "Alignment Done\n",
      "Time vs Chunk Done\n",
      "Efficiency Done\n",
      "Possible reconstructions [0, 0, 0, 0, 0, 0]\n"
     ]
    },
    {
     "name": "stderr",
     "output_type": "stream",
     "text": [
      "c:\\Users\\jony\\Programming\\Python\\Anubis\\anubis\\overview.py:303: UserWarning: Data has no positive values, and therefore cannot be log-scaled.\n",
      "  plt.yscale('log')\n"
     ]
    },
    {
     "name": "stdout",
     "output_type": "stream",
     "text": [
      "Hit Time Histogram Done\n",
      "No hits in this range\n",
      "Initial time 2024-08-18 11:48:51.481662\n"
     ]
    },
    {
     "name": "stderr",
     "output_type": "stream",
     "text": [
      "Skipping Events proAnubis_240818_1125.raw: 0Events [00:00, ?Events/s]\n"
     ]
    },
    {
     "name": "stdout",
     "output_type": "stream",
     "text": [
      "Skip time 2024-08-18 11:48:54.202489\n"
     ]
    },
    {
     "name": "stderr",
     "output_type": "stream",
     "text": [
      "Processing Chunks proAnubis_240818_1125.raw:  15%|█▌        | 10/66.0 [00:00<00:01, 31.44seconds/s]\n"
     ]
    },
    {
     "name": "stdout",
     "output_type": "stream",
     "text": [
      "Ending time: 2024-08-18 11:49:22.625603\n",
      "Alignment Done\n",
      "Time vs Chunk Done\n",
      "Efficiency Done\n",
      "Possible reconstructions [19, 23, 39, 14, 11, 32]\n"
     ]
    },
    {
     "name": "stderr",
     "output_type": "stream",
     "text": [
      "c:\\Users\\jony\\Programming\\Python\\Anubis\\anubis\\overview.py:303: UserWarning: Data has no positive values, and therefore cannot be log-scaled.\n",
      "  plt.yscale('log')\n"
     ]
    },
    {
     "name": "stdout",
     "output_type": "stream",
     "text": [
      "Hit Time Histogram Done\n",
      "No hits in this range\n",
      "Initial time 2024-08-18 11:49:26.144102\n"
     ]
    },
    {
     "name": "stderr",
     "output_type": "stream",
     "text": [
      "Skipping Events proAnubis_240818_1125.raw: 19Events [00:00, 89.58Events/s]          \n"
     ]
    },
    {
     "name": "stdout",
     "output_type": "stream",
     "text": [
      "Skip time 2024-08-18 11:49:45.809304\n"
     ]
    },
    {
     "name": "stderr",
     "output_type": "stream",
     "text": [
      "Processing Chunks proAnubis_240818_1125.raw: 72seconds [00:01, 47.15seconds/s]                     \n"
     ]
    },
    {
     "name": "stdout",
     "output_type": "stream",
     "text": [
      "Ending time: 2024-08-18 11:50:40.135895\n",
      "Alignment Done\n",
      "Time vs Chunk Done\n",
      "Efficiency Done\n",
      "Possible reconstructions [186, 226, 321, 137, 132, 252]\n",
      "Hit Time Histogram Done\n",
      "Hit Channel Histogram Done\n",
      "Hit Channel Histogram Done\n",
      "Initial time 2024-08-18 11:50:40.833665\n"
     ]
    },
    {
     "name": "stderr",
     "output_type": "stream",
     "text": [
      "Skipping Events proAnubis_240818_1125.raw: 12Events [00:00, 82.41Events/s]           \n"
     ]
    },
    {
     "name": "stdout",
     "output_type": "stream",
     "text": [
      "Skip time 2024-08-18 11:50:52.699813\n"
     ]
    },
    {
     "name": "stderr",
     "output_type": "stream",
     "text": [
      "Processing Chunks proAnubis_240818_1125.raw: 253seconds [00:04, 51.68seconds/s]                    \n"
     ]
    },
    {
     "name": "stdout",
     "output_type": "stream",
     "text": [
      "Ending time: 2024-08-18 11:51:55.063159\n",
      "Alignment Done\n",
      "Time vs Chunk Done\n",
      "Efficiency Done\n",
      "Possible reconstructions [783, 872, 1266, 609, 534, 1122]\n",
      "Hit Time Histogram Done\n",
      "Hit Channel Histogram Done\n",
      "Hit Channel Histogram Done\n",
      "Initial time 2024-08-18 11:51:55.309554\n"
     ]
    },
    {
     "name": "stderr",
     "output_type": "stream",
     "text": [
      "Skipping Events proAnubis_240818_1125.raw: 12Events [00:00, 31.17Events/s]                   \n"
     ]
    },
    {
     "name": "stdout",
     "output_type": "stream",
     "text": [
      "Skip time 2024-08-18 11:52:07.359242\n"
     ]
    },
    {
     "name": "stderr",
     "output_type": "stream",
     "text": [
      "Processing Chunks proAnubis_240818_1125.raw: 590seconds [00:09, 62.01seconds/s]                    \n"
     ]
    },
    {
     "name": "stdout",
     "output_type": "stream",
     "text": [
      "Ending time: 2024-08-18 11:53:16.065993\n",
      "Alignment Done\n",
      "Time vs Chunk Done\n",
      "Efficiency Done\n",
      "Possible reconstructions [2676, 2840, 3932, 2216, 1953, 3558]\n",
      "Hit Time Histogram Done\n",
      "Hit Channel Histogram Done\n",
      "Hit Channel Histogram Done\n",
      "Initial time 2024-08-18 11:53:16.178073\n"
     ]
    },
    {
     "name": "stderr",
     "output_type": "stream",
     "text": [
      "Skipping Events proAnubis_240818_1125.raw: 11Events [00:00, 17.85Events/s]                   \n"
     ]
    },
    {
     "name": "stdout",
     "output_type": "stream",
     "text": [
      "Skip time 2024-08-18 11:53:26.792158\n"
     ]
    },
    {
     "name": "stderr",
     "output_type": "stream",
     "text": [
      "Processing Chunks proAnubis_240818_1125.raw: 904seconds [00:14, 61.33seconds/s]                    \n"
     ]
    },
    {
     "name": "stdout",
     "output_type": "stream",
     "text": [
      "Ending time: 2024-08-18 11:54:35.014495\n",
      "Alignment Done\n",
      "Time vs Chunk Done\n",
      "Efficiency Done\n",
      "Possible reconstructions [5682, 5429, 8109, 4918, 4304, 7221]\n",
      "Hit Time Histogram Done\n",
      "Hit Channel Histogram Done\n",
      "Hit Channel Histogram Done\n",
      "Initial time 2024-08-18 11:54:35.088985\n"
     ]
    },
    {
     "name": "stderr",
     "output_type": "stream",
     "text": [
      "Skipping Events proAnubis_240818_1125.raw: 12Events [00:00, 14.66Events/s]                    \n"
     ]
    },
    {
     "name": "stdout",
     "output_type": "stream",
     "text": [
      "Skip time 2024-08-18 11:54:47.063162\n"
     ]
    },
    {
     "name": "stderr",
     "output_type": "stream",
     "text": [
      "Processing Chunks proAnubis_240818_1125.raw: 850seconds [00:13, 60.85seconds/s]                    \n"
     ]
    },
    {
     "name": "stdout",
     "output_type": "stream",
     "text": [
      "Ending time: 2024-08-18 11:55:39.010705\n",
      "Alignment Done\n",
      "Time vs Chunk Done\n",
      "Efficiency Done\n",
      "Possible reconstructions [6498, 5668, 8953, 5617, 4897, 8000]\n",
      "Hit Time Histogram Done\n",
      "Hit Channel Histogram Done\n",
      "Hit Channel Histogram Done\n",
      "Initial time 2024-08-18 11:55:39.065747\n"
     ]
    },
    {
     "name": "stderr",
     "output_type": "stream",
     "text": [
      "Skipping Events proAnubis_240818_1125.raw: 100%|██████████| 11/11 [00:01<00:00, 10.83Events/s]\n"
     ]
    },
    {
     "name": "stdout",
     "output_type": "stream",
     "text": [
      "Skip time 2024-08-18 11:55:50.436420\n"
     ]
    },
    {
     "name": "stderr",
     "output_type": "stream",
     "text": [
      "Processing Chunks proAnubis_240818_1125.raw: 1162seconds [02:20,  8.30seconds/s]                   \n"
     ]
    },
    {
     "name": "stdout",
     "output_type": "stream",
     "text": [
      "Ending time: 2024-08-18 11:56:54.012316\n",
      "Alignment Done\n",
      "Time vs Chunk Done\n",
      "Efficiency Done\n",
      "Possible reconstructions [501, 486, 719, 468, 396, 630]\n",
      "Hit Time Histogram Done\n",
      "Hit Channel Histogram Done\n",
      "Hit Channel Histogram Done\n",
      "Initial time 2024-08-18 11:56:54.065533\n"
     ]
    },
    {
     "name": "stderr",
     "output_type": "stream",
     "text": [
      "Skipping Events proAnubis_240818_1125.raw: 100%|██████████| 12/12 [00:01<00:00, 10.46Events/s]\n"
     ]
    },
    {
     "name": "stdout",
     "output_type": "stream",
     "text": [
      "Skip time 2024-08-18 11:57:06.266392\n"
     ]
    },
    {
     "name": "stderr",
     "output_type": "stream",
     "text": [
      "Processing Chunks proAnubis_240818_1125.raw: 1364seconds [00:21, 63.11seconds/s]                   \n"
     ]
    },
    {
     "name": "stdout",
     "output_type": "stream",
     "text": [
      "Ending time: 2024-08-18 11:58:15.041262\n",
      "Alignment Done\n",
      "Time vs Chunk Done\n",
      "Efficiency Done\n",
      "Possible reconstructions [10702, 10087, 14260, 9591, 8444, 12983]\n",
      "Hit Time Histogram Done\n",
      "Hit Channel Histogram Done\n",
      "Hit Channel Histogram Done\n",
      "Initial time 2024-08-18 11:58:15.107619\n"
     ]
    },
    {
     "name": "stderr",
     "output_type": "stream",
     "text": [
      "Skipping Events proAnubis_240818_1125.raw: 11Events [00:00, 11.25Events/s]                    \n"
     ]
    },
    {
     "name": "stdout",
     "output_type": "stream",
     "text": [
      "Skip time 2024-08-18 11:58:25.714433\n"
     ]
    },
    {
     "name": "stderr",
     "output_type": "stream",
     "text": [
      "Processing Chunks proAnubis_240818_1125.raw: 1235seconds [00:22, 55.90seconds/s]                   \n"
     ]
    },
    {
     "name": "stdout",
     "output_type": "stream",
     "text": [
      "Ending time: 2024-08-18 11:59:27.017654\n",
      "Alignment Done\n",
      "Time vs Chunk Done\n",
      "Efficiency Done\n",
      "Possible reconstructions [9940, 9116, 13314, 8878, 7800, 11940]\n",
      "Hit Time Histogram Done\n",
      "Hit Channel Histogram Done\n",
      "Hit Channel Histogram Done\n",
      "Initial time 2024-08-18 11:59:27.066461\n"
     ]
    },
    {
     "name": "stderr",
     "output_type": "stream",
     "text": [
      "Skipping Events proAnubis_240818_1125.raw: 100%|██████████| 8/8 [00:00<00:00, 10.15Events/s]\n"
     ]
    },
    {
     "name": "stdout",
     "output_type": "stream",
     "text": [
      "Skip time 2024-08-18 11:59:35.393734\n"
     ]
    },
    {
     "name": "stderr",
     "output_type": "stream",
     "text": [
      "Processing Chunks proAnubis_240818_1125.raw: 1320seconds [00:22, 57.49seconds/s]                   \n"
     ]
    },
    {
     "name": "stdout",
     "output_type": "stream",
     "text": [
      "Ending time: 2024-08-18 12:00:40.010180\n",
      "Alignment Done\n",
      "Time vs Chunk Done\n",
      "Efficiency Done\n",
      "Possible reconstructions [11402, 9888, 15100, 10135, 8938, 13701]\n",
      "Hit Time Histogram Done\n",
      "Hit Channel Histogram Done\n",
      "Hit Channel Histogram Done\n",
      "Initial time 2024-08-18 12:00:40.056349\n"
     ]
    },
    {
     "name": "stderr",
     "output_type": "stream",
     "text": [
      "Skipping Events proAnubis_240818_1125.raw: 100%|██████████| 15/15 [00:01<00:00,  9.06Events/s]\n"
     ]
    },
    {
     "name": "stdout",
     "output_type": "stream",
     "text": [
      "Skip time 2024-08-18 12:00:55.512179\n"
     ]
    },
    {
     "name": "stderr",
     "output_type": "stream",
     "text": [
      "Processing Chunks proAnubis_240818_1125.raw: 916seconds [00:16, 57.04seconds/s]                    \n"
     ]
    },
    {
     "name": "stdout",
     "output_type": "stream",
     "text": [
      "Ending time: 2024-08-18 12:01:40.020516\n",
      "Alignment Done\n",
      "Time vs Chunk Done\n",
      "Efficiency Done\n",
      "Possible reconstructions [8341, 7126, 11052, 7358, 6465, 10013]\n",
      "Hit Time Histogram Done\n",
      "Hit Channel Histogram Done\n",
      "Hit Channel Histogram Done\n",
      "Initial time 2024-08-18 12:01:40.072469\n"
     ]
    },
    {
     "name": "stderr",
     "output_type": "stream",
     "text": [
      "Skipping Events proAnubis_240818_1125.raw: 100%|██████████| 14/14 [00:01<00:00,  9.15Events/s]\n"
     ]
    },
    {
     "name": "stdout",
     "output_type": "stream",
     "text": [
      "Skip time 2024-08-18 12:01:54.126590\n"
     ]
    },
    {
     "name": "stderr",
     "output_type": "stream",
     "text": [
      "Processing Chunks proAnubis_240818_1125.raw: 1176seconds [00:19, 59.04seconds/s]                   \n"
     ]
    },
    {
     "name": "stdout",
     "output_type": "stream",
     "text": [
      "Ending time: 2024-08-18 12:02:50.016068\n",
      "Alignment Done\n",
      "Time vs Chunk Done\n"
     ]
    },
    {
     "name": "stderr",
     "output_type": "stream",
     "text": [
      "C:\\/Users//jony//Programming//Python//Anubis//anubis//tools\\Reconstruction_tools.py:361: RuntimeWarning: divide by zero encountered in scalar divide\n",
      "  t = (z-z_0)/d[2]\n",
      "C:\\/Users//jony//Programming//Python//Anubis//anubis//tools\\Reconstruction_tools.py:366: RuntimeWarning: invalid value encountered in scalar multiply\n",
      "  y_traj = centroid[1] + t*d[1]\n",
      "C:\\/Users//jony//Programming//Python//Anubis//anubis//tools\\Reconstruction_tools.py:361: RuntimeWarning: invalid value encountered in scalar divide\n",
      "  t = (z-z_0)/d[2]\n"
     ]
    },
    {
     "name": "stdout",
     "output_type": "stream",
     "text": [
      "Efficiency Done\n",
      "Possible reconstructions [10678, 9010, 14061, 9315, 8325, 12889]\n",
      "Hit Time Histogram Done\n",
      "Hit Channel Histogram Done\n",
      "Hit Channel Histogram Done\n",
      "Initial time 2024-08-18 12:02:50.063632\n"
     ]
    },
    {
     "name": "stderr",
     "output_type": "stream",
     "text": [
      "Skipping Events proAnubis_240818_1125.raw: 100%|██████████| 7/7 [00:00<00:00,  9.82Events/s]\n"
     ]
    },
    {
     "name": "stdout",
     "output_type": "stream",
     "text": [
      "Skip time 2024-08-18 12:02:57.059551\n"
     ]
    },
    {
     "name": "stderr",
     "output_type": "stream",
     "text": [
      "Processing Chunks proAnubis_240818_1125.raw: 1312seconds [00:21, 62.34seconds/s]                   \n"
     ]
    },
    {
     "name": "stdout",
     "output_type": "stream",
     "text": [
      "Ending time: 2024-08-18 12:03:59.004022\n",
      "Alignment Done\n",
      "Time vs Chunk Done\n",
      "Efficiency Done\n",
      "Possible reconstructions [11233, 9888, 14585, 9957, 8900, 13756]\n",
      "Hit Time Histogram Done\n",
      "Hit Channel Histogram Done\n",
      "Hit Channel Histogram Done\n",
      "Initial time 2024-08-18 12:03:59.053908\n"
     ]
    },
    {
     "name": "stderr",
     "output_type": "stream",
     "text": [
      "Skipping Events proAnubis_240818_1125.raw: 14Events [00:01,  9.60Events/s]                    \n"
     ]
    },
    {
     "name": "stdout",
     "output_type": "stream",
     "text": [
      "Skip time 2024-08-18 12:04:12.804179\n"
     ]
    },
    {
     "name": "stderr",
     "output_type": "stream",
     "text": [
      "Processing Chunks proAnubis_240818_1125.raw: 1305seconds [00:20, 62.38seconds/s]                   \n"
     ]
    },
    {
     "name": "stdout",
     "output_type": "stream",
     "text": [
      "Ending time: 2024-08-18 12:05:14.032927\n",
      "Alignment Done\n",
      "Time vs Chunk Done\n",
      "Efficiency Done\n",
      "Possible reconstructions [10777, 9919, 14131, 9612, 8523, 12957]\n",
      "Hit Time Histogram Done\n",
      "Hit Channel Histogram Done\n",
      "Hit Channel Histogram Done\n",
      "Initial time 2024-08-18 12:05:14.075413\n"
     ]
    },
    {
     "name": "stderr",
     "output_type": "stream",
     "text": [
      "Skipping Events proAnubis_240818_1125.raw: 8Events [00:00,  9.28Events/s]                   \n"
     ]
    },
    {
     "name": "stdout",
     "output_type": "stream",
     "text": [
      "Skip time 2024-08-18 12:05:21.914152\n"
     ]
    },
    {
     "name": "stderr",
     "output_type": "stream",
     "text": [
      "Processing Chunks proAnubis_240818_1125.raw: 1329seconds [00:23, 57.05seconds/s]                   \n"
     ]
    },
    {
     "name": "stdout",
     "output_type": "stream",
     "text": [
      "Ending time: 2024-08-18 12:06:24.005583\n",
      "Alignment Done\n",
      "Time vs Chunk Done\n",
      "Efficiency Done\n",
      "Possible reconstructions [9981, 9926, 13223, 8998, 7803, 12013]\n",
      "Hit Time Histogram Done\n",
      "Hit Channel Histogram Done\n",
      "Hit Channel Histogram Done\n",
      "Initial time 2024-08-18 12:06:24.054474\n"
     ]
    },
    {
     "name": "stderr",
     "output_type": "stream",
     "text": [
      "Skipping Events proAnubis_240818_1125.raw: 8Events [00:00,  8.15Events/s]                   \n"
     ]
    },
    {
     "name": "stdout",
     "output_type": "stream",
     "text": [
      "Skip time 2024-08-18 12:06:31.848808\n"
     ]
    },
    {
     "name": "stderr",
     "output_type": "stream",
     "text": [
      "Processing Chunks proAnubis_240818_1125.raw: 1362seconds [00:23, 58.09seconds/s]                   \n"
     ]
    },
    {
     "name": "stdout",
     "output_type": "stream",
     "text": [
      "Ending time: 2024-08-18 12:07:35.035071\n",
      "Alignment Done\n",
      "Time vs Chunk Done\n",
      "Efficiency Done\n",
      "Possible reconstructions [9189, 10311, 11925, 8310, 7358, 11020]\n",
      "Hit Time Histogram Done\n",
      "Hit Channel Histogram Done\n",
      "Hit Channel Histogram Done\n",
      "Initial time 2024-08-18 12:07:35.078106\n"
     ]
    },
    {
     "name": "stderr",
     "output_type": "stream",
     "text": [
      "Skipping Events proAnubis_240818_1125.raw: 9Events [00:00,  9.00Events/s]                   \n"
     ]
    },
    {
     "name": "stdout",
     "output_type": "stream",
     "text": [
      "Skip time 2024-08-18 12:07:43.919035\n"
     ]
    },
    {
     "name": "stderr",
     "output_type": "stream",
     "text": [
      "Processing Chunks proAnubis_240818_1125.raw: 1292seconds [00:23, 55.85seconds/s]                   \n"
     ]
    },
    {
     "name": "stdout",
     "output_type": "stream",
     "text": [
      "Ending time: 2024-08-18 12:08:44.033169\n",
      "Alignment Done\n",
      "Time vs Chunk Done\n",
      "Efficiency Done\n",
      "Possible reconstructions [8385, 9767, 10742, 7560, 6729, 10024]\n",
      "Hit Time Histogram Done\n",
      "Hit Channel Histogram Done\n",
      "Hit Channel Histogram Done\n",
      "Initial time 2024-08-18 12:08:44.079002\n"
     ]
    },
    {
     "name": "stderr",
     "output_type": "stream",
     "text": [
      "Skipping Events proAnubis_240818_1125.raw: 100%|██████████| 9/9 [00:01<00:00,  8.53Events/s]\n"
     ]
    },
    {
     "name": "stdout",
     "output_type": "stream",
     "text": [
      "Skip time 2024-08-18 12:08:53.585714\n"
     ]
    },
    {
     "name": "stderr",
     "output_type": "stream",
     "text": [
      "Processing Chunks proAnubis_240818_1125.raw: 1400seconds [00:25, 54.75seconds/s]                   \n"
     ]
    },
    {
     "name": "stdout",
     "output_type": "stream",
     "text": [
      "Ending time: 2024-08-18 12:09:58.004302\n",
      "Alignment Done\n",
      "Time vs Chunk Done\n"
     ]
    },
    {
     "name": "stderr",
     "output_type": "stream",
     "text": [
      "C:\\/Users//jony//Programming//Python//Anubis//anubis//tools\\Reconstruction_tools.py:361: RuntimeWarning: divide by zero encountered in scalar divide\n",
      "  t = (z-z_0)/d[2]\n",
      "C:\\/Users//jony//Programming//Python//Anubis//anubis//tools\\Reconstruction_tools.py:366: RuntimeWarning: invalid value encountered in scalar multiply\n",
      "  y_traj = centroid[1] + t*d[1]\n",
      "C:\\/Users//jony//Programming//Python//Anubis//anubis//tools\\Reconstruction_tools.py:361: RuntimeWarning: invalid value encountered in scalar divide\n",
      "  t = (z-z_0)/d[2]\n"
     ]
    },
    {
     "name": "stdout",
     "output_type": "stream",
     "text": [
      "Efficiency Done\n",
      "Possible reconstructions [8723, 10286, 11027, 7802, 6951, 10110]\n",
      "Hit Time Histogram Done\n",
      "Hit Channel Histogram Done\n",
      "Hit Channel Histogram Done\n",
      "Initial time 2024-08-18 12:09:58.059740\n"
     ]
    },
    {
     "name": "stderr",
     "output_type": "stream",
     "text": [
      "Skipping Events proAnubis_240818_1125.raw: 7Events [00:02,  3.05Events/s]                   \n"
     ]
    },
    {
     "name": "stdout",
     "output_type": "stream",
     "text": [
      "Skip time 2024-08-18 12:10:04.776704\n"
     ]
    },
    {
     "name": "stderr",
     "output_type": "stream",
     "text": [
      "Processing Chunks proAnubis_240818_1125.raw: 1319seconds [00:21, 61.28seconds/s]                   \n"
     ]
    },
    {
     "name": "stdout",
     "output_type": "stream",
     "text": [
      "Ending time: 2024-08-18 12:11:05.021520\n",
      "Alignment Done\n",
      "Time vs Chunk Done\n",
      "Efficiency Done\n",
      "Possible reconstructions [8111, 9173, 10291, 7295, 6603, 9587]\n",
      "Hit Time Histogram Done\n",
      "Hit Channel Histogram Done\n",
      "Hit Channel Histogram Done\n",
      "Initial time 2024-08-18 12:11:05.062030\n"
     ]
    },
    {
     "name": "stderr",
     "output_type": "stream",
     "text": [
      "Skipping Events proAnubis_240818_1125.raw: 8Events [00:00,  9.28Events/s]                   \n"
     ]
    },
    {
     "name": "stdout",
     "output_type": "stream",
     "text": [
      "Skip time 2024-08-18 12:11:12.671553\n"
     ]
    },
    {
     "name": "stderr",
     "output_type": "stream",
     "text": [
      "Processing Chunks proAnubis_240818_1125.raw: 1670seconds [00:32, 50.73seconds/s]                   \n"
     ]
    },
    {
     "name": "stdout",
     "output_type": "stream",
     "text": [
      "Ending time: 2024-08-18 12:12:28.036448\n",
      "Alignment Done\n",
      "Time vs Chunk Done\n",
      "Efficiency Done\n",
      "Possible reconstructions [10788, 10988, 13908, 9706, 8615, 12713]\n",
      "Hit Time Histogram Done\n",
      "Hit Channel Histogram Done\n",
      "Hit Channel Histogram Done\n"
     ]
    }
   ],
   "source": [
    "importlib.reload(overview)\n",
    "file_name = \"proAnubis_240818_1125.raw\"\n",
    "\n",
    "with PdfPages(f\"{file_name}.pdf\") as pdf:\n",
    "    #overview.bvg(tdc_mets, pdf=pdf) #bad vs good counts\n",
    "    overview.alignment(chunks, pdf=pdf)\n",
    "    overview.time_vs_chunks(times, pdf=pdf)\n",
    "    overview.abs_bvg_hits(chunks,times, pdf=pdf)\n",
    "    Tot_TDC_info = overview.tdc_monitoring(chunks)\n",
    "    try:\n",
    "        overview.efficiency(chunks, pdf=pdf)\n",
    "        overview.hit_time_hist(Tot_TDC_info, pdf=pdf)\n",
    "        overview.hit_channel_hist(Tot_TDC_info,tdcs_to_plot=[0,1], pdf=pdf)\n",
    "    except:\n",
    "        print(\"No hits in this range\")"
   ]
  }
 ],
 "metadata": {
  "kernelspec": {
   "display_name": ".venv",
   "language": "python",
   "name": "python3"
  },
  "language_info": {
   "codemirror_mode": {
    "name": "ipython",
    "version": 3
   },
   "file_extension": ".py",
   "mimetype": "text/x-python",
   "name": "python",
   "nbconvert_exporter": "python",
   "pygments_lexer": "ipython3",
   "version": "3.10.4"
  }
 },
 "nbformat": 4,
 "nbformat_minor": 2
}
