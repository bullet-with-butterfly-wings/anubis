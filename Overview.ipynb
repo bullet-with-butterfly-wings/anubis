{
 "cells": [
  {
   "cell_type": "code",
   "execution_count": 25,
   "metadata": {},
   "outputs": [],
   "source": [
    "import overview\n",
    "import importlib\n",
    "import rawFileReader\n",
    "from matplotlib.backends.backend_pdf import PdfPages\n",
    "import pandas as pd\n",
    "\n",
    "dir_path = \"C://Users//jony//Programming//Python//Anubis//anubis//\" # insert your directory path\n"
   ]
  },
  {
   "cell_type": "code",
   "execution_count": 32,
   "metadata": {},
   "outputs": [
    {
     "name": "stdout",
     "output_type": "stream",
     "text": [
      "Initial time 2024-08-15 16:59:49.312501\n"
     ]
    },
    {
     "name": "stderr",
     "output_type": "stream",
     "text": [
      "Skipping Events proAnubis_240815_1759.raw:   1%|          | 10/1473 [00:02<05:42,  4.27Events/s]"
     ]
    }
   ],
   "source": [
    "importlib.reload(overview)\n",
    "file_name = \"proAnubis_240815_1759.raw\"\n",
    "\n",
    "hv_file = 'hvScan.csv'  # Replace with your file path\n",
    "hv_data = pd.read_csv(hv_file)\n",
    "\n",
    "fReader = rawFileReader.fileReader(dir_path+\"data//\"+file_name) # load in the classs object\n",
    "for start, end, voltage in hv_data.values[2:]:\n",
    "    start = \"2024-08-15 \" + start \n",
    "    end = \"2024-08-15 \"+ end\n",
    "    chunks, times, tdc_mets, Tot_TDC_info, fReader = overview.get_chunks(file_name, 1_00_000, fReader, start= start, end = end)\n",
    "    with PdfPages( str(voltage) + \"trip_low\" + \".pdf\") as pdf:\n",
    "        #overview.alignment(chunks, pdf=pdf)\n",
    "        #overview.bvg(tdc_mets, pdf=pdf) #bad vs good counts\n",
    "        overview.timeVsChunks(times, pdf=pdf)\n",
    "        overview.absBvgHits(chunks,times, pdf=pdf)\n",
    "        #overview.efficiency(chunks, pdf=pdf)\n",
    "        try:\n",
    "            overview.hitTimeHist(Tot_TDC_info, pdf=pdf)\n",
    "            overview.hitChannelHist(Tot_TDC_info, pdf=pdf)\n",
    "        except:\n",
    "            print(\"No hits in this range\")"
   ]
  }
 ],
 "metadata": {
  "kernelspec": {
   "display_name": ".venv",
   "language": "python",
   "name": "python3"
  },
  "language_info": {
   "codemirror_mode": {
    "name": "ipython",
    "version": 3
   },
   "file_extension": ".py",
   "mimetype": "text/x-python",
   "name": "python",
   "nbconvert_exporter": "python",
   "pygments_lexer": "ipython3",
   "version": "3.10.4"
  }
 },
 "nbformat": 4,
 "nbformat_minor": 2
}
