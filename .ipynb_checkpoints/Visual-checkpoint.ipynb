{
 "cells": [
  {
   "cell_type": "code",
   "execution_count": 4,
   "metadata": {},
   "outputs": [
    {
     "name": "stdout",
     "output_type": "stream",
     "text": [
      "['C://Users//jony//Programming//Python//Anubis//anubis//data//reset//proAnubis_240810_0040.raw']\n"
     ]
    }
   ],
   "source": [
    "import importlib\n",
    "import sys\n",
    "from tqdm import tqdm\n",
    "import  os\n",
    "import cv2\n",
    "import glob\n",
    "from datetime import datetime \n",
    "# Add the directories to the sys.path\n",
    "dir_path = \"C://Users//jony//Programming//Python//Anubis//anubis//\" # insert your directory path\n",
    "sys.path.append(dir_path + \"Osiris//processing//python\")\n",
    "sys.path.append(dir_path + \"tools\")\n",
    "\n",
    "import Analysis_tools as ATools\n",
    "import proAnubis_Analysis_Tools\n",
    "import Visual_tools as VTools\n",
    "import Reconstruction_tools as RTools\n",
    "import mplhep as hep\n",
    "import pickle\n",
    "import Timing_tools as TTools\n",
    "import overview\n",
    "import rawFileReader\n",
    "hep.style.use([hep.style.ATLAS])\n",
    "\n",
    "# Specify the directory\n",
    "data_list = sorted([f for f in os.listdir(\"data//reset\") if os.path.isfile(os.path.join(\"data//reset\", f))], reverse=True) ##all files in data directory sorted from the newest to the oldest\n",
    "\n",
    "file_path = list(map(lambda p: dir_path+\"data//reset//\"+p, data_list)) # insert your file\n",
    "print(file_path)"
   ]
  },
  {
   "cell_type": "code",
   "execution_count": null,
   "metadata": {},
   "outputs": [],
   "source": [
    "importlib.reload(rawFileReader) # Reload fReader\n",
    "importlib.reload(proAnubis_Analysis_Tools)\n",
    "importlib.reload(VTools)\n",
    "\n",
    "file_name = 'C://Users//jony//Programming//Python//Anubis//anubis//data//proAnubis_240815_1759.raw'\n",
    "storage_name = \"weird_data.pkl\"\n",
    "\n",
    "start = \"2024-08-15 17:24:22\"\n",
    "end = \"2024-08-15 17:24:23\"\n",
    "\n",
    "\n",
    "chunks, times, fReader = overview.get_chunks(file_name, start= start, end = end)"
   ]
  },
  {
   "cell_type": "code",
   "execution_count": null,
   "metadata": {},
   "outputs": [],
   "source": [
    "with open(storage_name, \"wb\") as outp:\n",
    "    pickle.dump([chunks, times], outp)"
   ]
  },
  {
   "cell_type": "code",
   "execution_count": 2,
   "metadata": {},
   "outputs": [
    {
     "name": "stdout",
     "output_type": "stream",
     "text": [
      "Loaded chunks\n"
     ]
    }
   ],
   "source": [
    "importlib.reload(overview)\n",
    "import matplotlib.pyplot as plt\n",
    "\n",
    "storage_name = \"chunks_hv1.pkl\"\n",
    "with open(storage_name, \"rb\") as inp:\n",
    "    total_chunks = pickle.load(inp)\n",
    "print(\"Loaded chunks\")"
   ]
  },
  {
   "cell_type": "code",
   "execution_count": 3,
   "metadata": {},
   "outputs": [
    {
     "name": "stderr",
     "output_type": "stream",
     "text": [
      "Processing Events:  53%|█████▎    | 53/100 [09:54<16:30, 21.07s/Events]"
     ]
    }
   ],
   "source": [
    "#Create the images\n",
    "total_chunks = total_chunks[-1][-1] #chunks\n",
    "\n",
    "max_process_event_chunk = 1\n",
    "\n",
    "processedEvents = 0\n",
    "interval = 100\n",
    "reconstructor = proAnubis_Analysis_Tools.Reconstructor(total_chunks[0], processedEvents)\n",
    "with tqdm(total=max_process_event_chunk*interval, desc=\"Processing Events\", unit='Events') as pbar:\n",
    "    while processedEvents < max_process_event_chunk:\n",
    "        processedEvents += 1\n",
    "        for evt_num, evt in enumerate(total_chunks[processedEvents]):\n",
    "            #[print(hit) for hit in VTools.all_hits_event(evt)]\n",
    "            maps = VTools.hitHeatMap(evt)\n",
    "            for rpc in range(6):\n",
    "                plt.imshow(maps[rpc], interpolation='nearest')\n",
    "                plt.title(f'Event {evt_num} RPC {rpc}')\n",
    "                plt.savefig(f'video/images_video/{processedEvents*100+10*evt_num+rpc}.png')\n",
    "            pbar.update(1)"
   ]
  },
  {
   "cell_type": "code",
   "execution_count": 7,
   "metadata": {},
   "outputs": [],
   "source": [
    "#Compose the video\n",
    "image_folder = 'video/images_video'\n",
    "images = [img for img in os.listdir(image_folder)[1::6] if img.endswith(\".png\")]\n",
    "frame = cv2.imread(os.path.join(image_folder, images[0]))\n",
    "height, width, layers = frame.shape\n",
    "\n",
    "\n",
    "video_name = f'video/high_counts.mp4'\n",
    "video = cv2.VideoWriter(video_name, cv2.VideoWriter_fourcc(*'mp4v'), 8, (width,height))\n",
    "\n",
    "for image in images:\n",
    "    video.write(cv2.imread(os.path.join(image_folder, image)))\n",
    "\n",
    "cv2.destroyAllWindows()\n",
    "video.release()"
   ]
  }
 ],
 "metadata": {
  "kernelspec": {
   "display_name": ".venv",
   "language": "python",
   "name": "python3"
  },
  "language_info": {
   "codemirror_mode": {
    "name": "ipython",
    "version": 3
   },
   "file_extension": ".py",
   "mimetype": "text/x-python",
   "name": "python",
   "nbconvert_exporter": "python",
   "pygments_lexer": "ipython3",
   "version": "3.10.4"
  }
 },
 "nbformat": 4,
 "nbformat_minor": 2
}
