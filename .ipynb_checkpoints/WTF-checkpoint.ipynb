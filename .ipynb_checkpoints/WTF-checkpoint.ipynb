{
 "cells": [
  {
   "cell_type": "code",
   "execution_count": null,
   "id": "05ec3a1e-9ae9-4f67-bd80-a3b0fe97b921",
   "metadata": {},
   "outputs": [],
   "source": [
    "import overview\n",
    "import importlib\n",
    "import rawFileReader\n",
    "import pickle\n",
    "from matplotlib.backends.backend_pdf import PdfPages\n",
    "import pandas as pd\n",
    "\n",
    "dir_path = \"/usera/jd2052/Documents/anubis/\" # insert your directory path\n"
   ]
  },
  {
   "cell_type": "code",
   "execution_count": null,
   "id": "32e253e6-f596-43b4-a8e2-101a9ba8a135",
   "metadata": {},
   "outputs": [],
   "source": [
    "interval = 1000\n",
    "while i < interval:\n",
    "            if not self.readBlock():\n",
    "                raise EOFError(\"You have reached the end of the file\")\n",
    "            if(self.hasEvents()): #my part\n",
    "                print(\"Length:\",len(self.evtBuilder.events))\n",
    "                for events in range(len(self.evtBuilder.events)):\n",
    "                    new_events = self.evtBuilder.events.pop(0)\n",
    "                    for tdc in range(5):\n",
    "                        new_events.tdcEvents[tdc].words = [w for w in new_events.tdcEvents[tdc].words if (w >> 24) & 0x7f not in bad_channels[tdc]]\n",
    "                    evts_chunk.append(new_events)\n",
    "                    i += 1\n",
    "                    self.tdc_monitoring_counter += 1"
   ]
  }
 ],
 "metadata": {
  "kernelspec": {
   "display_name": "Python 3 (ipykernel)",
   "language": "python",
   "name": "python3"
  },
  "language_info": {
   "codemirror_mode": {
    "name": "ipython",
    "version": 3
   },
   "file_extension": ".py",
   "mimetype": "text/x-python",
   "name": "python",
   "nbconvert_exporter": "python",
   "pygments_lexer": "ipython3",
   "version": "3.9.18"
  }
 },
 "nbformat": 4,
 "nbformat_minor": 5
}
