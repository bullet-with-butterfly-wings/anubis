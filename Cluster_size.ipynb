{
 "cells": [
  {
   "cell_type": "code",
   "execution_count": 2,
   "metadata": {},
   "outputs": [
    {
     "name": "stdout",
     "output_type": "stream",
     "text": [
      "['C://Users//jony//Programming//Python//Anubis//anubis////data//proAnubis_240818_1925.raw', 'C://Users//jony//Programming//Python//Anubis//anubis////data//proAnubis_240818_1325.raw', 'C://Users//jony//Programming//Python//Anubis//anubis////data//proAnubis_240818_1125.raw', 'C://Users//jony//Programming//Python//Anubis//anubis////data//proAnubis_240815_1759.raw', 'C://Users//jony//Programming//Python//Anubis//anubis////data//proAnubis_240810_1240.raw', 'C://Users//jony//Programming//Python//Anubis//anubis////data//proAnubis_240810_0840.raw', 'C://Users//jony//Programming//Python//Anubis//anubis////data//proAnubis_240627_1720.raw', 'C://Users//jony//Programming//Python//Anubis//anubis////data//datafiles.root', 'C://Users//jony//Programming//Python//Anubis//anubis////data//dataAtlas.root']\n"
     ]
    }
   ],
   "source": [
    "import importlib\n",
    "import sys\n",
    "from tqdm import tqdm\n",
    "import  os\n",
    "import glob\n",
    "# Add the directories to the sys.path\n",
    "dir_path = \"C://Users//jony//Programming//Python//Anubis//anubis//\" # insert your directory path\n",
    "sys.path.append(dir_path + \"Osiris//processing//python\")\n",
    "sys.path.append(dir_path + \"tools\")\n",
    "\n",
    "import Analysis_tools as ATools\n",
    "import proAnubis_Analysis_Tools\n",
    "import Reconstruction_tools as RTools\n",
    "import mplhep as hep\n",
    "import Timing_tools as TTools\n",
    "import rawFileReader\n",
    "from datetime import datetime\n",
    "hep.style.use([hep.style.ATLAS])\n",
    "\n",
    "# Specify the directory\n",
    "data_list = sorted([f for f in os.listdir(\"data\") if os.path.isfile(os.path.join(\"data\", f))], reverse=True) ##all files in data directory sorted from the newest to the oldest\n",
    "\n",
    "file_path = list(map(lambda p: dir_path+\"//data//\"+p, data_list)) # insert your file\n",
    "print(file_path)"
   ]
  },
  {
   "cell_type": "code",
   "execution_count": 4,
   "metadata": {},
   "outputs": [
    {
     "ename": "KeyboardInterrupt",
     "evalue": "",
     "output_type": "error",
     "traceback": [
      "\u001b[1;31m---------------------------------------------------------------------------\u001b[0m",
      "\u001b[1;31mKeyboardInterrupt\u001b[0m                         Traceback (most recent call last)",
      "Cell \u001b[1;32mIn[4], line 13\u001b[0m\n\u001b[0;32m     11\u001b[0m \u001b[38;5;28;01mwhile\u001b[39;00m processedEvents \u001b[38;5;241m<\u001b[39m max_process_event_chunk:\n\u001b[0;32m     12\u001b[0m     processedEvents \u001b[38;5;241m+\u001b[39m\u001b[38;5;241m=\u001b[39m \u001b[38;5;241m1\u001b[39m\n\u001b[1;32m---> 13\u001b[0m     event_chunk \u001b[38;5;241m=\u001b[39m \u001b[43mfReader\u001b[49m\u001b[38;5;241;43m.\u001b[39;49m\u001b[43mget_aligned_events\u001b[49m\u001b[43m(\u001b[49m\u001b[43morder\u001b[49m\u001b[38;5;241;43m=\u001b[39;49m\u001b[43morder\u001b[49m\u001b[43m,\u001b[49m\u001b[43m \u001b[49m\u001b[43minterval\u001b[49m\u001b[38;5;241;43m=\u001b[39;49m\u001b[43minterval\u001b[49m\u001b[43m)\u001b[49m\n\u001b[0;32m     14\u001b[0m     \u001b[38;5;28;01mif\u001b[39;00m event_chunk:\n\u001b[0;32m     15\u001b[0m         TAnalyser\u001b[38;5;241m.\u001b[39mupdate_event(event_chunk, processedEvents)\n",
      "File \u001b[1;32mC:\\/Users//jony//Programming//Python//Anubis//anubis//Osiris//processing//python\\rawFileReader.py:77\u001b[0m, in \u001b[0;36mfileReader.get_aligned_events\u001b[1;34m(self, order, interval, extract_tdc_mets)\u001b[0m\n\u001b[0;32m     75\u001b[0m i \u001b[38;5;241m=\u001b[39m \u001b[38;5;241m0\u001b[39m\n\u001b[0;32m     76\u001b[0m \u001b[38;5;28;01mwhile\u001b[39;00m i \u001b[38;5;241m<\u001b[39m interval:\n\u001b[1;32m---> 77\u001b[0m     \u001b[38;5;28;01mif\u001b[39;00m \u001b[38;5;129;01mnot\u001b[39;00m \u001b[38;5;28;43mself\u001b[39;49m\u001b[38;5;241;43m.\u001b[39;49m\u001b[43mreadBlock\u001b[49m\u001b[43m(\u001b[49m\u001b[43m)\u001b[49m:\n\u001b[0;32m     78\u001b[0m         \u001b[38;5;28mprint\u001b[39m(\u001b[38;5;124m\"\u001b[39m\u001b[38;5;124mBad Block Read\u001b[39m\u001b[38;5;124m\"\u001b[39m)\n\u001b[0;32m     79\u001b[0m         \u001b[38;5;28;01mbreak\u001b[39;00m\n",
      "File \u001b[1;32mC:\\/Users//jony//Programming//Python//Anubis//anubis//Osiris//processing//python\\rawFileReader.py:226\u001b[0m, in \u001b[0;36mfileReader.readBlock\u001b[1;34m(self, p)\u001b[0m\n\u001b[0;32m    224\u001b[0m \u001b[38;5;28mself\u001b[39m\u001b[38;5;241m.\u001b[39mbytesRead \u001b[38;5;241m=\u001b[39m \u001b[38;5;28mself\u001b[39m\u001b[38;5;241m.\u001b[39mbytesRead\u001b[38;5;241m+\u001b[39m\u001b[38;5;28mself\u001b[39m\u001b[38;5;241m.\u001b[39mwordSize\u001b[38;5;241m*\u001b[39m(nWords\u001b[38;5;241m+\u001b[39m\u001b[38;5;241m3\u001b[39m)\n\u001b[0;32m    225\u001b[0m \u001b[38;5;28;01mif\u001b[39;00m thisTDC \u001b[38;5;241m<\u001b[39m \u001b[38;5;241m5\u001b[39m:\n\u001b[1;32m--> 226\u001b[0m     \u001b[38;5;28;43mself\u001b[39;49m\u001b[38;5;241;43m.\u001b[39;49m\u001b[43mevtBuilder\u001b[49m\u001b[38;5;241;43m.\u001b[39;49m\u001b[43maddTDCRead\u001b[49m\u001b[43m(\u001b[49m\u001b[43mthisTDC\u001b[49m\u001b[43m,\u001b[49m\u001b[43m \u001b[49m\u001b[43mthisTime\u001b[49m\u001b[43m,\u001b[49m\u001b[43m \u001b[49m\u001b[43mtdcReadData\u001b[49m\u001b[43m,\u001b[49m\u001b[43m \u001b[49m\u001b[43mp\u001b[49m\u001b[43m)\u001b[49m\n\u001b[0;32m    227\u001b[0m \u001b[38;5;28;01mreturn\u001b[39;00m \u001b[38;5;28;01mTrue\u001b[39;00m\n",
      "File \u001b[1;32mC:\\/Users//jony//Programming//Python//Anubis//anubis//Osiris//processing//python\\rawEventBuilder.py:46\u001b[0m, in \u001b[0;36meventBuilder.addTDCRead\u001b[1;34m(self, thisTDC, thisTime, tdcReadData, p)\u001b[0m\n\u001b[0;32m     44\u001b[0m \u001b[38;5;28;01mif\u001b[39;00m p: \u001b[38;5;66;03m#and thisTDC!=5:\u001b[39;00m\n\u001b[0;32m     45\u001b[0m     \u001b[38;5;28mprint\u001b[39m(\u001b[38;5;124m\"\u001b[39m\u001b[38;5;124mTDC\u001b[39m\u001b[38;5;124m\"\u001b[39m,thisTDC,\u001b[38;5;28mhex\u001b[39m(thisWord), (thisWord\u001b[38;5;241m>>\u001b[39m\u001b[38;5;241m24\u001b[39m)\u001b[38;5;241m&\u001b[39m\u001b[38;5;241m0x7f\u001b[39m, thisWord\u001b[38;5;241m&\u001b[39m\u001b[38;5;241m0xfffff\u001b[39m)\n\u001b[1;32m---> 46\u001b[0m wordType \u001b[38;5;241m=\u001b[39m \u001b[38;5;28;43mself\u001b[39;49m\u001b[38;5;241;43m.\u001b[39;49m\u001b[43mgetWordType\u001b[49m\u001b[43m(\u001b[49m\u001b[43mthisWord\u001b[49m\u001b[43m)\u001b[49m\n\u001b[0;32m     47\u001b[0m \u001b[38;5;28;01mif\u001b[39;00m thisTDC\u001b[38;5;241m==\u001b[39m\u001b[38;5;241m5\u001b[39m:\n\u001b[0;32m     48\u001b[0m     thisRead\u001b[38;5;241m.\u001b[39mappend(thisWord)\n",
      "File \u001b[1;32mC:\\/Users//jony//Programming//Python//Anubis//anubis//Osiris//processing//python\\rawEventBuilder.py:179\u001b[0m, in \u001b[0;36meventBuilder.getWordType\u001b[1;34m(self, word)\u001b[0m\n\u001b[0;32m    177\u001b[0m     \u001b[38;5;28;01melse\u001b[39;00m:\n\u001b[0;32m    178\u001b[0m         \u001b[38;5;28;01mreturn\u001b[39;00m \u001b[38;5;28mself\u001b[39m\u001b[38;5;241m.\u001b[39mHEADER\n\u001b[1;32m--> 179\u001b[0m \u001b[38;5;28;01melif\u001b[39;00m word\u001b[38;5;241m&\u001b[39m\u001b[38;5;28mself\u001b[39m\u001b[38;5;241m.\u001b[39mEOBMask:\n\u001b[0;32m    180\u001b[0m     \u001b[38;5;28;01mreturn\u001b[39;00m \u001b[38;5;28mself\u001b[39m\u001b[38;5;241m.\u001b[39mEOB\n\u001b[0;32m    181\u001b[0m \u001b[38;5;28;01melse\u001b[39;00m:\n",
      "\u001b[1;31mKeyboardInterrupt\u001b[0m: "
     ]
    }
   ],
   "source": [
    "importlib.reload(rawFileReader) # Reload fReader\n",
    "importlib.reload(proAnubis_Analysis_Tools)\n",
    "importlib.reload(ATools)\n",
    "interval = 100 # Set your monitoring chunck size\n",
    "fReader = rawFileReader.fileReader(file_path[0]) # load in the classs object\n",
    "order = [[0,1], [1,2], [2,3], [3,4]] # Order what you want to align\n",
    "max_process_event_chunk = 1000 # End the loop early\n",
    "processedEvents = 0 # Initialisation\n",
    "initial_event_chunk = fReader.get_aligned_events(order=order, interval=interval)\n",
    "TAnalyser = proAnubis_Analysis_Tools.Timing_Analyser(initial_event_chunk,processedEvents)\n",
    "while processedEvents < max_process_event_chunk:\n",
    "    processedEvents += 1\n",
    "    event_chunk = fReader.get_aligned_events(order=order, interval=interval)\n",
    "    if event_chunk:\n",
    "        TAnalyser.update_event(event_chunk, processedEvents)\n",
    "        TAnalyser.readTDCTimeDiffs()\n",
    "        \n",
    "outDict = {'totDiffs':TAnalyser.totDiffs,\n",
    "                    'nDiffs':TAnalyser.nDiffs,\n",
    "                    'diffHists':TAnalyser.diffHists} \n",
    "residEta, residPhi = TAnalyser.Calculate_Residual_and_plot_TDC_Time_Diffs( \n",
    "                                                     pdf_filename='output/TDC_time_diffs.pdf', \n",
    "                                                     max_itr = 5)"
   ]
  },
  {
   "cell_type": "code",
   "execution_count": 3,
   "metadata": {},
   "outputs": [
    {
     "name": "stdout",
     "output_type": "stream",
     "text": [
      "C:\\Users\\jony\\Programming\\Python\\Anubis\\anubis\\data\\proAnubis_240815_1759.raw\n",
      "2024-08-15 16:59:49.312501\n",
      "2024-08-15 17:06:33.650217\n",
      "2024-08-15 17:13:38.548513\n",
      "2024-08-15 17:18:30.477887\n"
     ]
    },
    {
     "name": "stderr",
     "output_type": "stream",
     "text": [
      "Processing Events:   0%|          | 5/10000000000 [00:01<597888:58:36,  4.65Events/s] "
     ]
    },
    {
     "name": "stdout",
     "output_type": "stream",
     "text": [
      "Measurement 1 started\n",
      "2024-08-15 17:21:39.643110\n",
      "Measurement 2 started\n",
      "2024-08-15 17:28:07.812363\n",
      "Measurement 3 started\n",
      "2024-08-15 17:29:00.939168\n",
      "Measurement 4 started\n",
      "2024-08-15 17:29:52.527109\n",
      "Measurement 5 started\n",
      "2024-08-15 17:29:56.885155\n"
     ]
    },
    {
     "name": "stderr",
     "output_type": "stream",
     "text": [
      "Processing Events:   0%|          | 41/10000000000 [00:02<64202:46:38, 43.27Events/s] "
     ]
    },
    {
     "name": "stdout",
     "output_type": "stream",
     "text": [
      "Measurement 6 started\n",
      "2024-08-15 17:31:18.153406\n"
     ]
    },
    {
     "name": "stderr",
     "output_type": "stream",
     "text": [
      "Processing Events:   0%|          | 421/10000000000 [00:11<61296:15:07, 45.32Events/s]"
     ]
    },
    {
     "name": "stdout",
     "output_type": "stream",
     "text": [
      "Measurement 7 started\n",
      "2024-08-15 17:33:05.177868\n"
     ]
    },
    {
     "name": "stderr",
     "output_type": "stream",
     "text": [
      "Processing Events:   0%|          | 1191/10000000000 [00:30<67229:12:19, 41.32Events/s] "
     ]
    },
    {
     "name": "stdout",
     "output_type": "stream",
     "text": [
      "Measurement 8 started\n",
      "2024-08-15 17:35:06.069185\n"
     ]
    },
    {
     "name": "stderr",
     "output_type": "stream",
     "text": [
      "Processing Events:   0%|          | 2237/10000000000 [00:58<65684:23:51, 42.29Events/s] "
     ]
    },
    {
     "name": "stdout",
     "output_type": "stream",
     "text": [
      "Measurement 9 started\n",
      "2024-08-15 17:37:17.086697\n"
     ]
    },
    {
     "name": "stderr",
     "output_type": "stream",
     "text": [
      "Processing Events:   0%|          | 4536/10000000000 [02:01<60296:38:06, 46.07Events/s] "
     ]
    },
    {
     "name": "stdout",
     "output_type": "stream",
     "text": [
      "Measurement 10 started\n",
      "2024-08-15 17:41:38.076747\n"
     ]
    },
    {
     "name": "stderr",
     "output_type": "stream",
     "text": [
      "Processing Events:   0%|          | 5357/10000000000 [02:23<63693:25:38, 43.61Events/s] "
     ]
    },
    {
     "name": "stdout",
     "output_type": "stream",
     "text": [
      "Measurement 11 started\n",
      "2024-08-15 17:43:07.042690\n"
     ]
    },
    {
     "name": "stderr",
     "output_type": "stream",
     "text": [
      "Processing Events:   0%|          | 6387/10000000000 [02:50<58364:20:55, 47.59Events/s] "
     ]
    },
    {
     "name": "stdout",
     "output_type": "stream",
     "text": [
      "Measurement 12 started\n",
      "2024-08-15 17:44:52.096728\n"
     ]
    },
    {
     "name": "stderr",
     "output_type": "stream",
     "text": [
      "Processing Events:   0%|          | 7618/10000000000 [03:23<85921:27:47, 32.33Events/s] "
     ]
    },
    {
     "name": "stdout",
     "output_type": "stream",
     "text": [
      "Measurement 13 started\n",
      "2024-08-15 17:46:55.007091\n"
     ]
    },
    {
     "name": "stderr",
     "output_type": "stream",
     "text": [
      "Processing Events:   0%|          | 9236/10000000000 [04:10<71823:53:02, 38.67Events/s] "
     ]
    },
    {
     "name": "stdout",
     "output_type": "stream",
     "text": [
      "Measurement 14 started\n",
      "2024-08-15 17:49:27.057573\n"
     ]
    },
    {
     "name": "stderr",
     "output_type": "stream",
     "text": [
      "Processing Events:   0%|          | 10388/10000000000 [04:43<61807:08:26, 44.94Events/s] "
     ]
    },
    {
     "name": "stdout",
     "output_type": "stream",
     "text": [
      "Measurement 15 started\n",
      "2024-08-15 17:51:13.006215\n"
     ]
    },
    {
     "name": "stderr",
     "output_type": "stream",
     "text": [
      "Processing Events:   0%|          | 11860/10000000000 [05:30<73021:45:21, 38.04Events/s] "
     ]
    },
    {
     "name": "stdout",
     "output_type": "stream",
     "text": [
      "Measurement 16 started\n",
      "2024-08-15 17:53:25.010998\n"
     ]
    },
    {
     "name": "stderr",
     "output_type": "stream",
     "text": [
      "Processing Events:   0%|          | 13385/10000000000 [06:23<115968:26:28, 23.95Events/s]"
     ]
    },
    {
     "name": "stdout",
     "output_type": "stream",
     "text": [
      "Measurement 17 started\n",
      "2024-08-15 17:55:39.027224\n"
     ]
    },
    {
     "name": "stderr",
     "output_type": "stream",
     "text": [
      "Processing Events:   0%|          | 14757/10000000000 [07:12<84180:27:54, 33.00Events/s] "
     ]
    },
    {
     "name": "stdout",
     "output_type": "stream",
     "text": [
      "Measurement 18 started\n",
      "2024-08-15 17:57:37.060812\n"
     ]
    },
    {
     "name": "stderr",
     "output_type": "stream",
     "text": [
      "Processing Events:   0%|          | 16148/10000000000 [08:01<76461:08:45, 36.33Events/s] "
     ]
    },
    {
     "name": "stdout",
     "output_type": "stream",
     "text": [
      "Measurement 19 started\n",
      "2024-08-15 17:59:33.047890\n"
     ]
    },
    {
     "name": "stderr",
     "output_type": "stream",
     "text": [
      "Processing Events:   0%|          | 17395/10000000000 [08:45<102789:38:51, 27.02Events/s]"
     ]
    },
    {
     "name": "stdout",
     "output_type": "stream",
     "text": [
      "Measurement 20 started\n",
      "2024-08-15 18:01:18.049568\n"
     ]
    },
    {
     "name": "stderr",
     "output_type": "stream",
     "text": [
      "Processing Events:   0%|          | 18870/10000000000 [09:38<81298:11:34, 34.17Events/s] "
     ]
    },
    {
     "name": "stdout",
     "output_type": "stream",
     "text": [
      "Measurement 21 started\n",
      "2024-08-15 18:03:18.059587\n"
     ]
    },
    {
     "name": "stderr",
     "output_type": "stream",
     "text": [
      "Processing Events:   0%|          | 20292/10000000000 [10:30<80178:10:43, 34.64Events/s] "
     ]
    },
    {
     "name": "stdout",
     "output_type": "stream",
     "text": [
      "Measurement 22 started\n",
      "2024-08-15 18:05:10.039118\n"
     ]
    },
    {
     "name": "stderr",
     "output_type": "stream",
     "text": [
      "Processing Events:   0%|          | 21883/10000000000 [11:32<78538:37:56, 35.37Events/s] "
     ]
    },
    {
     "name": "stdout",
     "output_type": "stream",
     "text": [
      "Measurement 23 started\n",
      "2024-08-15 18:07:14.035057\n"
     ]
    },
    {
     "name": "stderr",
     "output_type": "stream",
     "text": [
      "Processing Events:   0%|          | 23185/10000000000 [12:18<87252:31:11, 31.84Events/s] "
     ]
    },
    {
     "name": "stdout",
     "output_type": "stream",
     "text": [
      "Measurement 24 started\n",
      "2024-08-15 18:08:55.080421\n"
     ]
    },
    {
     "name": "stderr",
     "output_type": "stream",
     "text": [
      "Processing Events:   0%|          | 24471/10000000000 [13:09<89593:51:07, 31.00Events/s] "
     ]
    },
    {
     "name": "stdout",
     "output_type": "stream",
     "text": [
      "2024-08-15 18:10:34.027245\n"
     ]
    },
    {
     "name": "stderr",
     "output_type": "stream",
     "text": [
      "\n"
     ]
    }
   ],
   "source": [
    "importlib.reload(rawFileReader) # Reload fReader\n",
    "importlib.reload(proAnubis_Analysis_Tools)\n",
    "importlib.reload(ATools)\n",
    "importlib.reload(RTools)\n",
    "import pandas as pd\n",
    "interval = 100 # Set your monitoring chunck size\n",
    "file_path  = [\"C:\\\\Users\\\\jony\\\\Programming\\\\Python\\\\Anubis\\\\anubis\\\\data\\\\proAnubis_240815_1759.raw\", \"C:\\\\Users\\\\jony\\\\Programming\\\\Python\\\\Anubis\\\\anubis\\\\data\\\\proAnubis_240818_1125.raw\"]\n",
    "fReader = rawFileReader.fileReader(file_path[1]) # load in the classs object\n",
    "print(file_path[1])\n",
    "order = [[0,1], [1,2], [2,3], [3,4]] # Order what you want to align\n",
    "max_process_event_chunk = 1_0000000000 # End the loop early\n",
    "processedEvents = 0 # Initialisation\n",
    "\n",
    "hv_file = 'hvScan.csv'  # Replace with your file path\n",
    "hv_data = pd.read_csv(hv_file)\n",
    "\n",
    "date = \"2024-08-18\"\n",
    "measurement = 0\n",
    "\n",
    "initial_event_chunk = fReader.get_aligned_events(order=order, interval=interval)\n",
    "event_time = max([initial_event_chunk[0].tdcEvents[tdc].time for tdc in range(5) if initial_event_chunk[0].tdcEvents[tdc].time])\n",
    "print(event_time)\n",
    "i = 0\n",
    "while event_time < datetime.strptime(\"2024-08-18 11:35:54\", '%Y-%m-%d %H:%M:%S'):\n",
    "    fReader.skip_events(2_000)\n",
    "    i += 1\n",
    "    initial_event_chunk = fReader.get_aligned_events(order=order, interval=interval)\n",
    "    if initial_event_chunk:\n",
    "        event_time = max([initial_event_chunk[0].tdcEvents[tdc].time for tdc in range(5) if initial_event_chunk[0].tdcEvents[tdc].time])\n",
    "        if i % 1000 == 0:\n",
    "            print(event_time)\n",
    "print(event_time)    \n",
    "\n",
    "reconstructor = proAnubis_Analysis_Tools.Reconstructor(initial_event_chunk, processedEvents)\n",
    "\n",
    "# Load the CSV file\n",
    "\n",
    "# Display the first few rows of the dataframe\n",
    "historgrams = [[[] for rpc in range(6)] for section in range(len(hv_data))]\n",
    "with tqdm(total=max_process_event_chunk, desc=\"Processing Events\", unit='Events') as pbar:\n",
    "    while processedEvents < max_process_event_chunk:\n",
    "        processedEvents += 1\n",
    "        try:\n",
    "            event_chunk = fReader.get_aligned_events(order=order, interval=interval)\n",
    "        except:\n",
    "            print(f'Error at event chunk {processedEvents}')\n",
    "            fReader = rawFileReader.fileReader(file_path[1]) # load in the classs object\n",
    "            continue\n",
    "        #Zone of Reconstruction\n",
    "        if event_chunk:\n",
    "            # We need to update the event like TAnalyser as well\n",
    "            event_time = max([event_chunk[0].tdcEvents[tdc].time for tdc in range(5) if event_chunk[0].tdcEvents[tdc].time])\n",
    "            if event_time <  datetime.strptime(date+\" \"+hv_data[\"start\"][0], '%Y-%m-%d %H:%M:%S'): \n",
    "                continue\n",
    "            elif datetime.strptime(date+\" \"+hv_data[\"start\"][measurement], '%Y-%m-%d %H:%M:%S') < event_time < datetime.strptime(date+\" \"+hv_data[\"end\"][measurement], '%Y-%m-%d %H:%M:%S'):\n",
    "                reconstructor.update_event(event_chunk, processedEvents)\n",
    "                reconstructor.populate_hits()\n",
    "                clusters = reconstructor.make_cluster()\n",
    "                for evt in clusters:\n",
    "                    for rpc in range(6):\n",
    "                        if len(evt[2][rpc][0]):\n",
    "                            historgrams[measurement][rpc].append(len(evt[2][rpc][0]))\n",
    "                        if len(evt[2][rpc][1]):\n",
    "                            historgrams[measurement][rpc].append(len(evt[2][rpc][1]))\n",
    "                    \n",
    "            elif event_time > datetime.strptime(date+\" \"+hv_data.iloc[-1][\"end\"], '%Y-%m-%d %H:%M:%S'):\n",
    "                break \n",
    "            elif event_time > datetime.strptime(date+\" \"+hv_data[\"end\"][measurement], '%Y-%m-%d %H:%M:%S'):\n",
    "                measurement += 1\n",
    "                total_clusters = 0\n",
    "                num_clusters = 0\n",
    "                print(f\"Measurement {measurement} started\")\n",
    "                print(event_time)\n",
    "                reconstructor.update_event(event_chunk, processedEvents)\n",
    "                reconstructor.populate_hits()\n",
    "                clusters = reconstructor.make_cluster()\n",
    "                for evt in clusters:\n",
    "                    for rpc in range(6):\n",
    "                        if len(evt[2][rpc][0]):\n",
    "                            historgrams[measurement][rpc].append(len(evt[2][rpc][0]))\n",
    "                        if len(evt[2][rpc][1]):\n",
    "                            historgrams[measurement][rpc].append(len(evt[2][rpc][1]))\n",
    "\n",
    "        pbar.update(1)\n",
    "print(event_time)"
   ]
  },
  {
   "cell_type": "code",
   "execution_count": 4,
   "metadata": {},
   "outputs": [
    {
     "name": "stdout",
     "output_type": "stream",
     "text": [
      "2024-08-15 18:10:34.027245\n"
     ]
    }
   ],
   "source": [
    "print(event_time)"
   ]
  },
  {
   "cell_type": "code",
   "execution_count": 6,
   "metadata": {},
   "outputs": [],
   "source": [
    "import csv\n",
    "\n",
    "with open(\"historgrams1.csv\", \"w\", newline=\"\") as file:\n",
    "    writer = csv.writer(file)\n",
    "    writer.writerows(historgrams)"
   ]
  },
  {
   "cell_type": "code",
   "execution_count": 15,
   "metadata": {},
   "outputs": [
    {
     "ename": "KeyboardInterrupt",
     "evalue": "",
     "output_type": "error",
     "traceback": [
      "\u001b[1;31m---------------------------------------------------------------------------\u001b[0m",
      "\u001b[1;31mKeyboardInterrupt\u001b[0m                         Traceback (most recent call last)",
      "Cell \u001b[1;32mIn[15], line 16\u001b[0m\n\u001b[0;32m     14\u001b[0m plt\u001b[38;5;241m.\u001b[39mylabel(\u001b[38;5;124m\"\u001b[39m\u001b[38;5;124mAverage Cluster Size\u001b[39m\u001b[38;5;124m\"\u001b[39m)\n\u001b[0;32m     15\u001b[0m plt\u001b[38;5;241m.\u001b[39mtitle(\u001b[38;5;124mf\u001b[39m\u001b[38;5;124m\"\u001b[39m\u001b[38;5;124mCluster size - RPC 0 tested\u001b[39m\u001b[38;5;124m\"\u001b[39m)\n\u001b[1;32m---> 16\u001b[0m \u001b[43mplt\u001b[49m\u001b[38;5;241;43m.\u001b[39;49m\u001b[43mshow\u001b[49m\u001b[43m(\u001b[49m\u001b[43m)\u001b[49m\n",
      "File \u001b[1;32mc:\\Users\\jony\\Programming\\Python\\Anubis\\anubis\\.venv\\lib\\site-packages\\matplotlib\\pyplot.py:607\u001b[0m, in \u001b[0;36mshow\u001b[1;34m(*args, **kwargs)\u001b[0m\n\u001b[0;32m    563\u001b[0m \u001b[38;5;250m\u001b[39m\u001b[38;5;124;03m\"\"\"\u001b[39;00m\n\u001b[0;32m    564\u001b[0m \u001b[38;5;124;03mDisplay all open figures.\u001b[39;00m\n\u001b[0;32m    565\u001b[0m \n\u001b[1;32m   (...)\u001b[0m\n\u001b[0;32m    604\u001b[0m \u001b[38;5;124;03mexplicitly there.\u001b[39;00m\n\u001b[0;32m    605\u001b[0m \u001b[38;5;124;03m\"\"\"\u001b[39;00m\n\u001b[0;32m    606\u001b[0m _warn_if_gui_out_of_main_thread()\n\u001b[1;32m--> 607\u001b[0m \u001b[38;5;28;01mreturn\u001b[39;00m _get_backend_mod()\u001b[38;5;241m.\u001b[39mshow(\u001b[38;5;241m*\u001b[39margs, \u001b[38;5;241m*\u001b[39m\u001b[38;5;241m*\u001b[39mkwargs)\n",
      "File \u001b[1;32mc:\\Users\\jony\\Programming\\Python\\Anubis\\anubis\\.venv\\lib\\site-packages\\matplotlib\\backend_bases.py:3567\u001b[0m, in \u001b[0;36m_Backend.show\u001b[1;34m(cls, block)\u001b[0m\n\u001b[0;32m   3565\u001b[0m     block \u001b[38;5;241m=\u001b[39m \u001b[38;5;129;01mnot\u001b[39;00m ipython_pylab \u001b[38;5;129;01mand\u001b[39;00m \u001b[38;5;129;01mnot\u001b[39;00m is_interactive()\n\u001b[0;32m   3566\u001b[0m \u001b[38;5;28;01mif\u001b[39;00m block:\n\u001b[1;32m-> 3567\u001b[0m     \u001b[38;5;28;43mcls\u001b[39;49m\u001b[38;5;241;43m.\u001b[39;49m\u001b[43mmainloop\u001b[49m\u001b[43m(\u001b[49m\u001b[43m)\u001b[49m\n",
      "File \u001b[1;32mc:\\Users\\jony\\Programming\\Python\\Anubis\\anubis\\.venv\\lib\\site-packages\\matplotlib\\backends\\_backend_tk.py:520\u001b[0m, in \u001b[0;36mFigureManagerTk.start_main_loop\u001b[1;34m(cls)\u001b[0m\n\u001b[0;32m    518\u001b[0m manager_class\u001b[38;5;241m.\u001b[39m_owns_mainloop \u001b[38;5;241m=\u001b[39m \u001b[38;5;28;01mTrue\u001b[39;00m\n\u001b[0;32m    519\u001b[0m \u001b[38;5;28;01mtry\u001b[39;00m:\n\u001b[1;32m--> 520\u001b[0m     \u001b[43mfirst_manager\u001b[49m\u001b[38;5;241;43m.\u001b[39;49m\u001b[43mwindow\u001b[49m\u001b[38;5;241;43m.\u001b[39;49m\u001b[43mmainloop\u001b[49m\u001b[43m(\u001b[49m\u001b[43m)\u001b[49m\n\u001b[0;32m    521\u001b[0m \u001b[38;5;28;01mfinally\u001b[39;00m:\n\u001b[0;32m    522\u001b[0m     manager_class\u001b[38;5;241m.\u001b[39m_owns_mainloop \u001b[38;5;241m=\u001b[39m \u001b[38;5;28;01mFalse\u001b[39;00m\n",
      "File \u001b[1;32m~\\AppData\\Local\\Programs\\Python\\Python310\\lib\\tkinter\\__init__.py:1458\u001b[0m, in \u001b[0;36mMisc.mainloop\u001b[1;34m(self, n)\u001b[0m\n\u001b[0;32m   1456\u001b[0m \u001b[38;5;28;01mdef\u001b[39;00m \u001b[38;5;21mmainloop\u001b[39m(\u001b[38;5;28mself\u001b[39m, n\u001b[38;5;241m=\u001b[39m\u001b[38;5;241m0\u001b[39m):\n\u001b[0;32m   1457\u001b[0m \u001b[38;5;250m    \u001b[39m\u001b[38;5;124;03m\"\"\"Call the mainloop of Tk.\"\"\"\u001b[39;00m\n\u001b[1;32m-> 1458\u001b[0m     \u001b[38;5;28;43mself\u001b[39;49m\u001b[38;5;241;43m.\u001b[39;49m\u001b[43mtk\u001b[49m\u001b[38;5;241;43m.\u001b[39;49m\u001b[43mmainloop\u001b[49m\u001b[43m(\u001b[49m\u001b[43mn\u001b[49m\u001b[43m)\u001b[49m\n",
      "\u001b[1;31mKeyboardInterrupt\u001b[0m: "
     ]
    }
   ],
   "source": [
    "import matplotlib.pyplot as plt\n",
    "import numpy as np\n",
    "historgrams = np.array(historgrams, dtype=object)\n",
    "#print(historgrams[0][:20])\n",
    "for rpc in range(3):\n",
    "    avg = [np.mean(measurement[rpc]) for measurement in historgrams]\n",
    "    #print(avg)\n",
    "    errors = np.array([np.std(measurement[rpc]) for measurement in historgrams])/np.array([np.sqrt(len(row[rpc])) for row in historgrams])\n",
    "    plt.plot(hv_data[\"voltage\"], avg, label=f\"RPC {rpc}\")\n",
    "    plt.errorbar(hv_data[\"voltage\"], avg, yerr=errors, fmt=\"x\", color=\"r\")\n",
    "\n",
    "plt.legend()\n",
    "plt.xlabel(\"Voltage\")\n",
    "plt.ylabel(\"Average Cluster Size\")\n",
    "plt.title(f\"Cluster size - RPC 0 tested\")\n",
    "plt.show()\n"
   ]
  },
  {
   "cell_type": "code",
   "execution_count": null,
   "metadata": {},
   "outputs": [],
   "source": []
  },
  {
   "cell_type": "code",
   "execution_count": 17,
   "metadata": {},
   "outputs": [],
   "source": [
    "# plot historgam\n",
    "import matplotlib.pyplot as plt\n",
    "import numpy as np\n",
    "lower = 9\n",
    "middle = 15\n",
    "upper = len(hv_data)-1\n",
    "counts, bins = np.histogram(historgrams[lower][0], bins=range(min(historgrams[lower][0])-1, max(historgrams[lower][0]) + 2), density=True)\n",
    "plt.step(bins[:-1], counts, where='mid', label=f\"Voltage {hv_data['voltage'][lower]}\")\n",
    "\n",
    "counts, bins = np.histogram(historgrams[middle][0], bins=range(min(historgrams[middle][0])-1, max(historgrams[middle][0]) + 2), density=True)\n",
    "plt.step(bins[:-1], counts, where='mid', label=f\"Voltage {hv_data['voltage'][middle]}\")\n",
    "\n",
    "counts, bins = np.histogram(historgrams[middle][1], bins=range(min(historgrams[middle][0])-1, max(historgrams[middle][0]) + 2), density=True)\n",
    "plt.step(bins[:-1], counts, where='mid', label=f\"Mid Triplet\")\n",
    "\n",
    "counts, bins = np.histogram(historgrams[-1][0], bins=range(min(historgrams[-1][0])-1, max(historgrams[-1][0]) + 2), density=True)\n",
    "plt.step(bins[:-1], counts, where='mid', label=f\"Voltage {hv_data['voltage'][len(hv_data)-1]}\")\n",
    "\n",
    "# Adding titles and labels\n",
    "plt.title('Cluster size distribution - low triplet')\n",
    "plt.xlabel('Value')\n",
    "plt.yscale('log')\n",
    "plt.ylabel('Frequency')\n",
    "plt.legend()\n",
    "# Show the plot\n",
    "plt.show()"
   ]
  }
 ],
 "metadata": {
  "kernelspec": {
   "display_name": ".venv",
   "language": "python",
   "name": "python3"
  },
  "language_info": {
   "codemirror_mode": {
    "name": "ipython",
    "version": 3
   },
   "file_extension": ".py",
   "mimetype": "text/x-python",
   "name": "python",
   "nbconvert_exporter": "python",
   "pygments_lexer": "ipython3",
   "version": "3.10.4"
  }
 },
 "nbformat": 4,
 "nbformat_minor": 2
}
