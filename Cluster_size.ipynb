{
 "cells": [
  {
   "cell_type": "code",
   "execution_count": 1,
   "metadata": {},
   "outputs": [
    {
     "name": "stdout",
     "output_type": "stream",
     "text": [
      "['C://Users//jony//Programming//Python//Anubis//anubis////data//proAnubis_240818_1925.raw', 'C://Users//jony//Programming//Python//Anubis//anubis////data//proAnubis_240818_1325.raw', 'C://Users//jony//Programming//Python//Anubis//anubis////data//proAnubis_240818_1125.raw', 'C://Users//jony//Programming//Python//Anubis//anubis////data//proAnubis_240815_1759.raw', 'C://Users//jony//Programming//Python//Anubis//anubis////data//proAnubis_240810_1240.raw', 'C://Users//jony//Programming//Python//Anubis//anubis////data//proAnubis_240810_0840.raw', 'C://Users//jony//Programming//Python//Anubis//anubis////data//proAnubis_240627_1720.raw', 'C://Users//jony//Programming//Python//Anubis//anubis////data//datafiles.root']\n"
     ]
    }
   ],
   "source": [
    "import importlib\n",
    "import sys\n",
    "from tqdm import tqdm\n",
    "import  os\n",
    "import glob\n",
    "# Add the directories to the sys.path\n",
    "dir_path = \"C://Users//jony//Programming//Python//Anubis//anubis//\" # insert your directory path\n",
    "sys.path.append(dir_path + \"Osiris//processing//python\")\n",
    "sys.path.append(dir_path + \"tools\")\n",
    "\n",
    "import Analysis_tools as ATools\n",
    "import proAnubis_Analysis_Tools\n",
    "import Reconstruction_tools as RTools\n",
    "import mplhep as hep\n",
    "import Timing_tools as TTools\n",
    "import rawFileReader\n",
    "from datetime import datetime\n",
    "hep.style.use([hep.style.ATLAS])\n",
    "\n",
    "# Specify the directory\n",
    "data_list = sorted([f for f in os.listdir(\"data\") if os.path.isfile(os.path.join(\"data\", f))], reverse=True) ##all files in data directory sorted from the newest to the oldest\n",
    "\n",
    "file_path = list(map(lambda p: dir_path+\"//data//\"+p, data_list)) # insert your file\n",
    "print(file_path)"
   ]
  },
  {
   "cell_type": "code",
   "execution_count": 4,
   "metadata": {},
   "outputs": [
    {
     "ename": "KeyboardInterrupt",
     "evalue": "",
     "output_type": "error",
     "traceback": [
      "\u001b[1;31m---------------------------------------------------------------------------\u001b[0m",
      "\u001b[1;31mKeyboardInterrupt\u001b[0m                         Traceback (most recent call last)",
      "Cell \u001b[1;32mIn[4], line 13\u001b[0m\n\u001b[0;32m     11\u001b[0m \u001b[38;5;28;01mwhile\u001b[39;00m processedEvents \u001b[38;5;241m<\u001b[39m max_process_event_chunk:\n\u001b[0;32m     12\u001b[0m     processedEvents \u001b[38;5;241m+\u001b[39m\u001b[38;5;241m=\u001b[39m \u001b[38;5;241m1\u001b[39m\n\u001b[1;32m---> 13\u001b[0m     event_chunk \u001b[38;5;241m=\u001b[39m \u001b[43mfReader\u001b[49m\u001b[38;5;241;43m.\u001b[39;49m\u001b[43mget_aligned_events\u001b[49m\u001b[43m(\u001b[49m\u001b[43morder\u001b[49m\u001b[38;5;241;43m=\u001b[39;49m\u001b[43morder\u001b[49m\u001b[43m,\u001b[49m\u001b[43m \u001b[49m\u001b[43minterval\u001b[49m\u001b[38;5;241;43m=\u001b[39;49m\u001b[43minterval\u001b[49m\u001b[43m)\u001b[49m\n\u001b[0;32m     14\u001b[0m     \u001b[38;5;28;01mif\u001b[39;00m event_chunk:\n\u001b[0;32m     15\u001b[0m         TAnalyser\u001b[38;5;241m.\u001b[39mupdate_event(event_chunk, processedEvents)\n",
      "File \u001b[1;32mC:\\/Users//jony//Programming//Python//Anubis//anubis//Osiris//processing//python\\rawFileReader.py:77\u001b[0m, in \u001b[0;36mfileReader.get_aligned_events\u001b[1;34m(self, order, interval, extract_tdc_mets)\u001b[0m\n\u001b[0;32m     75\u001b[0m i \u001b[38;5;241m=\u001b[39m \u001b[38;5;241m0\u001b[39m\n\u001b[0;32m     76\u001b[0m \u001b[38;5;28;01mwhile\u001b[39;00m i \u001b[38;5;241m<\u001b[39m interval:\n\u001b[1;32m---> 77\u001b[0m     \u001b[38;5;28;01mif\u001b[39;00m \u001b[38;5;129;01mnot\u001b[39;00m \u001b[38;5;28;43mself\u001b[39;49m\u001b[38;5;241;43m.\u001b[39;49m\u001b[43mreadBlock\u001b[49m\u001b[43m(\u001b[49m\u001b[43m)\u001b[49m:\n\u001b[0;32m     78\u001b[0m         \u001b[38;5;28mprint\u001b[39m(\u001b[38;5;124m\"\u001b[39m\u001b[38;5;124mBad Block Read\u001b[39m\u001b[38;5;124m\"\u001b[39m)\n\u001b[0;32m     79\u001b[0m         \u001b[38;5;28;01mbreak\u001b[39;00m\n",
      "File \u001b[1;32mC:\\/Users//jony//Programming//Python//Anubis//anubis//Osiris//processing//python\\rawFileReader.py:226\u001b[0m, in \u001b[0;36mfileReader.readBlock\u001b[1;34m(self, p)\u001b[0m\n\u001b[0;32m    224\u001b[0m \u001b[38;5;28mself\u001b[39m\u001b[38;5;241m.\u001b[39mbytesRead \u001b[38;5;241m=\u001b[39m \u001b[38;5;28mself\u001b[39m\u001b[38;5;241m.\u001b[39mbytesRead\u001b[38;5;241m+\u001b[39m\u001b[38;5;28mself\u001b[39m\u001b[38;5;241m.\u001b[39mwordSize\u001b[38;5;241m*\u001b[39m(nWords\u001b[38;5;241m+\u001b[39m\u001b[38;5;241m3\u001b[39m)\n\u001b[0;32m    225\u001b[0m \u001b[38;5;28;01mif\u001b[39;00m thisTDC \u001b[38;5;241m<\u001b[39m \u001b[38;5;241m5\u001b[39m:\n\u001b[1;32m--> 226\u001b[0m     \u001b[38;5;28;43mself\u001b[39;49m\u001b[38;5;241;43m.\u001b[39;49m\u001b[43mevtBuilder\u001b[49m\u001b[38;5;241;43m.\u001b[39;49m\u001b[43maddTDCRead\u001b[49m\u001b[43m(\u001b[49m\u001b[43mthisTDC\u001b[49m\u001b[43m,\u001b[49m\u001b[43m \u001b[49m\u001b[43mthisTime\u001b[49m\u001b[43m,\u001b[49m\u001b[43m \u001b[49m\u001b[43mtdcReadData\u001b[49m\u001b[43m,\u001b[49m\u001b[43m \u001b[49m\u001b[43mp\u001b[49m\u001b[43m)\u001b[49m\n\u001b[0;32m    227\u001b[0m \u001b[38;5;28;01mreturn\u001b[39;00m \u001b[38;5;28;01mTrue\u001b[39;00m\n",
      "File \u001b[1;32mC:\\/Users//jony//Programming//Python//Anubis//anubis//Osiris//processing//python\\rawEventBuilder.py:46\u001b[0m, in \u001b[0;36meventBuilder.addTDCRead\u001b[1;34m(self, thisTDC, thisTime, tdcReadData, p)\u001b[0m\n\u001b[0;32m     44\u001b[0m \u001b[38;5;28;01mif\u001b[39;00m p: \u001b[38;5;66;03m#and thisTDC!=5:\u001b[39;00m\n\u001b[0;32m     45\u001b[0m     \u001b[38;5;28mprint\u001b[39m(\u001b[38;5;124m\"\u001b[39m\u001b[38;5;124mTDC\u001b[39m\u001b[38;5;124m\"\u001b[39m,thisTDC,\u001b[38;5;28mhex\u001b[39m(thisWord), (thisWord\u001b[38;5;241m>>\u001b[39m\u001b[38;5;241m24\u001b[39m)\u001b[38;5;241m&\u001b[39m\u001b[38;5;241m0x7f\u001b[39m, thisWord\u001b[38;5;241m&\u001b[39m\u001b[38;5;241m0xfffff\u001b[39m)\n\u001b[1;32m---> 46\u001b[0m wordType \u001b[38;5;241m=\u001b[39m \u001b[38;5;28;43mself\u001b[39;49m\u001b[38;5;241;43m.\u001b[39;49m\u001b[43mgetWordType\u001b[49m\u001b[43m(\u001b[49m\u001b[43mthisWord\u001b[49m\u001b[43m)\u001b[49m\n\u001b[0;32m     47\u001b[0m \u001b[38;5;28;01mif\u001b[39;00m thisTDC\u001b[38;5;241m==\u001b[39m\u001b[38;5;241m5\u001b[39m:\n\u001b[0;32m     48\u001b[0m     thisRead\u001b[38;5;241m.\u001b[39mappend(thisWord)\n",
      "File \u001b[1;32mC:\\/Users//jony//Programming//Python//Anubis//anubis//Osiris//processing//python\\rawEventBuilder.py:179\u001b[0m, in \u001b[0;36meventBuilder.getWordType\u001b[1;34m(self, word)\u001b[0m\n\u001b[0;32m    177\u001b[0m     \u001b[38;5;28;01melse\u001b[39;00m:\n\u001b[0;32m    178\u001b[0m         \u001b[38;5;28;01mreturn\u001b[39;00m \u001b[38;5;28mself\u001b[39m\u001b[38;5;241m.\u001b[39mHEADER\n\u001b[1;32m--> 179\u001b[0m \u001b[38;5;28;01melif\u001b[39;00m word\u001b[38;5;241m&\u001b[39m\u001b[38;5;28mself\u001b[39m\u001b[38;5;241m.\u001b[39mEOBMask:\n\u001b[0;32m    180\u001b[0m     \u001b[38;5;28;01mreturn\u001b[39;00m \u001b[38;5;28mself\u001b[39m\u001b[38;5;241m.\u001b[39mEOB\n\u001b[0;32m    181\u001b[0m \u001b[38;5;28;01melse\u001b[39;00m:\n",
      "\u001b[1;31mKeyboardInterrupt\u001b[0m: "
     ]
    }
   ],
   "source": [
    "importlib.reload(rawFileReader) # Reload fReader\n",
    "importlib.reload(proAnubis_Analysis_Tools)\n",
    "importlib.reload(ATools)\n",
    "interval = 100 # Set your monitoring chunck size\n",
    "fReader = rawFileReader.fileReader(file_path[0]) # load in the classs object\n",
    "order = [[0,1], [1,2], [2,3], [3,4]] # Order what you want to align\n",
    "max_process_event_chunk = 1000 # End the loop early\n",
    "processedEvents = 0 # Initialisation\n",
    "initial_event_chunk = fReader.get_aligned_events(order=order, interval=interval)\n",
    "TAnalyser = proAnubis_Analysis_Tools.Timing_Analyser(initial_event_chunk,processedEvents)\n",
    "while processedEvents < max_process_event_chunk:\n",
    "    processedEvents += 1\n",
    "    event_chunk = fReader.get_aligned_events(order=order, interval=interval)\n",
    "    if event_chunk:\n",
    "        TAnalyser.update_event(event_chunk, processedEvents)\n",
    "        TAnalyser.readTDCTimeDiffs()\n",
    "        \n",
    "outDict = {'totDiffs':TAnalyser.totDiffs,\n",
    "                    'nDiffs':TAnalyser.nDiffs,\n",
    "                    'diffHists':TAnalyser.diffHists} \n",
    "residEta, residPhi = TAnalyser.Calculate_Residual_and_plot_TDC_Time_Diffs( \n",
    "                                                     pdf_filename='output/TDC_time_diffs.pdf', \n",
    "                                                     max_itr = 5)"
   ]
  },
  {
   "cell_type": "code",
   "execution_count": 13,
   "metadata": {},
   "outputs": [
    {
     "name": "stdout",
     "output_type": "stream",
     "text": [
      "C:\\Users\\jony\\Programming\\Python\\Anubis\\anubis\\data\\proAnubis_240818_1125.raw\n",
      "2024-08-18 10:25:27.234751\n",
      "Bad Block Read\n"
     ]
    },
    {
     "ename": "IndexError",
     "evalue": "list index out of range",
     "output_type": "error",
     "traceback": [
      "\u001b[1;31m---------------------------------------------------------------------------\u001b[0m",
      "\u001b[1;31mIndexError\u001b[0m                                Traceback (most recent call last)",
      "Cell \u001b[1;32mIn[13], line 25\u001b[0m\n\u001b[0;32m     23\u001b[0m \u001b[38;5;28;01mwhile\u001b[39;00m event_time \u001b[38;5;241m<\u001b[39m datetime\u001b[38;5;241m.\u001b[39mstrptime(\u001b[38;5;124m\"\u001b[39m\u001b[38;5;124m2024-08-18 12:18:32\u001b[39m\u001b[38;5;124m\"\u001b[39m, \u001b[38;5;124m'\u001b[39m\u001b[38;5;124m%\u001b[39m\u001b[38;5;124mY-\u001b[39m\u001b[38;5;124m%\u001b[39m\u001b[38;5;124mm-\u001b[39m\u001b[38;5;132;01m%d\u001b[39;00m\u001b[38;5;124m \u001b[39m\u001b[38;5;124m%\u001b[39m\u001b[38;5;124mH:\u001b[39m\u001b[38;5;124m%\u001b[39m\u001b[38;5;124mM:\u001b[39m\u001b[38;5;124m%\u001b[39m\u001b[38;5;124mS\u001b[39m\u001b[38;5;124m'\u001b[39m):\n\u001b[0;32m     24\u001b[0m     fReader\u001b[38;5;241m.\u001b[39mskip_events(\u001b[38;5;241m2_000\u001b[39m)\n\u001b[1;32m---> 25\u001b[0m     initial_event_chunk \u001b[38;5;241m=\u001b[39m \u001b[43mfReader\u001b[49m\u001b[38;5;241;43m.\u001b[39;49m\u001b[43mget_aligned_events\u001b[49m\u001b[43m(\u001b[49m\u001b[43morder\u001b[49m\u001b[38;5;241;43m=\u001b[39;49m\u001b[43morder\u001b[49m\u001b[43m,\u001b[49m\u001b[43m \u001b[49m\u001b[43minterval\u001b[49m\u001b[38;5;241;43m=\u001b[39;49m\u001b[43minterval\u001b[49m\u001b[43m)\u001b[49m\n\u001b[0;32m     26\u001b[0m     \u001b[38;5;28;01mif\u001b[39;00m initial_event_chunk:\n\u001b[0;32m     27\u001b[0m         event_time \u001b[38;5;241m=\u001b[39m \u001b[38;5;28mmax\u001b[39m([initial_event_chunk[\u001b[38;5;241m0\u001b[39m]\u001b[38;5;241m.\u001b[39mtdcEvents[tdc]\u001b[38;5;241m.\u001b[39mtime \u001b[38;5;28;01mfor\u001b[39;00m tdc \u001b[38;5;129;01min\u001b[39;00m \u001b[38;5;28mrange\u001b[39m(\u001b[38;5;241m5\u001b[39m) \u001b[38;5;28;01mif\u001b[39;00m initial_event_chunk[\u001b[38;5;241m0\u001b[39m]\u001b[38;5;241m.\u001b[39mtdcEvents[tdc]\u001b[38;5;241m.\u001b[39mtime])\n",
      "File \u001b[1;32mC:\\/Users//jony//Programming//Python//Anubis//anubis//Osiris//processing//python\\rawFileReader.py:77\u001b[0m, in \u001b[0;36mfileReader.get_aligned_events\u001b[1;34m(self, order, interval, extract_tdc_mets)\u001b[0m\n\u001b[0;32m     75\u001b[0m i \u001b[38;5;241m=\u001b[39m \u001b[38;5;241m0\u001b[39m\n\u001b[0;32m     76\u001b[0m \u001b[38;5;28;01mwhile\u001b[39;00m i \u001b[38;5;241m<\u001b[39m interval:\n\u001b[1;32m---> 77\u001b[0m     \u001b[38;5;28;01mif\u001b[39;00m \u001b[38;5;129;01mnot\u001b[39;00m \u001b[38;5;28;43mself\u001b[39;49m\u001b[38;5;241;43m.\u001b[39;49m\u001b[43mreadBlock\u001b[49m\u001b[43m(\u001b[49m\u001b[43m)\u001b[49m:\n\u001b[0;32m     78\u001b[0m         \u001b[38;5;28mprint\u001b[39m(\u001b[38;5;124m\"\u001b[39m\u001b[38;5;124mBad Block Read\u001b[39m\u001b[38;5;124m\"\u001b[39m)\n\u001b[0;32m     79\u001b[0m         \u001b[38;5;28;01mbreak\u001b[39;00m\n",
      "File \u001b[1;32mC:\\/Users//jony//Programming//Python//Anubis//anubis//Osiris//processing//python\\rawFileReader.py:208\u001b[0m, in \u001b[0;36mfileReader.readBlock\u001b[1;34m(self, p)\u001b[0m\n\u001b[0;32m    206\u001b[0m \u001b[38;5;28;01mdef\u001b[39;00m \u001b[38;5;21mreadBlock\u001b[39m(\u001b[38;5;28mself\u001b[39m,p\u001b[38;5;241m=\u001b[39m\u001b[38;5;28;01mFalse\u001b[39;00m):\n\u001b[0;32m    207\u001b[0m    tsDat \u001b[38;5;241m=\u001b[39m \u001b[38;5;28mself\u001b[39m\u001b[38;5;241m.\u001b[39mdata\u001b[38;5;241m.\u001b[39mread(\u001b[38;5;241m2\u001b[39m\u001b[38;5;241m*\u001b[39m\u001b[38;5;28mself\u001b[39m\u001b[38;5;241m.\u001b[39mwordSize)\n\u001b[1;32m--> 208\u001b[0m    thisTime \u001b[38;5;241m=\u001b[39m \u001b[43mreadTimeStamp\u001b[49m\u001b[43m(\u001b[49m\u001b[43mtsDat\u001b[49m\u001b[43m)\u001b[49m\n\u001b[0;32m    209\u001b[0m    headDat \u001b[38;5;241m=\u001b[39m \u001b[38;5;28mself\u001b[39m\u001b[38;5;241m.\u001b[39mdata\u001b[38;5;241m.\u001b[39mread(\u001b[38;5;28mself\u001b[39m\u001b[38;5;241m.\u001b[39mwordSize)\n\u001b[0;32m    210\u001b[0m    headWord \u001b[38;5;241m=\u001b[39m \u001b[38;5;241m0\u001b[39m\n",
      "File \u001b[1;32mC:\\/Users//jony//Programming//Python//Anubis//anubis//Osiris//processing//python\\rawFileReader.py:15\u001b[0m, in \u001b[0;36mreadTimeStamp\u001b[1;34m(tsData)\u001b[0m\n\u001b[0;32m     13\u001b[0m \u001b[38;5;28;01mfor\u001b[39;00m tsWord \u001b[38;5;129;01min\u001b[39;00m ts:\n\u001b[0;32m     14\u001b[0m     tStamp\u001b[38;5;241m.\u001b[39mappend(tsWord[\u001b[38;5;241m0\u001b[39m]) \n\u001b[1;32m---> 15\u001b[0m \u001b[38;5;28;01mreturn\u001b[39;00m datetime\u001b[38;5;241m.\u001b[39mdatetime\u001b[38;5;241m.\u001b[39mfromtimestamp(\u001b[43mtStamp\u001b[49m\u001b[43m[\u001b[49m\u001b[38;5;241;43m0\u001b[39;49m\u001b[43m]\u001b[49m\u001b[38;5;241m+\u001b[39mtStamp[\u001b[38;5;241m1\u001b[39m]\u001b[38;5;241m/\u001b[39m\u001b[38;5;241m1000000000\u001b[39m)\n",
      "\u001b[1;31mIndexError\u001b[0m: list index out of range"
     ]
    }
   ],
   "source": [
    "importlib.reload(rawFileReader) # Reload fReader\n",
    "importlib.reload(proAnubis_Analysis_Tools)\n",
    "importlib.reload(ATools)\n",
    "importlib.reload(RTools)\n",
    "import pandas as pd\n",
    "interval = 100 # Set your monitoring chunck size\n",
    "file_path  = [\"C:\\\\Users\\\\jony\\\\Programming\\\\Python\\\\Anubis\\\\anubis\\\\data\\\\proAnubis_240818_1325.raw\"]\n",
    "fReader = rawFileReader.fileReader(file_path[0]) # load in the classs object\n",
    "print(file_path[0])\n",
    "order = [[0,1], [1,2], [2,3], [3,4]] # Order what you want to align\n",
    "max_process_event_chunk = 1_0000000000 # End the loop early\n",
    "processedEvents = 0 # Initialisation\n",
    "\n",
    "hv_file = 'hvScan.csv'  # Replace with your file path\n",
    "hv_data = pd.read_csv(hv_file)\n",
    "\n",
    "date = \"2024-08-18\"\n",
    "measurement = 0\n",
    "\n",
    "initial_event_chunk = fReader.get_aligned_events(order=order, interval=interval)\n",
    "event_time = max([initial_event_chunk[0].tdcEvents[tdc].time for tdc in range(5) if initial_event_chunk[0].tdcEvents[tdc].time])\n",
    "print(event_time)\n",
    "i = 0\n",
    "while event_time < datetime.strptime(\"2024-08-18 12:18:32\", '%Y-%m-%d %H:%M:%S'):\n",
    "    fReader.skip_events(2_000)\n",
    "    i += 1\n",
    "    initial_event_chunk = fReader.get_aligned_events(order=order, interval=interval)\n",
    "    if initial_event_chunk:\n",
    "        event_time = max([initial_event_chunk[0].tdcEvents[tdc].time for tdc in range(5) if initial_event_chunk[0].tdcEvents[tdc].time])\n",
    "        if i % 1000 == 0:\n",
    "            print(event_time)\n",
    "print(event_time)    \n",
    "\n",
    "reconstructor = proAnubis_Analysis_Tools.Reconstructor(initial_event_chunk, processedEvents)\n",
    "\n",
    "# Load the CSV file\n",
    "\n",
    "# Display the first few rows of the dataframe\n",
    "historgrams = [[] for section in range(len(hv_data))]\n",
    "with tqdm(total=max_process_event_chunk, desc=\"Processing Events\", unit='Events') as pbar:\n",
    "    while processedEvents < max_process_event_chunk:\n",
    "        processedEvents += 1\n",
    "        try:\n",
    "            event_chunk = fReader.get_aligned_events(order=order, interval=interval)\n",
    "        except:\n",
    "            print(f'Error at event chunk {processedEvents}')\n",
    "            continue\n",
    "        #Zone of Reconstruction\n",
    "        if event_chunk:\n",
    "            # We need to update the event like TAnalyser as well\n",
    "            event_time = max([event_chunk[0].tdcEvents[tdc].time for tdc in range(5) if event_chunk[0].tdcEvents[tdc].time])\n",
    "            if event_time <  datetime.strptime(date+\" \"+hv_data[\"start\"][0], '%Y-%m-%d %H:%M:%S'): \n",
    "                print(\"Happened\")       \n",
    "                continue\n",
    "            elif datetime.strptime(date+\" \"+hv_data[\"start\"][measurement], '%Y-%m-%d %H:%M:%S') < event_time < datetime.strptime(date+\" \"+hv_data[\"end\"][measurement], '%Y-%m-%d %H:%M:%S'):\n",
    "                reconstructor.update_event(event_chunk, processedEvents)\n",
    "                reconstructor.populate_hits()\n",
    "                clusters = reconstructor.make_cluster()\n",
    "                for evt in clusters:\n",
    "                    for rpc in range(6):\n",
    "                        if len(evt[2][rpc][0]):\n",
    "                            historgrams[measurement].append(len(evt[2][rpc][0]))\n",
    "                        if len(evt[2][rpc][1]):\n",
    "                            historgrams[measurement].append(len(evt[2][rpc][1]))\n",
    "                    \n",
    "            elif event_time > datetime.strptime(date+\" \"+hv_data.iloc[-1][\"end\"], '%Y-%m-%d %H:%M:%S'):\n",
    "                break \n",
    "            elif event_time > datetime.strptime(date+\" \"+hv_data[\"end\"][measurement], '%Y-%m-%d %H:%M:%S'):\n",
    "                measurement += 1\n",
    "                total_clusters = 0\n",
    "                num_clusters = 0\n",
    "                print(f\"Measurement {measurement} started\")\n",
    "                print(event_time)\n",
    "                reconstructor.update_event(event_chunk, processedEvents)\n",
    "                reconstructor.populate_hits()\n",
    "                clusters = reconstructor.make_cluster()\n",
    "                for evt in clusters:\n",
    "                    for rpc in range(6):\n",
    "                        if len(evt[2][rpc][0]):\n",
    "                            historgrams[measurement].append(len(evt[2][rpc][0]))\n",
    "                        if len(evt[2][rpc][1]):\n",
    "                            historgrams[measurement].append(len(evt[2][rpc][1]))\n",
    "\n",
    "        pbar.update(1)\n",
    "print(event_time)"
   ]
  },
  {
   "cell_type": "code",
   "execution_count": 6,
   "metadata": {},
   "outputs": [],
   "source": [
    "import csv\n",
    "\n",
    "with open(\"historgrams1.csv\", \"w\", newline=\"\") as file:\n",
    "    writer = csv.writer(file)\n",
    "    writer.writerows(historgrams)"
   ]
  },
  {
   "cell_type": "code",
   "execution_count": 9,
   "metadata": {},
   "outputs": [],
   "source": [
    "import matplotlib.pyplot as plt\n",
    "import numpy as np\n",
    "historgrams = np.array(historgrams, dtype=object)\n",
    "#print(historgrams[0][:20])\n",
    "avg = [np.mean(h) for h in historgrams]\n",
    "#print(avg)\n",
    "errors = np.array([np.std(h) for h in historgrams])/np.array([np.sqrt(len(row)) for row in historgrams])\n",
    "plt.plot(hv_data[\"voltage\"], avg)\n",
    "plt.errorbar(hv_data[\"voltage\"], avg, yerr=errors, fmt=\"o\", color=\"r\")\n",
    "\n",
    "plt.xlabel(\"Voltage\")\n",
    "plt.ylabel(\"Average Cluster Size\")\n",
    "plt.title(f\"Cluster size - singlet\")\n",
    "plt.show()\n"
   ]
  },
  {
   "cell_type": "code",
   "execution_count": null,
   "metadata": {},
   "outputs": [],
   "source": []
  },
  {
   "cell_type": "code",
   "execution_count": 11,
   "metadata": {},
   "outputs": [],
   "source": [
    "# plot historgam\n",
    "import matplotlib.pyplot as plt\n",
    "import numpy as np\n",
    "lower = 9\n",
    "middle = 15\n",
    "upper = len(hv_data)-1\n",
    "counts, bins = np.histogram(historgrams[lower], bins=range(min(historgrams[lower])-1, max(historgrams[lower]) + 2), density=True)\n",
    "plt.step(bins[:-1], counts, where='mid', label=f\"Voltage {hv_data['voltage'][lower]}\")\n",
    "\n",
    "counts, bins = np.histogram(historgrams[middle], bins=range(min(historgrams[middle])-1, max(historgrams[middle]) + 2), density=True)\n",
    "plt.step(bins[:-1], counts, where='mid', label=f\"Voltage {hv_data['voltage'][middle]}\")\n",
    "\n",
    "counts, bins = np.histogram(historgrams[-1], bins=range(min(historgrams[-1])-1, max(historgrams[-1]) + 2), density=True)\n",
    "plt.step(bins[:-1], counts, where='mid', label=f\"Voltage {hv_data['voltage'][len(hv_data)-1]}\")\n",
    "\n",
    "# Adding titles and labels\n",
    "plt.title('Cluster size distribution - singlet')\n",
    "plt.xlabel('Value')\n",
    "plt.yscale('log')\n",
    "plt.ylabel('Frequency')\n",
    "plt.legend()\n",
    "# Show the plot\n",
    "plt.show()"
   ]
  }
 ],
 "metadata": {
  "kernelspec": {
   "display_name": ".venv",
   "language": "python",
   "name": "python3"
  },
  "language_info": {
   "codemirror_mode": {
    "name": "ipython",
    "version": 3
   },
   "file_extension": ".py",
   "mimetype": "text/x-python",
   "name": "python",
   "nbconvert_exporter": "python",
   "pygments_lexer": "ipython3",
   "version": "3.10.4"
  }
 },
 "nbformat": 4,
 "nbformat_minor": 2
}
