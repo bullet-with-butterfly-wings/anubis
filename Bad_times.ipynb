{
 "cells": [
  {
   "cell_type": "code",
   "execution_count": 1,
   "metadata": {},
   "outputs": [],
   "source": [
    "import importlib\n",
    "import sys\n",
    "from tqdm import tqdm\n",
    "import  os\n",
    "import glob\n",
    "# Add the directories to the sys.path\n",
    "dir_path = \"C://Users//jony//Programming//Python//Anubis//anubis//\" # insert your directory path\n",
    "sys.path.append(dir_path + \"Osiris//processing//python\")\n",
    "sys.path.append(dir_path + \"tools\")\n",
    "\n",
    "import Analysis_tools as ATools\n",
    "import proAnubis_Analysis_Tools\n",
    "import Reconstruction_tools as RTools\n",
    "import mplhep as hep\n",
    "import Timing_tools as TTools\n",
    "import rawFileReader\n",
    "hep.style.use([hep.style.ATLAS])\n",
    "\n",
    "# Specify the directory\n",
    "data_list = sorted([f for f in os.listdir(\"data\") if os.path.isfile(os.path.join(\"data\", f))], reverse=True) ##all files in data directory sorted from the newest to the oldest\n",
    "\n",
    "file_path = list(map(lambda p: dir_path+\"//data//\"+p, data_list)) # insert your file"
   ]
  },
  {
   "cell_type": "code",
   "execution_count": null,
   "metadata": {},
   "outputs": [],
   "source": [
    "importlib.reload(rawFileReader) # Reload fReader\n",
    "importlib.reload(proAnubis_Analysis_Tools)\n",
    "importlib.reload(ATools)\n",
    "interval = 100 # Set your monitoring chunck size\n",
    "fReader = rawFileReader.fileReader(file_path[0]) # reload in the classs object\n",
    "#fReader.skip_events(4000000) # Skip the first 1000 events\n",
    "order = [(0,1), (1,2), (2,3), (3,4)] # Order what you want to align\n",
    "max_process_event_chunk = 1000 # End the loop early\n",
    "processedEvents = 0 # Initialisation\n",
    "\n",
    "#Initialise variables to store the results\n",
    "mets = [[] for tdc in range(5)]\n",
    "empty_header = 0 # Counting the number of empty headers\n",
    "emtpy_events_with_header = [[], []] # prepare two lists of same dimensions for line graph plotting\n",
    "tdc_event_count = [[] for tdc in range(5)]# prepare for histogram plotting\n",
    "\n",
    "\n",
    "with tqdm(total=max_process_event_chunk, desc=\"Processing Events\", unit='Events') as pbar:\n",
    "    while processedEvents < max_process_event_chunk:\n",
    "        processedEvents += 1\n",
    "        event_chunk = fReader.get_aligned_events(order=order, interval=interval) # get the aligned events\n",
    "        tdc_event_count_buffer = RTools.find_tdc_event_count(event_chunk) # finding the number of headers\n",
    "        [tdc_event_count[i].append(tdc_event_count_buffer[i]) for i in range(5)] # write from buffer to memory\n",
    "        for idx, (i, j) in enumerate(order):\n",
    "            x, y, l, m = ATools.find_tdc_alignment_metric(i, j) # determining which RPCs to use for aignment metric\n",
    "            alignMet = ATools.calcAvgAlign(event_chunk, 0, x, y, l, m, i, j, processedEvents) # determine the alignment metric\n",
    "            #empty_header += (alignMet == -1) # Calculating the number of empty headers\n",
    "            #emtpy_events_with_header[0].append(empty_header) # write to memory\n",
    "            #emtpy_events_with_header[1].append(processedEvents)\n",
    "            mets[idx].append(alignMet) # write to memory\n",
    "        pbar.update(1)\n",
    "    "
   ]
  }
 ],
 "metadata": {
  "kernelspec": {
   "display_name": ".venv",
   "language": "python",
   "name": "python3"
  },
  "language_info": {
   "codemirror_mode": {
    "name": "ipython",
    "version": 3
   },
   "file_extension": ".py",
   "mimetype": "text/x-python",
   "name": "python",
   "nbconvert_exporter": "python",
   "pygments_lexer": "ipython3",
   "version": "3.10.4"
  }
 },
 "nbformat": 4,
 "nbformat_minor": 2
}
