{
 "cells": [
  {
   "cell_type": "code",
   "execution_count": null,
   "metadata": {},
   "outputs": [],
   "source": [
    "!pip install numpy hist matplotlib mplhep pandas plotly scipy tqdm"
   ]
  },
  {
   "cell_type": "code",
   "execution_count": 5,
   "metadata": {},
   "outputs": [
    {
     "name": "stdout",
     "output_type": "stream",
     "text": [
      "['C://Users//jony//Programming//Python//Anubis//anubis////data//proAnubis_240731_0017.raw', 'C://Users//jony//Programming//Python//Anubis//anubis////data//proAnubis_240716_2142.raw']\n"
     ]
    }
   ],
   "source": [
    "import importlib\n",
    "import sys\n",
    "from tqdm import tqdm\n",
    "import  os\n",
    "import glob\n",
    "from datetime import datetime\n",
    "import matplotlib.pyplot as plt\n",
    "# Add the directories to the sys.path\n",
    "dir_path = \"C://Users//jony//Programming//Python//Anubis//anubis//\" # insert your directory path\n",
    "sys.path.append(dir_path + \"Osiris//processing//python\")\n",
    "sys.path.append(dir_path + \"tools\")\n",
    "\n",
    "import Analysis_tools as ATools\n",
    "import proAnubis_Analysis_Tools\n",
    "import Reconstruction_tools as RTools\n",
    "import mplhep as hep\n",
    "import Timing_tools as TTools\n",
    "import rawFileReader\n",
    "hep.style.use([hep.style.ATLAS])\n",
    "\n",
    "# Specify the directory\n",
    "data_list = sorted([f for f in os.listdir(\"data\") if os.path.isfile(os.path.join(\"data\", f))], reverse=True) ##all files in data directory sorted from the newest to the oldest\n",
    "\n",
    "file_path = list(map(lambda p: dir_path+\"//data//\"+p, data_list))[-2:] #\n",
    "print(file_path)"
   ]
  },
  {
   "cell_type": "code",
   "execution_count": 6,
   "metadata": {},
   "outputs": [],
   "source": [
    "\n",
    "def plot_alignment(mets, order, max_process_event_chunk, file_name):\n",
    "    fig, ax = plt.subplots(figsize=(10, 8))\n",
    "\n",
    "    for idx, item in enumerate(order):\n",
    "        met = mets[idx]\n",
    "        i, j = item\n",
    "        binsx = [x for x in range(len(met))]\n",
    "        ax.plot(binsx, met, label=f'TDC{i} and TDC{j}, offset 0')\n",
    "    ax.set_xlim(0, max_process_event_chunk)\n",
    "    ax.set_ylim(-1, 40)\n",
    "    ax.legend()\n",
    "    ax.set_title(f'Alignment graph {file_name}')\n",
    "    ax.set_ylabel('Average $\\sqrt{d\\eta^2+d\\phi^2}$')\n",
    "    ax.set_xlabel('Processed Event chunks')\n",
    "    plt.savefig(f\"output//transition//alignment_{file_name}.png\")\n",
    "\n",
    "def plot_bvg(tdc_mets, max_process_event_chunk, file_name):\n",
    "    colors = ['blue', 'green', 'red', 'purple', 'orange']\n",
    "    fig, ax = plt.subplots(figsize=(10, 8))\n",
    "    for tdc in range(5):\n",
    "        met = tdc_mets[tdc]\n",
    "        binsx = [x*26.5 for x in range(len(met))]\n",
    "        ax.plot(binsx,met, label = f'tdc {tdc}', color = colors[tdc])\n",
    "\n",
    "    ax.set_xlim(0,max_process_event_chunk)\n",
    "    ax.legend()\n",
    "    ax.set_title(f'TDC monitoring metric {file_name}')\n",
    "    ax.set_ylabel('bad time behavior / nominal time behavior')\n",
    "    ax.set_xlabel('processed event chunks')\n",
    "    plt.savefig(f\"output//transition//tdc_monitoring{file_name}.png\")\n",
    "    plt.close()\n"
   ]
  },
  {
   "cell_type": "code",
   "execution_count": 7,
   "metadata": {},
   "outputs": [
    {
     "name": "stderr",
     "output_type": "stream",
     "text": [
      "Processing Events proAnubis_240731_0017:  81%|████████▏ | 40736/50000 [08:19<01:53, 81.63Events/s] \n"
     ]
    },
    {
     "name": "stdout",
     "output_type": "stream",
     "text": [
      "0\n"
     ]
    },
    {
     "ename": "TypeError",
     "evalue": "unsupported operand type(s) for -: 'int' and 'datetime.datetime'",
     "output_type": "error",
     "traceback": [
      "\u001b[1;31m---------------------------------------------------------------------------\u001b[0m",
      "\u001b[1;31mTypeError\u001b[0m                                 Traceback (most recent call last)",
      "Cell \u001b[1;32mIn[7], line 40\u001b[0m\n\u001b[0;32m     38\u001b[0m \u001b[38;5;28;01mif\u001b[39;00m alignMet \u001b[38;5;241m>\u001b[39m \u001b[38;5;241m40\u001b[39m \u001b[38;5;129;01mand\u001b[39;00m firstNoise:\n\u001b[0;32m     39\u001b[0m     \u001b[38;5;28mprint\u001b[39m(event_chunk[\u001b[38;5;241m0\u001b[39m]\u001b[38;5;241m.\u001b[39mtdcEvents[\u001b[38;5;241m0\u001b[39m]\u001b[38;5;241m.\u001b[39mtime)\n\u001b[1;32m---> 40\u001b[0m     startTime \u001b[38;5;241m=\u001b[39m  \u001b[43mevent_chunk\u001b[49m\u001b[43m[\u001b[49m\u001b[38;5;241;43m0\u001b[39;49m\u001b[43m]\u001b[49m\u001b[38;5;241;43m.\u001b[39;49m\u001b[43mtdcEvents\u001b[49m\u001b[43m[\u001b[49m\u001b[38;5;241;43m0\u001b[39;49m\u001b[43m]\u001b[49m\u001b[38;5;241;43m.\u001b[39;49m\u001b[43mtime\u001b[49m\u001b[43m \u001b[49m\u001b[38;5;241;43m-\u001b[39;49m\u001b[43m \u001b[49m\u001b[43moriginTime\u001b[49m\n\u001b[0;32m     41\u001b[0m     \u001b[38;5;28mprint\u001b[39m(startTime)\n\u001b[0;32m     42\u001b[0m     noiseStart \u001b[38;5;241m=\u001b[39m processedEvents\u001b[38;5;241m*\u001b[39minterval\n",
      "\u001b[1;31mTypeError\u001b[0m: unsupported operand type(s) for -: 'int' and 'datetime.datetime'"
     ]
    }
   ],
   "source": [
    "importlib.reload(rawFileReader) # Reload fReader\n",
    "importlib.reload(proAnubis_Analysis_Tools)\n",
    "importlib.reload(ATools)\n",
    "import matplotlib.pyplot as plt\n",
    "\n",
    "interval = 100 # Set your monitoring chunck size\n",
    "order = [[0,1], [1,2], [2,3], [3,4]] # Order what you want to align\n",
    "max_process_event_chunk = 50_000 # End the loop early\n",
    "    \n",
    "for file in file_path:\n",
    "    fReader = rawFileReader.fileReader(file) # load in the classs object\n",
    "    processedEvents = 0 # Initialisation\n",
    "    noiseStart = 0\n",
    "    firstNoise = True\n",
    "    initial_event_chunk = fReader.get_aligned_events(order=order, interval=interval)\n",
    "    originTime = initial_event_chunk[0].tdcEvents[0].time\n",
    "    mets = [[] for tdc in range(5)]\n",
    "    file_name = file.split(\"//\")[-1][:-4]\n",
    "    tdc_mets = [[] for tdc in range(5)]\n",
    "    Tot_TDC_info = [[] for tdc in range(5)]\n",
    "\n",
    "    with tqdm(total=max_process_event_chunk, desc=f\"Processing Events {file_name}\", unit='Events') as pbar:\n",
    "        while processedEvents < max_process_event_chunk:\n",
    "            processedEvents += 1\n",
    "            try:\n",
    "                event_chunk, tdc_met, TDC_info = fReader.get_aligned_events(order=order, interval=interval, extract_tdc_mets = True) # get the aligned events\n",
    "            except Exception as e:\n",
    "                print(e)\n",
    "                break\n",
    "            [tdc_mets[i].append(tdc_met[i]) for i in range(5) if tdc_met[i] != 0]\n",
    "            [Tot_TDC_info[i].extend(TDC_info[i]) for i in range(5) if TDC_info[i]]\n",
    "        \n",
    "            for idx, (i, j) in enumerate(order):\n",
    "                x, y, l, m = ATools.find_tdc_alignment_metric(i, j) # determining which RPCs to use for aignment metric\n",
    "                alignMet = ATools.calcAvgAlign(event_chunk, 0, x, y, l, m, i, j, processedEvents) # determine the alignment metric\n",
    "                \n",
    "                mets[idx].append(alignMet) # write to memory\n",
    "                if alignMet > 40 and firstNoise:\n",
    "                    for tdc in range(5):\n",
    "                        if event_chunk[0].tdcEvents[tdc].time != 0:\n",
    "                            noiseTime = event_chunk[0].tdcEvents[tdc].time\n",
    "                            break\n",
    "                    if noiseTime == 0:\n",
    "                        print(\"No hits in the event???\")\n",
    "                    startTime =  noiseTime - originTime\n",
    "                    print(startTime)\n",
    "                    noiseStart = processedEvents*interval\n",
    "                    firstNoise = False\n",
    "            pbar.update(1)\n",
    "    \n",
    "    #plot_alignment(mets, order, max_process_event_chunk, file_name)\n",
    "    #plot_bvg(tdc_mets, max_process_event_chunk, file_name)\n",
    "    print(noiseStart)\n",
    "    TTools.plot_tdc_error_times_custom_ranges(Tot_TDC_info, [(0, noiseStart), (noiseStart, max_process_event_chunk*interval)], output_pdf=f'output//transition//Time_Hit_{file_name}.pdf')\n",
    "    TTools.plot_tdc_error_channels_custom_ranges(Tot_TDC_info, [(0, noiseStart), (noiseStart, max_process_event_chunk*interval)], tdcs_to_plot=None, output_pdf=f'output//transition//TDC_channel_{file_name}.pdf')\n"
   ]
  },
  {
   "cell_type": "code",
   "execution_count": 36,
   "metadata": {},
   "outputs": [],
   "source": [
    "TTools.plot_tdc_error_times_custom_ranges(Tot_TDC_info, [(0, noiseStart), (noiseStart, max_process_event_chunk*interval)], output_pdf=f'output//transition//Time_Hit_{file_name}.pdf')"
   ]
  },
  {
   "cell_type": "code",
   "execution_count": 12,
   "metadata": {},
   "outputs": [],
   "source": [
    "\n",
    "fig, ax = plt.subplots(figsize=(10, 8))\n",
    "\n",
    "for idx, item in enumerate(order):\n",
    "    met = mets[idx]\n",
    "    i, j = item\n",
    "    binsx = [x for x in range(len(met))]\n",
    "    ax.plot(binsx, met, label=f'TDC{i} and TDC{j}, offset 0')\n",
    "ax.set_xlim(0, max_process_event_chunk)\n",
    "ax.set_ylim(-1, 40)\n",
    "ax.legend()\n",
    "\n",
    "ax.set_title(f'Alignment graph {file_name}')\n",
    "ax.set_ylabel('Average $\\sqrt{d\\eta^2+d\\phi^2}$')\n",
    "ax.set_xlabel('Processed Event chunks')\n",
    "plt.savefig(f\"output//transition//alignment_graph{file_name}.png\")\n",
    "\n",
    "colors = ['blue', 'green', 'red', 'purple', 'orange']\n",
    "fig, ax = plt.subplots(figsize=(10, 8))\n",
    "for tdc in range(5):\n",
    "    met = tdc_mets[tdc]\n",
    "    binsx = [x*26.5 for x in range(len(met))]\n",
    "    ax.plot(binsx,met, label = f'tdc {tdc}', color = colors[tdc])\n",
    "\n",
    "ax.set_xlim(0,max_process_event_chunk)\n",
    "ax.legend()\n",
    "ax.set_title(f'TDC monitoring metric {file_name}')\n",
    "ax.set_ylabel('bad time behavior / nominal time behavior')\n",
    "ax.set_xlabel('processed event chunks')\n",
    "plt.savefig(f\"output//transition//tdc_monitoring{file_name}.png\")\n",
    "plt.close()\n",
    "\n",
    "#TTools.plot_tdc_error_channels_custom_ranges(Tot_TDC_info, [(0, noiseStart), (noiseStart, max_process_event_chunk*interval)], tdcs_to_plot=None, output_pdf=f'output//transition//TDC_channel{file_name}.pdf')\n"
   ]
  }
 ],
 "metadata": {
  "kernelspec": {
   "display_name": ".venv",
   "language": "python",
   "name": "python3"
  },
  "language_info": {
   "codemirror_mode": {
    "name": "ipython",
    "version": 3
   },
   "file_extension": ".py",
   "mimetype": "text/x-python",
   "name": "python",
   "nbconvert_exporter": "python",
   "pygments_lexer": "ipython3",
   "version": "3.10.4"
  }
 },
 "nbformat": 4,
 "nbformat_minor": 2
}
