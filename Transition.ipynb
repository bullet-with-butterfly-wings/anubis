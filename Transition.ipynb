{
 "cells": [
  {
   "cell_type": "code",
   "execution_count": null,
   "metadata": {},
   "outputs": [],
   "source": [
    "!pip install numpy hist matplotlib mplhep pandas plotly scipy tqdm"
   ]
  },
  {
   "cell_type": "code",
   "execution_count": 4,
   "metadata": {},
   "outputs": [
    {
     "name": "stdout",
     "output_type": "stream",
     "text": [
      "['C://Users//jony//Programming//Python//Anubis//anubis//data//reset//proAnubis_240811_2240.raw']\n"
     ]
    }
   ],
   "source": [
    "import importlib\n",
    "import sys\n",
    "from tqdm import tqdm\n",
    "import  os\n",
    "import glob\n",
    "from datetime import datetime\n",
    "import matplotlib.pyplot as plt\n",
    "# Add the directories to the sys.path\n",
    "dir_path = \"C://Users//jony//Programming//Python//Anubis//anubis//\" # insert your directory path\n",
    "sys.path.append(dir_path + \"Osiris//processing//python\")\n",
    "sys.path.append(dir_path + \"tools\")\n",
    "\n",
    "import rawEventBuilder\n",
    "import Analysis_tools as ATools\n",
    "import proAnubis_Analysis_Tools\n",
    "import Reconstruction_tools as RTools\n",
    "import mplhep as hep\n",
    "import Timing_tools as TTools\n",
    "import rawFileReader\n",
    "import Visual_tools as VTools\n",
    "hep.style.use([hep.style.ATLAS])\n",
    "\n",
    "# Specify the directory\n",
    "data_list = sorted([f for f in os.listdir(\"data\") if os.path.isfile(os.path.join(\"data\", f))], reverse=True) ##all files in data directory sorted from the newest to the oldest\n",
    "\n",
    "file_path = list(map(lambda p: dir_path+\"//data\"+p, data_list))[:1] #\n",
    "file_path = ['C://Users//jony//Programming//Python//Anubis//anubis//data//reset//proAnubis_240811_2240.raw']\n",
    "print(file_path)"
   ]
  },
  {
   "cell_type": "code",
   "execution_count": 2,
   "metadata": {},
   "outputs": [],
   "source": [
    "\n",
    "def plot_alignment(mets, order, max_process_event_chunk, file_name):\n",
    "    fig, ax = plt.subplots(figsize=(10, 8))\n",
    "\n",
    "    for idx, item in enumerate(order):\n",
    "        met = mets[idx]\n",
    "        i, j = item\n",
    "        binsx = [x for x in range(len(met))]\n",
    "        ax.plot(binsx, met, label=f'TDC{i} and TDC{j}, offset 0')\n",
    "    ax.set_xlim(0, max_process_event_chunk)\n",
    "    ax.set_ylim(-1, 40)\n",
    "    ax.legend()\n",
    "    ax.set_title(f'Alignment graph {file_name}')\n",
    "    ax.set_ylabel('Average $\\sqrt{d\\eta^2+d\\phi^2}$')\n",
    "    ax.set_xlabel('Processed Event chunks')\n",
    "    plt.savefig(f\"output//transition//alignment_{file_name}.png\")\n",
    "\n",
    "def plot_bvg(tdc_mets, max_process_event_chunk, file_name):\n",
    "    colors = ['blue', 'green', 'red', 'purple', 'orange']\n",
    "    fig, ax = plt.subplots(figsize=(10, 8))\n",
    "    for tdc in range(5):\n",
    "        met = tdc_mets[tdc]\n",
    "        binsx = [x*26.5 for x in range(len(met))]\n",
    "        ax.plot(binsx,met, label = f'tdc {tdc}', color = colors[tdc])\n",
    "\n",
    "    ax.set_xlim(0,max_process_event_chunk)\n",
    "    ax.legend()\n",
    "    ax.set_title(f'TDC monitoring metric {file_name}')\n",
    "    ax.set_ylabel('bad time behavior / nominal time behavior')\n",
    "    ax.set_xlabel('processed event chunks')\n",
    "    plt.savefig(f\"output//transition//tdc_monitoring{file_name}.png\")\n",
    "    plt.close()\n"
   ]
  },
  {
   "cell_type": "code",
   "execution_count": 7,
   "metadata": {},
   "outputs": [
    {
     "name": "stderr",
     "output_type": "stream",
     "text": [
      "Processing Events proAnubis_240811_2240:  48%|████▊     | 240418/500000 [3:19:51<3:33:58, 20.22Events/s]   "
     ]
    },
    {
     "name": "stdout",
     "output_type": "stream",
     "text": [
      "1:20:31.075960\n",
      "24041400\n"
     ]
    },
    {
     "name": "stderr",
     "output_type": "stream",
     "text": [
      "Processing Events proAnubis_240811_2240:  65%|██████▌   | 326517/500000 [7:58:03<4:13:59, 11.38Events/s]     \n"
     ]
    },
    {
     "ename": "KeyboardInterrupt",
     "evalue": "",
     "output_type": "error",
     "traceback": [
      "\u001b[1;31m---------------------------------------------------------------------------\u001b[0m",
      "\u001b[1;31mKeyboardInterrupt\u001b[0m                         Traceback (most recent call last)",
      "Cell \u001b[1;32mIn[7], line 70\u001b[0m\n\u001b[0;32m     67\u001b[0m                 \u001b[38;5;28mprint\u001b[39m(noiseStart)\n\u001b[0;32m     68\u001b[0m                 firstNoise \u001b[38;5;241m=\u001b[39m \u001b[38;5;28;01mTrue\u001b[39;00m\n\u001b[1;32m---> 70\u001b[0m         \u001b[43mpbar\u001b[49m\u001b[38;5;241;43m.\u001b[39;49m\u001b[43mupdate\u001b[49m\u001b[43m(\u001b[49m\u001b[38;5;241;43m1\u001b[39;49m\u001b[43m)\u001b[49m\n\u001b[0;32m     72\u001b[0m \u001b[38;5;66;03m#plot_alignment(mets_off, order, max_process_event_chunk, file_name+\"_off\")\u001b[39;00m\n\u001b[0;32m     73\u001b[0m plot_alignment(mets, order, max_process_event_chunk, file_name\u001b[38;5;241m+\u001b[39m\u001b[38;5;124m\"\u001b[39m\u001b[38;5;124mHUGE\u001b[39m\u001b[38;5;124m\"\u001b[39m)\n",
      "File \u001b[1;32mc:\\Users\\jony\\Programming\\Python\\Anubis\\anubis\\.venv\\lib\\site-packages\\tqdm\\std.py:1242\u001b[0m, in \u001b[0;36mtqdm.update\u001b[1;34m(self, n)\u001b[0m\n\u001b[0;32m   1240\u001b[0m     \u001b[38;5;28mself\u001b[39m\u001b[38;5;241m.\u001b[39m_ema_dn(dn)\n\u001b[0;32m   1241\u001b[0m     \u001b[38;5;28mself\u001b[39m\u001b[38;5;241m.\u001b[39m_ema_dt(dt)\n\u001b[1;32m-> 1242\u001b[0m \u001b[38;5;28;43mself\u001b[39;49m\u001b[38;5;241;43m.\u001b[39;49m\u001b[43mrefresh\u001b[49m\u001b[43m(\u001b[49m\u001b[43mlock_args\u001b[49m\u001b[38;5;241;43m=\u001b[39;49m\u001b[38;5;28;43mself\u001b[39;49m\u001b[38;5;241;43m.\u001b[39;49m\u001b[43mlock_args\u001b[49m\u001b[43m)\u001b[49m\n\u001b[0;32m   1243\u001b[0m \u001b[38;5;28;01mif\u001b[39;00m \u001b[38;5;28mself\u001b[39m\u001b[38;5;241m.\u001b[39mdynamic_miniters:\n\u001b[0;32m   1244\u001b[0m     \u001b[38;5;66;03m# If no `miniters` was specified, adjust automatically to the\u001b[39;00m\n\u001b[0;32m   1245\u001b[0m     \u001b[38;5;66;03m# maximum iteration rate seen so far between two prints.\u001b[39;00m\n\u001b[0;32m   1246\u001b[0m     \u001b[38;5;66;03m# e.g.: After running `tqdm.update(5)`, subsequent\u001b[39;00m\n\u001b[0;32m   1247\u001b[0m     \u001b[38;5;66;03m# calls to `tqdm.update()` will only cause an update after\u001b[39;00m\n\u001b[0;32m   1248\u001b[0m     \u001b[38;5;66;03m# at least 5 more iterations.\u001b[39;00m\n\u001b[0;32m   1249\u001b[0m     \u001b[38;5;28;01mif\u001b[39;00m \u001b[38;5;28mself\u001b[39m\u001b[38;5;241m.\u001b[39mmaxinterval \u001b[38;5;129;01mand\u001b[39;00m dt \u001b[38;5;241m>\u001b[39m\u001b[38;5;241m=\u001b[39m \u001b[38;5;28mself\u001b[39m\u001b[38;5;241m.\u001b[39mmaxinterval:\n",
      "File \u001b[1;32mc:\\Users\\jony\\Programming\\Python\\Anubis\\anubis\\.venv\\lib\\site-packages\\tqdm\\std.py:1347\u001b[0m, in \u001b[0;36mtqdm.refresh\u001b[1;34m(self, nolock, lock_args)\u001b[0m\n\u001b[0;32m   1345\u001b[0m     \u001b[38;5;28;01melse\u001b[39;00m:\n\u001b[0;32m   1346\u001b[0m         \u001b[38;5;28mself\u001b[39m\u001b[38;5;241m.\u001b[39m_lock\u001b[38;5;241m.\u001b[39macquire()\n\u001b[1;32m-> 1347\u001b[0m \u001b[38;5;28;43mself\u001b[39;49m\u001b[38;5;241;43m.\u001b[39;49m\u001b[43mdisplay\u001b[49m\u001b[43m(\u001b[49m\u001b[43m)\u001b[49m\n\u001b[0;32m   1348\u001b[0m \u001b[38;5;28;01mif\u001b[39;00m \u001b[38;5;129;01mnot\u001b[39;00m nolock:\n\u001b[0;32m   1349\u001b[0m     \u001b[38;5;28mself\u001b[39m\u001b[38;5;241m.\u001b[39m_lock\u001b[38;5;241m.\u001b[39mrelease()\n",
      "File \u001b[1;32mc:\\Users\\jony\\Programming\\Python\\Anubis\\anubis\\.venv\\lib\\site-packages\\tqdm\\std.py:1495\u001b[0m, in \u001b[0;36mtqdm.display\u001b[1;34m(self, msg, pos)\u001b[0m\n\u001b[0;32m   1493\u001b[0m \u001b[38;5;28;01mif\u001b[39;00m pos:\n\u001b[0;32m   1494\u001b[0m     \u001b[38;5;28mself\u001b[39m\u001b[38;5;241m.\u001b[39mmoveto(pos)\n\u001b[1;32m-> 1495\u001b[0m \u001b[38;5;28;43mself\u001b[39;49m\u001b[38;5;241;43m.\u001b[39;49m\u001b[43msp\u001b[49m\u001b[43m(\u001b[49m\u001b[38;5;28;43mself\u001b[39;49m\u001b[38;5;241;43m.\u001b[39;49m\u001b[38;5;21;43m__str__\u001b[39;49m\u001b[43m(\u001b[49m\u001b[43m)\u001b[49m\u001b[43m \u001b[49m\u001b[38;5;28;43;01mif\u001b[39;49;00m\u001b[43m \u001b[49m\u001b[43mmsg\u001b[49m\u001b[43m \u001b[49m\u001b[38;5;129;43;01mis\u001b[39;49;00m\u001b[43m \u001b[49m\u001b[38;5;28;43;01mNone\u001b[39;49;00m\u001b[43m \u001b[49m\u001b[38;5;28;43;01melse\u001b[39;49;00m\u001b[43m \u001b[49m\u001b[43mmsg\u001b[49m\u001b[43m)\u001b[49m\n\u001b[0;32m   1496\u001b[0m \u001b[38;5;28;01mif\u001b[39;00m pos:\n\u001b[0;32m   1497\u001b[0m     \u001b[38;5;28mself\u001b[39m\u001b[38;5;241m.\u001b[39mmoveto(\u001b[38;5;241m-\u001b[39mpos)\n",
      "File \u001b[1;32mc:\\Users\\jony\\Programming\\Python\\Anubis\\anubis\\.venv\\lib\\site-packages\\tqdm\\std.py:459\u001b[0m, in \u001b[0;36mtqdm.status_printer.<locals>.print_status\u001b[1;34m(s)\u001b[0m\n\u001b[0;32m    457\u001b[0m \u001b[38;5;28;01mdef\u001b[39;00m \u001b[38;5;21mprint_status\u001b[39m(s):\n\u001b[0;32m    458\u001b[0m     len_s \u001b[38;5;241m=\u001b[39m disp_len(s)\n\u001b[1;32m--> 459\u001b[0m     \u001b[43mfp_write\u001b[49m\u001b[43m(\u001b[49m\u001b[38;5;124;43m'\u001b[39;49m\u001b[38;5;130;43;01m\\r\u001b[39;49;00m\u001b[38;5;124;43m'\u001b[39;49m\u001b[43m \u001b[49m\u001b[38;5;241;43m+\u001b[39;49m\u001b[43m \u001b[49m\u001b[43ms\u001b[49m\u001b[43m \u001b[49m\u001b[38;5;241;43m+\u001b[39;49m\u001b[43m \u001b[49m\u001b[43m(\u001b[49m\u001b[38;5;124;43m'\u001b[39;49m\u001b[38;5;124;43m \u001b[39;49m\u001b[38;5;124;43m'\u001b[39;49m\u001b[43m \u001b[49m\u001b[38;5;241;43m*\u001b[39;49m\u001b[43m \u001b[49m\u001b[38;5;28;43mmax\u001b[39;49m\u001b[43m(\u001b[49m\u001b[43mlast_len\u001b[49m\u001b[43m[\u001b[49m\u001b[38;5;241;43m0\u001b[39;49m\u001b[43m]\u001b[49m\u001b[43m \u001b[49m\u001b[38;5;241;43m-\u001b[39;49m\u001b[43m \u001b[49m\u001b[43mlen_s\u001b[49m\u001b[43m,\u001b[49m\u001b[43m \u001b[49m\u001b[38;5;241;43m0\u001b[39;49m\u001b[43m)\u001b[49m\u001b[43m)\u001b[49m\u001b[43m)\u001b[49m\n\u001b[0;32m    460\u001b[0m     last_len[\u001b[38;5;241m0\u001b[39m] \u001b[38;5;241m=\u001b[39m len_s\n",
      "File \u001b[1;32mc:\\Users\\jony\\Programming\\Python\\Anubis\\anubis\\.venv\\lib\\site-packages\\tqdm\\std.py:452\u001b[0m, in \u001b[0;36mtqdm.status_printer.<locals>.fp_write\u001b[1;34m(s)\u001b[0m\n\u001b[0;32m    451\u001b[0m \u001b[38;5;28;01mdef\u001b[39;00m \u001b[38;5;21mfp_write\u001b[39m(s):\n\u001b[1;32m--> 452\u001b[0m     \u001b[43mfp\u001b[49m\u001b[38;5;241;43m.\u001b[39;49m\u001b[43mwrite\u001b[49m\u001b[43m(\u001b[49m\u001b[38;5;28;43mstr\u001b[39;49m\u001b[43m(\u001b[49m\u001b[43ms\u001b[49m\u001b[43m)\u001b[49m\u001b[43m)\u001b[49m\n\u001b[0;32m    453\u001b[0m     fp_flush()\n",
      "File \u001b[1;32mc:\\Users\\jony\\Programming\\Python\\Anubis\\anubis\\.venv\\lib\\site-packages\\tqdm\\utils.py:196\u001b[0m, in \u001b[0;36mDisableOnWriteError.disable_on_exception.<locals>.inner\u001b[1;34m(*args, **kwargs)\u001b[0m\n\u001b[0;32m    194\u001b[0m \u001b[38;5;28;01mdef\u001b[39;00m \u001b[38;5;21minner\u001b[39m(\u001b[38;5;241m*\u001b[39margs, \u001b[38;5;241m*\u001b[39m\u001b[38;5;241m*\u001b[39mkwargs):\n\u001b[0;32m    195\u001b[0m     \u001b[38;5;28;01mtry\u001b[39;00m:\n\u001b[1;32m--> 196\u001b[0m         \u001b[38;5;28;01mreturn\u001b[39;00m func(\u001b[38;5;241m*\u001b[39margs, \u001b[38;5;241m*\u001b[39m\u001b[38;5;241m*\u001b[39mkwargs)\n\u001b[0;32m    197\u001b[0m     \u001b[38;5;28;01mexcept\u001b[39;00m \u001b[38;5;167;01mOSError\u001b[39;00m \u001b[38;5;28;01mas\u001b[39;00m e:\n\u001b[0;32m    198\u001b[0m         \u001b[38;5;28;01mif\u001b[39;00m e\u001b[38;5;241m.\u001b[39merrno \u001b[38;5;241m!=\u001b[39m \u001b[38;5;241m5\u001b[39m:\n",
      "File \u001b[1;32mc:\\Users\\jony\\Programming\\Python\\Anubis\\anubis\\.venv\\lib\\site-packages\\ipykernel\\iostream.py:694\u001b[0m, in \u001b[0;36mOutStream.write\u001b[1;34m(self, string)\u001b[0m\n\u001b[0;32m    692\u001b[0m     \u001b[38;5;28mself\u001b[39m\u001b[38;5;241m.\u001b[39mpub_thread\u001b[38;5;241m.\u001b[39mschedule(\u001b[38;5;28mself\u001b[39m\u001b[38;5;241m.\u001b[39m_flush)\n\u001b[0;32m    693\u001b[0m \u001b[38;5;28;01melse\u001b[39;00m:\n\u001b[1;32m--> 694\u001b[0m     \u001b[38;5;28;43mself\u001b[39;49m\u001b[38;5;241;43m.\u001b[39;49m\u001b[43m_schedule_flush\u001b[49m\u001b[43m(\u001b[49m\u001b[43m)\u001b[49m\n\u001b[0;32m    696\u001b[0m \u001b[38;5;28;01mreturn\u001b[39;00m \u001b[38;5;28mlen\u001b[39m(string)\n",
      "File \u001b[1;32mc:\\Users\\jony\\Programming\\Python\\Anubis\\anubis\\.venv\\lib\\site-packages\\ipykernel\\iostream.py:590\u001b[0m, in \u001b[0;36mOutStream._schedule_flush\u001b[1;34m(self)\u001b[0m\n\u001b[0;32m    587\u001b[0m \u001b[38;5;28;01mdef\u001b[39;00m \u001b[38;5;21m_schedule_in_thread\u001b[39m():\n\u001b[0;32m    588\u001b[0m     \u001b[38;5;28mself\u001b[39m\u001b[38;5;241m.\u001b[39m_io_loop\u001b[38;5;241m.\u001b[39mcall_later(\u001b[38;5;28mself\u001b[39m\u001b[38;5;241m.\u001b[39mflush_interval, \u001b[38;5;28mself\u001b[39m\u001b[38;5;241m.\u001b[39m_flush)\n\u001b[1;32m--> 590\u001b[0m \u001b[38;5;28;43mself\u001b[39;49m\u001b[38;5;241;43m.\u001b[39;49m\u001b[43mpub_thread\u001b[49m\u001b[38;5;241;43m.\u001b[39;49m\u001b[43mschedule\u001b[49m\u001b[43m(\u001b[49m\u001b[43m_schedule_in_thread\u001b[49m\u001b[43m)\u001b[49m\n",
      "File \u001b[1;32mc:\\Users\\jony\\Programming\\Python\\Anubis\\anubis\\.venv\\lib\\site-packages\\ipykernel\\iostream.py:267\u001b[0m, in \u001b[0;36mIOPubThread.schedule\u001b[1;34m(self, f)\u001b[0m\n\u001b[0;32m    265\u001b[0m     \u001b[38;5;28mself\u001b[39m\u001b[38;5;241m.\u001b[39m_events\u001b[38;5;241m.\u001b[39mappend(f)\n\u001b[0;32m    266\u001b[0m     \u001b[38;5;66;03m# wake event thread (message content is ignored)\u001b[39;00m\n\u001b[1;32m--> 267\u001b[0m     \u001b[38;5;28;43mself\u001b[39;49m\u001b[38;5;241;43m.\u001b[39;49m\u001b[43m_event_pipe\u001b[49m\u001b[38;5;241;43m.\u001b[39;49m\u001b[43msend\u001b[49m\u001b[43m(\u001b[49m\u001b[38;5;124;43mb\u001b[39;49m\u001b[38;5;124;43m\"\u001b[39;49m\u001b[38;5;124;43m\"\u001b[39;49m\u001b[43m)\u001b[49m\n\u001b[0;32m    268\u001b[0m \u001b[38;5;28;01melse\u001b[39;00m:\n\u001b[0;32m    269\u001b[0m     f()\n",
      "File \u001b[1;32mc:\\Users\\jony\\Programming\\Python\\Anubis\\anubis\\.venv\\lib\\site-packages\\zmq\\sugar\\socket.py:701\u001b[0m, in \u001b[0;36mSocket.send\u001b[1;34m(self, data, flags, copy, track, routing_id, group)\u001b[0m\n\u001b[0;32m    694\u001b[0m         data \u001b[38;5;241m=\u001b[39m zmq\u001b[38;5;241m.\u001b[39mFrame(\n\u001b[0;32m    695\u001b[0m             data,\n\u001b[0;32m    696\u001b[0m             track\u001b[38;5;241m=\u001b[39mtrack,\n\u001b[0;32m    697\u001b[0m             copy\u001b[38;5;241m=\u001b[39mcopy \u001b[38;5;129;01mor\u001b[39;00m \u001b[38;5;28;01mNone\u001b[39;00m,\n\u001b[0;32m    698\u001b[0m             copy_threshold\u001b[38;5;241m=\u001b[39m\u001b[38;5;28mself\u001b[39m\u001b[38;5;241m.\u001b[39mcopy_threshold,\n\u001b[0;32m    699\u001b[0m         )\n\u001b[0;32m    700\u001b[0m     data\u001b[38;5;241m.\u001b[39mgroup \u001b[38;5;241m=\u001b[39m group\n\u001b[1;32m--> 701\u001b[0m \u001b[38;5;28;01mreturn\u001b[39;00m \u001b[38;5;28;43msuper\u001b[39;49m\u001b[43m(\u001b[49m\u001b[43m)\u001b[49m\u001b[38;5;241;43m.\u001b[39;49m\u001b[43msend\u001b[49m\u001b[43m(\u001b[49m\u001b[43mdata\u001b[49m\u001b[43m,\u001b[49m\u001b[43m \u001b[49m\u001b[43mflags\u001b[49m\u001b[38;5;241;43m=\u001b[39;49m\u001b[43mflags\u001b[49m\u001b[43m,\u001b[49m\u001b[43m \u001b[49m\u001b[43mcopy\u001b[49m\u001b[38;5;241;43m=\u001b[39;49m\u001b[43mcopy\u001b[49m\u001b[43m,\u001b[49m\u001b[43m \u001b[49m\u001b[43mtrack\u001b[49m\u001b[38;5;241;43m=\u001b[39;49m\u001b[43mtrack\u001b[49m\u001b[43m)\u001b[49m\n",
      "File \u001b[1;32m_zmq.py:1092\u001b[0m, in \u001b[0;36mzmq.backend.cython._zmq.Socket.send\u001b[1;34m()\u001b[0m\n",
      "File \u001b[1;32m_zmq.py:1140\u001b[0m, in \u001b[0;36mzmq.backend.cython._zmq.Socket.send\u001b[1;34m()\u001b[0m\n",
      "File \u001b[1;32m_zmq.py:1339\u001b[0m, in \u001b[0;36mzmq.backend.cython._zmq._send_copy\u001b[1;34m()\u001b[0m\n",
      "File \u001b[1;32m_zmq.py:160\u001b[0m, in \u001b[0;36mzmq.backend.cython._zmq._check_rc\u001b[1;34m()\u001b[0m\n",
      "\u001b[1;31mKeyboardInterrupt\u001b[0m: "
     ]
    }
   ],
   "source": [
    "importlib.reload(rawFileReader) # Reload fReader\n",
    "importlib.reload(proAnubis_Analysis_Tools)\n",
    "importlib.reload(ATools)\n",
    "importlib.reload(VTools)\n",
    "importlib.reload(rawEventBuilder)\n",
    "import matplotlib.pyplot as plt\n",
    "\n",
    "interval = 100 # Set your monitoring chunck size\n",
    "order = [[0,1], [1,2], [2,3], [3,4]] # Order what you want to align\n",
    "    \n",
    "for file in file_path:\n",
    "    max_process_event_chunk = 500_000 # End the loop early\n",
    "    fReader = rawFileReader.fileReader(file) # load in the classs object\n",
    "    #fReader.skip_events(2000*100) # Skip the first event\n",
    "    processedEvents = 0 # Initialisation\n",
    "    noiseStart = 0\n",
    "    firstNoise = False\n",
    "    initial_event_chunk = fReader.get_aligned_events(order=order, interval=interval)\n",
    "    originTime = max([initial_event_chunk[0].tdcEvents[tdc].time for tdc in range(5) if initial_event_chunk[0].tdcEvents[tdc].time])\n",
    "    last_reset = 0\n",
    "    mets = [[] for tdc in range(5)]\n",
    "    mets_off = [[] for tdc in range(5)]\n",
    "    file_name = file.split(\"//\")[-1][:-4]\n",
    "    tdc_mets = [[] for tdc in range(5)]\n",
    "    Tot_TDC_info = [[] for tdc in range(5)]\n",
    "    chunks = []\n",
    "    bad_chunks = 0\n",
    "    with tqdm(total=max_process_event_chunk, desc=f\"Processing Events {file_name}\", unit='Events') as pbar:\n",
    "        while processedEvents < max_process_event_chunk:\n",
    "            processedEvents += 1\n",
    "            try:\n",
    "                event_chunk, tdc_met, TDC_info = fReader.get_aligned_events(order=order, interval=interval, extract_tdc_mets = True) # get the aligned events\n",
    "            except Exception as e:\n",
    "                print(\"Exception:\", e)\n",
    "                max_process_event_chunk = processedEvents\n",
    "                break\n",
    "\n",
    "            event_time = max([event_chunk[0].tdcEvents[tdc].time for tdc in range(5) if event_chunk[0].tdcEvents[tdc].time])\n",
    "            \n",
    "            if last_reset:\n",
    "                if (event_time - last_reset).total_seconds() > 60:\n",
    "                    last_reset = event_time\n",
    "                    fReader.evtBuilder = rawEventBuilder.eventBuilder()\n",
    "            else:\n",
    "                last_reset = event_time\n",
    "                originTime = event_time\n",
    "                \n",
    "            [tdc_mets[i].append(tdc_met[i]) for i in range(5) if tdc_met[i] != 0]\n",
    "            [Tot_TDC_info[i].extend(TDC_info[i]) for i in range(5) if TDC_info[i]]\n",
    "            for idx, (i, j) in enumerate(order):\n",
    "                x, y, l, m = ATools.find_tdc_alignment_metric(i, j) # determining which RPCs to use for aignment metric\n",
    "                alignMet = ATools.calcAvgAlign(event_chunk, 0, x, y, l, m, i, j, processedEvents) # determine the alignment metric\n",
    "                #alignMet_off = ATools.calcAvgAlign(event_chunk, 15, x, y, l, m, i, j, processedEvents) # determine the alignment metric\n",
    "                \n",
    "                #mets_off[idx].append(alignMet_off) # write to memory\n",
    "                mets[idx].append(alignMet) # write to memory\n",
    "                if alignMet > 40 and not firstNoise:\n",
    "                    for tdc in range(5):\n",
    "                        if event_chunk[0].tdcEvents[tdc].time != 0:\n",
    "                            noiseTime = event_chunk[0].tdcEvents[tdc].time\n",
    "                            break\n",
    "                    if noiseTime == 0:\n",
    "                        print(\"No hits in the event???\")\n",
    "                    startTime =  noiseTime - originTime\n",
    "                    print(startTime)\n",
    "                    noiseStart = processedEvents*interval\n",
    "                    print(noiseStart)\n",
    "                    firstNoise = True\n",
    "\n",
    "            pbar.update(1)\n",
    "    \n",
    "    #plot_alignment(mets_off, order, max_process_event_chunk, file_name+\"_off\")\n",
    "    plot_alignment(mets, order, max_process_event_chunk, file_name+\"HUGE\")\n",
    "    #plot_bvg(tdc_mets, max_process_event_chunk, file_name+\"fuck\")\n",
    "    plot_bvg(tdc_mets, max_process_event_chunk, file_name+\"HUGE\")\n",
    "    \n",
    "    if noiseStart:\n",
    "        TTools.plot_tdc_error_channels_custom_ranges(Tot_TDC_info, [(0, noiseStart), (noiseStart, max_process_event_chunk*interval)], tdcs_to_plot=None, output_pdf=f'output//transition//TDC_channel_perEv_{file_name}.pdf')\n",
    "    else:\n",
    "        TTools.plot_tdc_error_channels_custom_ranges(Tot_TDC_info, [(0, max_process_event_chunk*interval)], tdcs_to_plot=None, output_pdf=f'output//transition//TDC_channel_perEv_{file_name}.pdf')\n",
    "    "
   ]
  },
  {
   "cell_type": "code",
   "execution_count": 10,
   "metadata": {},
   "outputs": [
    {
     "ename": "KeyboardInterrupt",
     "evalue": "",
     "output_type": "error",
     "traceback": [
      "\u001b[1;31m---------------------------------------------------------------------------\u001b[0m",
      "\u001b[1;31mKeyboardInterrupt\u001b[0m                         Traceback (most recent call last)",
      "Cell \u001b[1;32mIn[10], line 6\u001b[0m\n\u001b[0;32m      2\u001b[0m     \u001b[38;5;66;03m#plot_bvg(tdc_mets, max_process_event_chunk, file_name+\"fuck\")\u001b[39;00m\n\u001b[0;32m      3\u001b[0m \u001b[38;5;66;03m#plot_bvg(tdc_mets, max_process_event_chunk, file_name+\"HUGE\")\u001b[39;00m\n\u001b[0;32m      5\u001b[0m \u001b[38;5;28;01mif\u001b[39;00m noiseStart:\n\u001b[1;32m----> 6\u001b[0m     \u001b[43mTTools\u001b[49m\u001b[38;5;241;43m.\u001b[39;49m\u001b[43mplot_tdc_error_channels_custom_ranges\u001b[49m\u001b[43m(\u001b[49m\u001b[43mTot_TDC_info\u001b[49m\u001b[43m,\u001b[49m\u001b[43m \u001b[49m\u001b[43m[\u001b[49m\u001b[43m(\u001b[49m\u001b[38;5;241;43m0\u001b[39;49m\u001b[43m,\u001b[49m\u001b[43m \u001b[49m\u001b[43mnoiseStart\u001b[49m\u001b[43m)\u001b[49m\u001b[43m,\u001b[49m\u001b[43m \u001b[49m\u001b[43m(\u001b[49m\u001b[43mnoiseStart\u001b[49m\u001b[43m,\u001b[49m\u001b[43m \u001b[49m\u001b[43mmax_process_event_chunk\u001b[49m\u001b[38;5;241;43m*\u001b[39;49m\u001b[43minterval\u001b[49m\u001b[43m)\u001b[49m\u001b[43m]\u001b[49m\u001b[43m,\u001b[49m\u001b[43m \u001b[49m\u001b[43mtdcs_to_plot\u001b[49m\u001b[38;5;241;43m=\u001b[39;49m\u001b[38;5;28;43;01mNone\u001b[39;49;00m\u001b[43m,\u001b[49m\u001b[43m \u001b[49m\u001b[43moutput_pdf\u001b[49m\u001b[38;5;241;43m=\u001b[39;49m\u001b[38;5;124;43mf\u001b[39;49m\u001b[38;5;124;43m'\u001b[39;49m\u001b[38;5;124;43moutput//transition//TDC_channel_perEv_\u001b[39;49m\u001b[38;5;132;43;01m{\u001b[39;49;00m\u001b[43mfile_name\u001b[49m\u001b[38;5;132;43;01m}\u001b[39;49;00m\u001b[38;5;124;43m.pdf\u001b[39;49m\u001b[38;5;124;43m'\u001b[39;49m\u001b[43m)\u001b[49m\n\u001b[0;32m      7\u001b[0m \u001b[38;5;28;01melse\u001b[39;00m:\n\u001b[0;32m      8\u001b[0m     TTools\u001b[38;5;241m.\u001b[39mplot_tdc_error_channels_custom_ranges(Tot_TDC_info, [(\u001b[38;5;241m0\u001b[39m, max_process_event_chunk\u001b[38;5;241m*\u001b[39minterval)], tdcs_to_plot\u001b[38;5;241m=\u001b[39m\u001b[38;5;28;01mNone\u001b[39;00m, output_pdf\u001b[38;5;241m=\u001b[39m\u001b[38;5;124mf\u001b[39m\u001b[38;5;124m'\u001b[39m\u001b[38;5;124moutput//transition//TDC_channel_perEv_\u001b[39m\u001b[38;5;132;01m{\u001b[39;00mfile_name\u001b[38;5;132;01m}\u001b[39;00m\u001b[38;5;124m.pdf\u001b[39m\u001b[38;5;124m'\u001b[39m)\n",
      "File \u001b[1;32mC:\\/Users//jony//Programming//Python//Anubis//anubis//tools\\Timing_tools.py:292\u001b[0m, in \u001b[0;36mplot_tdc_error_channels_custom_ranges\u001b[1;34m(TDC_error_time, ranges, tdcs_to_plot, output_pdf)\u001b[0m\n\u001b[0;32m    290\u001b[0m \u001b[38;5;28;01mif\u001b[39;00m range_start \u001b[38;5;241m<\u001b[39m\u001b[38;5;241m=\u001b[39m process\u001b[38;5;241m+\u001b[39mevent_count \u001b[38;5;241m<\u001b[39m range_end:\n\u001b[0;32m    291\u001b[0m     channel \u001b[38;5;241m=\u001b[39m (hit_word \u001b[38;5;241m>>\u001b[39m \u001b[38;5;241m24\u001b[39m) \u001b[38;5;241m&\u001b[39m \u001b[38;5;241m0x7f\u001b[39m\n\u001b[1;32m--> 292\u001b[0m     \u001b[38;5;28;01mif\u001b[39;00m \u001b[38;5;241m300\u001b[39m \u001b[38;5;241m>\u001b[39m hit_time \u001b[38;5;241m>\u001b[39m \u001b[38;5;241m100\u001b[39m:\n\u001b[0;32m    293\u001b[0m         good_channels[channel] \u001b[38;5;241m+\u001b[39m\u001b[38;5;241m=\u001b[39m \u001b[38;5;241m1\u001b[39m\n\u001b[0;32m    294\u001b[0m     \u001b[38;5;28;01melse\u001b[39;00m:\n",
      "\u001b[1;31mKeyboardInterrupt\u001b[0m: "
     ]
    }
   ],
   "source": [
    "plot_alignment(mets[:100_000], order, 100_000, file_name+\"HUGEshort\")\n",
    "    #plot_bvg(tdc_mets, max_process_event_chunk, file_name+\"fuck\")\n",
    "#plot_bvg(tdc_mets, max_process_event_chunk, file_name+\"HUGE\")\n",
    "    \n",
    "if noiseStart:\n",
    "    TTools.plot_tdc_error_channels_custom_ranges(Tot_TDC_info, [(0, noiseStart), (noiseStart, max_process_event_chunk*interval)], tdcs_to_plot=None, output_pdf=f'output//transition//TDC_channel_perEv_{file_name}.pdf')\n",
    "else:\n",
    "    TTools.plot_tdc_error_channels_custom_ranges(Tot_TDC_info, [(0, max_process_event_chunk*interval)], tdcs_to_plot=None, output_pdf=f'output//transition//TDC_channel_perEv_{file_name}.pdf')\n",
    "    "
   ]
  },
  {
   "cell_type": "code",
   "execution_count": 13,
   "metadata": {},
   "outputs": [],
   "source": [
    "import csv \n",
    "with open('alg_huge.csv', 'w', newline='') as file:\n",
    "    writer = csv.writer(file)\n",
    "    writer.writerows(mets)"
   ]
  },
  {
   "cell_type": "code",
   "execution_count": 36,
   "metadata": {},
   "outputs": [],
   "source": [
    "TTools.plot_tdc_error_times_custom_ranges(Tot_TDC_info, [(0, noiseStart), (noiseStart, max_process_event_chunk*interval)], output_pdf=f'output//transition//Time_Hit_{file_name}.pdf')"
   ]
  },
  {
   "cell_type": "code",
   "execution_count": 40,
   "metadata": {},
   "outputs": [
    {
     "name": "stdout",
     "output_type": "stream",
     "text": [
      "500\n"
     ]
    }
   ],
   "source": [
    "#print([mets[i].index(max(mets[i])) for i in range(4)])\n",
    "import Visual_tools as VTools\n",
    "importlib.reload(VTools)\n",
    "\n",
    "\n",
    "#for chunk in chunks:\n",
    "#    print(VTools.metric_possible(chunk, 2,3))\n",
    "x = [i for i in range(max_process_event_chunk)]\n",
    "tot_good1 = [0 for chunk in range(max_process_event_chunk)]\n",
    "tot_good2 = [0 for chunk in range(max_process_event_chunk)]\n",
    "tot_poss = [0 for chunk in range(max_process_event_chunk)]\n",
    "print(len(x))\n",
    "for i, chunk in enumerate(chunks):\n",
    "    tot_poss[i], tot_good1[i], tot_good2[i] = VTools.metric_possible(chunk, 2, 3)\n",
    "\n",
    "plt.plot(x, tot_good1, color='blue')\n",
    "plt.plot(x, tot_good2, color='red')\n",
    "plt.show()\n",
    "\n",
    "plt.plot(x, tot_poss)\n",
    "plt.show()\n",
    "#VTools.all_hits(chunks[31], 2, 3, 100)"
   ]
  },
  {
   "cell_type": "code",
   "execution_count": 33,
   "metadata": {},
   "outputs": [
    {
     "name": "stdout",
     "output_type": "stream",
     "text": [
      "46958\n",
      "50442\n",
      "40026\n",
      "44355\n",
      "30623\n",
      "5\n",
      "46958\n",
      "50442\n",
      "40026\n",
      "44355\n",
      "30623\n"
     ]
    }
   ],
   "source": [
    "importlib.reload(TTools)\n",
    "odlozim = Tot_TDC_info.copy()\n",
    "for tdc in range(5):\n",
    "    print(len(Tot_TDC_info[tdc]))\n",
    "    Tot_TDC_info[tdc] = Tot_TDC_info[tdc][:noiseStart]\n",
    "TTools.plot_tdc_error_channels(Tot_TDC_info, tdcs_to_plot=[2,3])\n",
    "\n",
    "Tot_TDC_info = odlozim.copy()\n",
    "print(len(odlozim))\n",
    "for tdc in range(5):\n",
    "    print(len(Tot_TDC_info[tdc]))\n",
    "    Tot_TDC_info[tdc] = Tot_TDC_info[tdc][noiseStart:]\n",
    "TTools.plot_tdc_error_channels(Tot_TDC_info, tdcs_to_plot=[2,3])"
   ]
  },
  {
   "cell_type": "code",
   "execution_count": 37,
   "metadata": {},
   "outputs": [],
   "source": [
    "importlib.reload(VTools)\n",
    "counts = [[] for tdc in range(5)]\n",
    "for chunk in chunks:\n",
    "    count = VTools.abs_count(chunk)\n",
    "    for tdc in range(5):\n",
    "        counts[tdc].append(count[tdc])\n",
    "\n",
    "#plot it\n",
    "fig, ax = plt.subplots(figsize=(10, 8))\n",
    "for tdc in range(5):\n",
    "    ax.plot(x, counts[tdc], label = f'TDC {tdc}')\n",
    "ax.legend()\n",
    "ax.set_title(f'Counts per TDC')\n",
    "ax.set_ylabel('Counts')\n",
    "ax.set_xlabel('Processed Event chunks')\n",
    "plt.savefig(f\"output//transition//TDC_counts.png\")\n",
    "plt.show()"
   ]
  },
  {
   "cell_type": "code",
   "execution_count": 12,
   "metadata": {},
   "outputs": [],
   "source": [
    "\n",
    "fig, ax = plt.subplots(figsize=(10, 8))\n",
    "\n",
    "for idx, item in enumerate(order):\n",
    "    met = mets[idx]\n",
    "    i, j = item\n",
    "    binsx = [x for x in range(len(met))]\n",
    "    ax.plot(binsx, met, label=f'TDC{i} and TDC{j}, offset 0')\n",
    "ax.set_xlim(0, max_process_event_chunk)\n",
    "ax.set_ylim(-1, 40)\n",
    "ax.legend()\n",
    "\n",
    "ax.set_title(f'Alignment graph {file_name}')\n",
    "ax.set_ylabel('Average $\\sqrt{d\\eta^2+d\\phi^2}$')\n",
    "ax.set_xlabel('Processed Event chunks')\n",
    "plt.savefig(f\"output//transition//alignment_graph{file_name}.png\")\n",
    "\n",
    "colors = ['blue', 'green', 'red', 'purple', 'orange']\n",
    "fig, ax = plt.subplots(figsize=(10, 8))\n",
    "for tdc in range(5):\n",
    "    met = tdc_mets[tdc]\n",
    "    binsx = [x*26.5 for x in range(len(met))]\n",
    "    ax.plot(binsx,met, label = f'tdc {tdc}', color = colors[tdc])\n",
    "\n",
    "ax.set_xlim(0,max_process_event_chunk)\n",
    "ax.legend()\n",
    "ax.set_title(f'TDC monitoring metric {file_name}')\n",
    "ax.set_ylabel('bad time behavior / nominal time behavior')\n",
    "ax.set_xlabel('processed event chunks')\n",
    "plt.savefig(f\"output//transition//tdc_monitoring{file_name}.png\")\n",
    "plt.close()\n",
    "\n",
    "#TTools.plot_tdc_error_channels_custom_ranges(Tot_TDC_info, [(0, noiseStart), (noiseStart, max_process_event_chunk*interval)], tdcs_to_plot=None, output_pdf=f'output//transition//TDC_channel{file_name}.pdf')\n"
   ]
  }
 ],
 "metadata": {
  "kernelspec": {
   "display_name": ".venv",
   "language": "python",
   "name": "python3"
  },
  "language_info": {
   "codemirror_mode": {
    "name": "ipython",
    "version": 3
   },
   "file_extension": ".py",
   "mimetype": "text/x-python",
   "name": "python",
   "nbconvert_exporter": "python",
   "pygments_lexer": "ipython3",
   "version": "3.10.4"
  }
 },
 "nbformat": 4,
 "nbformat_minor": 2
}
