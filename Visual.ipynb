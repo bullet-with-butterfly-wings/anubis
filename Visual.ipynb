{
 "cells": [
  {
   "cell_type": "code",
   "execution_count": 1,
   "metadata": {},
   "outputs": [],
   "source": [
    "import importlib\n",
    "import sys\n",
    "from tqdm import tqdm\n",
    "import  os\n",
    "import cv2\n",
    "import glob\n",
    "from datetime import datetime \n",
    "# Add the directories to the sys.path\n",
    "dir_path = \"C://Users//jony//Programming//Python//Anubis//anubis//\"\n",
    "# insert your directory path\n",
    "sys.path.append(dir_path + \"Osiris//processing//python\")\n",
    "sys.path.append(dir_path + \"tools\")\n",
    "\n",
    "import Analysis_tools as ATools\n",
    "import proAnubis_Analysis_Tools\n",
    "import Visual_tools as VTools\n",
    "import Reconstruction_tools as RTools\n",
    "import mplhep as hep\n",
    "import pickle\n",
    "import Timing_tools as TTools\n",
    "import overview\n",
    "import rawFileReader\n",
    "hep.style.use([hep.style.ATLAS])\n",
    "\n",
    "dir = \"C://Users//jony//Programming//Python//Anubis//anubis//data//\"\n",
    "# Specify the directory\n",
    "#data_list = sorted([f for f in os.listdir(\"data//reset\") if os.path.isfile(os.path.join(\"data//reset\", f))], reverse=True) ##all files in data directory sorted from the newest to the oldest\n",
    "\n",
    "#file_path = list(map(lambda p: dir_path+\"data//reset//\"+p, data_list)) # insert your file\n",
    "#print(file_path)"
   ]
  },
  {
   "cell_type": "code",
   "execution_count": null,
   "metadata": {},
   "outputs": [],
   "source": [
    "importlib.reload(rawFileReader) # Reload fReader\n",
    "importlib.reload(proAnubis_Analysis_Tools)\n",
    "importlib.reload(VTools)\n",
    "\n",
    "file_name = 'proAnubis_240815_1759.raw'\n",
    "storage_name = \"weird_data.pkl\"\n",
    "\n",
    "start = \"2024-08-15 17:24:22\"\n",
    "end = \"2024-08-15 17:24:23\"\n",
    "\n",
    "chunks, times, fReader = overview.get_chunks(dir+file_name, start= start, end = end)"
   ]
  },
  {
   "cell_type": "code",
   "execution_count": null,
   "metadata": {},
   "outputs": [],
   "source": [
    "with open(storage_name, \"wb\") as outp:\n",
    "    pickle.dump([chunks, times], outp)"
   ]
  },
  {
   "cell_type": "code",
   "execution_count": 7,
   "metadata": {},
   "outputs": [
    {
     "name": "stdout",
     "output_type": "stream",
     "text": [
      "Loaded chunks\n"
     ]
    }
   ],
   "source": [
    "importlib.reload(overview)\n",
    "import matplotlib.pyplot as plt\n",
    "\n",
    "storage_name = \"data/example_chunks.pkl\"\n",
    "with open(storage_name, \"rb\") as inp:\n",
    "    chunks, times = pickle.load(inp)\n",
    "print(\"Chunks loaded: \", len(chunks))"
   ]
  },
  {
   "cell_type": "code",
   "execution_count": null,
   "metadata": {},
   "outputs": [],
   "source": [
    "#Create the images\n",
    "importlib.reload(VTools)\n",
    "max_chunk_num = 1 #it will take a while, keep it small\n",
    "chunk_num = 0\n",
    "while chunk_num < max_chunk_num:\n",
    "    VTools.produce_video_images(chunks[chunk_num], tag = str(chunk_num))\n"
   ]
  },
  {
   "cell_type": "code",
   "execution_count": 9,
   "metadata": {},
   "outputs": [],
   "source": [
    "#Compose the video\n",
    "VTools.compose_video(chunks, title = \"Example\")"
   ]
  },
  {
   "cell_type": "code",
   "execution_count": null,
   "metadata": {},
   "outputs": [],
   "source": [
    "#Display 3D events\n",
    "importlib.reload(VTools)\n",
    "importlib.reload(overview)\n",
    "for event in chunks[0][:10]:\n",
    "    VTools.event_3d_plot(event)"
   ]
  }
 ],
 "metadata": {
  "kernelspec": {
   "display_name": "Python 3 (ipykernel)",
   "language": "python",
   "name": "python3"
  },
  "language_info": {
   "codemirror_mode": {
    "name": "ipython",
    "version": 3
   },
   "file_extension": ".py",
   "mimetype": "text/x-python",
   "name": "python",
   "nbconvert_exporter": "python",
   "pygments_lexer": "ipython3",
   "version": "3.10.4"
  }
 },
 "nbformat": 4,
 "nbformat_minor": 4
}
