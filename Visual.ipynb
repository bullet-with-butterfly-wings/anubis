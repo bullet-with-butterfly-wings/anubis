{
 "cells": [
  {
   "cell_type": "code",
   "execution_count": 5,
   "metadata": {},
   "outputs": [
    {
     "name": "stdout",
     "output_type": "stream",
     "text": [
      "['C://Users//jony//Programming//Python//Anubis//anubis//data//reset//proAnubis_240810_0040.raw']\n"
     ]
    }
   ],
   "source": [
    "import importlib\n",
    "import sys\n",
    "from tqdm import tqdm\n",
    "import  os\n",
    "import glob\n",
    "from datetime import datetime \n",
    "# Add the directories to the sys.path\n",
    "dir_path = \"C://Users//jony//Programming//Python//Anubis//anubis//\" # insert your directory path\n",
    "sys.path.append(dir_path + \"Osiris//processing//python\")\n",
    "sys.path.append(dir_path + \"tools\")\n",
    "\n",
    "import Analysis_tools as ATools\n",
    "import proAnubis_Analysis_Tools\n",
    "import Visual_tools as VTools\n",
    "import Reconstruction_tools as RTools\n",
    "import mplhep as hep\n",
    "import Timing_tools as TTools\n",
    "import rawFileReader\n",
    "hep.style.use([hep.style.ATLAS])\n",
    "\n",
    "# Specify the directory\n",
    "data_list = sorted([f for f in os.listdir(\"data//reset\") if os.path.isfile(os.path.join(\"data//reset\", f))], reverse=True) ##all files in data directory sorted from the newest to the oldest\n",
    "\n",
    "file_path = list(map(lambda p: dir_path+\"data//reset//\"+p, data_list)) # insert your file\n",
    "print(file_path)"
   ]
  },
  {
   "cell_type": "code",
   "execution_count": 6,
   "metadata": {},
   "outputs": [
    {
     "name": "stdout",
     "output_type": "stream",
     "text": [
      "C://Users//jony//Programming//Python//Anubis//anubis//data//proAnubis_240815_1759.raw\n"
     ]
    },
    {
     "name": "stderr",
     "output_type": "stream",
     "text": [
      "Skipping Events proAnubis_240815_1759: 100%|██████████| 4159/4159 [05:49<00:00, 11.91Events/s] \n",
      "Processing Events: 100%|██████████| 100/100 [40:10<00:00, 24.10s/Events]\n"
     ]
    }
   ],
   "source": [
    "importlib.reload(rawFileReader) # Reload fReader\n",
    "importlib.reload(proAnubis_Analysis_Tools)\n",
    "importlib.reload(VTools)\n",
    "import matplotlib.pyplot as plt\n",
    "interval = 100 # Set your monitoring chunck size\n",
    "file = file_path[-1] # Select the file\n",
    "file = 'C://Users//jony//Programming//Python//Anubis//anubis//data//proAnubis_240815_1759.raw'\n",
    "fReader = rawFileReader.fileReader(file) # load in the classs object\n",
    "print(file)\n",
    "order = [[0,1], [1,2], [2,3], [3,4]] # Order what you want to align\n",
    "max_process_event_chunk = 1 # End the loop early\n",
    "processedEvents = 0 # Initialisation\n",
    "initial_event_chunk = fReader.get_aligned_events(order=order, interval=interval)\n",
    "initial_time = max([initial_event_chunk[0].tdcEvents[tdc].time for tdc in range(5) if initial_event_chunk[0].tdcEvents[tdc].time])\n",
    "reconstructor = proAnubis_Analysis_Tools.Reconstructor(initial_event_chunk, processedEvents)\n",
    "file_name = file.split(\"//\")[-1][:-4] #must be a right file\n",
    "    \n",
    "\n",
    "import cv2\n",
    "import os\n",
    "\n",
    "start = '2024-08-15 18:09:08'\n",
    "goal = datetime.strptime(start, '%Y-%m-%d %H:%M:%S')\n",
    "event_time = initial_time\n",
    "with tqdm(total=round((goal-event_time).total_seconds()), desc=f\"Skipping Events {file_name}\", unit='Events') as pbar:        \n",
    "    while event_time < datetime.strptime(start, '%Y-%m-%d %H:%M:%S'):\n",
    "        fReader.skip_events(2_000)\n",
    "        chunk = fReader.get_aligned_events(order=order, interval=interval, extract_tdc_mets = False)\n",
    "        if chunk:\n",
    "            event_time = max([chunk[0].tdcEvents[tdc].time for tdc in range(5) if chunk[0].tdcEvents[tdc].time])\n",
    "            pbar.update(round(event_time.timestamp()-pbar.n - initial_time.timestamp()))\n",
    "image_folder = 'images_video'\n",
    "video_name = f'{file_name}_6000.mp4'\n",
    "print(event_time)\n",
    "initial_event_chunk = fReader.get_aligned_events(order=order, interval=interval)\n",
    "reconstructor = proAnubis_Analysis_Tools.Reconstructor(chunk, processedEvents)\n",
    "\n",
    "\n",
    "with tqdm(total=max_process_event_chunk*interval, desc=\"Processing Events\", unit='Events') as pbar:\n",
    "    while processedEvents < max_process_event_chunk:\n",
    "        processedEvents += 1\n",
    "        try:\n",
    "            event_chunk = fReader.get_aligned_events(order=order, interval=interval)\n",
    "        except:\n",
    "            print(f'Error at event chunk {processedEvents}')\n",
    "            continue\n",
    "        #Zone of Reconstruction\n",
    "        if event_chunk:\n",
    "            for evt_num, evt in enumerate(event_chunk):\n",
    "                #[print(hit) for hit in VTools.all_hits_event(evt)]\n",
    "                maps = VTools.hitHeatMap(evt)\n",
    "                for rpc in range(6):\n",
    "                    plt.imshow(maps[rpc], interpolation='nearest')\n",
    "                    plt.title(f'Event {evt_num} RPC {rpc}')\n",
    "                    plt.savefig(f'images_video/{processedEvents*100+10*evt_num+rpc}.png')\n",
    "                pbar.update(1)\n",
    "\n",
    "images = [img for img in os.listdir(image_folder) if img.endswith(\".png\")]\n",
    "frame = cv2.imread(os.path.join(image_folder, images[0]))\n",
    "height, width, layers = frame.shape\n",
    "\n",
    "\n",
    "video = cv2.VideoWriter(video_name, cv2.VideoWriter_fourcc(*'mp4v'), 30, (width,height))\n",
    "\n",
    "for image in images:\n",
    "    video.write(cv2.imread(os.path.join(image_folder, image)))\n",
    "\n",
    "cv2.destroyAllWindows()\n",
    "video.release()"
   ]
  },
  {
   "cell_type": "code",
   "execution_count": 9,
   "metadata": {},
   "outputs": [],
   "source": [
    "images = [img for img in os.listdir(image_folder)[1::6] if img.endswith(\".png\")]\n",
    "frame = cv2.imread(os.path.join(image_folder, images[0]))\n",
    "height, width, layers = frame.shape\n",
    "\n",
    "\n",
    "video_name = f'{file_name}_normal.mp4'\n",
    "video = cv2.VideoWriter(video_name, cv2.VideoWriter_fourcc(*'mp4v'), 15, (width,height))\n",
    "\n",
    "for image in images:\n",
    "    video.write(cv2.imread(os.path.join(image_folder, image)))\n",
    "\n",
    "cv2.destroyAllWindows()\n",
    "video.release()"
   ]
  }
 ],
 "metadata": {
  "kernelspec": {
   "display_name": ".venv",
   "language": "python",
   "name": "python3"
  },
  "language_info": {
   "codemirror_mode": {
    "name": "ipython",
    "version": 3
   },
   "file_extension": ".py",
   "mimetype": "text/x-python",
   "name": "python",
   "nbconvert_exporter": "python",
   "pygments_lexer": "ipython3",
   "version": "3.10.4"
  }
 },
 "nbformat": 4,
 "nbformat_minor": 2
}
