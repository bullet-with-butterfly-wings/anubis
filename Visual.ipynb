{
 "cells": [
  {
   "cell_type": "code",
   "execution_count": 10,
   "metadata": {},
   "outputs": [],
   "source": [
    "import importlib\n",
    "import sys\n",
    "from tqdm import tqdm\n",
    "import  os\n",
    "import glob\n",
    "# Add the directories to the sys.path\n",
    "dir_path = \"C://Users//jony//Programming//Python//Anubis//anubis//\" # insert your directory path\n",
    "sys.path.append(dir_path + \"Osiris//processing//python\")\n",
    "sys.path.append(dir_path + \"Osiris//monitoring//python\")\n",
    "sys.path.append(dir_path + \"tools\")\n",
    "\n",
    "import Analysis_tools as ATools\n",
    "import proAnubis_Analysis_Tools\n",
    "import Reconstruction_tools as RTools\n",
    "import mplhep as hep\n",
    "import Timing_tools as TTools\n",
    "import rawFileReader\n",
    "import Visual_tools as VTools\n",
    "\n",
    "hep.style.use([hep.style.ATLAS])\n",
    "\n",
    "# Specify the directory\n",
    "data_list = sorted([f for f in os.listdir(\"data\") if os.path.isfile(os.path.join(\"data\", f))], reverse=True) ##all files in data directory sorted from the newest to the oldest\n",
    "\n",
    "file_path = [dir_path+\"//data//\"+\"proAnubis_240731_0217.raw\"] #list(map(lambda p: dir_path+\"//data//\"+p, data_list))[:1] # insert your file"
   ]
  },
  {
   "cell_type": "code",
   "execution_count": 11,
   "metadata": {},
   "outputs": [
    {
     "name": "stdout",
     "output_type": "stream",
     "text": [
      "[<rawEventBuilder.proAnubEvent object at 0x00000264E6165F00>, <rawEventBuilder.proAnubEvent object at 0x00000264E6165F30>, <rawEventBuilder.proAnubEvent object at 0x00000264E61655A0>, <rawEventBuilder.proAnubEvent object at 0x00000264E6166CB0>, <rawEventBuilder.proAnubEvent object at 0x00000264E6166D10>, <rawEventBuilder.proAnubEvent object at 0x00000264E6166D70>, <rawEventBuilder.proAnubEvent object at 0x00000264E6164B20>, <rawEventBuilder.proAnubEvent object at 0x00000264E6164B50>, <rawEventBuilder.proAnubEvent object at 0x00000264E6166200>, <rawEventBuilder.proAnubEvent object at 0x00000264E6166350>, <rawEventBuilder.proAnubEvent object at 0x00000264E61662C0>, <rawEventBuilder.proAnubEvent object at 0x00000264E60F9690>, <rawEventBuilder.proAnubEvent object at 0x00000264E60FBFA0>, <rawEventBuilder.proAnubEvent object at 0x00000264E60FA110>, <rawEventBuilder.proAnubEvent object at 0x00000264E60FA530>, <rawEventBuilder.proAnubEvent object at 0x00000264E60FBE80>, <rawEventBuilder.proAnubEvent object at 0x00000264E60F9900>, <rawEventBuilder.proAnubEvent object at 0x00000264E60FA0B0>, <rawEventBuilder.proAnubEvent object at 0x00000264E60FBDC0>, <rawEventBuilder.proAnubEvent object at 0x00000264E60F8B50>, <rawEventBuilder.proAnubEvent object at 0x00000264E60FA6E0>, <rawEventBuilder.proAnubEvent object at 0x00000264E61841C0>, <rawEventBuilder.proAnubEvent object at 0x00000264E6184790>, <rawEventBuilder.proAnubEvent object at 0x00000264E61847F0>, <rawEventBuilder.proAnubEvent object at 0x00000264E6185150>, <rawEventBuilder.proAnubEvent object at 0x00000264E61851B0>, <rawEventBuilder.proAnubEvent object at 0x00000264E6185720>, <rawEventBuilder.proAnubEvent object at 0x00000264E6185780>, <rawEventBuilder.proAnubEvent object at 0x00000264E61857E0>, <rawEventBuilder.proAnubEvent object at 0x00000264E6185840>, <rawEventBuilder.proAnubEvent object at 0x00000264E61858A0>, <rawEventBuilder.proAnubEvent object at 0x00000264E61858D0>, <rawEventBuilder.proAnubEvent object at 0x00000264E6185960>, <rawEventBuilder.proAnubEvent object at 0x00000264E61859C0>, <rawEventBuilder.proAnubEvent object at 0x00000264E6185F90>, <rawEventBuilder.proAnubEvent object at 0x00000264E6185FF0>, <rawEventBuilder.proAnubEvent object at 0x00000264E6186EC0>, <rawEventBuilder.proAnubEvent object at 0x00000264E6186F20>, <rawEventBuilder.proAnubEvent object at 0x00000264E6186F80>, <rawEventBuilder.proAnubEvent object at 0x00000264E61873D0>, <rawEventBuilder.proAnubEvent object at 0x00000264E6187430>, <rawEventBuilder.proAnubEvent object at 0x00000264E6187490>, <rawEventBuilder.proAnubEvent object at 0x00000264E61874F0>, <rawEventBuilder.proAnubEvent object at 0x00000264E6187550>, <rawEventBuilder.proAnubEvent object at 0x00000264E61875B0>, <rawEventBuilder.proAnubEvent object at 0x00000264E6187610>, <rawEventBuilder.proAnubEvent object at 0x00000264E6187670>, <rawEventBuilder.proAnubEvent object at 0x00000264E61876D0>, <rawEventBuilder.proAnubEvent object at 0x00000264E6190100>, <rawEventBuilder.proAnubEvent object at 0x00000264E61907C0>, <rawEventBuilder.proAnubEvent object at 0x00000264E6190820>, <rawEventBuilder.proAnubEvent object at 0x00000264E6190880>, <rawEventBuilder.proAnubEvent object at 0x00000264E61908E0>, <rawEventBuilder.proAnubEvent object at 0x00000264E6190940>, <rawEventBuilder.proAnubEvent object at 0x00000264E61909A0>, <rawEventBuilder.proAnubEvent object at 0x00000264E6191090>, <rawEventBuilder.proAnubEvent object at 0x00000264E61924A0>, <rawEventBuilder.proAnubEvent object at 0x00000264E6192500>, <rawEventBuilder.proAnubEvent object at 0x00000264E6192BF0>, <rawEventBuilder.proAnubEvent object at 0x00000264E6192C50>, <rawEventBuilder.proAnubEvent object at 0x00000264E6192CB0>, <rawEventBuilder.proAnubEvent object at 0x00000264E6192D10>, <rawEventBuilder.proAnubEvent object at 0x00000264E6192D70>, <rawEventBuilder.proAnubEvent object at 0x00000264E6192DD0>, <rawEventBuilder.proAnubEvent object at 0x00000264E6192E30>, <rawEventBuilder.proAnubEvent object at 0x00000264E6192E90>, <rawEventBuilder.proAnubEvent object at 0x00000264E6192EF0>, <rawEventBuilder.proAnubEvent object at 0x00000264E6192F50>, <rawEventBuilder.proAnubEvent object at 0x00000264E6192FB0>, <rawEventBuilder.proAnubEvent object at 0x00000264E6193010>, <rawEventBuilder.proAnubEvent object at 0x00000264E6193070>, <rawEventBuilder.proAnubEvent object at 0x00000264E61930D0>, <rawEventBuilder.proAnubEvent object at 0x00000264E61984C0>, <rawEventBuilder.proAnubEvent object at 0x00000264E6198520>, <rawEventBuilder.proAnubEvent object at 0x00000264E6198D90>, <rawEventBuilder.proAnubEvent object at 0x00000264E6199720>, <rawEventBuilder.proAnubEvent object at 0x00000264E6199780>, <rawEventBuilder.proAnubEvent object at 0x00000264E61997E0>, <rawEventBuilder.proAnubEvent object at 0x00000264E6199840>, <rawEventBuilder.proAnubEvent object at 0x00000264E61998A0>, <rawEventBuilder.proAnubEvent object at 0x00000264E6199900>, <rawEventBuilder.proAnubEvent object at 0x00000264E6199960>, <rawEventBuilder.proAnubEvent object at 0x00000264E61999C0>, <rawEventBuilder.proAnubEvent object at 0x00000264E6199A20>, <rawEventBuilder.proAnubEvent object at 0x00000264E619A2F0>, <rawEventBuilder.proAnubEvent object at 0x00000264E619A350>, <rawEventBuilder.proAnubEvent object at 0x00000264E619A3B0>, <rawEventBuilder.proAnubEvent object at 0x00000264E619A410>, <rawEventBuilder.proAnubEvent object at 0x00000264E619A470>, <rawEventBuilder.proAnubEvent object at 0x00000264E619A4D0>, <rawEventBuilder.proAnubEvent object at 0x00000264E619A530>, <rawEventBuilder.proAnubEvent object at 0x00000264E619AB60>, <rawEventBuilder.proAnubEvent object at 0x00000264E619ABC0>, <rawEventBuilder.proAnubEvent object at 0x00000264E619B130>, <rawEventBuilder.proAnubEvent object at 0x00000264E619B190>, <rawEventBuilder.proAnubEvent object at 0x00000264E619B6A0>, <rawEventBuilder.proAnubEvent object at 0x00000264E619B700>, <rawEventBuilder.proAnubEvent object at 0x00000264E619B760>, <rawEventBuilder.proAnubEvent object at 0x00000264E619B7C0>, <rawEventBuilder.proAnubEvent object at 0x00000264E619BC70>, <rawEventBuilder.proAnubEvent object at 0x00000264E619BCD0>, <rawEventBuilder.proAnubEvent object at 0x00000264E619BD30>, <rawEventBuilder.proAnubEvent object at 0x00000264E619BD90>, <rawEventBuilder.proAnubEvent object at 0x00000264E619BDF0>, <rawEventBuilder.proAnubEvent object at 0x00000264E619BE50>, <rawEventBuilder.proAnubEvent object at 0x00000264E619BEB0>]\n"
     ]
    },
    {
     "ename": "AttributeError",
     "evalue": "'list' object has no attribute 'tdcEvents'",
     "output_type": "error",
     "traceback": [
      "\u001b[1;31m---------------------------------------------------------------------------\u001b[0m",
      "\u001b[1;31mAttributeError\u001b[0m                            Traceback (most recent call last)",
      "Cell \u001b[1;32mIn[11], line 3\u001b[0m\n\u001b[0;32m      1\u001b[0m fReader \u001b[38;5;241m=\u001b[39m rawFileReader\u001b[38;5;241m.\u001b[39mfileReader(file_path[\u001b[38;5;241m0\u001b[39m]) \u001b[38;5;66;03m# load in the classs object\u001b[39;00m\n\u001b[0;32m      2\u001b[0m initial_event_chunk \u001b[38;5;241m=\u001b[39m fReader\u001b[38;5;241m.\u001b[39mget_aligned_events()\n\u001b[1;32m----> 3\u001b[0m \u001b[43mVTools\u001b[49m\u001b[38;5;241;43m.\u001b[39;49m\u001b[43mhitHeatMap\u001b[49m\u001b[43m(\u001b[49m\u001b[43minitial_event_chunk\u001b[49m\u001b[43m,\u001b[49m\u001b[38;5;241;43m0\u001b[39;49m\u001b[43m)\u001b[49m\n",
      "File \u001b[1;32mC:\\/Users//jony//Programming//Python//Anubis//anubis//tools\\Visual_tools.py:28\u001b[0m, in \u001b[0;36mhitHeatMap\u001b[1;34m(eventChunk, tdc)\u001b[0m\n\u001b[0;32m     26\u001b[0m \u001b[38;5;28;01mdef\u001b[39;00m \u001b[38;5;21mhitHeatMap\u001b[39m(eventChunk, tdc):\n\u001b[0;32m     27\u001b[0m     \u001b[38;5;28mprint\u001b[39m(eventChunk)\n\u001b[1;32m---> 28\u001b[0m     \u001b[38;5;28mprint\u001b[39m(\u001b[43meventChunk\u001b[49m\u001b[38;5;241;43m.\u001b[39;49m\u001b[43mtdcEvents\u001b[49m[tdc])\n",
      "\u001b[1;31mAttributeError\u001b[0m: 'list' object has no attribute 'tdcEvents'"
     ]
    }
   ],
   "source": [
    "importlib.reload(rawFileReader) # Reload fReader\n",
    "importlib.reload(proAnubis_Analysis_Tools)\n",
    "importlib.reload(ATools)\n",
    "importlib.reload(VTools)\n",
    "\n",
    "fReader = rawFileReader.fileReader(file_path[0]) # load in the classs object\n",
    "initial_event_chunk = fReader.get_aligned_events()\n",
    "VTools.hitHeatMap(initial_event_chunk,0)"
   ]
  }
 ],
 "metadata": {
  "kernelspec": {
   "display_name": ".venv",
   "language": "python",
   "name": "python3"
  },
  "language_info": {
   "codemirror_mode": {
    "name": "ipython",
    "version": 3
   },
   "file_extension": ".py",
   "mimetype": "text/x-python",
   "name": "python",
   "nbconvert_exporter": "python",
   "pygments_lexer": "ipython3",
   "version": "3.10.4"
  }
 },
 "nbformat": 4,
 "nbformat_minor": 2
}
