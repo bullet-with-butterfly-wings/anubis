{
 "cells": [
  {
   "cell_type": "markdown",
   "metadata": {},
   "source": [
    "# Data Analysis Tutorial"
   ]
  },
  {
   "cell_type": "markdown",
   "metadata": {},
   "source": [
    "## Prerequisites\n",
    "You’ll need to know a bit of Python. For a refresher, see the [Python tutorial](https://docs.python.org/3/tutorial/)\n",
    "\n",
    "### Osiris Version\n",
    "The version of Osiris is slightly different to Michael's version. This version contains the realigner built into the fReader. \n",
    "Hence please use the version of Osiris I have provided. For versions compatible to the original Osiris, consult the labnotes."
   ]
  },
  {
   "cell_type": "markdown",
   "metadata": {},
   "source": [
    "### Python Version\n",
    "Python 3.x (Ensure you have a compatible version of Python 3.x installed. Python 2.x is not supported.)\n",
    "\n",
    "\n",
    "### Required Libraries and Modules\n",
    "The following libraries and modules are required to run the provided code:\n",
    "\n"
   ]
  },
  {
   "cell_type": "code",
   "execution_count": 4,
   "metadata": {},
   "outputs": [
    {
     "name": "stdout",
     "output_type": "stream",
     "text": [
      "Requirement already satisfied: numpy in c:\\users\\jony\\programming\\python\\anubis\\summer2\\tutorial with osiris\\.venv\\lib\\site-packages (2.0.1)\n",
      "Requirement already satisfied: hist in c:\\users\\jony\\programming\\python\\anubis\\summer2\\tutorial with osiris\\.venv\\lib\\site-packages (2.7.3)\n",
      "Requirement already satisfied: matplotlib in c:\\users\\jony\\programming\\python\\anubis\\summer2\\tutorial with osiris\\.venv\\lib\\site-packages (3.9.1)\n",
      "Requirement already satisfied: mplhep in c:\\users\\jony\\programming\\python\\anubis\\summer2\\tutorial with osiris\\.venv\\lib\\site-packages (0.3.50)\n",
      "Requirement already satisfied: pandas in c:\\users\\jony\\programming\\python\\anubis\\summer2\\tutorial with osiris\\.venv\\lib\\site-packages (2.2.2)\n",
      "Requirement already satisfied: plotly in c:\\users\\jony\\programming\\python\\anubis\\summer2\\tutorial with osiris\\.venv\\lib\\site-packages (5.23.0)\n",
      "Requirement already satisfied: scipy in c:\\users\\jony\\programming\\python\\anubis\\summer2\\tutorial with osiris\\.venv\\lib\\site-packages (1.14.0)\n",
      "Collecting tqdm\n",
      "  Downloading tqdm-4.66.4-py3-none-any.whl.metadata (57 kB)\n",
      "Requirement already satisfied: boost-histogram<1.5,>=1.3.1 in c:\\users\\jony\\programming\\python\\anubis\\summer2\\tutorial with osiris\\.venv\\lib\\site-packages (from hist) (1.4.1)\n",
      "Requirement already satisfied: histoprint>=2.2.0 in c:\\users\\jony\\programming\\python\\anubis\\summer2\\tutorial with osiris\\.venv\\lib\\site-packages (from hist) (2.4.0)\n",
      "Requirement already satisfied: typing-extensions>=4 in c:\\users\\jony\\programming\\python\\anubis\\summer2\\tutorial with osiris\\.venv\\lib\\site-packages (from hist) (4.12.2)\n",
      "Requirement already satisfied: contourpy>=1.0.1 in c:\\users\\jony\\programming\\python\\anubis\\summer2\\tutorial with osiris\\.venv\\lib\\site-packages (from matplotlib) (1.2.1)\n",
      "Requirement already satisfied: cycler>=0.10 in c:\\users\\jony\\programming\\python\\anubis\\summer2\\tutorial with osiris\\.venv\\lib\\site-packages (from matplotlib) (0.12.1)\n",
      "Requirement already satisfied: fonttools>=4.22.0 in c:\\users\\jony\\programming\\python\\anubis\\summer2\\tutorial with osiris\\.venv\\lib\\site-packages (from matplotlib) (4.53.1)\n",
      "Requirement already satisfied: kiwisolver>=1.3.1 in c:\\users\\jony\\programming\\python\\anubis\\summer2\\tutorial with osiris\\.venv\\lib\\site-packages (from matplotlib) (1.4.5)\n",
      "Requirement already satisfied: packaging>=20.0 in c:\\users\\jony\\programming\\python\\anubis\\summer2\\tutorial with osiris\\.venv\\lib\\site-packages (from matplotlib) (24.1)\n",
      "Requirement already satisfied: pillow>=8 in c:\\users\\jony\\programming\\python\\anubis\\summer2\\tutorial with osiris\\.venv\\lib\\site-packages (from matplotlib) (10.4.0)\n",
      "Requirement already satisfied: pyparsing>=2.3.1 in c:\\users\\jony\\programming\\python\\anubis\\summer2\\tutorial with osiris\\.venv\\lib\\site-packages (from matplotlib) (3.1.2)\n",
      "Requirement already satisfied: python-dateutil>=2.7 in c:\\users\\jony\\programming\\python\\anubis\\summer2\\tutorial with osiris\\.venv\\lib\\site-packages (from matplotlib) (2.9.0.post0)\n",
      "Requirement already satisfied: mplhep-data in c:\\users\\jony\\programming\\python\\anubis\\summer2\\tutorial with osiris\\.venv\\lib\\site-packages (from mplhep) (0.0.3)\n",
      "Requirement already satisfied: uhi>=0.2.0 in c:\\users\\jony\\programming\\python\\anubis\\summer2\\tutorial with osiris\\.venv\\lib\\site-packages (from mplhep) (0.4.0)\n",
      "Requirement already satisfied: pytz>=2020.1 in c:\\users\\jony\\programming\\python\\anubis\\summer2\\tutorial with osiris\\.venv\\lib\\site-packages (from pandas) (2024.1)\n",
      "Requirement already satisfied: tzdata>=2022.7 in c:\\users\\jony\\programming\\python\\anubis\\summer2\\tutorial with osiris\\.venv\\lib\\site-packages (from pandas) (2024.1)\n",
      "Requirement already satisfied: tenacity>=6.2.0 in c:\\users\\jony\\programming\\python\\anubis\\summer2\\tutorial with osiris\\.venv\\lib\\site-packages (from plotly) (9.0.0)\n",
      "Requirement already satisfied: colorama in c:\\users\\jony\\programming\\python\\anubis\\summer2\\tutorial with osiris\\.venv\\lib\\site-packages (from tqdm) (0.4.6)\n",
      "Requirement already satisfied: click>=7.0.0 in c:\\users\\jony\\programming\\python\\anubis\\summer2\\tutorial with osiris\\.venv\\lib\\site-packages (from histoprint>=2.2.0->hist) (8.1.7)\n",
      "Requirement already satisfied: six>=1.5 in c:\\users\\jony\\programming\\python\\anubis\\summer2\\tutorial with osiris\\.venv\\lib\\site-packages (from python-dateutil>=2.7->matplotlib) (1.16.0)\n",
      "Downloading tqdm-4.66.4-py3-none-any.whl (78 kB)\n",
      "Installing collected packages: tqdm\n",
      "Successfully installed tqdm-4.66.4\n"
     ]
    }
   ],
   "source": [
    "!pip install numpy hist matplotlib mplhep pandas plotly scipy tqdm"
   ]
  },
  {
   "cell_type": "code",
   "execution_count": 61,
   "metadata": {},
   "outputs": [],
   "source": [
    "import importlib\n",
    "import sys\n",
    "from tqdm import tqdm\n",
    "import  os\n",
    "import glob\n",
    "# Add the directories to the sys.path\n",
    "dir_path = \"C://Users//jony//Programming//Python//Anubis//anubis//\" # insert your directory path\n",
    "sys.path.append(dir_path + \"Osiris//processing//python\")\n",
    "sys.path.append(dir_path + \"tools\")\n",
    "\n",
    "import Analysis_tools as ATools\n",
    "import proAnubis_Analysis_Tools\n",
    "import Reconstruction_tools as RTools\n",
    "import mplhep as hep\n",
    "import Timing_tools as TTools\n",
    "import rawFileReader\n",
    "hep.style.use([hep.style.ATLAS])\n",
    "\n",
    "# Specify the directory\n",
    "data_list = sorted([f for f in os.listdir(\"data\") if os.path.isfile(os.path.join(\"data\", f))], reverse=True) ##all files in data directory sorted from the newest to the oldest\n",
    "\n",
    "file_path = list(map(lambda p: dir_path+\"//data//\"+p, data_list)) # insert your file"
   ]
  },
  {
   "cell_type": "markdown",
   "metadata": {},
   "source": [
    "### Tutorial Coverage\n",
    "\n",
    "This is a quick start tutorial example. In this tutorial you will find\n",
    "\n",
    "1. Example usage of various functions, with high level explainations\n",
    "2. How data gathered from rawfileReader, how data are processed with each other\n",
    "3. Reproducing all essential results obtained so far\n",
    "4. Comments on limitations and warning for usage\n",
    "5. Tutorial on Timing Analysis, Reconstruction and Realigner\n",
    "\n",
    "Results including alignment metric, TDC status metric, Reconstruction, time of flight analysis, and how to integrate these systems together\n",
    "\n",
    "<span style=\"color:green\">For a documentation styled explaination for each function, see other notebook</span>."
   ]
  },
  {
   "cell_type": "markdown",
   "metadata": {},
   "source": [
    "### Learning Objectives\n",
    "After this tutorial, you should be able to understand how the data are extracted from the Raw file, how these data are then used in each function to do their designated tasks.\n",
    "\n",
    "Understand the data structure, and how to use these data outputs to plot certain plots.\n",
    "\n",
    "Using class functions and decorators to extract internal variables (Or use PyCharm...)"
   ]
  },
  {
   "cell_type": "markdown",
   "metadata": {},
   "source": [
    "### Used Data\n",
    "All example data used are latest data proAnubis_240716_2142\n",
    "The Reconstruction algorithm was adapted to the latest data behavior where noise bursts were seen, so for the sake of speed, noise bursts were ignored."
   ]
  },
  {
   "cell_type": "markdown",
   "metadata": {},
   "source": [
    "### Usage Warning\n",
    "The code was adapted to analyse data in any situations, so the data structures were written prioritising mutability and easy extraction. This also means that for certain tasks, you might need to adjust low level functions' behavior. PyCharm does this much better than VsCode..."
   ]
  },
  {
   "cell_type": "markdown",
   "metadata": {},
   "source": [
    "# The Basics\n",
    "\n",
    "The rawFileReader.py is used to read the content of .raw files that stores the data from runs of proAnubis setup. .raw files contains uncompressed binary datas that requires the rawFileReader to decode and turn into useful analysis. \n",
    "\n",
    "The Pro_Anubis is run using triggers, which triggers data taking for 1250ns if there are 4 eta side strips triggered within a fixed time frame. Each trigger is called an <span style=\"color:cyan\">event</span>. \n",
    "\n",
    "An event contains a <span style=\"color:cyan\">header</span>, which details the content of the event, then the events are written in binary <span style=\"color:cyan\">words</span>, and n <span style=\"color:cyan\">End of block</span> signals a termination of an <span style=\"color:cyan\">event</span>\n",
    "\n",
    "The <span style=\"color:cyan\">event</span> are written as `proAnubEvent` object, which contains `tdcEvent` objects. \n"
   ]
  },
  {
   "cell_type": "markdown",
   "metadata": {},
   "source": [
    "### tdcEvent Class\n",
    "\n",
    "#### Overview\n",
    "The `tdcEvent` class is what the output from rawfileReaders are\n",
    "\n",
    "#### Class Variables\n",
    "\n",
    "##### `header`\n",
    "- **Type:** `Any`\n",
    "- **Description:** Represents the header word of the event. \n",
    "\n",
    "##### `words`\n",
    "- **Type:** `List[Any]`\n",
    "- **Default:** `[]`\n",
    "- **Description:** A list containing words for each event. These words represent the hits.\n",
    "\n",
    "##### `time`\n",
    "- **Type:** `Any`\n",
    "- **Description:** Holds the timing information for the event, a time stamp in Daytime format.\n",
    "\n",
    "##### `EOB`\n",
    "- **Type:** `Any`\n",
    "- **Default:** `None`\n",
    "- **Description:** Represents the end of block indicator. This is used to signify the end of a data block within a trigger.\n",
    "\n",
    "##### `qual`\n",
    "- **Type:** `int`\n",
    "- **Default:** `0`\n",
    "- **Description:** A quality check indicator. The `qual` value provides information on data integrity:\n",
    "  - If `qual == 0`, it means the data has not experienced corruption that required corrections in the raw file reader.\n",
    "  - If `qual != 0`, it indicates that data corruption occurred and was captured by the system.\n",
    "\n",
    "#### Constructor\n",
    "\n",
    "The `__init__` method initializes the `tdcEvent` class with the provided parameters:\n",
    "\n",
    "def __init__(self, header, time, words = [], eob=None, qual=0):\n",
    "    self.header = header\n",
    "    self.words = words\n",
    "    self.time = time\n",
    "    self.EOB = eob\n",
    "    self.qual = qual\n"
   ]
  },
  {
   "cell_type": "markdown",
   "metadata": {},
   "source": [
    "# Data Extraction\n",
    "\n",
    "To extract the data from raw files, the `get_aligned_events` function is used. At default, it will output globally aligned events untill the end of the file. Usually the file is very large, hene ann event loop is sggested to end early"
   ]
  },
  {
   "cell_type": "code",
   "execution_count": 5,
   "metadata": {},
   "outputs": [
    {
     "name": "stderr",
     "output_type": "stream",
     "text": [
      "Processing Events:   0%|          | 0/100 [00:00<?, ?Events/s]"
     ]
    },
    {
     "name": "stderr",
     "output_type": "stream",
     "text": [
      "Processing Events: 100%|██████████| 100/100 [00:02<00:00, 39.84Events/s]\n"
     ]
    }
   ],
   "source": [
    "importlib.reload(rawFileReader) # Reload fReader\n",
    "interval = 100 # Set your monitoring chunck size\n",
    "fReader = rawFileReader.fileReader(file_path[0]) # reload in the classs object\n",
    "order = [(0,1), (1,2), (2,3), (3,4)] # Order what you want to align\n",
    "max_process_event_chunk = 100 # End the loop early\n",
    "processedEvents = 0 # Initialisation\n",
    "\n",
    "\n",
    "with tqdm(total=max_process_event_chunk, desc=\"Processing Events\", unit='Events') as pbar:\n",
    "    while processedEvents < max_process_event_chunk:\n",
    "        processedEvents += 1\n",
    "        event_chunk = fReader.get_aligned_events(order=order, interval=interval)\n",
    "        #print(event_chunk[0].tdcEvents[0].time)\n",
    "        pbar.update(1)\n",
    "    "
   ]
  },
  {
   "cell_type": "markdown",
   "metadata": {},
   "source": [
    "## Internal variable extraction\n",
    "\n",
    "some internal variables might be interesting and worth studying. There are a variety of ways to extract them, the simplest way is to go back to the code, and add an extra class variable and record all the information in an instance. This however, is unsustainable and the usual gist is that you shouldn't rewrite a working system just to extract some variables you need once..."
   ]
  },
  {
   "cell_type": "markdown",
   "metadata": {},
   "source": [
    "### Decorators\n",
    "Decorators are a great tool to extract and capture information within the event run time without altering the original code. please read [Decorators tutorial](https://realpython.com/primer-on-python-decorators/) for more information\n",
    "Please note you need to restart the environment if the function rewrote by the decorator runs into issue, because the function will not return to original state"
   ]
  },
  {
   "cell_type": "markdown",
   "metadata": {},
   "source": [
    "An example decorator for printing out the alignment insertions done without altering the original function in fReader is printed here"
   ]
  },
  {
   "cell_type": "code",
   "execution_count": 90,
   "metadata": {},
   "outputs": [],
   "source": [
    "#Example Decorators to capture things in the loop so you don't need to redo any calculations later......\n",
    "def debug_decorator(processedEvents):\n",
    "    def inner_decorator(func):\n",
    "        def wrapper(*args, **kwargs):\n",
    "            result = func(*args, **kwargs)\n",
    "            insertion_list = result\n",
    "            update = args[0]\n",
    "            if insertion_list != [0,0,0,0,0]:\n",
    "                print(f'New alignment, Event chunk {processedEvents}, insertions {insertion_list}, Updates: {update}')\n",
    "            return result\n",
    "        return wrapper\n",
    "    return inner_decorator"
   ]
  },
  {
   "cell_type": "code",
   "execution_count": 91,
   "metadata": {},
   "outputs": [
    {
     "name": "stdout",
     "output_type": "stream",
     "text": [
      "New alignment, Event chunk 1, insertions [0, 1, 4, 5, 7], Updates: [-1, -3, -1, -2]\n",
      "New alignment, Event chunk 387, insertions [1, 1, 0, 1, 1], Updates: [0, 1, -1, 0]\n",
      "New alignment, Event chunk 399, insertions [0, 1, 1, 0, 0], Updates: [-1, 0, 1, 0]\n",
      "New alignment, Event chunk 424, insertions [0, 1, 1, 0, 0], Updates: [-1, 0, 1, 0]\n",
      "New alignment, Event chunk 434, insertions [0, 1, 1, 0, 0], Updates: [-1, 0, 1, 0]\n",
      "New alignment, Event chunk 649, insertions [1, 1, 0, 1, 1], Updates: [0, 1, -1, 0]\n",
      "New alignment, Event chunk 826, insertions [1, 1, 1, 0, 0], Updates: [0, 0, 1, 0]\n",
      "New alignment, Event chunk 827, insertions [0, 1, 1, 1, 1], Updates: [-1, 0, 0, 0]\n"
     ]
    }
   ],
   "source": [
    "#Jupyter notebook doesn't reload your import even when the content of the file is changed. This is crucial\n",
    "importlib.reload(rawFileReader)\n",
    "#The interval is the amount of chunks you want to do realignment analysis with. This also determines the size of the chunk your output is.\n",
    "interval = 100\n",
    "fReader = rawFileReader.fileReader(file_path[0])\n",
    "# Order is the alignment comparisons you need to specify. for each sublist in order is a pairwise comparison between 2 TDCs.\n",
    "order = [(0,1), (1,2), (2,3), (3,4)] #Your order to the TDC alignment\n",
    "# max_process_event_chunk is used to terminate early in the file reading loop. Your total number of events read will be defined as interval * max_proess_event_chunk\n",
    "max_process_event_chunk = 1000\n",
    "# some initialisation to store things\n",
    "processedEvents = 0\n",
    "events = []\n",
    "\n",
    "#Remember the original function\n",
    "original_ConstructEventInsertionList = ATools.ConstructEventInsertionList \n",
    "# condition to end event loop early\n",
    "while processedEvents < max_process_event_chunk:\n",
    "    processedEvents += 1\n",
    "    #Apply your decorator to change the function\n",
    "    ATools.ConstructEventInsertionList  = debug_decorator(processedEvents)(original_ConstructEventInsertionList)\n",
    "    event = fReader.get_aligned_events(order=order, interval=interval)\n",
    "#reset afterwards\n",
    "ATools.ConstructEventInsertionList  = original_ConstructEventInsertionList\n"
   ]
  },
  {
   "cell_type": "markdown",
   "metadata": {},
   "source": [
    "### Re_calculation\n",
    "\n",
    "Athough some calculations are processed internally, it might be easier to reprocess the output event list again by redoing the necessary calculations. This will result in redundant calculations, and not possible for all calculations, such as TDC monitoring metric and realignment words used. \n",
    "\n",
    "Both fReader and this code is written to ensure the data is calculated in chunks, this avoids memory overflow, and allow the program to start and terminate anywhere one desires.\n",
    "\n",
    "When the event chunk is loaded in to the instance, calculation has to be done within this instance, and saved into an external variable. Below is an example of using the function RTools.`find_tdc_event_count` to calculate the number of headers in each TDC and writing into a buffer `tdc_event_count_buffer` for that instance, then the information from the buffer is tranfered into an external memory storage `tdc_event_count` outside the process loop\n",
    "\n",
    "Similarly, the alignment metric can be calculated from ATools.`calcAvgAlign` (for more information refer to documentation)."
   ]
  },
  {
   "cell_type": "code",
   "execution_count": 91,
   "metadata": {},
   "outputs": [
    {
     "name": "stderr",
     "output_type": "stream",
     "text": [
      "Processing Events: 100%|██████████| 1000/1000 [00:16<00:00, 60.99Events/s]\n"
     ]
    }
   ],
   "source": [
    "importlib.reload(rawFileReader) # Reload fReader\n",
    "importlib.reload(proAnubis_Analysis_Tools)\n",
    "importlib.reload(ATools)\n",
    "interval = 100 # Set your monitoring chunck size\n",
    "fReader = rawFileReader.fileReader(file_path[2]) # reload in the classs object\n",
    "order = [(0,1), (1,2), (2,3), (3,4)] # Order what you want to align\n",
    "max_process_event_chunk = 1000 # End the loop early\n",
    "processedEvents = 0 # Initialisation\n",
    "\n",
    "#Initialise variables to store the results\n",
    "mets = [[] for tdc in range(5)]\n",
    "empty_header = 0 # Counting the number of empty headers\n",
    "emtpy_events_with_header = [[], []] # prepare two lists of same dimensions for line graph plotting\n",
    "tdc_event_count = [[] for tdc in range(5)]# prepare for histogram plotting\n",
    "\n",
    "\n",
    "with tqdm(total=max_process_event_chunk, desc=\"Processing Events\", unit='Events') as pbar:\n",
    "    while processedEvents < max_process_event_chunk:\n",
    "        processedEvents += 1\n",
    "        event_chunk = fReader.get_aligned_events(order=order, interval=interval) # get the aligned events\n",
    "        tdc_event_count_buffer = RTools.find_tdc_event_count(event_chunk) # finding the number of headers\n",
    "        [tdc_event_count[i].append(tdc_event_count_buffer[i]) for i in range(5)] # write from buffer to memory\n",
    "        for idx, (i, j) in enumerate(order):\n",
    "            x, y, l, m = ATools.find_tdc_alignment_metric(i, j) # determining which RPCs to use for aignment metric\n",
    "            alignMet = ATools.calcAvgAlign(event_chunk, 0, x, y, l, m, i, j, processedEvents) # determine the alignment metric\n",
    "            empty_header += (alignMet == -1) # Calculating the number of empty headers\n",
    "            emtpy_events_with_header[0].append(empty_header) # write to memory\n",
    "            emtpy_events_with_header[1].append(processedEvents)\n",
    "            mets[idx].append(alignMet) # write to memory\n",
    "        pbar.update(1)\n",
    "    "
   ]
  },
  {
   "cell_type": "code",
   "execution_count": 92,
   "metadata": {},
   "outputs": [],
   "source": [
    "import matplotlib.pyplot as plt\n",
    "fig, ax = plt.subplots(figsize=(10, 8))\n",
    "\n",
    "for idx, item in enumerate(order):\n",
    "    met = mets[idx]\n",
    "    i, j = item\n",
    "    binsx = [x for x in range(len(met))]\n",
    "    ax.plot(binsx, met, label=f'TDC{i} and TDC{j}, offset 0')\n",
    "\n",
    "\n",
    "ax.set_xlim(0, max_process_event_chunk)\n",
    "ax.set_ylim(-1, 40)\n",
    "ax.legend()\n",
    "ax.set_title('Alignment graph')\n",
    "ax.set_ylabel('Average $\\sqrt{d\\eta^2+d\\phi^2}$')\n",
    "ax.set_xlabel('Processed Event chunks')\n",
    "plt.show()"
   ]
  },
  {
   "cell_type": "code",
   "execution_count": 86,
   "metadata": {},
   "outputs": [],
   "source": [
    "plt.figure(figsize=(10, 6))\n",
    "plt.plot(emtpy_events_with_header[1], emtpy_events_with_header[0], marker='o')\n",
    "plt.xlabel('Processed Events')\n",
    "plt.ylabel('Only Header')\n",
    "plt.title('Only Header vs Processed Events')\n",
    "plt.grid(True)\n",
    "plt.show()"
   ]
  },
  {
   "cell_type": "code",
   "execution_count": 83,
   "metadata": {},
   "outputs": [],
   "source": [
    "fig, ax = plt.subplots(figsize=(10, 8))\n",
    "for tdc in range(5):\n",
    "    met = tdc_event_count[tdc]\n",
    "    binsx = [x for x in range(len(met))]\n",
    "    ax.plot(binsx, met, label=f'TDC{tdc}')\n",
    "\n",
    "ax.set_xlim(0, max_process_event_chunk)\n",
    "# ax.set_ylim(-1, 100)\n",
    "ax.legend()\n",
    "ax.set_title('TDC number of events recorded')\n",
    "ax.set_ylabel('num of events')\n",
    "ax.set_xlabel('Processed Event')\n",
    "plt.show()\n",
    "    "
   ]
  },
  {
   "cell_type": "markdown",
   "metadata": {},
   "source": [
    "## Conclusion\n",
    "\n",
    "fReader doesn't have many instances for storing metric, they are typically thrown out after use, hence it is very difficult to extract these out. However, it becomes easier as we move to Timing Analyser and Reconstructor where the class instances can be called directly to extract and record data. \n",
    "\n",
    "The general idea is, if the data is in Osiris, they are NOT stored so that it will run smoothly always. Other data like reconstructio and timing analyser will be stored in class instances, which will remain in memory as long you as you don't reload them"
   ]
  },
  {
   "cell_type": "markdown",
   "metadata": {},
   "source": [
    "# The `Timing Analyser`\n",
    "\n",
    "The `Timing_Analyser` class is designed to process and analyze timing data from event chunks. This class helps in calculating and visualizing time of flight analysis, residuals, and other related metrics for the pro_anubis detectors. It provides functionalities to update events, read TDC (Time-to-Digital Converter) time differences, calculate residuals, check eta trigger, and plot various data for analysis."
   ]
  },
  {
   "cell_type": "markdown",
   "metadata": {},
   "source": [
    "When using any class from `proAnubis_analysis_tools`, it is important that a new event loop format is used. The loop involves an initialisation, which clears all instances. When the event loop is entered, calculations are done through internal instances, meaning one must not TAnalyser, but to update the event_chunk through TAnalyser.`update_event`"
   ]
  },
  {
   "cell_type": "markdown",
   "metadata": {},
   "source": [
    "One of the most useful metric to determine the corruption status is TAnalyser.`check_eta_trigger`. This function checks if each chunk has corruption and also count the total number of corrupted events with which RPC was involved in the corruption within the class instance"
   ]
  },
  {
   "cell_type": "code",
   "execution_count": 74,
   "metadata": {},
   "outputs": [
    {
     "name": "stderr",
     "output_type": "stream",
     "text": [
      "Processing Events: 100%|██████████| 150/150 [00:02<00:00, 51.42Events/s]\n"
     ]
    }
   ],
   "source": [
    "importlib.reload(rawFileReader) # Reload fReader\n",
    "importlib.reload(proAnubis_Analysis_Tools)\n",
    "importlib.reload(ATools)\n",
    "interval = 100 # Set your monitoring chunck size\n",
    "fReader = rawFileReader.fileReader(file_path[0]) # load in the classs object\n",
    "order = [[0,1], [1,2], [2,3], [3,4]] # Order what you want to align\n",
    "max_process_event_chunk = 150 # End the loop early\n",
    "processedEvents = 0 # Initialisation\n",
    "initial_event_chunk = fReader.get_aligned_events(order=order, interval=interval)\n",
    "TAnalyser = proAnubis_Analysis_Tools.Timing_Analyser(initial_event_chunk,processedEvents)\n",
    "with tqdm(total=max_process_event_chunk, desc=\"Processing Events\", unit='Events') as pbar:\n",
    "    while processedEvents < max_process_event_chunk:\n",
    "        processedEvents += 1\n",
    "        event_chunk = fReader.get_aligned_events(order=order, interval=interval)\n",
    "        if event_chunk:\n",
    "            TAnalyser.update_event(event_chunk, processedEvents)\n",
    "            status, failure = TAnalyser.check_eta_trigger()\n",
    "            if not status:\n",
    "                #print(f'Event chunk {processedEvents} failed the eta trigger check')\n",
    "                #print(failure)\n",
    "                pass\n",
    "        pbar.update(1)"
   ]
  },
  {
   "cell_type": "markdown",
   "metadata": {},
   "source": [
    "To plot these on a graph, note we are calling from TAnalyser to obtain the information we needed"
   ]
  },
  {
   "cell_type": "code",
   "execution_count": 75,
   "metadata": {},
   "outputs": [],
   "source": [
    "event_counts_windows = [len(TAnalyser.count[count]) for count in range(7)]\n",
    "total_windows = sum(event_counts_windows)\n",
    "normalized_windows = [count / total_windows for count in event_counts_windows]\n",
    "normalized_windows.append(normalized_windows[-1])\n",
    "plt.figure(figsize=(12, 8))\n",
    "r1 = list(range(7)) + [6.5]\n",
    "\n",
    "# plt.step(r1, normalized_linux, color='mediumseagreen', linestyle='-', linewidth=2, markersize=6, label='0-15000', alpha=1, where='mid')\n",
    "plt.step(r1, normalized_windows, color='dodgerblue', linestyle='-', linewidth=2, markersize=6, label='0-15000?', alpha=1, where='mid')\n",
    "\n",
    "plt.xlabel('Trigger Number')\n",
    "plt.ylabel('Number of Events Normalized')\n",
    "plt.title('Normalized Event Count')\n",
    "plt.ylim(0)\n",
    "plt.xlim(0, 6.5)\n",
    "plt.xticks(range(7))\n",
    "plt.grid(axis='y', linestyle='--', alpha=0.7)\n",
    "\n",
    "plt.legend()\n",
    "plt.show()"
   ]
  },
  {
   "cell_type": "markdown",
   "metadata": {},
   "source": [
    "As an example, one can also plot directly from class accessing the class variable. This makes no difference fundamentally, but it does make the code much clearer and immediately clear what you are plotting"
   ]
  },
  {
   "cell_type": "code",
   "execution_count": 13,
   "metadata": {},
   "outputs": [],
   "source": [
    "TAnalyser.plot_rpc_involvement_histogram()"
   ]
  },
  {
   "cell_type": "markdown",
   "metadata": {},
   "source": [
    "## TDC monitoring\n",
    "The TDC monitoring script is innatly written in the fReader. Every 2500 events, the TDC status is monitored. This TDC status metric counts the number of events where the first time is within the \"bad region\" with an event time> 300 ns compare to the \"good region\" where the event time <300ns. It was typicaly found that the TDC is in an error state when the fraction is larger than 0.2\n",
    "\n",
    "As a complementary output, TDC_info is also outputted to show the first hit time and first hit channels on each TDC."
   ]
  },
  {
   "cell_type": "code",
   "execution_count": 108,
   "metadata": {},
   "outputs": [
    {
     "name": "stderr",
     "output_type": "stream",
     "text": [
      "Processing Events: 100%|██████████| 1000/1000 [00:02<00:00, 360.08Events/s]\n"
     ]
    }
   ],
   "source": [
    "importlib.reload(rawFileReader) # Reload fReader\n",
    "importlib.reload(proAnubis_Analysis_Tools)\n",
    "importlib.reload(ATools)\n",
    "interval = 100 # Set your monitoring chunck size\n",
    "fReader = rawFileReader.fileReader(file_path[2]) # load in the classs object\n",
    "order = [[0,1], [1,2], [2,3], [3,4]] # Order what you want to align\n",
    "max_process_event_chunk = 10000 # End the loop early\n",
    "processedEvents = 0 # Initialisation\n",
    "initial_event_chunk = fReader.get_aligned_events(order=order, interval=interval)\n",
    "#Initialisation\n",
    "tdc_mets = [[] for tdc in range(5)]\n",
    "Tot_TDC_info = [[] for tdc in range(5)]\n",
    "with tqdm(total=max_process_event_chunk, desc=\"Processing Events\", unit='Events') as pbar:\n",
    "    while processedEvents < max_process_event_chunk:\n",
    "        processedEvents += 1\n",
    "        event_chunk, tdc_met, TDC_info = fReader.get_aligned_events(order=order, interval=interval, extract_tdc_mets = True) \n",
    "        # get_aligned_events have a choice to output the tdc metric and tdc information by setting extract_tdc_mets to be True\n",
    "        [tdc_mets[i].append(tdc_met[i]) for i in range(5) if tdc_met[i] != 0]\n",
    "        [Tot_TDC_info[i].extend(TDC_info[i]) for i in range(5) if TDC_info[i]]\n",
    "        pbar.update(1)\n"
   ]
  },
  {
   "cell_type": "code",
   "execution_count": 109,
   "metadata": {},
   "outputs": [],
   "source": [
    "import matplotlib.pyplot as plt\n",
    "colors = ['blue', 'green', 'red', 'purple', 'orange']\n",
    "fig, ax = plt.subplots(figsize=(10, 8))\n",
    "for tdc in range(5):\n",
    "    met = tdc_mets[tdc]\n",
    "    binsx = [x*250 for x in range(len(met))]\n",
    "    ax.plot(binsx,met, label = f'tdc {tdc}', color = colors[tdc])\n",
    "\n",
    "ax.set_xlim(0,max_process_event_chunk)\n",
    "# ax.set_ylim(0,1)\n",
    "ax.legend()\n",
    "ax.set_title('TDC monitoring metric')\n",
    "ax.set_ylabel('bad time behavior / nominal time behavior')\n",
    "ax.set_xlabel('processed Event')\n",
    "plt.show()"
   ]
  },
  {
   "cell_type": "markdown",
   "metadata": {},
   "source": [
    "By plotting these out, one will see the first hit time and first hit channels vary between the good and bad regions"
   ]
  },
  {
   "cell_type": "code",
   "execution_count": 110,
   "metadata": {},
   "outputs": [
    {
     "name": "stderr",
     "output_type": "stream",
     "text": [
      "C:\\/Users//jony//Programming//Python//Anubis//anubis//tools\\Timing_tools.py:305: UserWarning: No artists with labels found to put in legend.  Note that artists whose label start with an underscore are ignored when legend() is called with no argument.\n",
      "  plt.legend()\n"
     ]
    }
   ],
   "source": [
    "importlib.reload(TTools)\n",
    "TTools.plot_tdc_error_times(Tot_TDC_info)\n",
    "TTools.plot_tdc_error_times_custom_ranges(Tot_TDC_info, [(0, 100), (100, 200)], output_pdf='TDC_first_hit_time.pdf')\n",
    "TTools.plot_tdc_error_channels(Tot_TDC_info)\n",
    "TTools.plot_tdc_error_channels_custom_ranges(Tot_TDC_info, [(0, 100), (100, 200)], tdcs_to_plot=None, output_pdf='TDC_first_hit_time_channel.pdf')"
   ]
  },
  {
   "cell_type": "markdown",
   "metadata": {},
   "source": [
    "Getting the variables used to calculate the alignment metric is even more difficult, since the output data is not representative to what the code used to compute the alignment metric, hence we need decorators to capture the variable in question during the program's run time, record them, and plot them. Below is an example decorator designed to capture the event words used when doing realignments. \n",
    "\n",
    "Essentially it access the function in question, capturing its' input and output, and calculating the the min channels after the original calculation. \n",
    "\n",
    "You may ask why do I do this, well this is because the functino calculating this is step 4 deep in the code, you need to pretty much add this extra check in every functino it passes through, eventually extracting it to the top level. And you probably shouldn't mess with fReader that much.."
   ]
  },
  {
   "cell_type": "code",
   "execution_count": 83,
   "metadata": {},
   "outputs": [],
   "source": [
    "class Capturer:\n",
    "    def __init__(self):\n",
    "        self.TDC_alignment_time = [[] for _ in range(5)]\n",
    "        self.processedEvents = 0 \n",
    "\n",
    "    def extra_calculation_decorator(self, func):\n",
    "        def wrapper(*args, **kwargs):\n",
    "            minTimes = [300, 300]\n",
    "            minChans = [-1, -1]\n",
    "            minRPC = [-1, -1]\n",
    "            minWord = [-1, -1]\n",
    "            tdc = [-1, -1]\n",
    "            eta = [True, True]\n",
    "            \n",
    "            rpc1Hits = args[0]\n",
    "            rpc2Hits = args[1]\n",
    "            skipChans = kwargs.get('skipChans', [])\n",
    "\n",
    "            result = func(*args, **kwargs)\n",
    "            \n",
    "            if result == -1:\n",
    "                return result\n",
    "            for hit in rpc1Hits:\n",
    "                if hit.time < minTimes[0] and hit.channel not in skipChans:\n",
    "                    minTimes[0] = hit.time\n",
    "                    minChans[0] = hit.channel\n",
    "                    minRPC[0] = hit.rpc\n",
    "                    eta[0] = hit.eta\n",
    "            for hit in rpc2Hits:\n",
    "                if hit.time < minTimes[1] and hit.channel not in skipChans:\n",
    "                    minTimes[1] = hit.time\n",
    "                    minChans[1] = hit.channel\n",
    "                    minRPC[1] = hit.rpc\n",
    "                    eta[1] = hit.eta\n",
    "            \n",
    "            if -1 in minChans:\n",
    "                return -1\n",
    "            \n",
    "            a = TTools.rpcHitToTdcChan(minRPC[0], minChans[0], eta[0])\n",
    "            b = TTools.rpcHitToTdcChan(minRPC[1], minChans[1], eta[1])\n",
    "            \n",
    "            tdc[0], minWord[0] = a\n",
    "            tdc[1], minWord[1] = b\n",
    "\n",
    "            self.TDC_alignment_time[tdc[0]].append((minTimes[0], a, self.processedEvents))\n",
    "            self.TDC_alignment_time[tdc[1]].append((minTimes[1], b, self.processedEvents))\n",
    "\n",
    "            return result\n",
    "\n",
    "        return wrapper"
   ]
  },
  {
   "cell_type": "code",
   "execution_count": 84,
   "metadata": {},
   "outputs": [
    {
     "name": "stderr",
     "output_type": "stream",
     "text": [
      "Processing Events: 100%|██████████| 200/200 [00:04<00:00, 42.90Events/s]\n"
     ]
    }
   ],
   "source": [
    "importlib.reload(proAnubis_Analysis_Tools)\n",
    "importlib.reload(ATools)\n",
    "importlib.reload(TTools)\n",
    "\n",
    "Capturer = Capturer()\n",
    "\n",
    "# Apply the decorator\n",
    "original_testAlign = ATools.testAlign\n",
    "ATools.testAlign = Capturer.extra_calculation_decorator(ATools.testAlign)\n",
    "\n",
    "# Main loop\n",
    "interval = 100  # Set your monitoring chunk size\n",
    "fReader = rawFileReader.fileReader(file_path)  # Load in the class object\n",
    "order = [[0, 1], [1, 2], [2, 3], [3, 4]]  # Order what you want to align\n",
    "max_process_event_chunk = 200  # End the loop early\n",
    "processedEvents = 0  # Initialization\n",
    "initial_event_chunk = fReader.get_aligned_events(order=order, interval=interval)\n",
    "tdc_mets = [[] for tdc in range(5)]\n",
    "Tot_TDC_info = [[] for tdc in range(5)]\n",
    "\n",
    "with tqdm(total=max_process_event_chunk, desc=\"Processing Events\", unit='Events') as pbar:\n",
    "    while processedEvents < max_process_event_chunk:\n",
    "        processedEvents += 1\n",
    "        Capturer.processedEvents = processedEvents\n",
    "        event_chunk = fReader.get_aligned_events(order=order, interval=interval)\n",
    "        pbar.update(1)\n",
    "# Return to original, or restart kernal\n",
    "ATools.testAlign = original_testAlign\n",
    "\n"
   ]
  },
  {
   "cell_type": "markdown",
   "metadata": {},
   "source": [
    "Hence you can find which channels and which timing are used for alignment metric calculation"
   ]
  },
  {
   "cell_type": "code",
   "execution_count": 63,
   "metadata": {},
   "outputs": [
    {
     "ename": "NameError",
     "evalue": "name 'Capturer' is not defined",
     "output_type": "error",
     "traceback": [
      "\u001b[1;31m---------------------------------------------------------------------------\u001b[0m",
      "\u001b[1;31mNameError\u001b[0m                                 Traceback (most recent call last)",
      "Cell \u001b[1;32mIn[63], line 2\u001b[0m\n\u001b[0;32m      1\u001b[0m importlib\u001b[38;5;241m.\u001b[39mreload(TTools)\n\u001b[1;32m----> 2\u001b[0m TTools\u001b[38;5;241m.\u001b[39mplot_tdc_alignment_channels_custom_ranges(\u001b[43mCapturer\u001b[49m\u001b[38;5;241m.\u001b[39mTDC_alignment_time, [(\u001b[38;5;241m0\u001b[39m, \u001b[38;5;241m50\u001b[39m), (\u001b[38;5;241m50\u001b[39m, \u001b[38;5;241m100\u001b[39m)], output_pdf\u001b[38;5;241m=\u001b[39m\u001b[38;5;124m'\u001b[39m\u001b[38;5;124mData_output/TDC_alignment_channels_used.pdf\u001b[39m\u001b[38;5;124m'\u001b[39m )\n\u001b[0;32m      3\u001b[0m TTools\u001b[38;5;241m.\u001b[39mplot_tdc_alignment_times_custom_ranges(Capturer\u001b[38;5;241m.\u001b[39mTDC_alignment_time, [(\u001b[38;5;241m0\u001b[39m, \u001b[38;5;241m50\u001b[39m), (\u001b[38;5;241m50\u001b[39m, \u001b[38;5;241m100\u001b[39m)], output_pdf\u001b[38;5;241m=\u001b[39m\u001b[38;5;124m'\u001b[39m\u001b[38;5;124mData_output/TDC_alignment_time_used.pdf\u001b[39m\u001b[38;5;124m'\u001b[39m )\n",
      "\u001b[1;31mNameError\u001b[0m: name 'Capturer' is not defined"
     ]
    }
   ],
   "source": [
    "importlib.reload(TTools)\n",
    "TTools.plot_tdc_alignment_channels_custom_ranges(Capturer.TDC_alignment_time, [(0, 50), (50, 100)], output_pdf='Data_output/TDC_alignment_channels_used.pdf' )\n",
    "TTools.plot_tdc_alignment_times_custom_ranges(Capturer.TDC_alignment_time, [(0, 50), (50, 100)], output_pdf='Data_output/TDC_alignment_time_used.pdf' )"
   ]
  },
  {
   "cell_type": "markdown",
   "metadata": {},
   "source": [
    "### time walk effect\n",
    "\n",
    "It was found that signals takes time to travel from the FEB to the TDC, and on top of that, a systematic timing offset on each channel was also observed. Below is a tool written by Michael to read the timing difference between eta and phi channels, and averaging them across the entire chunk, and finally plotting them."
   ]
  },
  {
   "cell_type": "code",
   "execution_count": 38,
   "metadata": {},
   "outputs": [],
   "source": [
    "importlib.reload(rawFileReader) # Reload fReader\n",
    "importlib.reload(proAnubis_Analysis_Tools)\n",
    "importlib.reload(ATools)\n",
    "interval = 100 # Set your monitoring chunck size\n",
    "fReader = rawFileReader.fileReader(file_path) # load in the classs object\n",
    "order = [[0,1], [1,2], [2,3], [3,4]] # Order what you want to align\n",
    "max_process_event_chunk = 1000 # End the loop early\n",
    "processedEvents = 0 # Initialisation\n",
    "initial_event_chunk = fReader.get_aligned_events(order=order, interval=interval)\n",
    "TAnalyser = proAnubis_Analysis_Tools.Timing_Analyser(initial_event_chunk,processedEvents)\n",
    "while processedEvents < max_process_event_chunk:\n",
    "    processedEvents += 1\n",
    "    event_chunk = fReader.get_aligned_events(order=order, interval=interval)\n",
    "    if event_chunk:\n",
    "        TAnalyser.update_event(event_chunk, processedEvents)\n",
    "        TAnalyser.readTDCTimeDiffs()\n",
    "        \n",
    "outDict = {'totDiffs':TAnalyser.totDiffs,\n",
    "                    'nDiffs':TAnalyser.nDiffs,\n",
    "                    'diffHists':TAnalyser.diffHists} "
   ]
  },
  {
   "cell_type": "markdown",
   "metadata": {},
   "source": [
    "The residual is calculated by applying the time walk correction, then averaging across the whole strip to a 2D plane. You should be able to see the time walk effect gone after applying the correction, and we are left with systematic corrections only"
   ]
  },
  {
   "cell_type": "code",
   "execution_count": 39,
   "metadata": {},
   "outputs": [
    {
     "name": "stdout",
     "output_type": "stream",
     "text": [
      "Warning: <class 'uhi.numpy_plottable.NumPyPlottableHistogram'> is not allowed to get flow bins, flow bin option set to None\n",
      "Warning: <class 'uhi.numpy_plottable.NumPyPlottableHistogram'> is not allowed to get flow bins, flow bin option set to None\n",
      "Warning: <class 'uhi.numpy_plottable.NumPyPlottableHistogram'> is not allowed to get flow bins, flow bin option set to None\n",
      "Warning: <class 'uhi.numpy_plottable.NumPyPlottableHistogram'> is not allowed to get flow bins, flow bin option set to None\n",
      "Warning: <class 'uhi.numpy_plottable.NumPyPlottableHistogram'> is not allowed to get flow bins, flow bin option set to None\n",
      "Warning: <class 'uhi.numpy_plottable.NumPyPlottableHistogram'> is not allowed to get flow bins, flow bin option set to None\n",
      "Warning: <class 'uhi.numpy_plottable.NumPyPlottableHistogram'> is not allowed to get flow bins, flow bin option set to None\n",
      "Warning: <class 'uhi.numpy_plottable.NumPyPlottableHistogram'> is not allowed to get flow bins, flow bin option set to None\n",
      "Warning: <class 'uhi.numpy_plottable.NumPyPlottableHistogram'> is not allowed to get flow bins, flow bin option set to None\n",
      "Warning: <class 'uhi.numpy_plottable.NumPyPlottableHistogram'> is not allowed to get flow bins, flow bin option set to None\n",
      "Warning: <class 'uhi.numpy_plottable.NumPyPlottableHistogram'> is not allowed to get flow bins, flow bin option set to None\n",
      "Warning: <class 'uhi.numpy_plottable.NumPyPlottableHistogram'> is not allowed to get flow bins, flow bin option set to None\n"
     ]
    }
   ],
   "source": [
    "residEta, residPhi = TAnalyser.Calculate_Residual_and_plot_TDC_Time_Diffs( \n",
    "                                                     pdf_filename='Data_output/TDC_time_diffs.pdf', \n",
    "                                                     max_itr = 5)"
   ]
  },
  {
   "cell_type": "markdown",
   "metadata": {},
   "source": [
    "If you look at TAnalyser.`Calculate_Residual_and_plot_TDC_Time_Diffs`, there is a magic number for slope and offset, which is curve fitted by the function below. feel free to change it after fitting a larger amount of data set"
   ]
  },
  {
   "cell_type": "code",
   "execution_count": 9,
   "metadata": {},
   "outputs": [
    {
     "name": "stdout",
     "output_type": "stream",
     "text": [
      "0.15415730778671458 16.159064658832435\n",
      "R² value: 0.6248481250576245\n"
     ]
    }
   ],
   "source": [
    "importlib.reload(proAnubis_Analysis_Tools)\n",
    "TAnalyser.plot_and_fit_tof_corrections()"
   ]
  },
  {
   "cell_type": "markdown",
   "metadata": {},
   "source": [
    "To look at each individual strip, one can use this function"
   ]
  },
  {
   "cell_type": "code",
   "execution_count": 10,
   "metadata": {},
   "outputs": [],
   "source": [
    "importlib.reload(TTools)\n",
    "TTools.show_strip_time_info(outDict, 20, 22, 2)"
   ]
  },
  {
   "cell_type": "markdown",
   "metadata": {},
   "source": [
    "You can also plot the residual through this function"
   ]
  },
  {
   "cell_type": "code",
   "execution_count": 42,
   "metadata": {},
   "outputs": [],
   "source": [
    "importlib.reload(proAnubis_Analysis_Tools)\n",
    "TAnalyser.plot_residual()"
   ]
  },
  {
   "cell_type": "markdown",
   "metadata": {},
   "source": [
    "### Conclusion\n",
    "\n",
    "The Timing analysis class contains all the functions needed to analyse the time walk effect, capturing timing corruptions in TDCs, and also monitoring tdcs as well. A general idea is that anything designed to run smoothly to produce the most useful result is written in TAnalyser with all instances stored internally. Analysis on individual bits will be in TTools. "
   ]
  },
  {
   "cell_type": "markdown",
   "metadata": {},
   "source": [
    "# Reconstructor\n",
    "Very similar to the Timing Analyser, the Reconstructor's main goal is to reconstruct muon paths from the given data. The details of the code can be found under the documentation under the function RTools.`reconstruct_timed_Chi2_ByRPC`\n",
    "\n",
    "below is an example of finding the efficiency of each RPC. The test RPC is removed, and a line is reconstructed using other 5 RPCs. This line is then extrapolated to the test RPCs' location, and a area of certain radius called the `tolerance` is probed for the hits. the success and failure together with their location is recorded"
   ]
  },
  {
   "cell_type": "code",
   "execution_count": 13,
   "metadata": {},
   "outputs": [
    {
     "name": "stderr",
     "output_type": "stream",
     "text": [
      "Processing Events: 100%|██████████| 100/100 [00:32<00:00,  3.09Events/s]\n"
     ]
    }
   ],
   "source": [
    "importlib.reload(rawFileReader) # Reload fReader\n",
    "importlib.reload(proAnubis_Analysis_Tools)\n",
    "importlib.reload(ATools)\n",
    "interval = 100 # Set your monitoring chunck size\n",
    "fReader = rawFileReader.fileReader(file_path) # load in the classs object\n",
    "order = [[0,1], [1,2], [2,3], [3,4]] # Order what you want to align\n",
    "max_process_event_chunk = 100 # End the loop early\n",
    "processedEvents = 0 # Initialisation\n",
    "initial_event_chunk = fReader.get_aligned_events(order=order, interval=interval)\n",
    "reconstructor = proAnubis_Analysis_Tools.Reconstructor(initial_event_chunk, processedEvents)\n",
    "with tqdm(total=max_process_event_chunk, desc=\"Processing Events\", unit='Events') as pbar:\n",
    "    while processedEvents < max_process_event_chunk:\n",
    "        processedEvents += 1\n",
    "        event_chunk = fReader.get_aligned_events(order=order, interval=interval)\n",
    "        #Zone of Reconstruction\n",
    "        if event_chunk:\n",
    "            # We need to update the event like TAnalyser as well\n",
    "            reconstructor.update_event(event_chunk, processedEvents)\n",
    "            # populate_hits turns TDC bit wise information into their corresponding strips\n",
    "            reconstructor.populate_hits()\n",
    "            # This is obtionnal, and requires the residual of eta and phi\n",
    "            reconstructor.apply_systematic_correction(residEta, residPhi)\n",
    "            # make_cluster does temporal and spatial coincidence between the stips, and reconstruction is done\n",
    "            cluster = reconstructor.make_cluster()\n",
    "            # Finally, recontruction is done using cluster information\n",
    "            reconstructor.reconstruct_and_extrapolate(cluster)\n",
    "        pbar.update(1)"
   ]
  },
  {
   "cell_type": "markdown",
   "metadata": {},
   "source": [
    "Plotting the efficiency"
   ]
  },
  {
   "cell_type": "code",
   "execution_count": 15,
   "metadata": {},
   "outputs": [
    {
     "name": "stdout",
     "output_type": "stream",
     "text": [
      "[956, 1041, 1305, 1228, 1609, 1100]\n"
     ]
    }
   ],
   "source": [
    "import matplotlib.pyplot as plt\n",
    "plt.figure(figsize=(10, 6))\n",
    "for RPC in range(6):\n",
    "    if reconstructor.possible_reconstructions[RPC] == 0:\n",
    "        efficiency = [0 for x in reconstructor.successful_reconstructions[RPC]]\n",
    "    else:\n",
    "        efficiency = [x / reconstructor.possible_reconstructions[RPC] for x in reconstructor.successful_reconstructions[RPC]]\n",
    "    plt.plot(reconstructor.tol, efficiency, label=f'RPC {RPC}')\n",
    "\n",
    "plt.xlabel('Tolerance')\n",
    "plt.ylabel('Efficiency')\n",
    "plt.title('idc what the title is')\n",
    "plt.legend()\n",
    "plt.grid(True)\n",
    "plt.show()\n",
    "print(reconstructor.possible_reconstructions)"
   ]
  },
  {
   "cell_type": "markdown",
   "metadata": {},
   "source": [
    "You can also plot a heat map using the information obtained from the reconstruction"
   ]
  },
  {
   "cell_type": "code",
   "execution_count": 16,
   "metadata": {},
   "outputs": [
    {
     "name": "stdout",
     "output_type": "stream",
     "text": [
      "Warning: <class 'uhi.numpy_plottable.NumPyPlottableHistogram'> is not allowed to get flow bins, flow bin option set to None\n",
      "Warning: <class 'uhi.numpy_plottable.NumPyPlottableHistogram'> is not allowed to get flow bins, flow bin option set to None\n",
      "Warning: <class 'uhi.numpy_plottable.NumPyPlottableHistogram'> is not allowed to get flow bins, flow bin option set to None\n",
      "Warning: <class 'uhi.numpy_plottable.NumPyPlottableHistogram'> is not allowed to get flow bins, flow bin option set to None\n",
      "Warning: <class 'uhi.numpy_plottable.NumPyPlottableHistogram'> is not allowed to get flow bins, flow bin option set to None\n",
      "Warning: <class 'uhi.numpy_plottable.NumPyPlottableHistogram'> is not allowed to get flow bins, flow bin option set to None\n",
      "PDF created successfully.\n"
     ]
    }
   ],
   "source": [
    "import matplotlib.colors as colors\n",
    "import numpy as np\n",
    "from matplotlib.backends.backend_pdf import PdfPages\n",
    "rpcNames = {0: \"Triplet Low\", 1: \"Triplet Mid\", 2: \"Triplet Top\", 3: \"Singlet\", 4: \"Doublet Low\", 5: \"Doublet Top\"}\n",
    "\n",
    "success_events = [[0 for etchan in range(32)] for phchan in range(64)]\n",
    "\n",
    "with PdfPages('Data_output/reconstruction_heatmap_plots.pdf') as pdf:\n",
    "    for rpc in range(6):\n",
    "        for ph in range(64):\n",
    "            for et in range(32):\n",
    "                if reconstructor.successful_reconstructed_coords[rpc][ph][et] > 0:\n",
    "                    total_successful = reconstructor.successful_reconstructed_coords[rpc][ph][et]\n",
    "                    total_events = reconstructor.possible_reconstructions_coords[rpc][ph][et]\n",
    "                    if total_events > 0:\n",
    "                        success_events[ph][et] = total_successful / total_events\n",
    "                    else:\n",
    "                        success_events[ph][et] = 0  # No events, efficiency is 0\n",
    "\n",
    "        fig, ax = plt.subplots(1, figsize=(16, 8), dpi=100)\n",
    "        etachannels = [x - 0.5 for x in range(33)]\n",
    "        phichannels = [x - 0.5 for x in range(65)]\n",
    "        etaHist = (success_events, np.array(phichannels), np.array(etachannels))\n",
    "        zrange = [0, max(max(row) for row in success_events)]\n",
    "        thisHist = hep.hist2dplot(etaHist, norm=colors.Normalize(zrange[0], zrange[1]))\n",
    "        thisHist.cbar.set_label('Successful reconstructions / Possible reconstructions', rotation=270, y=0.3, labelpad=23)\n",
    "        plt.ylim(31.5, -0.5)\n",
    "        plt.ylabel(\"Eta Channel\")\n",
    "        plt.xlabel(\"Phi Channel\")\n",
    "        ax.set_title(rpcNames[rpc])\n",
    "\n",
    "        # Draw lines\n",
    "        x_points = [-0.5, 64.5]\n",
    "        y_points = [7.5, 15.5, 23.5]\n",
    "        for y_point in y_points:\n",
    "            plt.plot(x_points, [y_point, y_point], 'k', linestyle='dotted')\n",
    "        y_points = [-0.5, 31.5]\n",
    "        x_points = [7.5, 15.5, 23.5, 31.5, 39.5, 47.5, 55.5]\n",
    "        for x_point in x_points:\n",
    "            plt.plot([x_point, x_point], y_points, 'k', linestyle='dashed')\n",
    "\n",
    "        pdf.savefig(fig)\n",
    "        plt.close(fig)\n",
    "\n",
    "print(\"PDF created successfully.\")"
   ]
  },
  {
   "cell_type": "markdown",
   "metadata": {},
   "source": [
    "### Extracting angle information\n",
    "\n",
    "One side product of reconstruction algorithm is the extraction of angles. This uses all 6 RPCs to reconstruct tracks, and find their angular distribution. The reason why a separate function is used to the efficiency calculation will be made clear later in the detailed explaination section"
   ]
  },
  {
   "cell_type": "code",
   "execution_count": 40,
   "metadata": {},
   "outputs": [
    {
     "name": "stderr",
     "output_type": "stream",
     "text": [
      "Processing Events: 100%|██████████| 150/150 [00:22<00:00,  6.68Events/s]\n"
     ]
    }
   ],
   "source": [
    "importlib.reload(rawFileReader) # Reload fReader\n",
    "importlib.reload(proAnubis_Analysis_Tools)\n",
    "importlib.reload(ATools)\n",
    "interval = 100 # Set your monitoring chunck size\n",
    "fReader = rawFileReader.fileReader(file_path) # load in the classs object\n",
    "order = [[0,1], [1,2], [2,3], [3,4]] # Order what you want to align\n",
    "max_process_event_chunk = 150 # End the loop early\n",
    "processedEvents = 0 # Initialisation\n",
    "initial_event_chunk = fReader.get_aligned_events(order=order, interval=interval)\n",
    "reconstructor = proAnubis_Analysis_Tools.Reconstructor(initial_event_chunk, processedEvents, tof_correction=True)\n",
    "TAnalyser = proAnubis_Analysis_Tools.Timing_Analyser(initial_event_chunk,processedEvents)\n",
    "with tqdm(total=max_process_event_chunk, desc=\"Processing Events\", unit='Events') as pbar:\n",
    "    while processedEvents < max_process_event_chunk:\n",
    "        processedEvents += 1\n",
    "        event_chunk = fReader.get_aligned_events(order=order, interval=interval)\n",
    "        if event_chunk:\n",
    "            reconstructor.update_event(event_chunk, processedEvents)\n",
    "            # if processedEvents < 250:\n",
    "            #     pbar.update(1)\n",
    "            #     continue\n",
    "            reconstructor.populate_hits()\n",
    "            reconstructor.apply_systematic_correction(residEta, residPhi)\n",
    "            cluster = reconstructor.make_cluster()\n",
    "            filtered_events = RTools.filter_events(cluster,1,6)     \n",
    "            reconstructor.extract_angles_phi_eta_timed_DZ_modified(filtered_events)\n",
    "        pbar.update(1)"
   ]
  },
  {
   "cell_type": "markdown",
   "metadata": {},
   "source": [
    "I was about to make this into a function, but then i need to write documentation for a code purely for plotting, might as well write it out here"
   ]
  },
  {
   "cell_type": "code",
   "execution_count": 41,
   "metadata": {},
   "outputs": [],
   "source": [
    "import matplotlib.pyplot as plt\n",
    "import numpy as np\n",
    "fig, (ax1, ax2, ax3, ax4) = plt.subplots(4, 1, figsize=(14, 20))\n",
    "bin_edges = np.arange(-90.5, 91.5, 1)\n",
    "phi_edges = np.arange(-180.5, 181.5, 1)\n",
    "ax1.bar(bin_edges[:-1], reconstructor.eta_histogram, width=1, edgecolor='black', align='edge')\n",
    "ax1.set_title('eta Angles Histogram chunk3')\n",
    "ax1.set_xlabel('eta Angle (degrees)')\n",
    "ax1.set_ylabel('Counts')\n",
    "\n",
    "ax2.bar(bin_edges[:-1], reconstructor.phi_histogram, width=1, edgecolor='black', align='edge')\n",
    "ax2.set_title('phi Angles Histogram chunk3')\n",
    "ax2.set_xlabel('phi Angle (degrees)')\n",
    "ax2.set_ylabel('Counts')\n",
    "\n",
    "ax3.bar(phi_edges[:-1], reconstructor.solid_theta_histogram, width=1, edgecolor='black', align='edge')\n",
    "ax3.set_title('solid theta Angles Histogram chunk3')\n",
    "ax3.set_xlabel('solid theta Angle (degrees)')\n",
    "ax3.set_ylabel('Counts')\n",
    "\n",
    "ax4.bar(phi_edges[:-1], reconstructor.solid_phi_histogram, width=1, edgecolor='black', align='edge')\n",
    "ax4.set_title('solid phi Angles Histogram chunk3')\n",
    "ax4.set_xlabel('solid phi Angle (degrees)')\n",
    "ax4.set_ylabel('Counts')\n",
    "\n",
    "\n",
    "plt.tight_layout()\n",
    "plt.show()"
   ]
  },
  {
   "cell_type": "markdown",
   "metadata": {},
   "source": [
    "## Time of Flight analysis\n",
    "\n",
    "Now we can do the recontruction and find the time of flight information across RPCs to determine our time resolution and also potential errors. This is another function called `reconstruct_and_findtof`, which records the hit time difference of the reconstructed paths by specifying which set of RPC one needs to compare"
   ]
  },
  {
   "cell_type": "code",
   "execution_count": 42,
   "metadata": {},
   "outputs": [
    {
     "name": "stderr",
     "output_type": "stream",
     "text": [
      "Processing Events: 100%|██████████| 150/150 [00:28<00:00,  5.32Events/s]\n"
     ]
    }
   ],
   "source": [
    "importlib.reload(rawFileReader) # Reload fReader\n",
    "importlib.reload(proAnubis_Analysis_Tools)\n",
    "importlib.reload(ATools)\n",
    "interval = 100 # Set your monitoring chunck size\n",
    "fReader = rawFileReader.fileReader(file_path) # load in the classs object\n",
    "order = [[0,1], [1,2], [2,3], [3,4]] # Order what you want to align\n",
    "rpc_comparison = [[0,1], [0,2], [0,3], [0,4], [0,5]]\n",
    "max_process_event_chunk = 150 # End the loop early\n",
    "processedEvents = 0 # Initialisation\n",
    "initial_event_chunk = fReader.get_aligned_events(order=order, interval=interval)\n",
    "reconstructor = proAnubis_Analysis_Tools.Reconstructor(initial_event_chunk, processedEvents, tof_correction=True)\n",
    "with tqdm(total=max_process_event_chunk, desc=\"Processing Events\", unit='Events') as pbar:\n",
    "    while processedEvents < max_process_event_chunk:\n",
    "        processedEvents += 1\n",
    "        event_chunk = fReader.get_aligned_events(order=order, interval=interval)\n",
    "        if event_chunk:\n",
    "            reconstructor.update_event(event_chunk, processedEvents)\n",
    "            # if processedEvents < 250:\n",
    "            #     pbar.update(1)\n",
    "            #     continue\n",
    "            reconstructor.populate_hits()\n",
    "            reconstructor.apply_systematic_correction(residEta, residPhi)\n",
    "            cluster = reconstructor.make_cluster()\n",
    "            reconstructor.reconstruct_and_findtof(cluster, rpc_comparisons=rpc_comparison)\n",
    "        pbar.update(1)"
   ]
  },
  {
   "cell_type": "code",
   "execution_count": 43,
   "metadata": {},
   "outputs": [
    {
     "name": "stdout",
     "output_type": "stream",
     "text": [
      "Mid average value for RPC0-5: 1.3987860461696622\n",
      "Gaussian fit parameters for RPC[0, 1]: amplitude = 53.50691046124199, mean = 1.2048419127332568, std deviation = 0.9790481241399833\n",
      "Mid average value for RPC1-5: 0.8784803476790051\n",
      "Gaussian fit parameters for RPC[0, 2]: amplitude = 53.7484141009169, mean = 0.6984959538885683, std deviation = -0.9981717275185302\n",
      "Mid average value for RPC2-5: 2.6366421505285005\n",
      "Gaussian fit parameters for RPC[0, 3]: amplitude = 52.43693916600671, mean = 2.357014405626686, std deviation = 0.8905643701367584\n",
      "Mid average value for RPC3-5: 4.211738729375389\n",
      "Gaussian fit parameters for RPC[0, 4]: amplitude = 43.36090025141649, mean = 5.095888569337571, std deviation = 1.0992980633930405\n",
      "Mid average value for RPC4-5: 4.84941114066617\n",
      "Gaussian fit parameters for RPC[0, 5]: amplitude = 44.0236360382068, mean = 5.349853481709834, std deviation = 1.0639506859991157\n"
     ]
    },
    {
     "data": {
      "text/plain": [
       "'Data_output/tof.pdf'"
      ]
     },
     "execution_count": 43,
     "metadata": {},
     "output_type": "execute_result"
    }
   ],
   "source": [
    "importlib.reload(RTools)\n",
    "RTools.compile_and_plot_tof(reconstructor.dT,rpc_comparison, pdf_filename='Data_output/tof.pdf')"
   ]
  },
  {
   "cell_type": "code",
   "execution_count": 44,
   "metadata": {},
   "outputs": [
    {
     "name": "stdout",
     "output_type": "stream",
     "text": [
      "Mid average value for RPC[0, 1], chunk1: 1.024887145104885\n",
      "Gaussian fit parameters for RPC0-1: amplitude = 6.058657696836265, mean = 0.994628386001923, std deviation = -0.8725887113917731\n",
      "Mid average value for RPC[0, 1], chunk2: 1.396897318093764\n",
      "Gaussian fit parameters for RPC0-2: amplitude = 8.458237150315759, mean = 1.1614738324206986, std deviation = -0.4922944291647427\n",
      "Mid average value for RPC[0, 1], chunk3: 1.346201154458408\n",
      "Gaussian fit parameters for RPC0-3: amplitude = 4.530939846704952, mean = 1.341655804055145, std deviation = 1.1572258849713841\n",
      "Mid average value for RPC[0, 1], chunk4: 1.2870266563429373\n",
      "Gaussian fit parameters for RPC0-4: amplitude = 5.5814782660196975, mean = 1.4801366233995297, std deviation = -0.9433402364208442\n",
      "Mid average value for RPC[0, 1], chunk5: 1.366932843589334\n",
      "Gaussian fit parameters for RPC0-5: amplitude = 5.657049969015328, mean = 1.253895360273652, std deviation = 0.9672800854498189\n",
      "Mid average value for RPC[0, 1], chunk6: 1.5600188793181888\n",
      "Gaussian fit parameters for RPC0-6: amplitude = 4.663599123277244, mean = 1.18275808438361, std deviation = 1.139052528838932\n",
      "Mid average value for RPC[0, 1], chunk7: 1.7081236847765628\n",
      "Gaussian fit parameters for RPC0-7: amplitude = 4.6399619365046885, mean = 1.278786077315141, std deviation = 1.136256968462614\n",
      "Mid average value for RPC[0, 1], chunk8: 1.4356582715808401\n",
      "Gaussian fit parameters for RPC0-8: amplitude = 8.250458286715885, mean = 0.950572827748143, std deviation = -0.4790713723699254\n",
      "Mid average value for RPC[0, 1], chunk9: 1.2444071368318876\n",
      "Gaussian fit parameters for RPC0-9: amplitude = 5.100223882698634, mean = 1.1685482414026607, std deviation = 1.0422905076185602\n",
      "Mid average value for RPC[0, 1], chunk10: 1.6236286933201245\n",
      "Gaussian fit parameters for RPC0-10: amplitude = 5.427771664506568, mean = 1.3649890571813847, std deviation = -0.9393368376639464\n",
      "Mid average value for RPC[0, 2], chunk1: 0.6541149142854652\n",
      "Gaussian fit parameters for RPC1-1: amplitude = 5.521432384362413, mean = 0.7102834372407032, std deviation = -0.9740208364474481\n",
      "Mid average value for RPC[0, 2], chunk2: 0.942655069832688\n",
      "Gaussian fit parameters for RPC1-2: amplitude = 6.468623412833147, mean = 0.6706693204824187, std deviation = -0.7685437538554473\n",
      "Mid average value for RPC[0, 2], chunk3: 0.7451845130575414\n",
      "Gaussian fit parameters for RPC1-3: amplitude = 5.455143700604258, mean = 0.8220385320689069, std deviation = -0.9692998324162172\n",
      "Mid average value for RPC[0, 2], chunk4: 0.7264021642278525\n",
      "Gaussian fit parameters for RPC1-4: amplitude = 4.5947663591486805, mean = 0.7943862524616235, std deviation = -1.201895565535113\n",
      "Mid average value for RPC[0, 2], chunk5: 0.959003312900756\n",
      "Gaussian fit parameters for RPC1-5: amplitude = 5.354816483132001, mean = 0.7777003123273536, std deviation = -1.0143786984695424\n",
      "Mid average value for RPC[0, 2], chunk6: 0.9961111399867484\n",
      "Gaussian fit parameters for RPC1-6: amplitude = 5.531463906046477, mean = 0.7934589766027863, std deviation = -0.9717898300509202\n",
      "Mid average value for RPC[0, 2], chunk7: 1.162245591526706\n",
      "Gaussian fit parameters for RPC1-7: amplitude = 5.341600372465546, mean = 0.4492056641717328, std deviation = -0.9886044772148094\n",
      "Mid average value for RPC[0, 2], chunk8: 0.819731755566068\n",
      "Gaussian fit parameters for RPC1-8: amplitude = 5.265266377871184, mean = 0.5868867821079385, std deviation = -1.0272897193949682\n",
      "Mid average value for RPC[0, 2], chunk9: 0.6038659025298713\n",
      "Gaussian fit parameters for RPC1-9: amplitude = 5.7732730151788125, mean = 0.6874452968371186, std deviation = -0.9128830693689487\n",
      "Mid average value for RPC[0, 2], chunk10: 1.1845504793291823\n",
      "Gaussian fit parameters for RPC1-10: amplitude = 5.30944517922355, mean = 0.6843259718149679, std deviation = -0.984903961955416\n",
      "Mid average value for RPC[0, 3], chunk1: 1.0582183680047317\n",
      "Gaussian fit parameters for RPC2-1: amplitude = 4.128727918512899, mean = 2.27538202272791, std deviation = 0.831209623040579\n",
      "Mid average value for RPC[0, 3], chunk2: 2.703702737447094\n",
      "Gaussian fit parameters for RPC2-2: amplitude = 4.547751238286816, mean = 2.3273479548382774, std deviation = 0.8480239904745209\n",
      "Mid average value for RPC[0, 3], chunk3: 2.2833805207927695\n",
      "Gaussian fit parameters for RPC2-3: amplitude = 4.900849134736536, mean = 2.4849691614965033, std deviation = 1.0526192592727481\n",
      "Mid average value for RPC[0, 3], chunk4: 1.9391860993516785\n",
      "Gaussian fit parameters for RPC2-4: amplitude = 4.8453537008868315, mean = 2.4809139392406387, std deviation = 0.9871589558275653\n",
      "Mid average value for RPC[0, 3], chunk5: 3.090405731915332\n",
      "Gaussian fit parameters for RPC2-5: amplitude = 6.1230655354916665, mean = 2.4446134552509293, std deviation = 0.8195202933667322\n",
      "Mid average value for RPC[0, 3], chunk6: 3.1287327190276257\n",
      "Gaussian fit parameters for RPC2-6: amplitude = 5.5387345575212175, mean = 2.1193245275110333, std deviation = 0.8780678055432465\n",
      "Mid average value for RPC[0, 3], chunk7: 3.22784587470109\n",
      "Gaussian fit parameters for RPC2-7: amplitude = 5.168618775527929, mean = 2.4764752472629046, std deviation = 0.9540936695109768\n",
      "Mid average value for RPC[0, 3], chunk8: 2.454199890011194\n",
      "Gaussian fit parameters for RPC2-8: amplitude = 5.895871409362481, mean = 2.212039467798543, std deviation = 0.8417970754342791\n",
      "Mid average value for RPC[0, 3], chunk9: 3.2002265138001253\n",
      "Gaussian fit parameters for RPC2-9: amplitude = 6.333719547159905, mean = 2.316985825714839, std deviation = 0.7349705400026864\n",
      "Mid average value for RPC[0, 3], chunk10: 3.2560591269474246\n",
      "Gaussian fit parameters for RPC2-10: amplitude = 6.61581954333968, mean = 2.399172124092536, std deviation = 0.6541431143710456\n",
      "Mid average value for RPC[0, 4], chunk1: 2.1121258905395823\n",
      "Gaussian fit parameters for RPC3-1: amplitude = 2.920752438720543, mean = 4.6435917255062265, std deviation = 1.1815951164526994\n",
      "Mid average value for RPC[0, 4], chunk2: 2.9741977040363023\n",
      "Gaussian fit parameters for RPC3-2: amplitude = 3.494469530654441, mean = 5.080650771616096, std deviation = 1.1159812004507335\n",
      "Mid average value for RPC[0, 4], chunk3: 4.6085840113091106\n",
      "Gaussian fit parameters for RPC3-3: amplitude = 5.122489442861845, mean = 5.118316232696, std deviation = 1.0075849166733077\n",
      "Mid average value for RPC[0, 4], chunk4: 4.4077321008784915\n",
      "Gaussian fit parameters for RPC3-4: amplitude = 4.980656250240349, mean = 5.373402534937395, std deviation = 0.8911148734661445\n",
      "Mid average value for RPC[0, 4], chunk5: 4.189903118128184\n",
      "Gaussian fit parameters for RPC3-5: amplitude = 4.946118742917449, mean = 5.145688122567012, std deviation = -0.9912516677182845\n",
      "Mid average value for RPC[0, 4], chunk6: 4.7238564900457\n",
      "Gaussian fit parameters for RPC3-6: amplitude = 4.452562974594723, mean = 4.937465055798949, std deviation = 1.1678408612770252\n",
      "Mid average value for RPC[0, 4], chunk7: 4.368980190073966\n",
      "Gaussian fit parameters for RPC3-7: amplitude = 4.28518281472425, mean = 5.052168552250546, std deviation = 1.2274558621324483\n",
      "Mid average value for RPC[0, 4], chunk8: 4.287889003247164\n",
      "Gaussian fit parameters for RPC3-8: amplitude = 4.321584564336533, mean = 5.054187327201397, std deviation = 1.1664793799134179\n",
      "Mid average value for RPC[0, 4], chunk9: 4.729511207026305\n",
      "Gaussian fit parameters for RPC3-9: amplitude = 4.638873278407144, mean = 5.103365023001619, std deviation = 1.1305925560755168\n",
      "Mid average value for RPC[0, 4], chunk10: 5.610818009803691\n",
      "Gaussian fit parameters for RPC3-10: amplitude = 5.656532643540082, mean = 5.185116494408551, std deviation = -0.7991619386438096\n",
      "Mid average value for RPC[0, 5], chunk1: 2.5296568110682736\n",
      "Gaussian fit parameters for RPC4-1: amplitude = 3.194347558445701, mean = 5.107699749515964, std deviation = 1.173481988533703\n",
      "Mid average value for RPC[0, 5], chunk2: 4.2924414714413865\n",
      "Gaussian fit parameters for RPC4-2: amplitude = 3.312700169242136, mean = 5.612830206837148, std deviation = 1.1982203947960652\n",
      "Mid average value for RPC[0, 5], chunk3: 5.06095749592366\n",
      "Gaussian fit parameters for RPC4-3: amplitude = 5.706503731617593, mean = 5.139624950809805, std deviation = 0.8367490361325233\n",
      "Mid average value for RPC[0, 5], chunk4: 4.649002844597964\n",
      "Gaussian fit parameters for RPC4-4: amplitude = 3.9800259520140386, mean = 5.3669975757540955, std deviation = 1.161004358391481\n",
      "Mid average value for RPC[0, 5], chunk5: 5.156164933599382\n",
      "Gaussian fit parameters for RPC4-5: amplitude = 4.8122593138923975, mean = 5.291352765418289, std deviation = 0.9554786011329399\n",
      "Mid average value for RPC[0, 5], chunk6: 5.0523872045994\n",
      "Gaussian fit parameters for RPC4-6: amplitude = 5.073122736136073, mean = 5.19565723916072, std deviation = 1.0053218530969654\n",
      "Mid average value for RPC[0, 5], chunk7: 5.047606717536502\n",
      "Gaussian fit parameters for RPC4-7: amplitude = 4.2196640418031945, mean = 5.346980185780307, std deviation = 1.1109577496943752\n",
      "Mid average value for RPC[0, 5], chunk8: 5.167814349847128\n",
      "Gaussian fit parameters for RPC4-8: amplitude = 6.4000722789531, mean = 5.503420806638183, std deviation = 0.7019376682852682\n",
      "Mid average value for RPC[0, 5], chunk9: 5.063444504876635\n",
      "Gaussian fit parameters for RPC4-9: amplitude = 4.548965881759337, mean = 5.397081565470772, std deviation = 1.1588024593590103\n",
      "Mid average value for RPC[0, 5], chunk10: 6.411616734058796\n",
      "Gaussian fit parameters for RPC4-10: amplitude = 4.546764650486701, mean = 5.535983792353274, std deviation = 1.0905994941278094\n"
     ]
    },
    {
     "data": {
      "text/plain": [
       "'Data_output/tof_chunks.pdf'"
      ]
     },
     "execution_count": 44,
     "metadata": {},
     "output_type": "execute_result"
    }
   ],
   "source": [
    "importlib.reload(RTools)\n",
    "RTools.compile_and_plot_tof_chunk(reconstructor.dT,rpc_comparison, 10, pdf_filename='Data_output/tof_chunks.pdf')"
   ]
  },
  {
   "cell_type": "code",
   "execution_count": 45,
   "metadata": {},
   "outputs": [
    {
     "name": "stderr",
     "output_type": "stream",
     "text": [
      "c:\\Users\\jony\\Programming\\Python\\Anubis\\summer2\\Tutorial with Osiris\\.venv\\lib\\site-packages\\numpy\\_core\\fromnumeric.py:3596: RuntimeWarning: Mean of empty slice.\n",
      "  return _methods._mean(a, axis=axis, dtype=dtype,\n",
      "c:\\Users\\jony\\Programming\\Python\\Anubis\\summer2\\Tutorial with Osiris\\.venv\\lib\\site-packages\\numpy\\_core\\_methods.py:138: RuntimeWarning: invalid value encountered in scalar divide\n",
      "  ret = ret.dtype.type(ret / rcount)\n"
     ]
    },
    {
     "name": "stdout",
     "output_type": "stream",
     "text": [
      "Warning: <class 'uhi.numpy_plottable.NumPyPlottableHistogram'> is not allowed to get flow bins, flow bin option set to None\n",
      "Warning: <class 'uhi.numpy_plottable.NumPyPlottableHistogram'> is not allowed to get flow bins, flow bin option set to None\n",
      "Warning: <class 'uhi.numpy_plottable.NumPyPlottableHistogram'> is not allowed to get flow bins, flow bin option set to None\n",
      "Warning: <class 'uhi.numpy_plottable.NumPyPlottableHistogram'> is not allowed to get flow bins, flow bin option set to None\n",
      "Warning: <class 'uhi.numpy_plottable.NumPyPlottableHistogram'> is not allowed to get flow bins, flow bin option set to None\n"
     ]
    }
   ],
   "source": [
    "importlib.reload(proAnubis_Analysis_Tools)\n",
    "reconstructor.plot_tof_offset(rpc_comparison)"
   ]
  }
 ],
 "metadata": {
  "kernelspec": {
   "display_name": "Python 3",
   "language": "python",
   "name": "python3"
  },
  "language_info": {
   "codemirror_mode": {
    "name": "ipython",
    "version": 3
   },
   "file_extension": ".py",
   "mimetype": "text/x-python",
   "name": "python",
   "nbconvert_exporter": "python",
   "pygments_lexer": "ipython3",
   "version": "3.10.4"
  }
 },
 "nbformat": 4,
 "nbformat_minor": 2
}
