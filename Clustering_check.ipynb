{
 "cells": [
  {
   "cell_type": "code",
   "execution_count": 1,
   "metadata": {},
   "outputs": [
    {
     "name": "stdout",
     "output_type": "stream",
     "text": [
      "['vertices.pkl', 'tot_std.pkl', 'tot_mean.pkl', 'supervertices.pkl', 'straight.pkl', 'std.pkl', 'proAnubis_240627_1720.raw', 'mean.pkl', 'hvScan.csv', 'example_chunks.pkl', 'dataAtlas.root']\n"
     ]
    }
   ],
   "source": [
    "import importlib\n",
    "import sys\n",
    "from tqdm import tqdm\n",
    "import  os\n",
    "import glob\n",
    "import pickle\n",
    "# Add the directories to the sys.path\n",
    "dir_path = \"C://Users//jony//Programming//Python//Anubis//anubis//\" # insert your directory path\n",
    "sys.path.append(dir_path + \"Osiris//processing//python\")\n",
    "sys.path.append(dir_path + \"tools\")\n",
    "\n",
    "import Analysis_tools as ATools\n",
    "import proAnubis_Analysis_Tools\n",
    "import Reconstruction_tools as RTools\n",
    "import Overview_tools as overview\n",
    "import mplhep as hep\n",
    "import Visual_tools as VTools\n",
    "import Timing_tools as TTools\n",
    "import rawFileReader\n",
    "import Correction_tools as CTools\n",
    "\n",
    "hep.style.use([hep.style.ATLAS])\n",
    "\n",
    "# Specify the directory\n",
    "all_files = sorted([f for f in os.listdir(\"data\") if os.path.isfile(os.path.join(\"data\", f))], reverse=True) ##all files in data directory sorted from the newest to the oldest\n",
    "print(all_files)"
   ]
  },
  {
   "cell_type": "code",
   "execution_count": 89,
   "metadata": {},
   "outputs": [
    {
     "name": "stderr",
     "output_type": "stream",
     "text": [
      "Processing Chunks: 100%|██████████| 20/20 [08:53<00:00, 26.66s/Files]\n"
     ]
    }
   ],
   "source": [
    "importlib.reload(CTools)\n",
    "corrector = CTools.Tanalyser()\n",
    "all_files = sorted([f for f in os.listdir(\"data/chunks\") if os.path.isfile(os.path.join(\"data/chunks\", f))], reverse=True) ##all files in data directory sorted from the newest to the oldest\n",
    "with tqdm(total=len(all_files[:20]), desc=\"Processing Chunks\", unit=\"Files\") as pbar:   \n",
    "    for file_name in all_files[:20]:\n",
    "        with open(dir_path + \"data//chunks//\"+file_name, \"rb\") as f:\n",
    "            example_chunks = pickle.load(f)\n",
    "        corrector.calculate_tot(example_chunks)\n",
    "        pbar.update(1)\n",
    "corrector.plot_tot()"
   ]
  },
  {
   "cell_type": "code",
   "execution_count": null,
   "metadata": {},
   "outputs": [],
   "source": [
    "#save\n",
    "with open(dir_path + \"data//mean.pkl\", \"wb\") as f:\n",
    "    pickle.dump(corrector.tot_mean, f)\n",
    "with open(dir_path + \"data//std.pkl\", \"wb\") as f:\n",
    "    pickle.dump(corrector.tot_std, f)"
   ]
  },
  {
   "cell_type": "code",
   "execution_count": null,
   "metadata": {},
   "outputs": [],
   "source": [
    "with open(dir_path + \"data//mean.pkl\", \"rb\") as f:\n",
    "    tot_mean = pickle.load(f)\n",
    "with open(dir_path + \"data//std.pkl\", \"rb\") as f:\n",
    "    tot_std = pickle.load(f)\n",
    "\n",
    "importlib.reload(CTools)\n",
    "corrector = CTools.Tanalyser()\n",
    "corrector.tot_mean = tot_mean\n",
    "corrector.tot_std = tot_std\n",
    "\n",
    "\n",
    "corrector.plot_tot()"
   ]
  },
  {
   "cell_type": "code",
   "execution_count": 91,
   "metadata": {},
   "outputs": [
    {
     "name": "stderr",
     "output_type": "stream",
     "text": [
      "C:\\/Users//jony//Programming//Python//Anubis//anubis//tools\\Correction_tools.py:71: OptimizeWarning: Covariance of the parameters could not be estimated\n",
      "  self.tot_mean[rpc][phi][eta] = popt[1]\n",
      "c:\\Users\\jony\\Programming\\Python\\Anubis\\anubis\\.venv\\lib\\site-packages\\scipy\\optimize\\_minpack_py.py:499: RuntimeWarning: overflow encountered in matmul\n",
      "  cov_x = invR @ invR.T\n"
     ]
    },
    {
     "name": "stdout",
     "output_type": "stream",
     "text": [
      "0.7930514439898633\n",
      "[18.75    17.96875 17.96875  8.59375  3.125   18.75    17.96875 -0.78125]\n"
     ]
    }
   ],
   "source": [
    "importlib.reload(CTools)\n",
    "hard = corrector.tot_hits.copy()\n",
    "corrector = CTools.Tanalyser()\n",
    "corrector.tot_hits = hard\n",
    "corrector.calculate_mean_std()\n",
    "for i in range(32):\n",
    "    pass\n",
    "    #print(i)\n",
    "    #print(corrector.tot_std[0][i])\n",
    "corrector.plot_point(0, 6, -3, bins_num = 70)\n",
    "#print(corrector.tot_hits[1][6][0])\n",
    "print(corrector.tot_std[0][6][-3])\n",
    "print(corrector.tot_hits[0][6][-3])#\n",
    "#more data please "
   ]
  }
 ],
 "metadata": {
  "kernelspec": {
   "display_name": ".venv",
   "language": "python",
   "name": "python3"
  },
  "language_info": {
   "codemirror_mode": {
    "name": "ipython",
    "version": 3
   },
   "file_extension": ".py",
   "mimetype": "text/x-python",
   "name": "python",
   "nbconvert_exporter": "python",
   "pygments_lexer": "ipython3",
   "version": "3.10.4"
  }
 },
 "nbformat": 4,
 "nbformat_minor": 2
}
