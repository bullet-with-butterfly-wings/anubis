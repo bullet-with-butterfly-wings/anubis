{
 "cells": [
  {
   "cell_type": "code",
   "execution_count": 1,
   "id": "05ec3a1e-9ae9-4f67-bd80-a3b0fe97b921",
   "metadata": {},
   "outputs": [],
   "source": [
    "import overview\n",
    "import importlib\n",
    "import rawFileReader\n",
    "import pickle\n",
    "import matplotlib.pyplot as plt\n",
    "import pandas as pd\n",
    "from matplotlib.backends.backend_pdf import PdfPages\n",
    "\n",
    "dir_path = \"/usera/jd2052/Documents/anubis/\" # insert your directory path\n"
   ]
  },
  {
   "cell_type": "code",
   "execution_count": 2,
   "id": "3e9cde11-111d-4ca8-b1c3-30c2df8d3139",
   "metadata": {},
   "outputs": [],
   "source": [
    "#Save chunks\n",
    "files = [\"proAnubis_240815_1759.raw\", \"proAnubis_240818_1125.raw\",\"proAnubis_240818_1125.raw\", \"proAnubis_240818_1325.raw\", \"proAnubis_240829_2026.raw\", \"proAnubis_240829_2026.raw\"]\n",
    "rpc = 4\n",
    "\n",
    "storage_name = f\"data/chunks_hv{rpc}.pkl\"\n",
    "file_name = files[rpc]\n",
    "\n",
    "hv_file = 'data/hvScan.csv'  # Replace with your file path\n",
    "hv_data = pd.read_csv(hv_file, usecols=[\"start_\"+str(rpc),\"end_\"+str(rpc),\"voltage_\"+str(rpc)])\n",
    "\n",
    "#rpc 0: 2024-08-15 17:24:22\t\n",
    "#rpc 1\t2024-08-18 11:39:42\n",
    "#rpc 2\t2024-08-18 12:22:21 \n"
   ]
  },
  {
   "cell_type": "code",
   "execution_count": 5,
   "id": "32e253e6-f596-43b4-a8e2-101a9ba8a135",
   "metadata": {},
   "outputs": [],
   "source": [
    "interval = 100\n",
    "\n",
    "importlib.reload(rawFileReader)\n",
    "fReader = rawFileReader.fileReader(dir_path+\"data/\"+file_name) # load in the classs object\n",
    "histogram = [[] for tdc in range(5)]\n",
    "\n",
    "i = 0\n",
    "while i < interval:\n",
    "        if not fReader.readBlock():\n",
    "            raise EOFError(\"You have reached the end of the file\")\n",
    "        if(fReader.hasEvents()): #my part\n",
    "            for event in fReader.evtBuilder.events:\n",
    "                for tdc in range(5):\n",
    "                    histogram[tdc].append(len(event.tdcEvents[tdc].words))\n",
    "            fReader.evtBuilder.events = []\n",
    "            i += 1\n",
    "\n",
    "plt.title(f\"EventBuilder buffer {file_name}\")\n",
    "plt.xlabel(\"Word count\")\n",
    "plt.ylabel(\"Counts per 100 TDC reads\")\n",
    "plt.hist(histogram[0], bins = list(range(0, max(histogram[0]))))\n",
    "plt.show()"
   ]
  },
  {
   "cell_type": "code",
   "execution_count": 5,
   "id": "b5f65384-90d9-4f61-acda-534e99623854",
   "metadata": {},
   "outputs": [
    {
     "name": "stdout",
     "output_type": "stream",
     "text": [
      "Initial time 2024-08-29 19:26:05.663040 1724955965.66304\n"
     ]
    },
    {
     "name": "stderr",
     "output_type": "stream",
     "text": [
      "Processing Chunks proAnubis_240829_2026.raw:  50%|▍| 4999/10000 [01:27<01:16, 65"
     ]
    },
    {
     "name": "stdout",
     "output_type": "stream",
     "text": [
      "Event time: 2024-08-29 19:27:24.736387\n"
     ]
    },
    {
     "name": "stderr",
     "output_type": "stream",
     "text": [
      "Processing Chunks proAnubis_240829_2026.raw:  50%|▌| 5007/10000 [01:37<30:39,  2"
     ]
    },
    {
     "name": "stdout",
     "output_type": "stream",
     "text": [
      "Saved\n"
     ]
    },
    {
     "name": "stderr",
     "output_type": "stream",
     "text": [
      "Processing Chunks proAnubis_240829_2026.raw: 100%|▉| 9990/10000 [02:58<00:00, 88"
     ]
    },
    {
     "name": "stdout",
     "output_type": "stream",
     "text": [
      "Event time: 2024-08-29 19:28:44.054554\n"
     ]
    },
    {
     "name": "stderr",
     "output_type": "stream",
     "text": [
      "Processing Chunks proAnubis_240829_2026.raw: 100%|█| 10000/10000 [03:14<00:00, 5"
     ]
    },
    {
     "name": "stdout",
     "output_type": "stream",
     "text": [
      "Saved\n",
      "Ending time: 2024-08-29 19:28:44.054554\n"
     ]
    },
    {
     "name": "stderr",
     "output_type": "stream",
     "text": [
      "\n"
     ]
    },
    {
     "name": "stdout",
     "output_type": "stream",
     "text": [
      "Hit Channel Histogram Done\n",
      "Hit Channel Histogram Done\n",
      "Hit Channel Histogram Done\n",
      "Hit Channel Histogram Done\n",
      "Hit Channel Histogram Done\n"
     ]
    }
   ],
   "source": [
    "importlib.reload(overview)\n",
    "chunks, times, fReader = overview.get_chunks(file_name, max_process_event = 1_000_000)\n",
    "time_hits, bvg = overview.tdc_times_stats(chunks)\n",
    "\n",
    "with PdfPages(f\"bad_channels.pdf\") as pdf:\n",
    "    overview.hit_channel_hist(time_hits, tdcs_to_plot = [0,1,2,3,4], pdf = pdf)\n"
   ]
  },
  {
   "cell_type": "code",
   "execution_count": null,
   "id": "d83115ec-cb86-4f5f-9dbd-d5a96c91f58d",
   "metadata": {},
   "outputs": [],
   "source": []
  }
 ],
 "metadata": {
  "kernelspec": {
   "display_name": "Python 3 (ipykernel)",
   "language": "python",
   "name": "python3"
  },
  "language_info": {
   "codemirror_mode": {
    "name": "ipython",
    "version": 3
   },
   "file_extension": ".py",
   "mimetype": "text/x-python",
   "name": "python",
   "nbconvert_exporter": "python",
   "pygments_lexer": "ipython3",
   "version": "3.9.18"
  }
 },
 "nbformat": 4,
 "nbformat_minor": 5
}
