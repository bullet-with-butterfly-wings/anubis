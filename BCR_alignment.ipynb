{
 "cells": [
  {
   "cell_type": "code",
   "execution_count": 1,
   "metadata": {},
   "outputs": [],
   "source": [
    "import importlib\n",
    "import sys\n",
    "from tqdm import tqdm\n",
    "import  os\n",
    "import pickle\n",
    "import glob\n",
    "from datetime import datetime\n",
    "import matplotlib.pyplot as plt\n",
    "# Add the directories to the sys.path\n",
    "dir_path = \"C://Users//jony//Programming//Python//Anubis//anubis//\" # insert your directory path\n",
    "sys.path.append(dir_path + \"Osiris//processing//python\")\n",
    "sys.path.append(dir_path + \"tools\")\n",
    "\n",
    "import Analysis_tools as ATools\n",
    "import Atlas_tools as AtTools\n",
    "import proAnubis_Analysis_Tools\n",
    "import Reconstruction_tools as RTools\n",
    "import numpy as np\n",
    "import mplhep as hep\n",
    "import Timing_tools as TTools\n",
    "import pickle\n",
    "import overview\n",
    "import rawFileReader\n",
    "import Visual_tools as VTools\n",
    "hep.style.use([hep.style.ATLAS])\n",
    "\n",
    "dir = \"C://Users//jony//Programming//Python//Anubis//anubis//data//\"\n",
    "\n",
    "# Specify the directory\n"
   ]
  },
  {
   "cell_type": "code",
   "execution_count": 3,
   "metadata": {},
   "outputs": [
    {
     "name": "stdout",
     "output_type": "stream",
     "text": [
      "Initial time 2024-06-27 16:20:18.087426 1719501618.087426\n",
      "Start: 1719503720.0\n",
      "Bigger than start: True\n"
     ]
    },
    {
     "name": "stderr",
     "output_type": "stream",
     "text": [
      "Skipping Events proAnubis_240627_1720.raw:   1%|          | 24/2102 [00:05<07:23,  4.68Events/s]\n"
     ]
    },
    {
     "ename": "KeyboardInterrupt",
     "evalue": "",
     "output_type": "error",
     "traceback": [
      "\u001b[1;31m---------------------------------------------------------------------------\u001b[0m",
      "\u001b[1;31mKeyboardInterrupt\u001b[0m                         Traceback (most recent call last)",
      "Cell \u001b[1;32mIn[3], line 7\u001b[0m\n\u001b[0;32m      5\u001b[0m importlib\u001b[38;5;241m.\u001b[39mreload(overview)\n\u001b[0;32m      6\u001b[0m anubis_file \u001b[38;5;241m=\u001b[39m \u001b[38;5;124m\"\u001b[39m\u001b[38;5;124mproAnubis_240627_1720.raw\u001b[39m\u001b[38;5;124m\"\u001b[39m\n\u001b[1;32m----> 7\u001b[0m data, times, fReader \u001b[38;5;241m=\u001b[39m \u001b[43moverview\u001b[49m\u001b[38;5;241;43m.\u001b[39;49m\u001b[43mget_chunks\u001b[49m\u001b[43m(\u001b[49m\u001b[43manubis_file\u001b[49m\u001b[43m,\u001b[49m\u001b[43m \u001b[49m\u001b[43mstart\u001b[49m\u001b[38;5;241;43m=\u001b[39;49m\u001b[38;5;124;43m\"\u001b[39;49m\u001b[38;5;124;43m2024-06-27 16:55:20\u001b[39;49m\u001b[38;5;124;43m\"\u001b[39;49m\u001b[43m,\u001b[49m\u001b[43m \u001b[49m\u001b[43mend\u001b[49m\u001b[43m \u001b[49m\u001b[38;5;241;43m=\u001b[39;49m\u001b[43m \u001b[49m\u001b[38;5;124;43m\"\u001b[39;49m\u001b[38;5;124;43m2024-06-27 17:55:20\u001b[39;49m\u001b[38;5;124;43m\"\u001b[39;49m\u001b[43m,\u001b[49m\u001b[43m \u001b[49m\u001b[43mtdc5\u001b[49m\u001b[43m \u001b[49m\u001b[38;5;241;43m=\u001b[39;49m\u001b[43m \u001b[49m\u001b[38;5;28;43;01mTrue\u001b[39;49;00m\u001b[43m)\u001b[49m\n",
      "File \u001b[1;32mc:\\Users\\jony\\Programming\\Python\\Anubis\\anubis\\overview.py:51\u001b[0m, in \u001b[0;36mget_chunks\u001b[1;34m(file_name, max_process_event, fReader, start, end, tdc5)\u001b[0m\n\u001b[0;32m     49\u001b[0m fReader\u001b[38;5;241m.\u001b[39mskip_events(\u001b[38;5;241m2_000\u001b[39m)\n\u001b[0;32m     50\u001b[0m \u001b[38;5;28;01mtry\u001b[39;00m:\n\u001b[1;32m---> 51\u001b[0m     chunk \u001b[38;5;241m=\u001b[39m \u001b[43mfReader\u001b[49m\u001b[38;5;241;43m.\u001b[39;49m\u001b[43mget_aligned_events\u001b[49m\u001b[43m(\u001b[49m\u001b[43morder\u001b[49m\u001b[38;5;241;43m=\u001b[39;49m\u001b[43morder\u001b[49m\u001b[43m,\u001b[49m\u001b[43m \u001b[49m\u001b[43minterval\u001b[49m\u001b[38;5;241;43m=\u001b[39;49m\u001b[43minterval\u001b[49m\u001b[43m,\u001b[49m\u001b[43m \u001b[49m\u001b[43mextract_tdc_mets\u001b[49m\u001b[43m \u001b[49m\u001b[38;5;241;43m=\u001b[39;49m\u001b[43m \u001b[49m\u001b[38;5;28;43;01mFalse\u001b[39;49;00m\u001b[43m)\u001b[49m\n\u001b[0;32m     52\u001b[0m \u001b[38;5;28;01mexcept\u001b[39;00m \u001b[38;5;167;01mException\u001b[39;00m \u001b[38;5;28;01mas\u001b[39;00m e:\n\u001b[0;32m     53\u001b[0m     \u001b[38;5;28mprint\u001b[39m(e)\n",
      "File \u001b[1;32mC:\\/Users//jony//Programming//Python//Anubis//anubis//Osiris//processing//python\\rawFileReader.py:76\u001b[0m, in \u001b[0;36mfileReader.get_aligned_events\u001b[1;34m(self, order, interval, extract_tdc_mets)\u001b[0m\n\u001b[0;32m     74\u001b[0m i \u001b[38;5;241m=\u001b[39m \u001b[38;5;241m0\u001b[39m\n\u001b[0;32m     75\u001b[0m \u001b[38;5;28;01mwhile\u001b[39;00m i \u001b[38;5;241m<\u001b[39m interval:\n\u001b[1;32m---> 76\u001b[0m     \u001b[38;5;28;01mif\u001b[39;00m \u001b[38;5;129;01mnot\u001b[39;00m \u001b[38;5;28;43mself\u001b[39;49m\u001b[38;5;241;43m.\u001b[39;49m\u001b[43mreadBlock\u001b[49m\u001b[43m(\u001b[49m\u001b[43m)\u001b[49m:\n\u001b[0;32m     77\u001b[0m         \u001b[38;5;28;01mraise\u001b[39;00m \u001b[38;5;167;01mEOFError\u001b[39;00m(\u001b[38;5;124m\"\u001b[39m\u001b[38;5;124mYou have reached the end of the file\u001b[39m\u001b[38;5;124m\"\u001b[39m)\n\u001b[0;32m     78\u001b[0m     \u001b[38;5;28;01mif\u001b[39;00m(\u001b[38;5;28mself\u001b[39m\u001b[38;5;241m.\u001b[39mhasEvents()): \u001b[38;5;66;03m#my part\u001b[39;00m\n",
      "File \u001b[1;32mC:\\/Users//jony//Programming//Python//Anubis//anubis//Osiris//processing//python\\rawFileReader.py:222\u001b[0m, in \u001b[0;36mfileReader.readBlock\u001b[1;34m(self, p)\u001b[0m\n\u001b[0;32m    220\u001b[0m     \u001b[38;5;28mprint\u001b[39m(\u001b[38;5;124m\"\u001b[39m\u001b[38;5;124mGoing to over-read the file. Corrupted number of bytes? Header is\u001b[39m\u001b[38;5;124m\"\u001b[39m, \u001b[38;5;28mhex\u001b[39m(leadWords[\u001b[38;5;241m2\u001b[39m]))\n\u001b[0;32m    221\u001b[0m     \u001b[38;5;28;01mreturn\u001b[39;00m \u001b[38;5;28;01mFalse\u001b[39;00m\n\u001b[1;32m--> 222\u001b[0m tdcReadData \u001b[38;5;241m=\u001b[39m \u001b[38;5;28;43mself\u001b[39;49m\u001b[38;5;241;43m.\u001b[39;49m\u001b[43mdata\u001b[49m\u001b[38;5;241;43m.\u001b[39;49m\u001b[43mread\u001b[49m\u001b[43m(\u001b[49m\u001b[43mnWords\u001b[49m\u001b[38;5;241;43m*\u001b[39;49m\u001b[38;5;28;43mself\u001b[39;49m\u001b[38;5;241;43m.\u001b[39;49m\u001b[43mwordSize\u001b[49m\u001b[43m)\u001b[49m\n\u001b[0;32m    223\u001b[0m \u001b[38;5;28mself\u001b[39m\u001b[38;5;241m.\u001b[39mbytesRead \u001b[38;5;241m=\u001b[39m \u001b[38;5;28mself\u001b[39m\u001b[38;5;241m.\u001b[39mbytesRead\u001b[38;5;241m+\u001b[39m\u001b[38;5;28mself\u001b[39m\u001b[38;5;241m.\u001b[39mwordSize\u001b[38;5;241m*\u001b[39m(nWords\u001b[38;5;241m+\u001b[39m\u001b[38;5;241m3\u001b[39m)\n\u001b[0;32m    224\u001b[0m \u001b[38;5;28mself\u001b[39m\u001b[38;5;241m.\u001b[39mevtBuilder\u001b[38;5;241m.\u001b[39maddTDCRead(thisTDC, thisTime, tdcReadData, p)\n",
      "\u001b[1;31mKeyboardInterrupt\u001b[0m: "
     ]
    }
   ],
   "source": [
    "# start = 1719503720\n",
    "# end = 1719506560\n",
    "\n",
    "\n",
    "importlib.reload(overview)\n",
    "anubis_file = \"proAnubis_240627_1720.raw\"\n",
    "data, times, fReader = overview.get_chunks(anubis_file, start=\"2024-06-27 16:55:20\", end = \"2024-06-27 17:55:20\", tdc5 = True)"
   ]
  },
  {
   "cell_type": "code",
   "execution_count": 13,
   "metadata": {},
   "outputs": [
    {
     "name": "stdout",
     "output_type": "stream",
     "text": [
      "Saved\n"
     ]
    }
   ],
   "source": [
    "storage = \"final.pkl\"\n",
    "with open(storage, \"wb\") as f:\n",
    "    pickle.dump(data, f)\n",
    "print(\"Saved\")\n"
   ]
  },
  {
   "cell_type": "code",
   "execution_count": 31,
   "metadata": {},
   "outputs": [
    {
     "name": "stdout",
     "output_type": "stream",
     "text": [
      "Saved\n"
     ]
    }
   ],
   "source": [
    "storage = \"tdc_onljkjy.pkl\"\n",
    "with open(storage, \"wb\") as f:\n",
    "    pickle.dump(tdc5Reads, f)\n",
    "print(\"Saved\")\n"
   ]
  },
  {
   "cell_type": "code",
   "execution_count": 2,
   "metadata": {},
   "outputs": [
    {
     "name": "stderr",
     "output_type": "stream",
     "text": [
      "Reading:  11%|█         | 84901/784480 [00:24<01:30, 7757.64Events/s]"
     ]
    }
   ],
   "source": [
    "importlib.reload(AtTools)\n",
    "analyser = AtTools.AtlasAnalyser()\n",
    "analyser.getTDC5Data(\"tdc_only.pkl\", trigger_channel=4, bcr_channel=2, amount_of_events=784_480 )\n",
    "#analyser.correctionBCR()"
   ]
  },
  {
   "cell_type": "code",
   "execution_count": 3,
   "metadata": {},
   "outputs": [
    {
     "name": "stdout",
     "output_type": "stream",
     "text": [
      "Saved\n"
     ]
    }
   ],
   "source": [
    "storage = \"bcr.pkl\"\n",
    "with open(storage, \"wb\") as f:\n",
    "    pickle.dump(analyser.anubis_data, f)\n",
    "print(\"Saved\")\n"
   ]
  },
  {
   "cell_type": "code",
   "execution_count": 2,
   "metadata": {},
   "outputs": [],
   "source": [
    "storage_name = \"bcr.pkl\"\n",
    "with open(storage_name, \"rb\") as inp:\n",
    "    anubis_data = pickle.load(inp)\n",
    "print(\"Chunks Loaded\")\n"
   ]
  },
  {
   "cell_type": "code",
   "execution_count": 3,
   "metadata": {},
   "outputs": [],
   "source": [
    "importlib.reload(AtTools)\n",
    "atlas_file = \"C://Users//jony//Programming//Python//Anubis//anubis//data//dataAtlas.root\"\n",
    "analyser.getAtlasData(atlas_file)\n",
    "print(\"Loading done\")\n",
    "with tqdm(total=len(analyser.atlas_data)) as pbar:\n",
    "    for i in range(len(analyser.atlas_data)):\n",
    "        hits = analyser.atlas_data.iloc[i]\n",
    "        for p in range(len(hits[\"mu_eta\"])):\n",
    "            has_our_hit = False\n",
    "            if 0.93 > hits[\"mu_eta\"][p] > 0.83 and abs(hits[\"mu_phi\"][p] - 1.57) < 0.1:\n",
    "                has_our_hit = True\n",
    "                break\n",
    "        if not has_our_hit:\n",
    "            analyser.atlas_data.drop(i, inplace=True)\n",
    "        pbar.update(1)"
   ]
  },
  {
   "cell_type": "code",
   "execution_count": 47,
   "metadata": {},
   "outputs": [
    {
     "name": "stdout",
     "output_type": "stream",
     "text": [
      "0.9055982 1.6272389\n",
      "0.8418124 1.5141773\n",
      "0.9003911 1.5831764\n",
      "0.91317505 1.6379361\n",
      "0.88016343 1.6324259\n",
      "0.8405359 1.6310602\n",
      "0.84422237 1.5252458\n",
      "0.9092756 1.6565939\n",
      "0.88896704 1.6592686\n",
      "0.8551121 1.6690565\n",
      "0.92434996 1.6119776\n",
      "0.916709 1.501556\n",
      "0.884171 1.6669021\n",
      "0.8757307 1.5745344\n",
      "0.86695725 1.6475704\n",
      "0.8437779 1.5699189\n",
      "0.83327657 1.63008\n",
      "0.92696124 1.5589747\n",
      "0.855018 1.644672\n",
      "0.8809462 1.591635\n",
      "0.9050021 1.4820646\n",
      "0.84083986 1.6163306\n",
      "0.89324814 1.5247784\n",
      "0.89414024 1.6552016\n",
      "0.91686696 1.4933925\n",
      "0.8306013 1.5401787\n",
      "0.8653364 1.6211209\n",
      "0.8304299 1.5747046\n",
      "0.89442986 1.5560509\n",
      "0.9243073 1.5601153\n",
      "0.8524486 1.6571232\n",
      "0.83291835 1.5954986\n",
      "0.92991513 1.4866681\n",
      "0.8849151 1.6025742\n",
      "0.84156954 1.6679847\n",
      "0.87084275 1.5110704\n",
      "0.90370184 1.6099197\n",
      "0.859081 1.4824331\n",
      "0.87210983 1.638158\n",
      "0.8932732 1.6309835\n",
      "0.8607471 1.5688298\n",
      "0.8845042 1.4730979\n",
      "0.84206337 1.6685599\n",
      "0.85707885 1.5931025\n",
      "0.8783002 1.6647258\n",
      "0.8830836 1.4703554\n",
      "0.8715052 1.5291833\n",
      "0.84967834 1.668716\n",
      "0.87012815 1.6295933\n",
      "0.86092436 1.4881262\n",
      "0.8659459 1.4915124\n",
      "0.8307573 1.5562911\n",
      "0.9049208 1.6231526\n",
      "0.8687968 1.6273601\n",
      "0.92724484 1.5047451\n",
      "0.8788131 1.5743622\n",
      "0.9241455 1.6033145\n",
      "0.89765704 1.6151571\n",
      "0.8915303 1.4848784\n",
      "0.8811554 1.5371087\n",
      "0.8870398 1.5781741\n",
      "0.85158765 1.65575\n",
      "0.88289535 1.5630938\n",
      "0.8511889 1.473078\n",
      "0.86651593 1.6427304\n",
      "0.8852972 1.6074238\n",
      "0.8837688 1.6019692\n",
      "0.8902033 1.5895237\n",
      "0.91003925 1.5102464\n",
      "0.92650676 1.5377538\n",
      "0.9272943 1.5358082\n",
      "0.92296845 1.5090964\n",
      "0.9011126 1.5868351\n",
      "0.8376592 1.5166757\n",
      "0.8727025 1.6527175\n",
      "0.928523 1.4718776\n",
      "0.9011224 1.6386424\n",
      "0.86090094 1.5816327\n",
      "0.86274636 1.5048999\n",
      "0.84185714 1.5383425\n",
      "0.84438646 1.6551777\n",
      "0.8595789 1.5769901\n",
      "0.8904536 1.4873371\n",
      "0.84851384 1.5659524\n",
      "0.9040116 1.6227654\n",
      "0.83478695 1.5034277\n",
      "0.86292225 1.585277\n",
      "0.886904 1.4855039\n",
      "0.84331876 1.4821457\n",
      "0.8698311 1.5282431\n",
      "0.9047146 1.579776\n",
      "0.8978949 1.5210885\n",
      "0.919982 1.5179242\n",
      "0.90065765 1.5088515\n",
      "0.8650097 1.6100684\n",
      "0.83764416 1.5028151\n",
      "0.8829549 1.611566\n",
      "0.87330675 1.5597622\n",
      "0.8472744 1.6237878\n",
      "0.8646067 1.5685449\n",
      "0.8448631 1.6190882\n",
      "0.90026206 1.523703\n",
      "0.91403717 1.657863\n",
      "0.91889834 1.5416815\n",
      "0.9287188 1.5990745\n",
      "0.9239075 1.5208297\n",
      "0.9179977 1.6000333\n",
      "0.924181 1.5576384\n",
      "0.905231 1.6114691\n",
      "0.83464533 1.5335494\n",
      "0.8683212 1.6669192\n",
      "0.8646141 1.5892091\n",
      "0.8810096 1.6511304\n",
      "0.8428688 1.502137\n",
      "0.8494222 1.5270452\n",
      "0.92815703 1.5122968\n",
      "0.8553499 1.5871215\n",
      "0.8488159 1.490787\n",
      "0.8576563 1.552611\n",
      "0.83885944 1.602205\n",
      "0.85815084 1.5260895\n",
      "0.8558436 1.6138798\n",
      "0.86172307 1.6180156\n",
      "0.8574156 1.6092564\n",
      "0.8723181 1.4882667\n",
      "0.91682774 1.604945\n",
      "0.89633167 1.5342292\n",
      "0.8769349 1.5999058\n",
      "0.9184928 1.486416\n",
      "0.84010494 1.6003959\n",
      "0.8302905 1.6351923\n",
      "0.8403169 1.6573377\n",
      "0.9206164 1.5999937\n",
      "0.832851 1.5803612\n",
      "0.8512327 1.6255096\n",
      "0.8422361 1.5157256\n",
      "0.8324592 1.5249215\n",
      "0.8553351 1.5845103\n",
      "0.8302216 1.5818936\n",
      "0.8333297 1.5506108\n",
      "0.88405156 1.6583385\n",
      "0.9078635 1.5292788\n",
      "0.87664646 1.603061\n",
      "0.90861446 1.6490687\n",
      "0.8476189 1.4831604\n",
      "0.910145 1.6528349\n",
      "0.87898636 1.5201033\n",
      "0.90288657 1.5931687\n",
      "0.86225975 1.597934\n",
      "0.9295065 1.483622\n",
      "0.84077466 1.500661\n",
      "0.8634851 1.4781268\n",
      "0.8990758 1.53372\n",
      "0.9231233 1.5795255\n",
      "0.9155896 1.6463094\n",
      "0.87193507 1.5659682\n",
      "0.8720236 1.5961316\n",
      "0.8824266 1.4873673\n",
      "0.89003676 1.6170268\n",
      "0.90449375 1.5579317\n",
      "0.9166004 1.5248809\n",
      "0.91510004 1.5273443\n",
      "0.84375274 1.5651714\n",
      "0.8311435 1.6279266\n",
      "0.8754455 1.5172999\n",
      "0.92148584 1.5204204\n",
      "0.92587256 1.477215\n",
      "0.8691932 1.5217949\n",
      "0.89471537 1.6171788\n",
      "0.89146966 1.5115594\n",
      "0.88716847 1.5222598\n",
      "0.9008896 1.6491923\n",
      "0.86111546 1.5828449\n",
      "0.92894286 1.6275532\n",
      "0.90619093 1.5902926\n",
      "0.83291256 1.5169894\n",
      "0.859137 1.5454797\n",
      "0.8766422 1.6084936\n",
      "0.899952 1.5841727\n",
      "0.8604805 1.6403868\n",
      "0.92590535 1.6387105\n",
      "0.8910799 1.481785\n",
      "0.8796203 1.5577185\n",
      "0.8810692 1.5517405\n",
      "0.8697494 1.5724448\n",
      "0.9000661 1.616091\n",
      "0.89288104 1.5815948\n",
      "0.900324 1.484859\n",
      "0.9058443 1.4712975\n",
      "0.83371365 1.4901471\n",
      "0.9080735 1.5075376\n",
      "0.9041085 1.5116904\n",
      "0.8530172 1.6167827\n",
      "0.90410423 1.6618826\n",
      "0.91003984 1.6358365\n",
      "0.90031606 1.655349\n",
      "0.8623294 1.5669216\n",
      "0.9072338 1.666596\n",
      "0.9249411 1.6469823\n",
      "0.9013563 1.6679441\n",
      "0.83829343 1.6264122\n",
      "0.9003508 1.6269981\n",
      "0.877809 1.5240911\n",
      "0.9010516 1.5012548\n",
      "0.88834167 1.5054079\n",
      "0.8760777 1.5520837\n",
      "0.89019084 1.5964019\n",
      "0.8407852 1.4890109\n",
      "0.8844152 1.5205014\n",
      "209\n",
      "45.76240296996288\n"
     ]
    }
   ],
   "source": [
    "muons = 0\n",
    "\n",
    "for i in range(len(analyser.atlas_data.values)):\n",
    "    hits = analyser.atlas_data.iloc[i]\n",
    "    for p in range(len(hits[\"mu_eta\"])):\n",
    "        if 0.93 > hits[\"mu_eta\"][p] > 0.83 and abs(hits[\"mu_phi\"][p] - 1.57) < 0.1:\n",
    "            muons += 1\n",
    "            print(hits[\"mu_eta\"][p], hits[\"mu_phi\"][p])\n",
    "\n",
    "print(muons)\n",
    "print(len(analyser.atlas_data.values)/(analyser.atlas_data.iloc[-1][\"TimeStamp\"]-analyser.atlas_data.iloc[0][\"TimeStamp\"]))"
   ]
  },
  {
   "cell_type": "code",
   "execution_count": 42,
   "metadata": {},
   "outputs": [],
   "source": [
    "#plot density by eta\n",
    "hist_eta = []\n",
    "for i in range(len(analyser.atlas_data.values)):\n",
    "    hits = analyser.atlas_data.iloc[i]\n",
    "    for p in range(len(hits[\"mu_eta\"])):\n",
    "            hist_eta.append(hits[\"mu_eta\"][p])\n",
    "plt.title(\"Density of muons by eta\")\n",
    "plt.xlabel(\"Eta\")\n",
    "plt.xlim(-3, 3)\n",
    "plt.hist(hist_eta, bins=100, density=True)\n",
    "plt.show()\n"
   ]
  },
  {
   "cell_type": "code",
   "execution_count": null,
   "metadata": {},
   "outputs": [],
   "source": [
    "hist, bins = np.histogram(hist_eta, bins=100, density=True)"
   ]
  },
  {
   "cell_type": "code",
   "execution_count": 11,
   "metadata": {},
   "outputs": [
    {
     "name": "stdout",
     "output_type": "stream",
     "text": [
      "Anubis (1719503720, 1719506762)\n",
      "ATLAS (np.uint32(1719503721), np.uint32(1719506684))\n"
     ]
    }
   ],
   "source": [
    "# set the times\n",
    "analyser.atlas_data = analyser.atlas_data[analyser.atlas_data[\"TimeStamp\"] > analyser.anubis_data[0].timeStamp]\n",
    "print(\"Anubis\", (round(analyser.anubis_data[0].timeStamp), round(analyser.anubis_data[-1].timeStamp)))\n",
    "print(\"ATLAS\",(analyser.atlas_data.iloc[0][\"TimeStamp\"], analyser.atlas_data.iloc[-1][\"TimeStamp\"]))"
   ]
  },
  {
   "cell_type": "code",
   "execution_count": 12,
   "metadata": {},
   "outputs": [
    {
     "name": "stdout",
     "output_type": "stream",
     "text": [
      "9378      1719503721\n",
      "9380      1719503721\n",
      "10762     1719503721\n",
      "10919     1719503721\n",
      "9367      1719503721\n",
      "             ...    \n",
      "144140    1719506684\n",
      "145102    1719506684\n",
      "145264    1719506684\n",
      "144324    1719506684\n",
      "144329    1719506684\n",
      "Name: TimeStamp, Length: 135594, dtype: uint32\n"
     ]
    }
   ],
   "source": [
    "times = analyser.atlas_data[\"TimeStamp\"]\n",
    "print(times) \n",
    "#1719504220\n",
    "#1719503530\n",
    "\n",
    "hist, bins = np.histogram(times, bins=100)\n",
    "plt.plot(bins[:-1], hist)\n",
    "plt.show()"
   ]
  },
  {
   "cell_type": "code",
   "execution_count": 79,
   "metadata": {},
   "outputs": [
    {
     "name": "stdout",
     "output_type": "stream",
     "text": [
      "Best offset 114\n"
     ]
    }
   ],
   "source": [
    "#Calculate the BCR offset\n",
    "importlib.reload(AtTools)\n",
    "anubis = AtTools.BCRHistogram(analyser.anubis_data, atlas=False, plot = False)\n",
    "atlas = AtTools.BCRHistogram(analyser.atlas_data, atlas=True, plot = False)\n",
    "\n",
    "window_size = 100\n",
    "anubis = np.convolve(np.append(anubis, anubis[:window_size]), np.ones(window_size)/window_size, mode='valid')\n",
    "atlas = np.convolve(np.append(atlas, atlas[:window_size]), np.ones(window_size)/window_size, mode='valid')\n",
    "error = 100\n",
    "errors = []\n",
    "for offset in range(-200,200):\n",
    "    errors.append(np.sum((atlas - np.roll(anubis, offset))**2))\n",
    "    if np.sum((atlas - np.roll(anubis, offset))**2) < error:\n",
    "        error = np.sum((atlas - np.roll(anubis, offset))**2)\n",
    "        best_offset = offset\n",
    "\n",
    "print(\"Best offset\", best_offset)\n",
    "plt.plot(atlas, label=\"Atlas\")\n",
    "#plt.plot(anubis, label=\"Original Anubis\")\n",
    "plt.plot(np.roll(anubis, best_offset), label=\"Offset Anubis\")\n",
    "plt.xlim(0, 3565)\n",
    "plt.ylabel(\"Counts (normalized)\")\n",
    "plt.xlabel(\"BX\")\n",
    "plt.title(\"Anubis and Atlas BCR Histograms aligned - smoothed\")\n",
    "plt.legend()\n",
    "plt.show()\n",
    "\n",
    "plt.plot(list(range(-200,200)), errors, label=\"Errors\")\n",
    "plt.xlabel(\"Offset\")\n",
    "plt.ylabel(\"Sum of Square Errors\")\n",
    "plt.title(\"Sum of Square Errors vs Offset\")\n",
    "plt.vlines(best_offset,0, max(errors), color = \"red\", label=f\"Best Offset: {best_offset}\")\n",
    "plt.ylim(0,max(errors))\n",
    "plt.legend(loc = \"lower left\") #position\n",
    "\n",
    "plt.show()\n",
    "    "
   ]
  },
  {
   "cell_type": "code",
   "execution_count": 24,
   "metadata": {},
   "outputs": [
    {
     "name": "stderr",
     "output_type": "stream",
     "text": [
      "Matching:   7%|▋         | 9773/135594 [08:33<1:50:04, 19.05Events/s] \n"
     ]
    },
    {
     "ename": "KeyboardInterrupt",
     "evalue": "",
     "output_type": "error",
     "traceback": [
      "\u001b[1;31m---------------------------------------------------------------------------\u001b[0m",
      "\u001b[1;31mKeyboardInterrupt\u001b[0m                         Traceback (most recent call last)",
      "Cell \u001b[1;32mIn[24], line 2\u001b[0m\n\u001b[0;32m      1\u001b[0m importlib\u001b[38;5;241m.\u001b[39mreload(AtTools)\n\u001b[1;32m----> 2\u001b[0m \u001b[43manalyser\u001b[49m\u001b[38;5;241;43m.\u001b[39;49m\u001b[43mpairBCRwithEvents\u001b[49m\u001b[43m(\u001b[49m\u001b[43m)\u001b[49m\n",
      "File \u001b[1;32mC:\\/Users//jony//Programming//Python//Anubis//anubis//tools\\Atlas_tools.py:353\u001b[0m, in \u001b[0;36mAtlasAnalyser.pairBCRwithEvents\u001b[1;34m(self)\u001b[0m\n\u001b[0;32m    351\u001b[0m \u001b[38;5;28mprint\u001b[39m(\u001b[38;5;124m\"\u001b[39m\u001b[38;5;124mNew bcr\u001b[39m\u001b[38;5;124m\"\u001b[39m)\n\u001b[0;32m    352\u001b[0m bcr \u001b[38;5;241m=\u001b[39m \u001b[38;5;28mself\u001b[39m\u001b[38;5;241m.\u001b[39manubis_data[i]\n\u001b[1;32m--> 353\u001b[0m \u001b[38;5;28mprint\u001b[39m(bcr\u001b[38;5;241m.\u001b[39mtimeStamp)\n\u001b[0;32m    354\u001b[0m \u001b[38;5;28;01mif\u001b[39;00m bcr\u001b[38;5;241m.\u001b[39mtimeStamp \u001b[38;5;241m<\u001b[39m hit_time \u001b[38;5;241m-\u001b[39m time_window:\n\u001b[0;32m    355\u001b[0m     anubis_pointer \u001b[38;5;241m=\u001b[39m \u001b[38;5;28mself\u001b[39m\u001b[38;5;241m.\u001b[39manubis_data\u001b[38;5;241m.\u001b[39mindex(bcr)\n",
      "\u001b[1;31mKeyboardInterrupt\u001b[0m: "
     ]
    }
   ],
   "source": [
    "importlib.reload(AtTools)\n",
    "analyser.pairBCRwithEvents()"
   ]
  },
  {
   "cell_type": "code",
   "execution_count": 48,
   "metadata": {},
   "outputs": [],
   "source": [
    "#difference\n",
    "best_offset = 114\n",
    "eta = []\n",
    "phi = []\n",
    "times = []\n",
    "matches = analyser.matches\n",
    "for i in range(len(matches)):\n",
    "    atlas_hits = matches[i][0]\n",
    "    for p in range(len(matches[i][0][\"mu_eta\"])):    \n",
    "        if 0.93 > atlas_hits[\"mu_eta\"][p] > 0.83 and abs(atlas_hits[\"mu_phi\"][p] - 1.57) < 0.1:        \n",
    "            if matches[i][1]:\n",
    "                for trigger in matches[i][1]:\n",
    "                    #if abs(round(trigger.bcId-matches[i][0][\"BCID\"])) > 1000:\n",
    "                    #    continue\n",
    "                    eta.extend(matches[i][0][\"mu_eta\"])\n",
    "                    phi.extend(matches[i][0][\"mu_phi\"])       \n",
    "                    for _ in range(len(matches[i][0][\"mu_eta\"])):\n",
    "                        times.append(round(trigger.bcId+best_offset-matches[i][0][\"BCID\"]))"
   ]
  },
  {
   "cell_type": "code",
   "execution_count": 86,
   "metadata": {},
   "outputs": [],
   "source": [
    "#3D plot\n",
    "fig = plt.figure()\n",
    "ax = fig.add_subplot(projection='3d')\n",
    "ax.scatter(eta, phi, times)\n",
    "ax.set_xlabel('eta')\n",
    "plt.ylim(-3.2,3.2)\n",
    "plt.xlim(-3.2,3.2)\n",
    "ax.set_ylabel('phi')\n",
    "ax.set_zlabel('time')\n",
    "plt.show()"
   ]
  },
  {
   "cell_type": "code",
   "execution_count": 50,
   "metadata": {},
   "outputs": [],
   "source": [
    "#Histograms\n",
    "plt.hist2d(eta, phi, bins=30, cmap='plasma')\n",
    "plt.xlim(-np.pi, np.pi)\n",
    "plt.ylim(-np.pi, np.pi)\n",
    "plt.xlabel(\"eta\")\n",
    "plt.ylabel(\"phi\")\n",
    "# Add a color bar to show the color scale\n",
    "plt.colorbar()\n",
    "plt.show()\n",
    "\n",
    "plt.hist(times, bins=range(min(times), max(times) + 2, 1))\n",
    "#plt.xlim(-100,100)\n",
    "plt.xlabel(\"Time difference (bx)\")\n",
    "plt.xlim(-500,500)\n",
    "plt.ylabel(\"Frequency\")\n",
    "plt.title(\"Time difference between BCR and trigger\")\n",
    "plt.show()"
   ]
  },
  {
   "cell_type": "code",
   "execution_count": 21,
   "metadata": {},
   "outputs": [],
   "source": [
    "\n",
    "import matplotlib.pyplot as plt\n",
    "import numpy as np\n",
    "from mpl_toolkits.mplot3d import Axes3D\n",
    "\n",
    "hist, xedges, yedges = np.histogram2d(eta, phi, bins=30, range=[[-np.pi, np.pi], [-np.pi, np.pi]])\n",
    "\n",
    "# Prepare the grid for the surface plot\n",
    "xpos, ypos = np.meshgrid(xedges[:-1] + 0.5 * (xedges[1] - xedges[0]),\n",
    "                         yedges[:-1] + 0.5 * (yedges[1] - yedges[0]),\n",
    "                         indexing=\"ij\")\n",
    "\n",
    "# Initialize the 3D plot\n",
    "fig = plt.figure()\n",
    "ax = fig.add_subplot(111, projection='3d')\n",
    "\n",
    "# Plot the surface\n",
    "ax.plot_surface(xpos, ypos, hist, cmap='plasma')\n",
    "\n",
    "# Set labels\n",
    "ax.set_xlabel('eta')\n",
    "ax.set_ylabel('phi')\n",
    "ax.set_zlabel('Count')\n",
    "\n",
    "# Set limits\n",
    "ax.set_xlim(-np.pi, np.pi)\n",
    "ax.set_ylim(-np.pi, np.pi)\n",
    "\n",
    "# Show the plot\n",
    "plt.show()\n"
   ]
  }
 ],
 "metadata": {
  "kernelspec": {
   "display_name": ".venv",
   "language": "python",
   "name": "python3"
  },
  "language_info": {
   "codemirror_mode": {
    "name": "ipython",
    "version": 3
   },
   "file_extension": ".py",
   "mimetype": "text/x-python",
   "name": "python",
   "nbconvert_exporter": "python",
   "pygments_lexer": "ipython3",
   "version": "3.10.4"
  }
 },
 "nbformat": 4,
 "nbformat_minor": 2
}
