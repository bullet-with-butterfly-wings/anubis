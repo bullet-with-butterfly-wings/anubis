{
 "cells": [
  {
   "cell_type": "code",
   "execution_count": 2,
   "metadata": {},
   "outputs": [],
   "source": [
    "import importlib\n",
    "import sys\n",
    "from tqdm import tqdm\n",
    "import  os\n",
    "import pickle\n",
    "import glob\n",
    "from datetime import datetime\n",
    "import matplotlib.pyplot as plt\n",
    "# Add the directories to the sys.path\n",
    "dir_path = \"C://Users//jony//Programming//Python//Anubis//anubis//\" # insert your directory path\n",
    "sys.path.append(dir_path + \"Osiris//processing//python\")\n",
    "sys.path.append(dir_path + \"tools\")\n",
    "\n",
    "import Analysis_tools as ATools\n",
    "import Atlas_tools as AtTools\n",
    "import proAnubis_Analysis_Tools\n",
    "import Reconstruction_tools as RTools\n",
    "import numpy as np\n",
    "import mplhep as hep\n",
    "import Timing_tools as TTools\n",
    "import gc\n",
    "import pickle\n",
    "import overview\n",
    "import rawFileReader\n",
    "import Visual_tools as VTools\n",
    "hep.style.use([hep.style.ATLAS])\n",
    "\n",
    "dir = \"C://Users//jony//Programming//Python//Anubis//anubis//data//\"\n",
    "\n",
    "# Specify the directory\n"
   ]
  },
  {
   "cell_type": "code",
   "execution_count": 2,
   "metadata": {},
   "outputs": [
    {
     "name": "stdout",
     "output_type": "stream",
     "text": [
      "New\n",
      "2024-09-05 03:35:00.039082\n",
      "1725503700.039082\n"
     ]
    },
    {
     "name": "stderr",
     "output_type": "stream",
     "text": [
      "Skipping proAnubis_240905_0435.raw: 5875.107097864151tdc5 Reads [00:59, 98.62tdc5 Reads/s]\n"
     ]
    },
    {
     "name": "stdout",
     "output_type": "stream",
     "text": [
      "2024-09-05 05:12:55.146180\n"
     ]
    },
    {
     "name": "stderr",
     "output_type": "stream",
     "text": [
      "Reading proAnubis_240905_0435.raw:  23%|██▎       | 1575/6823 [00:14<00:46, 112.49seconds/s]"
     ]
    },
    {
     "name": "stdout",
     "output_type": "stream",
     "text": [
      "Event time: 2024-09-05 05:12:55.148643\n",
      "Timestamp: 1725509625.552811\n"
     ]
    },
    {
     "name": "stderr",
     "output_type": "stream",
     "text": [
      "Reading proAnubis_240905_0435.raw:  24%|██▍       | 1625/6823 [00:29<01:55, 45.10seconds/s] "
     ]
    },
    {
     "name": "stdout",
     "output_type": "stream",
     "text": [
      "Event time: 2024-09-05 05:13:45.557741\n",
      "Timestamp: 1725509671.052933\n"
     ]
    },
    {
     "name": "stderr",
     "output_type": "stream",
     "text": [
      "Reading proAnubis_240905_0435.raw:  24%|██▍       | 1670/6823 [00:47<03:36, 23.78seconds/s]"
     ]
    },
    {
     "name": "stdout",
     "output_type": "stream",
     "text": [
      "Event time: 2024-09-05 05:14:31.056537\n",
      "Timestamp: 1725509722.048461\n"
     ]
    },
    {
     "name": "stderr",
     "output_type": "stream",
     "text": [
      "Reading proAnubis_240905_0435.raw:  25%|██▌       | 1721/6823 [01:06<05:49, 14.58seconds/s]"
     ]
    },
    {
     "name": "stdout",
     "output_type": "stream",
     "text": [
      "Event time: 2024-09-05 05:15:22.053537\n",
      "Timestamp: 1725509772.987986\n"
     ]
    },
    {
     "name": "stderr",
     "output_type": "stream",
     "text": [
      "Reading proAnubis_240905_0435.raw:  26%|██▌       | 1772/6823 [01:28<08:46,  9.59seconds/s]"
     ]
    },
    {
     "name": "stdout",
     "output_type": "stream",
     "text": [
      "Event time: 2024-09-05 05:16:12.993093\n",
      "Timestamp: 1725509823.765804\n"
     ]
    },
    {
     "name": "stderr",
     "output_type": "stream",
     "text": [
      "Reading proAnubis_240905_0435.raw:  27%|██▋       | 1823/6823 [01:47<11:32,  7.22seconds/s]"
     ]
    },
    {
     "name": "stdout",
     "output_type": "stream",
     "text": [
      "Event time: 2024-09-05 05:17:03.770910\n",
      "Timestamp: 1725509874.590589\n"
     ]
    },
    {
     "name": "stderr",
     "output_type": "stream",
     "text": [
      "Reading proAnubis_240905_0435.raw:  27%|██▋       | 1874/6823 [02:08<14:45,  5.59seconds/s]"
     ]
    },
    {
     "name": "stdout",
     "output_type": "stream",
     "text": [
      "Event time: 2024-09-05 05:17:54.595735\n",
      "Timestamp: 1725509925.519614\n"
     ]
    },
    {
     "name": "stderr",
     "output_type": "stream",
     "text": [
      "Reading proAnubis_240905_0435.raw:  28%|██▊       | 1925/6823 [02:29<18:01,  4.53seconds/s]"
     ]
    },
    {
     "name": "stdout",
     "output_type": "stream",
     "text": [
      "Event time: 2024-09-05 05:18:45.524660\n",
      "Timestamp: 1725509976.146092\n"
     ]
    },
    {
     "name": "stderr",
     "output_type": "stream",
     "text": [
      "Reading proAnubis_240905_0435.raw:  29%|██▉       | 1976/6823 [02:51<21:27,  3.77seconds/s]"
     ]
    },
    {
     "name": "stdout",
     "output_type": "stream",
     "text": [
      "Event time: 2024-09-05 05:19:36.151246\n",
      "Timestamp: 1725510026.865126\n"
     ]
    },
    {
     "name": "stderr",
     "output_type": "stream",
     "text": [
      "Reading proAnubis_240905_0435.raw:  30%|██▉       | 2027/6823 [03:05<21:23,  3.74seconds/s]"
     ]
    },
    {
     "name": "stdout",
     "output_type": "stream",
     "text": [
      "Event time: 2024-09-05 05:20:26.870579\n",
      "Timestamp: 1725510079.260202\n"
     ]
    },
    {
     "name": "stderr",
     "output_type": "stream",
     "text": [
      "Reading proAnubis_240905_0435.raw:  30%|███       | 2079/6823 [03:29<24:52,  3.18seconds/s]"
     ]
    },
    {
     "name": "stdout",
     "output_type": "stream",
     "text": [
      "Event time: 2024-09-05 05:21:19.265344\n",
      "Timestamp: 1725510130.085152\n"
     ]
    },
    {
     "name": "stderr",
     "output_type": "stream",
     "text": [
      "Reading proAnubis_240905_0435.raw:  31%|███       | 2130/6823 [03:53<27:53,  2.80seconds/s]"
     ]
    },
    {
     "name": "stdout",
     "output_type": "stream",
     "text": [
      "Event time: 2024-09-05 05:22:10.090103\n",
      "Timestamp: 1725510180.75429\n"
     ]
    },
    {
     "name": "stderr",
     "output_type": "stream",
     "text": [
      "Reading proAnubis_240905_0435.raw:  32%|███▏      | 2181/6823 [04:07<25:48,  3.00seconds/s]"
     ]
    },
    {
     "name": "stdout",
     "output_type": "stream",
     "text": [
      "Event time: 2024-09-05 05:23:00.759222\n",
      "Timestamp: 1725510231.572774\n"
     ]
    },
    {
     "name": "stderr",
     "output_type": "stream",
     "text": [
      "Reading proAnubis_240905_0435.raw:  33%|███▎      | 2232/6823 [04:34<29:42,  2.58seconds/s]"
     ]
    },
    {
     "name": "stdout",
     "output_type": "stream",
     "text": [
      "Event time: 2024-09-05 05:23:51.578029\n",
      "Timestamp: 1725510282.030937\n"
     ]
    },
    {
     "name": "stderr",
     "output_type": "stream",
     "text": [
      "Reading proAnubis_240905_0435.raw:  33%|███▎      | 2282/6823 [04:41<24:02,  3.15seconds/s]"
     ]
    },
    {
     "name": "stdout",
     "output_type": "stream",
     "text": [
      "Event time: 2024-09-05 05:24:42.036150\n",
      "Timestamp: 1725510330.499878\n"
     ]
    },
    {
     "name": "stderr",
     "output_type": "stream",
     "text": [
      "Reading proAnubis_240905_0435.raw:  34%|███▍      | 2330/6823 [05:06<27:52,  2.69seconds/s]"
     ]
    },
    {
     "name": "stdout",
     "output_type": "stream",
     "text": [
      "Event time: 2024-09-05 05:25:30.504714\n",
      "Timestamp: 1725510379.937086\n"
     ]
    },
    {
     "name": "stderr",
     "output_type": "stream",
     "text": [
      "Reading proAnubis_240905_0435.raw:  35%|███▍      | 2379/6823 [05:13<22:42,  3.26seconds/s]"
     ]
    },
    {
     "name": "stdout",
     "output_type": "stream",
     "text": [
      "Event time: 2024-09-05 05:26:19.941827\n",
      "Timestamp: 1725510428.135705\n"
     ]
    },
    {
     "name": "stderr",
     "output_type": "stream",
     "text": [
      "Reading proAnubis_240905_0435.raw:  36%|███▌      | 2427/6823 [05:20<19:01,  3.85seconds/s]"
     ]
    },
    {
     "name": "stdout",
     "output_type": "stream",
     "text": [
      "Event time: 2024-09-05 05:27:08.140322\n",
      "Timestamp: 1725510476.772504\n"
     ]
    },
    {
     "name": "stderr",
     "output_type": "stream",
     "text": [
      "Reading proAnubis_240905_0435.raw:  36%|███▋      | 2476/6823 [05:27<16:22,  4.42seconds/s]"
     ]
    },
    {
     "name": "stdout",
     "output_type": "stream",
     "text": [
      "Event time: 2024-09-05 05:27:56.777248\n",
      "Timestamp: 1725510525.017581\n"
     ]
    },
    {
     "name": "stderr",
     "output_type": "stream",
     "text": [
      "Reading proAnubis_240905_0435.raw:  37%|███▋      | 2524/6823 [06:04<27:47,  2.58seconds/s]"
     ]
    },
    {
     "name": "stdout",
     "output_type": "stream",
     "text": [
      "Event time: 2024-09-05 05:28:45.022427\n",
      "Timestamp: 1725510574.677364\n"
     ]
    },
    {
     "name": "stderr",
     "output_type": "stream",
     "text": [
      "Reading proAnubis_240905_0435.raw:  38%|███▊      | 2574/6823 [06:11<22:03,  3.21seconds/s]"
     ]
    },
    {
     "name": "stdout",
     "output_type": "stream",
     "text": [
      "Event time: 2024-09-05 05:29:34.682273\n",
      "Timestamp: 1725510622.769004\n"
     ]
    },
    {
     "name": "stderr",
     "output_type": "stream",
     "text": [
      "Reading proAnubis_240905_0435.raw:  38%|███▊      | 2622/6823 [06:25<21:30,  3.26seconds/s]"
     ]
    },
    {
     "name": "stdout",
     "output_type": "stream",
     "text": [
      "Event time: 2024-09-05 05:30:22.774008\n",
      "Timestamp: 1725510673.740181\n"
     ]
    },
    {
     "name": "stderr",
     "output_type": "stream",
     "text": [
      "Reading proAnubis_240905_0435.raw:  39%|███▉      | 2673/6823 [08:19<1:02:06,  1.11seconds/s]"
     ]
    },
    {
     "name": "stdout",
     "output_type": "stream",
     "text": [
      "Event time: 2024-09-05 05:31:13.745088\n",
      "Timestamp: 1725510724.103371\n"
     ]
    },
    {
     "name": "stderr",
     "output_type": "stream",
     "text": [
      "Reading proAnubis_240905_0435.raw:  40%|███▉      | 2723/6823 [08:33<48:38,  1.40seconds/s]  "
     ]
    },
    {
     "name": "stdout",
     "output_type": "stream",
     "text": [
      "Event time: 2024-09-05 05:32:04.108360\n",
      "Timestamp: 1725510775.046817\n"
     ]
    },
    {
     "name": "stderr",
     "output_type": "stream",
     "text": [
      "Reading proAnubis_240905_0435.raw:  41%|████      | 2774/6823 [08:48<39:23,  1.71seconds/s]"
     ]
    },
    {
     "name": "stdout",
     "output_type": "stream",
     "text": [
      "Event time: 2024-09-05 05:32:55.051986\n",
      "Timestamp: 1725510825.817695\n"
     ]
    },
    {
     "name": "stderr",
     "output_type": "stream",
     "text": [
      "Reading proAnubis_240905_0435.raw:  41%|████▏     | 2825/6823 [17:50<4:02:14,  3.64s/seconds]"
     ]
    },
    {
     "name": "stdout",
     "output_type": "stream",
     "text": [
      "Event time: 2024-09-05 05:33:45.822697\n",
      "Timestamp: 1725510875.642543\n"
     ]
    },
    {
     "name": "stderr",
     "output_type": "stream",
     "text": [
      "Reading proAnubis_240905_0435.raw:  42%|████▏     | 2875/6823 [18:02<2:52:38,  2.62s/seconds]"
     ]
    },
    {
     "name": "stdout",
     "output_type": "stream",
     "text": [
      "Event time: 2024-09-05 05:34:35.646608\n",
      "Timestamp: 1725510900.000205\n",
      "New\n"
     ]
    },
    {
     "name": "stderr",
     "output_type": "stream",
     "text": [
      "Reading proAnubis_240905_0435.raw:  42%|████▏     | 2899/6823 [19:06<2:52:07,  2.63s/seconds]"
     ]
    },
    {
     "name": "stdout",
     "output_type": "stream",
     "text": [
      "Event time: 2024-09-05 05:35:00.028855\n",
      "Timestamp: 1725510950.809701\n"
     ]
    },
    {
     "name": "stderr",
     "output_type": "stream",
     "text": [
      "Reading proAnubis_240905_0435.raw:  43%|████▎     | 2950/6823 [19:21<1:58:15,  1.83s/seconds]"
     ]
    },
    {
     "name": "stdout",
     "output_type": "stream",
     "text": [
      "Event time: 2024-09-05 05:35:50.814597\n",
      "Timestamp: 1725511002.347791\n"
     ]
    },
    {
     "name": "stderr",
     "output_type": "stream",
     "text": [
      "Reading proAnubis_240905_0435.raw:  44%|████▍     | 3002/6823 [19:45<1:27:47,  1.38s/seconds]"
     ]
    },
    {
     "name": "stdout",
     "output_type": "stream",
     "text": [
      "Event time: 2024-09-05 05:36:42.352791\n",
      "Timestamp: 1725511053.721132\n"
     ]
    },
    {
     "name": "stderr",
     "output_type": "stream",
     "text": [
      "Reading proAnubis_240905_0435.raw:  45%|████▍     | 3053/6823 [20:11<1:09:31,  1.11s/seconds]"
     ]
    },
    {
     "name": "stdout",
     "output_type": "stream",
     "text": [
      "Event time: 2024-09-05 05:37:33.726218\n",
      "Timestamp: 1725511105.436735\n"
     ]
    },
    {
     "name": "stderr",
     "output_type": "stream",
     "text": [
      "Reading proAnubis_240905_0435.raw:  46%|████▌     | 3105/6823 [20:33<55:03,  1.13seconds/s]  "
     ]
    },
    {
     "name": "stdout",
     "output_type": "stream",
     "text": [
      "Event time: 2024-09-05 05:38:25.441924\n",
      "Timestamp: 1725511153.913705\n"
     ]
    },
    {
     "name": "stderr",
     "output_type": "stream",
     "text": [
      "Reading proAnubis_240905_0435.raw:  46%|████▌     | 3153/6823 [21:04<49:55,  1.23seconds/s]"
     ]
    },
    {
     "name": "stdout",
     "output_type": "stream",
     "text": [
      "Event time: 2024-09-05 05:39:13.919309\n",
      "Timestamp: 1725511206.067974\n"
     ]
    },
    {
     "name": "stderr",
     "output_type": "stream",
     "text": [
      "Reading proAnubis_240905_0435.raw:  47%|████▋     | 3205/6823 [21:28<42:32,  1.42seconds/s]"
     ]
    },
    {
     "name": "stdout",
     "output_type": "stream",
     "text": [
      "Event time: 2024-09-05 05:40:06.073286\n",
      "Timestamp: 1725511257.862804\n"
     ]
    },
    {
     "name": "stderr",
     "output_type": "stream",
     "text": [
      "Reading proAnubis_240905_0435.raw:  48%|████▊     | 3257/6823 [21:42<33:58,  1.75seconds/s]"
     ]
    },
    {
     "name": "stdout",
     "output_type": "stream",
     "text": [
      "Event time: 2024-09-05 05:40:57.867935\n",
      "Timestamp: 1725511307.839794\n"
     ]
    },
    {
     "name": "stderr",
     "output_type": "stream",
     "text": [
      "Reading proAnubis_240905_0435.raw:  48%|████▊     | 3307/6823 [22:07<32:07,  1.82seconds/s]"
     ]
    },
    {
     "name": "stdout",
     "output_type": "stream",
     "text": [
      "Event time: 2024-09-05 05:41:47.845078\n",
      "Timestamp: 1725511359.558664\n"
     ]
    },
    {
     "name": "stderr",
     "output_type": "stream",
     "text": [
      "Reading proAnubis_240905_0435.raw:  49%|████▉     | 3359/6823 [22:33<30:54,  1.87seconds/s]"
     ]
    },
    {
     "name": "stdout",
     "output_type": "stream",
     "text": [
      "Event time: 2024-09-05 05:42:39.563932\n",
      "Timestamp: 1725511411.472216\n"
     ]
    },
    {
     "name": "stderr",
     "output_type": "stream",
     "text": [
      "Reading proAnubis_240905_0435.raw:  50%|████▉     | 3411/6823 [23:00<30:20,  1.87seconds/s]"
     ]
    },
    {
     "name": "stdout",
     "output_type": "stream",
     "text": [
      "Event time: 2024-09-05 05:43:31.477328\n",
      "Timestamp: 1725511462.530832\n"
     ]
    },
    {
     "name": "stderr",
     "output_type": "stream",
     "text": [
      "Reading proAnubis_240905_0435.raw:  51%|█████     | 3462/6823 [23:15<25:39,  2.18seconds/s]"
     ]
    },
    {
     "name": "stdout",
     "output_type": "stream",
     "text": [
      "Event time: 2024-09-05 05:44:22.535904\n",
      "Timestamp: 1725511515.906172\n"
     ]
    },
    {
     "name": "stderr",
     "output_type": "stream",
     "text": [
      "Reading proAnubis_240905_0435.raw:  52%|█████▏    | 3515/6823 [23:46<27:20,  2.02seconds/s]"
     ]
    },
    {
     "name": "stdout",
     "output_type": "stream",
     "text": [
      "Event time: 2024-09-05 05:45:15.911563\n",
      "Timestamp: 1725511569.368728\n"
     ]
    },
    {
     "name": "stderr",
     "output_type": "stream",
     "text": [
      "Reading proAnubis_240905_0435.raw:  52%|█████▏    | 3568/6823 [24:02<23:49,  2.28seconds/s]"
     ]
    },
    {
     "name": "stdout",
     "output_type": "stream",
     "text": [
      "Event time: 2024-09-05 05:46:09.374299\n",
      "Timestamp: 1725511621.644364\n"
     ]
    },
    {
     "name": "stderr",
     "output_type": "stream",
     "text": [
      "Reading proAnubis_240905_0435.raw:  53%|█████▎    | 3620/6823 [27:28<1:19:55,  1.50s/seconds]"
     ]
    },
    {
     "name": "stdout",
     "output_type": "stream",
     "text": [
      "Event time: 2024-09-05 05:47:01.649273\n",
      "Timestamp: 1725511674.698428\n"
     ]
    },
    {
     "name": "stderr",
     "output_type": "stream",
     "text": [
      "Reading proAnubis_240905_0435.raw:  54%|█████▍    | 3673/6823 [27:52<1:01:45,  1.18s/seconds]"
     ]
    },
    {
     "name": "stdout",
     "output_type": "stream",
     "text": [
      "Event time: 2024-09-05 05:47:54.703490\n",
      "Timestamp: 1725511727.442143\n"
     ]
    },
    {
     "name": "stderr",
     "output_type": "stream",
     "text": [
      "Reading proAnubis_240905_0435.raw:  55%|█████▍    | 3726/6823 [40:21<4:23:14,  5.10s/seconds]"
     ]
    },
    {
     "name": "stdout",
     "output_type": "stream",
     "text": [
      "Event time: 2024-09-05 05:48:47.447607\n",
      "Timestamp: 1725511780.6189\n"
     ]
    },
    {
     "name": "stderr",
     "output_type": "stream",
     "text": [
      "Reading proAnubis_240905_0435.raw:  55%|█████▌    | 3779/6823 [40:41<3:06:20,  3.67s/seconds]"
     ]
    },
    {
     "name": "stdout",
     "output_type": "stream",
     "text": [
      "Event time: 2024-09-05 05:49:40.624113\n",
      "Timestamp: 1725511833.732035\n"
     ]
    },
    {
     "name": "stderr",
     "output_type": "stream",
     "text": [
      "Reading proAnubis_240905_0435.raw:  55%|█████▌    | 3779/6823 [54:40<44:02,  1.15seconds/s]  \n"
     ]
    },
    {
     "ename": "KeyboardInterrupt",
     "evalue": "",
     "output_type": "error",
     "traceback": [
      "\u001b[1;31m---------------------------------------------------------------------------\u001b[0m",
      "\u001b[1;31mKeyboardInterrupt\u001b[0m                         Traceback (most recent call last)",
      "Cell \u001b[1;32mIn[2], line 37\u001b[0m\n\u001b[0;32m     35\u001b[0m analyser\u001b[38;5;241m.\u001b[39manubis_data \u001b[38;5;241m=\u001b[39m []\n\u001b[0;32m     36\u001b[0m \u001b[38;5;28;01mtry\u001b[39;00m:\n\u001b[1;32m---> 37\u001b[0m     \u001b[43manalyser\u001b[49m\u001b[38;5;241;43m.\u001b[39;49m\u001b[43mget_tdc5_data\u001b[49m\u001b[43m(\u001b[49m\u001b[43mfile_name\u001b[49m\u001b[43m,\u001b[49m\u001b[43m \u001b[49m\u001b[38;5;241;43m1\u001b[39;49m\u001b[43m,\u001b[49m\u001b[43m \u001b[49m\u001b[38;5;241;43m2\u001b[39;49m\u001b[43m,\u001b[49m\u001b[43m \u001b[49m\u001b[43mamount_of_events\u001b[49m\u001b[38;5;241;43m=\u001b[39;49m\u001b[38;5;241;43m20_000\u001b[39;49m\u001b[43m)\u001b[49m\n\u001b[0;32m     38\u001b[0m \u001b[38;5;28;01mexcept\u001b[39;00m \u001b[38;5;167;01mEOFError\u001b[39;00m:\n\u001b[0;32m     39\u001b[0m     file_name \u001b[38;5;241m=\u001b[39m \u001b[38;5;124m\"\u001b[39m\u001b[38;5;124mproAnubis_240905_0635.raw\u001b[39m\u001b[38;5;124m\"\u001b[39m\n",
      "File \u001b[1;32mC:\\/Users//jony//Programming//Python//Anubis//anubis//tools\\Atlas_tools.py:271\u001b[0m, in \u001b[0;36mAtlasAnalyser.get_tdc5_data\u001b[1;34m(self, file_name, trigger_channel, bcr_channel, amount_of_events)\u001b[0m\n\u001b[0;32m    269\u001b[0m \u001b[38;5;28;01mwhile\u001b[39;00m i \u001b[38;5;241m<\u001b[39m amount_of_events:\n\u001b[0;32m    270\u001b[0m     \u001b[38;5;28;01mif\u001b[39;00m \u001b[38;5;129;01mnot\u001b[39;00m fromPKL:\n\u001b[1;32m--> 271\u001b[0m         \u001b[38;5;28;01mif\u001b[39;00m \u001b[38;5;129;01mnot\u001b[39;00m \u001b[38;5;28;43mself\u001b[39;49m\u001b[38;5;241;43m.\u001b[39;49m\u001b[43mfReader\u001b[49m\u001b[38;5;241;43m.\u001b[39;49m\u001b[43mreadBlock\u001b[49m\u001b[43m(\u001b[49m\u001b[43m)\u001b[49m:\n\u001b[0;32m    272\u001b[0m             \u001b[38;5;28;01mraise\u001b[39;00m \u001b[38;5;167;01mEOFError\u001b[39;00m(\u001b[38;5;124m\"\u001b[39m\u001b[38;5;124mYou have reached the end of the file\u001b[39m\u001b[38;5;124m\"\u001b[39m)\n\u001b[0;32m    274\u001b[0m         \u001b[38;5;28;01mif\u001b[39;00m(\u001b[38;5;28mself\u001b[39m\u001b[38;5;241m.\u001b[39mfReader\u001b[38;5;241m.\u001b[39mhasEvents()):\n",
      "File \u001b[1;32mC:\\/Users//jony//Programming//Python//Anubis//anubis//Osiris//processing//python\\rawFileReader.py:225\u001b[0m, in \u001b[0;36mfileReader.readBlock\u001b[1;34m(self, p)\u001b[0m\n\u001b[0;32m    223\u001b[0m tdcReadData \u001b[38;5;241m=\u001b[39m \u001b[38;5;28mself\u001b[39m\u001b[38;5;241m.\u001b[39mdata\u001b[38;5;241m.\u001b[39mread(nWords\u001b[38;5;241m*\u001b[39m\u001b[38;5;28mself\u001b[39m\u001b[38;5;241m.\u001b[39mwordSize)\n\u001b[0;32m    224\u001b[0m \u001b[38;5;28mself\u001b[39m\u001b[38;5;241m.\u001b[39mbytesRead \u001b[38;5;241m=\u001b[39m \u001b[38;5;28mself\u001b[39m\u001b[38;5;241m.\u001b[39mbytesRead\u001b[38;5;241m+\u001b[39m\u001b[38;5;28mself\u001b[39m\u001b[38;5;241m.\u001b[39mwordSize\u001b[38;5;241m*\u001b[39m(nWords\u001b[38;5;241m+\u001b[39m\u001b[38;5;241m3\u001b[39m)\n\u001b[1;32m--> 225\u001b[0m \u001b[38;5;28;43mself\u001b[39;49m\u001b[38;5;241;43m.\u001b[39;49m\u001b[43mevtBuilder\u001b[49m\u001b[38;5;241;43m.\u001b[39;49m\u001b[43maddTDCRead\u001b[49m\u001b[43m(\u001b[49m\u001b[43mthisTDC\u001b[49m\u001b[43m,\u001b[49m\u001b[43m \u001b[49m\u001b[43mthisTime\u001b[49m\u001b[43m,\u001b[49m\u001b[43m \u001b[49m\u001b[43mtdcReadData\u001b[49m\u001b[43m,\u001b[49m\u001b[43m \u001b[49m\u001b[43mp\u001b[49m\u001b[43m)\u001b[49m\n\u001b[0;32m    226\u001b[0m \u001b[38;5;28;01mreturn\u001b[39;00m \u001b[38;5;28;01mTrue\u001b[39;00m\n",
      "File \u001b[1;32mC:\\/Users//jony//Programming//Python//Anubis//anubis//Osiris//processing//python\\rawEventBuilder.py:70\u001b[0m, in \u001b[0;36meventBuilder.addTDCRead\u001b[1;34m(self, thisTDC, thisTime, tdcReadData, p)\u001b[0m\n\u001b[0;32m     68\u001b[0m             evtDiff \u001b[38;5;241m=\u001b[39m evtDiff\u001b[38;5;241m+\u001b[39m\u001b[38;5;241m0x3ff\u001b[39m\n\u001b[0;32m     69\u001b[0m         maybeMissed\u001b[38;5;241m.\u001b[39mappend(evtDiff) \n\u001b[1;32m---> 70\u001b[0m         \u001b[43mthisRead\u001b[49m\u001b[38;5;241;43m.\u001b[39;49m\u001b[43mappend\u001b[49m\u001b[43m(\u001b[49m\u001b[43mtdcEvent\u001b[49m\u001b[43m(\u001b[49m\u001b[43mthisWord\u001b[49m\u001b[43m,\u001b[49m\u001b[43m \u001b[49m\u001b[43mthisTime\u001b[49m\u001b[43m,\u001b[49m\u001b[43m[\u001b[49m\u001b[43m]\u001b[49m\u001b[43m)\u001b[49m\u001b[43m)\u001b[49m\n\u001b[0;32m     71\u001b[0m \u001b[38;5;28;01melif\u001b[39;00m wordType\u001b[38;5;241m==\u001b[39m\u001b[38;5;28mself\u001b[39m\u001b[38;5;241m.\u001b[39mCORRUPTHEADER:\n\u001b[0;32m     72\u001b[0m     \u001b[38;5;66;03m#Can treat corrupted headers the same way, but as we know the event number is bad we don't check for missed events\u001b[39;00m\n\u001b[0;32m     73\u001b[0m     \u001b[38;5;28;01mif\u001b[39;00m lastWordType\u001b[38;5;241m==\u001b[39m\u001b[38;5;28mself\u001b[39m\u001b[38;5;241m.\u001b[39mHEADER \u001b[38;5;129;01mor\u001b[39;00m lastWordType\u001b[38;5;241m==\u001b[39m\u001b[38;5;28mself\u001b[39m\u001b[38;5;241m.\u001b[39mCORRUPTHEADER:\n",
      "\u001b[1;31mKeyboardInterrupt\u001b[0m: "
     ]
    }
   ],
   "source": [
    "importlib.reload(AtTools)\n",
    "analyser = AtTools.AtlasAnalyser()\n",
    "start = \"2024-09-05 04:46:40\" \n",
    "end = \"2024-09-05 06:40:23\"\n",
    "file_name = \"proAnubis_240905_0435.raw\"\n",
    "\n",
    "analyser.get_tdc5_data(file_name, 1, 2, 100)\n",
    "initial_time = analyser.anubis_data[0].event_time\n",
    "print(initial_time)\n",
    "print(datetime.timestamp(initial_time))\n",
    "event_time = initial_time\n",
    "\n",
    "start = datetime.strptime(start, '%Y-%m-%d %H:%M:%S')\n",
    "end = datetime.strptime(end, '%Y-%m-%d %H:%M:%S')\n",
    "previous_event_time = initial_time\n",
    "with tqdm(total=round((start-initial_time).total_seconds()), desc=f\"Skipping {file_name}\", unit='tdc5 Reads') as pbar:\n",
    "    while event_time < start:\n",
    "        analyser.fReader.skip_events(20_000)\n",
    "        event_time = None\n",
    "        while not event_time:\n",
    "            if not analyser.fReader.readBlock():\n",
    "                    raise EOFError(\"You have reached the end of the file\")\n",
    "            if analyser.fReader.hasEvents():\n",
    "                tdc5Reads = analyser.fReader.getTDCFiveEvents()\n",
    "                if not tdc5Reads:\n",
    "                    continue\n",
    "                else:\n",
    "                    event_time = tdc5Reads[0][0]\n",
    "                    pbar.update(event_time.timestamp() - previous_event_time.timestamp())\n",
    "                    previous_event_time = event_time\n",
    "previous_event_time = start\n",
    "print(event_time)\n",
    "with tqdm(total=round((end-start).total_seconds()), desc=f\"Reading {file_name}\", unit='seconds') as pbar:        \n",
    "    while event_time < end:\n",
    "        analyser.anubis_data = []\n",
    "        try:\n",
    "            analyser.get_tdc5_data(file_name, 1, 2, amount_of_events=20_000)\n",
    "        except EOFError:\n",
    "            file_name = \"proAnubis_240905_0635.raw\"\n",
    "    \n",
    "        event_time = analyser.anubis_data[0].event_time\n",
    "        print(\"Event time:\", event_time)\n",
    "        print(\"Timestamp:\", analyser.anubis_data[-1].timeStamp)\n",
    "        pbar.update(round(event_time.timestamp()- previous_event_time.timestamp()))\n",
    "        previous_event_time = event_time\n",
    "        with open(dir + f\"correct_bcr//{round(event_time.timestamp())}\", \"wb\") as f:\n",
    "            pickle.dump(analyser.anubis_data, f)\n",
    "        gc.collect()\n",
    "        \n",
    "\n",
    "            "
   ]
  },
  {
   "cell_type": "code",
   "execution_count": 3,
   "metadata": {},
   "outputs": [
    {
     "name": "stderr",
     "output_type": "stream",
     "text": [
      "  0%|          | 0/45 [00:00<?, ?it/s]"
     ]
    },
    {
     "name": "stderr",
     "output_type": "stream",
     "text": [
      "100%|██████████| 45/45 [03:08<00:00,  4.19s/it]"
     ]
    },
    {
     "name": "stdout",
     "output_type": "stream",
     "text": [
      "134\n"
     ]
    },
    {
     "name": "stderr",
     "output_type": "stream",
     "text": [
      "\n"
     ]
    }
   ],
   "source": [
    "importlib.reload(AtTools)\n",
    "\n",
    "analyser = AtTools.AtlasAnalyser() # 784_480\n",
    "data_list = sorted([f for f in os.listdir(\"data//correct_bcr\") if os.path.isfile(os.path.join(\"data//correct_bcr\", f))], key=lambda x: int(x[3:-4]))\n",
    "rates = []\n",
    "times = []\n",
    "with tqdm(total=len(data_list)) as pbar:\n",
    "    for data in data_list:\n",
    "        with open(f\"data//correct_bcr//{data}\", \"rb\") as f:\n",
    "            analyser.anubis_data += pickle.load(f)\n",
    "        trigger_rates, trigger_times = analyser.trigger_rates()\n",
    "        rates.extend(trigger_rates)\n",
    "        times.extend(trigger_times)\n",
    "        analyser.anubis_data = []\n",
    "        pbar.update(1)\n",
    "        gc.collect()\n",
    "print(len(rates)) \n"
   ]
  },
  {
   "cell_type": "code",
   "execution_count": 4,
   "metadata": {},
   "outputs": [],
   "source": [
    "plt.step(times, rates, where=\"post\")\n",
    "plt.show()"
   ]
  },
  {
   "cell_type": "code",
   "execution_count": 34,
   "metadata": {},
   "outputs": [
    {
     "ename": "KeyboardInterrupt",
     "evalue": "",
     "output_type": "error",
     "traceback": [
      "\u001b[1;31m---------------------------------------------------------------------------\u001b[0m",
      "\u001b[1;31mKeyboardInterrupt\u001b[0m                         Traceback (most recent call last)",
      "Cell \u001b[1;32mIn[34], line 7\u001b[0m\n\u001b[0;32m      4\u001b[0m hist, bins \u001b[38;5;241m=\u001b[39m np\u001b[38;5;241m.\u001b[39mhistogram(times, bins\u001b[38;5;241m=\u001b[39m\u001b[38;5;241m1000\u001b[39m, density\u001b[38;5;241m=\u001b[39m\u001b[38;5;28;01mTrue\u001b[39;00m)\n\u001b[0;32m      5\u001b[0m plt\u001b[38;5;241m.\u001b[39mplot(bins[:\u001b[38;5;241m-\u001b[39m\u001b[38;5;241m1\u001b[39m], hist)\n\u001b[1;32m----> 7\u001b[0m data \u001b[38;5;241m=\u001b[39m \u001b[43mAtTools\u001b[49m\u001b[38;5;241;43m.\u001b[39;49m\u001b[43mgenerate_random_triggers\u001b[49m\u001b[43m(\u001b[49m\u001b[38;5;241;43m1_000_000\u001b[39;49m\u001b[43m)\u001b[49m\n\u001b[0;32m      8\u001b[0m hist, bins \u001b[38;5;241m=\u001b[39m np\u001b[38;5;241m.\u001b[39mhistogram(data, bins\u001b[38;5;241m=\u001b[39m\u001b[38;5;28mlist\u001b[39m(\u001b[38;5;28mrange\u001b[39m(\u001b[38;5;241m0\u001b[39m, \u001b[38;5;241m3654\u001b[39m)), density\u001b[38;5;241m=\u001b[39m\u001b[38;5;28;01mTrue\u001b[39;00m)\n\u001b[0;32m      9\u001b[0m plt\u001b[38;5;241m.\u001b[39mplot(bins[:\u001b[38;5;241m-\u001b[39m\u001b[38;5;241m1\u001b[39m], hist)\n",
      "File \u001b[1;32mC:\\/Users//jony//Programming//Python//Anubis//anubis//tools\\Atlas_tools.py:585\u001b[0m, in \u001b[0;36mgenerate_random_triggers\u001b[1;34m(lenthg)\u001b[0m\n\u001b[0;32m    583\u001b[0m \u001b[38;5;28;01mwhile\u001b[39;00m found \u001b[38;5;241m<\u001b[39m lenthg:\n\u001b[0;32m    584\u001b[0m     bx \u001b[38;5;241m=\u001b[39m np\u001b[38;5;241m.\u001b[39mrandom\u001b[38;5;241m.\u001b[39mrandint(\u001b[38;5;241m0\u001b[39m, \u001b[38;5;241m3564\u001b[39m)\n\u001b[1;32m--> 585\u001b[0m     value \u001b[38;5;241m=\u001b[39m \u001b[43mnp\u001b[49m\u001b[38;5;241;43m.\u001b[39;49m\u001b[43mrandom\u001b[49m\u001b[38;5;241;43m.\u001b[39;49m\u001b[43muniform\u001b[49m\u001b[43m(\u001b[49m\u001b[38;5;241;43m0\u001b[39;49m\u001b[43m,\u001b[49m\u001b[43m \u001b[49m\u001b[43mbound\u001b[49m\u001b[43m)\u001b[49m\n\u001b[0;32m    586\u001b[0m     \u001b[38;5;28;01mif\u001b[39;00m value \u001b[38;5;241m<\u001b[39m density[bx]:\n\u001b[0;32m    587\u001b[0m         random_bcr\u001b[38;5;241m.\u001b[39mappend(bx)\n",
      "\u001b[1;31mKeyboardInterrupt\u001b[0m: "
     ]
    }
   ],
   "source": [
    "#generate random data\n",
    "importlib.reload(ATools)\n",
    "data = AtTools.generate_random_triggers(1_000_000)\n",
    "hist, bins = np.histogram(data, bins=list(range(0, 3654)), density=True)\n",
    "plt.plot(bins[:-1], hist)\n",
    "plt.title(\"Random triggers\")\n",
    "plt.xlabel(\"Bunch Crossings [bx]\")\n",
    "plt.ylabel(\"Frequency\")\n",
    "plt.show()"
   ]
  },
  {
   "cell_type": "code",
   "execution_count": 21,
   "metadata": {},
   "outputs": [
    {
     "name": "stdout",
     "output_type": "stream",
     "text": [
      "BCR(68532*25/32 ns, 2024-09-05 03:35:00.325919, 2024-09-05 03:35:00.325919, True) \n",
      "    Triggers: [])\n",
      "BCR(182452*25/32 ns, 2024-09-05 03:35:00.325919, 2024-09-05 03:35:00.325919, True) \n",
      "    Triggers: [])\n",
      "BCR(296499*25/32 ns, 2024-09-05 03:35:00.325919, 2024-09-05 03:35:00.325919, False) \n",
      "    Triggers: [])\n",
      "BCR(296628*25/32 ns, 2024-09-05 03:35:00.325919, 2024-09-05 03:35:00.325919, True) \n",
      "    Triggers: [])\n",
      "BCR(410547*25/32 ns, 2024-09-05 03:35:00.325919, 2024-09-05 03:35:00.325919, True) \n",
      "    Triggers: [])\n",
      "BCR(524596*25/32 ns, 2024-09-05 03:35:00.325919, 2024-09-05 03:35:00.325919, False) \n",
      "    Triggers: [])\n",
      "BCR(524724*25/32 ns, 2024-09-05 03:35:00.325919, 2024-09-05 03:35:00.325919, True) \n",
      "    Triggers: [])\n",
      "BCR(638643*25/32 ns, 2024-09-05 03:35:00.325919, 2024-09-05 03:35:00.325919, True) \n",
      "    Triggers: [])\n",
      "BCR(752692*25/32 ns, 2024-09-05 03:35:00.325919, 2024-09-05 03:35:00.325919, False) \n",
      "    Triggers: [])\n",
      "BCR(752820*25/32 ns, 2024-09-05 03:35:00.325919, 2024-09-05 03:35:00.325919, True) \n",
      "    Triggers: [])\n",
      "BCR(866740*25/32 ns, 2024-09-05 03:35:00.325919, 2024-09-05 03:35:00.325919, True) \n",
      "    Triggers: [])\n",
      "BCR(980788*25/32 ns, 2024-09-05 03:35:00.325919, 2024-09-05 03:35:00.325919, False) \n",
      "    Triggers: [])\n",
      "BCR(980916*25/32 ns, 2024-09-05 03:35:00.325919, 2024-09-05 03:35:00.325919, True) \n",
      "    Triggers: [])\n",
      "BCR(46260*25/32 ns, 2024-09-05 03:35:00.328219, 2024-09-05 03:35:00.328219, True) \n",
      "    Triggers: [])\n",
      "BCR(160308*25/32 ns, 2024-09-05 03:35:00.328219, 2024-09-05 03:35:00.328219, False) \n",
      "    Triggers: [])\n",
      "BCR(160436*25/32 ns, 2024-09-05 03:35:00.328219, 2024-09-05 03:35:00.328219, True) \n",
      "    Triggers: [])\n",
      "BCR(274356*25/32 ns, 2024-09-05 03:35:00.328219, 2024-09-05 03:35:00.328219, True) \n",
      "    Triggers: [])\n",
      "BCR(388404*25/32 ns, 2024-09-05 03:35:00.328219, 2024-09-05 03:35:00.328219, False) \n",
      "    Triggers: [])\n",
      "BCR(388532*25/32 ns, 2024-09-05 03:35:00.328219, 2024-09-05 03:35:00.328219, True) \n",
      "    Triggers: [])\n",
      "BCR(502452*25/32 ns, 2024-09-05 03:35:00.328219, 2024-09-05 03:35:00.328219, True) \n",
      "    Triggers: [])\n",
      "BCR(616500*25/32 ns, 2024-09-05 03:35:00.328219, 2024-09-05 03:35:00.328219, False) \n",
      "    Triggers: [])\n",
      "BCR(616628*25/32 ns, 2024-09-05 03:35:00.328219, 2024-09-05 03:35:00.328219, True) \n",
      "    Triggers: [])\n",
      "BCR(730548*25/32 ns, 2024-09-05 03:35:00.328219, 2024-09-05 03:35:00.328219, True) \n",
      "    Triggers: [])\n",
      "BCR(844596*25/32 ns, 2024-09-05 03:35:00.328219, 2024-09-05 03:35:00.328219, False) \n",
      "    Triggers: [])\n",
      "BCR(844724*25/32 ns, 2024-09-05 03:35:00.328219, 2024-09-05 03:35:00.328219, True) \n",
      "    Triggers: [])\n",
      "BCR(958644*25/32 ns, 2024-09-05 03:35:00.328219, 2024-09-05 03:35:00.328219, True) \n",
      "    Triggers: [])\n",
      "BCR(24115*25/32 ns, 2024-09-05 03:35:00.328219, 2024-09-05 03:35:00.328219, False) \n",
      "    Triggers: [])\n",
      "BCR(24244*25/32 ns, 2024-09-05 03:35:00.328219, 2024-09-05 03:35:00.328219, True) \n",
      "    Triggers: [])\n",
      "BCR(138163*25/32 ns, 2024-09-05 03:35:00.328219, 2024-09-05 03:35:00.328219, True) \n",
      "    Triggers: [])\n",
      "BCR(252212*25/32 ns, 2024-09-05 03:35:00.328219, 2024-09-05 03:35:00.328219, False) \n",
      "    Triggers: [])\n",
      "BCR(252340*25/32 ns, 2024-09-05 03:35:00.328219, 2024-09-05 03:35:00.328219, True) \n",
      "    Triggers: [])\n",
      "BCR(366260*25/32 ns, 2024-09-05 03:35:00.328219, 2024-09-05 03:35:00.328219, True) \n",
      "    Triggers: [])\n",
      "BCR(480308*25/32 ns, 2024-09-05 03:35:00.328219, 2024-09-05 03:35:00.328219, False) \n",
      "    Triggers: [])\n",
      "BCR(480436*25/32 ns, 2024-09-05 03:35:00.328219, 2024-09-05 03:35:00.328219, True) \n",
      "    Triggers: [])\n",
      "BCR(594356*25/32 ns, 2024-09-05 03:35:00.328219, 2024-09-05 03:35:00.328219, True) \n",
      "    Triggers: [])\n",
      "BCR(708404*25/32 ns, 2024-09-05 03:35:00.328219, 2024-09-05 03:35:00.328219, False) \n",
      "    Triggers: [])\n",
      "BCR(708532*25/32 ns, 2024-09-05 03:35:00.328219, 2024-09-05 03:35:00.328219, True) \n",
      "    Triggers: [])\n",
      "BCR(822452*25/32 ns, 2024-09-05 03:35:00.328219, 2024-09-05 03:35:00.328219, True) \n",
      "    Triggers: [])\n",
      "BCR(936499*25/32 ns, 2024-09-05 03:35:00.328219, 2024-09-05 03:35:00.328219, False) \n",
      "    Triggers: [])\n",
      "BCR(936628*25/32 ns, 2024-09-05 03:35:00.328219, 2024-09-05 03:35:00.328219, True) \n",
      "    Triggers: [])\n",
      "BCR(805556*25/32 ns, 2024-09-05 03:35:00.328219, 2024-09-05 03:35:00.328219, True) \n",
      "    Triggers: [])\n",
      "BCR(116020*25/32 ns, 2024-09-05 03:35:00.328219, 2024-09-05 03:35:00.328219, True) \n",
      "    Triggers: [])\n",
      "BCR(230067*25/32 ns, 2024-09-05 03:35:00.328219, 2024-09-05 03:35:00.328219, False) \n",
      "    Triggers: [])\n",
      "BCR(377523*25/32 ns, 2024-09-05 03:35:00.328219, 2024-09-05 03:35:00.328219, True) \n",
      "    Triggers: [])\n",
      "BCR(344244*25/32 ns, 2024-09-05 03:35:00.328219, 2024-09-05 03:35:00.328219, True) \n",
      "    Triggers: [])\n",
      "BCR(518324*25/32 ns, 2024-09-05 03:35:00.328219, 2024-09-05 03:35:00.328219, True) \n",
      "    Triggers: [])\n",
      "BCR(572212*25/32 ns, 2024-09-05 03:35:00.328219, 2024-09-05 03:35:00.328219, True) \n",
      "    Triggers: [])\n",
      "BCR(686260*25/32 ns, 2024-09-05 03:35:00.328219, 2024-09-05 03:35:00.328219, False) \n",
      "    Triggers: [])\n",
      "BCR(818868*25/32 ns, 2024-09-05 03:35:00.328219, 2024-09-05 03:35:00.328219, True) \n",
      "    Triggers: [])\n",
      "BCR(800436*25/32 ns, 2024-09-05 03:35:00.328219, 2024-09-05 03:35:00.328219, True) \n",
      "    Triggers: [])\n",
      "BCR(914356*25/32 ns, 2024-09-05 03:35:00.330537, 2024-09-05 03:35:00.330537, True) \n",
      "    Triggers: [])\n",
      "BCR(1028403*25/32 ns, 2024-09-05 03:35:00.330537, 2024-09-05 03:35:00.330537, False) \n",
      "    Triggers: [])\n",
      "BCR(1028532*25/32 ns, 2024-09-05 03:35:00.330537, 2024-09-05 03:35:00.330537, True) \n",
      "    Triggers: [])\n",
      "BCR(93876*25/32 ns, 2024-09-05 03:35:00.330537, 2024-09-05 03:35:00.330537, True) \n",
      "    Triggers: [])\n",
      "BCR(207923*25/32 ns, 2024-09-05 03:35:00.330537, 2024-09-05 03:35:00.330537, False) \n",
      "    Triggers: [])\n",
      "BCR(208052*25/32 ns, 2024-09-05 03:35:00.330537, 2024-09-05 03:35:00.330537, True) \n",
      "    Triggers: [])\n",
      "BCR(321971*25/32 ns, 2024-09-05 03:35:00.330537, 2024-09-05 03:35:00.330537, True) \n",
      "    Triggers: [])\n",
      "BCR(436019*25/32 ns, 2024-09-05 03:35:00.330537, 2024-09-05 03:35:00.330537, False) \n",
      "    Triggers: [])\n",
      "BCR(436148*25/32 ns, 2024-09-05 03:35:00.330537, 2024-09-05 03:35:00.330537, True) \n",
      "    Triggers: [])\n",
      "BCR(550068*25/32 ns, 2024-09-05 03:35:00.330537, 2024-09-05 03:35:00.330537, True) \n",
      "    Triggers: [])\n",
      "BCR(664115*25/32 ns, 2024-09-05 03:35:00.330537, 2024-09-05 03:35:00.330537, False) \n",
      "    Triggers: [])\n",
      "BCR(664244*25/32 ns, 2024-09-05 03:35:00.330537, 2024-09-05 03:35:00.330537, True) \n",
      "    Triggers: [])\n",
      "BCR(778164*25/32 ns, 2024-09-05 03:35:00.330537, 2024-09-05 03:35:00.330537, True) \n",
      "    Triggers: [])\n",
      "BCR(892211*25/32 ns, 2024-09-05 03:35:00.330537, 2024-09-05 03:35:00.330537, False) \n",
      "    Triggers: [])\n",
      "BCR(892340*25/32 ns, 2024-09-05 03:35:00.330537, 2024-09-05 03:35:00.330537, True) \n",
      "    Triggers: [])\n",
      "BCR(1006260*25/32 ns, 2024-09-05 03:35:00.330537, 2024-09-05 03:35:00.330537, True) \n",
      "    Triggers: [])\n",
      "BCR(71732*25/32 ns, 2024-09-05 03:35:00.330537, 2024-09-05 03:35:00.330537, False) \n",
      "    Triggers: [])\n",
      "BCR(71860*25/32 ns, 2024-09-05 03:35:00.330537, 2024-09-05 03:35:00.330537, True) \n",
      "    Triggers: [])\n",
      "BCR(185780*25/32 ns, 2024-09-05 03:35:00.330537, 2024-09-05 03:35:00.330537, True) \n",
      "    Triggers: [])\n",
      "BCR(299828*25/32 ns, 2024-09-05 03:35:00.330537, 2024-09-05 03:35:00.330537, False) \n",
      "    Triggers: [])\n",
      "BCR(299956*25/32 ns, 2024-09-05 03:35:00.330537, 2024-09-05 03:35:00.330537, True) \n",
      "    Triggers: [])\n",
      "BCR(431028*25/32 ns, 2024-09-05 03:35:00.330537, 2024-09-05 03:35:00.330537, True) \n",
      "    Triggers: [])\n",
      "BCR(527923*25/32 ns, 2024-09-05 03:35:00.330537, 2024-09-05 03:35:00.330537, True) \n",
      "    Triggers: [])\n",
      "BCR(641972*25/32 ns, 2024-09-05 03:35:00.330537, 2024-09-05 03:35:00.330537, False) \n",
      "    Triggers: [])\n",
      "BCR(773044*25/32 ns, 2024-09-05 03:35:00.330537, 2024-09-05 03:35:00.330537, True) \n",
      "    Triggers: [])\n",
      "BCR(756148*25/32 ns, 2024-09-05 03:35:00.330537, 2024-09-05 03:35:00.330537, True) \n",
      "    Triggers: [])\n",
      "BCR(903604*25/32 ns, 2024-09-05 03:35:00.330537, 2024-09-05 03:35:00.330537, True) \n",
      "    Triggers: [])\n",
      "BCR(984116*25/32 ns, 2024-09-05 03:35:00.330537, 2024-09-05 03:35:00.330537, True) \n",
      "    Triggers: [])\n",
      "BCR(49588*25/32 ns, 2024-09-05 03:35:00.330537, 2024-09-05 03:35:00.330537, False) \n",
      "    Triggers: [])\n",
      "BCR(196532*25/32 ns, 2024-09-05 03:35:00.330537, 2024-09-05 03:35:00.330537, True) \n",
      "    Triggers: [])\n",
      "BCR(163764*25/32 ns, 2024-09-05 03:35:00.330537, 2024-09-05 03:35:00.330537, True) \n",
      "    Triggers: [])\n",
      "BCR(278452*25/32 ns, 2024-09-05 03:35:00.330537, 2024-09-05 03:35:00.330537, True) \n",
      "    Triggers: [])\n",
      "BCR(391731*25/32 ns, 2024-09-05 03:35:00.330537, 2024-09-05 03:35:00.330537, True) \n",
      "    Triggers: [])\n",
      "BCR(391735*25/32 ns, 2024-09-05 03:35:00.330537, 2024-09-05 03:35:00.330537, True) \n",
      "    Triggers: [])\n",
      "BCR(505780*25/32 ns, 2024-09-05 03:35:00.330537, 2024-09-05 03:35:00.330537, False) \n",
      "    Triggers: [])\n",
      "BCR(620467*25/32 ns, 2024-09-05 03:35:00.330537, 2024-09-05 03:35:00.330537, True) \n",
      "    Triggers: [])\n",
      "BCR(619956*25/32 ns, 2024-09-05 03:35:00.330537, 2024-09-05 03:35:00.330537, True) \n",
      "    Triggers: [])\n",
      "BCR(733876*25/32 ns, 2024-09-05 03:35:00.332783, 2024-09-05 03:35:00.332783, True) \n",
      "    Triggers: [])\n",
      "BCR(847924*25/32 ns, 2024-09-05 03:35:00.332783, 2024-09-05 03:35:00.332783, False) \n",
      "    Triggers: [])\n",
      "BCR(848052*25/32 ns, 2024-09-05 03:35:00.332783, 2024-09-05 03:35:00.332783, True) \n",
      "    Triggers: [])\n",
      "BCR(961972*25/32 ns, 2024-09-05 03:35:00.332783, 2024-09-05 03:35:00.332783, True) \n",
      "    Triggers: [])\n",
      "BCR(27443*25/32 ns, 2024-09-05 03:35:00.332783, 2024-09-05 03:35:00.332783, False) \n",
      "    Triggers: [])\n",
      "BCR(27572*25/32 ns, 2024-09-05 03:35:00.332783, 2024-09-05 03:35:00.332783, True) \n",
      "    Triggers: [])\n",
      "BCR(141492*25/32 ns, 2024-09-05 03:35:00.332783, 2024-09-05 03:35:00.332783, True) \n",
      "    Triggers: [])\n",
      "BCR(255540*25/32 ns, 2024-09-05 03:35:00.332783, 2024-09-05 03:35:00.332783, False) \n",
      "    Triggers: [])\n",
      "BCR(255668*25/32 ns, 2024-09-05 03:35:00.332783, 2024-09-05 03:35:00.332783, True) \n",
      "    Triggers: [])\n",
      "BCR(369587*25/32 ns, 2024-09-05 03:35:00.332783, 2024-09-05 03:35:00.332783, True) \n",
      "    Triggers: [])\n",
      "BCR(483635*25/32 ns, 2024-09-05 03:35:00.332783, 2024-09-05 03:35:00.332783, False) \n",
      "    Triggers: [])\n",
      "BCR(483764*25/32 ns, 2024-09-05 03:35:00.332783, 2024-09-05 03:35:00.332783, True) \n",
      "    Triggers: [])\n",
      "BCR(597683*25/32 ns, 2024-09-05 03:35:00.332783, 2024-09-05 03:35:00.332783, True) \n",
      "    Triggers: [])\n"
     ]
    }
   ],
   "source": [
    "analyser.print_bcr(100, 200)"
   ]
  },
  {
   "cell_type": "code",
   "execution_count": 43,
   "metadata": {},
   "outputs": [
    {
     "name": "stdout",
     "output_type": "stream",
     "text": [
      "Loading done\n"
     ]
    }
   ],
   "source": [
    "#Atlas load\n",
    "importlib.reload(AtTools)\n",
    "import pandas as pd\n",
    "only_in = False\n",
    "if only_in:\n",
    "    analyser.atlas_data = pd.read_csv(\"C://Users//jony//Programming//Python//Anubis//anubis//only_in.csv\")\n",
    "else:\n",
    "    atlas_file = \"C://Users//jony//Programming//Python//Anubis//anubis//data//dataAtlas2.root\"\n",
    "    analyser.get_atlas_data(atlas_file)\n",
    "    #analyser.atlas_data = analyser.atlas_data[analyser.atlas_data[\"TimeStamp\"] > 1.7195e9]\n",
    "    #analyser.atlas_data = analyser.atlas_data.iloc[len(analyser.atlas_data)//2:]\n",
    "print(\"Loading done\")"
   ]
  },
  {
   "cell_type": "code",
   "execution_count": 20,
   "metadata": {},
   "outputs": [
    {
     "name": "stdout",
     "output_type": "stream",
     "text": [
      "1725506242\n"
     ]
    }
   ],
   "source": [
    "#analyser.anubis_data = list(filter(lambda bcr:  bcr.timeStamp > 1719500070, analyser.anubis_data))\n",
    "#print(analyser.anubis_data[0].timeStamp)\n",
    "print(analyser.atlas_data.iloc[0][\"TimeStamp\"])"
   ]
  },
  {
   "cell_type": "code",
   "execution_count": 7,
   "metadata": {},
   "outputs": [
    {
     "name": "stdout",
     "output_type": "stream",
     "text": [
      "20455231\n",
      "138328\n"
     ]
    }
   ],
   "source": [
    "print(len(analyser.anubis_data))\n",
    "print(len(analyser.atlas_data))"
   ]
  },
  {
   "cell_type": "code",
   "execution_count": 69,
   "metadata": {},
   "outputs": [
    {
     "name": "stdout",
     "output_type": "stream",
     "text": [
      "New\n",
      "Starting point: 2024-06-27 14:20:18.033774\n"
     ]
    },
    {
     "name": "stderr",
     "output_type": "stream",
     "text": [
      "Skipping proAnubis_240627_1520.raw: 343tdc5 Reads [00:02, 117.04tdc5 Reads/s]                 \n",
      "Reading proAnubis_240627_1520.raw: 6728tdc5 Reads [04:31, 24.77tdc5 Reads/s] \n"
     ]
    }
   ],
   "source": [
    "importlib.reload(AtTools)\n",
    "start = \"2024-06-27 14:23:20\" \n",
    "end = \"2024-06-27 16:15:23\"\n",
    "\n",
    "#tried 16,17\n",
    "\n",
    "trig = AtTools.trigger_rates(\"proAnubis_240627_1520.raw\", start, end, plot=False)"
   ]
  },
  {
   "cell_type": "code",
   "execution_count": 33,
   "metadata": {},
   "outputs": [
    {
     "name": "stdout",
     "output_type": "stream",
     "text": [
      "5582010\n"
     ]
    },
    {
     "data": {
      "text/plain": [
       "'\\nhist, bins = np.histogram(times, bins = 100, density=True)\\nplt.plot(bins[:-1], hist)\\nplt.show()\\n'"
      ]
     },
     "execution_count": 33,
     "metadata": {},
     "output_type": "execute_result"
    }
   ],
   "source": [
    "times = []\n",
    "for bcr in analyser.anubis_data:\n",
    "    for trigger in bcr.triggers:\n",
    "        times.append(trigger.timeStamp)\n",
    "print(len(times))\n",
    "\"\"\"\n",
    "hist, bins = np.histogram(times, bins = 100, density=True)\n",
    "plt.plot(bins[:-1], hist)\n",
    "plt.show()\n",
    "\"\"\""
   ]
  },
  {
   "cell_type": "code",
   "execution_count": 48,
   "metadata": {},
   "outputs": [],
   "source": [
    "hist, bins = np.histogram(times, bins = np.arange(min(times), max(times), 10), density=True)\n",
    "fake_rates = [r*0.00000001 for r in rates]\n",
    "plt.step(times, fake_rates, where=\"post\", label = \"proAnubis\")\n",
    "plt.title(f\"Luminosity for {start}-{end}\")\n",
    "\"\"\"\n",
    "print(analyser.atlas_data[\"TimeStamp\"][0])\n",
    "analyser.atlas_data[\"TimeStamp\"] += 3600\n",
    "#print(analyser.atlas_data[\"TimeStamp\"][0])\n",
    "\"\"\"\n",
    "tim = analyser.atlas_data[\"TimeStamp\"]\n",
    "hist, bins = np.histogram(tim, bins=1000, density=True)\n",
    "plt.plot(bins[:-1], hist, label=\"Atlas\")\n",
    "plt.legend()\n",
    "#plt.xlim(1719500000, 1719506000)\n",
    "plt.show()"
   ]
  },
  {
   "cell_type": "code",
   "execution_count": 21,
   "metadata": {},
   "outputs": [],
   "source": [
    "importlib.reload(AtTools)\n",
    "AtTools.beam_luminosity(analyser.atlas_data)"
   ]
  },
  {
   "cell_type": "code",
   "execution_count": 4,
   "metadata": {},
   "outputs": [],
   "source": [
    "sixteen_twenty = trig.copy()"
   ]
  },
  {
   "cell_type": "code",
   "execution_count": 21,
   "metadata": {},
   "outputs": [],
   "source": [
    "complete = sixteen_twenty+trig[2:]\n",
    "\n",
    "start = \"2024-06-27 14:20:28\" \n",
    "end = \"2024-06-27 17:40:23\"\n",
    "hist, bins = np.histogram(complete, bins = np.arange(min(complete), max(complete), 10))\n",
    "plt.plot(bins[1:-1], 10*hist[1:])\n",
    "plt.title(f\"'Event Rate' for proAnubis {start}-{end}\")\n",
    "plt.show()"
   ]
  },
  {
   "cell_type": "code",
   "execution_count": 13,
   "metadata": {},
   "outputs": [
    {
     "name": "stdout",
     "output_type": "stream",
     "text": [
      "Best offset 114\n"
     ]
    }
   ],
   "source": [
    "AtTools.plot_offset(analyser)"
   ]
  },
  {
   "cell_type": "code",
   "execution_count": null,
   "metadata": {},
   "outputs": [],
   "source": [
    "analyser.atlas_data = analyser.atlas_data[analyser.atlas_data < analyser.anubis_data[-1].timeStamp]"
   ]
  },
  {
   "cell_type": "code",
   "execution_count": 46,
   "metadata": {},
   "outputs": [
    {
     "name": "stderr",
     "output_type": "stream",
     "text": [
      "Matching:   0%|          | 3643/942478 [00:08<38:11, 409.68Events/s]\n"
     ]
    },
    {
     "ename": "KeyboardInterrupt",
     "evalue": "",
     "output_type": "error",
     "traceback": [
      "\u001b[1;31m---------------------------------------------------------------------------\u001b[0m",
      "\u001b[1;31mKeyboardInterrupt\u001b[0m                         Traceback (most recent call last)",
      "Cell \u001b[1;32mIn[46], line 1\u001b[0m\n\u001b[1;32m----> 1\u001b[0m \u001b[43manalyser\u001b[49m\u001b[38;5;241;43m.\u001b[39;49m\u001b[43mmatch_bcrs\u001b[49m\u001b[43m(\u001b[49m\u001b[43m)\u001b[49m \u001b[38;5;66;03m#34705\u001b[39;00m\n",
      "File \u001b[1;32mC:\\/Users//jony//Programming//Python//Anubis//anubis//tools\\Atlas_tools.py:327\u001b[0m, in \u001b[0;36mAtlasAnalyser.match_bcrs\u001b[1;34m(self)\u001b[0m\n\u001b[0;32m    325\u001b[0m \u001b[38;5;28;01mwith\u001b[39;00m tqdm(total\u001b[38;5;241m=\u001b[39m\u001b[38;5;28mlen\u001b[39m(\u001b[38;5;28mself\u001b[39m\u001b[38;5;241m.\u001b[39matlas_data), desc\u001b[38;5;241m=\u001b[39m\u001b[38;5;124mf\u001b[39m\u001b[38;5;124m\"\u001b[39m\u001b[38;5;124mMatching\u001b[39m\u001b[38;5;124m\"\u001b[39m, unit\u001b[38;5;241m=\u001b[39m\u001b[38;5;124m'\u001b[39m\u001b[38;5;124mEvents\u001b[39m\u001b[38;5;124m'\u001b[39m) \u001b[38;5;28;01mas\u001b[39;00m pbar:        \n\u001b[0;32m    326\u001b[0m     \u001b[38;5;28;01mfor\u001b[39;00m atlas_pointer \u001b[38;5;129;01min\u001b[39;00m \u001b[38;5;28mrange\u001b[39m(\u001b[38;5;28mlen\u001b[39m(\u001b[38;5;28mself\u001b[39m\u001b[38;5;241m.\u001b[39matlas_data)):\n\u001b[1;32m--> 327\u001b[0m         hit_time \u001b[38;5;241m=\u001b[39m \u001b[38;5;28;43mself\u001b[39;49m\u001b[38;5;241;43m.\u001b[39;49m\u001b[43matlas_data\u001b[49m\u001b[38;5;241;43m.\u001b[39;49m\u001b[43miloc\u001b[49m\u001b[43m[\u001b[49m\u001b[43matlas_pointer\u001b[49m\u001b[43m]\u001b[49m[\u001b[38;5;124m\"\u001b[39m\u001b[38;5;124mTimeStamp\u001b[39m\u001b[38;5;124m\"\u001b[39m]\u001b[38;5;241m+\u001b[39m\u001b[38;5;28mself\u001b[39m\u001b[38;5;241m.\u001b[39matlas_data\u001b[38;5;241m.\u001b[39miloc[atlas_pointer][\u001b[38;5;124m\"\u001b[39m\u001b[38;5;124mTimeStampNS\u001b[39m\u001b[38;5;124m\"\u001b[39m]\u001b[38;5;241m*\u001b[39m\u001b[38;5;241m1e-9\u001b[39m\n\u001b[0;32m    328\u001b[0m         \u001b[38;5;28mself\u001b[39m\u001b[38;5;241m.\u001b[39mmatches\u001b[38;5;241m.\u001b[39mappend([\u001b[38;5;28mself\u001b[39m\u001b[38;5;241m.\u001b[39matlas_data\u001b[38;5;241m.\u001b[39miloc[atlas_pointer]\u001b[38;5;241m.\u001b[39mto_dict(), []])\n\u001b[0;32m    329\u001b[0m         i \u001b[38;5;241m=\u001b[39m anubis_pointer \n",
      "File \u001b[1;32mc:\\Users\\jony\\Programming\\Python\\Anubis\\anubis\\.venv\\lib\\site-packages\\pandas\\core\\indexing.py:1191\u001b[0m, in \u001b[0;36m_LocationIndexer.__getitem__\u001b[1;34m(self, key)\u001b[0m\n\u001b[0;32m   1189\u001b[0m maybe_callable \u001b[38;5;241m=\u001b[39m com\u001b[38;5;241m.\u001b[39mapply_if_callable(key, \u001b[38;5;28mself\u001b[39m\u001b[38;5;241m.\u001b[39mobj)\n\u001b[0;32m   1190\u001b[0m maybe_callable \u001b[38;5;241m=\u001b[39m \u001b[38;5;28mself\u001b[39m\u001b[38;5;241m.\u001b[39m_check_deprecated_callable_usage(key, maybe_callable)\n\u001b[1;32m-> 1191\u001b[0m \u001b[38;5;28;01mreturn\u001b[39;00m \u001b[38;5;28;43mself\u001b[39;49m\u001b[38;5;241;43m.\u001b[39;49m\u001b[43m_getitem_axis\u001b[49m\u001b[43m(\u001b[49m\u001b[43mmaybe_callable\u001b[49m\u001b[43m,\u001b[49m\u001b[43m \u001b[49m\u001b[43maxis\u001b[49m\u001b[38;5;241;43m=\u001b[39;49m\u001b[43maxis\u001b[49m\u001b[43m)\u001b[49m\n",
      "File \u001b[1;32mc:\\Users\\jony\\Programming\\Python\\Anubis\\anubis\\.venv\\lib\\site-packages\\pandas\\core\\indexing.py:1754\u001b[0m, in \u001b[0;36m_iLocIndexer._getitem_axis\u001b[1;34m(self, key, axis)\u001b[0m\n\u001b[0;32m   1751\u001b[0m \u001b[38;5;66;03m# validate the location\u001b[39;00m\n\u001b[0;32m   1752\u001b[0m \u001b[38;5;28mself\u001b[39m\u001b[38;5;241m.\u001b[39m_validate_integer(key, axis)\n\u001b[1;32m-> 1754\u001b[0m \u001b[38;5;28;01mreturn\u001b[39;00m \u001b[38;5;28;43mself\u001b[39;49m\u001b[38;5;241;43m.\u001b[39;49m\u001b[43mobj\u001b[49m\u001b[38;5;241;43m.\u001b[39;49m\u001b[43m_ixs\u001b[49m\u001b[43m(\u001b[49m\u001b[43mkey\u001b[49m\u001b[43m,\u001b[49m\u001b[43m \u001b[49m\u001b[43maxis\u001b[49m\u001b[38;5;241;43m=\u001b[39;49m\u001b[43maxis\u001b[49m\u001b[43m)\u001b[49m\n",
      "File \u001b[1;32mc:\\Users\\jony\\Programming\\Python\\Anubis\\anubis\\.venv\\lib\\site-packages\\pandas\\core\\frame.py:3996\u001b[0m, in \u001b[0;36mDataFrame._ixs\u001b[1;34m(self, i, axis)\u001b[0m\n\u001b[0;32m   3994\u001b[0m \u001b[38;5;66;03m# irow\u001b[39;00m\n\u001b[0;32m   3995\u001b[0m \u001b[38;5;28;01mif\u001b[39;00m axis \u001b[38;5;241m==\u001b[39m \u001b[38;5;241m0\u001b[39m:\n\u001b[1;32m-> 3996\u001b[0m     new_mgr \u001b[38;5;241m=\u001b[39m \u001b[38;5;28;43mself\u001b[39;49m\u001b[38;5;241;43m.\u001b[39;49m\u001b[43m_mgr\u001b[49m\u001b[38;5;241;43m.\u001b[39;49m\u001b[43mfast_xs\u001b[49m\u001b[43m(\u001b[49m\u001b[43mi\u001b[49m\u001b[43m)\u001b[49m\n\u001b[0;32m   3998\u001b[0m     \u001b[38;5;66;03m# if we are a copy, mark as such\u001b[39;00m\n\u001b[0;32m   3999\u001b[0m     copy \u001b[38;5;241m=\u001b[39m \u001b[38;5;28misinstance\u001b[39m(new_mgr\u001b[38;5;241m.\u001b[39marray, np\u001b[38;5;241m.\u001b[39mndarray) \u001b[38;5;129;01mand\u001b[39;00m new_mgr\u001b[38;5;241m.\u001b[39marray\u001b[38;5;241m.\u001b[39mbase \u001b[38;5;129;01mis\u001b[39;00m \u001b[38;5;28;01mNone\u001b[39;00m\n",
      "File \u001b[1;32mc:\\Users\\jony\\Programming\\Python\\Anubis\\anubis\\.venv\\lib\\site-packages\\pandas\\core\\internals\\managers.py:1002\u001b[0m, in \u001b[0;36mBlockManager.fast_xs\u001b[1;34m(self, loc)\u001b[0m\n\u001b[0;32m    998\u001b[0m \u001b[38;5;28;01mfor\u001b[39;00m blk \u001b[38;5;129;01min\u001b[39;00m \u001b[38;5;28mself\u001b[39m\u001b[38;5;241m.\u001b[39mblocks:\n\u001b[0;32m    999\u001b[0m     \u001b[38;5;66;03m# Such assignment may incorrectly coerce NaT to None\u001b[39;00m\n\u001b[0;32m   1000\u001b[0m     \u001b[38;5;66;03m# result[blk.mgr_locs] = blk._slice((slice(None), loc))\u001b[39;00m\n\u001b[0;32m   1001\u001b[0m     \u001b[38;5;28;01mfor\u001b[39;00m i, rl \u001b[38;5;129;01min\u001b[39;00m \u001b[38;5;28menumerate\u001b[39m(blk\u001b[38;5;241m.\u001b[39mmgr_locs):\n\u001b[1;32m-> 1002\u001b[0m         result[rl] \u001b[38;5;241m=\u001b[39m \u001b[43mblk\u001b[49m\u001b[38;5;241;43m.\u001b[39;49m\u001b[43miget\u001b[49m\u001b[43m(\u001b[49m\u001b[43m(\u001b[49m\u001b[43mi\u001b[49m\u001b[43m,\u001b[49m\u001b[43m \u001b[49m\u001b[43mloc\u001b[49m\u001b[43m)\u001b[49m\u001b[43m)\u001b[49m\n\u001b[0;32m   1004\u001b[0m \u001b[38;5;28;01mif\u001b[39;00m \u001b[38;5;28misinstance\u001b[39m(dtype, ExtensionDtype):\n\u001b[0;32m   1005\u001b[0m     \u001b[38;5;28mcls\u001b[39m \u001b[38;5;241m=\u001b[39m dtype\u001b[38;5;241m.\u001b[39mconstruct_array_type()\n",
      "File \u001b[1;32mc:\\Users\\jony\\Programming\\Python\\Anubis\\anubis\\.venv\\lib\\site-packages\\pandas\\core\\internals\\blocks.py:2394\u001b[0m, in \u001b[0;36mExtensionBlock.iget\u001b[1;34m(self, i)\u001b[0m\n\u001b[0;32m   2391\u001b[0m         \u001b[38;5;66;03m# Note: loc:loc+1 vs [[loc]] makes a difference when called\u001b[39;00m\n\u001b[0;32m   2392\u001b[0m         \u001b[38;5;66;03m#  from fast_xs because we want to get a view back.\u001b[39;00m\n\u001b[0;32m   2393\u001b[0m         \u001b[38;5;28;01mreturn\u001b[39;00m \u001b[38;5;28mself\u001b[39m\u001b[38;5;241m.\u001b[39mvalues[loc : loc \u001b[38;5;241m+\u001b[39m \u001b[38;5;241m1\u001b[39m]\n\u001b[1;32m-> 2394\u001b[0m     \u001b[38;5;28;01mreturn\u001b[39;00m \u001b[38;5;28;43mself\u001b[39;49m\u001b[38;5;241;43m.\u001b[39;49m\u001b[43mvalues\u001b[49m\u001b[43m[\u001b[49m\u001b[43mloc\u001b[49m\u001b[43m]\u001b[49m\n\u001b[0;32m   2395\u001b[0m \u001b[38;5;28;01melse\u001b[39;00m:\n\u001b[0;32m   2396\u001b[0m     \u001b[38;5;28;01mif\u001b[39;00m i \u001b[38;5;241m!=\u001b[39m \u001b[38;5;241m0\u001b[39m:\n",
      "File \u001b[1;32mc:\\Users\\jony\\Programming\\Python\\Anubis\\anubis\\.venv\\lib\\site-packages\\awkward_pandas\\array.py:72\u001b[0m, in \u001b[0;36mAwkwardExtensionArray.__getitem__\u001b[1;34m(self, item)\u001b[0m\n\u001b[0;32m     70\u001b[0m \u001b[38;5;28;01mdef\u001b[39;00m \u001b[38;5;21m__getitem__\u001b[39m(\u001b[38;5;28mself\u001b[39m, item):\n\u001b[0;32m     71\u001b[0m     \u001b[38;5;28;01mif\u001b[39;00m \u001b[38;5;28misinstance\u001b[39m(item, \u001b[38;5;28mint\u001b[39m):\n\u001b[1;32m---> 72\u001b[0m         \u001b[38;5;28;01mreturn\u001b[39;00m \u001b[43moperator\u001b[49m\u001b[38;5;241;43m.\u001b[39;49m\u001b[43mgetitem\u001b[49m\u001b[43m(\u001b[49m\u001b[38;5;28;43mself\u001b[39;49m\u001b[38;5;241;43m.\u001b[39;49m\u001b[43m_data\u001b[49m\u001b[43m,\u001b[49m\u001b[43m \u001b[49m\u001b[43mitem\u001b[49m\u001b[43m)\u001b[49m\n\u001b[0;32m     73\u001b[0m     \u001b[38;5;28;01melif\u001b[39;00m \u001b[38;5;28misinstance\u001b[39m(item, (\u001b[38;5;28mslice\u001b[39m, np\u001b[38;5;241m.\u001b[39mndarray, ak\u001b[38;5;241m.\u001b[39mArray)):\n\u001b[0;32m     74\u001b[0m         new \u001b[38;5;241m=\u001b[39m operator\u001b[38;5;241m.\u001b[39mgetitem(\u001b[38;5;28mself\u001b[39m\u001b[38;5;241m.\u001b[39m_data, item)\n",
      "File \u001b[1;32mc:\\Users\\jony\\Programming\\Python\\Anubis\\anubis\\.venv\\lib\\site-packages\\awkward\\highlevel.py:1065\u001b[0m, in \u001b[0;36mArray.__getitem__\u001b[1;34m(self, where)\u001b[0m\n\u001b[0;32m    636\u001b[0m \u001b[38;5;250m\u001b[39m\u001b[38;5;124;03m\"\"\"\u001b[39;00m\n\u001b[0;32m    637\u001b[0m \u001b[38;5;124;03mArgs:\u001b[39;00m\n\u001b[0;32m    638\u001b[0m \u001b[38;5;124;03m    where (many types supported; see below): Index of positions to\u001b[39;00m\n\u001b[1;32m   (...)\u001b[0m\n\u001b[0;32m   1062\u001b[0m \u001b[38;5;124;03mhave the same dimension as the array being indexed.\u001b[39;00m\n\u001b[0;32m   1063\u001b[0m \u001b[38;5;124;03m\"\"\"\u001b[39;00m\n\u001b[0;32m   1064\u001b[0m \u001b[38;5;28;01mwith\u001b[39;00m ak\u001b[38;5;241m.\u001b[39m_errors\u001b[38;5;241m.\u001b[39mSlicingErrorContext(\u001b[38;5;28mself\u001b[39m, where):\n\u001b[1;32m-> 1065\u001b[0m     \u001b[38;5;28;01mreturn\u001b[39;00m \u001b[43mwrap_layout\u001b[49m\u001b[43m(\u001b[49m\n\u001b[0;32m   1066\u001b[0m \u001b[43m        \u001b[49m\u001b[43mprepare_layout\u001b[49m\u001b[43m(\u001b[49m\u001b[38;5;28;43mself\u001b[39;49m\u001b[38;5;241;43m.\u001b[39;49m\u001b[43m_layout\u001b[49m\u001b[43m[\u001b[49m\u001b[43mwhere\u001b[49m\u001b[43m]\u001b[49m\u001b[43m)\u001b[49m\u001b[43m,\u001b[49m\n\u001b[0;32m   1067\u001b[0m \u001b[43m        \u001b[49m\u001b[38;5;28;43mself\u001b[39;49m\u001b[38;5;241;43m.\u001b[39;49m\u001b[43m_behavior\u001b[49m\u001b[43m,\u001b[49m\n\u001b[0;32m   1068\u001b[0m \u001b[43m        \u001b[49m\u001b[43mallow_other\u001b[49m\u001b[38;5;241;43m=\u001b[39;49m\u001b[38;5;28;43;01mTrue\u001b[39;49;00m\u001b[43m,\u001b[49m\n\u001b[0;32m   1069\u001b[0m \u001b[43m        \u001b[49m\u001b[43mattrs\u001b[49m\u001b[38;5;241;43m=\u001b[39;49m\u001b[38;5;28;43mself\u001b[39;49m\u001b[38;5;241;43m.\u001b[39;49m\u001b[43m_attrs\u001b[49m\u001b[43m,\u001b[49m\n\u001b[0;32m   1070\u001b[0m \u001b[43m    \u001b[49m\u001b[43m)\u001b[49m\n",
      "File \u001b[1;32mc:\\Users\\jony\\Programming\\Python\\Anubis\\anubis\\.venv\\lib\\site-packages\\awkward\\_layout.py:214\u001b[0m, in \u001b[0;36mwrap_layout\u001b[1;34m(content, behavior, highlevel, like, allow_other, attrs)\u001b[0m\n\u001b[0;32m    211\u001b[0m     behavior \u001b[38;5;241m=\u001b[39m behavior_of(like)\n\u001b[0;32m    213\u001b[0m \u001b[38;5;28;01mif\u001b[39;00m \u001b[38;5;28misinstance\u001b[39m(content, Content):\n\u001b[1;32m--> 214\u001b[0m     \u001b[38;5;28;01mreturn\u001b[39;00m \u001b[43mawkward\u001b[49m\u001b[38;5;241;43m.\u001b[39;49m\u001b[43mhighlevel\u001b[49m\u001b[38;5;241;43m.\u001b[39;49m\u001b[43mArray\u001b[49m\u001b[43m(\u001b[49m\u001b[43mcontent\u001b[49m\u001b[43m,\u001b[49m\u001b[43m \u001b[49m\u001b[43mbehavior\u001b[49m\u001b[38;5;241;43m=\u001b[39;49m\u001b[43mbehavior\u001b[49m\u001b[43m,\u001b[49m\u001b[43m \u001b[49m\u001b[43mattrs\u001b[49m\u001b[38;5;241;43m=\u001b[39;49m\u001b[43mattrs\u001b[49m\u001b[43m)\u001b[49m\n\u001b[0;32m    215\u001b[0m \u001b[38;5;28;01melif\u001b[39;00m \u001b[38;5;28misinstance\u001b[39m(content, Record):\n\u001b[0;32m    216\u001b[0m     \u001b[38;5;28;01mreturn\u001b[39;00m awkward\u001b[38;5;241m.\u001b[39mhighlevel\u001b[38;5;241m.\u001b[39mRecord(content, behavior\u001b[38;5;241m=\u001b[39mbehavior, attrs\u001b[38;5;241m=\u001b[39mattrs)\n",
      "File \u001b[1;32mc:\\Users\\jony\\Programming\\Python\\Anubis\\anubis\\.venv\\lib\\site-packages\\awkward\\highlevel.py:340\u001b[0m, in \u001b[0;36mArray.__init__\u001b[1;34m(self, data, behavior, with_name, check_valid, backend, attrs)\u001b[0m\n\u001b[0;32m    337\u001b[0m \u001b[38;5;28;01mif\u001b[39;00m \u001b[38;5;28misinstance\u001b[39m(docstr, \u001b[38;5;28mstr\u001b[39m):\n\u001b[0;32m    338\u001b[0m     \u001b[38;5;28mself\u001b[39m\u001b[38;5;241m.\u001b[39m\u001b[38;5;18m__doc__\u001b[39m \u001b[38;5;241m=\u001b[39m docstr\n\u001b[1;32m--> 340\u001b[0m \u001b[38;5;28;43mself\u001b[39;49m\u001b[38;5;241;43m.\u001b[39;49m\u001b[43m_update_class\u001b[49m\u001b[43m(\u001b[49m\u001b[43m)\u001b[49m\n\u001b[0;32m    342\u001b[0m \u001b[38;5;28;01mif\u001b[39;00m check_valid:\n\u001b[0;32m    343\u001b[0m     ak\u001b[38;5;241m.\u001b[39moperations\u001b[38;5;241m.\u001b[39mvalidity_error(\u001b[38;5;28mself\u001b[39m, exception\u001b[38;5;241m=\u001b[39m\u001b[38;5;28;01mTrue\u001b[39;00m)\n",
      "File \u001b[1;32mc:\\Users\\jony\\Programming\\Python\\Anubis\\anubis\\.venv\\lib\\site-packages\\awkward\\highlevel.py:357\u001b[0m, in \u001b[0;36mArray._update_class\u001b[1;34m(self)\u001b[0m\n\u001b[0;32m    355\u001b[0m \u001b[38;5;28;01mdef\u001b[39;00m \u001b[38;5;21m_update_class\u001b[39m(\u001b[38;5;28mself\u001b[39m):\n\u001b[0;32m    356\u001b[0m     \u001b[38;5;28mself\u001b[39m\u001b[38;5;241m.\u001b[39m_numbaview \u001b[38;5;241m=\u001b[39m \u001b[38;5;28;01mNone\u001b[39;00m\n\u001b[1;32m--> 357\u001b[0m     \u001b[38;5;28mself\u001b[39m\u001b[38;5;241m.\u001b[39m\u001b[38;5;18m__class__\u001b[39m \u001b[38;5;241m=\u001b[39m \u001b[43mget_array_class\u001b[49m\u001b[43m(\u001b[49m\u001b[38;5;28;43mself\u001b[39;49m\u001b[38;5;241;43m.\u001b[39;49m\u001b[43m_layout\u001b[49m\u001b[43m,\u001b[49m\u001b[43m \u001b[49m\u001b[38;5;28;43mself\u001b[39;49m\u001b[38;5;241;43m.\u001b[39;49m\u001b[43m_behavior\u001b[49m\u001b[43m)\u001b[49m\n",
      "File \u001b[1;32mc:\\Users\\jony\\Programming\\Python\\Anubis\\anubis\\.venv\\lib\\site-packages\\awkward\\_behavior.py:38\u001b[0m, in \u001b[0;36mget_array_class\u001b[1;34m(layout, behavior)\u001b[0m\n\u001b[0;32m     35\u001b[0m \u001b[38;5;28;01mdef\u001b[39;00m \u001b[38;5;21mget_array_class\u001b[39m(layout: Content, behavior: Mapping \u001b[38;5;241m|\u001b[39m \u001b[38;5;28;01mNone\u001b[39;00m) \u001b[38;5;241m-\u001b[39m\u001b[38;5;241m>\u001b[39m \u001b[38;5;28mtype\u001b[39m[Array]:\n\u001b[0;32m     36\u001b[0m     \u001b[38;5;28;01mfrom\u001b[39;00m \u001b[38;5;21;01mawkward\u001b[39;00m\u001b[38;5;21;01m.\u001b[39;00m\u001b[38;5;21;01mhighlevel\u001b[39;00m \u001b[38;5;28;01mimport\u001b[39;00m Array\n\u001b[1;32m---> 38\u001b[0m     behavior \u001b[38;5;241m=\u001b[39m \u001b[43moverlay_behavior\u001b[49m\u001b[43m(\u001b[49m\u001b[43mbehavior\u001b[49m\u001b[43m)\u001b[49m\n\u001b[0;32m     39\u001b[0m     list_name \u001b[38;5;241m=\u001b[39m layout\u001b[38;5;241m.\u001b[39mparameter(\u001b[38;5;124m\"\u001b[39m\u001b[38;5;124m__list__\u001b[39m\u001b[38;5;124m\"\u001b[39m)\n\u001b[0;32m     40\u001b[0m     \u001b[38;5;28;01mif\u001b[39;00m \u001b[38;5;28misinstance\u001b[39m(list_name, \u001b[38;5;28mstr\u001b[39m):\n",
      "\u001b[1;31mKeyboardInterrupt\u001b[0m: "
     ]
    }
   ],
   "source": [
    "analyser.match_bcrs() #34705"
   ]
  },
  {
   "cell_type": "code",
   "execution_count": 9,
   "metadata": {},
   "outputs": [
    {
     "name": "stdout",
     "output_type": "stream",
     "text": [
      "4359\n"
     ]
    }
   ],
   "source": [
    "print(len([1 for i in analyser.matches if i[1]]))"
   ]
  },
  {
   "cell_type": "code",
   "execution_count": 14,
   "metadata": {},
   "outputs": [],
   "source": [
    "importlib.reload(AtTools)\n",
    "times, eta, phi, heatmap = AtTools.convert_matches(analyser.matches, 114)"
   ]
  },
  {
   "cell_type": "code",
   "execution_count": 29,
   "metadata": {},
   "outputs": [
    {
     "name": "stderr",
     "output_type": "stream",
     "text": [
      "100%|██████████| 3564/3564 [00:02<00:00, 1507.49it/s]\n"
     ]
    }
   ],
   "source": [
    "import background\n",
    "\n",
    "bg = background.calculate_background(anubis_data=analyser.anubis_data)\n"
   ]
  },
  {
   "cell_type": "code",
   "execution_count": 11,
   "metadata": {},
   "outputs": [],
   "source": [
    "#Position\n",
    "\n",
    "plt.hist2d(eta, phi, bins=30, cmap='plasma')\n",
    "plt.xlim(-2.5, 2.5)\n",
    "plt.ylim(-np.pi, np.pi)\n",
    "plt.xlabel(\"eta\")\n",
    "plt.ylabel(\"phi\")\n",
    "plt.colorbar()\n",
    "plt.show()"
   ]
  },
  {
   "cell_type": "code",
   "execution_count": 15,
   "metadata": {},
   "outputs": [],
   "source": [
    "# position 3d\n",
    "import matplotlib.pyplot as plt\n",
    "import numpy as np\n",
    "from mpl_toolkits.mplot3d import Axes3D\n",
    "hist, xedges, yedges = np.histogram2d(eta, phi, bins=30, range=[[-np.pi, np.pi], [-np.pi, np.pi]])\n",
    "\n",
    "xpos, ypos = np.meshgrid(xedges[:-1] + 0.5 * (xedges[1] - xedges[0]),\n",
    "                         yedges[:-1] + 0.5 * (yedges[1] - yedges[0]),\n",
    "                         indexing=\"ij\")\n",
    "\n",
    "# Initialize the 3D plot\n",
    "fig = plt.figure()\n",
    "ax = fig.add_subplot(111, projection='3d')\n",
    "\n",
    "# Plot the surface\n",
    "ax.plot_surface(xpos, ypos, hist, cmap='plasma')\n",
    "\n",
    "# Set labels\n",
    "ax.set_xlabel('eta')\n",
    "ax.set_ylabel('phi')\n",
    "ax.set_zlabel('Count')\n",
    "\n",
    "# Set limits\n",
    "ax.set_xlim(-np.pi, np.pi)\n",
    "ax.set_ylim(-np.pi, np.pi)\n",
    "plt.show()\n"
   ]
  },
  {
   "cell_type": "code",
   "execution_count": 12,
   "metadata": {},
   "outputs": [],
   "source": [
    "#times\n",
    "plt.hist(times, bins=range(min(times), max(times) + 2, 1), density=True)\n",
    "#plt.plot(range(0, 3564), bg)\n",
    "#plt.xlim(-100,100)\n",
    "plt.xlabel(\"Time difference (bx)\")\n",
    "#plt.xlim(-500,500)\n",
    "plt.ylabel(\"Frequency\")\n",
    "plt.title(\"Time difference between BCR and trigger\")\n",
    "plt.show()"
   ]
  },
  {
   "cell_type": "code",
   "execution_count": 19,
   "metadata": {},
   "outputs": [
    {
     "name": "stdout",
     "output_type": "stream",
     "text": [
      "56036\n",
      "33653567\n",
      "28813\n",
      "143415761\n"
     ]
    },
    {
     "ename": "NameError",
     "evalue": "name 'bg' is not defined",
     "output_type": "error",
     "traceback": [
      "\u001b[1;31m---------------------------------------------------------------------------\u001b[0m",
      "\u001b[1;31mNameError\u001b[0m                                 Traceback (most recent call last)",
      "Cell \u001b[1;32mIn[19], line 5\u001b[0m\n\u001b[0;32m      3\u001b[0m \u001b[38;5;28mprint\u001b[39m(\u001b[38;5;28mlen\u001b[39m(analyser\u001b[38;5;241m.\u001b[39mmatches))\n\u001b[0;32m      4\u001b[0m \u001b[38;5;28mprint\u001b[39m(\u001b[38;5;28mlen\u001b[39m(atlas))\n\u001b[1;32m----> 5\u001b[0m \u001b[38;5;28mprint\u001b[39m(\u001b[38;5;28mlen\u001b[39m(\u001b[43mbg\u001b[49m))\n",
      "\u001b[1;31mNameError\u001b[0m: name 'bg' is not defined"
     ]
    }
   ],
   "source": [
    "print(len([1 for i in times if i == 3]))\n",
    "print(len(analyser.anubis_data))\n",
    "print(len(analyser.matches))"
   ]
  },
  {
   "cell_type": "code",
   "execution_count": 57,
   "metadata": {},
   "outputs": [
    {
     "name": "stdout",
     "output_type": "stream",
     "text": [
      "Pearson coefficient: 0.002179741957029581\n",
      "p-value: 0.32391912641600673\n"
     ]
    }
   ],
   "source": [
    "#compute correlation from heatmap\n",
    "atlas = []#AtTools.generate_random_triggers(10_000_000)\n",
    "anubis = []#AtTools.generate_random_triggers(10_000_000)\n",
    "\n",
    "for i in range(len(heatmap)):\n",
    "    for j in range(len(heatmap[i])):\n",
    "        for count in range(heatmap[i][j]):\n",
    "            atlas.append(i)\n",
    "            anubis.append(j)\n",
    "\n",
    "from scipy.stats import pearsonr\n",
    "r, p = pearsonr(atlas, anubis)\n",
    "print(\"Pearson coefficient:\", r)\n",
    "print(\"p-value:\", p)\n"
   ]
  },
  {
   "cell_type": "code",
   "execution_count": 54,
   "metadata": {},
   "outputs": [
    {
     "name": "stdout",
     "output_type": "stream",
     "text": [
      "204801\n"
     ]
    }
   ],
   "source": [
    "print(len(atlas))"
   ]
  },
  {
   "cell_type": "code",
   "execution_count": 55,
   "metadata": {},
   "outputs": [],
   "source": [
    "#histogram of the matched bcrs\n",
    "anubis = []\n",
    "for match in analyser.matches:\n",
    "    if match[1] != []:\n",
    "        anubis.extend(match[1])\n",
    "hist = []\n",
    "for trigger in anubis:\n",
    "    hist.append(round(trigger.bcId))\n",
    "\n",
    "bins = [i-0.5 for i in range(0,3565)] #-0.5,0.5,...3653.5\n",
    "counts, _ = np.histogram(hist, bins=bins, density=False)\n",
    "bins = [i for i in range(0,3564)]\n",
    "plt.plot(bins, counts, color=\"orange\")\n",
    "\n",
    "plt.xlabel('Time since last BCR (ns)')\n",
    "plt.xlim(0, 3565)\n",
    "plt.ylabel('Frequency')\n",
    "plt.title(f'Histogram of BCID Anubis')\n",
    "plt.show()"
   ]
  },
  {
   "cell_type": "code",
   "execution_count": 43,
   "metadata": {},
   "outputs": [],
   "source": [
    "#heatmap\n",
    "plt.imshow(heatmap)\n",
    "plt.plot([i for i in range(3564)],[i for i in range(3564)], color = \"red\")\n",
    "plt.xlim(0, 3564)\n",
    "plt.ylim(0, 3564)\n",
    "#plt.gca().invert_yaxis()\n",
    "plt.xlabel(\"Atlas BX\")\n",
    "plt.ylabel(\"proANUBIS BX\")\n",
    "plt.title(\"Heatmap of BX matches\")\n",
    "plt.show()"
   ]
  }
 ],
 "metadata": {
  "kernelspec": {
   "display_name": ".venv",
   "language": "python",
   "name": "python3"
  },
  "language_info": {
   "codemirror_mode": {
    "name": "ipython",
    "version": 3
   },
   "file_extension": ".py",
   "mimetype": "text/x-python",
   "name": "python",
   "nbconvert_exporter": "python",
   "pygments_lexer": "ipython3",
   "version": "3.10.4"
  }
 },
 "nbformat": 4,
 "nbformat_minor": 2
}
