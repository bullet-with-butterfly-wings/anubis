{
 "cells": [
  {
   "cell_type": "code",
   "execution_count": 2,
   "metadata": {},
   "outputs": [],
   "source": [
    "import importlib\n",
    "import sys\n",
    "from tqdm import tqdm\n",
    "import  os\n",
    "import pickle\n",
    "import glob\n",
    "from datetime import datetime\n",
    "import matplotlib.pyplot as plt\n",
    "# Add the directories to the sys.path\n",
    "dir_path = \"C://Users//jony//Programming//Python//Anubis//anubis//\" # insert your directory path\n",
    "sys.path.append(dir_path + \"Osiris//processing//python\")\n",
    "sys.path.append(dir_path + \"tools\")\n",
    "\n",
    "import Analysis_tools as ATools\n",
    "import Atlas_tools as AtTools\n",
    "import proAnubis_Analysis_Tools\n",
    "import Reconstruction_tools as RTools\n",
    "import numpy as np\n",
    "import mplhep as hep\n",
    "import Timing_tools as TTools\n",
    "import pickle\n",
    "import rawFileReader\n",
    "import Visual_tools as VTools\n",
    "hep.style.use([hep.style.ATLAS])\n",
    "\n",
    "# Specify the directory\n"
   ]
  },
  {
   "cell_type": "code",
   "execution_count": 80,
   "metadata": {},
   "outputs": [
    {
     "name": "stderr",
     "output_type": "stream",
     "text": [
      "Reading: 100%|█████████▉| 9999/10000 [00:02<00:00, 4566.43Events/s]\n"
     ]
    },
    {
     "name": "stdout",
     "output_type": "stream",
     "text": [
      "Anubis 1719505388.002159\n",
      "ATLAS 1719498206\n"
     ]
    }
   ],
   "source": [
    "#Cut it the way you want\n",
    "importlib.reload(AtTools)\n",
    "\n",
    "anubis_file = \"data.pkl\" #'C://Users//jony//Programming//Python//Anubis//anubis//data//proAnubis_240627_1720.raw'\n",
    "analyser = AtTools.AtlasAnalyser()\n",
    "analyser.getTDC5Data(anubis_file, trigger_channel=4,bcr_channel=2, fromPKL=True, amount_of_events=10_000)\n",
    "atlas_file = \"C://Users//jony//Programming//Python//Anubis//anubis//data//dataAtlas.root\"\n",
    "data = analyser.getAtlasData(atlas_file)\n",
    "analyser.correctionBCR()\n",
    "#analyser.atlas_data = analyser.atlas_data[85_500:86_500]\n",
    "print(\"Anubis\", analyser.anubis_data[0].timeStamp)\n",
    "print(\"ATLAS\",analyser.atlas_data.iloc[0][\"TimeStamp\"])\n"
   ]
  },
  {
   "cell_type": "code",
   "execution_count": 79,
   "metadata": {},
   "outputs": [
    {
     "name": "stdout",
     "output_type": "stream",
     "text": [
      "Best offset 114\n"
     ]
    }
   ],
   "source": [
    "importlib.reload(AtTools)\n",
    "anubis = AtTools.BCRHistogram(analyser.anubis_data, atlas=False, plot = False)\n",
    "atlas = AtTools.BCRHistogram(analyser.atlas_data, atlas=True, plot = False)\n",
    "\n",
    "window_size = 100\n",
    "anubis = np.convolve(np.append(anubis, anubis[:window_size]), np.ones(window_size)/window_size, mode='valid')\n",
    "atlas = np.convolve(np.append(atlas, atlas[:window_size]), np.ones(window_size)/window_size, mode='valid')\n",
    "error = 100\n",
    "errors = []\n",
    "for offset in range(-200,200):\n",
    "    errors.append(np.sum((atlas - np.roll(anubis, offset))**2))\n",
    "    if np.sum((atlas - np.roll(anubis, offset))**2) < error:\n",
    "        error = np.sum((atlas - np.roll(anubis, offset))**2)\n",
    "        best_offset = offset\n",
    "\n",
    "print(\"Best offset\", best_offset)\n",
    "plt.plot(atlas, label=\"Atlas\")\n",
    "#plt.plot(anubis, label=\"Original Anubis\")\n",
    "plt.plot(np.roll(anubis, best_offset), label=\"Offset Anubis\")\n",
    "plt.xlim(0, 3565)\n",
    "plt.ylabel(\"Counts (normalized)\")\n",
    "plt.xlabel(\"BX\")\n",
    "plt.title(\"Anubis and Atlas BCR Histograms aligned - smoothed\")\n",
    "plt.legend()\n",
    "plt.show()\n",
    "\n",
    "plt.plot(list(range(-200,200)), errors, label=\"Errors\")\n",
    "plt.xlabel(\"Offset\")\n",
    "plt.ylabel(\"Sum of Square Errors\")\n",
    "plt.title(\"Sum of Square Errors vs Offset\")\n",
    "plt.vlines(best_offset,0, max(errors), color = \"red\", label=f\"Best Offset: {best_offset}\")\n",
    "plt.ylim(0,max(errors))\n",
    "plt.legend(loc = \"lower left\") #position\n",
    "\n",
    "plt.show()\n",
    "    "
   ]
  },
  {
   "cell_type": "code",
   "execution_count": 81,
   "metadata": {},
   "outputs": [
    {
     "name": "stderr",
     "output_type": "stream",
     "text": [
      "Matching:  60%|█████▉    | 86573/145275 [22:43<15:24, 63.50Events/s]   \n"
     ]
    },
    {
     "ename": "KeyboardInterrupt",
     "evalue": "",
     "output_type": "error",
     "traceback": [
      "\u001b[1;31m---------------------------------------------------------------------------\u001b[0m",
      "\u001b[1;31mKeyboardInterrupt\u001b[0m                         Traceback (most recent call last)",
      "Cell \u001b[1;32mIn[81], line 1\u001b[0m\n\u001b[1;32m----> 1\u001b[0m \u001b[43manalyser\u001b[49m\u001b[38;5;241;43m.\u001b[39;49m\u001b[43mpairBCRwithEvents\u001b[49m\u001b[43m(\u001b[49m\u001b[43m)\u001b[49m\n",
      "File \u001b[1;32mC:\\/Users//jony//Programming//Python//Anubis//anubis//tools\\Atlas_tools.py:275\u001b[0m, in \u001b[0;36mAtlasAnalyser.pairBCRwithEvents\u001b[1;34m(self)\u001b[0m\n\u001b[0;32m    273\u001b[0m \u001b[38;5;28;01mif\u001b[39;00m bcr\u001b[38;5;241m.\u001b[39mtimeStamp \u001b[38;5;241m<\u001b[39m hit_time \u001b[38;5;241m-\u001b[39m time_window:\n\u001b[0;32m    274\u001b[0m     anubis_pointer \u001b[38;5;241m=\u001b[39m \u001b[38;5;28mself\u001b[39m\u001b[38;5;241m.\u001b[39manubis_data\u001b[38;5;241m.\u001b[39mindex(bcr)\n\u001b[1;32m--> 275\u001b[0m \u001b[38;5;28;01mif\u001b[39;00m \u001b[38;5;28;43mabs\u001b[39;49m\u001b[43m(\u001b[49m\u001b[43mbcr\u001b[49m\u001b[38;5;241;43m.\u001b[39;49m\u001b[43mtimeStamp\u001b[49m\u001b[43m \u001b[49m\u001b[38;5;241;43m-\u001b[39;49m\u001b[43m \u001b[49m\u001b[43mhit_time\u001b[49m\u001b[43m)\u001b[49m \u001b[38;5;241m<\u001b[39m time_window:\n\u001b[0;32m    276\u001b[0m     \u001b[38;5;28;01mfor\u001b[39;00m trigger \u001b[38;5;129;01min\u001b[39;00m bcr\u001b[38;5;241m.\u001b[39mtriggers:\n\u001b[0;32m    277\u001b[0m         \u001b[38;5;66;03m#if abs(trigger.bcId - self.atlas_data.iloc[atlas_pointer][\"BCID\"]) < 20:\u001b[39;00m\n\u001b[0;32m    278\u001b[0m         \u001b[38;5;28mself\u001b[39m\u001b[38;5;241m.\u001b[39mmatches[atlas_pointer][\u001b[38;5;241m1\u001b[39m]\u001b[38;5;241m.\u001b[39mappend(trigger)\n",
      "\u001b[1;31mKeyboardInterrupt\u001b[0m: "
     ]
    }
   ],
   "source": [
    "analyser.correctBCR()\n",
    "analyser.pairBCRwithEvents()"
   ]
  },
  {
   "cell_type": "code",
   "execution_count": 84,
   "metadata": {},
   "outputs": [],
   "source": [
    "#difference\n",
    "eta = []\n",
    "phi = []\n",
    "times = []\n",
    "matches = analyser.matches\n",
    "for i in range(len(matches)):\n",
    "    if matches[i][1]:\n",
    "        for trigger in matches[i][1]:\n",
    "            #if abs(round(trigger.bcId-matches[i][0][\"BCID\"])) > 1000:\n",
    "            #    continue\n",
    "            eta.extend(matches[i][0][\"mu_eta\"])\n",
    "            phi.extend(matches[i][0][\"mu_phi\"])       \n",
    "            for _ in range(len(matches[i][0][\"mu_eta\"])):\n",
    "                times.append(round(trigger.bcId+best_offset-matches[i][0][\"BCID\"]))\n"
   ]
  },
  {
   "cell_type": "code",
   "execution_count": 86,
   "metadata": {},
   "outputs": [],
   "source": [
    "#3D plot\n",
    "fig = plt.figure()\n",
    "ax = fig.add_subplot(projection='3d')\n",
    "ax.scatter(eta, phi, times)\n",
    "ax.set_xlabel('eta')\n",
    "plt.ylim(-3.2,3.2)\n",
    "plt.xlim(-3.2,3.2)\n",
    "ax.set_ylabel('phi')\n",
    "ax.set_zlabel('time')\n",
    "plt.show()"
   ]
  },
  {
   "cell_type": "code",
   "execution_count": 87,
   "metadata": {},
   "outputs": [],
   "source": [
    "#Histograms\n",
    "plt.hist2d(eta, phi, bins=30, cmap='plasma')\n",
    "plt.xlim(-np.pi, np.pi)\n",
    "plt.ylim(-np.pi, np.pi)\n",
    "plt.xlabel(\"eta\")\n",
    "plt.ylabel(\"phi\")\n",
    "# Add a color bar to show the color scale\n",
    "plt.colorbar()\n",
    "plt.show()\n",
    "\n",
    "plt.hist(times, bins=range(min(times), max(times) + 2, 1))\n",
    "#plt.xlim(-100,100)\n",
    "plt.xlabel(\"Time difference (bx)\")\n",
    "plt.ylabel(\"Frequency\")\n",
    "plt.title(\"Time difference between BCR and trigger\")\n",
    "plt.show()"
   ]
  }
 ],
 "metadata": {
  "kernelspec": {
   "display_name": ".venv",
   "language": "python",
   "name": "python3"
  },
  "language_info": {
   "codemirror_mode": {
    "name": "ipython",
    "version": 3
   },
   "file_extension": ".py",
   "mimetype": "text/x-python",
   "name": "python",
   "nbconvert_exporter": "python",
   "pygments_lexer": "ipython3",
   "version": "3.10.4"
  }
 },
 "nbformat": 4,
 "nbformat_minor": 2
}
