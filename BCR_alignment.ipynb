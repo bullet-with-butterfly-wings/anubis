{
 "cells": [
  {
   "cell_type": "code",
   "execution_count": 13,
   "metadata": {},
   "outputs": [],
   "source": [
    "import importlib\n",
    "import sys\n",
    "from tqdm import tqdm\n",
    "import  os\n",
    "import pickle\n",
    "import glob\n",
    "from datetime import datetime\n",
    "import matplotlib.pyplot as plt\n",
    "# Add the directories to the sys.path\n",
    "dir_path = \"C://Users//jony//Programming//Python//Anubis//anubis//\" # insert your directory path\n",
    "sys.path.append(dir_path + \"Osiris//processing//python\")\n",
    "sys.path.append(dir_path + \"tools\")\n",
    "\n",
    "import Analysis_tools as ATools\n",
    "import Atlas_tools as AtTools\n",
    "import proAnubis_Analysis_Tools\n",
    "import Reconstruction_tools as RTools\n",
    "import numpy as np\n",
    "import mplhep as hep\n",
    "import Timing_tools as TTools\n",
    "import pickle\n",
    "import overview\n",
    "import rawFileReader\n",
    "import Visual_tools as VTools\n",
    "hep.style.use([hep.style.ATLAS])\n",
    "\n",
    "dir = \"C://Users//jony//Programming//Python//Anubis//anubis//data//\"\n",
    "\n",
    "# Specify the directory\n"
   ]
  },
  {
   "cell_type": "code",
   "execution_count": 14,
   "metadata": {},
   "outputs": [
    {
     "name": "stderr",
     "output_type": "stream",
     "text": [
      "100%|██████████| 316/316 [08:49<00:00,  1.68s/it]\n"
     ]
    }
   ],
   "source": [
    "importlib.reload(AtTools)\n",
    "\n",
    "analyser = AtTools.AtlasAnalyser() # 784_480\n",
    "data_list = sorted([f for f in os.listdir(\"data//bcr\") if os.path.isfile(os.path.join(\"data//bcr\", f))], key=lambda x: int(x[3:-4]))\n",
    "\n",
    "with tqdm(total=len(data_list)) as pbar:\n",
    "    for data in data_list:\n",
    "        with open(f\"data//bcr//{data}\", \"rb\") as f:\n",
    "            analyser.anubis_data += pickle.load(f)\n",
    "        pbar.update(1) "
   ]
  },
  {
   "cell_type": "code",
   "execution_count": 8,
   "metadata": {},
   "outputs": [],
   "source": [
    "#generate random data\n",
    "importlib.reload(ATools)\n",
    "data = AtTools.generate_random_triggers(1_000_000)\n",
    "hist, bins = np.histogram(data, bins=list(range(0, 3654)), density=True)\n",
    "plt.plot(bins[:-1], hist)\n",
    "plt.title(\"Random triggers\")\n",
    "plt.xlabel(\"Bunch Crossings [bx]\")\n",
    "plt.ylabel(\"Frequency\")\n",
    "plt.show()"
   ]
  },
  {
   "cell_type": "code",
   "execution_count": 15,
   "metadata": {},
   "outputs": [
    {
     "name": "stdout",
     "output_type": "stream",
     "text": [
      "Loading done\n"
     ]
    }
   ],
   "source": [
    "#Atlas load\n",
    "importlib.reload(AtTools)\n",
    "import pandas as pd\n",
    "only_in = False\n",
    "if only_in:\n",
    "    analyser.atlas_data = pd.read_csv(\"C://Users//jony//Programming//Python//Anubis//anubis//only_in.csv\")\n",
    "else:\n",
    "    atlas_file = \"C://Users//jony//Programming//Python//Anubis//anubis//data//dataAtlas.root\"\n",
    "    analyser.get_atlas_data(atlas_file)\n",
    "    #analyser.atlas_data = analyser.atlas_data.iloc[len(analyser.atlas_data)//2:]\n",
    "print(\"Loading done\")"
   ]
  },
  {
   "cell_type": "code",
   "execution_count": 16,
   "metadata": {},
   "outputs": [],
   "source": [
    "data = analyser.anubis_data.copy()"
   ]
  },
  {
   "cell_type": "code",
   "execution_count": 17,
   "metadata": {},
   "outputs": [],
   "source": [
    "importlib.reload(AtTools)\n",
    "analyser = AtTools.AtlasAnalyser()\n",
    "analyser.anubis_data = data.copy()"
   ]
  },
  {
   "cell_type": "code",
   "execution_count": 16,
   "metadata": {},
   "outputs": [
    {
     "name": "stderr",
     "output_type": "stream",
     "text": [
      "Matching:  20%|█▉        | 28812/145275 [15:35<1:03:00, 30.80Events/s]\n"
     ]
    },
    {
     "ename": "KeyboardInterrupt",
     "evalue": "",
     "output_type": "error",
     "traceback": [
      "\u001b[1;31m---------------------------------------------------------------------------\u001b[0m",
      "\u001b[1;31mKeyboardInterrupt\u001b[0m                         Traceback (most recent call last)",
      "Cell \u001b[1;32mIn[16], line 1\u001b[0m\n\u001b[1;32m----> 1\u001b[0m \u001b[43manalyser\u001b[49m\u001b[38;5;241;43m.\u001b[39;49m\u001b[43mmatch_bcrs\u001b[49m\u001b[43m(\u001b[49m\u001b[43m)\u001b[49m\n",
      "File \u001b[1;32mC:\\/Users//jony//Programming//Python//Anubis//anubis//tools\\Atlas_tools.py:323\u001b[0m, in \u001b[0;36mAtlasAnalyser.match_bcrs\u001b[1;34m(self)\u001b[0m\n\u001b[0;32m    321\u001b[0m         \u001b[38;5;28;01mfor\u001b[39;00m trigger \u001b[38;5;129;01min\u001b[39;00m bcr\u001b[38;5;241m.\u001b[39mtriggers:\n\u001b[0;32m    322\u001b[0m             \u001b[38;5;28mself\u001b[39m\u001b[38;5;241m.\u001b[39mmatches[atlas_pointer][\u001b[38;5;241m-\u001b[39m\u001b[38;5;241m1\u001b[39m]\u001b[38;5;241m.\u001b[39mappend(trigger)\n\u001b[1;32m--> 323\u001b[0m \u001b[38;5;28;01melif\u001b[39;00m \u001b[38;5;28;43mabs\u001b[39;49m\u001b[43m(\u001b[49m\u001b[43mbcr\u001b[49m\u001b[38;5;241;43m.\u001b[39;49m\u001b[43mtimeStamp\u001b[49m\u001b[43m \u001b[49m\u001b[38;5;241;43m-\u001b[39;49m\u001b[43m \u001b[49m\u001b[43mhit_time\u001b[49m\u001b[43m)\u001b[49m\u001b[43m \u001b[49m\u001b[38;5;241;43m<\u001b[39;49m\u001b[43m \u001b[49m\u001b[43mtime_window\u001b[49m:\n\u001b[0;32m    324\u001b[0m     \u001b[38;5;28;01mif\u001b[39;00m \u001b[38;5;129;01mnot\u001b[39;00m bcr\u001b[38;5;241m.\u001b[39merror:\n\u001b[0;32m    325\u001b[0m         \u001b[38;5;28;01mfor\u001b[39;00m trigger \u001b[38;5;129;01min\u001b[39;00m bcr\u001b[38;5;241m.\u001b[39mtriggers:                            \u001b[38;5;66;03m#if abs(trigger.bcId - self.atlas_data.iloc[atlas_pointer][\"BCID\"]) < 20:\u001b[39;00m\n",
      "\u001b[1;31mKeyboardInterrupt\u001b[0m: "
     ]
    }
   ],
   "source": [
    "analyser.match_bcrs()"
   ]
  },
  {
   "cell_type": "code",
   "execution_count": 17,
   "metadata": {},
   "outputs": [],
   "source": [
    "importlib.reload(AtTools)\n",
    "times, eta, phi, heatmap = AtTools.convert_matches(analyser.matches, 114)"
   ]
  },
  {
   "cell_type": "code",
   "execution_count": 29,
   "metadata": {},
   "outputs": [
    {
     "name": "stderr",
     "output_type": "stream",
     "text": [
      "100%|██████████| 3564/3564 [00:02<00:00, 1507.49it/s]\n"
     ]
    }
   ],
   "source": [
    "import background\n",
    "\n",
    "bg = background.calculate_background(anubis_data=analyser.anubis_data)\n"
   ]
  },
  {
   "cell_type": "code",
   "execution_count": 38,
   "metadata": {},
   "outputs": [],
   "source": [
    "#Position\n",
    "\n",
    "plt.hist2d(eta, phi, bins=30, cmap='plasma')\n",
    "plt.xlim(-2.5, 2.5)\n",
    "plt.ylim(-np.pi, np.pi)\n",
    "plt.xlabel(\"eta\")\n",
    "plt.ylabel(\"phi\")\n",
    "plt.colorbar()\n",
    "plt.show()"
   ]
  },
  {
   "cell_type": "code",
   "execution_count": 31,
   "metadata": {},
   "outputs": [],
   "source": [
    "#times\n",
    "plt.hist(times, bins=range(min(times), max(times) + 2, 1), density=True)\n",
    "plt.plot(range(0, 3564), bg)\n",
    "#plt.xlim(-100,100)\n",
    "plt.xlabel(\"Time difference (bx)\")\n",
    "#plt.xlim(-500,500)\n",
    "plt.ylabel(\"Frequency\")\n",
    "plt.title(\"Time difference between BCR and trigger\")\n",
    "plt.show()"
   ]
  },
  {
   "cell_type": "code",
   "execution_count": 19,
   "metadata": {},
   "outputs": [
    {
     "name": "stdout",
     "output_type": "stream",
     "text": [
      "56036\n",
      "33653567\n",
      "28813\n",
      "143415761\n"
     ]
    },
    {
     "ename": "NameError",
     "evalue": "name 'bg' is not defined",
     "output_type": "error",
     "traceback": [
      "\u001b[1;31m---------------------------------------------------------------------------\u001b[0m",
      "\u001b[1;31mNameError\u001b[0m                                 Traceback (most recent call last)",
      "Cell \u001b[1;32mIn[19], line 5\u001b[0m\n\u001b[0;32m      3\u001b[0m \u001b[38;5;28mprint\u001b[39m(\u001b[38;5;28mlen\u001b[39m(analyser\u001b[38;5;241m.\u001b[39mmatches))\n\u001b[0;32m      4\u001b[0m \u001b[38;5;28mprint\u001b[39m(\u001b[38;5;28mlen\u001b[39m(atlas))\n\u001b[1;32m----> 5\u001b[0m \u001b[38;5;28mprint\u001b[39m(\u001b[38;5;28mlen\u001b[39m(\u001b[43mbg\u001b[49m))\n",
      "\u001b[1;31mNameError\u001b[0m: name 'bg' is not defined"
     ]
    }
   ],
   "source": [
    "print(len([1 for i in times if i == 3]))\n",
    "print(len(analyser.anubis_data))\n",
    "print(len(analyser.matches))"
   ]
  },
  {
   "cell_type": "code",
   "execution_count": 18,
   "metadata": {},
   "outputs": [
    {
     "name": "stdout",
     "output_type": "stream",
     "text": [
      "[[ 1.0000000e+00 -3.7318939e-05]\n",
      " [-3.7318939e-05  1.0000000e+00]]\n"
     ]
    }
   ],
   "source": [
    "#compute correlation from heatmap\n",
    "atlas = []#AtTools.generate_random_triggers(10_000_000)\n",
    "anubis = []#AtTools.generate_random_triggers(10_000_000)\n",
    "\n",
    "for i in range(len(heatmap)):\n",
    "    for j in range(len(heatmap[i])):\n",
    "        for count in range(heatmap[i][j]):\n",
    "            atlas.append(i)\n",
    "            anubis.append(j)\n",
    "\n",
    "c = np.corrcoef(atlas, anubis)\n",
    "print(c)"
   ]
  },
  {
   "cell_type": "code",
   "execution_count": null,
   "metadata": {},
   "outputs": [],
   "source": [
    "print(len(atlas))"
   ]
  },
  {
   "cell_type": "code",
   "execution_count": 62,
   "metadata": {},
   "outputs": [
    {
     "name": "stdout",
     "output_type": "stream",
     "text": [
      "105420\n"
     ]
    }
   ],
   "source": [
    "#histogram of the matched bcrs\n",
    "anubis = []\n",
    "for match in analyser.matches:\n",
    "    if match[1] != []:\n",
    "        anubis.extend(match[1])\n",
    "hist = []\n",
    "for trigger in anubis:\n",
    "    hist.append(round(trigger.bcId))\n",
    "\n",
    "bins = [i-0.5 for i in range(0,3565)] #-0.5,0.5,...3653.5\n",
    "counts, _ = np.histogram(hist, bins=bins, density=False)\n",
    "bins = [i for i in range(0,3564)]\n",
    "plt.plot(bins, counts, color=\"orange\")\n",
    "\n",
    "plt.xlabel('Time since last BCR (ns)')\n",
    "plt.xlim(0, 3565)\n",
    "plt.ylabel('Frequency')\n",
    "plt.title(f'Histogram of BCID Anubis')\n",
    "plt.show()"
   ]
  },
  {
   "cell_type": "code",
   "execution_count": 39,
   "metadata": {},
   "outputs": [],
   "source": [
    "#heatmap\n",
    "plt.imshow(heatmap)\n",
    "plt.plot([i for i in range(3564)],[i for i in range(3564)], color = \"red\")\n",
    "plt.xlim(0, 3564)\n",
    "plt.ylim(0, 3564)\n",
    "#plt.gca().invert_yaxis()\n",
    "plt.xlabel(\"Atlas BX\")\n",
    "plt.ylabel(\"proANUBIS BX\")\n",
    "plt.title(\"Heatmap of BX matches\")\n",
    "plt.show()"
   ]
  },
  {
   "cell_type": "code",
   "execution_count": null,
   "metadata": {},
   "outputs": [],
   "source": [
    "#net histogram of the time difference with phi, eta\n",
    "import matplotlib.pyplot as plt\n",
    "import numpy as np\n",
    "from mpl_toolkits.mplot3d import Axes3D\n",
    "\n",
    "hist, xedges, yedges = np.histogram2d(eta, phi, bins=30, range=[[-np.pi, np.pi], [-np.pi, np.pi]])\n",
    "\n",
    "# Prepare the grid for the surface plot\n",
    "xpos, ypos = np.meshgrid(xedges[:-1] + 0.5 * (xedges[1] - xedges[0]),\n",
    "                         yedges[:-1] + 0.5 * (yedges[1] - yedges[0]),\n",
    "                         indexing=\"ij\")\n",
    "\n",
    "# Initialize the 3D plot\n",
    "fig = plt.figure()\n",
    "ax = fig.add_subplot(111, projection='3d')\n",
    "\n",
    "# Plot the surface\n",
    "ax.plot_surface(xpos, ypos, hist, cmap='plasma')\n",
    "\n",
    "# Set labels\n",
    "ax.set_xlabel('eta')\n",
    "ax.set_ylabel('phi')\n",
    "ax.set_zlabel('Count')\n",
    "\n",
    "# Set limits\n",
    "ax.set_xlim(-np.pi, np.pi)\n",
    "ax.set_ylim(-np.pi, np.pi)\n",
    "\n",
    "# Show the plot\n",
    "plt.show()\n"
   ]
  }
 ],
 "metadata": {
  "kernelspec": {
   "display_name": ".venv",
   "language": "python",
   "name": "python3"
  },
  "language_info": {
   "codemirror_mode": {
    "name": "ipython",
    "version": 3
   },
   "file_extension": ".py",
   "mimetype": "text/x-python",
   "name": "python",
   "nbconvert_exporter": "python",
   "pygments_lexer": "ipython3",
   "version": "3.10.4"
  }
 },
 "nbformat": 4,
 "nbformat_minor": 2
}
