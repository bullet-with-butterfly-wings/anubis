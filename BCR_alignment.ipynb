{
 "cells": [
  {
   "cell_type": "code",
   "execution_count": 2,
   "metadata": {},
   "outputs": [],
   "source": [
    "import importlib\n",
    "import sys\n",
    "from tqdm import tqdm\n",
    "import  os\n",
    "import pickle\n",
    "import glob\n",
    "from datetime import datetime\n",
    "import matplotlib.pyplot as plt\n",
    "# Add the directories to the sys.path\n",
    "dir_path = \"C://Users//jony//Programming//Python//Anubis//anubis//\" # insert your directory path\n",
    "sys.path.append(dir_path + \"Osiris//processing//python\")\n",
    "sys.path.append(dir_path + \"tools\")\n",
    "\n",
    "import Analysis_tools as ATools\n",
    "import Atlas_tools as AtTools\n",
    "import proAnubis_Analysis_Tools\n",
    "import Reconstruction_tools as RTools\n",
    "import numpy as np\n",
    "import mplhep as hep\n",
    "import Timing_tools as TTools\n",
    "import gc\n",
    "import pickle\n",
    "import overview\n",
    "import rawFileReader\n",
    "import Visual_tools as VTools\n",
    "hep.style.use([hep.style.ATLAS])\n",
    "\n",
    "dir = \"C://Users//jony//Programming//Python//Anubis//anubis//data//\"\n",
    "\n",
    "# Specify the directory\n"
   ]
  },
  {
   "cell_type": "code",
   "execution_count": 3,
   "metadata": {},
   "outputs": [
    {
     "name": "stdout",
     "output_type": "stream",
     "text": [
      "New\n",
      "2024-09-05 05:35:00.028855\n",
      "1725510900.028855\n"
     ]
    },
    {
     "name": "stderr",
     "output_type": "stream",
     "text": [
      "Skipping proAnubis_240905_0635.raw: 3441.4411067962646tdc5 Reads [04:38, 12.34tdc5 Reads/s]                  \n"
     ]
    },
    {
     "name": "stdout",
     "output_type": "stream",
     "text": [
      "2024-09-05 06:32:21.469962\n"
     ]
    },
    {
     "name": "stderr",
     "output_type": "stream",
     "text": [
      "Reading proAnubis_240905_0635.raw:   5%|▍         | 51/1083 [00:13<04:29,  3.83seconds/s]"
     ]
    },
    {
     "name": "stdout",
     "output_type": "stream",
     "text": [
      "Event time: 2024-09-05 06:33:11.337475\n",
      "Timestamp: 1725514391.337475\n"
     ]
    },
    {
     "name": "stderr",
     "output_type": "stream",
     "text": [
      "Reading proAnubis_240905_0635.raw:  10%|▉         | 104/1083 [00:31<05:08,  3.18seconds/s]"
     ]
    },
    {
     "name": "stdout",
     "output_type": "stream",
     "text": [
      "Event time: 2024-09-05 06:34:04.449301\n",
      "Timestamp: 1725514444.449301\n"
     ]
    },
    {
     "name": "stderr",
     "output_type": "stream",
     "text": [
      "Reading proAnubis_240905_0635.raw:  15%|█▍        | 158/1083 [00:52<05:21,  2.87seconds/s]"
     ]
    },
    {
     "name": "stdout",
     "output_type": "stream",
     "text": [
      "Event time: 2024-09-05 06:34:58.343511\n",
      "Timestamp: 1725514498.343511\n"
     ]
    },
    {
     "name": "stderr",
     "output_type": "stream",
     "text": [
      "Reading proAnubis_240905_0635.raw:  19%|█▉        | 207/1083 [01:13<05:29,  2.66seconds/s]"
     ]
    },
    {
     "name": "stdout",
     "output_type": "stream",
     "text": [
      "Event time: 2024-09-05 06:35:47.671516\n",
      "Timestamp: 1725514547.671516\n"
     ]
    },
    {
     "name": "stderr",
     "output_type": "stream",
     "text": [
      "Reading proAnubis_240905_0635.raw:  24%|██▍       | 261/1083 [01:36<05:24,  2.53seconds/s]"
     ]
    },
    {
     "name": "stdout",
     "output_type": "stream",
     "text": [
      "Event time: 2024-09-05 06:36:41.929857\n",
      "Timestamp: 1725514601.929857\n"
     ]
    },
    {
     "name": "stderr",
     "output_type": "stream",
     "text": [
      "Reading proAnubis_240905_0635.raw:  29%|██▉       | 316/1083 [02:02<05:23,  2.37seconds/s]"
     ]
    },
    {
     "name": "stdout",
     "output_type": "stream",
     "text": [
      "Event time: 2024-09-05 06:37:36.787533\n",
      "Timestamp: 1725514656.787533\n"
     ]
    },
    {
     "name": "stderr",
     "output_type": "stream",
     "text": [
      "Reading proAnubis_240905_0635.raw:  34%|███▍      | 369/1083 [02:30<05:28,  2.18seconds/s]"
     ]
    },
    {
     "name": "stdout",
     "output_type": "stream",
     "text": [
      "Event time: 2024-09-05 06:38:29.718010\n",
      "Timestamp: 1725514709.71801\n"
     ]
    },
    {
     "name": "stderr",
     "output_type": "stream",
     "text": [
      "Reading proAnubis_240905_0635.raw:  39%|███▉      | 422/1083 [03:02<05:30,  2.00seconds/s]"
     ]
    },
    {
     "name": "stdout",
     "output_type": "stream",
     "text": [
      "Event time: 2024-09-05 06:39:22.466614\n",
      "Timestamp: 1725514762.466614\n"
     ]
    },
    {
     "name": "stderr",
     "output_type": "stream",
     "text": [
      "Reading proAnubis_240905_0635.raw:  44%|████▍     | 475/1083 [04:02<07:03,  1.43seconds/s]"
     ]
    },
    {
     "name": "stdout",
     "output_type": "stream",
     "text": [
      "Event time: 2024-09-05 06:40:14.971471\n",
      "Timestamp: 1725514814.971471\n"
     ]
    },
    {
     "name": "stderr",
     "output_type": "stream",
     "text": [
      "Reading proAnubis_240905_0635.raw:  49%|████▊     | 527/1083 [05:03<07:50,  1.18seconds/s]"
     ]
    },
    {
     "name": "stdout",
     "output_type": "stream",
     "text": [
      "Event time: 2024-09-05 06:41:07.260961\n",
      "Timestamp: 1725514867.260961\n"
     ]
    },
    {
     "name": "stderr",
     "output_type": "stream",
     "text": [
      "Reading proAnubis_240905_0635.raw:  54%|█████▎    | 580/1083 [07:18<11:27,  1.37s/seconds]"
     ]
    },
    {
     "name": "stdout",
     "output_type": "stream",
     "text": [
      "Event time: 2024-09-05 06:41:59.976777\n",
      "Timestamp: 1725514919.976777\n"
     ]
    },
    {
     "name": "stderr",
     "output_type": "stream",
     "text": [
      "Reading proAnubis_240905_0635.raw:  58%|█████▊    | 632/1083 [07:57<08:51,  1.18s/seconds]"
     ]
    },
    {
     "name": "stdout",
     "output_type": "stream",
     "text": [
      "Event time: 2024-09-05 06:42:52.380086\n",
      "Timestamp: 1725514972.380086\n"
     ]
    },
    {
     "name": "stderr",
     "output_type": "stream",
     "text": [
      "Reading proAnubis_240905_0635.raw:  58%|█████▊    | 632/1083 [17:03<12:10,  1.62s/seconds]\n"
     ]
    },
    {
     "ename": "KeyboardInterrupt",
     "evalue": "",
     "output_type": "error",
     "traceback": [
      "\u001b[1;31m---------------------------------------------------------------------------\u001b[0m",
      "\u001b[1;31mKeyboardInterrupt\u001b[0m                         Traceback (most recent call last)",
      "Cell \u001b[1;32mIn[3], line 39\u001b[0m\n\u001b[0;32m     37\u001b[0m analyser\u001b[38;5;241m.\u001b[39manubis_data \u001b[38;5;241m=\u001b[39m []\n\u001b[0;32m     38\u001b[0m \u001b[38;5;28;01mtry\u001b[39;00m:\n\u001b[1;32m---> 39\u001b[0m     \u001b[43manalyser\u001b[49m\u001b[38;5;241;43m.\u001b[39;49m\u001b[43mget_tdc5_data\u001b[49m\u001b[43m(\u001b[49m\u001b[43mfile_name\u001b[49m\u001b[43m,\u001b[49m\u001b[43m \u001b[49m\u001b[38;5;241;43m1\u001b[39;49m\u001b[43m,\u001b[49m\u001b[43m \u001b[49m\u001b[38;5;241;43m2\u001b[39;49m\u001b[43m,\u001b[49m\u001b[43m \u001b[49m\u001b[43mamount_of_events\u001b[49m\u001b[38;5;241;43m=\u001b[39;49m\u001b[38;5;241;43m20_000\u001b[39;49m\u001b[43m)\u001b[49m\n\u001b[0;32m     40\u001b[0m \u001b[38;5;28;01mexcept\u001b[39;00m \u001b[38;5;167;01mEOFError\u001b[39;00m:\n\u001b[0;32m     41\u001b[0m     file_name \u001b[38;5;241m=\u001b[39m \u001b[38;5;124m\"\u001b[39m\u001b[38;5;124mproAnubis_240905_0635.raw\u001b[39m\u001b[38;5;124m\"\u001b[39m\n",
      "File \u001b[1;32mC:\\/Users//jony//Programming//Python//Anubis//anubis//tools\\Atlas_tools.py:286\u001b[0m, in \u001b[0;36mAtlasAnalyser.get_tdc5_data\u001b[1;34m(self, file_name, trigger_channel, bcr_channel, amount_of_events)\u001b[0m\n\u001b[0;32m    284\u001b[0m \u001b[38;5;28;01mwhile\u001b[39;00m i \u001b[38;5;241m<\u001b[39m amount_of_events:\n\u001b[0;32m    285\u001b[0m     \u001b[38;5;28;01mif\u001b[39;00m \u001b[38;5;129;01mnot\u001b[39;00m fromPKL:\n\u001b[1;32m--> 286\u001b[0m         \u001b[38;5;28;01mif\u001b[39;00m \u001b[38;5;129;01mnot\u001b[39;00m \u001b[38;5;28;43mself\u001b[39;49m\u001b[38;5;241;43m.\u001b[39;49m\u001b[43mfReader\u001b[49m\u001b[38;5;241;43m.\u001b[39;49m\u001b[43mreadBlock\u001b[49m\u001b[43m(\u001b[49m\u001b[43m)\u001b[49m:\n\u001b[0;32m    287\u001b[0m             \u001b[38;5;28;01mraise\u001b[39;00m \u001b[38;5;167;01mEOFError\u001b[39;00m(\u001b[38;5;124m\"\u001b[39m\u001b[38;5;124mYou have reached the end of the file\u001b[39m\u001b[38;5;124m\"\u001b[39m)\n\u001b[0;32m    289\u001b[0m         \u001b[38;5;28;01mif\u001b[39;00m(\u001b[38;5;28mself\u001b[39m\u001b[38;5;241m.\u001b[39mfReader\u001b[38;5;241m.\u001b[39mhasEvents()):\n",
      "File \u001b[1;32mC:\\/Users//jony//Programming//Python//Anubis//anubis//Osiris//processing//python\\rawFileReader.py:223\u001b[0m, in \u001b[0;36mfileReader.readBlock\u001b[1;34m(self, p)\u001b[0m\n\u001b[0;32m    221\u001b[0m     \u001b[38;5;28mprint\u001b[39m(\u001b[38;5;124m\"\u001b[39m\u001b[38;5;124mGoing to over-read the file. Corrupted number of bytes? Header is\u001b[39m\u001b[38;5;124m\"\u001b[39m, \u001b[38;5;28mhex\u001b[39m(leadWords[\u001b[38;5;241m2\u001b[39m]))\n\u001b[0;32m    222\u001b[0m     \u001b[38;5;28;01mreturn\u001b[39;00m \u001b[38;5;28;01mFalse\u001b[39;00m\n\u001b[1;32m--> 223\u001b[0m tdcReadData \u001b[38;5;241m=\u001b[39m \u001b[38;5;28;43mself\u001b[39;49m\u001b[38;5;241;43m.\u001b[39;49m\u001b[43mdata\u001b[49m\u001b[38;5;241;43m.\u001b[39;49m\u001b[43mread\u001b[49m\u001b[43m(\u001b[49m\u001b[43mnWords\u001b[49m\u001b[38;5;241;43m*\u001b[39;49m\u001b[38;5;28;43mself\u001b[39;49m\u001b[38;5;241;43m.\u001b[39;49m\u001b[43mwordSize\u001b[49m\u001b[43m)\u001b[49m\n\u001b[0;32m    224\u001b[0m \u001b[38;5;28mself\u001b[39m\u001b[38;5;241m.\u001b[39mbytesRead \u001b[38;5;241m=\u001b[39m \u001b[38;5;28mself\u001b[39m\u001b[38;5;241m.\u001b[39mbytesRead\u001b[38;5;241m+\u001b[39m\u001b[38;5;28mself\u001b[39m\u001b[38;5;241m.\u001b[39mwordSize\u001b[38;5;241m*\u001b[39m(nWords\u001b[38;5;241m+\u001b[39m\u001b[38;5;241m3\u001b[39m)\n\u001b[0;32m    225\u001b[0m \u001b[38;5;28mself\u001b[39m\u001b[38;5;241m.\u001b[39mevtBuilder\u001b[38;5;241m.\u001b[39maddTDCRead(thisTDC, thisTime, tdcReadData, p)\n",
      "\u001b[1;31mKeyboardInterrupt\u001b[0m: "
     ]
    }
   ],
   "source": [
    "importlib.reload(AtTools)\n",
    "analyser = AtTools.AtlasAnalyser()\n",
    "start = \"2024-09-05 06:43:00\" \n",
    "end = \"2024-09-05 07:10:23\"\n",
    "file_name = \"proAnubis_240905_0635.raw\"\n",
    "\n",
    "analyser.get_tdc5_data(file_name, 1, 2, 100)\n",
    "initial_time = analyser.anubis_data[0].event_time\n",
    "print(initial_time)\n",
    "print(datetime.timestamp(initial_time))\n",
    "event_time = initial_time\n",
    "\n",
    "start = datetime.strptime(start, '%Y-%m-%d %H:%M:%S')\n",
    "end = datetime.strptime(end, '%Y-%m-%d %H:%M:%S')\n",
    "previous_event_time = initial_time\n",
    "with tqdm(total=round((start-initial_time).total_seconds()), desc=f\"Skipping {file_name}\", unit='tdc5 Reads') as pbar:\n",
    "    while event_time < start:\n",
    "        analyser.fReader.skip_events(20_000)\n",
    "        event_time = None\n",
    "        while not event_time:\n",
    "            if not analyser.fReader.readBlock():\n",
    "                    raise EOFError(\"You have reached the end of the file\")\n",
    "            if analyser.fReader.hasEvents():\n",
    "                tdc5Reads = analyser.fReader.getTDCFiveEvents()\n",
    "                if not tdc5Reads:\n",
    "                    continue\n",
    "                else:\n",
    "                    event_time = tdc5Reads[0][0]\n",
    "                    pbar.update(event_time.timestamp() - previous_event_time.timestamp())\n",
    "                    previous_event_time = event_time\n",
    "\n",
    "previous_event_time = start\n",
    "print(event_time)\n",
    "with tqdm(total=round((end-start).total_seconds()), desc=f\"Reading {file_name}\", unit='seconds') as pbar:        \n",
    "    while event_time < end:\n",
    "        gc.disable()\n",
    "        analyser.anubis_data = []\n",
    "        try:\n",
    "            analyser.get_tdc5_data(file_name, 1, 2, amount_of_events=20_000)\n",
    "        except EOFError:\n",
    "            file_name = \"proAnubis_240905_0635.raw\"\n",
    "    \n",
    "        event_time = analyser.anubis_data[-1].event_time\n",
    "        print(\"Event time:\", event_time)\n",
    "        print(\"Timestamp:\", analyser.anubis_data[-1].timeStamp)\n",
    "        pbar.update(round(event_time.timestamp()- previous_event_time.timestamp()))\n",
    "        previous_event_time = event_time\n",
    "        with open(dir + f\"correct_bcr//{round(event_time.timestamp())}\", \"wb\") as f:\n",
    "            pickle.dump(analyser.anubis_data, f)\n",
    "        gc.enable()\n",
    "        gc.collect()\n",
    "        \n",
    "\n",
    "            "
   ]
  },
  {
   "cell_type": "code",
   "execution_count": 42,
   "metadata": {},
   "outputs": [
    {
     "name": "stderr",
     "output_type": "stream",
     "text": [
      " 76%|███████▌  | 25/33 [01:08<00:21,  2.73s/it]\n"
     ]
    },
    {
     "ename": "KeyboardInterrupt",
     "evalue": "",
     "output_type": "error",
     "traceback": [
      "\u001b[1;31m---------------------------------------------------------------------------\u001b[0m",
      "\u001b[1;31mKeyboardInterrupt\u001b[0m                         Traceback (most recent call last)",
      "Cell \u001b[1;32mIn[42], line 11\u001b[0m\n\u001b[0;32m      9\u001b[0m gc\u001b[38;5;241m.\u001b[39mdisable()\n\u001b[0;32m     10\u001b[0m \u001b[38;5;28;01mwith\u001b[39;00m \u001b[38;5;28mopen\u001b[39m(\u001b[38;5;124mf\u001b[39m\u001b[38;5;124m\"\u001b[39m\u001b[38;5;124mdata//correct_bcr//\u001b[39m\u001b[38;5;132;01m{\u001b[39;00mdata\u001b[38;5;132;01m}\u001b[39;00m\u001b[38;5;124m\"\u001b[39m, \u001b[38;5;124m\"\u001b[39m\u001b[38;5;124mrb\u001b[39m\u001b[38;5;124m\"\u001b[39m) \u001b[38;5;28;01mas\u001b[39;00m f:\n\u001b[1;32m---> 11\u001b[0m     analyser\u001b[38;5;241m.\u001b[39manubis_data \u001b[38;5;241m+\u001b[39m\u001b[38;5;241m=\u001b[39m \u001b[43mpickle\u001b[49m\u001b[38;5;241;43m.\u001b[39;49m\u001b[43mload\u001b[49m\u001b[43m(\u001b[49m\u001b[43mf\u001b[49m\u001b[43m)\u001b[49m\n\u001b[0;32m     12\u001b[0m trigger_rates, trigger_times \u001b[38;5;241m=\u001b[39m analyser\u001b[38;5;241m.\u001b[39mtrigger_rates()\n\u001b[0;32m     13\u001b[0m rates\u001b[38;5;241m.\u001b[39mextend(trigger_rates)\n",
      "\u001b[1;31mKeyboardInterrupt\u001b[0m: "
     ]
    }
   ],
   "source": [
    "importlib.reload(AtTools)\n",
    "\n",
    "analyser = AtTools.AtlasAnalyser() # 784_480\n",
    "data_list = sorted([f for f in os.listdir(\"data//correct_bcr\") if os.path.isfile(os.path.join(\"data//correct_bcr\", f))], key=lambda x: int(x[3:-4]))\n",
    "rates = []\n",
    "times = []\n",
    "with tqdm(total=len(data_list)) as pbar:\n",
    "    for data in data_list:\n",
    "        gc.disable()\n",
    "        with open(f\"data//correct_bcr//{data}\", \"rb\") as f:\n",
    "            analyser.anubis_data += pickle.load(f)\n",
    "        analyser.get\n",
    "\n",
    "        pbar.update(1)\n",
    "        gc.enable()\n",
    "        gc.collect()\n",
    "print(len(rates)) \n"
   ]
  },
  {
   "cell_type": "code",
   "execution_count": 23,
   "metadata": {},
   "outputs": [
    {
     "name": "stderr",
     "output_type": "stream",
     "text": [
      "Matching: 0Events [00:00, ?Events/s]s]\n",
      "Matching: 0Events [00:00, ?Events/s] 5.46s/it]\n",
      "Matching: 0Events [00:00, ?Events/s] 6.91s/it]\n",
      "Matching: 0Events [00:00, ?Events/s] 6.16s/it]\n",
      "Matching: 0Events [00:00, ?Events/s] 5.81s/it]\n",
      "Matching: 100%|██████████| 944/944 [00:17<00:00, 52.60Events/s]\n",
      "Matching: 100%|██████████| 1514/1514 [00:28<00:00, 52.73Events/s]\n",
      "Matching: 100%|██████████| 1520/1520 [00:29<00:00, 51.48Events/s] \n",
      "Matching: 100%|██████████| 1856/1856 [00:35<00:00, 51.65Events/s]\n",
      "Matching: 100%|██████████| 335/335 [00:06<00:00, 49.02Events/s]\n",
      "Matching: 100%|██████████| 1228/1228 [00:23<00:00, 52.02Events/s] \n",
      "Matching: 100%|██████████| 1872/1872 [00:37<00:00, 49.87Events/s]\n",
      "Matching: 100%|██████████| 1879/1879 [00:38<00:00, 48.64Events/s]\n",
      "Matching: 100%|██████████| 1841/1841 [00:38<00:00, 48.17Events/s]\n",
      "Matching: 100%|██████████| 96/96 [00:02<00:00, 43.97Events/s]\n",
      "Matching: 0Events [00:00, ?Events/s] 29.43s/it]\n",
      "Matching: 0Events [00:00, ?Events/s] 22.34s/it]\n",
      "Matching: 0Events [00:00, ?Events/s] 17.42s/it]\n",
      "Matching: 0Events [00:00, ?Events/s] 13.93s/it]\n",
      "Matching: 0Events [00:00, ?Events/s] 11.48s/it]\n",
      "Matching: 100%|██████████| 85/85 [00:01<00:00, 50.63Events/s]\n",
      "Matching: 100%|██████████| 1855/1855 [00:39<00:00, 46.82Events/s]\n",
      "Matching: 100%|██████████| 1818/1818 [00:38<00:00, 46.73Events/s]\n",
      "Matching: 100%|██████████| 1817/1817 [00:38<00:00, 47.18Events/s]\n",
      "Matching: 100%|██████████| 1818/1818 [00:38<00:00, 47.10Events/s]\n",
      "Matching: 100%|██████████| 1899/1899 [00:40<00:00, 47.03Events/s]\n",
      "Matching: 100%|██████████| 919/919 [00:18<00:00, 48.83Events/s] \n",
      "Matching: 100%|██████████| 1846/1846 [00:38<00:00, 47.91Events/s]\n",
      "Matching: 100%|██████████| 2254/2254 [00:48<00:00, 46.52Events/s]\n",
      "Matching: 100%|██████████| 2307/2307 [00:49<00:00, 46.48Events/s]\n",
      "Matching: 100%|██████████| 2191/2191 [00:46<00:00, 46.89Events/s]\n",
      "Matching: 100%|██████████| 2139/2139 [00:46<00:00, 46.16Events/s]\n",
      "Matching: 100%|██████████| 2341/2341 [00:50<00:00, 46.68Events/s] \n",
      "Matching: 100%|██████████| 2243/2243 [00:48<00:00, 46.10Events/s]\n",
      "Matching: 100%|██████████| 2033/2033 [00:44<00:00, 45.41Events/s]\n",
      "Matching: 100%|██████████| 2323/2323 [00:51<00:00, 44.76Events/s]\n",
      "Matching: 100%|██████████| 2268/2268 [00:51<00:00, 44.43Events/s]\n",
      "Matching: 100%|██████████| 2249/2249 [00:50<00:00, 44.97Events/s]\n",
      "Matching: 100%|██████████| 2207/2207 [00:49<00:00, 44.91Events/s]\n",
      "Matching: 100%|██████████| 1991/1991 [00:43<00:00, 45.91Events/s] \n",
      "Matching: 100%|██████████| 2589/2589 [00:56<00:00, 45.51Events/s]\n",
      "Matching: 100%|██████████| 2773/2773 [01:00<00:00, 45.55Events/s] \n",
      "Matching: 100%|██████████| 2871/2871 [01:03<00:00, 45.09Events/s]\n",
      "Matching: 100%|██████████| 2947/2947 [01:06<00:00, 44.54Events/s]\n",
      "Matching: 100%|██████████| 2932/2932 [01:05<00:00, 44.46Events/s] \n",
      "Matching: 100%|██████████| 2862/2862 [01:05<00:00, 43.96Events/s]\n",
      "Matching: 100%|██████████| 2867/2867 [01:05<00:00, 44.01Events/s]\n",
      "Matching: 100%|██████████| 2992/2992 [01:08<00:00, 43.55Events/s]\n",
      "Matching: 100%|██████████| 2929/2929 [01:07<00:00, 43.53Events/s]\n",
      "Matching: 100%|██████████| 2843/2843 [01:05<00:00, 43.69Events/s]\n",
      "Matching: 100%|██████████| 2866/2866 [01:06<00:00, 43.26Events/s]\n",
      "Matching: 100%|██████████| 2937/2937 [01:08<00:00, 42.79Events/s]\n",
      "Matching: 100%|██████████| 2544/2544 [00:58<00:00, 43.13Events/s] \n",
      "Matching: 100%|██████████| 2911/2911 [01:08<00:00, 42.62Events/s]\n",
      "Matching: 100%|██████████| 2633/2633 [01:02<00:00, 42.09Events/s]\n",
      "Matching: 100%|██████████| 2619/2619 [01:00<00:00, 43.07Events/s] \n",
      "Matching: 100%|██████████| 2892/2892 [01:08<00:00, 41.99Events/s] \n",
      "Matching: 100%|██████████| 2931/2931 [01:07<00:00, 43.19Events/s] \n",
      "Matching: 100%|██████████| 2642/2642 [01:01<00:00, 43.29Events/s] \n",
      "Matching: 100%|██████████| 2949/2949 [01:08<00:00, 42.90Events/s]\n",
      "Matching: 100%|██████████| 2882/2882 [01:08<00:00, 41.86Events/s]\n",
      "Matching: 100%|██████████| 2483/2483 [00:59<00:00, 41.84Events/s]\n",
      "Matching: 100%|██████████| 2716/2716 [01:05<00:00, 41.75Events/s]\n",
      "Matching: 100%|██████████| 2562/2562 [01:00<00:00, 42.13Events/s]\n",
      "Matching: 100%|██████████| 2791/2791 [01:06<00:00, 41.73Events/s]\n",
      "Matching: 100%|██████████| 2895/2895 [01:08<00:00, 41.98Events/s] \n",
      "Matching: 100%|██████████| 2868/2868 [01:08<00:00, 41.83Events/s] \n",
      "Matching: 100%|██████████| 2608/2608 [01:02<00:00, 41.99Events/s]\n",
      "Matching: 100%|██████████| 2722/2722 [01:06<00:00, 41.03Events/s] \n",
      "Matching: 100%|██████████| 2789/2789 [01:07<00:00, 41.27Events/s]\n",
      "Matching: 100%|██████████| 2725/2725 [01:06<00:00, 41.26Events/s] \n",
      "Matching: 100%|██████████| 2855/2855 [01:08<00:00, 41.57Events/s]\n",
      "100%|██████████| 72/72 [1:09:13<00:00, 57.68s/it] \n"
     ]
    }
   ],
   "source": [
    "importlib.reload(AtTools)\n",
    "atlas_file = \"C://Users//jony//Programming//Python//Anubis//anubis//data//dataAtlas2.root\"\n",
    "analyser = AtTools.AtlasAnalyser() # 784_480\n",
    "data_list = sorted([f for f in os.listdir(\"data//correct_bcr\") if os.path.isfile(os.path.join(\"data//correct_bcr\", f))], key=lambda x: int(x[3:-4]))\n",
    "total_matches = []\n",
    "times = []\n",
    "trigger_rates = []\n",
    "with tqdm(total=len(data_list)) as pbar:\n",
    "    for i, data in enumerate(data_list):\n",
    "        gc.disable()\n",
    "        with open(f\"data//correct_bcr//{data}\", \"rb\") as f:\n",
    "            analyser.anubis_data += pickle.load(f)\n",
    "        analyser.get_atlas_data(atlas_file)\n",
    "        analyser.atlas_data = analyser.atlas_data[(analyser.anubis_data[0].timeStamp < analyser.atlas_data[\"TimeStamp\"]) & (analyser.atlas_data[\"TimeStamp\"] < analyser.anubis_data[-1].timeStamp)]\n",
    "        analyser.match_bcrs()\n",
    "        total_matches.extend(analyser.matches)\n",
    "        tr, ti = analyser.trigger_rates()\n",
    "        trigger_rates.append(tr)\n",
    "        times.append(ti)\n",
    "        analyser.anubis_data = []\n",
    "        pbar.update(1)\n",
    "        gc.enable()\n",
    "        gc.collect()\n",
    "        if i % 10 == 0:\n",
    "            with open(\"data//total_matches_400\", \"wb\") as f:\n",
    "                pickle.dump(total_matches, f)\n",
    "\n"
   ]
  },
  {
   "cell_type": "code",
   "execution_count": 45,
   "metadata": {},
   "outputs": [],
   "source": [
    "data = analyser.anubis_data.copy()"
   ]
  },
  {
   "cell_type": "code",
   "execution_count": 46,
   "metadata": {},
   "outputs": [],
   "source": [
    "importlib.reload(AtTools)\n",
    "analyser = AtTools.AtlasAnalyser()\n",
    "analyser.anubis_data = data.copy()"
   ]
  },
  {
   "cell_type": "code",
   "execution_count": null,
   "metadata": {},
   "outputs": [],
   "source": [
    "#generate random data\n",
    "importlib.reload(ATools)\n",
    "data = AtTools.generate_random_triggers(1_000_000)\n",
    "hist, bins = np.histogram(data, bins=list(range(0, 3654)), density=True)\n",
    "plt.plot(bins[:-1], hist)\n",
    "plt.title(\"Random triggers\")\n",
    "plt.xlabel(\"Bunch Crossings [bx]\")\n",
    "plt.ylabel(\"Frequency\")\n",
    "plt.show()"
   ]
  },
  {
   "cell_type": "code",
   "execution_count": 3,
   "metadata": {},
   "outputs": [
    {
     "name": "stdout",
     "output_type": "stream",
     "text": [
      "Loading done\n"
     ]
    }
   ],
   "source": [
    "#Atlas load\n",
    "importlib.reload(AtTools)\n",
    "atlas_file = \"C://Users//jony//Programming//Python//Anubis//anubis//data//dataAtlas2.root\"\n",
    "analyser.get_atlas_data(atlas_file)\n",
    "print(\"Loading done\")"
   ]
  },
  {
   "cell_type": "code",
   "execution_count": 20,
   "metadata": {},
   "outputs": [
    {
     "name": "stdout",
     "output_type": "stream",
     "text": [
      "Anubis len: 0\n",
      "ATLAS len: 942478\n",
      "Atlas first: 1725509842\n"
     ]
    },
    {
     "ename": "IndexError",
     "evalue": "list index out of range",
     "output_type": "error",
     "traceback": [
      "\u001b[1;31m---------------------------------------------------------------------------\u001b[0m",
      "\u001b[1;31mIndexError\u001b[0m                                Traceback (most recent call last)",
      "Cell \u001b[1;32mIn[20], line 5\u001b[0m\n\u001b[0;32m      3\u001b[0m \u001b[38;5;28mprint\u001b[39m(\u001b[38;5;124m\"\u001b[39m\u001b[38;5;124mATLAS len:\u001b[39m\u001b[38;5;124m\"\u001b[39m, \u001b[38;5;28mlen\u001b[39m(analyser\u001b[38;5;241m.\u001b[39matlas_data))\n\u001b[0;32m      4\u001b[0m \u001b[38;5;28mprint\u001b[39m(\u001b[38;5;124m\"\u001b[39m\u001b[38;5;124mAtlas first:\u001b[39m\u001b[38;5;124m\"\u001b[39m,analyser\u001b[38;5;241m.\u001b[39matlas_data\u001b[38;5;241m.\u001b[39miloc[\u001b[38;5;241m0\u001b[39m][\u001b[38;5;124m\"\u001b[39m\u001b[38;5;124mTimeStamp\u001b[39m\u001b[38;5;124m\"\u001b[39m])\n\u001b[1;32m----> 5\u001b[0m \u001b[38;5;28mprint\u001b[39m(\u001b[38;5;124m\"\u001b[39m\u001b[38;5;124mAnubis first:\u001b[39m\u001b[38;5;124m\"\u001b[39m,\u001b[43manalyser\u001b[49m\u001b[38;5;241;43m.\u001b[39;49m\u001b[43manubis_data\u001b[49m\u001b[43m[\u001b[49m\u001b[38;5;241;43m0\u001b[39;49m\u001b[43m]\u001b[49m\u001b[38;5;241m.\u001b[39mtimeStamp)\n\u001b[0;32m      6\u001b[0m \u001b[38;5;28mprint\u001b[39m(\u001b[38;5;124m\"\u001b[39m\u001b[38;5;124mAtlas last:\u001b[39m\u001b[38;5;124m\"\u001b[39m, analyser\u001b[38;5;241m.\u001b[39matlas_data\u001b[38;5;241m.\u001b[39miloc[\u001b[38;5;241m-\u001b[39m\u001b[38;5;241m1\u001b[39m][\u001b[38;5;124m\"\u001b[39m\u001b[38;5;124mTimeStamp\u001b[39m\u001b[38;5;124m\"\u001b[39m])\n\u001b[0;32m      7\u001b[0m \u001b[38;5;28mprint\u001b[39m(\u001b[38;5;124m\"\u001b[39m\u001b[38;5;124mAnubis last:\u001b[39m\u001b[38;5;124m\"\u001b[39m, analyser\u001b[38;5;241m.\u001b[39manubis_data[\u001b[38;5;241m-\u001b[39m\u001b[38;5;241m1\u001b[39m]\u001b[38;5;241m.\u001b[39mtimeStamp)\n",
      "\u001b[1;31mIndexError\u001b[0m: list index out of range"
     ]
    }
   ],
   "source": [
    "#Basic analysis\n",
    "print(\"Anubis len:\", len(analyser.anubis_data))\n",
    "print(\"ATLAS len:\", len(analyser.atlas_data))\n",
    "print(\"Atlas first:\",analyser.atlas_data.iloc[0][\"TimeStamp\"])\n",
    "print(\"Anubis first:\",analyser.anubis_data[0].timeStamp)\n",
    "print(\"Atlas last:\", analyser.atlas_data.iloc[-1][\"TimeStamp\"])\n",
    "print(\"Anubis last:\", analyser.anubis_data[-1].timeStamp)"
   ]
  },
  {
   "cell_type": "code",
   "execution_count": 9,
   "metadata": {},
   "outputs": [],
   "source": [
    "#Trigger rates\n",
    "trigger_rates, times = analyser.trigger_rates()\n",
    "hist, bins = analyser.beam_luminosity()\n",
    "hist = max(trigger_rates)/max(hist)*hist\n",
    "\n",
    "plt.plot(bins[:-1], hist, label=\"Luminosity ATLAS\")\n",
    "plt.step(times, trigger_rates, where=\"post\", label=\"Trigger rates\")\n",
    "plt.legend()\n",
    "plt.xlabel(\"TimeStamp\")\n",
    "#plt.xlim([times[0], times[-1]])\n",
    "plt.show()\n"
   ]
  },
  {
   "cell_type": "code",
   "execution_count": 8,
   "metadata": {},
   "outputs": [],
   "source": [
    "#Same times\n",
    "analyser.atlas_data = analyser.atlas_data[(analyser.anubis_data[0].timeStamp < analyser.atlas_data[\"TimeStamp\"]) & (analyser.atlas_data[\"TimeStamp\"] < analyser.anubis_data[-1].timeStamp)]"
   ]
  },
  {
   "cell_type": "code",
   "execution_count": 13,
   "metadata": {},
   "outputs": [
    {
     "name": "stdout",
     "output_type": "stream",
     "text": [
      "Best offset 114\n"
     ]
    }
   ],
   "source": [
    "#Check offset\n",
    "AtTools.plot_offset(analyser)"
   ]
  },
  {
   "cell_type": "code",
   "execution_count": 7,
   "metadata": {},
   "outputs": [],
   "source": [
    "fake_trigger_rates = []\n",
    "for tr in trigger_rates:\n",
    "    fake_trigger_rates.extend(tr)\n",
    "\n",
    "fake_times = []\n",
    "for ti in times:\n",
    "    fake_times.extend(ti)\n",
    "\n",
    "atlas_file = \"C://Users//jony//Programming//Python//Anubis//anubis//data//dataAtlas2.root\"\n",
    "analyser.get_atlas_data(atlas_file)\n",
    "hist, bins = analyser.beam_luminosity()\n",
    "plt.plot(fake_times, fake_trigger_rates, label=\"Trigger rates\")\n",
    "plt.plot(bins[:-1], hist, label=\"Luminosity\")\n",
    "plt.show()"
   ]
  },
  {
   "cell_type": "code",
   "execution_count": 24,
   "metadata": {},
   "outputs": [],
   "source": [
    "analyser.matches = total_matches"
   ]
  },
  {
   "cell_type": "code",
   "execution_count": 10,
   "metadata": {},
   "outputs": [
    {
     "name": "stdout",
     "output_type": "stream",
     "text": [
      "Number of matches: 3105\n"
     ]
    }
   ],
   "source": [
    "analyser.match_bcrs() #34705\n",
    "\n",
    "print(\"Number of matches:\", len([1 for i in analyser.matches if i[1]]))"
   ]
  },
  {
   "cell_type": "code",
   "execution_count": 11,
   "metadata": {},
   "outputs": [
    {
     "name": "stdout",
     "output_type": "stream",
     "text": [
      "Number of matches: 3105\n"
     ]
    }
   ],
   "source": [
    "print(\"Number of matches:\", len([1 for i in analyser.matches if i[1]]))"
   ]
  },
  {
   "cell_type": "code",
   "execution_count": 25,
   "metadata": {},
   "outputs": [],
   "source": [
    "importlib.reload(AtTools)\n",
    "times, eta, phi, heatmap = AtTools.convert_matches(analyser.matches, 114)"
   ]
  },
  {
   "cell_type": "code",
   "execution_count": 29,
   "metadata": {},
   "outputs": [
    {
     "name": "stderr",
     "output_type": "stream",
     "text": [
      "100%|██████████| 3564/3564 [00:02<00:00, 1507.49it/s]\n"
     ]
    }
   ],
   "source": [
    "import background\n",
    "\n",
    "bg = background.calculate_background(anubis_data=analyser.anubis_data)\n"
   ]
  },
  {
   "cell_type": "code",
   "execution_count": 30,
   "metadata": {},
   "outputs": [],
   "source": [
    "#Position\n",
    "\n",
    "plt.hist2d(eta, phi, bins=30, cmap='plasma')\n",
    "plt.xlim(-2.5, 2.5)\n",
    "plt.ylim(-np.pi, np.pi)\n",
    "plt.xlabel(\"eta\")\n",
    "plt.ylabel(\"phi\")\n",
    "plt.colorbar()\n",
    "plt.show()"
   ]
  },
  {
   "cell_type": "code",
   "execution_count": 29,
   "metadata": {},
   "outputs": [],
   "source": [
    "# position 3d\n",
    "import matplotlib.pyplot as plt\n",
    "import numpy as np\n",
    "from mpl_toolkits.mplot3d import Axes3D\n",
    "hist, xedges, yedges = np.histogram2d(eta, phi, bins=30, range=[[-np.pi, np.pi], [-np.pi, np.pi]])\n",
    "\n",
    "xpos, ypos = np.meshgrid(xedges[:-1] + 0.5 * (xedges[1] - xedges[0]),\n",
    "                         yedges[:-1] + 0.5 * (yedges[1] - yedges[0]),\n",
    "                         indexing=\"ij\")\n",
    "\n",
    "# Initialize the 3D plot\n",
    "fig = plt.figure()\n",
    "ax = fig.add_subplot(111, projection='3d')\n",
    "\n",
    "# Plot the surface\n",
    "ax.plot_surface(xpos, ypos, hist, cmap='plasma')\n",
    "\n",
    "# Set labels\n",
    "ax.set_xlabel('eta')\n",
    "ax.set_ylabel('phi')\n",
    "ax.set_zlabel('Count')\n",
    "\n",
    "# Set limits\n",
    "ax.set_xlim(-np.pi, np.pi)\n",
    "ax.set_ylim(-np.pi, np.pi)\n",
    "plt.show()\n"
   ]
  },
  {
   "cell_type": "code",
   "execution_count": 28,
   "metadata": {},
   "outputs": [],
   "source": [
    "#times\n",
    "plt.hist(times, bins=range(min(times), max(times) + 2, 1), density=True)\n",
    "#plt.plot(range(0, 3564), bg)\n",
    "#plt.xlim(-100,100)\n",
    "plt.xlabel(\"Time difference (bx)\")\n",
    "#plt.xlim(-500,500)\n",
    "plt.ylabel(\"Frequency\")\n",
    "plt.title(\"Time difference between BCR and trigger\")\n",
    "plt.show()"
   ]
  },
  {
   "cell_type": "code",
   "execution_count": 21,
   "metadata": {},
   "outputs": [
    {
     "name": "stdout",
     "output_type": "stream",
     "text": [
      "Pearson coefficient: -0.003686873447099135\n",
      "p-value: 0.8177745494027553\n"
     ]
    }
   ],
   "source": [
    "#compute correlation from heatmap\n",
    "atlas = []#AtTools.generate_random_triggers(10_000_000)\n",
    "anubis = []#AtTools.generate_random_triggers(10_000_000)\n",
    "\n",
    "for i in range(len(heatmap)):\n",
    "    for j in range(len(heatmap[i])):\n",
    "        for count in range(heatmap[i][j]):\n",
    "            atlas.append(i)\n",
    "            anubis.append(j)\n",
    "\n",
    "from scipy.stats import pearsonr\n",
    "r, p = pearsonr(atlas, anubis)\n",
    "print(\"Pearson coefficient:\", r)\n",
    "print(\"p-value:\", p)\n"
   ]
  },
  {
   "cell_type": "code",
   "execution_count": 54,
   "metadata": {},
   "outputs": [
    {
     "name": "stdout",
     "output_type": "stream",
     "text": [
      "204801\n"
     ]
    }
   ],
   "source": [
    "print(len(atlas))"
   ]
  },
  {
   "cell_type": "code",
   "execution_count": 55,
   "metadata": {},
   "outputs": [],
   "source": [
    "#histogram of the matched bcrs\n",
    "anubis = []\n",
    "for match in analyser.matches:\n",
    "    if match[1] != []:\n",
    "        anubis.extend(match[1])\n",
    "hist = []\n",
    "for trigger in anubis:\n",
    "    hist.append(round(trigger.bcId))\n",
    "\n",
    "bins = [i-0.5 for i in range(0,3565)] #-0.5,0.5,...3653.5\n",
    "counts, _ = np.histogram(hist, bins=bins, density=False)\n",
    "bins = [i for i in range(0,3564)]\n",
    "plt.plot(bins, counts, color=\"orange\")\n",
    "\n",
    "plt.xlabel('Time since last BCR (ns)')\n",
    "plt.xlim(0, 3565)\n",
    "plt.ylabel('Frequency')\n",
    "plt.title(f'Histogram of BCID Anubis')\n",
    "plt.show()"
   ]
  },
  {
   "cell_type": "code",
   "execution_count": 43,
   "metadata": {},
   "outputs": [],
   "source": [
    "#heatmap\n",
    "plt.imshow(heatmap)\n",
    "plt.plot([i for i in range(3564)],[i for i in range(3564)], color = \"red\")\n",
    "plt.xlim(0, 3564)\n",
    "plt.ylim(0, 3564)\n",
    "#plt.gca().invert_yaxis()\n",
    "plt.xlabel(\"Atlas BX\")\n",
    "plt.ylabel(\"proANUBIS BX\")\n",
    "plt.title(\"Heatmap of BX matches\")\n",
    "plt.show()"
   ]
  }
 ],
 "metadata": {
  "kernelspec": {
   "display_name": ".venv",
   "language": "python",
   "name": "python3"
  },
  "language_info": {
   "codemirror_mode": {
    "name": "ipython",
    "version": 3
   },
   "file_extension": ".py",
   "mimetype": "text/x-python",
   "name": "python",
   "nbconvert_exporter": "python",
   "pygments_lexer": "ipython3",
   "version": "3.10.4"
  }
 },
 "nbformat": 4,
 "nbformat_minor": 2
}
