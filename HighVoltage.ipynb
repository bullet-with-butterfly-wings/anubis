{
 "cells": [
  {
   "cell_type": "code",
   "execution_count": 1,
   "metadata": {},
   "outputs": [],
   "source": [
    "import overview\n",
    "import importlib\n",
    "import rawFileReader\n",
    "import pickle\n",
    "from matplotlib.backends.backend_pdf import PdfPages\n",
    "import pandas as pd\n",
    "\n",
    "dir_path = \"C://Users//jony//Programming//Python//Anubis//anubis//\" # insert your directory path\n"
   ]
  },
  {
   "cell_type": "code",
   "execution_count": 2,
   "metadata": {},
   "outputs": [],
   "source": [
    "#Save chunks\n",
    "files = [\"proAnubis_240815_1759.raw\", \"proAnubis_240818_1125.raw\",\"proAnubis_240818_1125.raw\", \"proAnubis_240818_1325.raw\", \"proAnubis_240829_2026.raw\"]\n",
    "rpc = 4\n",
    "\n",
    "storage_name = f\"chunks_hv{rpc}.pkl\"\n",
    "file_name = files[rpc]\n",
    "\n",
    "hv_file = 'data/hvScan.csv'  # Replace with your file path\n",
    "hv_data = pd.read_csv(hv_file, usecols=[\"start_\"+str(rpc),\"end_\"+str(rpc),\"voltage_\"+str(rpc)])\n",
    "\n",
    "#rpc 0: 2024-08-15 17:24:22\t\n",
    "#rpc 1\t2024-08-18 11:39:42\n",
    "#rpc 2\t2024-08-18 12:22:21 \n"
   ]
  },
  {
   "cell_type": "code",
   "execution_count": 3,
   "metadata": {},
   "outputs": [
    {
     "name": "stdout",
     "output_type": "stream",
     "text": [
      "Voltage: 4000\n",
      "Initial time 2024-08-29 19:26:05.663040\n"
     ]
    },
    {
     "name": "stderr",
     "output_type": "stream",
     "text": [
      "Skipping Events proAnubis_240829_2026.raw:   3%|▎         | 37/1424 [00:42<26:36,  1.15s/Events]\n"
     ]
    },
    {
     "ename": "KeyboardInterrupt",
     "evalue": "",
     "output_type": "error",
     "traceback": [
      "\u001b[1;31m---------------------------------------------------------------------------\u001b[0m",
      "\u001b[1;31mKeyboardInterrupt\u001b[0m                         Traceback (most recent call last)",
      "Cell \u001b[1;32mIn[3], line 9\u001b[0m\n\u001b[0;32m      7\u001b[0m start \u001b[38;5;241m=\u001b[39m \u001b[38;5;124m\"\u001b[39m\u001b[38;5;124m2024-08-29 \u001b[39m\u001b[38;5;124m\"\u001b[39m \u001b[38;5;241m+\u001b[39m start \n\u001b[0;32m      8\u001b[0m end \u001b[38;5;241m=\u001b[39m \u001b[38;5;124m\"\u001b[39m\u001b[38;5;124m2024-08-29 \u001b[39m\u001b[38;5;124m\"\u001b[39m\u001b[38;5;241m+\u001b[39m end\n\u001b[1;32m----> 9\u001b[0m chunks, times, fReader \u001b[38;5;241m=\u001b[39m \u001b[43moverview\u001b[49m\u001b[38;5;241;43m.\u001b[39;49m\u001b[43mget_chunks\u001b[49m\u001b[43m(\u001b[49m\u001b[43mfile_name\u001b[49m\u001b[43m,\u001b[49m\u001b[43m \u001b[49m\u001b[43mfReader\u001b[49m\u001b[38;5;241;43m=\u001b[39;49m\u001b[43mfReader\u001b[49m\u001b[43m,\u001b[49m\u001b[43m \u001b[49m\u001b[43mstart\u001b[49m\u001b[38;5;241;43m=\u001b[39;49m\u001b[43mstart\u001b[49m\u001b[43m,\u001b[49m\u001b[43m \u001b[49m\u001b[43mend\u001b[49m\u001b[38;5;241;43m=\u001b[39;49m\u001b[43mend\u001b[49m\u001b[43m)\u001b[49m\n\u001b[0;32m     10\u001b[0m total_chunks\u001b[38;5;241m.\u001b[39mappend((voltage, times, chunks))\n",
      "File \u001b[1;32mc:\\Users\\jony\\Programming\\Python\\Anubis\\anubis\\overview.py:49\u001b[0m, in \u001b[0;36mget_chunks\u001b[1;34m(file_name, max_process_event, fReader, start, end, tdc5)\u001b[0m\n\u001b[0;32m     47\u001b[0m \u001b[38;5;28;01mwith\u001b[39;00m tqdm(total\u001b[38;5;241m=\u001b[39m\u001b[38;5;28mround\u001b[39m((goal\u001b[38;5;241m-\u001b[39mevent_time)\u001b[38;5;241m.\u001b[39mtotal_seconds()), desc\u001b[38;5;241m=\u001b[39m\u001b[38;5;124mf\u001b[39m\u001b[38;5;124m\"\u001b[39m\u001b[38;5;124mSkipping Events \u001b[39m\u001b[38;5;132;01m{\u001b[39;00mfile_name\u001b[38;5;132;01m}\u001b[39;00m\u001b[38;5;124m\"\u001b[39m, unit\u001b[38;5;241m=\u001b[39m\u001b[38;5;124m'\u001b[39m\u001b[38;5;124mEvents\u001b[39m\u001b[38;5;124m'\u001b[39m) \u001b[38;5;28;01mas\u001b[39;00m pbar:        \n\u001b[0;32m     48\u001b[0m     \u001b[38;5;28;01mwhile\u001b[39;00m event_time \u001b[38;5;241m<\u001b[39m datetime\u001b[38;5;241m.\u001b[39mstrptime(start, \u001b[38;5;124m'\u001b[39m\u001b[38;5;124m%\u001b[39m\u001b[38;5;124mY-\u001b[39m\u001b[38;5;124m%\u001b[39m\u001b[38;5;124mm-\u001b[39m\u001b[38;5;132;01m%d\u001b[39;00m\u001b[38;5;124m \u001b[39m\u001b[38;5;124m%\u001b[39m\u001b[38;5;124mH:\u001b[39m\u001b[38;5;124m%\u001b[39m\u001b[38;5;124mM:\u001b[39m\u001b[38;5;124m%\u001b[39m\u001b[38;5;124mS\u001b[39m\u001b[38;5;124m'\u001b[39m):\n\u001b[1;32m---> 49\u001b[0m         \u001b[43mfReader\u001b[49m\u001b[38;5;241;43m.\u001b[39;49m\u001b[43mskip_events\u001b[49m\u001b[43m(\u001b[49m\u001b[38;5;241;43m2_000\u001b[39;49m\u001b[43m)\u001b[49m\n\u001b[0;32m     50\u001b[0m         \u001b[38;5;28;01mtry\u001b[39;00m:\n\u001b[0;32m     51\u001b[0m             chunk \u001b[38;5;241m=\u001b[39m fReader\u001b[38;5;241m.\u001b[39mget_aligned_events(order\u001b[38;5;241m=\u001b[39morder, interval\u001b[38;5;241m=\u001b[39minterval, extract_tdc_mets \u001b[38;5;241m=\u001b[39m \u001b[38;5;28;01mFalse\u001b[39;00m)\n",
      "File \u001b[1;32mC:\\/Users//jony//Programming//Python//Anubis//anubis//Osiris//processing//python\\rawFileReader.py:59\u001b[0m, in \u001b[0;36mfileReader.skip_events\u001b[1;34m(self, count)\u001b[0m\n\u001b[0;32m     57\u001b[0m \u001b[38;5;66;03m#with tqdm(total=count, desc=\"Skipping Events\", unit='Events') as pbar:\u001b[39;00m\n\u001b[0;32m     58\u001b[0m \u001b[38;5;28;01mwhile\u001b[39;00m count \u001b[38;5;241m>\u001b[39m \u001b[38;5;241m0\u001b[39m:\n\u001b[1;32m---> 59\u001b[0m     \u001b[38;5;28;01mif\u001b[39;00m \u001b[38;5;129;01mnot\u001b[39;00m \u001b[38;5;28;43mself\u001b[39;49m\u001b[38;5;241;43m.\u001b[39;49m\u001b[43mreadBlock\u001b[49m\u001b[43m(\u001b[49m\u001b[43m)\u001b[49m:\n\u001b[0;32m     60\u001b[0m         \u001b[38;5;28mprint\u001b[39m(\u001b[38;5;124m\"\u001b[39m\u001b[38;5;124mBad Block Read\u001b[39m\u001b[38;5;124m\"\u001b[39m)\n\u001b[0;32m     61\u001b[0m         \u001b[38;5;28;01mbreak\u001b[39;00m\n",
      "File \u001b[1;32mC:\\/Users//jony//Programming//Python//Anubis//anubis//Osiris//processing//python\\rawFileReader.py:224\u001b[0m, in \u001b[0;36mfileReader.readBlock\u001b[1;34m(self, p)\u001b[0m\n\u001b[0;32m    222\u001b[0m tdcReadData \u001b[38;5;241m=\u001b[39m \u001b[38;5;28mself\u001b[39m\u001b[38;5;241m.\u001b[39mdata\u001b[38;5;241m.\u001b[39mread(nWords\u001b[38;5;241m*\u001b[39m\u001b[38;5;28mself\u001b[39m\u001b[38;5;241m.\u001b[39mwordSize)\n\u001b[0;32m    223\u001b[0m \u001b[38;5;28mself\u001b[39m\u001b[38;5;241m.\u001b[39mbytesRead \u001b[38;5;241m=\u001b[39m \u001b[38;5;28mself\u001b[39m\u001b[38;5;241m.\u001b[39mbytesRead\u001b[38;5;241m+\u001b[39m\u001b[38;5;28mself\u001b[39m\u001b[38;5;241m.\u001b[39mwordSize\u001b[38;5;241m*\u001b[39m(nWords\u001b[38;5;241m+\u001b[39m\u001b[38;5;241m3\u001b[39m)\n\u001b[1;32m--> 224\u001b[0m \u001b[38;5;28;43mself\u001b[39;49m\u001b[38;5;241;43m.\u001b[39;49m\u001b[43mevtBuilder\u001b[49m\u001b[38;5;241;43m.\u001b[39;49m\u001b[43maddTDCRead\u001b[49m\u001b[43m(\u001b[49m\u001b[43mthisTDC\u001b[49m\u001b[43m,\u001b[49m\u001b[43m \u001b[49m\u001b[43mthisTime\u001b[49m\u001b[43m,\u001b[49m\u001b[43m \u001b[49m\u001b[43mtdcReadData\u001b[49m\u001b[43m,\u001b[49m\u001b[43m \u001b[49m\u001b[43mp\u001b[49m\u001b[43m)\u001b[49m\n\u001b[0;32m    225\u001b[0m \u001b[38;5;28;01mreturn\u001b[39;00m \u001b[38;5;28;01mTrue\u001b[39;00m\n",
      "File \u001b[1;32mC:\\/Users//jony//Programming//Python//Anubis//anubis//Osiris//processing//python\\rawEventBuilder.py:76\u001b[0m, in \u001b[0;36meventBuilder.addTDCRead\u001b[1;34m(self, thisTDC, thisTime, tdcReadData, p)\u001b[0m\n\u001b[0;32m     74\u001b[0m     \u001b[38;5;28;01melse\u001b[39;00m:\n\u001b[0;32m     75\u001b[0m         \u001b[38;5;28mself\u001b[39m\u001b[38;5;241m.\u001b[39meventCounts[thisTDC]\u001b[38;5;241m=\u001b[39m\u001b[38;5;28mself\u001b[39m\u001b[38;5;241m.\u001b[39meventCounts[thisTDC]\u001b[38;5;241m+\u001b[39m\u001b[38;5;241m1\u001b[39m\n\u001b[1;32m---> 76\u001b[0m         thisRead\u001b[38;5;241m.\u001b[39mappend(\u001b[43mtdcEvent\u001b[49m\u001b[43m(\u001b[49m\u001b[43mthisWord\u001b[49m\u001b[43m,\u001b[49m\u001b[43m \u001b[49m\u001b[43mthisTime\u001b[49m\u001b[43m,\u001b[49m\u001b[43m \u001b[49m\u001b[43m[\u001b[49m\u001b[43m]\u001b[49m\u001b[43m,\u001b[49m\u001b[43m \u001b[49m\u001b[43mqual\u001b[49m\u001b[38;5;241;43m=\u001b[39;49m\u001b[38;5;241;43m0x1\u001b[39;49m\u001b[43m)\u001b[49m)\n\u001b[0;32m     77\u001b[0m \u001b[38;5;66;03m#For non-headers, need to check if we've started a word yet to see if we've got an event that's split over two reads.\u001b[39;00m\n\u001b[0;32m     78\u001b[0m \u001b[38;5;66;03m#Need to put split events into a temp buffer, as we don't yet know whether there were missed events in between.\u001b[39;00m\n\u001b[0;32m     79\u001b[0m \u001b[38;5;28;01melif\u001b[39;00m \u001b[38;5;28mlen\u001b[39m(thisRead)\u001b[38;5;241m==\u001b[39m\u001b[38;5;241m0\u001b[39m:\n",
      "File \u001b[1;32mC:\\/Users//jony//Programming//Python//Anubis//anubis//Osiris//processing//python\\rawEventBuilder.py:4\u001b[0m, in \u001b[0;36mtdcEvent.__init__\u001b[1;34m(self, header, time, words, eob, qual)\u001b[0m\n\u001b[0;32m      3\u001b[0m \u001b[38;5;28;01mclass\u001b[39;00m \u001b[38;5;21;01mtdcEvent\u001b[39;00m():\n\u001b[1;32m----> 4\u001b[0m     \u001b[38;5;28;01mdef\u001b[39;00m \u001b[38;5;21m__init__\u001b[39m(\u001b[38;5;28mself\u001b[39m, header, time, words \u001b[38;5;241m=\u001b[39m [], eob\u001b[38;5;241m=\u001b[39m\u001b[38;5;28;01mNone\u001b[39;00m, qual\u001b[38;5;241m=\u001b[39m\u001b[38;5;241m0\u001b[39m):\n\u001b[0;32m      5\u001b[0m         \u001b[38;5;28mself\u001b[39m\u001b[38;5;241m.\u001b[39mheader \u001b[38;5;241m=\u001b[39m header\n\u001b[0;32m      6\u001b[0m         \u001b[38;5;28mself\u001b[39m\u001b[38;5;241m.\u001b[39mwords \u001b[38;5;241m=\u001b[39m words\n",
      "\u001b[1;31mKeyboardInterrupt\u001b[0m: "
     ]
    },
    {
     "ename": "",
     "evalue": "",
     "output_type": "error",
     "traceback": [
      "\u001b[1;31mThe Kernel crashed while executing code in the current cell or a previous cell. \n",
      "\u001b[1;31mPlease review the code in the cell(s) to identify a possible cause of the failure. \n",
      "\u001b[1;31mClick <a href='https://aka.ms/vscodeJupyterKernelCrash'>here</a> for more info. \n",
      "\u001b[1;31mView Jupyter <a href='command:jupyter.viewOutput'>log</a> for further details."
     ]
    }
   ],
   "source": [
    "fReader = rawFileReader.fileReader(dir_path+\"data//\"+file_name) # load in the classs object\n",
    "total_chunks = []\n",
    "for start, end, voltage in hv_data.values:\n",
    "    if type(start) == float:\n",
    "        break\n",
    "    print(\"Voltage:\", voltage)\n",
    "    start = \"2024-08-29 \" + start \n",
    "    end = \"2024-08-29 \"+ end\n",
    "    chunks, times, fReader = overview.get_chunks(file_name, fReader=fReader, start=start, end=end)\n",
    "    total_chunks.append((voltage, times, chunks))"
   ]
  },
  {
   "cell_type": "code",
   "execution_count": 39,
   "metadata": {},
   "outputs": [
    {
     "name": "stdout",
     "output_type": "stream",
     "text": [
      "3\n"
     ]
    }
   ],
   "source": [
    "print(len(total_chunks[-1]))"
   ]
  },
  {
   "cell_type": "code",
   "execution_count": 90,
   "metadata": {},
   "outputs": [],
   "source": [
    "with open(storage_name, \"wb\") as outp:\n",
    "    pickle.dump(total_chunks, outp)"
   ]
  },
  {
   "cell_type": "code",
   "execution_count": 8,
   "metadata": {},
   "outputs": [
    {
     "name": "stdout",
     "output_type": "stream",
     "text": [
      "Chunks Loaded\n"
     ]
    }
   ],
   "source": [
    "importlib.reload(overview)\n",
    "import matplotlib.pyplot as plt\n",
    "\n",
    "with open(storage_name, \"rb\") as inp:\n",
    "    total_chunks = pickle.load(inp)\n",
    "print(\"Chunks Loaded\")"
   ]
  },
  {
   "cell_type": "code",
   "execution_count": 42,
   "metadata": {},
   "outputs": [
    {
     "name": "stdout",
     "output_type": "stream",
     "text": [
      "# Chunks for 3000: 1\n",
      "Only one chunk, skipping\n",
      "# Chunks for 4000: 1\n",
      "Only one chunk, skipping\n",
      "# Chunks for 4500: 1\n",
      "Only one chunk, skipping\n",
      "# Chunks for 4750: 20\n",
      "Cluster Size Done\n",
      "Efficiency Done\n",
      "Possible reconstructions [17, 15, 12, 12, 26, 17]\n",
      "Absolute BVG Done\n",
      "Hit Time Histogram Done\n",
      "# Chunks for 5000: 305\n",
      "Cluster Size Done\n",
      "Efficiency Done\n",
      "Possible reconstructions [307, 314, 231, 233, 683, 281]\n",
      "Absolute BVG Done\n",
      "Hit Time Histogram Done\n",
      "# Chunks for 5100: 620\n",
      "Cluster Size Done\n",
      "Efficiency Done\n",
      "Possible reconstructions [728, 784, 707, 655, 1800, 740]\n",
      "Absolute BVG Done\n",
      "Hit Time Histogram Done\n",
      "# Chunks for 5200: 941\n",
      "Cluster Size Done\n",
      "Efficiency Done\n",
      "Possible reconstructions [1208, 1376, 1220, 1172, 2971, 1358]\n",
      "Absolute BVG Done\n",
      "Hit Time Histogram Done\n",
      "# Chunks for 5250: 2187\n",
      "Cluster Size Done\n"
     ]
    }
   ],
   "source": [
    "importlib.reload(overview)\n",
    "complete_data = []\n",
    "\n",
    "with PdfPages(f\"hit_time_histograms{rpc}.pdf\") as pdf: #trash pdf, so I do not need to click on\n",
    "    for voltage, times, chunks in total_chunks:\n",
    "        results_dict = {}\n",
    "        print(f\"# Chunks for {round(voltage)}:\", len(chunks))\n",
    "        if len(chunks) == 1:\n",
    "            print(\"Only one chunk, skipping\")\n",
    "            continue\n",
    "        \n",
    "        cluster_size, error, hist = overview.cluster_size(chunks, residual=False)\n",
    "        results_dict[\"cluster_size\"] = (cluster_size, error, hist)\n",
    "        results_dict[\"efficiency\"] = overview.efficiency(chunks, residual = False, pdf = pdf)\n",
    "        \n",
    "        \n",
    "        good, bad = overview.abs_bvg_hits(chunks[:100], times[:100], per_rpc=True, pdf = pdf)[rpc]\n",
    "        \n",
    "        results_dict[\"counts\"] = (sum(good)/100, sum(bad)/100)\n",
    "        \n",
    "        hist, std = overview.hit_time_hist(chunks, per_rpc= True, pdf=pdf)\n",
    "        results_dict[\"hit_time_hist\"] = (hist, std)\n",
    "        results_dict[\"voltage\"] = voltage\n",
    "        if results_dict:\n",
    "            complete_data.append(results_dict)\n",
    "\n",
    "\n",
    "        "
   ]
  },
  {
   "cell_type": "code",
   "execution_count": 6,
   "metadata": {},
   "outputs": [
    {
     "name": "stderr",
     "output_type": "stream",
     "text": [
      "\n",
      "KeyboardInterrupt\n",
      "\n"
     ]
    }
   ],
   "source": [
    "import matplotlib.pyplot as plt\n",
    "import numpy as np\n",
    "selected_voltages = [5600, 5800, 6000]\n",
    "for volt_data in complete_data:\n",
    "    if volt_data[\"voltage\"] in selected_voltages and \"cluster_size\" in volt_data.keys():\n",
    "        hist, bins = np.histogram(volt_data[\"cluster_size\"][2][rpc], bins=range(1, max(volt_data[\"cluster_size\"][2][rpc])+2))\n",
    "        plt.step(bins[:-1], hist, label=\"Voltage: \"+volt_data[\"voltage\"]+\"V\", alpha=0.5)\n",
    "plt.legend()\n",
    "plt.xlabel(\"Cluster Size\")\n",
    "plt.ylabel(\"Counts\")\n",
    "plt.yscale(\"log\")\n",
    "plt.title(f\"Cluster Size Distribution RPC {rpc}\")\n",
    "plt.show()\n",
    "\n"
   ]
  },
  {
   "cell_type": "code",
   "execution_count": 14,
   "metadata": {},
   "outputs": [
    {
     "name": "stdout",
     "output_type": "stream",
     "text": [
      "([37, 37, 46, 39, 46, 56, 42, 25], [4, 4, 4, 3, 10, 5, 7, 4])\n",
      "([41, 44, 42, 46, 32, 34, 42, 40, 45, 29, 36, 47, 40, 33, 37, 37, 51, 38, 36, 28, 21, 41, 36, 36, 54, 63, 31, 22, 36, 29, 36, 35, 36, 27, 28, 36, 39, 39, 38, 26, 36, 75, 31, 35, 41, 40, 49, 26, 31, 27], [5, 4, 0, 0, 1, 0, 5, 0, 2, 7, 4, 4, 0, 2, 3, 5, 0, 2, 0, 2, 0, 2, 2, 0, 1, 2, 5, 0, 2, 2, 2, 2, 4, 0, 13, 1, 1, 3, 1, 4, 1, 2, 5, 3, 1, 2, 7, 4, 2, 2])\n",
      "([35, 33, 40, 73, 33, 38, 28, 41, 26, 29, 22, 30, 35, 31, 39, 31, 29, 38, 69, 50, 41, 32, 77, 29, 45, 17, 41, 50, 25, 46, 42, 32, 36, 60, 28, 19, 65, 27, 29, 36, 63, 48, 30, 30, 34, 28, 44, 56, 39, 39, 37, 33, 17, 38, 37, 37, 28, 27, 39, 35, 31, 33, 26, 65, 20, 57, 29, 33, 31, 29, 31, 30, 26, 34, 36, 27, 32, 47, 31, 40, 33, 38, 35, 48, 35, 34, 35, 28, 37, 33, 36, 44, 41, 40, 24, 31, 38, 26, 28, 27], [1, 2, 7, 1, 2, 1, 0, 6, 2, 0, 2, 1, 8, 2, 1, 1, 3, 2, 5, 8, 2, 1, 8, 2, 4, 1, 4, 0, 2, 4, 4, 1, 2, 5, 10, 1, 3, 1, 0, 2, 3, 2, 0, 4, 7, 4, 0, 1, 1, 5, 2, 4, 2, 1, 4, 2, 10, 0, 2, 2, 2, 2, 3, 1, 2, 1, 1, 2, 7, 2, 1, 2, 3, 0, 2, 1, 1, 7, 2, 1, 3, 2, 5, 0, 0, 44, 2, 1, 5, 3, 1, 0, 2, 2, 4, 2, 1, 1, 2, 0])\n",
      "([40, 60, 35, 33, 39, 125, 39, 25, 46, 34, 45, 42, 39, 43, 55, 89, 116, 39, 38, 46, 55, 43, 35, 29, 31, 33, 33, 43, 33, 45, 31, 44, 42, 54, 46, 33, 39, 34, 39, 32, 28, 33, 34, 34, 40, 37, 28, 50, 32, 34, 45, 39, 39, 25, 42, 65, 41, 42, 41, 40, 37, 87, 28, 45, 44, 34, 28, 35, 39, 41, 35, 31, 102, 46, 47, 44, 81, 37, 38, 37, 36, 37, 30, 45, 42, 34, 116, 47, 81, 40, 39, 38, 31, 112, 38, 35, 32, 47, 37, 101], [1, 1, 4, 5, 2, 6, 1, 5, 1, 13, 2, 8, 3, 2, 1, 5, 12, 1, 1, 1, 2, 5, 4, 5, 7, 4, 1, 1, 3, 3, 6, 3, 3, 3, 2, 2, 2, 9, 5, 1, 0, 0, 4, 7, 0, 1, 5, 1, 4, 2, 5, 6, 7, 5, 1, 5, 1, 0, 0, 4, 3, 8, 2, 3, 0, 3, 4, 0, 4, 0, 3, 0, 10, 6, 0, 2, 1, 6, 4, 2, 2, 6, 2, 7, 7, 3, 11, 1, 8, 0, 1, 1, 4, 8, 2, 6, 2, 0, 2, 7])\n",
      "([64, 32, 41, 50, 34, 37, 37, 63, 38, 32, 37, 97, 40, 40, 72, 34, 36, 34, 43, 45, 45, 35, 36, 38, 61, 34, 40, 43, 37, 44, 55, 59, 37, 52, 40, 61, 35, 59, 133, 44, 48, 52, 37, 61, 49, 51, 42, 57, 55, 39, 37, 56, 56, 35, 68, 49, 36, 41, 43, 35, 49, 37, 34, 37, 46, 35, 34, 38, 47, 39, 38, 42, 36, 49, 41, 48, 39, 39, 65, 39, 36, 51, 35, 39, 43, 34, 41, 57, 43, 42, 49, 61, 44, 30, 37, 39, 37, 60, 41, 76], [4, 2, 0, 6, 4, 2, 1, 4, 6, 2, 2, 11, 1, 2, 4, 2, 18, 2, 0, 1, 11, 0, 0, 4, 5, 2, 7, 7, 1, 3, 1, 1, 1, 32, 6, 5, 3, 4, 17, 1, 5, 1, 2, 3, 0, 0, 0, 2, 4, 3, 3, 5, 1, 5, 2, 1, 0, 4, 5, 2, 32, 6, 4, 2, 0, 5, 1, 2, 0, 5, 2, 2, 2, 5, 1, 2, 3, 9, 4, 0, 7, 6, 1, 6, 0, 0, 0, 5, 3, 3, 4, 3, 1, 0, 2, 2, 1, 3, 3, 4])\n",
      "([84, 37, 46, 153, 40, 42, 38, 51, 107, 63, 51, 44, 78, 50, 88, 46, 74, 101, 64, 70, 67, 38, 448, 60, 379, 61, 61, 71, 50, 90, 56, 35, 62, 42, 59, 39, 58, 74, 95, 94, 37, 38, 67, 51, 58, 45, 97, 78, 45, 76, 153, 81, 120, 51, 63, 99, 340, 79, 47, 273, 96, 89, 56, 106, 50, 43, 44, 49, 77, 33, 152, 121, 50, 108, 58, 81, 66, 60, 114, 127, 68, 84, 98, 56, 33, 90, 99, 99, 61, 61, 49, 58, 52, 56, 201, 65, 43, 42, 53, 42], [5, 2, 1, 14, 3, 2, 5, 6, 14, 2, 8, 3, 3, 0, 9, 8, 11, 32, 1, 3, 7, 4, 51, 5, 45, 9, 5, 3, 4, 2, 5, 8, 2, 1, 1, 5, 19, 9, 9, 6, 4, 3, 5, 5, 2, 3, 11, 5, 10, 5, 7, 4, 2, 3, 2, 6, 26, 3, 1, 21, 5, 13, 1, 2, 3, 3, 7, 8, 10, 5, 15, 13, 3, 14, 1, 8, 1, 1, 12, 11, 7, 7, 11, 2, 2, 5, 9, 9, 7, 3, 5, 7, 4, 3, 16, 9, 0, 4, 5, 31])\n",
      "([244, 112, 91, 106, 132, 75, 232, 104, 78, 57, 35, 112, 144, 67, 45, 275, 113, 45, 45, 65, 44, 92, 111, 64, 92, 61, 62, 77, 349, 115, 41, 182, 182, 175, 55, 312, 183, 283, 168, 77, 110, 101, 75, 66, 164, 301, 55, 105, 50, 53, 62, 172, 502, 281, 53, 45, 41, 124, 109, 69, 52, 56, 161, 109, 60, 54, 180, 71, 58, 165, 161, 36, 82, 166, 96, 126, 218, 560, 133, 76, 63, 72, 78, 111, 45, 147, 93, 73, 117, 43, 104, 41, 403, 59, 118, 81, 56, 73, 111, 60], [29, 5, 18, 3, 20, 2, 24, 14, 6, 13, 1, 9, 12, 8, 2, 24, 8, 3, 7, 3, 2, 5, 18, 7, 9, 4, 5, 7, 31, 6, 3, 12, 10, 32, 10, 18, 15, 19, 13, 6, 15, 9, 6, 4, 10, 52, 3, 12, 4, 2, 9, 32, 65, 38, 11, 1, 2, 6, 7, 4, 7, 6, 20, 4, 9, 4, 15, 5, 8, 8, 12, 4, 11, 15, 3, 9, 16, 77, 9, 7, 2, 3, 5, 19, 1, 6, 5, 7, 15, 5, 30, 6, 88, 3, 11, 8, 4, 5, 8, 3])\n",
      "([85, 186, 68, 223, 204, 284, 70, 54, 75, 122, 181, 103, 75, 137, 51, 59, 53, 56, 116, 112, 235, 261, 264, 153, 83, 96, 579, 75, 235, 51, 271, 175, 279, 617, 587, 178, 171, 416, 158, 118, 60, 65, 55, 265, 279, 193, 36, 95, 73, 155, 65, 347, 114, 208, 145, 45, 80, 176, 149, 151, 54, 290, 883, 53, 123, 230, 171, 272, 131, 35, 166, 71, 601, 738, 369, 161, 110, 129, 75, 131, 124, 66, 320, 454, 73, 424, 133, 105, 148, 279, 731, 69, 400, 503, 307, 512, 136, 166, 496, 291], [4, 10, 7, 29, 22, 31, 5, 11, 6, 31, 21, 3, 3, 7, 4, 5, 8, 13, 6, 13, 21, 25, 19, 19, 6, 18, 100, 9, 28, 12, 56, 17, 22, 46, 39, 7, 22, 56, 24, 20, 3, 7, 3, 56, 21, 21, 2, 7, 9, 14, 1, 33, 6, 19, 17, 45, 5, 16, 15, 21, 0, 19, 131, 5, 20, 39, 18, 30, 25, 2, 17, 6, 99, 55, 41, 4, 11, 6, 4, 7, 16, 8, 37, 49, 8, 146, 8, 6, 17, 34, 60, 5, 45, 49, 25, 39, 19, 13, 85, 52])\n",
      "([567, 53, 166, 355, 48, 672, 701, 98, 275, 82, 152, 101, 130, 355, 54, 92, 134, 147, 103, 45, 156, 374, 629, 956, 198, 227, 202, 68, 202, 42, 42, 70, 157, 161, 119, 214, 374, 50, 324, 72, 297, 208, 97, 227, 279, 149, 169, 111, 87, 922, 968, 286, 52, 94, 345, 905, 105, 361, 65, 211, 186, 57, 72, 45, 106, 271, 63, 174, 136, 716, 134, 114, 558, 250, 57, 149, 78, 544, 546, 220, 130, 353, 73, 145, 45, 267, 144, 146, 522, 86, 308, 68, 477, 134, 57, 125, 197, 98, 119, 377], [67, 4, 17, 40, 8, 86, 87, 20, 47, 8, 13, 28, 19, 30, 1, 8, 8, 14, 9, 7, 13, 70, 58, 91, 17, 25, 37, 5, 70, 4, 13, 10, 13, 61, 35, 31, 60, 22, 69, 9, 31, 21, 21, 66, 16, 19, 27, 41, 2, 97, 138, 78, 15, 45, 92, 129, 6, 49, 4, 79, 19, 8, 8, 7, 5, 23, 3, 8, 12, 72, 15, 8, 108, 118, 10, 34, 12, 72, 68, 18, 9, 94, 6, 16, 7, 29, 10, 30, 43, 16, 30, 7, 64, 19, 6, 21, 16, 6, 16, 30])\n",
      "([100, 54, 302, 105, 101, 307, 858, 95, 132, 622, 878, 438, 139, 167, 73, 232, 62, 377, 422, 64, 127, 101, 322, 89, 255, 85, 62, 239, 175, 200, 170, 237, 82, 162, 225, 268, 71, 110, 112, 184, 310, 395, 372, 446, 526, 93, 64, 234, 80, 58, 179, 194, 116, 107, 191, 287, 68, 516, 75, 51, 514, 41, 143, 576, 148, 270, 65, 93, 405, 199, 237, 197, 268, 252, 285, 110, 291, 169, 520, 156, 357, 397, 128, 194, 378, 115, 487, 122, 317, 54, 82, 86, 166, 622, 274, 321, 123, 120, 193, 168], [24, 3, 72, 9, 11, 54, 146, 15, 38, 107, 116, 55, 12, 16, 11, 28, 2, 74, 43, 28, 16, 54, 22, 6, 58, 18, 2, 35, 21, 6, 10, 76, 10, 17, 37, 28, 3, 14, 4, 22, 48, 18, 69, 33, 52, 7, 3, 6, 4, 6, 20, 17, 11, 13, 22, 20, 8, 97, 8, 38, 58, 7, 35, 105, 50, 21, 6, 7, 67, 4, 14, 21, 34, 110, 45, 13, 32, 10, 102, 13, 63, 47, 52, 28, 45, 21, 109, 19, 15, 0, 7, 6, 62, 60, 19, 48, 14, 5, 65, 5])\n",
      "([57, 380, 537, 210, 70, 188, 277, 164, 66, 111, 58, 60, 179, 213, 226, 94, 282, 735, 627, 311, 191, 339, 39, 477, 253, 96, 45, 139, 52, 208, 119, 43, 45, 593, 85, 297, 69, 72, 517, 1391, 139, 52, 97, 180, 94, 94, 121, 164, 277, 95, 99, 962, 117, 281, 104, 45, 175, 158, 91, 111, 53, 71, 78, 127, 291, 129, 257, 159, 197, 299, 104, 1137, 347, 411, 93, 69, 266, 163, 149, 629, 241, 106, 81, 206, 127, 190, 645, 185, 83, 406, 192, 306, 220, 59, 186, 91, 409, 278, 138, 946], [9, 67, 68, 38, 7, 27, 67, 4, 43, 28, 11, 9, 11, 10, 33, 3, 62, 102, 65, 55, 6, 67, 0, 55, 49, 10, 6, 10, 6, 37, 19, 39, 10, 91, 16, 39, 1, 12, 53, 257, 22, 5, 7, 18, 9, 11, 8, 24, 20, 32, 13, 102, 2, 37, 18, 14, 22, 17, 16, 9, 1, 10, 9, 15, 34, 31, 29, 61, 12, 22, 2, 99, 80, 42, 9, 12, 40, 62, 38, 78, 27, 54, 4, 13, 4, 26, 33, 11, 11, 37, 41, 98, 20, 5, 15, 23, 58, 19, 16, 73])\n",
      "([189, 63, 1637, 904, 119, 174, 228, 269, 143, 306, 51, 184, 114, 353, 309, 50, 186, 76, 72, 89, 156, 339, 92, 98, 96, 191, 715, 56, 128, 102, 305, 56, 241, 77, 1119, 181, 119, 273, 161, 1029, 49, 66, 130, 60, 116, 106, 293, 121, 119, 621, 95, 94, 40, 191, 68, 226, 160, 265, 346, 85, 820, 727, 389, 67, 131, 505, 79, 353, 217, 292, 52, 137, 290, 98, 292, 283, 51, 179, 639, 51, 94, 161, 143, 446, 122, 723, 91, 1655, 1481, 791, 337, 92, 64, 208, 786, 417, 89, 169, 417, 386], [28, 14, 251, 72, 32, 27, 21, 83, 73, 46, 10, 22, 92, 86, 82, 13, 9, 2, 20, 12, 21, 69, 2, 6, 17, 16, 104, 4, 31, 6, 55, 9, 36, 55, 203, 22, 6, 15, 7, 142, 14, 4, 14, 7, 22, 27, 23, 8, 10, 106, 8, 13, 2, 38, 8, 40, 12, 21, 74, 38, 166, 94, 46, 4, 56, 129, 35, 95, 23, 44, 29, 20, 39, 53, 55, 50, 9, 18, 50, 24, 51, 17, 23, 121, 16, 164, 5, 264, 208, 97, 58, 2, 0, 23, 87, 62, 3, 19, 61, 40])\n",
      "([125, 1143, 462, 117, 235, 374, 105, 138, 476, 92, 169, 100, 1347, 214, 46, 224, 458, 35, 175, 69, 64, 280, 197, 57, 66, 385, 137, 121, 131, 112, 66, 120, 97, 126, 87, 236, 245, 106, 482, 236, 92, 421, 274, 86, 48, 203, 53, 233, 114, 143, 94, 266, 100, 368, 78, 329, 431, 135, 194, 56, 462, 138, 153, 737, 762, 149, 388, 514, 325, 569, 58, 146, 227, 740, 144, 219, 79, 145, 332, 90, 598, 55, 293, 159, 139, 416, 360, 84, 371, 128, 124, 255, 175, 634, 737, 143, 486, 860, 52, 88], [5, 207, 90, 10, 39, 47, 6, 40, 54, 24, 14, 9, 238, 25, 3, 12, 58, 24, 3, 5, 6, 8, 31, 5, 2, 68, 35, 12, 18, 17, 33, 6, 16, 19, 6, 23, 28, 10, 26, 16, 8, 48, 27, 7, 2, 23, 10, 23, 26, 6, 1, 47, 5, 37, 2, 29, 97, 36, 17, 6, 69, 1, 25, 96, 103, 59, 42, 131, 41, 96, 21, 12, 45, 126, 6, 37, 43, 107, 35, 9, 70, 3, 34, 27, 8, 27, 31, 5, 105, 23, 7, 31, 7, 54, 90, 25, 38, 123, 13, 20])\n",
      "([531, 191, 67, 666, 104, 436, 300, 208, 339, 171, 1218, 616, 164, 175, 274, 1477, 398, 276, 274, 337, 584, 109, 602, 399, 169, 636, 74, 411, 293, 458, 188, 510, 188, 439, 708, 226, 232, 64, 250, 76, 274, 658, 217, 429, 153, 766, 89, 105, 111, 1266, 80, 458, 99, 133, 52, 1445, 799, 165, 422, 202, 66, 467, 682, 1344, 112, 636, 102, 773, 206, 144, 1396, 97, 168, 379, 247, 170, 356, 1261, 1511, 92, 598, 101, 521, 754, 789, 271, 431, 102, 77, 353, 164, 98, 1882, 77, 427, 206, 273, 560, 194, 88], [34, 18, 18, 64, 36, 31, 31, 31, 95, 59, 112, 142, 55, 24, 32, 152, 80, 15, 96, 30, 132, 5, 167, 22, 30, 79, 45, 91, 55, 55, 24, 63, 84, 71, 65, 56, 39, 6, 60, 21, 46, 183, 15, 47, 5, 210, 6, 13, 11, 176, 3, 109, 17, 29, 18, 211, 93, 8, 73, 80, 27, 65, 174, 138, 3, 106, 2, 124, 20, 54, 170, 38, 11, 60, 66, 7, 39, 178, 245, 49, 68, 32, 55, 122, 227, 20, 119, 19, 13, 44, 20, 8, 274, 2, 87, 16, 15, 52, 32, 14])\n",
      "([1629, 292, 250, 431, 373, 372, 993, 114, 130, 123, 286, 1738, 385, 759, 2349, 102, 1322, 238, 115, 205, 1066, 116, 229, 139, 53, 327, 390, 213, 88, 191, 170, 62, 159, 211, 159, 306, 323, 368, 302, 248, 2515, 358, 219, 568, 291, 197, 88, 405, 393, 77, 221, 268, 265, 211, 337, 515, 212, 367, 80, 91, 275, 215, 206, 348, 93, 126, 685, 69, 304, 139, 341, 371, 155, 639, 577, 59, 1263, 320, 170, 186, 86, 98, 568, 124, 78, 378, 591, 669, 330, 473, 385, 93, 69, 322, 340, 223, 81, 62, 332, 956], [370, 49, 66, 59, 49, 46, 228, 41, 49, 15, 41, 337, 43, 131, 523, 38, 292, 10, 11, 29, 133, 18, 28, 31, 21, 92, 50, 81, 32, 13, 7, 9, 12, 21, 37, 31, 39, 122, 34, 99, 627, 40, 55, 49, 28, 5, 15, 127, 42, 21, 86, 86, 58, 33, 67, 179, 37, 45, 7, 5, 33, 68, 11, 68, 37, 8, 123, 1, 45, 15, 43, 62, 14, 80, 40, 6, 200, 34, 15, 18, 9, 3, 136, 13, 6, 74, 45, 96, 22, 121, 44, 19, 12, 24, 46, 64, 8, 6, 72, 180])\n",
      "([967, 349, 331, 176, 107, 182, 464, 278, 59, 224, 453, 113, 371, 334, 230, 304, 426, 573, 65, 60, 63, 247, 329, 582, 62, 184, 166, 614, 857, 51, 423, 73, 498, 55, 103, 255, 259, 1247, 217, 770, 76, 692, 129, 293, 297, 484, 656, 373, 73, 222, 60, 140, 566, 156, 53, 1024, 151, 89, 743, 1383, 899, 518, 251, 324, 77, 422, 393, 1018, 485, 1202, 96, 502, 199, 437, 199, 1212, 110, 663, 573, 1314, 258, 253, 607, 1316, 82, 206, 211, 222, 1148, 842, 672, 201, 82, 128, 96, 1465, 845, 1116, 530, 308], [228, 36, 44, 38, 16, 15, 99, 55, 18, 30, 68, 24, 63, 71, 35, 64, 54, 64, 50, 15, 6, 61, 83, 81, 3, 4, 13, 119, 73, 7, 29, 22, 133, 46, 20, 40, 22, 166, 9, 169, 7, 38, 9, 111, 54, 109, 61, 87, 9, 37, 5, 20, 99, 15, 20, 109, 73, 44, 189, 156, 207, 91, 12, 69, 10, 28, 130, 154, 115, 198, 2, 59, 22, 44, 2, 131, 31, 151, 62, 248, 30, 73, 149, 342, 5, 28, 11, 66, 110, 197, 130, 10, 1, 7, 12, 267, 177, 198, 224, 29])\n",
      "([169, 134, 2328, 1446, 93, 84, 553, 731, 265, 581, 460, 866, 443, 973, 223, 772, 137, 221, 845, 106, 287, 1313, 48, 100, 200, 2062, 636, 707, 1149, 331, 247, 200, 1756, 1959, 905, 66, 199, 945, 423, 480, 572, 299, 776, 456, 1787, 787, 287, 279, 457, 796, 152, 142, 384, 438, 528, 120, 678, 366, 295, 1215, 299, 111, 582, 479, 153, 674, 743, 1840, 404, 344, 432, 808, 335, 141, 147, 219, 85, 99, 255, 999, 258, 82, 411, 43, 101, 1306, 516, 306, 248, 256, 382, 321, 709, 108, 362, 432, 1383, 690, 802, 872], [28, 17, 414, 344, 6, 1, 94, 186, 26, 105, 140, 105, 147, 198, 47, 184, 1, 17, 108, 5, 51, 126, 8, 26, 51, 383, 183, 205, 288, 79, 60, 35, 242, 314, 83, 5, 86, 193, 177, 70, 146, 23, 107, 33, 382, 252, 50, 82, 100, 111, 10, 40, 66, 34, 97, 8, 117, 231, 9, 130, 77, 16, 46, 121, 51, 241, 124, 438, 121, 44, 137, 128, 33, 14, 13, 54, 7, 29, 8, 136, 21, 5, 90, 21, 14, 143, 159, 71, 26, 46, 72, 33, 121, 35, 56, 43, 227, 189, 216, 102])\n",
      "([1276, 1670, 438, 310, 248, 275, 176, 593, 201, 581, 96, 748, 805, 1409, 661, 112, 79, 359, 214, 625, 84, 346, 145, 206, 479, 145, 914, 1134, 608, 706, 203, 546, 342, 318, 240, 1422, 1306, 1255, 299, 143, 677, 1144, 409, 131, 172, 90, 452, 378, 808, 123, 48, 81, 422, 556, 1540, 293, 249, 1257, 311, 318, 141, 1556, 599, 340, 384, 1046, 324, 304, 568, 63, 507, 1778, 1308, 216, 367, 1204, 181, 112, 110, 920, 356, 498, 825, 797, 63, 137, 577, 449, 460, 687, 1305, 339, 628, 444, 490, 392, 579, 1633, 403, 127], [125, 166, 59, 56, 13, 30, 15, 183, 11, 106, 16, 130, 259, 218, 107, 2, 53, 47, 109, 88, 1, 82, 10, 35, 106, 7, 188, 171, 133, 95, 77, 89, 41, 40, 66, 149, 328, 164, 78, 24, 156, 187, 64, 12, 13, 4, 55, 59, 143, 9, 50, 9, 107, 83, 187, 28, 58, 172, 95, 41, 82, 258, 134, 169, 90, 173, 34, 28, 150, 41, 55, 286, 159, 14, 26, 138, 6, 8, 16, 131, 41, 68, 161, 147, 7, 0, 54, 27, 35, 95, 180, 41, 157, 77, 94, 117, 43, 165, 49, 9])\n",
      "([853, 238, 301, 587, 291, 629, 79, 966, 1085, 1264, 795, 102, 152, 1109, 129, 89, 818, 266, 605, 99, 1174, 1223, 1215, 647, 72, 386, 257, 651, 870, 952, 720, 473, 275, 1086, 497, 338, 139, 1057, 687, 525, 92, 130, 857, 93, 81, 202, 665, 248, 135, 390, 421, 617, 819, 520, 215, 574, 967, 250, 424, 559, 352, 331, 527, 86, 1072, 357, 791, 946, 693, 268, 395, 535, 152, 271, 176, 1216, 992, 1767, 291, 126, 275, 517, 157, 1524, 332, 260, 322, 105, 1411, 161, 118, 157, 2118, 365, 458, 930, 285, 661, 94, 611], [91, 11, 17, 192, 3, 90, 2, 133, 149, 166, 122, 47, 22, 171, 8, 0, 73, 23, 30, 65, 161, 109, 190, 104, 6, 13, 60, 120, 106, 160, 181, 22, 57, 213, 203, 106, 40, 181, 61, 52, 3, 5, 104, 9, 14, 9, 205, 34, 62, 159, 20, 58, 145, 65, 25, 49, 199, 82, 83, 124, 48, 12, 92, 2, 155, 56, 75, 183, 148, 148, 32, 204, 65, 40, 64, 173, 168, 204, 38, 6, 62, 46, 16, 179, 53, 57, 61, 0, 149, 10, 5, 7, 260, 59, 64, 92, 39, 115, 29, 56])\n",
      "([1740, 365, 106, 451, 804, 769, 1108, 490, 55, 1965, 1531, 1621, 2929, 947, 358, 1282, 804, 72, 643, 312, 847, 1176, 770, 109, 850, 464, 500, 68, 485, 324, 103, 278, 272, 436, 568, 656, 1296, 1605, 4580, 1236, 515, 1173, 273, 460, 919, 2047, 77, 489, 1167, 72, 1451, 1197, 810, 237, 179, 1101, 382, 990, 165, 453, 121, 149, 87, 623, 1366, 315, 154, 590, 328, 564, 722, 974, 382, 118, 264, 199, 419, 396, 1223, 901, 546, 1258, 647, 201, 301, 283, 1419, 676, 412, 331, 372, 709, 261, 1561, 602, 143, 1276, 406, 197, 80], [213, 38, 5, 75, 93, 104, 214, 64, 28, 150, 374, 274, 377, 150, 24, 213, 102, 37, 65, 87, 147, 75, 155, 10, 112, 60, 40, 35, 57, 43, 16, 56, 72, 44, 121, 105, 100, 331, 808, 255, 76, 157, 19, 99, 192, 340, 8, 78, 140, 14, 230, 136, 48, 37, 11, 43, 168, 150, 79, 108, 55, 12, 11, 231, 222, 12, 12, 77, 4, 100, 96, 91, 63, 0, 20, 16, 21, 23, 220, 126, 103, 200, 130, 21, 26, 79, 212, 95, 85, 76, 20, 96, 21, 349, 66, 20, 148, 102, 25, 4])\n",
      "Good [3.28, 18.78, 36.45, 45.05, 45.68, 81.54, 120.08, 206.02, 232.52, 228.09, 234.95, 286.25, 257.07, 409.36, 378.03, 422.63, 549.94, 543.93, 541.65, 707.08]\n",
      "Bad [0.41, 1.22, 2.91, 3.45, 3.74, 7.42, 12.18, 23.86, 33.13, 32.67, 31.82, 46.7, 36.0, 64.93, 68.7, 72.77, 103.94, 87.74, 82.86, 107.52]\n",
      "Voltage [4700, 4800, 4900, 5000, 5100, 5200, 5300, 5400, 5450, 5500, 5550, 5600, 5650, 5700, 5750, 5800, 5850, 5900, 5950, 6000]\n"
     ]
    }
   ],
   "source": [
    "import matplotlib.pyplot as plt\n",
    "plt.figure(figsize=(10, 6))  # Create a new figure\n",
    "\n",
    "# Plot In-peak and Off-peak hits in the first figure\n",
    "\n",
    "good = []\n",
    "bad = []\n",
    "voltage = []\n",
    "for volt_data in complete_data:\n",
    "    if \"counts\" not in volt_data.keys():\n",
    "        continue\n",
    "    print(volt_data[\"counts\"])\n",
    "    good.append(sum(volt_data[\"counts\"][0])/100)\n",
    "    bad.append(sum(volt_data[\"counts\"][1])/100)\n",
    "    voltage.append(volt_data[\"voltage\"])\n",
    "\n",
    "plt.plot(voltage, good, label=\"In-peak hits\", color=\"blue\")\n",
    "plt.plot(voltage, bad, label=\"Off-peak hits\", color=\"red\")\n",
    "plt.title(f\"Off-peak and In-peak hits (RPC {rpc})\")\n",
    "plt.xlabel(\"Voltage (V)\")\n",
    "plt.ylabel(\"Counts per chunk\")\n",
    "plt.legend()\n",
    "plt.show()\n",
    "\n",
    "print(\"Good\",good )\n",
    "print(\"Bad\", bad)\n",
    "print(\"Voltage\", voltage)"
   ]
  },
  {
   "cell_type": "code",
   "execution_count": 16,
   "metadata": {},
   "outputs": [
    {
     "name": "stdout",
     "output_type": "stream",
     "text": [
      "Efficiencies: [[0, 0, 0, 0, 0, 0], [0, 0, 0, 0, 0, 0], [0, 0, 0, 0, 0, 0], [0, 0, 0, 0, 0, 0], [0, 0, 0, 0, 0, 0], [0, 0, 0, 0, 0, 0], [0, 0, 0, 0, 0, 0], [0, 0, 0, 0, 0, 0], [0, 0, 0, 0, 0, 0], [0, 0, 0, 0, 0, 0], [0, 0, 0, 0, 0, 0], [0, 0, 0, 0, 0, 0], [0, 0, 0, 0, 0, 0], [0, 0, 0, 0, 0, 0], [0, 0, 0, 0, 0, 0], [0, 0, 0, 0, 0, 0], [0, 0, 0, 0, 0, 0], [0, 0, 0, 0, 0, 0], [0, 0, 0, 0, 0, 0], [0, 0, 0, 0, 0, 0]]\n",
      "Voltages: [4700, 4800, 4900, 5000, 5100, 5200, 5300, 5400, 5450, 5500, 5550, 5600, 5650, 5700, 5750, 5800, 5850, 5900, 5950, 6000]\n"
     ]
    }
   ],
   "source": [
    "# Plot Efficiency in the third figure\n",
    "plt.figure(figsize=(10, 6))  # Create a new figure\n",
    "efficiencies = []\n",
    "voltage = []\n",
    "for volt_data in complete_data:\n",
    "    if \"efficiency\" not in volt_data.keys():\n",
    "        continue\n",
    "    efficiencies.append(volt_data[\"efficiency\"])\n",
    "    voltage.append(volt_data[\"voltage\"])\n",
    "plt.plot(voltage, [eff[rpc] for eff in efficiencies], label=\"Efficiency\", color=\"red\")\n",
    "plt.title(f\"Efficiency (RPC {rpc})\")\n",
    "plt.xlabel(\"Voltage (V)\")\n",
    "plt.ylabel(\"Efficiency\")\n",
    "plt.legend()\n",
    "plt.show()\n",
    "\n",
    "print(\"Efficiencies:\", efficiencies)\n",
    "print(\"Voltages:\", voltage)"
   ]
  },
  {
   "cell_type": "code",
   "execution_count": 17,
   "metadata": {},
   "outputs": [
    {
     "name": "stdout",
     "output_type": "stream",
     "text": [
      "Cluster size: [np.float64(nan), np.float64(nan), np.float64(nan), np.float64(nan), np.float64(nan), np.float64(nan), np.float64(nan), np.float64(nan), np.float64(nan), np.float64(nan), np.float64(nan), np.float64(nan), np.float64(nan), np.float64(nan), np.float64(nan), np.float64(nan), np.float64(nan), np.float64(nan), np.float64(nan), np.float64(nan)]\n",
      "Errors: [100, 100, 100, 100, 100, 100, 100, 100, 100, 100, 100, 100, 100, 100, 100, 100, 100, 100, 100, 100]\n",
      "Voltages [4700, 4800, 4900, 5000, 5100, 5200, 5300, 5400, 5450, 5500, 5550, 5600, 5650, 5700, 5750, 5800, 5850, 5900, 5950, 6000]\n"
     ]
    }
   ],
   "source": [
    "# Plot Cluster size in the second figure\n",
    "clusters = []\n",
    "errors = []\n",
    "voltage = []\n",
    "for volt_data in complete_data:\n",
    "    if \"cluster_size\" not in volt_data.keys():\n",
    "        continue\n",
    "    clusters.append(volt_data[\"cluster_size\"][0][rpc])\n",
    "    errors.append(volt_data[\"cluster_size\"][1][rpc])\n",
    "    voltage.append(volt_data[\"voltage\"])\n",
    "\n",
    "plt.figure(figsize=(10, 6))  # Create a new figure\n",
    "plt.plot(voltage, clusters, label=\"Cluster size\", color=\"red\")\n",
    "plt.errorbar(voltage, clusters, yerr=errors, fmt='o', color=\"red\")\n",
    "plt.title(f\"Cluster size (RPC {rpc})\")\n",
    "plt.xlabel(\"Voltage (V)\")\n",
    "plt.ylabel(\"Cluster size\")\n",
    "plt.legend()\n",
    "plt.show()\n",
    "\n",
    "print(\"Cluster size:\", clusters)\n",
    "print(\"Errors:\", errors)\n",
    "print(\"Voltages\", voltage)\n"
   ]
  },
  {
   "cell_type": "code",
   "execution_count": 35,
   "metadata": {},
   "outputs": [],
   "source": [
    "#Plot Histograms\n",
    "rpc = 4\n",
    "selected_voltages = [5600, 5800, 6000]\n",
    "plt.figure(figsize=(10, 6))  # Create a new figure\n",
    "for i, volt_data in enumerate(complete_data):\n",
    "    if volt_data[\"voltage\"] in selected_voltages and \"hit_time_hist\" in volt_data.keys():\n",
    "        hist = volt_data[\"hit_time_hist\"][0][0]\n",
    "        plt.plot(hist[rpc][0][:-1], hist[rpc][1], label=f\"Voltage {volt_data['voltage']} V\")\n",
    "        plt.title(f\"Hit time histogram (RPC {rpc+1})\")\n",
    "        plt.xlabel(\"Time (25/32 ns)\")\n",
    "        plt.yscale(\"log\")\n",
    "        plt.ylabel(\"Counts (normalised)\")\n",
    "plt.legend()\n",
    "plt.show()"
   ]
  },
  {
   "cell_type": "code",
   "execution_count": 33,
   "metadata": {},
   "outputs": [
    {
     "name": "stdout",
     "output_type": "stream",
     "text": [
      "Stds: [np.float64(198.28548465012042), np.float64(171.2463156034313), np.float64(195.05149006410264), np.float64(187.84188200615515), np.float64(200.2884212022692), np.float64(214.99125021298082), np.float64(223.63960361884546), np.float64(245.56708406769977), np.float64(253.31949145527304), np.float64(254.8483116389822), np.float64(256.4219398001788), np.float64(276.913536169867), np.float64(268.5446704210353), np.float64(271.66737938804954), np.float64(276.4722254322756), np.float64(278.5488587842489), np.float64(282.0593934539096), np.float64(272.9047684572004), np.float64(270.0153303980897), np.float64(261.36739393233586)]\n",
      "Voltages: [4700, 4800, 4900, 5000, 5100, 5200, 5300, 5400, 5450, 5500, 5550, 5600, 5650, 5700, 5750, 5800, 5850, 5900, 5950, 6000]\n"
     ]
    }
   ],
   "source": [
    "stds = []\n",
    "voltages = []\n",
    "rpc = 4\n",
    "for volt_data in complete_data:\n",
    "    if \"hit_time_hist\" in volt_data.keys():\n",
    "        stds.append(volt_data[\"hit_time_hist\"][1][0][rpc])\n",
    "        voltages.append(volt_data[\"voltage\"])\n",
    "\n",
    "plt.plot(voltages, stds , label=\"Standard deviation\")\n",
    "plt.xlabel(\"Voltage (V)\")\n",
    "plt.ylabel(\"Standard deviation\")\n",
    "plt.title(f\"Spread of the hit time peak (RPC {rpc})\")\n",
    "plt.legend()\n",
    "plt.show()\n",
    "\n",
    "print(\"Stds:\", stds)\n",
    "print(\"Voltages:\", voltages)"
   ]
  },
  {
   "cell_type": "code",
   "execution_count": 46,
   "metadata": {},
   "outputs": [
    {
     "name": "stdout",
     "output_type": "stream",
     "text": [
      "0\n",
      "1\n",
      "2\n"
     ]
    }
   ],
   "source": [
    "#Save chunks\n",
    "files = [\"proAnubis_240815_1759.raw\", \"proAnubis_240818_1125.raw\", \"proAnubis_240818_1325.raw\"]\n",
    "rpc = 2\n",
    "\n",
    "storage_name = f\"chunks_hv{rpc}.pkl\"\n",
    "file_name = files[rpc]\n",
    "\n",
    "hv_file = 'data/hvScan.csv'  # Replace with your file path\n",
    "hv_data = pd.read_csv(hv_file)\n",
    "#hv_data = pd.read_csv(hv_file, usecols=[\"start_\"+str(rpc),\"end_\"+str(rpc),\"voltage_\"+str(rpc)])\n",
    "\n",
    "#rpc 0: 2024-08-15 17:24:22\t\n",
    "#rpc 1\t2024-08-18 11:39:42\n",
    "#rpc 2\t2024-08-18 12:22:21 \n",
    "\n",
    "\n",
    "import numpy as np\n",
    "import matplotlib.pyplot as plt\n",
    "cl0 = [np.float64(1.0339622641509434), np.float64(1.045432730763078), np.float64(1.0991290983606556), np.float64(1.1098737353933026), np.float64(1.158373989173294), np.float64(1.199706026457619), np.float64(1.243627828510654), np.float64(1.3051052260598126), np.float64(1.3432812085873311), np.float64(1.4434467018370936), np.float64(1.5500040730985418), np.float64(1.6012395661518468), np.float64(1.7499497487437186), np.float64(1.9432747311988978), np.float64(2.1125484678996673), np.float64(2.418690392760291), np.float64(2.816230601735043), np.float64(3.3619210977701544), np.float64(4.264796643667002), np.float64(5.270159270760293)]\n",
    "err0 = [np.float64(0.011126854946426285), np.float64(0.00797484375042157), np.float64(0.010639097472394752), np.float64(0.006399245040924702), np.float64(0.005373077722241347), np.float64(0.011612885000507504), np.float64(0.011525592304870512), np.float64(0.012537685498550555), np.float64(0.011259031916725452), np.float64(0.01603256469828638), np.float64(0.016418504051676275), np.float64(0.016081504890198023), np.float64(0.019236149879349896), np.float64(0.02214773563960034), np.float64(0.026127083422149457), np.float64(0.028637597625313208), np.float64(0.03627862360495955), np.float64(0.03986771546091226), np.float64(0.05496790069215523), np.float64(0.06452445127451842)]\n",
    "eff_0 = [0.7142857142857143, 0.631578947368421, 0.7407407407407407, 0.800498753117207, 0.837734404898584, 0.8513661202185793, 0.8619281045751634, 0.8058705803869246, 0.7712418300653595, 0.7727272727272727, 0.8007478632478633, 0.8371369294605809, 0.06060606060606061, 0.8083756345177665, 0.7622107969151671, 0.6454965357967667, 0.6234747239976758, 0.5983076157292185, 0.5689544579858884, 0.6159267089499648]\n",
    "good_0 = [27.23, 176.75, 187.79, 208.36, 217.25, 219.96, 231.34, 237.86, 244.11, 260.15, 282.66, 307.92, 334.27, 358.79, 387.47, 420.82, 458.28, 558.12, 707.28, 952.21]\n",
    "bad_0 = [0.36, 7.19, 10.49, 13.81, 15.59, 17.85, 20.35, 25.15, 26.74, 27.65, 39.5, 38.18, 45.49, 48.32, 61.55, 60.18, 68.13, 77.08, 101.84, 110.29]\n",
    "std_0 = [np.float64(116.44640183214655), np.float64(147.14398853196343), np.float64(130.4686001108644), np.float64(60.85581179078705), np.float64(147.10844128432203), np.float64(175.56184808696304), np.float64(195.82146789505632), np.float64(203.24078063739753), np.float64(222.7283138879541), np.float64(216.74833196589313), np.float64(233.39542971654942), np.float64(238.1559128032108), np.float64(248.41570803066662), np.float64(254.446597678295), np.float64(254.71945322400353), np.float64(264.04218057542863), np.float64(254.63390691215753), np.float64(260.4522079461875), np.float64(261.20382309648596), np.float64(268.37842991368245), np.float64(265.0101410268362), np.float64(256.88603378265293), np.float64(246.9555944252669)]\n",
    "voltages_0 = [3000.0, 4000.0, 4500.0, 4750.0, 5000.0, 5100.0, 5200.0, 5250.0, 5300.0, 5350.0, 5400.0, 5450.0, 5500.0, 5550.0, 5600.0, 5650.0, 5700.0, 5750.0, 5800.0, 5850.0, 5900.0, 5950.0, 6000.0]\n",
    "\n",
    "\n",
    "cl1 = [np.float64(1.2212389380530972), np.float64(1.1514522821576763), np.float64(1.047808764940239), np.float64(1.074378831881252), np.float64(1.0793083854208945), np.float64(1.130030772943945), np.float64(1.1806598517513687), np.float64(1.2741918045194076), np.float64(1.3286349856293556), np.float64(1.3650258038904328), np.float64(1.4437348498974454), np.float64(1.5276988398916787), np.float64(1.6550848547184367), np.float64(1.7486767031002957), np.float64(1.9628453593196833), np.float64(2.2378623115171603), np.float64(2.5977705099267583), np.float64(3.288475477168398), np.float64(4.1703055084091964), np.float64(5.144818364163138)]\n",
    "err1 = [np.float64(0.15365365868781636), np.float64(0.050306133269046746), np.float64(0.01085851940062489), np.float64(0.012610236466712046), np.float64(0.007588714747234421), np.float64(0.009364968167379703), np.float64(0.010283760210871348), np.float64(0.012014437176205687), np.float64(0.013788835005604861), np.float64(0.012602875350185448), np.float64(0.017094625432900766), np.float64(0.016288766736714727), np.float64(0.01812416969437741), np.float64(0.019781668576846993), np.float64(0.023790335485086862), np.float64(0.029631820011282582), np.float64(0.03495556082164944), np.float64(0.044105284020961893), np.float64(0.05386122345286682), np.float64(0.04904885980725799)]\n",
    "eff_1 = [0, 0.6363636363636364, 0.6, 0.6492890995260664, 0.6837416481069042, 0.7642526964560863, 0.8214285714285714, 0.7619439868204283, 0.7778810408921933, 0.8096013018714402, 0.8154020385050963, 0.8282910874897792, 0.7958030669895076, 0.7861271676300579, 0.7273449920508744, 0.6556451612903226, 0.6175889328063241, 0.6141078838174274, 0.6260543580131209, 0.6921641791044776]\n",
    "good_1 = [23.11, 101.19, 143.96, 161.91, 178.94, 195.78, 209.24, 210.39, 224.92, 246.56, 265.62, 278.61, 294.74, 311.62, 325.12, 350.22, 413.4, 535.85, 680.4, 946.93]\n",
    "bad_1 = [0.82, 2.85, 4.97, 10.8, 11.69, 13.95, 19.5, 22.54, 28.8, 30.71, 39.49, 39.49, 43.2, 48.55, 57.97, 48.03, 68.53, 78.68, 94.05, 143.15]\n",
    "std_1 = [np.float64(33.62848900345012), np.float64(75.40251771826425), np.float64(20.23976986093638), np.float64(98.9403675674452), np.float64(157.65312727971587), np.float64(25.425914261172096), np.float64(155.12154453706253), np.float64(122.58264578206251), np.float64(143.98342398843823), np.float64(176.8360062555137), np.float64(190.7766510634326), np.float64(208.47690585506578), np.float64(231.04675647537343), np.float64(239.5889561940645), np.float64(244.3349516634308), np.float64(242.81730853509387), np.float64(255.74022309532998), np.float64(259.7230028227785), np.float64(263.26304771075047), np.float64(263.73677604056456), np.float64(272.60875767022014), np.float64(264.79901299335796), np.float64(270.115786313314), np.float64(267.52328190045745), np.float64(259.5640546638369), np.float64(256.75948891329324)]\n",
    "voltages_1 = [4000, 4200, 4300, 4400, 4500, 4600, 4700, 4800, 4900, 5000, 5100, 5200, 5300, 5400, 5450, 5500, 5550, 5600, 5650, 5700, 5750, 5800, 5850, 5900, 5950, 6000]\n",
    "\n",
    "cl3 = [np.float64(1.3109243697478992), np.float64(1.4304932735426008), np.float64(1.088797108931337), np.float64(1.0732620320855615), np.float64(1.0889143293264645), np.float64(1.140652965500216), np.float64(1.2034606205250598), np.float64(1.300078919270229), np.float64(1.3564630027632791), np.float64(1.4238995328104238), np.float64(1.585788485880145), np.float64(1.614696409399976), np.float64(1.7720491102649778), np.float64(1.9402696793002916), np.float64(2.200837122032186), np.float64(2.4071046264388887), np.float64(2.8758147771372595), np.float64(3.5219217537402994), np.float64(4.607378273061656), np.float64(5.997637872773203)]\n",
    "err3 = [np.float64(0.13743948558122332), np.float64(0.17042343068733465), np.float64(0.029088649923025792), np.float64(0.014510821401138367), np.float64(0.01037693249897322), np.float64(0.00932813750248753), np.float64(0.01002816662956866), np.float64(0.012962796812449724), np.float64(0.015681357316640058), np.float64(0.015622954630547714), np.float64(0.021914920916389528), np.float64(0.019423017007949815), np.float64(0.02219151199022226), np.float64(0.024554762448446458), np.float64(0.028902655790087), np.float64(0.031205380199562274), np.float64(0.03841785594435168), np.float64(0.047352697168423274), np.float64(0.057293592625362544), np.float64(0.06856915514193454)]\n",
    "eff_3 = [0.3333333333333333, 0, 0.6046511627906976, 0.6592592592592592, 0.7282229965156795, 0.8059701492537313, 0.8470209339774557, 0.8125894134477826, 0.8591352859135286, 0.7796610169491526, 0.7790262172284644, 0.83729662077597, 0.8648960739030023, 0.8652173913043478, 0.8177676537585421, 0.7995712754555199, 0.7423913043478261, 0.6504524886877828, 0.6239035087719298, 0.6424180327868853]\n",
    "good_3 = [39.41, 118.95, 167.0, 178.56, 195.79, 211.84, 229.26, 247.03, 251.18, 267.39, 281.43, 314.74, 349.06, 390.47, 420.62, 477.23, 521.25, 645.4, 786.85, 1058.32]\n",
    "bad_3 =[1.24, 3.28, 5.57, 9.0, 12.72, 14.29, 17.94, 22.83, 22.58, 30.95, 27.29, 30.73, 42.35, 41.41, 49.63, 57.62, 68.54, 78.72, 95.06, 103.75]\n",
    "std_3 = [np.float64(22.580777820499762), np.float64(36.26761181903454), np.float64(115.76890863771862), np.float64(45.15559029300194), np.float64(15.544845883103225), np.float64(50.23009591777843), np.float64(109.6711771245793), np.float64(117.64960279069595), np.float64(139.9139886519241), np.float64(164.5487685457531), np.float64(179.88285706818914), np.float64(197.46726684488053), np.float64(204.03595753014383), np.float64(213.83843936997752), np.float64(222.52963942577753), np.float64(228.13897591693993), np.float64(236.74615068110663), np.float64(236.3079104812058), np.float64(241.65472667069506), np.float64(252.93947698782003), np.float64(242.48333735286218), np.float64(245.4035123716854), np.float64(241.87816539584296), np.float64(240.27277861641534), np.float64(230.55177350620454), np.float64(225.56577025801803)]\n",
    "voltages_3 = [4000, 4200, 4300, 4400, 4500, 4600, 4700, 4800, 4900, 5000, 5100, 5200, 5300, 5400, 5450, 5500, 5550, 5600, 5650, 5700, 5750, 5800, 5850, 5900, 5950, 6000]\n",
    "\n",
    "\n",
    "cluster = [cl0, cl1, cl3]\n",
    "error = [err0, err1, err3]\n",
    "eff = [eff_0, eff_1, eff_3]\n",
    "good = [good_0, good_1, good_3]\n",
    "bad = [bad_0, bad_1, bad_3]\n",
    "stds = [std_0, std_1, std_3]\n",
    "voltages = [voltages_0, voltages_1, voltages_3]\n",
    "\n",
    "#plot cluster size\n",
    "\"\"\"\n",
    "colour = [\"red\", \"blue\", \"green\"]\n",
    "labels = [\"bottom triplet\", \"middle triplet\", \"singlet\"]\n",
    "plt.figure(figsize=(10, 6))  # Create a new figure\n",
    "for rpc in range(3):\n",
    "    print(rpc)\n",
    "    plt.plot(voltages[rpc][3:], good[rpc], label=labels[rpc]+\" in-peak\", marker = \"o\", color=colour[rpc])\n",
    "    plt.plot(voltages[rpc][3:], bad[rpc], label=labels[rpc]+\" off-peak\", marker = \"x\", linestyle = \"--\", color=colour[rpc])\n",
    "\n",
    "plt.title(\"Hit Counts vs. Voltage\")\n",
    "plt.ylabel(\"hit Count per Chunk\")\n",
    "plt.xlabel(\"Voltage / V\")\n",
    "plt.xlim(5400, 6000)\n",
    "plt.ylim(0, 1200)\n",
    "plt.legend()\n",
    "plt.show()\n",
    "\n",
    "labels = [\"bottom triplet\", \"middle triplet\", \"singlet\"]\n",
    "plt.figure(figsize=(10, 6))  # Create a new figure\n",
    "for rpc in range(3):\n",
    "    print(rpc)\n",
    "    plt.plot(voltages[rpc][3:], cluster[rpc], label=labels[rpc], marker = \"o\", color=colour[rpc])\n",
    "    plt.errorbar(voltages[rpc][3:], cluster[rpc], yerr=error[rpc],  marker = \"o\", color=colour[rpc])\n",
    "plt.title(\"Cluster Size vs. Voltage\")\n",
    "plt.ylabel(\"Average Cluster size\")\n",
    "plt.xlim(5400, 6000)\n",
    "plt.xlabel(\"Voltage / V\")\n",
    "plt.legend()\n",
    "plt.show()\n",
    "\n",
    "labels = [\"bottom triplet\", \"middle triplet\", \"singlet\"]\n",
    "plt.figure(figsize=(10, 6))  # Create a new figure\n",
    "for rpc in range(3):\n",
    "    print(rpc)\n",
    "    plt.plot(voltages[rpc][3:], eff[rpc], label=labels[rpc], marker = \"o\", color=colour[rpc])\n",
    "plt.title(\"Maximal Reconstruction Efficiency vs. Voltage\")\n",
    "plt.ylabel(\"Efficiency\")\n",
    "plt.xlim(5400, 6000)\n",
    "plt.xlabel(\"Voltage / V\")\n",
    "plt.legend()\n",
    "plt.show()\n",
    "\n",
    "\"\"\"\n",
    "\n",
    "labels = [\"bottom triplet\", \"middle triplet\", \"singlet\"]\n",
    "plt.figure(figsize=(10, 6))  # Create a new figure\n",
    "for rpc in range(3):\n",
    "    print(rpc)\n",
    "    plt.plot(voltages[rpc], stds[rpc], label=labels[rpc], marker = \"o\", color=colour[rpc])\n",
    "plt.title(\"Standard deviation of hit time vs. Voltage\")\n",
    "plt.ylabel(\"$\\sigma$ / (25/32) ns\")\n",
    "plt.xlim(5000, 6000)\n",
    "plt.xlabel(\"Voltage / V\")\n",
    "plt.legend()\n",
    "plt.show()\n"
   ]
  }
 ],
 "metadata": {
  "kernelspec": {
   "display_name": ".venv",
   "language": "python",
   "name": "python3"
  },
  "language_info": {
   "codemirror_mode": {
    "name": "ipython",
    "version": 3
   },
   "file_extension": ".py",
   "mimetype": "text/x-python",
   "name": "python",
   "nbconvert_exporter": "python",
   "pygments_lexer": "ipython3",
   "version": "3.10.4"
  }
 },
 "nbformat": 4,
 "nbformat_minor": 2
}
