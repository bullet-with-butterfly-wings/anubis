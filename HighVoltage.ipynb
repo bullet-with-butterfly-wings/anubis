{
 "cells": [
  {
   "cell_type": "code",
   "execution_count": 2,
   "metadata": {},
   "outputs": [],
   "source": [
    "import overview\n",
    "import importlib\n",
    "import rawFileReader\n",
    "import pickle\n",
    "from matplotlib.backends.backend_pdf import PdfPages\n",
    "import pandas as pd\n",
    "\n",
    "dir_path = \"C://Users//jony//Programming//Python//Anubis//anubis//\" # insert your directory path\n"
   ]
  },
  {
   "cell_type": "code",
   "execution_count": 3,
   "metadata": {},
   "outputs": [],
   "source": [
    "#Save chunks\n",
    "files = [\"proAnubis_240815_1759.raw\", \"proAnubis_240818_1125.raw\",\"proAnubis_240818_1125.raw\", \"proAnubis_240818_1325.raw\", \"proAnubis_240829_2026.raw\"]\n",
    "rpc = 4\n",
    "\n",
    "storage_name = f\"chunks_hv{rpc}.pkl\"\n",
    "file_name = files[rpc]\n",
    "\n",
    "hv_file = 'data/hvScan.csv'  # Replace with your file path\n",
    "hv_data = pd.read_csv(hv_file, usecols=[\"start_\"+str(rpc),\"end_\"+str(rpc),\"voltage_\"+str(rpc)])\n",
    "\n",
    "#rpc 0: 2024-08-15 17:24:22\t\n",
    "#rpc 1\t2024-08-18 11:39:42\n",
    "#rpc 2\t2024-08-18 12:22:21 \n"
   ]
  },
  {
   "cell_type": "code",
   "execution_count": 4,
   "metadata": {},
   "outputs": [
    {
     "name": "stdout",
     "output_type": "stream",
     "text": [
      "Voltage: 3000.0\n",
      "Initial time 2024-08-15 16:59:49.312501 1723737589.312501\n",
      "Start: 1724948662.0\n",
      "Bigger than start: False\n"
     ]
    },
    {
     "name": "stderr",
     "output_type": "stream",
     "text": [
      "Skipping Events proAnubis_240815_1759.raw:   0%|          | 8/1211073 [00:05<247:18:05,  1.36Events/s]\n"
     ]
    },
    {
     "ename": "KeyboardInterrupt",
     "evalue": "",
     "output_type": "error",
     "traceback": [
      "\u001b[1;31m---------------------------------------------------------------------------\u001b[0m",
      "\u001b[1;31mKeyboardInterrupt\u001b[0m                         Traceback (most recent call last)",
      "Cell \u001b[1;32mIn[4], line 9\u001b[0m\n\u001b[0;32m      7\u001b[0m start \u001b[38;5;241m=\u001b[39m \u001b[38;5;124m\"\u001b[39m\u001b[38;5;124m2024-08-29 \u001b[39m\u001b[38;5;124m\"\u001b[39m \u001b[38;5;241m+\u001b[39m start \n\u001b[0;32m      8\u001b[0m end \u001b[38;5;241m=\u001b[39m \u001b[38;5;124m\"\u001b[39m\u001b[38;5;124m2024-08-29 \u001b[39m\u001b[38;5;124m\"\u001b[39m\u001b[38;5;241m+\u001b[39m end\n\u001b[1;32m----> 9\u001b[0m chunks, times, fReader \u001b[38;5;241m=\u001b[39m \u001b[43moverview\u001b[49m\u001b[38;5;241;43m.\u001b[39;49m\u001b[43mget_chunks\u001b[49m\u001b[43m(\u001b[49m\u001b[43mfile_name\u001b[49m\u001b[43m,\u001b[49m\u001b[43m \u001b[49m\u001b[43mfReader\u001b[49m\u001b[38;5;241;43m=\u001b[39;49m\u001b[43mfReader\u001b[49m\u001b[43m,\u001b[49m\u001b[43m \u001b[49m\u001b[43mstart\u001b[49m\u001b[38;5;241;43m=\u001b[39;49m\u001b[43mstart\u001b[49m\u001b[43m,\u001b[49m\u001b[43m \u001b[49m\u001b[43mend\u001b[49m\u001b[38;5;241;43m=\u001b[39;49m\u001b[43mend\u001b[49m\u001b[43m)\u001b[49m\n\u001b[0;32m     10\u001b[0m total_chunks\u001b[38;5;241m.\u001b[39mappend((voltage, times, chunks))\n",
      "File \u001b[1;32mc:\\Users\\jony\\Programming\\Python\\Anubis\\anubis\\overview.py:49\u001b[0m, in \u001b[0;36mget_chunks\u001b[1;34m(file_name, max_process_event, fReader, start, end, tdc5)\u001b[0m\n\u001b[0;32m     47\u001b[0m \u001b[38;5;28;01mwith\u001b[39;00m tqdm(total\u001b[38;5;241m=\u001b[39m\u001b[38;5;28mround\u001b[39m((goal\u001b[38;5;241m-\u001b[39mevent_time)\u001b[38;5;241m.\u001b[39mtotal_seconds()), desc\u001b[38;5;241m=\u001b[39m\u001b[38;5;124mf\u001b[39m\u001b[38;5;124m\"\u001b[39m\u001b[38;5;124mSkipping Events \u001b[39m\u001b[38;5;132;01m{\u001b[39;00mfile_name\u001b[38;5;132;01m}\u001b[39;00m\u001b[38;5;124m\"\u001b[39m, unit\u001b[38;5;241m=\u001b[39m\u001b[38;5;124m'\u001b[39m\u001b[38;5;124mEvents\u001b[39m\u001b[38;5;124m'\u001b[39m) \u001b[38;5;28;01mas\u001b[39;00m pbar:        \n\u001b[0;32m     48\u001b[0m     \u001b[38;5;28;01mwhile\u001b[39;00m event_time \u001b[38;5;241m<\u001b[39m datetime\u001b[38;5;241m.\u001b[39mstrptime(start, \u001b[38;5;124m'\u001b[39m\u001b[38;5;124m%\u001b[39m\u001b[38;5;124mY-\u001b[39m\u001b[38;5;124m%\u001b[39m\u001b[38;5;124mm-\u001b[39m\u001b[38;5;132;01m%d\u001b[39;00m\u001b[38;5;124m \u001b[39m\u001b[38;5;124m%\u001b[39m\u001b[38;5;124mH:\u001b[39m\u001b[38;5;124m%\u001b[39m\u001b[38;5;124mM:\u001b[39m\u001b[38;5;124m%\u001b[39m\u001b[38;5;124mS\u001b[39m\u001b[38;5;124m'\u001b[39m):\n\u001b[1;32m---> 49\u001b[0m         \u001b[43mfReader\u001b[49m\u001b[38;5;241;43m.\u001b[39;49m\u001b[43mskip_events\u001b[49m\u001b[43m(\u001b[49m\u001b[38;5;241;43m2_000\u001b[39;49m\u001b[43m)\u001b[49m\n\u001b[0;32m     50\u001b[0m         \u001b[38;5;28;01mtry\u001b[39;00m:\n\u001b[0;32m     51\u001b[0m             chunk \u001b[38;5;241m=\u001b[39m fReader\u001b[38;5;241m.\u001b[39mget_aligned_events(order\u001b[38;5;241m=\u001b[39morder, interval\u001b[38;5;241m=\u001b[39minterval, extract_tdc_mets \u001b[38;5;241m=\u001b[39m \u001b[38;5;28;01mFalse\u001b[39;00m)\n",
      "File \u001b[1;32mC:\\/Users//jony//Programming//Python//Anubis//anubis//Osiris//processing//python\\rawFileReader.py:59\u001b[0m, in \u001b[0;36mfileReader.skip_events\u001b[1;34m(self, count)\u001b[0m\n\u001b[0;32m     57\u001b[0m \u001b[38;5;66;03m#with tqdm(total=count, desc=\"Skipping Events\", unit='Events') as pbar:\u001b[39;00m\n\u001b[0;32m     58\u001b[0m \u001b[38;5;28;01mwhile\u001b[39;00m count \u001b[38;5;241m>\u001b[39m \u001b[38;5;241m0\u001b[39m:\n\u001b[1;32m---> 59\u001b[0m     \u001b[38;5;28;01mif\u001b[39;00m \u001b[38;5;129;01mnot\u001b[39;00m \u001b[38;5;28;43mself\u001b[39;49m\u001b[38;5;241;43m.\u001b[39;49m\u001b[43mreadBlock\u001b[49m\u001b[43m(\u001b[49m\u001b[43m)\u001b[49m:\n\u001b[0;32m     60\u001b[0m         \u001b[38;5;28mprint\u001b[39m(\u001b[38;5;124m\"\u001b[39m\u001b[38;5;124mBad Block Read\u001b[39m\u001b[38;5;124m\"\u001b[39m)\n\u001b[0;32m     61\u001b[0m         \u001b[38;5;28;01mbreak\u001b[39;00m\n",
      "File \u001b[1;32mC:\\/Users//jony//Programming//Python//Anubis//anubis//Osiris//processing//python\\rawFileReader.py:222\u001b[0m, in \u001b[0;36mfileReader.readBlock\u001b[1;34m(self, p)\u001b[0m\n\u001b[0;32m    220\u001b[0m     \u001b[38;5;28mprint\u001b[39m(\u001b[38;5;124m\"\u001b[39m\u001b[38;5;124mGoing to over-read the file. Corrupted number of bytes? Header is\u001b[39m\u001b[38;5;124m\"\u001b[39m, \u001b[38;5;28mhex\u001b[39m(leadWords[\u001b[38;5;241m2\u001b[39m]))\n\u001b[0;32m    221\u001b[0m     \u001b[38;5;28;01mreturn\u001b[39;00m \u001b[38;5;28;01mFalse\u001b[39;00m\n\u001b[1;32m--> 222\u001b[0m tdcReadData \u001b[38;5;241m=\u001b[39m \u001b[38;5;28;43mself\u001b[39;49m\u001b[38;5;241;43m.\u001b[39;49m\u001b[43mdata\u001b[49m\u001b[38;5;241;43m.\u001b[39;49m\u001b[43mread\u001b[49m\u001b[43m(\u001b[49m\u001b[43mnWords\u001b[49m\u001b[38;5;241;43m*\u001b[39;49m\u001b[38;5;28;43mself\u001b[39;49m\u001b[38;5;241;43m.\u001b[39;49m\u001b[43mwordSize\u001b[49m\u001b[43m)\u001b[49m\n\u001b[0;32m    223\u001b[0m \u001b[38;5;28mself\u001b[39m\u001b[38;5;241m.\u001b[39mbytesRead \u001b[38;5;241m=\u001b[39m \u001b[38;5;28mself\u001b[39m\u001b[38;5;241m.\u001b[39mbytesRead\u001b[38;5;241m+\u001b[39m\u001b[38;5;28mself\u001b[39m\u001b[38;5;241m.\u001b[39mwordSize\u001b[38;5;241m*\u001b[39m(nWords\u001b[38;5;241m+\u001b[39m\u001b[38;5;241m3\u001b[39m)\n\u001b[0;32m    224\u001b[0m \u001b[38;5;28mself\u001b[39m\u001b[38;5;241m.\u001b[39mevtBuilder\u001b[38;5;241m.\u001b[39maddTDCRead(thisTDC, thisTime, tdcReadData, p)\n",
      "\u001b[1;31mKeyboardInterrupt\u001b[0m: "
     ]
    }
   ],
   "source": [
    "fReader = rawFileReader.fileReader(dir_path+\"data//\"+file_name) # load in the classs object\n",
    "total_chunks = []\n",
    "for start, end, voltage in hv_data.values:\n",
    "    if type(start) == float:\n",
    "        break\n",
    "    print(\"Voltage:\", voltage)\n",
    "    start = \"2024-08-29 \" + start \n",
    "    end = \"2024-08-29 \"+ end\n",
    "    chunks, times, fReader = overview.get_chunks(file_name, fReader=fReader, start=start, end=end)\n",
    "    total_chunks.append((voltage, times, chunks))"
   ]
  },
  {
   "cell_type": "code",
   "execution_count": 90,
   "metadata": {},
   "outputs": [],
   "source": [
    "with open(storage_name, \"wb\") as outp:\n",
    "    pickle.dump(total_chunks, outp)"
   ]
  },
  {
   "cell_type": "code",
   "execution_count": 8,
   "metadata": {},
   "outputs": [
    {
     "name": "stdout",
     "output_type": "stream",
     "text": [
      "Chunks Loaded\n"
     ]
    }
   ],
   "source": [
    "importlib.reload(overview)\n",
    "import matplotlib.pyplot as plt\n",
    "\n",
    "with open(storage_name, \"rb\") as inp:\n",
    "    total_chunks = pickle.load(inp)\n",
    "print(\"Chunks Loaded\")"
   ]
  },
  {
   "cell_type": "code",
   "execution_count": 45,
   "metadata": {},
   "outputs": [
    {
     "name": "stdout",
     "output_type": "stream",
     "text": [
      "# Chunks for 4000: 1\n",
      "Only one chunk, skipping\n",
      "# Chunks for 4200: 1\n",
      "Only one chunk, skipping\n",
      "# Chunks for 4300: 1\n",
      "Only one chunk, skipping\n",
      "# Chunks for 4400: 1\n",
      "Only one chunk, skipping\n",
      "# Chunks for 4500: 1\n",
      "Only one chunk, skipping\n",
      "# Chunks for 4600: 1\n",
      "Only one chunk, skipping\n",
      "# Chunks for 4700: 19\n",
      "Hit Time Histogram Done\n",
      "# Chunks for 4800: 65\n",
      "Hit Time Histogram Done\n",
      "# Chunks for 4900: 216\n",
      "Hit Time Histogram Done\n",
      "# Chunks for 5000: 506\n",
      "Hit Time Histogram Done\n",
      "# Chunks for 5100: 748\n",
      "Hit Time Histogram Done\n",
      "# Chunks for 5200: 965\n",
      "Hit Time Histogram Done\n",
      "# Chunks for 5300: 1070\n",
      "Hit Time Histogram Done\n",
      "# Chunks for 5400: 1136\n",
      "Hit Time Histogram Done\n",
      "# Chunks for 5450: 1177\n",
      "Hit Time Histogram Done\n",
      "# Chunks for 5500: 1280\n",
      "Hit Time Histogram Done\n",
      "# Chunks for 5550: 1203\n",
      "Hit Time Histogram Done\n",
      "# Chunks for 5600: 1293\n",
      "Hit Time Histogram Done\n",
      "# Chunks for 5650: 1267\n",
      "Hit Time Histogram Done\n",
      "# Chunks for 5700: 1309\n",
      "Hit Time Histogram Done\n",
      "# Chunks for 5750: 1283\n",
      "Hit Time Histogram Done\n",
      "# Chunks for 5800: 1293\n",
      "Hit Time Histogram Done\n",
      "# Chunks for 5850: 1367\n",
      "Hit Time Histogram Done\n",
      "# Chunks for 5900: 1366\n",
      "Hit Time Histogram Done\n",
      "# Chunks for 5950: 1456\n",
      "Hit Time Histogram Done\n",
      "# Chunks for 6000: 1503\n",
      "Hit Time Histogram Done\n"
     ]
    }
   ],
   "source": [
    "importlib.reload(overview)\n",
    "complete_data = []\n",
    "\n",
    "with PdfPages(f\"hit_time_histograms{rpc}.pdf\") as pdf: #trash pdf, so I do not need to click on\n",
    "    for voltage, times, chunks in total_chunks:\n",
    "        results_dict = {}\n",
    "        print(f\"# Chunks for {round(voltage)}:\", len(chunks))\n",
    "        if len(chunks) == 1:\n",
    "            print(\"Only one chunk, skipping\")\n",
    "            continue\n",
    "        \n",
    "        cluster_size, error, hist = overview.cluster_size(chunks, residual=False)\n",
    "        results_dict[\"cluster_size\"] = (cluster_size, error, hist)\n",
    "        results_dict[\"efficiency\"] = overview.efficiency(chunks, residual = False)\n",
    "        \n",
    "        \n",
    "        good, bad = overview.abs_bvg_hits(chunks[:100], times[:100], per_rpc=True, pdf = pdf)[rpc]\n",
    "        \n",
    "        results_dict[\"counts\"] = (good, bad)\n",
    "        \n",
    "        hist, std = overview.hit_time_hist(chunks, per_rpc= True, pdf=pdf)\n",
    "        results_dict[\"hit_time_hist\"] = (hist, std)\n",
    "        results_dict[\"voltage\"] = voltage\n",
    "        if results_dict:\n",
    "            complete_data.append(results_dict)\n",
    "\n",
    "\n",
    "        "
   ]
  },
  {
   "cell_type": "code",
   "execution_count": 6,
   "metadata": {},
   "outputs": [
    {
     "name": "stderr",
     "output_type": "stream",
     "text": [
      "\n",
      "KeyboardInterrupt\n",
      "\n"
     ]
    }
   ],
   "source": [
    "import matplotlib.pyplot as plt\n",
    "import numpy as np\n",
    "selected_voltages = [5600, 5800, 6000]\n",
    "for volt_data in complete_data:\n",
    "    if volt_data[\"voltage\"] in selected_voltages and \"cluster_size\" in volt_data.keys():\n",
    "        hist, bins = np.histogram(volt_data[\"cluster_size\"][2][rpc], bins=range(1, max(volt_data[\"cluster_size\"][2][rpc])+2))\n",
    "        plt.step(bins[:-1], hist, label=\"Voltage: \"+volt_data[\"voltage\"]+\"V\", alpha=0.5)\n",
    "plt.legend()\n",
    "plt.xlabel(\"Cluster Size\")\n",
    "plt.ylabel(\"Counts\")\n",
    "plt.yscale(\"log\")\n",
    "plt.title(f\"Cluster Size Distribution RPC {rpc}\")\n",
    "plt.show()\n",
    "\n"
   ]
  },
  {
   "cell_type": "code",
   "execution_count": 100,
   "metadata": {},
   "outputs": [],
   "source": [
    "import matplotlib.pyplot as plt\n",
    "plt.figure(figsize=(10, 6))  # Create a new figure\n",
    "\n",
    "# Plot In-peak and Off-peak hits in the first figure\n",
    "\n",
    "good = []\n",
    "bad = []\n",
    "voltage = []\n",
    "for volt_data in complete_data:\n",
    "    if \"counts\" not in volt_data.keys():\n",
    "        continue\n",
    "    good.append(volt_data[\"counts\"][0])\n",
    "    bad.append(volt_data[\"counts\"][1])\n",
    "    voltage.append(volt_data[\"voltage\"])\n",
    "\n",
    "plt.plot(voltage, good, label=\"In-peak hits\", color=\"blue\")\n",
    "plt.plot(voltage, bad, label=\"Off-peak hits\", color=\"red\")\n",
    "plt.title(f\"Off-peak and In-peak hits (RPC {rpc})\")\n",
    "plt.xlabel(\"Voltage (V)\")\n",
    "plt.ylabel(\"Counts per chunk\")\n",
    "plt.legend()\n",
    "plt.show()\n",
    "\n",
    "print(\"Good\",good )\n",
    "print(\"Bad\", bad)\n",
    "print(\"Voltage\", voltage)"
   ]
  },
  {
   "cell_type": "code",
   "execution_count": 109,
   "metadata": {},
   "outputs": [],
   "source": [
    "# Plot Efficiency in the third figure\n",
    "plt.figure(figsize=(10, 6))  # Create a new figure\n",
    "efficiencies = []\n",
    "voltage = []\n",
    "for volt_data in complete_data:\n",
    "    if \"efficiency\" not in volt_data.keys():\n",
    "        continue\n",
    "    efficiencies.append(volt_data[\"efficiency\"])\n",
    "    voltage.append(volt_data[\"voltage\"])\n",
    "plt.plot(voltage, efficiencies, label=\"Efficiency\", color=\"red\")\n",
    "plt.title(f\"Efficiency (RPC {rpc})\")\n",
    "plt.xlabel(\"Voltage (V)\")\n",
    "plt.ylabel(\"Efficiency\")\n",
    "plt.legend()\n",
    "plt.show()\n",
    "\n",
    "print(\"Efficiencies:\", efficiencies)\n",
    "print(\"Voltages:\", voltage)"
   ]
  },
  {
   "cell_type": "code",
   "execution_count": 9,
   "metadata": {},
   "outputs": [],
   "source": [
    "# Plot Cluster size in the second figure\n",
    "clusters = []\n",
    "errors = []\n",
    "voltage = []\n",
    "for volt_data in complete_data:\n",
    "    if \"cluster_size\" not in volt_data.keys():\n",
    "        continue\n",
    "    clusters.append(volt_data[\"cluster_size\"][0][rpc])\n",
    "    errors.append(volt_data[\"cluster_size\"][1][rpc])\n",
    "    voltage.append(volt_data[\"voltage\"])\n",
    "\n",
    "plt.figure(figsize=(10, 6))  # Create a new figure\n",
    "plt.plot(voltage, clusters, label=\"Cluster size\", color=\"red\")\n",
    "plt.errorbar(voltage, clusters, yerr=errors, fmt='o', color=\"red\")\n",
    "plt.title(f\"Cluster size (RPC {rpc})\")\n",
    "plt.xlabel(\"Voltage (V)\")\n",
    "plt.ylabel(\"Cluster size\")\n",
    "plt.legend()\n",
    "plt.show()\n",
    "\n",
    "print(\"Cluster size:\", clusters)\n",
    "print(\"Errors:\", errors)\n",
    "print(\"Voltages\", voltage)\n"
   ]
  },
  {
   "cell_type": "code",
   "execution_count": 39,
   "metadata": {},
   "outputs": [
    {
     "name": "stdout",
     "output_type": "stream",
     "text": [
      "26\n",
      "2\n",
      "2\n"
     ]
    }
   ],
   "source": [
    "#Plot Histograms\n",
    "rpc = 3\n",
    "selected_voltages = [5600, 5800, 6000]\n",
    "plt.figure(figsize=(10, 6))  # Create a new figure\n",
    "for i, volt_data in enumerate(complete_data):\n",
    "    if volt_data[\"voltage\"] in selected_voltages and \"hit_time_hist\" in volt_data.keys():\n",
    "        hist = volt_data[\"hit_time_hist\"][0]\n",
    "        plt.plot(hist[rpc][0][:-1], hist[rpc][1], label=f\"Voltage {volt_data['voltage']} V\")\n",
    "        plt.plot(hist[rpc][0][:-1], hist[rpc][1], label=f\"Voltage {volt_data[\"voltage\"]} V\")\n",
    "        plt.title(f\"Hit time histogram (RPC {rpc+1})\")\n",
    "        plt.xlabel(\"Time (25/32 ns)\")\n",
    "        plt.yscale(\"log\")\n",
    "        plt.ylabel(\"Counts (normalised)\")\n",
    "plt.legend()\n",
    "plt.show()"
   ]
  },
  {
   "cell_type": "code",
   "execution_count": 40,
   "metadata": {},
   "outputs": [
    {
     "name": "stdout",
     "output_type": "stream",
     "text": [
      "[[[np.float64(276.95037939735676), np.float64(481.1764271460127), np.float64(261.95351774737145), np.float64(22.580777820499762), np.float64(198.2039152095318), np.float64(105.76022672833302)]], [[np.float64(140.6423798204495), np.float64(194.24480048262524), np.float64(475.3644166274709), np.float64(36.26761181903454), np.float64(240.9350174852225), np.float64(427.37100075479407)]], [[np.float64(422.4884311105226), np.float64(160.47600533105899), np.float64(344.01823110064197), np.float64(115.76890863771862), np.float64(330.8037311703494), np.float64(234.66290423120188)]], [[np.float64(295.6352466000903), np.float64(169.26156145604776), np.float64(286.7519915874869), np.float64(45.15559029300194), np.float64(236.91888095629298), np.float64(274.584223741319)]], [[np.float64(133.89823330118384), np.float64(209.742275299269), np.float64(361.60539299182375), np.float64(15.544845883103225), np.float64(431.5892113587892), np.float64(267.4758099533995)]], [[np.float64(210.66507565369136), np.float64(119.0082447597321), np.float64(319.0290623919765), np.float64(50.23009591777843), np.float64(470.1488982256479), np.float64(363.2432493036059)]], [[np.float64(264.6310217112279), np.float64(270.92739299167374), np.float64(308.6797221105261), np.float64(109.6711771245793), np.float64(197.54606737577475), np.float64(248.54203964127112)]], [[np.float64(265.7226005561734), np.float64(258.3729281231438), np.float64(268.9163488961617), np.float64(117.64960279069595), np.float64(282.190393136297), np.float64(266.027815798506)]], [[np.float64(280.292665701546), np.float64(266.86149834309384), np.float64(275.1214979043538), np.float64(139.9139886519241), np.float64(272.06620787684284), np.float64(266.4196354772713)]], [[np.float64(276.13663203142653), np.float64(264.0487847163466), np.float64(289.63591843500535), np.float64(164.5487685457531), np.float64(270.30126799961886), np.float64(270.0110087595579)]], [[np.float64(266.8334369444558), np.float64(271.039787388424), np.float64(290.34773201311884), np.float64(179.88285706818914), np.float64(266.4560158784681), np.float64(260.67585372011047)]], [[np.float64(271.35944774757417), np.float64(260.9167608182088), np.float64(290.437317274902), np.float64(197.46726684488053), np.float64(272.4049129353581), np.float64(271.1231596090545)]], [[np.float64(269.53263746713833), np.float64(263.7534199825743), np.float64(292.4311780273856), np.float64(204.03595753014383), np.float64(277.15922250620656), np.float64(272.14669876677726)]], [[np.float64(274.12101954826295), np.float64(270.4885779226693), np.float64(288.95772145750016), np.float64(213.83843936997752), np.float64(273.90928027195565), np.float64(274.01928706346285)]], [[np.float64(269.30034237295484), np.float64(267.8741132497974), np.float64(288.40513080913104), np.float64(222.52963942577753), np.float64(276.2660375060531), np.float64(270.33232418491446)]], [[np.float64(271.7642349884049), np.float64(270.55855290549965), np.float64(289.5056630323559), np.float64(228.13897591693993), np.float64(266.33024605203457), np.float64(274.37433492541885)]], [[np.float64(269.61775813356076), np.float64(275.47612929818655), np.float64(293.41318229231445), np.float64(236.74615068110663), np.float64(271.96269712734), np.float64(270.7100470645981)]], [[np.float64(267.83551571213496), np.float64(266.3324950271585), np.float64(288.89723504105916), np.float64(236.3079104812058), np.float64(277.5693787591218), np.float64(275.2814416657471)]], [[np.float64(270.32486439799305), np.float64(267.19716106211223), np.float64(289.4421057884974), np.float64(241.65472667069506), np.float64(267.3947265614691), np.float64(274.1109554223796)]], [[np.float64(273.4434348533184), np.float64(269.3113506855907), np.float64(292.81216157599295), np.float64(252.93947698782003), np.float64(270.19134005652415), np.float64(280.4410334517126)]], [[np.float64(270.08941100310517), np.float64(274.40589734300016), np.float64(294.6241810548917), np.float64(242.48333735286218), np.float64(276.02785532444096), np.float64(270.9922168788531)]], [[np.float64(266.15154753158924), np.float64(272.09716111734133), np.float64(295.6756807006067), np.float64(245.4035123716854), np.float64(273.19587186452566), np.float64(269.16431912968915)]], [[np.float64(269.08397137084944), np.float64(276.6068783639673), np.float64(291.82638512632485), np.float64(241.87816539584296), np.float64(276.0013520655139), np.float64(271.8431363222769)]], [[np.float64(270.74165094635083), np.float64(274.2599982755998), np.float64(287.835551998066), np.float64(240.27277861641534), np.float64(271.1856424187386), np.float64(274.2296139296244)]], [[np.float64(270.2038893979103), np.float64(265.12602863514377), np.float64(287.3202151151581), np.float64(230.55177350620454), np.float64(273.8821132610904), np.float64(269.7460721559368)]], [[np.float64(266.9779156093039), np.float64(270.838693137009), np.float64(289.9119052473732), np.float64(225.56577025801803), np.float64(276.55944801613487), np.float64(271.28479669593236)]]]\n"
     ]
    }
   ],
   "source": [
    "stds = []\n",
    "voltages = []\n",
    "rpc = 3\n",
    "for volt_data in complete_data:\n",
    "    if \"hit_time_hist\" in volt_data.keys():\n",
    "        stds.append(volt_data[\"hit_time_hist\"][1][rpc])\n",
    "        voltages.append(volt_data[\"voltage\"])\n",
    "\n",
    "plt.plot(voltages, stds , label=\"Standard deviation\")\n",
    "plt.xlabel(\"Voltage (V)\")\n",
    "plt.ylabel(\"Standard deviation\")\n",
    "plt.title(f\"Spread of the hit time peak (RPC {rpc})\")\n",
    "plt.legend()\n",
    "plt.show()\n",
    "\n",
    "print(\"Stds:\", stds)\n",
    "print(\"Voltages:\", voltages)"
   ]
  },
  {
   "cell_type": "code",
   "execution_count": 46,
   "metadata": {},
   "outputs": [
    {
     "name": "stdout",
     "output_type": "stream",
     "text": [
      "0\n",
      "1\n",
      "2\n"
     ]
    }
   ],
   "source": [
    "#Save chunks\n",
    "files = [\"proAnubis_240815_1759.raw\", \"proAnubis_240818_1125.raw\", \"proAnubis_240818_1325.raw\"]\n",
    "rpc = 2\n",
    "\n",
    "storage_name = f\"chunks_hv{rpc}.pkl\"\n",
    "file_name = files[rpc]\n",
    "\n",
    "hv_file = 'data/hvScan.csv'  # Replace with your file path\n",
    "hv_data = pd.read_csv(hv_file)\n",
    "#hv_data = pd.read_csv(hv_file, usecols=[\"start_\"+str(rpc),\"end_\"+str(rpc),\"voltage_\"+str(rpc)])\n",
    "\n",
    "#rpc 0: 2024-08-15 17:24:22\t\n",
    "#rpc 1\t2024-08-18 11:39:42\n",
    "#rpc 2\t2024-08-18 12:22:21 \n",
    "\n",
    "\n",
    "import numpy as np\n",
    "import matplotlib.pyplot as plt\n",
    "cl0 = [np.float64(1.0339622641509434), np.float64(1.045432730763078), np.float64(1.0991290983606556), np.float64(1.1098737353933026), np.float64(1.158373989173294), np.float64(1.199706026457619), np.float64(1.243627828510654), np.float64(1.3051052260598126), np.float64(1.3432812085873311), np.float64(1.4434467018370936), np.float64(1.5500040730985418), np.float64(1.6012395661518468), np.float64(1.7499497487437186), np.float64(1.9432747311988978), np.float64(2.1125484678996673), np.float64(2.418690392760291), np.float64(2.816230601735043), np.float64(3.3619210977701544), np.float64(4.264796643667002), np.float64(5.270159270760293)]\n",
    "err0 = [np.float64(0.011126854946426285), np.float64(0.00797484375042157), np.float64(0.010639097472394752), np.float64(0.006399245040924702), np.float64(0.005373077722241347), np.float64(0.011612885000507504), np.float64(0.011525592304870512), np.float64(0.012537685498550555), np.float64(0.011259031916725452), np.float64(0.01603256469828638), np.float64(0.016418504051676275), np.float64(0.016081504890198023), np.float64(0.019236149879349896), np.float64(0.02214773563960034), np.float64(0.026127083422149457), np.float64(0.028637597625313208), np.float64(0.03627862360495955), np.float64(0.03986771546091226), np.float64(0.05496790069215523), np.float64(0.06452445127451842)]\n",
    "eff_0 = [0.7142857142857143, 0.631578947368421, 0.7407407407407407, 0.800498753117207, 0.837734404898584, 0.8513661202185793, 0.8619281045751634, 0.8058705803869246, 0.7712418300653595, 0.7727272727272727, 0.8007478632478633, 0.8371369294605809, 0.06060606060606061, 0.8083756345177665, 0.7622107969151671, 0.6454965357967667, 0.6234747239976758, 0.5983076157292185, 0.5689544579858884, 0.6159267089499648]\n",
    "good_0 = [27.23, 176.75, 187.79, 208.36, 217.25, 219.96, 231.34, 237.86, 244.11, 260.15, 282.66, 307.92, 334.27, 358.79, 387.47, 420.82, 458.28, 558.12, 707.28, 952.21]\n",
    "bad_0 = [0.36, 7.19, 10.49, 13.81, 15.59, 17.85, 20.35, 25.15, 26.74, 27.65, 39.5, 38.18, 45.49, 48.32, 61.55, 60.18, 68.13, 77.08, 101.84, 110.29]\n",
    "std_0 = [np.float64(116.44640183214655), np.float64(147.14398853196343), np.float64(130.4686001108644), np.float64(60.85581179078705), np.float64(147.10844128432203), np.float64(175.56184808696304), np.float64(195.82146789505632), np.float64(203.24078063739753), np.float64(222.7283138879541), np.float64(216.74833196589313), np.float64(233.39542971654942), np.float64(238.1559128032108), np.float64(248.41570803066662), np.float64(254.446597678295), np.float64(254.71945322400353), np.float64(264.04218057542863), np.float64(254.63390691215753), np.float64(260.4522079461875), np.float64(261.20382309648596), np.float64(268.37842991368245), np.float64(265.0101410268362), np.float64(256.88603378265293), np.float64(246.9555944252669)]\n",
    "voltages_0 = [3000.0, 4000.0, 4500.0, 4750.0, 5000.0, 5100.0, 5200.0, 5250.0, 5300.0, 5350.0, 5400.0, 5450.0, 5500.0, 5550.0, 5600.0, 5650.0, 5700.0, 5750.0, 5800.0, 5850.0, 5900.0, 5950.0, 6000.0]\n",
    "\n",
    "\n",
    "cl1 = [np.float64(1.2212389380530972), np.float64(1.1514522821576763), np.float64(1.047808764940239), np.float64(1.074378831881252), np.float64(1.0793083854208945), np.float64(1.130030772943945), np.float64(1.1806598517513687), np.float64(1.2741918045194076), np.float64(1.3286349856293556), np.float64(1.3650258038904328), np.float64(1.4437348498974454), np.float64(1.5276988398916787), np.float64(1.6550848547184367), np.float64(1.7486767031002957), np.float64(1.9628453593196833), np.float64(2.2378623115171603), np.float64(2.5977705099267583), np.float64(3.288475477168398), np.float64(4.1703055084091964), np.float64(5.144818364163138)]\n",
    "err1 = [np.float64(0.15365365868781636), np.float64(0.050306133269046746), np.float64(0.01085851940062489), np.float64(0.012610236466712046), np.float64(0.007588714747234421), np.float64(0.009364968167379703), np.float64(0.010283760210871348), np.float64(0.012014437176205687), np.float64(0.013788835005604861), np.float64(0.012602875350185448), np.float64(0.017094625432900766), np.float64(0.016288766736714727), np.float64(0.01812416969437741), np.float64(0.019781668576846993), np.float64(0.023790335485086862), np.float64(0.029631820011282582), np.float64(0.03495556082164944), np.float64(0.044105284020961893), np.float64(0.05386122345286682), np.float64(0.04904885980725799)]\n",
    "eff_1 = [0, 0.6363636363636364, 0.6, 0.6492890995260664, 0.6837416481069042, 0.7642526964560863, 0.8214285714285714, 0.7619439868204283, 0.7778810408921933, 0.8096013018714402, 0.8154020385050963, 0.8282910874897792, 0.7958030669895076, 0.7861271676300579, 0.7273449920508744, 0.6556451612903226, 0.6175889328063241, 0.6141078838174274, 0.6260543580131209, 0.6921641791044776]\n",
    "good_1 = [23.11, 101.19, 143.96, 161.91, 178.94, 195.78, 209.24, 210.39, 224.92, 246.56, 265.62, 278.61, 294.74, 311.62, 325.12, 350.22, 413.4, 535.85, 680.4, 946.93]\n",
    "bad_1 = [0.82, 2.85, 4.97, 10.8, 11.69, 13.95, 19.5, 22.54, 28.8, 30.71, 39.49, 39.49, 43.2, 48.55, 57.97, 48.03, 68.53, 78.68, 94.05, 143.15]\n",
    "std_1 = [np.float64(33.62848900345012), np.float64(75.40251771826425), np.float64(20.23976986093638), np.float64(98.9403675674452), np.float64(157.65312727971587), np.float64(25.425914261172096), np.float64(155.12154453706253), np.float64(122.58264578206251), np.float64(143.98342398843823), np.float64(176.8360062555137), np.float64(190.7766510634326), np.float64(208.47690585506578), np.float64(231.04675647537343), np.float64(239.5889561940645), np.float64(244.3349516634308), np.float64(242.81730853509387), np.float64(255.74022309532998), np.float64(259.7230028227785), np.float64(263.26304771075047), np.float64(263.73677604056456), np.float64(272.60875767022014), np.float64(264.79901299335796), np.float64(270.115786313314), np.float64(267.52328190045745), np.float64(259.5640546638369), np.float64(256.75948891329324)]\n",
    "voltages_1 = [4000, 4200, 4300, 4400, 4500, 4600, 4700, 4800, 4900, 5000, 5100, 5200, 5300, 5400, 5450, 5500, 5550, 5600, 5650, 5700, 5750, 5800, 5850, 5900, 5950, 6000]\n",
    "\n",
    "cl3 = [np.float64(1.3109243697478992), np.float64(1.4304932735426008), np.float64(1.088797108931337), np.float64(1.0732620320855615), np.float64(1.0889143293264645), np.float64(1.140652965500216), np.float64(1.2034606205250598), np.float64(1.300078919270229), np.float64(1.3564630027632791), np.float64(1.4238995328104238), np.float64(1.585788485880145), np.float64(1.614696409399976), np.float64(1.7720491102649778), np.float64(1.9402696793002916), np.float64(2.200837122032186), np.float64(2.4071046264388887), np.float64(2.8758147771372595), np.float64(3.5219217537402994), np.float64(4.607378273061656), np.float64(5.997637872773203)]\n",
    "err3 = [np.float64(0.13743948558122332), np.float64(0.17042343068733465), np.float64(0.029088649923025792), np.float64(0.014510821401138367), np.float64(0.01037693249897322), np.float64(0.00932813750248753), np.float64(0.01002816662956866), np.float64(0.012962796812449724), np.float64(0.015681357316640058), np.float64(0.015622954630547714), np.float64(0.021914920916389528), np.float64(0.019423017007949815), np.float64(0.02219151199022226), np.float64(0.024554762448446458), np.float64(0.028902655790087), np.float64(0.031205380199562274), np.float64(0.03841785594435168), np.float64(0.047352697168423274), np.float64(0.057293592625362544), np.float64(0.06856915514193454)]\n",
    "eff_3 = [0.3333333333333333, 0, 0.6046511627906976, 0.6592592592592592, 0.7282229965156795, 0.8059701492537313, 0.8470209339774557, 0.8125894134477826, 0.8591352859135286, 0.7796610169491526, 0.7790262172284644, 0.83729662077597, 0.8648960739030023, 0.8652173913043478, 0.8177676537585421, 0.7995712754555199, 0.7423913043478261, 0.6504524886877828, 0.6239035087719298, 0.6424180327868853]\n",
    "good_3 = [39.41, 118.95, 167.0, 178.56, 195.79, 211.84, 229.26, 247.03, 251.18, 267.39, 281.43, 314.74, 349.06, 390.47, 420.62, 477.23, 521.25, 645.4, 786.85, 1058.32]\n",
    "bad_3 =[1.24, 3.28, 5.57, 9.0, 12.72, 14.29, 17.94, 22.83, 22.58, 30.95, 27.29, 30.73, 42.35, 41.41, 49.63, 57.62, 68.54, 78.72, 95.06, 103.75]\n",
    "std_3 = [np.float64(22.580777820499762), np.float64(36.26761181903454), np.float64(115.76890863771862), np.float64(45.15559029300194), np.float64(15.544845883103225), np.float64(50.23009591777843), np.float64(109.6711771245793), np.float64(117.64960279069595), np.float64(139.9139886519241), np.float64(164.5487685457531), np.float64(179.88285706818914), np.float64(197.46726684488053), np.float64(204.03595753014383), np.float64(213.83843936997752), np.float64(222.52963942577753), np.float64(228.13897591693993), np.float64(236.74615068110663), np.float64(236.3079104812058), np.float64(241.65472667069506), np.float64(252.93947698782003), np.float64(242.48333735286218), np.float64(245.4035123716854), np.float64(241.87816539584296), np.float64(240.27277861641534), np.float64(230.55177350620454), np.float64(225.56577025801803)]\n",
    "voltages_3 = [4000, 4200, 4300, 4400, 4500, 4600, 4700, 4800, 4900, 5000, 5100, 5200, 5300, 5400, 5450, 5500, 5550, 5600, 5650, 5700, 5750, 5800, 5850, 5900, 5950, 6000]\n",
    "\n",
    "\n",
    "cluster = [cl0, cl1, cl3]\n",
    "error = [err0, err1, err3]\n",
    "eff = [eff_0, eff_1, eff_3]\n",
    "good = [good_0, good_1, good_3]\n",
    "bad = [bad_0, bad_1, bad_3]\n",
    "stds = [std_0, std_1, std_3]\n",
    "voltages = [voltages_0, voltages_1, voltages_3]\n",
    "\n",
    "#plot cluster size\n",
    "\"\"\"\n",
    "colour = [\"red\", \"blue\", \"green\"]\n",
    "labels = [\"bottom triplet\", \"middle triplet\", \"singlet\"]\n",
    "plt.figure(figsize=(10, 6))  # Create a new figure\n",
    "for rpc in range(3):\n",
    "    print(rpc)\n",
    "    plt.plot(voltages[rpc][3:], good[rpc], label=labels[rpc]+\" in-peak\", marker = \"o\", color=colour[rpc])\n",
    "    plt.plot(voltages[rpc][3:], bad[rpc], label=labels[rpc]+\" off-peak\", marker = \"x\", linestyle = \"--\", color=colour[rpc])\n",
    "\n",
    "plt.title(\"Hit Counts vs. Voltage\")\n",
    "plt.ylabel(\"hit Count per Chunk\")\n",
    "plt.xlabel(\"Voltage / V\")\n",
    "plt.xlim(5400, 6000)\n",
    "plt.ylim(0, 1200)\n",
    "plt.legend()\n",
    "plt.show()\n",
    "\n",
    "labels = [\"bottom triplet\", \"middle triplet\", \"singlet\"]\n",
    "plt.figure(figsize=(10, 6))  # Create a new figure\n",
    "for rpc in range(3):\n",
    "    print(rpc)\n",
    "    plt.plot(voltages[rpc][3:], cluster[rpc], label=labels[rpc], marker = \"o\", color=colour[rpc])\n",
    "    plt.errorbar(voltages[rpc][3:], cluster[rpc], yerr=error[rpc],  marker = \"o\", color=colour[rpc])\n",
    "plt.title(\"Cluster Size vs. Voltage\")\n",
    "plt.ylabel(\"Average Cluster size\")\n",
    "plt.xlim(5400, 6000)\n",
    "plt.xlabel(\"Voltage / V\")\n",
    "plt.legend()\n",
    "plt.show()\n",
    "\n",
    "labels = [\"bottom triplet\", \"middle triplet\", \"singlet\"]\n",
    "plt.figure(figsize=(10, 6))  # Create a new figure\n",
    "for rpc in range(3):\n",
    "    print(rpc)\n",
    "    plt.plot(voltages[rpc][3:], eff[rpc], label=labels[rpc], marker = \"o\", color=colour[rpc])\n",
    "plt.title(\"Maximal Reconstruction Efficiency vs. Voltage\")\n",
    "plt.ylabel(\"Efficiency\")\n",
    "plt.xlim(5400, 6000)\n",
    "plt.xlabel(\"Voltage / V\")\n",
    "plt.legend()\n",
    "plt.show()\n",
    "\n",
    "\"\"\"\n",
    "\n",
    "labels = [\"bottom triplet\", \"middle triplet\", \"singlet\"]\n",
    "plt.figure(figsize=(10, 6))  # Create a new figure\n",
    "for rpc in range(3):\n",
    "    print(rpc)\n",
    "    plt.plot(voltages[rpc], stds[rpc], label=labels[rpc], marker = \"o\", color=colour[rpc])\n",
    "plt.title(\"Standard deviation of hit time vs. Voltage\")\n",
    "plt.ylabel(\"$\\sigma$ / (25/32) ns\")\n",
    "plt.xlim(5000, 6000)\n",
    "plt.xlabel(\"Voltage / V\")\n",
    "plt.legend()\n",
    "plt.show()\n"
   ]
  }
 ],
 "metadata": {
  "kernelspec": {
   "display_name": ".venv",
   "language": "python",
   "name": "python3"
  },
  "language_info": {
   "codemirror_mode": {
    "name": "ipython",
    "version": 3
   },
   "file_extension": ".py",
   "mimetype": "text/x-python",
   "name": "python",
   "nbconvert_exporter": "python",
   "pygments_lexer": "ipython3",
   "version": "3.10.4"
  }
 },
 "nbformat": 4,
 "nbformat_minor": 2
}
