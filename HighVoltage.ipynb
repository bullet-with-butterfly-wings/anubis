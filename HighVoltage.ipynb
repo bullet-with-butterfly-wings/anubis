{
 "cells": [
  {
   "cell_type": "code",
   "execution_count": 2,
   "metadata": {},
   "outputs": [],
   "source": [
    "import overview\n",
    "import importlib\n",
    "import rawFileReader\n",
    "import pickle\n",
    "from matplotlib.backends.backend_pdf import PdfPages\n",
    "import pandas as pd\n",
    "\n",
    "dir_path = \"C://Users//jony//Programming//Python//Anubis//anubis//\" # insert your directory path\n"
   ]
  },
  {
   "cell_type": "code",
   "execution_count": 5,
   "metadata": {},
   "outputs": [],
   "source": [
    "#Save chunks\n",
    "files = [\"proAnubis_240815_1759.raw\", \"proAnubis_240818_1125.raw\", \"proAnubis_240818_1325.raw\"]\n",
    "rpc = 1\n",
    "\n",
    "storage_name = f\"chunks_hv{rpc}.pkl\"\n",
    "file_name = files[rpc]\n",
    "\n",
    "hv_file = 'data/hvScan.csv'  # Replace with your file path\n",
    "hv_data = pd.read_csv(hv_file, usecols=[\"start_\"+str(rpc),\"end_\"+str(rpc),\"voltage_\"+str(rpc)])\n",
    "\n",
    "#rpc 0: 2024-08-15 17:24:22\t\n",
    "#rpc 1\t2024-08-18 11:39:42\n",
    "#rpc 2\t2024-08-18 12:22:21 \n"
   ]
  },
  {
   "cell_type": "code",
   "execution_count": 2,
   "metadata": {},
   "outputs": [
    {
     "name": "stdout",
     "output_type": "stream",
     "text": [
      "Initial time 2024-08-15 16:59:49.312501\n"
     ]
    },
    {
     "name": "stderr",
     "output_type": "stream",
     "text": [
      "Skipping Events proAnubis_240815_1759.raw: 1673Events [03:02,  9.16Events/s]                      \n"
     ]
    },
    {
     "name": "stdout",
     "output_type": "stream",
     "text": [
      "Skip time 2024-08-15 17:28:50.787782\n"
     ]
    },
    {
     "name": "stderr",
     "output_type": "stream",
     "text": [
      "Processing Chunks proAnubis_240815_1759.raw:   2%|▏         | 1/65.0 [00:00<00:05, 11.73seconds/s]\n"
     ]
    },
    {
     "name": "stdout",
     "output_type": "stream",
     "text": [
      "Ending time: 2024-08-15 17:29:47.710382\n",
      "Initial time 2024-08-15 17:29:56.362570\n"
     ]
    },
    {
     "name": "stderr",
     "output_type": "stream",
     "text": [
      "Skipping Events proAnubis_240815_1759.raw: 0Events [00:00, ?Events/s]\n"
     ]
    },
    {
     "name": "stdout",
     "output_type": "stream",
     "text": [
      "Skip time 2024-08-15 17:29:59.269534\n"
     ]
    },
    {
     "name": "stderr",
     "output_type": "stream",
     "text": [
      "Processing Chunks proAnubis_240815_1759.raw:   2%|▏         | 1/60.0 [00:00<00:02, 25.85seconds/s]\n"
     ]
    },
    {
     "name": "stdout",
     "output_type": "stream",
     "text": [
      "Ending time: 2024-08-15 17:30:02.516271\n",
      "Initial time 2024-08-15 17:30:06.014189\n"
     ]
    },
    {
     "name": "stderr",
     "output_type": "stream",
     "text": [
      "Skipping Events proAnubis_240815_1759.raw: 0Events [00:00, ?Events/s]\n"
     ]
    },
    {
     "name": "stdout",
     "output_type": "stream",
     "text": [
      "Skip time 2024-08-15 17:30:09.417966\n"
     ]
    },
    {
     "name": "stderr",
     "output_type": "stream",
     "text": [
      "Processing Chunks proAnubis_240815_1759.raw:   1%|          | 1/87.0 [00:00<00:03, 27.20seconds/s]"
     ]
    },
    {
     "name": "stdout",
     "output_type": "stream",
     "text": [
      "Ending time: 2024-08-15 17:30:13.361008\n"
     ]
    },
    {
     "name": "stderr",
     "output_type": "stream",
     "text": [
      "\n"
     ]
    },
    {
     "name": "stdout",
     "output_type": "stream",
     "text": [
      "Initial time 2024-08-15 17:30:16.976852\n"
     ]
    },
    {
     "name": "stderr",
     "output_type": "stream",
     "text": [
      "Skipping Events proAnubis_240815_1759.raw: 0Events [00:00, ?Events/s]"
     ]
    },
    {
     "name": "stdout",
     "output_type": "stream",
     "text": [
      "Skip time 2024-08-15 17:30:20.795052\n"
     ]
    },
    {
     "name": "stderr",
     "output_type": "stream",
     "text": [
      "\n",
      "Processing Chunks proAnubis_240815_1759.raw:  21%|██        | 16/77.0 [00:00<00:02, 21.29seconds/s]\n"
     ]
    },
    {
     "name": "stdout",
     "output_type": "stream",
     "text": [
      "Ending time: 2024-08-15 17:31:21.469940\n",
      "Initial time 2024-08-15 17:31:24.319986\n"
     ]
    },
    {
     "name": "stderr",
     "output_type": "stream",
     "text": [
      "Skipping Events proAnubis_240815_1759.raw: 25Events [00:00, 40.88Events/s]                    \n"
     ]
    },
    {
     "name": "stdout",
     "output_type": "stream",
     "text": [
      "Skip time 2024-08-15 17:31:49.827415\n"
     ]
    },
    {
     "name": "stderr",
     "output_type": "stream",
     "text": [
      "Processing Chunks proAnubis_240815_1759.raw: 304seconds [00:05, 55.89seconds/s]                    \n"
     ]
    },
    {
     "name": "stdout",
     "output_type": "stream",
     "text": [
      "Ending time: 2024-08-15 17:33:05.177868\n",
      "Initial time 2024-08-15 17:33:05.385325\n"
     ]
    },
    {
     "name": "stderr",
     "output_type": "stream",
     "text": [
      "Skipping Events proAnubis_240815_1759.raw: 25Events [00:00, 26.57Events/s]                    \n"
     ]
    },
    {
     "name": "stdout",
     "output_type": "stream",
     "text": [
      "Skip time 2024-08-15 17:33:30.722920\n"
     ]
    },
    {
     "name": "stderr",
     "output_type": "stream",
     "text": [
      "Processing Chunks proAnubis_240815_1759.raw: 619seconds [00:10, 56.74seconds/s]                    \n"
     ]
    },
    {
     "name": "stdout",
     "output_type": "stream",
     "text": [
      "Ending time: 2024-08-15 17:35:06.069185\n",
      "Initial time 2024-08-15 17:35:06.226602\n"
     ]
    },
    {
     "name": "stderr",
     "output_type": "stream",
     "text": [
      "Skipping Events proAnubis_240815_1759.raw: 15Events [00:00, 22.32Events/s]                    \n"
     ]
    },
    {
     "name": "stdout",
     "output_type": "stream",
     "text": [
      "Skip time 2024-08-15 17:35:20.979981\n"
     ]
    },
    {
     "name": "stderr",
     "output_type": "stream",
     "text": [
      "Processing Chunks proAnubis_240815_1759.raw: 940seconds [00:15, 60.88seconds/s]                      \n"
     ]
    },
    {
     "name": "stdout",
     "output_type": "stream",
     "text": [
      "Ending time: 2024-08-15 17:37:17.086697\n",
      "Initial time 2024-08-15 17:37:17.209010\n"
     ]
    },
    {
     "name": "stderr",
     "output_type": "stream",
     "text": [
      "Skipping Events proAnubis_240815_1759.raw: 100%|██████████| 12/12 [00:00<00:00, 20.44Events/s]\n"
     ]
    },
    {
     "name": "stdout",
     "output_type": "stream",
     "text": [
      "Skip time 2024-08-15 17:37:29.776807\n"
     ]
    },
    {
     "name": "stderr",
     "output_type": "stream",
     "text": [
      "Processing Chunks proAnubis_240815_1759.raw: 2186seconds [00:33, 64.64seconds/s]                     \n"
     ]
    },
    {
     "name": "stdout",
     "output_type": "stream",
     "text": [
      "Ending time: 2024-08-15 17:41:38.076747\n",
      "Initial time 2024-08-15 17:41:38.185892\n"
     ]
    },
    {
     "name": "stderr",
     "output_type": "stream",
     "text": [
      "Skipping Events proAnubis_240815_1759.raw: 12Events [00:00, 21.45Events/s]                   \n"
     ]
    },
    {
     "name": "stdout",
     "output_type": "stream",
     "text": [
      "Skip time 2024-08-15 17:41:49.878473\n"
     ]
    },
    {
     "name": "stderr",
     "output_type": "stream",
     "text": [
      "Processing Chunks proAnubis_240815_1759.raw: 720seconds [00:13, 52.67seconds/s]                    \n"
     ]
    },
    {
     "name": "stdout",
     "output_type": "stream",
     "text": [
      "Ending time: 2024-08-15 17:43:07.042690\n",
      "Initial time 2024-08-15 17:43:07.148817\n"
     ]
    },
    {
     "name": "stderr",
     "output_type": "stream",
     "text": [
      "Skipping Events proAnubis_240815_1759.raw: 15Events [00:00, 15.54Events/s]                    \n"
     ]
    },
    {
     "name": "stdout",
     "output_type": "stream",
     "text": [
      "Skip time 2024-08-15 17:43:22.658385\n"
     ]
    },
    {
     "name": "stderr",
     "output_type": "stream",
     "text": [
      "Processing Chunks proAnubis_240815_1759.raw: 874seconds [00:14, 61.39seconds/s]                    \n"
     ]
    },
    {
     "name": "stdout",
     "output_type": "stream",
     "text": [
      "Ending time: 2024-08-15 17:44:52.096728\n",
      "Initial time 2024-08-15 17:44:52.196844\n"
     ]
    },
    {
     "name": "stderr",
     "output_type": "stream",
     "text": [
      "Skipping Events proAnubis_240815_1759.raw: 19Events [00:01, 18.23Events/s]                    \n"
     ]
    },
    {
     "name": "stdout",
     "output_type": "stream",
     "text": [
      "Skip time 2024-08-15 17:45:11.138302\n"
     ]
    },
    {
     "name": "stderr",
     "output_type": "stream",
     "text": [
      "Processing Chunks proAnubis_240815_1759.raw: 1049seconds [00:16, 63.00seconds/s]                     \n"
     ]
    },
    {
     "name": "stdout",
     "output_type": "stream",
     "text": [
      "Ending time: 2024-08-15 17:46:55.007091\n",
      "Initial time 2024-08-15 17:46:55.116448\n"
     ]
    },
    {
     "name": "stderr",
     "output_type": "stream",
     "text": [
      "Skipping Events proAnubis_240815_1759.raw: 14Events [00:00, 19.64Events/s]                    \n"
     ]
    },
    {
     "name": "stdout",
     "output_type": "stream",
     "text": [
      "Skip time 2024-08-15 17:47:09.166546\n"
     ]
    },
    {
     "name": "stderr",
     "output_type": "stream",
     "text": [
      "Processing Chunks proAnubis_240815_1759.raw: 1468seconds [00:27, 53.71seconds/s]                      \n"
     ]
    },
    {
     "name": "stdout",
     "output_type": "stream",
     "text": [
      "Ending time: 2024-08-15 17:49:27.057573\n",
      "Initial time 2024-08-15 17:49:27.157072\n"
     ]
    },
    {
     "name": "stderr",
     "output_type": "stream",
     "text": [
      "Skipping Events proAnubis_240815_1759.raw: 16Events [00:00, 19.39Events/s]                    \n"
     ]
    },
    {
     "name": "stdout",
     "output_type": "stream",
     "text": [
      "Skip time 2024-08-15 17:49:42.818005\n"
     ]
    },
    {
     "name": "stderr",
     "output_type": "stream",
     "text": [
      "Processing Chunks proAnubis_240815_1759.raw: 980seconds [00:18, 54.44seconds/s]                    \n"
     ]
    },
    {
     "name": "stdout",
     "output_type": "stream",
     "text": [
      "Ending time: 2024-08-15 17:51:13.006215\n",
      "Initial time 2024-08-15 17:51:13.109556\n"
     ]
    },
    {
     "name": "stderr",
     "output_type": "stream",
     "text": [
      "Skipping Events proAnubis_240815_1759.raw: 15Events [00:00, 17.23Events/s]                    \n"
     ]
    },
    {
     "name": "stdout",
     "output_type": "stream",
     "text": [
      "Skip time 2024-08-15 17:51:28.363701\n"
     ]
    },
    {
     "name": "stderr",
     "output_type": "stream",
     "text": [
      "Processing Chunks proAnubis_240815_1759.raw: 1304seconds [00:21, 60.48seconds/s]                      \n"
     ]
    },
    {
     "name": "stdout",
     "output_type": "stream",
     "text": [
      "Ending time: 2024-08-15 17:53:25.010998\n",
      "Initial time 2024-08-15 17:53:25.099235\n"
     ]
    },
    {
     "name": "stderr",
     "output_type": "stream",
     "text": [
      "Skipping Events proAnubis_240815_1759.raw: 100%|██████████| 13/13 [00:00<00:00, 15.18Events/s]\n"
     ]
    },
    {
     "name": "stdout",
     "output_type": "stream",
     "text": [
      "Skip time 2024-08-15 17:53:38.257451\n"
     ]
    },
    {
     "name": "stderr",
     "output_type": "stream",
     "text": [
      "Processing Chunks proAnubis_240815_1759.raw: 1384seconds [00:24, 56.72seconds/s]                     \n"
     ]
    },
    {
     "name": "stdout",
     "output_type": "stream",
     "text": [
      "Ending time: 2024-08-15 17:55:39.031424\n",
      "Initial time 2024-08-15 17:55:39.122277\n"
     ]
    },
    {
     "name": "stderr",
     "output_type": "stream",
     "text": [
      "Skipping Events proAnubis_240815_1759.raw: 13Events [00:00, 16.43Events/s]                    \n"
     ]
    },
    {
     "name": "stdout",
     "output_type": "stream",
     "text": [
      "Skip time 2024-08-15 17:55:52.102960\n"
     ]
    },
    {
     "name": "stderr",
     "output_type": "stream",
     "text": [
      "Processing Chunks proAnubis_240815_1759.raw: 1212seconds [01:08, 17.66seconds/s]                     \n"
     ]
    },
    {
     "name": "stdout",
     "output_type": "stream",
     "text": [
      "Ending time: 2024-08-15 17:57:37.095304\n",
      "Initial time 2024-08-15 17:57:37.170433\n"
     ]
    },
    {
     "name": "stderr",
     "output_type": "stream",
     "text": [
      "Skipping Events proAnubis_240815_1759.raw: 18Events [00:01, 14.86Events/s]                    \n"
     ]
    },
    {
     "name": "stdout",
     "output_type": "stream",
     "text": [
      "Skip time 2024-08-15 17:57:55.026238\n"
     ]
    },
    {
     "name": "stderr",
     "output_type": "stream",
     "text": [
      "Processing Chunks proAnubis_240815_1759.raw: 1169seconds [00:24, 48.17seconds/s]                   \n"
     ]
    },
    {
     "name": "stdout",
     "output_type": "stream",
     "text": [
      "Ending time: 2024-08-15 17:59:33.047890\n",
      "Initial time 2024-08-15 17:59:33.138858\n"
     ]
    },
    {
     "name": "stderr",
     "output_type": "stream",
     "text": [
      "Skipping Events proAnubis_240815_1759.raw: 100%|██████████| 14/14 [00:00<00:00, 14.40Events/s]\n"
     ]
    },
    {
     "name": "stdout",
     "output_type": "stream",
     "text": [
      "Skip time 2024-08-15 17:59:47.165685\n"
     ]
    },
    {
     "name": "stderr",
     "output_type": "stream",
     "text": [
      "Processing Chunks proAnubis_240815_1759.raw: 1085seconds [00:25, 43.22seconds/s]                   \n"
     ]
    },
    {
     "name": "stdout",
     "output_type": "stream",
     "text": [
      "Ending time: 2024-08-15 18:01:18.049568\n",
      "Initial time 2024-08-15 18:01:18.128198\n"
     ]
    },
    {
     "name": "stderr",
     "output_type": "stream",
     "text": [
      "Skipping Events proAnubis_240815_1759.raw: 100%|██████████| 17/17 [00:01<00:00, 13.51Events/s]\n"
     ]
    },
    {
     "name": "stdout",
     "output_type": "stream",
     "text": [
      "Skip time 2024-08-15 18:01:35.341808\n"
     ]
    },
    {
     "name": "stderr",
     "output_type": "stream",
     "text": [
      "Processing Chunks proAnubis_240815_1759.raw: 1264seconds [00:13, 90.74seconds/s]                    \n"
     ]
    },
    {
     "name": "stdout",
     "output_type": "stream",
     "text": [
      "Ending time: 2024-08-15 18:03:18.059587\n",
      "Initial time 2024-08-15 18:03:18.152528\n"
     ]
    },
    {
     "name": "stderr",
     "output_type": "stream",
     "text": [
      "Skipping Events proAnubis_240815_1759.raw: 13Events [00:01, 12.53Events/s]                    \n"
     ]
    },
    {
     "name": "stdout",
     "output_type": "stream",
     "text": [
      "Skip time 2024-08-15 18:03:31.661718\n"
     ]
    },
    {
     "name": "stderr",
     "output_type": "stream",
     "text": [
      "Processing Chunks proAnubis_240815_1759.raw: 1248seconds [00:28, 44.08seconds/s]                     \n"
     ]
    },
    {
     "name": "stdout",
     "output_type": "stream",
     "text": [
      "Ending time: 2024-08-15 18:05:10.039118\n",
      "Initial time 2024-08-15 18:05:10.125870\n"
     ]
    },
    {
     "name": "stderr",
     "output_type": "stream",
     "text": [
      "Skipping Events proAnubis_240815_1759.raw: 100%|██████████| 13/13 [00:01<00:00, 11.47Events/s]\n"
     ]
    },
    {
     "name": "stdout",
     "output_type": "stream",
     "text": [
      "Skip time 2024-08-15 18:05:23.399804\n"
     ]
    },
    {
     "name": "stderr",
     "output_type": "stream",
     "text": [
      "Processing Chunks proAnubis_240815_1759.raw: 1417seconds [00:32, 44.26seconds/s]                     \n"
     ]
    },
    {
     "name": "stdout",
     "output_type": "stream",
     "text": [
      "Ending time: 2024-08-15 18:07:14.035057\n",
      "Initial time 2024-08-15 18:07:14.102897\n"
     ]
    },
    {
     "name": "stderr",
     "output_type": "stream",
     "text": [
      "Skipping Events proAnubis_240815_1759.raw: 13Events [00:00, 14.11Events/s]                    \n"
     ]
    },
    {
     "name": "stdout",
     "output_type": "stream",
     "text": [
      "Skip time 2024-08-15 18:07:26.971080\n"
     ]
    },
    {
     "name": "stderr",
     "output_type": "stream",
     "text": [
      "Processing Chunks proAnubis_240815_1759.raw: 1139seconds [00:13, 82.41seconds/s]                   \n"
     ]
    },
    {
     "name": "stdout",
     "output_type": "stream",
     "text": [
      "Ending time: 2024-08-15 18:08:55.080421\n",
      "Initial time 2024-08-15 18:08:55.158760\n"
     ]
    },
    {
     "name": "stderr",
     "output_type": "stream",
     "text": [
      "Skipping Events proAnubis_240815_1759.raw: 14Events [00:01, 12.84Events/s]                    \n"
     ]
    },
    {
     "name": "stdout",
     "output_type": "stream",
     "text": [
      "Skip time 2024-08-15 18:09:09.583966\n"
     ]
    },
    {
     "name": "stderr",
     "output_type": "stream",
     "text": [
      "Processing Chunks proAnubis_240815_1759.raw: 1103seconds [00:32, 34.32seconds/s]                   \n"
     ]
    },
    {
     "name": "stdout",
     "output_type": "stream",
     "text": [
      "Ending time: 2024-08-15 18:10:34.027245\n"
     ]
    }
   ],
   "source": [
    "fReader = rawFileReader.fileReader(dir_path+\"data//\"+file_name) # load in the classs object\n",
    "total_chunks = []\n",
    "for start, end, voltage in hv_data.values:\n",
    "    if type(start) == float:\n",
    "        break\n",
    "    start = \"2024-08-15 \" + start \n",
    "    end = \"2024-08-15 \"+ end\n",
    "    chunks, times, fReader = overview.get_chunks(file_name, fReader=fReader, start=start, end=end)\n",
    "    total_chunks.append((voltage, times, chunks))"
   ]
  },
  {
   "cell_type": "code",
   "execution_count": 3,
   "metadata": {},
   "outputs": [],
   "source": [
    "with open(storage_name, \"wb\") as outp:\n",
    "    pickle.dump(total_chunks, outp)"
   ]
  },
  {
   "cell_type": "code",
   "execution_count": 6,
   "metadata": {},
   "outputs": [
    {
     "name": "stdout",
     "output_type": "stream",
     "text": [
      "Loaded chunks\n"
     ]
    }
   ],
   "source": [
    "importlib.reload(overview)\n",
    "import matplotlib.pyplot as plt\n",
    "\n",
    "with open(storage_name, \"rb\") as inp:\n",
    "    total_chunks = pickle.load(inp)\n",
    "print(\"Chunks Loaded\")"
   ]
  },
  {
   "cell_type": "code",
   "execution_count": 12,
   "metadata": {},
   "outputs": [
    {
     "name": "stdout",
     "output_type": "stream",
     "text": [
      "# Chunks for 3000: 1\n",
      "Only one chunk, skipping\n",
      "# Chunks for 4000: 1\n",
      "Only one chunk, skipping\n",
      "# Chunks for 4500: 1\n",
      "Only one chunk, skipping\n",
      "# Chunks for 4750: 16\n",
      "Cluster Size Done\n",
      "Average Cluster Size [np.float64(1.0076045627376427), np.float64(1.0404040404040404), np.float64(1.0771704180064308), np.float64(1.0301204819277108), np.float64(1.0238095238095237), np.float64(1.0166666666666666)]\n",
      "# Chunks for 5000: 304\n",
      "Cluster Size Done\n",
      "Average Cluster Size [np.float64(1.0085511455308165), np.float64(1.0354586857514638), np.float64(1.039426523297491), np.float64(1.0378841027080117), np.float64(1.033861515085739), np.float64(1.0337859172718662)]\n",
      "# Chunks for 5100: 619\n",
      "Cluster Size Done\n",
      "Average Cluster Size [np.float64(1.0145530145530146), np.float64(1.0291093511185216), np.float64(1.0307521546095586), np.float64(1.0315802259200777), np.float64(1.0328005946850027), np.float64(1.0319212608898052)]\n",
      "# Chunks for 5200: 940\n",
      "Cluster Size Done\n",
      "Average Cluster Size [np.float64(1.020447361049978), np.float64(1.0297120418848167), np.float64(1.0326981024513398), np.float64(1.032786256614771), np.float64(1.0330794721237138), np.float64(1.031593757994372)]\n",
      "# Chunks for 5250: 2186\n",
      "Cluster Size Done\n",
      "Average Cluster Size [np.float64(1.025917038052794), np.float64(1.0304140641315285), np.float64(1.0325332381547248), np.float64(1.0314164890783164), np.float64(1.0320113457934459), np.float64(1.0305672016696525)]\n",
      "# Chunks for 5300: 720\n",
      "Cluster Size Done\n",
      "Average Cluster Size [np.float64(1.0258859009801458), np.float64(1.0334568253063552), np.float64(1.0319931747893782), np.float64(1.0339705956144312), np.float64(1.0311087677011148), np.float64(1.0298884091291427)]\n",
      "# Chunks for 5350: 874\n",
      "Cluster Size Done\n",
      "Average Cluster Size [np.float64(1.0308105247240285), np.float64(1.0318085556967387), np.float64(1.0325633622072505), np.float64(1.0308586762075134), np.float64(1.0305960864155639), np.float64(1.030841588279364)]\n",
      "# Chunks for 5400: 1049\n",
      "Cluster Size Done\n",
      "Average Cluster Size [np.float64(1.031649295335711), np.float64(1.0338492749267414), np.float64(1.0347307922851803), np.float64(1.0326172904586188), np.float64(1.0302248250533526), np.float64(1.0302093682157707)]\n",
      "# Chunks for 5450: 1468\n",
      "Cluster Size Done\n",
      "Average Cluster Size [np.float64(1.0336419922196045), np.float64(1.0295640602852267), np.float64(1.0332526055130753), np.float64(1.0313689660423329), np.float64(1.0341168416248288), np.float64(1.0330934436448123)]\n",
      "# Chunks for 5500: 980\n",
      "Cluster Size Done\n",
      "Average Cluster Size [np.float64(1.0330073822131178), np.float64(1.0305062295624818), np.float64(1.031044071153773), np.float64(1.0324651770168312), np.float64(1.0323244355406356), np.float64(1.033962721869567)]\n",
      "# Chunks for 5550: 1304\n",
      "Cluster Size Done\n",
      "Average Cluster Size [np.float64(1.033827410027511), np.float64(1.0294288598611154), np.float64(1.0322277580071175), np.float64(1.0305390669066101), np.float64(1.033166833166833), np.float64(1.0330628013536582)]\n",
      "# Chunks for 5600: 1384\n",
      "Cluster Size Done\n",
      "Average Cluster Size [np.float64(1.0362831170849196), np.float64(1.0302335037174721), np.float64(1.031438091143594), np.float64(1.031629360241766), np.float64(1.0305673514671563), np.float64(1.0324131025604348)]\n",
      "# Chunks for 5650: 1212\n",
      "Cluster Size Done\n",
      "Average Cluster Size [np.float64(1.0355645425079545), np.float64(1.0252163081170251), np.float64(1.0301076595613412), np.float64(1.030760147601476), np.float64(1.031854178648852), np.float64(1.0276061391269684)]\n",
      "# Chunks for 5700: 1169\n",
      "Cluster Size Done\n",
      "Average Cluster Size [np.float64(1.0409015805717492), np.float64(1.0300855644493514), np.float64(1.0310890834191555), np.float64(1.0336569185356501), np.float64(1.03256574465186), np.float64(1.0324064677626683)]\n",
      "# Chunks for 5750: 1085\n",
      "Cluster Size Done\n",
      "Average Cluster Size [np.float64(1.039596190204402), np.float64(1.0270015461779236), np.float64(1.0281891854128824), np.float64(1.0308641975308641), np.float64(1.0313597467477864), np.float64(1.0321827147677134)]\n",
      "# Chunks for 5800: 1264\n",
      "Cluster Size Done\n",
      "Average Cluster Size [np.float64(1.0407496670260672), np.float64(1.028016899081986), np.float64(1.0303273570600304), np.float64(1.030124887488749), np.float64(1.0290409819013937), np.float64(1.0301789646723116)]\n",
      "# Chunks for 5850: 1248\n",
      "Cluster Size Done\n",
      "Average Cluster Size [np.float64(1.0448898519321055), np.float64(1.0260317898148468), np.float64(1.0280034683194708), np.float64(1.0288718696814978), np.float64(1.0308375976299489), np.float64(1.0300767193971077)]\n",
      "# Chunks for 5900: 1417\n",
      "Cluster Size Done\n",
      "Average Cluster Size [np.float64(1.0517673679060666), np.float64(1.0269944634097363), np.float64(1.0296704461163506), np.float64(1.0319192124226124), np.float64(1.031525474376214), np.float64(1.0310407445238905)]\n",
      "# Chunks for 5950: 1139\n",
      "Cluster Size Done\n",
      "Average Cluster Size [np.float64(1.0604868362994557), np.float64(1.0282533054975644), np.float64(1.0281036483176487), np.float64(1.0303869954742773), np.float64(1.032160941562885), np.float64(1.030825084768983)]\n",
      "# Chunks for 6000: 1103\n",
      "Cluster Size Done\n",
      "Average Cluster Size [np.float64(1.070103976846393), np.float64(1.0271136922364343), np.float64(1.0276417309627641), np.float64(1.0315380729890138), np.float64(1.0316541388486857), np.float64(1.0309344105453386)]\n"
     ]
    }
   ],
   "source": [
    "importlib.reload(overview)\n",
    "counts = [[],[]]\n",
    "clusters = []\n",
    "errors = []\n",
    "efficiencies = []\n",
    "voltages = []\n",
    "\n",
    "for voltage, times, chunks in total_chunks:\n",
    "    #try:\n",
    "    print(f\"# Chunks for {round(voltage)}:\", len(chunks))\n",
    "    if len(chunks) == 1:\n",
    "        print(\"Only one chunk, skipping\")\n",
    "        continue\n",
    "    cluster_size, error, hist = overview.cluster_size(chunks, residual=False)\n",
    "    clusters.append(cluster_size)\n",
    "    errors.append(error)\n",
    "    voltages.append(voltage)\n",
    "    efficiency = overview.efficiency(chunks, residual = False)\n",
    "    if efficiency[rpc]:\n",
    "        efficiencies.append(efficiency[rpc])\n",
    "    else:\n",
    "        efficiencies.append(0)\n",
    "    good, bad = overview.abs_bvg_hits(chunks[:100], times[:100], per_rpc=True)[rpc]\n",
    "    counts[0].append(sum(good)/100)\n",
    "    counts[1].append(sum(bad)/100)\n",
    "    #except Exception as e:\n",
    "    #    print(e)\n",
    "    #    print(\"No hits in this range\")\n"
   ]
  },
  {
   "cell_type": "code",
   "execution_count": 45,
   "metadata": {},
   "outputs": [
    {
     "name": "stdout",
     "output_type": "stream",
     "text": [
      "[0.07352941176470588]\n"
     ]
    },
    {
     "ename": "ValueError",
     "evalue": "x and y must have same first dimension, but have shapes (20,) and (1,)",
     "output_type": "error",
     "traceback": [
      "\u001b[1;31m---------------------------------------------------------------------------\u001b[0m",
      "\u001b[1;31mValueError\u001b[0m                                Traceback (most recent call last)",
      "Cell \u001b[1;32mIn[45], line 5\u001b[0m\n\u001b[0;32m      3\u001b[0m \u001b[38;5;66;03m# Plot In-peak and Off-peak hits in the first figure\u001b[39;00m\n\u001b[0;32m      4\u001b[0m plt\u001b[38;5;241m.\u001b[39mfigure(figsize\u001b[38;5;241m=\u001b[39m(\u001b[38;5;241m10\u001b[39m, \u001b[38;5;241m6\u001b[39m))  \u001b[38;5;66;03m# Create a new figure\u001b[39;00m\n\u001b[1;32m----> 5\u001b[0m \u001b[43mplt\u001b[49m\u001b[38;5;241;43m.\u001b[39;49m\u001b[43mplot\u001b[49m\u001b[43m(\u001b[49m\u001b[43mhv_data\u001b[49m\u001b[43m[\u001b[49m\u001b[38;5;124;43m\"\u001b[39;49m\u001b[38;5;124;43mvoltage_\u001b[39;49m\u001b[38;5;124;43m\"\u001b[39;49m\u001b[43m \u001b[49m\u001b[38;5;241;43m+\u001b[39;49m\u001b[43m \u001b[49m\u001b[38;5;28;43mstr\u001b[39;49m\u001b[43m(\u001b[49m\u001b[43mrpc\u001b[49m\u001b[43m)\u001b[49m\u001b[43m]\u001b[49m\u001b[43m[\u001b[49m\u001b[38;5;241;43m6\u001b[39;49m\u001b[43m:\u001b[49m\u001b[43m]\u001b[49m\u001b[43m,\u001b[49m\u001b[43m \u001b[49m\u001b[43mcounts\u001b[49m\u001b[43m[\u001b[49m\u001b[38;5;241;43m0\u001b[39;49m\u001b[43m]\u001b[49m\u001b[43m,\u001b[49m\u001b[43m \u001b[49m\u001b[43mlabel\u001b[49m\u001b[38;5;241;43m=\u001b[39;49m\u001b[38;5;124;43m\"\u001b[39;49m\u001b[38;5;124;43mIn-peak hits\u001b[39;49m\u001b[38;5;124;43m\"\u001b[39;49m\u001b[43m,\u001b[49m\u001b[43m \u001b[49m\u001b[43mcolor\u001b[49m\u001b[38;5;241;43m=\u001b[39;49m\u001b[38;5;124;43m\"\u001b[39;49m\u001b[38;5;124;43mblue\u001b[39;49m\u001b[38;5;124;43m\"\u001b[39;49m\u001b[43m)\u001b[49m\n\u001b[0;32m      6\u001b[0m plt\u001b[38;5;241m.\u001b[39mplot(hv_data[\u001b[38;5;124m\"\u001b[39m\u001b[38;5;124mvoltage_\u001b[39m\u001b[38;5;124m\"\u001b[39m \u001b[38;5;241m+\u001b[39m \u001b[38;5;28mstr\u001b[39m(rpc)][\u001b[38;5;241m6\u001b[39m:], counts[\u001b[38;5;241m1\u001b[39m], label\u001b[38;5;241m=\u001b[39m\u001b[38;5;124m\"\u001b[39m\u001b[38;5;124mOff-peak hits\u001b[39m\u001b[38;5;124m\"\u001b[39m, color\u001b[38;5;241m=\u001b[39m\u001b[38;5;124m\"\u001b[39m\u001b[38;5;124mred\u001b[39m\u001b[38;5;124m\"\u001b[39m)\n\u001b[0;32m      7\u001b[0m plt\u001b[38;5;241m.\u001b[39mtitle(\u001b[38;5;124mf\u001b[39m\u001b[38;5;124m\"\u001b[39m\u001b[38;5;124mOff-peak and In-peak hits (RPC \u001b[39m\u001b[38;5;132;01m{\u001b[39;00mrpc\u001b[38;5;132;01m}\u001b[39;00m\u001b[38;5;124m)\u001b[39m\u001b[38;5;124m\"\u001b[39m)\n",
      "File \u001b[1;32mc:\\Users\\jony\\Programming\\Python\\Anubis\\anubis\\.venv\\lib\\site-packages\\matplotlib\\pyplot.py:3708\u001b[0m, in \u001b[0;36mplot\u001b[1;34m(scalex, scaley, data, *args, **kwargs)\u001b[0m\n\u001b[0;32m   3700\u001b[0m \u001b[38;5;129m@_copy_docstring_and_deprecators\u001b[39m(Axes\u001b[38;5;241m.\u001b[39mplot)\n\u001b[0;32m   3701\u001b[0m \u001b[38;5;28;01mdef\u001b[39;00m \u001b[38;5;21mplot\u001b[39m(\n\u001b[0;32m   3702\u001b[0m     \u001b[38;5;241m*\u001b[39margs: \u001b[38;5;28mfloat\u001b[39m \u001b[38;5;241m|\u001b[39m ArrayLike \u001b[38;5;241m|\u001b[39m \u001b[38;5;28mstr\u001b[39m,\n\u001b[1;32m   (...)\u001b[0m\n\u001b[0;32m   3706\u001b[0m     \u001b[38;5;241m*\u001b[39m\u001b[38;5;241m*\u001b[39mkwargs,\n\u001b[0;32m   3707\u001b[0m ) \u001b[38;5;241m-\u001b[39m\u001b[38;5;241m>\u001b[39m \u001b[38;5;28mlist\u001b[39m[Line2D]:\n\u001b[1;32m-> 3708\u001b[0m     \u001b[38;5;28;01mreturn\u001b[39;00m gca()\u001b[38;5;241m.\u001b[39mplot(\n\u001b[0;32m   3709\u001b[0m         \u001b[38;5;241m*\u001b[39margs,\n\u001b[0;32m   3710\u001b[0m         scalex\u001b[38;5;241m=\u001b[39mscalex,\n\u001b[0;32m   3711\u001b[0m         scaley\u001b[38;5;241m=\u001b[39mscaley,\n\u001b[0;32m   3712\u001b[0m         \u001b[38;5;241m*\u001b[39m\u001b[38;5;241m*\u001b[39m({\u001b[38;5;124m\"\u001b[39m\u001b[38;5;124mdata\u001b[39m\u001b[38;5;124m\"\u001b[39m: data} \u001b[38;5;28;01mif\u001b[39;00m data \u001b[38;5;129;01mis\u001b[39;00m \u001b[38;5;129;01mnot\u001b[39;00m \u001b[38;5;28;01mNone\u001b[39;00m \u001b[38;5;28;01melse\u001b[39;00m {}),\n\u001b[0;32m   3713\u001b[0m         \u001b[38;5;241m*\u001b[39m\u001b[38;5;241m*\u001b[39mkwargs,\n\u001b[0;32m   3714\u001b[0m     )\n",
      "File \u001b[1;32mc:\\Users\\jony\\Programming\\Python\\Anubis\\anubis\\.venv\\lib\\site-packages\\matplotlib\\axes\\_axes.py:1779\u001b[0m, in \u001b[0;36mAxes.plot\u001b[1;34m(self, scalex, scaley, data, *args, **kwargs)\u001b[0m\n\u001b[0;32m   1536\u001b[0m \u001b[38;5;250m\u001b[39m\u001b[38;5;124;03m\"\"\"\u001b[39;00m\n\u001b[0;32m   1537\u001b[0m \u001b[38;5;124;03mPlot y versus x as lines and/or markers.\u001b[39;00m\n\u001b[0;32m   1538\u001b[0m \n\u001b[1;32m   (...)\u001b[0m\n\u001b[0;32m   1776\u001b[0m \u001b[38;5;124;03m(``'green'``) or hex strings (``'#008000'``).\u001b[39;00m\n\u001b[0;32m   1777\u001b[0m \u001b[38;5;124;03m\"\"\"\u001b[39;00m\n\u001b[0;32m   1778\u001b[0m kwargs \u001b[38;5;241m=\u001b[39m cbook\u001b[38;5;241m.\u001b[39mnormalize_kwargs(kwargs, mlines\u001b[38;5;241m.\u001b[39mLine2D)\n\u001b[1;32m-> 1779\u001b[0m lines \u001b[38;5;241m=\u001b[39m [\u001b[38;5;241m*\u001b[39m\u001b[38;5;28mself\u001b[39m\u001b[38;5;241m.\u001b[39m_get_lines(\u001b[38;5;28mself\u001b[39m, \u001b[38;5;241m*\u001b[39margs, data\u001b[38;5;241m=\u001b[39mdata, \u001b[38;5;241m*\u001b[39m\u001b[38;5;241m*\u001b[39mkwargs)]\n\u001b[0;32m   1780\u001b[0m \u001b[38;5;28;01mfor\u001b[39;00m line \u001b[38;5;129;01min\u001b[39;00m lines:\n\u001b[0;32m   1781\u001b[0m     \u001b[38;5;28mself\u001b[39m\u001b[38;5;241m.\u001b[39madd_line(line)\n",
      "File \u001b[1;32mc:\\Users\\jony\\Programming\\Python\\Anubis\\anubis\\.venv\\lib\\site-packages\\matplotlib\\axes\\_base.py:296\u001b[0m, in \u001b[0;36m_process_plot_var_args.__call__\u001b[1;34m(self, axes, data, *args, **kwargs)\u001b[0m\n\u001b[0;32m    294\u001b[0m     this \u001b[38;5;241m+\u001b[39m\u001b[38;5;241m=\u001b[39m args[\u001b[38;5;241m0\u001b[39m],\n\u001b[0;32m    295\u001b[0m     args \u001b[38;5;241m=\u001b[39m args[\u001b[38;5;241m1\u001b[39m:]\n\u001b[1;32m--> 296\u001b[0m \u001b[38;5;28;01myield from\u001b[39;00m \u001b[38;5;28;43mself\u001b[39;49m\u001b[38;5;241;43m.\u001b[39;49m\u001b[43m_plot_args\u001b[49m\u001b[43m(\u001b[49m\n\u001b[0;32m    297\u001b[0m \u001b[43m    \u001b[49m\u001b[43maxes\u001b[49m\u001b[43m,\u001b[49m\u001b[43m \u001b[49m\u001b[43mthis\u001b[49m\u001b[43m,\u001b[49m\u001b[43m \u001b[49m\u001b[43mkwargs\u001b[49m\u001b[43m,\u001b[49m\u001b[43m \u001b[49m\u001b[43mambiguous_fmt_datakey\u001b[49m\u001b[38;5;241;43m=\u001b[39;49m\u001b[43mambiguous_fmt_datakey\u001b[49m\u001b[43m)\u001b[49m\n",
      "File \u001b[1;32mc:\\Users\\jony\\Programming\\Python\\Anubis\\anubis\\.venv\\lib\\site-packages\\matplotlib\\axes\\_base.py:486\u001b[0m, in \u001b[0;36m_process_plot_var_args._plot_args\u001b[1;34m(self, axes, tup, kwargs, return_kwargs, ambiguous_fmt_datakey)\u001b[0m\n\u001b[0;32m    483\u001b[0m     axes\u001b[38;5;241m.\u001b[39myaxis\u001b[38;5;241m.\u001b[39mupdate_units(y)\n\u001b[0;32m    485\u001b[0m \u001b[38;5;28;01mif\u001b[39;00m x\u001b[38;5;241m.\u001b[39mshape[\u001b[38;5;241m0\u001b[39m] \u001b[38;5;241m!=\u001b[39m y\u001b[38;5;241m.\u001b[39mshape[\u001b[38;5;241m0\u001b[39m]:\n\u001b[1;32m--> 486\u001b[0m     \u001b[38;5;28;01mraise\u001b[39;00m \u001b[38;5;167;01mValueError\u001b[39;00m(\u001b[38;5;124mf\u001b[39m\u001b[38;5;124m\"\u001b[39m\u001b[38;5;124mx and y must have same first dimension, but \u001b[39m\u001b[38;5;124m\"\u001b[39m\n\u001b[0;32m    487\u001b[0m                      \u001b[38;5;124mf\u001b[39m\u001b[38;5;124m\"\u001b[39m\u001b[38;5;124mhave shapes \u001b[39m\u001b[38;5;132;01m{\u001b[39;00mx\u001b[38;5;241m.\u001b[39mshape\u001b[38;5;132;01m}\u001b[39;00m\u001b[38;5;124m and \u001b[39m\u001b[38;5;132;01m{\u001b[39;00my\u001b[38;5;241m.\u001b[39mshape\u001b[38;5;132;01m}\u001b[39;00m\u001b[38;5;124m\"\u001b[39m)\n\u001b[0;32m    488\u001b[0m \u001b[38;5;28;01mif\u001b[39;00m x\u001b[38;5;241m.\u001b[39mndim \u001b[38;5;241m>\u001b[39m \u001b[38;5;241m2\u001b[39m \u001b[38;5;129;01mor\u001b[39;00m y\u001b[38;5;241m.\u001b[39mndim \u001b[38;5;241m>\u001b[39m \u001b[38;5;241m2\u001b[39m:\n\u001b[0;32m    489\u001b[0m     \u001b[38;5;28;01mraise\u001b[39;00m \u001b[38;5;167;01mValueError\u001b[39;00m(\u001b[38;5;124mf\u001b[39m\u001b[38;5;124m\"\u001b[39m\u001b[38;5;124mx and y can be no greater than 2D, but have \u001b[39m\u001b[38;5;124m\"\u001b[39m\n\u001b[0;32m    490\u001b[0m                      \u001b[38;5;124mf\u001b[39m\u001b[38;5;124m\"\u001b[39m\u001b[38;5;124mshapes \u001b[39m\u001b[38;5;132;01m{\u001b[39;00mx\u001b[38;5;241m.\u001b[39mshape\u001b[38;5;132;01m}\u001b[39;00m\u001b[38;5;124m and \u001b[39m\u001b[38;5;132;01m{\u001b[39;00my\u001b[38;5;241m.\u001b[39mshape\u001b[38;5;132;01m}\u001b[39;00m\u001b[38;5;124m\"\u001b[39m)\n",
      "\u001b[1;31mValueError\u001b[0m: x and y must have same first dimension, but have shapes (20,) and (1,)"
     ]
    }
   ],
   "source": [
    "import matplotlib.pyplot as plt\n",
    "print(efficiencies)\n",
    "# Plot In-peak and Off-peak hits in the first figure\n",
    "plt.figure(figsize=(10, 6))  # Create a new figure\n",
    "plt.plot(hv_data[\"voltage_\" + str(rpc)][6:], counts[0], label=\"In-peak hits\", color=\"blue\")\n",
    "plt.plot(hv_data[\"voltage_\" + str(rpc)][6:], counts[1], label=\"Off-peak hits\", color=\"red\")\n",
    "plt.title(f\"Off-peak and In-peak hits (RPC {rpc})\")\n",
    "plt.xlabel(\"Voltage (V)\")\n",
    "plt.ylabel(\"Counts per chunk\")\n",
    "plt.legend()\n",
    "plt.show()\n",
    "\n",
    "# Plot Efficiency in the third figure\n",
    "plt.figure(figsize=(10, 6))  # Create a new figure\n",
    "plt.plot(hv_data[\"voltage_\" + str(rpc)][6:], efficiencies, label=\"Efficiency\", color=\"red\")\n",
    "plt.title(f\"Efficiency (RPC {rpc})\")\n",
    "plt.xlabel(\"Voltage (V)\")\n",
    "plt.ylabel(\"Efficiency\")\n",
    "plt.legend()\n",
    "plt.show()\n"
   ]
  },
  {
   "cell_type": "code",
   "execution_count": 17,
   "metadata": {},
   "outputs": [],
   "source": [
    "# Plot Cluster size in the second figure\n",
    "clusters_0 = [cl[0] for cl in clusters]\n",
    "errors_0 = [cl[0] for cl in errors]\n",
    "plt.figure(figsize=(10, 6))  # Create a new figure\n",
    "plt.plot(hv_data[\"voltage_\" + str(rpc)][6:], clusters_0, label=\"Cluster size\", color=\"red\")\n",
    "plt.errorbar(hv_data[\"voltage_\" + str(rpc)][6:], clusters_0, yerr=errors_0, fmt='o', color=\"red\")\n",
    "plt.title(f\"Cluster size (RPC {rpc})\")\n",
    "plt.xlabel(\"Voltage (V)\")\n",
    "plt.ylabel(\"Cluster size\")\n",
    "plt.legend()\n",
    "plt.show()\n"
   ]
  },
  {
   "cell_type": "code",
   "execution_count": 19,
   "metadata": {},
   "outputs": [
    {
     "name": "stdout",
     "output_type": "stream",
     "text": [
      "20\n"
     ]
    }
   ],
   "source": [
    "print(len(clusters_0))"
   ]
  }
 ],
 "metadata": {
  "kernelspec": {
   "display_name": ".venv",
   "language": "python",
   "name": "python3"
  },
  "language_info": {
   "codemirror_mode": {
    "name": "ipython",
    "version": 3
   },
   "file_extension": ".py",
   "mimetype": "text/x-python",
   "name": "python",
   "nbconvert_exporter": "python",
   "pygments_lexer": "ipython3",
   "version": "3.10.4"
  }
 },
 "nbformat": 4,
 "nbformat_minor": 2
}
