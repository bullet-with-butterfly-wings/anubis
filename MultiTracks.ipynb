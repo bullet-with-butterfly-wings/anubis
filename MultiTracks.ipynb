{
 "cells": [
  {
   "cell_type": "code",
   "execution_count": 2,
   "metadata": {},
   "outputs": [],
   "source": [
    "import importlib\n",
    "import sys\n",
    "from tqdm import tqdm\n",
    "import  os\n",
    "import pickle\n",
    "import glob\n",
    "from datetime import datetime\n",
    "import matplotlib.pyplot as plt\n",
    "# Add the directories to the sys.path\n",
    "dir_path = \"C://Users//jony//Programming//Python//Anubis//anubis//\" # insert your directory path\n",
    "sys.path.append(dir_path + \"Osiris//processing//python\")\n",
    "sys.path.append(dir_path + \"tools\")\n",
    "\n",
    "import Analysis_tools as ATools\n",
    "import Atlas_tools as AtTools\n",
    "import proAnubis_Analysis_Tools\n",
    "import Reconstruction_tools as RTools\n",
    "import numpy as np\n",
    "import mplhep as hep\n",
    "import Timing_tools as TTools\n",
    "import pickle\n",
    "import overview\n",
    "import rawFileReader\n",
    "import Visual_tools as VTools\n",
    "hep.style.use([hep.style.ATLAS])\n",
    "\n",
    "dir = \"C://Users//jony//Programming//Python//Anubis//anubis//data//\"\n",
    "\n",
    "# Specify the directory\n"
   ]
  },
  {
   "cell_type": "code",
   "execution_count": 3,
   "metadata": {},
   "outputs": [
    {
     "name": "stdout",
     "output_type": "stream",
     "text": [
      "Initial time 2024-08-15 16:59:49.312501 1723737589.312501\n"
     ]
    },
    {
     "name": "stderr",
     "output_type": "stream",
     "text": [
      "Processing Chunks proAnubis_240815_1759.raw:  50%|████▉     | 4996/10000 [00:53<00:40, 124.73Chunks/s]"
     ]
    },
    {
     "name": "stdout",
     "output_type": "stream",
     "text": [
      "Event time: 2024-08-15 17:01:26.654146\n"
     ]
    },
    {
     "name": "stderr",
     "output_type": "stream",
     "text": [
      "Processing Chunks proAnubis_240815_1759.raw:  50%|█████     | 5019/10000 [01:00<09:08,  9.08Chunks/s] "
     ]
    },
    {
     "name": "stdout",
     "output_type": "stream",
     "text": [
      "Saved\n"
     ]
    },
    {
     "name": "stderr",
     "output_type": "stream",
     "text": [
      "Processing Chunks proAnubis_240815_1759.raw: 100%|█████████▉| 9991/10000 [01:53<00:00, 127.14Chunks/s]"
     ]
    },
    {
     "name": "stdout",
     "output_type": "stream",
     "text": [
      "Event time: 2024-08-15 17:03:04.904445\n"
     ]
    },
    {
     "name": "stderr",
     "output_type": "stream",
     "text": [
      "Processing Chunks proAnubis_240815_1759.raw: 100%|██████████| 10000/10000 [02:06<00:00, 79.11Chunks/s]"
     ]
    },
    {
     "name": "stdout",
     "output_type": "stream",
     "text": [
      "Saved\n",
      "Ending time: 2024-08-15 17:03:04.904445\n",
      "Number of chunks: 10000\n"
     ]
    },
    {
     "name": "stderr",
     "output_type": "stream",
     "text": [
      "\n"
     ]
    }
   ],
   "source": [
    "importlib.reload(overview)\n",
    "file_name = \"proAnubis_240815_1759.raw\"\n",
    "chunks, times, fReader = overview.get_chunks(file_name, max_process_event=1_000_000)"
   ]
  },
  {
   "cell_type": "code",
   "execution_count": 11,
   "metadata": {},
   "outputs": [
    {
     "name": "stdout",
     "output_type": "stream",
     "text": [
      "Good\n",
      "Good\n",
      "Good\n",
      "Good\n",
      "Good\n",
      "Good\n",
      "Good\n",
      "Good\n"
     ]
    }
   ],
   "source": [
    "#find events with multiple clusters\n",
    "importlib.reload(RTools)\n",
    "reconstructor = proAnubis_Analysis_Tools.Reconstructor(chunks[0], 0)\n",
    "for processedEvents, event_chunk in enumerate(chunks[1:]):\n",
    "\n",
    "      reconstructor.update_event(event_chunk, processedEvents)\n",
    "      # populate_hits turns TDC bit wise information into their corresponding strips\n",
    "      reconstructor.populate_hits()\n",
    "      # This is optionnal, and requires the residual of eta and phi\n",
    "         # make_cluster does temporal and spatial coincidence between the stips, and reconstruction is done\n",
    "      clusters = reconstructor.make_cluster()\n",
    "      for evt_num, cluster in enumerate(clusters):\n",
    "         repeated = 0\n",
    "         for rpc in range(6):\n",
    "            if len(cluster[2][rpc][0]) == 2 and len(cluster[2][rpc][1]) == 2: #phi and eta\n",
    "               repeated += 1\n",
    "\n",
    "         if repeated == 6:\n",
    "            #heatmap\n",
    "            hits = []\n",
    "            for rpc in range(6):\n",
    "               hits.extend([phi for phi in cluster[2][rpc][0]])\n",
    "               hits.extend([eta for eta in cluster[2][rpc][1]])\n",
    "            hits = [h[0] for h in hits]\n",
    "            heatMaps = [np.zeros((32,64)) for rpc in range(6)]\n",
    "            for hit in hits:\n",
    "               if hit[3]:\n",
    "                  heatMaps[hit[0]][hit[1],:] += np.ones(64)\n",
    "               else:\n",
    "                  heatMaps[hit[0]][:,hit[1]] += np.ones(32)\n",
    "            #reconstruction\n",
    "            path = RTools.reconstruct_timed_Chi2_ByRPC(cluster, 3, -1)\n",
    "            if path:\n",
    "               print(\"Good\")\n",
    "               centroid, direction, opt_coords, _, chi2, dT, _, _ = path\n",
    "               for rpc, point in enumerate(opt_coords):\n",
    "                  try:\n",
    "                     heatMaps[rpc][31 - int(point[1]/ 2.9844)][int(point[0]/ 2.7625)] += 3\n",
    "                  except:\n",
    "                     print((int(point[0]/ 2.7625), int(point[1]/ 2.9844)))\n",
    "            for rpc in range(6):\n",
    "                plt.imshow(heatMaps[rpc], interpolation='nearest')\n",
    "                plt.title(f'Event {evt_num} RPC {rpc}')\n",
    "                plt.savefig(f'video/images_video/double{processedEvents*100+10*evt_num+rpc}.png')\n",
    "            \n",
    "      #print(\"Clust\")"
   ]
  }
 ],
 "metadata": {
  "kernelspec": {
   "display_name": ".venv",
   "language": "python",
   "name": "python3"
  },
  "language_info": {
   "codemirror_mode": {
    "name": "ipython",
    "version": 3
   },
   "file_extension": ".py",
   "mimetype": "text/x-python",
   "name": "python",
   "nbconvert_exporter": "python",
   "pygments_lexer": "ipython3",
   "version": "3.10.4"
  }
 },
 "nbformat": 4,
 "nbformat_minor": 2
}
