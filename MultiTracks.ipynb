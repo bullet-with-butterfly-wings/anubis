{
 "cells": [
  {
   "cell_type": "code",
   "execution_count": 4,
   "metadata": {},
   "outputs": [],
   "source": [
    "import importlib\n",
    "import sys\n",
    "from tqdm import tqdm\n",
    "import  os\n",
    "import pickle\n",
    "import glob\n",
    "from datetime import datetime\n",
    "import matplotlib.pyplot as plt\n",
    "# Add the directories to the sys.path\n",
    "dir_path = \"C://Users//jony//Programming//Python//Anubis//anubis//\" # insert your directory path\n",
    "sys.path.append(dir_path + \"Osiris//processing//python\")\n",
    "sys.path.append(dir_path + \"tools\")\n",
    "\n",
    "import Analysis_tools as ATools\n",
    "import Atlas_tools as AtTools\n",
    "import proAnubis_Analysis_Tools\n",
    "import Reconstruction_tools as RTools\n",
    "import numpy as np\n",
    "import mplhep as hep\n",
    "import Timing_tools as TTools\n",
    "import pickle\n",
    "import overview\n",
    "import rawFileReader\n",
    "import Visual_tools as VTools\n",
    "hep.style.use([hep.style.ATLAS])\n",
    "\n",
    "dir = \"C://Users//jony//Programming//Python//Anubis//anubis//data//\"\n",
    "\n",
    "# Specify the directory\n"
   ]
  },
  {
   "cell_type": "code",
   "execution_count": 5,
   "metadata": {},
   "outputs": [
    {
     "name": "stdout",
     "output_type": "stream",
     "text": [
      "Initial time 2024-08-15 16:59:49.312501 1723737589.312501\n"
     ]
    },
    {
     "name": "stderr",
     "output_type": "stream",
     "text": [
      "Processing Chunks proAnubis_240815_1759.raw: 100%|██████████| 1/1 [00:00<00:00, 119.34Chunks/s]"
     ]
    },
    {
     "name": "stdout",
     "output_type": "stream",
     "text": [
      "Ending time: 2024-08-15 16:59:49.329438\n",
      "Number of chunks: 1\n"
     ]
    },
    {
     "name": "stderr",
     "output_type": "stream",
     "text": [
      "\n"
     ]
    }
   ],
   "source": [
    "importlib.reload(overview)\n",
    "file_name = \"proAnubis_240815_1759.raw\"\n",
    "chunks, times, fReader = overview.get_chunks(file_name, max_process_event=100, saves = False)"
   ]
  },
  {
   "cell_type": "code",
   "execution_count": 6,
   "metadata": {},
   "outputs": [
    {
     "name": "stdout",
     "output_type": "stream",
     "text": [
      "Warning: <class 'uhi.numpy_plottable.NumPyPlottableHistogram'> is not allowed to get flow bins, flow bin option set to None\n",
      "Warning: <class 'uhi.numpy_plottable.NumPyPlottableHistogram'> is not allowed to get flow bins, flow bin option set to None\n",
      "Warning: <class 'uhi.numpy_plottable.NumPyPlottableHistogram'> is not allowed to get flow bins, flow bin option set to None\n",
      "Warning: <class 'uhi.numpy_plottable.NumPyPlottableHistogram'> is not allowed to get flow bins, flow bin option set to None\n",
      "Warning: <class 'uhi.numpy_plottable.NumPyPlottableHistogram'> is not allowed to get flow bins, flow bin option set to None\n",
      "Warning: <class 'uhi.numpy_plottable.NumPyPlottableHistogram'> is not allowed to get flow bins, flow bin option set to None\n",
      "Warning: <class 'uhi.numpy_plottable.NumPyPlottableHistogram'> is not allowed to get flow bins, flow bin option set to None\n",
      "Warning: <class 'uhi.numpy_plottable.NumPyPlottableHistogram'> is not allowed to get flow bins, flow bin option set to None\n",
      "Warning: <class 'uhi.numpy_plottable.NumPyPlottableHistogram'> is not allowed to get flow bins, flow bin option set to None\n",
      "Warning: <class 'uhi.numpy_plottable.NumPyPlottableHistogram'> is not allowed to get flow bins, flow bin option set to None\n",
      "Warning: <class 'uhi.numpy_plottable.NumPyPlottableHistogram'> is not allowed to get flow bins, flow bin option set to None\n",
      "Warning: <class 'uhi.numpy_plottable.NumPyPlottableHistogram'> is not allowed to get flow bins, flow bin option set to None\n",
      "([[np.float64(2.081698275862068), np.float64(1.9524482758620676), np.float64(1.7356982758620685), np.float64(1.743948275862069), np.float64(1.4959482758620695), np.float64(1.2166982758620688), np.float64(1.0436982758620692), np.float64(1.0144482758620685), np.float64(1.2539482758620686), np.float64(1.5746982758620685), np.float64(0.7329482758620689), np.float64(0.44119827586206917), np.float64(0.7869482758620691), np.float64(-0.08605172413793112), np.float64(-0.01530172413793078), np.float64(-0.28830172413793087), np.float64(-0.35505172413793007), np.float64(-0.40305172413793067), np.float64(-0.6698017241379309), np.float64(-0.9178017241379313), np.float64(-1.1283017241379305), np.float64(-0.7013017241379295), np.float64(-1.1618017241379301), np.float64(-0.7535517241379304), np.float64(-1.51405172413793), np.float64(-2.2433017241379307), np.float64(-2.0038017241379285), np.float64(-2.0705517241379297), np.float64(-2.7623017241379304), np.float64(-2.9353017241379313), np.float64(-3.1083017241379305), np.float64(-3.281301724137931)], [np.float64(2.193708333333333), np.float64(2.020708333333333), np.float64(1.7664583333333337), np.float64(1.774708333333334), np.float64(1.5517083333333341), np.float64(1.247458333333333), np.float64(1.330708333333333), np.float64(1.0702083333333334), np.float64(1.478458333333333), np.float64(1.7304583333333354), np.float64(0.9949583333333328), np.float64(0.47195833333333376), np.float64(0.8677083333333339), np.float64(0.08845833333333368), np.float64(0.07795833333333417), np.float64(-0.25754166666666634), np.float64(-0.1430416666666655), np.float64(-0.022291666666665336), np.float64(-0.42029166666666684), np.float64(-0.8245416666666665), np.float64(-0.9162916666666661), np.float64(-0.5205416666666648), np.float64(-0.6810416666666667), np.float64(-0.4727916666666662), np.float64(-1.0332916666666654), np.float64(-1.7375416666666663), np.float64(-1.6917916666666657), np.float64(-1.3397916666666656), np.float64(-2.0502916666666655), np.float64(-2.379541666666666), np.float64(-2.2275416666666668), np.float64(-3.0067916666666656)], [np.float64(2.0469761904761916), np.float64(1.8739761904761916), np.float64(1.6057380952380953), np.float64(1.604166666666666), np.float64(1.4057698412698403), np.float64(1.086738095238095), np.float64(1.5169126984126986), np.float64(1.0835952380952383), np.float64(1.3550396825396827), np.float64(1.9693412698412713), np.float64(0.8693571428571428), np.float64(0.5630238095238097), np.float64(0.9424047619047623), np.float64(-0.06869047619047602), np.float64(0.2281507936507946), np.float64(-0.41469047619047594), np.float64(-0.20673809523809478), np.float64(-0.011484126984127322), np.float64(-0.5209920634920632), np.float64(-0.9797063492063495), np.float64(-0.8225476190476195), np.float64(0.013976190476192106), np.float64(-0.774896825396825), np.float64(-0.30662698412698397), np.float64(-0.6954999999999985), np.float64(-1.2240555555555555), np.float64(-1.7907063492063482), np.float64(-0.7256111111111109), np.float64(-2.2001984126984135), np.float64(-2.2335158730158735), np.float64(-2.0255634920634926), np.float64(-3.1636428571428565)], [np.float64(1.761087301587302), np.float64(1.5626904761904765), np.float64(1.8341349206349202), np.float64(1.2547857142857148), np.float64(1.4119444444444447), np.float64(0.8071984126984121), np.float64(1.6056269841269843), np.float64(0.8548492063492066), np.float64(0.8977222222222221), np.float64(1.5120238095238105), np.float64(0.4120396825396822), np.float64(0.10570634920634916), np.float64(0.7200079365079362), np.float64(-0.20854761904761945), np.float64(0.6152777777777787), np.float64(-0.014865079365079477), np.float64(-0.6767539682539682), np.float64(-0.2846746031746036), np.float64(-0.5910079365079364), np.float64(-0.8401984126984127), np.float64(-0.42272222222222233), np.float64(0.6995158730158739), np.float64(-0.6099920634920626), np.float64(-0.617912698412698), np.float64(-0.6829761904761886), np.float64(-1.0464523809523802), np.float64(-2.248023809523809), np.float64(-0.9607063492063486), np.float64(-2.1241825396825393), np.float64(-2.665436507936507), np.float64(-2.482880952380952), np.float64(-3.309849206349207)], [np.float64(1.8568968253968263), np.float64(1.8172301587301583), np.float64(1.9045476190476198), np.float64(1.2871031746031736), np.float64(1.3871190476190463), np.float64(0.7823730158730147), np.float64(1.5808015873015873), np.float64(1.1347857142857136), np.float64(0.8728968253968249), np.float64(1.6078333333333337), np.float64(0.5205476190476187), np.float64(0.08088095238095197), np.float64(0.8666111111111107), np.float64(0.13488095238095185), np.float64(0.8190238095238102), np.float64(0.5190396825396818), np.float64(-0.6063412698412698), np.float64(-0.2587063492063492), np.float64(-0.24757936507936507), np.float64(-0.5602619047619051), np.float64(-0.13008730158730206), np.float64(0.7318333333333336), np.float64(-0.6475158730158724), np.float64(-0.36337301587301557), np.float64(-0.7078015873015859), np.float64(-0.8998492063492056), np.float64(-2.0760238095238104), np.float64(-0.9855317460317459), np.float64(-2.16170634920635), np.float64(-2.417246031746032), np.float64(-2.5077063492063494), np.float64(-3.3346746031746033)], [np.float64(1.7602698412698417), np.float64(1.7586984126984122), np.float64(2.068238095238095), np.float64(1.2793650793650786), np.float64(1.3666825396825386), np.float64(0.9206666666666655), np.float64(1.3635396825396828), np.float64(1.2857777777777784), np.float64(0.8143650793650792), np.float64(1.6508888888888897), np.float64(0.35407936507936505), np.float64(-0.1363809523809526), np.float64(1.0810952380952363), np.float64(0.16523809523809524), np.float64(1.0716031746031756), np.float64(0.9684444444444451), np.float64(-0.5124920634920632), np.float64(0.21609523809523773), np.float64(-0.58547619047619), np.float64(-0.8092698412698415), np.float64(-0.11242857142857207), np.float64(1.0352063492063492), np.float64(-0.7123968253968246), np.float64(-0.5425396825396817), np.float64(-0.9250634920634904), np.float64(-1.1171111111111105), np.float64(-2.045666666666667), np.float64(-0.6694603174603169), np.float64(-2.0805555555555557), np.float64(-2.6345079365079367), np.float64(-2.7249682539682545), np.float64(-3.551936507936509)]], [[np.float64(-15.882000000000001), np.float64(-15.226241379310345), np.float64(-15.536), np.float64(-14.880241379310345), np.float64(-14.734827586206896), np.float64(-15.017000000000001), np.float64(-14.843999999999998), np.float64(-14.215827586206897), np.float64(-13.532482758620691), np.float64(-13.925000000000002), np.float64(-13.72441379310345), np.float64(-13.979000000000001), np.float64(-11.957724137931034), np.float64(-12.033000000000001), np.float64(-13.004827586206895), np.float64(-13.286999999999999), np.float64(-13.114), np.float64(-11.658241379310345), np.float64(-12.768), np.float64(-12.139827586206897), np.float64(-12.422), np.float64(-12.249), np.float64(-11.2208275862069), np.float64(-11.585758620689655), np.float64(-10.612758620689657), np.float64(-11.557000000000002), np.float64(-10.984000000000004), np.float64(-10.893758620689658), np.float64(-9.851793103448275), np.float64(-10.575344827586209), np.float64(-9.65751724137931), np.float64(-9.829344827586208), np.float64(-10.028758620689656), np.float64(-9.855758620689654), np.float64(-10.000000000000002), np.float64(-9.537344827586208), np.float64(-9.309172413793103), np.float64(-9.163758620689654), np.float64(-9.308000000000002), np.float64(-8.87293103448276), np.float64(-8.962000000000003), np.float64(-8.416586206896554), np.float64(-7.9539310344827605), np.float64(-8.443000000000003), np.float64(-8.270000000000003), np.float64(-8.097000000000003), np.float64(-7.924000000000002), np.float64(-7.571689655172415), np.float64(-7.343517241379313), np.float64(-7.225689655172417), np.float64(-7.025103448275863), np.float64(-6.383137931034486), np.float64(-6.444620689655173), np.float64(-6.713000000000003), np.float64(-6.098620689655174), np.float64(-6.2152758620689665), np.float64(-6.042275862068967), np.float64(-5.924448275862071), np.float64(-5.848000000000002), np.float64(-5.399137931034486), np.float64(-5.377862068965518), np.float64(-5.204862068965518), np.float64(-5.156000000000002), np.float64(-4.886448275862071)], [np.float64(-16.112666666666666), np.float64(-15.393), np.float64(-15.22), np.float64(-15.073666666666666), np.float64(-14.874000000000002), np.float64(-15.247666666666667), np.float64(-14.47466666666667), np.float64(-14.435), np.float64(-13.688666666666666), np.float64(-14.555666666666665), np.float64(-13.86266666666667), np.float64(-13.009666666666664), np.float64(-12.143333333333333), np.float64(-12.103666666666669), np.float64(-13.197333333333336), np.float64(-13.517666666666667), np.float64(-12.824666666666666), np.float64(-11.931666666666668), np.float64(-12.478666666666669), np.float64(-11.919), np.float64(-12.079333333333333), np.float64(-12.479666666666667), np.float64(-11.426666666666671), np.float64(-11.773666666666669), np.float64(-10.720666666666666), np.float64(-11.787666666666667), np.float64(-9.774666666666667), np.float64(-11.135000000000003), np.float64(-10.042000000000002), np.float64(-10.709000000000001), np.float64(-9.296000000000001), np.float64(-10.056333333333335), np.float64(-10.216666666666669), np.float64(-10.403666666666666), np.float64(-10.230666666666666), np.float64(-9.697666666666668), np.float64(-9.058), np.float64(-9.018333333333333), np.float64(-9.538666666666666), np.float64(-9.112333333333337), np.float64(-8.726000000000003), np.float64(-7.819666666666669), np.float64(-8.073333333333338), np.float64(-8.313666666666668), np.float64(-8.50066666666667), np.float64(-8.327666666666667), np.float64(-7.354666666666668), np.float64(-7.395000000000001), np.float64(-7.195333333333334), np.float64(-7.462333333333334), np.float64(-6.876000000000004), np.float64(-6.783000000000004), np.float64(-6.476666666666671), np.float64(-6.94366666666667), np.float64(-6.157333333333336), np.float64(-6.451000000000002), np.float64(-5.4780000000000015), np.float64(-6.078333333333335), np.float64(-6.078666666666669), np.float64(-5.559000000000003), np.float64(-5.3593333333333355), np.float64(-5.3596666666666675), np.float64(-5.3866666666666685), np.float64(-5.093666666666668)], [np.float64(-16.141500000000004), np.float64(-15.456000000000001), np.float64(-15.283000000000001), np.float64(-15.135), np.float64(-14.937), np.float64(-14.814000000000002), np.float64(-14.541), np.float64(-14.518000000000002), np.float64(-13.807500000000003), np.float64(-14.147000000000002), np.float64(-13.924), np.float64(-12.576), np.float64(-11.878), np.float64(-12.217500000000001), np.float64(-13.257), np.float64(-13.546499999999998), np.float64(-11.910999999999998), np.float64(-11.988000000000001), np.float64(-11.639999999999999), np.float64(-11.592), np.float64(-11.681500000000003), np.float64(-12.508500000000002), np.float64(-11.148), np.float64(-11.825), np.float64(-10.514499999999998), np.float64(-11.816500000000001), np.float64(-9.8435), np.float64(-10.308000000000002), np.float64(-9.760000000000002), np.float64(-10.762000000000004), np.float64(-8.989000000000003), np.float64(-10.1285), np.float64(-9.8055), np.float64(-9.7575), np.float64(-9.847), np.float64(-9.748999999999999), np.float64(-8.2635), np.float64(-8.503), np.float64(-9.5675), np.float64(-9.057000000000002), np.float64(-8.3465), np.float64(-7.823500000000001), np.float64(-8.100500000000002), np.float64(-7.9525000000000015), np.float64(-8.529500000000004), np.float64(-8.356500000000002), np.float64(-7.433500000000001), np.float64(-7.073000000000001), np.float64(-7.2375000000000025), np.float64(-7.189500000000003), np.float64(-6.391500000000001), np.float64(-6.131), np.float64(-6.520500000000002), np.float64(-6.972500000000002), np.float64(-5.887000000000001), np.float64(-6.2265000000000015), np.float64(-5.541), np.float64(-6.093000000000002), np.float64(-6.107500000000002), np.float64(-5.5845), np.float64(-5.261500000000002), np.float64(-5.213500000000002), np.float64(-5.415500000000003), np.float64(-5.130000000000002)], [np.float64(-16.026166666666665), np.float64(-15.306500000000002), np.float64(-14.28016666666667), np.float64(-14.987166666666665), np.float64(-14.107499999999998), np.float64(-14.667833333333336), np.float64(-13.068166666666666), np.float64(-14.375166666666667), np.float64(-13.628833333333333), np.float64(-13.615833333333335), np.float64(-13.3095), np.float64(-11.603166666666668), np.float64(-11.336833333333335), np.float64(-11.017166666666666), np.float64(-12.697500000000002), np.float64(-13.431166666666668), np.float64(-12.218166666666667), np.float64(-11.3785), np.float64(-11.432166666666667), np.float64(-10.952500000000002), np.float64(-11.366166666666667), np.float64(-12.393166666666666), np.float64(-9.553500000000001), np.float64(-11.687166666666668), np.float64(-9.340833333333332), np.float64(-11.194500000000001), np.float64(-8.941500000000001), np.float64(-10.195166666666669), np.float64(-9.928833333333332), np.float64(-9.715833333333332), np.float64(-8.4095), np.float64(-9.716500000000003), np.float64(-9.303500000000001), np.float64(-9.597166666666666), np.float64(-9.704166666666666), np.float64(-9.61116666666667), np.float64(-7.184833333333334), np.float64(-7.9718333333333335), np.float64(-9.0655), np.float64(-8.5325), np.float64(-8.172833333333335), np.float64(-7.319833333333334), np.float64(-7.933500000000002), np.float64(-7.480500000000001), np.float64(-8.080833333333336), np.float64(-7.934500000000001), np.float64(-7.2681666666666676), np.float64(-6.335166666666666), np.float64(-7.082166666666668), np.float64(-6.789166666666669), np.float64(-5.8695), np.float64(-6.269833333333335), np.float64(-6.243500000000003), np.float64(-6.577166666666669), np.float64(-5.764166666666669), np.float64(-5.777833333333335), np.float64(-4.9115), np.float64(-5.965166666666668), np.float64(-5.3255000000000035), np.float64(-5.445833333333336), np.float64(-4.579500000000002), np.float64(-5.0998333333333346), np.float64(-5.300166666666669), np.float64(-5.007166666666667)], [np.float64(-16.1415), np.float64(-14.0685), np.float64(-13.995499999999998), np.float64(-15.135), np.float64(-14.2995), np.float64(-14.814000000000004), np.float64(-13.3035), np.float64(-13.717999999999998), np.float64(-13.8075), np.float64(-13.7845), np.float64(-13.486499999999998), np.float64(-11.876000000000001), np.float64(-11.203), np.float64(-10.967500000000001), np.float64(-12.332), np.float64(-13.183999999999997), np.float64(-11.910999999999996), np.float64(-10.988), np.float64(-11.639999999999997), np.float64(-11.1795), np.float64(-11.556500000000002), np.float64(-12.121000000000006), np.float64(-9.835500000000005), np.float64(-11.412500000000001), np.float64(-9.277000000000001), np.float64(-11.291500000000003), np.float64(-8.6435), np.float64(-9.758000000000003), np.float64(-9.76), np.float64(-9.912), np.float64(-8.364), np.float64(-9.891), np.float64(-9.493), np.float64(-9.47), np.float64(-9.847), np.float64(-9.748999999999999), np.float64(-7.151), np.float64(-8.190500000000002), np.float64(-8.867500000000001), np.float64(-8.382000000000001), np.float64(-7.7715000000000005), np.float64(-7.2235000000000005), np.float64(-8.1005), np.float64(-7.402500000000001), np.float64(-7.954500000000002), np.float64(-8.094000000000003), np.float64(-7.1209999999999996), np.float64(-6.548), np.float64(-6.5249999999999995), np.float64(-6.952000000000003), np.float64(-5.579), np.float64(-6.131000000000002), np.float64(-6.408000000000003), np.float64(-6.472500000000002), np.float64(-5.6995000000000005), np.float64(-5.7015), np.float64(-4.691), np.float64(-5.930500000000002), np.float64(-5.245000000000004), np.float64(-5.559500000000001), np.float64(-4.5615000000000006), np.float64(-5.2385), np.float64(-5.4155000000000015), np.float64(-5.130000000000001)], [np.float64(-16.1415), np.float64(-14.068500000000002), np.float64(-13.995500000000002), np.float64(-15.135), np.float64(-14.2995), np.float64(-14.814000000000002), np.float64(-12.791), np.float64(-13.718), np.float64(-13.8075), np.float64(-13.7845), np.float64(-12.949), np.float64(-11.438500000000001), np.float64(-10.7405), np.float64(-10.917500000000004), np.float64(-11.744500000000006), np.float64(-12.696500000000002), np.float64(-11.423499999999999), np.float64(-10.988000000000001), np.float64(-11.639999999999999), np.float64(-11.179499999999999), np.float64(-11.5565), np.float64(-11.6335), np.float64(-9.273000000000001), np.float64(-10.925), np.float64(-8.714500000000001), np.float64(-11.291500000000001), np.float64(-8.256000000000002), np.float64(-9.658), np.float64(-9.76), np.float64(-9.474500000000003), np.float64(-7.976500000000001), np.float64(-9.891000000000002), np.float64(-9.493), np.float64(-9.47), np.float64(-9.4095), np.float64(-9.336500000000001), np.float64(-7.150999999999998), np.float64(-7.315500000000001), np.float64(-8.867500000000001), np.float64(-8.382000000000001), np.float64(-7.771500000000001), np.float64(-7.223500000000002), np.float64(-7.638000000000002), np.float64(-7.402500000000002), np.float64(-7.067000000000001), np.float64(-7.994000000000001), np.float64(-7.121), np.float64(-6.548), np.float64(-6.300000000000001), np.float64(-6.952000000000003), np.float64(-5.579), np.float64(-5.531), np.float64(-6.408000000000002), np.float64(-6.222500000000003), np.float64(-5.2870000000000035), np.float64(-5.701500000000001), np.float64(-4.591), np.float64(-5.805500000000001), np.float64(-4.9075000000000015), np.float64(-5.4595), np.float64(-4.149000000000001), np.float64(-5.051), np.float64(-5.4155000000000015), np.float64(-5.130000000000001)]])\n"
     ]
    }
   ],
   "source": [
    "importlib.reload(proAnubis_Analysis_Tools)\n",
    "TAnalyser = proAnubis_Analysis_Tools.Timing_Analyser(chunks[0],0)\n",
    "for processedEvents, chunk in enumerate(chunks):\n",
    "    TAnalyser.update_event(chunk, processedEvents)\n",
    "    TAnalyser.readTDCTimeDiffs()\n",
    "\n",
    "#TAnalyser.calculate_correction_stats()\n",
    "\n",
    "residEta, residPhi = TAnalyser.Calculate_Residual_and_plot_TDC_Time_Diffs( \n",
    "                                                     pdf_filename='output/TDC_time_diffs.pdf', \n",
    "                                                     max_itr = 5)\n",
    "\n",
    "print((residEta, residPhi))\n",
    "outDict = {'totDiffs':TAnalyser.totDiffs,\n",
    "            'nDiffs':TAnalyser.nDiffs,\n",
    "            'diffHists':TAnalyser.diffHists} \n"
   ]
  },
  {
   "cell_type": "code",
   "execution_count": 15,
   "metadata": {},
   "outputs": [
    {
     "name": "stdout",
     "output_type": "stream",
     "text": [
      "32\n"
     ]
    }
   ],
   "source": [
    "print(len(residPhi[0]))"
   ]
  },
  {
   "cell_type": "code",
   "execution_count": 3,
   "metadata": {},
   "outputs": [
    {
     "name": "stdout",
     "output_type": "stream",
     "text": [
      "Initial time 2024-08-15 16:59:49.312501 1723737589.312501\n"
     ]
    },
    {
     "name": "stderr",
     "output_type": "stream",
     "text": [
      "Processing Chunks proAnubis_240815_1759.raw: 100%|██████████| 10000/10000 [01:45<00:00, 94.49Chunks/s]\n"
     ]
    },
    {
     "name": "stdout",
     "output_type": "stream",
     "text": [
      "Ending time: 2024-08-15 17:03:04.904445\n",
      "Number of chunks: 10000\n",
      "Total Events: 0\n",
      "Total reconstructed events: [0, 0, 0, 0, 0, 0]\n"
     ]
    },
    {
     "name": "stderr",
     "output_type": "stream",
     "text": [
      "C:\\/Users//jony//Programming//Python//Anubis//anubis//tools\\Visual_tools.py:102: RuntimeWarning: More than 20 figures have been opened. Figures created through the pyplot interface (`matplotlib.pyplot.figure`) are retained until explicitly closed and may consume too much memory. (To control this warning, see the rcParam `figure.max_open_warning`). Consider using `matplotlib.pyplot.close()`.\n",
      "  fig = plt.figure(figsize=(10, 10))\n",
      "C:\\/Users//jony//Programming//Python//Anubis//anubis//tools\\Reconstruction_tools.py:362: RuntimeWarning: divide by zero encountered in scalar divide\n",
      "  t = (z-z_0)/d[2]\n",
      "C:\\/Users//jony//Programming//Python//Anubis//anubis//tools\\Reconstruction_tools.py:367: RuntimeWarning: invalid value encountered in scalar multiply\n",
      "  y_traj = centroid[1] + t*d[1]\n"
     ]
    },
    {
     "name": "stdout",
     "output_type": "stream",
     "text": [
      "Initial time 2024-08-15 17:03:04.921412 1723737784.921412\n"
     ]
    },
    {
     "name": "stderr",
     "output_type": "stream",
     "text": [
      "Processing Chunks proAnubis_240815_1759.raw: 100%|██████████| 10000/10000 [01:46<00:00, 93.86Chunks/s]\n"
     ]
    },
    {
     "name": "stdout",
     "output_type": "stream",
     "text": [
      "Ending time: 2024-08-15 17:06:18.967902\n",
      "Number of chunks: 10000\n",
      "Total Events: 9999000000\n",
      "Total reconstructed events: [23, 13, 9, 27, 19, 14]\n",
      "Initial time 2024-08-15 17:06:18.987834 1723737978.987834\n"
     ]
    },
    {
     "name": "stderr",
     "output_type": "stream",
     "text": [
      "Processing Chunks proAnubis_240815_1759.raw: 100%|██████████| 10000/10000 [01:50<00:00, 90.48Chunks/s]\n"
     ]
    },
    {
     "name": "stdout",
     "output_type": "stream",
     "text": [
      "Ending time: 2024-08-15 17:09:32.379433\n",
      "Number of chunks: 10000\n",
      "Total Events: 19998000000\n",
      "Total reconstructed events: [36, 21, 17, 52, 33, 23]\n"
     ]
    },
    {
     "ename": "",
     "evalue": "",
     "output_type": "error",
     "traceback": [
      "\u001b[1;31mThe Kernel crashed while executing code in the current cell or a previous cell. \n",
      "\u001b[1;31mPlease review the code in the cell(s) to identify a possible cause of the failure. \n",
      "\u001b[1;31mClick <a href='https://aka.ms/vscodeJupyterKernelCrash'>here</a> for more info. \n",
      "\u001b[1;31mView Jupyter <a href='command:jupyter.viewOutput'>log</a> for further details."
     ]
    }
   ],
   "source": [
    "#find events with multiple clusters\n",
    "importlib.reload(RTools)\n",
    "importlib.reload(proAnubis_Analysis_Tools)\n",
    "importlib.reload(rawFileReader)\n",
    "\n",
    "file_name = \"proAnubis_240815_1759.raw\"\n",
    "\n",
    "fReader = rawFileReader.fileReader(dir+file_name)\n",
    "tol = [i/10 for i in range(100)]\n",
    "possible_reconstructions = [0 for rpc in range(6)]\n",
    "successful_reconstructions = [[0 for _ in tol] for rpc in range(6)]\n",
    "chi2 = []\n",
    "\n",
    "interesting_events = []\n",
    "\n",
    "idonotstop = True\n",
    "total_events = 0\n",
    "while idonotstop:\n",
    "   chunks, times, fReader = overview.get_chunks(file_name, max_process_event=1_000_000, fReader = fReader, saves = False)\n",
    "   print(\"Total Events:\", total_events)\n",
    "   print(\"Total reconstructed events:\", possible_reconstructions)\n",
    "   reconstructor = proAnubis_Analysis_Tools.Reconstructor(chunks[0], 0)\n",
    "   for processedEvents, event_chunk in enumerate(chunks[1:]):\n",
    "      reconstructor.update_event(event_chunk, processedEvents)\n",
    "      # populate_hits turns TDC bit wise information into their corresponding strips\n",
    "      reconstructor.populate_hits()\n",
    "      # This is optionnal, and requires the residual of eta and phi\n",
    "         # make_cluster does temporal and spatial coincidence between the stips, and reconstruction is done\n",
    "      clusters = reconstructor.make_cluster()\n",
    "      chi2_region = (0, 100)\n",
    "      for evt_num, cluster in enumerate(clusters):\n",
    "         for rpc in range(6):\n",
    "            E_recon = RTools.reconstruct_timed_Chi2_ByRPC(cluster, 3, rpc) #why is it excluded?\n",
    "            if E_recon and len(E_recon) > 1:\n",
    "                  interesting_events.append(event_chunk[cluster[0]-processedEvents])\n",
    "                  VTools.event_3d_plot(event_chunk[cluster[0]-processedEvents], processedEvents*100+10*evt_num)\n",
    "                  track = E_recon[1]\n",
    "                  if len(track[2]) >= 5:\n",
    "                     if track[4] > chi2_region[0] and track[4] < chi2_region[1]:\n",
    "                           chi2.append(track[4])\n",
    "                           # self.event_of_interest.append(track)\n",
    "                           # Adding this check to see if other 5 RPCs are in reconstructed event.\n",
    "                           # This is necessary to ensure the reconstructed path is accurate.\n",
    "\n",
    "                           muon_coords = RTools.does_muon_hit_RPC(track[0], track[1], rpc)\n",
    "                           if muon_coords:\n",
    "                              possible_reconstructions[rpc] += 1\n",
    "                              for idx, t in enumerate(tol):\n",
    "                                 check = RTools.does_RPC_detect_muon(muon_coords, track[7], t)\n",
    "                                 if check:\n",
    "                                    successful_reconstructions[rpc][idx] += 1\n",
    "      \n",
    "      total_events += 1_000_000\n",
    "      with open(f\"data//double//interesting_events{total_events//1_000_000}.pkl\", \"wb\") as f:\n",
    "         pickle.dump(interesting_events, f)\n",
    "                                      \n",
    "      \"\"\"\n",
    "      for evt_num, cluster in enumerate(clusters):\n",
    "         repeated = 0\n",
    "         for rpc in range(6):\n",
    "            if len(cluster[2][rpc][0]) == 2 and len(cluster[2][rpc][1]) == 2: #phi and eta\n",
    "               repeated += 1\n",
    "         #tracks = RTools.reconstruct_timed_Chi2_ByRPC(cluster, 3, -1)\n",
    "         if len(tracks) > 1\n",
    "            #heatmap\n",
    "            hits = []\n",
    "            for rpc in range(6):\n",
    "               hits.extend([phi for phi in cluster[2][rpc][0]])\n",
    "               hits.extend([eta for eta in cluster[2][rpc][1]])\n",
    "            hits = [h[0] for h in hits]\n",
    "            heatMaps = [np.zeros((32,64)) for rpc in range(6)]\n",
    "            for hit in hits:\n",
    "               if hit[3]:\n",
    "                  heatMaps[hit[0]][hit[1],:] += np.ones(64)\n",
    "               else:\n",
    "                  heatMaps[hit[0]][:,hit[1]] += np.ones(32)\n",
    "            #reconstruction\n",
    "\n",
    "            print(\"Number of tracks:\", len(tracks))\n",
    "            for track in tracks:\n",
    "               centroid, direction, opt_coords, _, chi2, dT, _, _ = track\n",
    "               for rpc, point in enumerate(opt_coords):\n",
    "                  try:\n",
    "                     heatMaps[rpc][31 - int(point[1]/ 2.9844)][int(point[0]/ 2.7625)] += 3\n",
    "                  except:\n",
    "                     print((int(point[0]/ 2.7625), int(point[1]/ 2.9844)))\n",
    "\n",
    "            for rpc in range(6):\n",
    "                  plt.imshow(heatMaps[rpc], interpolation='nearest')\n",
    "                  plt.title(f'Event {evt_num} RPC {rpc}')\n",
    "                  plt.savefig(f'video/images_video/double{processedEvents*100+10*evt_num+rpc}.png')\n",
    "         \"\"\"\n",
    "      #print(\"Clust\")"
   ]
  },
  {
   "cell_type": "code",
   "execution_count": 19,
   "metadata": {},
   "outputs": [
    {
     "name": "stdout",
     "output_type": "stream",
     "text": [
      "260\n"
     ]
    }
   ],
   "source": [
    "importlib.reload(VTools)\n",
    "file_path = \"data//interesting_events.pkl\"\n",
    "with open(file_path, 'rb') as f:\n",
    "    data = pickle.load(f)\n",
    "    print(len(data))\n",
    "interesting_events = data\n",
    "for event in interesting_events[10:11]:\n",
    "   VTools.event_3d_plot(event, 0)"
   ]
  },
  {
   "cell_type": "code",
   "execution_count": 11,
   "metadata": {},
   "outputs": [
    {
     "name": "stdout",
     "output_type": "stream",
     "text": [
      "0\n",
      "1\n",
      "2\n",
      "3\n",
      "4\n",
      "5\n",
      "6\n",
      "7\n",
      "8\n",
      "9\n",
      "10\n",
      "11\n",
      "12\n",
      "13\n",
      "14\n",
      "15\n",
      "16\n",
      "17\n",
      "18\n",
      "19\n",
      "20\n",
      "21\n",
      "22\n",
      "23\n",
      "24\n",
      "25\n",
      "26\n",
      "27\n",
      "28\n",
      "29\n",
      "30\n",
      "31\n",
      "32\n",
      "33\n",
      "34\n",
      "35\n",
      "36\n",
      "37\n",
      "38\n",
      "39\n",
      "40\n",
      "41\n",
      "42\n",
      "43\n",
      "44\n",
      "45\n",
      "46\n",
      "47\n",
      "48\n",
      "49\n",
      "50\n",
      "51\n",
      "52\n",
      "53\n",
      "54\n",
      "55\n",
      "56\n",
      "57\n",
      "58\n",
      "59\n",
      "60\n",
      "61\n",
      "62\n",
      "63\n",
      "64\n",
      "65\n",
      "66\n",
      "67\n",
      "68\n",
      "69\n",
      "70\n",
      "71\n",
      "72\n",
      "73\n",
      "74\n",
      "75\n",
      "76\n",
      "77\n",
      "78\n",
      "79\n",
      "80\n",
      "81\n",
      "82\n",
      "83\n",
      "84\n",
      "85\n",
      "86\n",
      "87\n",
      "88\n",
      "89\n",
      "90\n",
      "91\n",
      "92\n",
      "93\n",
      "94\n",
      "95\n",
      "96\n",
      "97\n",
      "98\n",
      "99\n",
      "100\n",
      "101\n",
      "102\n",
      "103\n",
      "104\n",
      "105\n",
      "106\n",
      "107\n",
      "108\n",
      "109\n",
      "110\n",
      "111\n",
      "112\n",
      "113\n",
      "114\n",
      "115\n",
      "116\n",
      "117\n",
      "118\n",
      "119\n",
      "120\n",
      "121\n",
      "122\n",
      "123\n",
      "124\n",
      "125\n",
      "126\n",
      "127\n",
      "128\n",
      "129\n",
      "130\n",
      "131\n",
      "132\n",
      "133\n",
      "134\n",
      "135\n",
      "136\n",
      "137\n",
      "138\n",
      "139\n",
      "140\n",
      "141\n",
      "142\n",
      "143\n",
      "144\n",
      "145\n",
      "146\n",
      "147\n",
      "148\n",
      "149\n",
      "150\n",
      "151\n",
      "152\n",
      "153\n",
      "154\n",
      "155\n",
      "156\n",
      "157\n",
      "158\n",
      "159\n",
      "160\n",
      "161\n",
      "162\n",
      "163\n",
      "164\n",
      "165\n",
      "166\n",
      "167\n",
      "168\n",
      "169\n",
      "170\n",
      "171\n",
      "172\n",
      "173\n",
      "174\n",
      "175\n",
      "176\n",
      "177\n",
      "178\n",
      "179\n",
      "180\n",
      "181\n"
     ]
    },
    {
     "ename": "KeyboardInterrupt",
     "evalue": "",
     "output_type": "error",
     "traceback": [
      "\u001b[1;31m---------------------------------------------------------------------------\u001b[0m",
      "\u001b[1;31mKeyboardInterrupt\u001b[0m                         Traceback (most recent call last)",
      "Cell \u001b[1;32mIn[11], line 11\u001b[0m\n\u001b[0;32m      9\u001b[0m chi2_region \u001b[38;5;241m=\u001b[39m (\u001b[38;5;241m0\u001b[39m, \u001b[38;5;241m100\u001b[39m)\n\u001b[0;32m     10\u001b[0m \u001b[38;5;28;01mfor\u001b[39;00m evt_num, cluster \u001b[38;5;129;01min\u001b[39;00m \u001b[38;5;28menumerate\u001b[39m(clusters):\n\u001b[1;32m---> 11\u001b[0m     tracks \u001b[38;5;241m=\u001b[39m \u001b[43mRTools\u001b[49m\u001b[38;5;241;43m.\u001b[39;49m\u001b[43mreconstruct_timed_Chi2_ByRPC\u001b[49m\u001b[43m(\u001b[49m\u001b[43mcluster\u001b[49m\u001b[43m,\u001b[49m\u001b[43m \u001b[49m\u001b[38;5;241;43m3\u001b[39;49m\u001b[43m,\u001b[49m\u001b[43m \u001b[49m\u001b[38;5;241;43m-\u001b[39;49m\u001b[38;5;241;43m1\u001b[39;49m\u001b[43m)\u001b[49m\n\u001b[0;32m     12\u001b[0m     \u001b[38;5;28;01mif\u001b[39;00m tracks \u001b[38;5;129;01mand\u001b[39;00m \u001b[38;5;28mlen\u001b[39m(tracks) \u001b[38;5;241m>\u001b[39m \u001b[38;5;241m1\u001b[39m:\n\u001b[0;32m     13\u001b[0m         chi2\u001b[38;5;241m.\u001b[39mappend(tracks[\u001b[38;5;241m1\u001b[39m][\u001b[38;5;241m4\u001b[39m])\n",
      "File \u001b[1;32mC:\\/Users//jony//Programming//Python//Anubis//anubis//tools\\Reconstruction_tools.py:451\u001b[0m, in \u001b[0;36mreconstruct_timed_Chi2_ByRPC\u001b[1;34m(event, max_cluster_size, RPC_excluded, rpc_indicies)\u001b[0m\n\u001b[0;32m    449\u001b[0m \u001b[38;5;28;01mif\u001b[39;00m \u001b[38;5;28mlen\u001b[39m(combo) \u001b[38;5;241m<\u001b[39m \u001b[38;5;241m5\u001b[39m:\n\u001b[0;32m    450\u001b[0m     \u001b[38;5;28;01mcontinue\u001b[39;00m\n\u001b[1;32m--> 451\u001b[0m centroid, d, Chi2, coordinates, delta_T, delta_Z\u001b[38;5;241m=\u001b[39m \u001b[43mfit_event_chi2\u001b[49m\u001b[43m(\u001b[49m\u001b[43mcombo\u001b[49m\u001b[43m,\u001b[49m\u001b[43m \u001b[49m\u001b[43mrpc_indicies\u001b[49m\u001b[43m \u001b[49m\u001b[38;5;241;43m=\u001b[39;49m\u001b[43m \u001b[49m\u001b[43mrpc_indicies\u001b[49m\u001b[43m)\u001b[49m\n\u001b[0;32m    452\u001b[0m \u001b[38;5;28;01mif\u001b[39;00m Chi2 \u001b[38;5;241m<\u001b[39m Chi2_current:\n\u001b[0;32m    453\u001b[0m \n\u001b[0;32m    454\u001b[0m     \u001b[38;5;66;03m# If new fit is better than old then replace old fit properties.\u001b[39;00m\n\u001b[0;32m    455\u001b[0m     dZ \u001b[38;5;241m=\u001b[39m delta_Z \n",
      "File \u001b[1;32mC:\\/Users//jony//Programming//Python//Anubis//anubis//tools\\Reconstruction_tools.py:332\u001b[0m, in \u001b[0;36mfit_event_chi2\u001b[1;34m(coordinates_with_error, rpc_indicies)\u001b[0m\n\u001b[0;32m    330\u001b[0m \u001b[38;5;66;03m# performing SVD\u001b[39;00m\n\u001b[0;32m    331\u001b[0m \u001b[38;5;28;01mtry\u001b[39;00m:\n\u001b[1;32m--> 332\u001b[0m     _, _, V \u001b[38;5;241m=\u001b[39m \u001b[43mnp\u001b[49m\u001b[38;5;241;43m.\u001b[39;49m\u001b[43mlinalg\u001b[49m\u001b[38;5;241;43m.\u001b[39;49m\u001b[43msvd\u001b[49m\u001b[43m(\u001b[49m\u001b[43msubtracted\u001b[49m\u001b[43m)\u001b[49m\n\u001b[0;32m    333\u001b[0m \u001b[38;5;28;01mexcept\u001b[39;00m np\u001b[38;5;241m.\u001b[39mlinalg\u001b[38;5;241m.\u001b[39mLinAlgError:\n\u001b[0;32m    334\u001b[0m     \u001b[38;5;28;01mreturn\u001b[39;00m \u001b[38;5;28;01mNone\u001b[39;00m, \u001b[38;5;28;01mNone\u001b[39;00m, np\u001b[38;5;241m.\u001b[39minf, \u001b[38;5;28;01mNone\u001b[39;00m, \u001b[38;5;28;01mNone\u001b[39;00m, \u001b[38;5;28;01mNone\u001b[39;00m\n",
      "File \u001b[1;32mc:\\Users\\jony\\Programming\\Python\\Anubis\\anubis\\.venv\\lib\\site-packages\\numpy\\linalg\\_linalg.py:1796\u001b[0m, in \u001b[0;36msvd\u001b[1;34m(a, full_matrices, compute_uv, hermitian)\u001b[0m\n\u001b[0;32m   1792\u001b[0m signature \u001b[38;5;241m=\u001b[39m \u001b[38;5;124m'\u001b[39m\u001b[38;5;124mD->DdD\u001b[39m\u001b[38;5;124m'\u001b[39m \u001b[38;5;28;01mif\u001b[39;00m isComplexType(t) \u001b[38;5;28;01melse\u001b[39;00m \u001b[38;5;124m'\u001b[39m\u001b[38;5;124md->ddd\u001b[39m\u001b[38;5;124m'\u001b[39m\n\u001b[0;32m   1793\u001b[0m \u001b[38;5;28;01mwith\u001b[39;00m errstate(call\u001b[38;5;241m=\u001b[39m_raise_linalgerror_svd_nonconvergence,\n\u001b[0;32m   1794\u001b[0m               invalid\u001b[38;5;241m=\u001b[39m\u001b[38;5;124m'\u001b[39m\u001b[38;5;124mcall\u001b[39m\u001b[38;5;124m'\u001b[39m, over\u001b[38;5;241m=\u001b[39m\u001b[38;5;124m'\u001b[39m\u001b[38;5;124mignore\u001b[39m\u001b[38;5;124m'\u001b[39m, divide\u001b[38;5;241m=\u001b[39m\u001b[38;5;124m'\u001b[39m\u001b[38;5;124mignore\u001b[39m\u001b[38;5;124m'\u001b[39m,\n\u001b[0;32m   1795\u001b[0m               under\u001b[38;5;241m=\u001b[39m\u001b[38;5;124m'\u001b[39m\u001b[38;5;124mignore\u001b[39m\u001b[38;5;124m'\u001b[39m):\n\u001b[1;32m-> 1796\u001b[0m     u, s, vh \u001b[38;5;241m=\u001b[39m \u001b[43mgufunc\u001b[49m\u001b[43m(\u001b[49m\u001b[43ma\u001b[49m\u001b[43m,\u001b[49m\u001b[43m \u001b[49m\u001b[43msignature\u001b[49m\u001b[38;5;241;43m=\u001b[39;49m\u001b[43msignature\u001b[49m\u001b[43m)\u001b[49m\n\u001b[0;32m   1797\u001b[0m u \u001b[38;5;241m=\u001b[39m u\u001b[38;5;241m.\u001b[39mastype(result_t, copy\u001b[38;5;241m=\u001b[39m\u001b[38;5;28;01mFalse\u001b[39;00m)\n\u001b[0;32m   1798\u001b[0m s \u001b[38;5;241m=\u001b[39m s\u001b[38;5;241m.\u001b[39mastype(_realType(result_t), copy\u001b[38;5;241m=\u001b[39m\u001b[38;5;28;01mFalse\u001b[39;00m)\n",
      "\u001b[1;31mKeyboardInterrupt\u001b[0m: "
     ]
    }
   ],
   "source": [
    "reconstructor = proAnubis_Analysis_Tools.Reconstructor(interesting_events, 0)\n",
    "# populate_hits turns TDC bit wise information into their corresponding strips\n",
    "reconstructor.populate_hits()\n",
    "# This is optionnal, and requires the residual of eta and phi\n",
    "    # make_cluster does temporal and spatial coincidence between the stips, and reconstruction is done\n",
    "clusters = reconstructor.make_cluster()\n",
    "\n",
    "chi2 = []\n",
    "chi2_region = (0, 100)\n",
    "for evt_num, cluster in enumerate(clusters):\n",
    "    tracks = RTools.reconstruct_timed_Chi2_ByRPC(cluster, 3, -1)\n",
    "    if tracks and len(tracks) > 1:\n",
    "        chi2.append(tracks[1][4])\n",
    "    print(evt_num)"
   ]
  },
  {
   "cell_type": "code",
   "execution_count": 12,
   "metadata": {},
   "outputs": [
    {
     "name": "stdout",
     "output_type": "stream",
     "text": [
      "Efficiency Done\n",
      "Possible reconstructions [0, 0, 0, 0, 0, 0]\n",
      "[0.4318181818181818, 0.6, 0.6818181818181818, 0.4406779661016949, 0.35, 0.6071428571428571]\n"
     ]
    }
   ],
   "source": [
    "plt.figure(figsize=(10, 6))\n",
    "max_eff = []\n",
    "for RPC in range(6):\n",
    "    if possible_reconstructions[RPC] == 0:\n",
    "        efficiency = [0 for x in successful_reconstructions[RPC]]\n",
    "    else:\n",
    "        efficiency = [x / possible_reconstructions[RPC] for x in successful_reconstructions[RPC]]\n",
    "    max_eff.append(efficiency[-1])\n",
    "    plt.plot(tol, efficiency, label=f'RPC {RPC}')\n",
    "\n",
    "plt.xlabel('Tolerance')\n",
    "plt.ylabel('Efficiency')\n",
    "plt.title('The efficiency of the second track reconstruction')\n",
    "plt.legend()\n",
    "plt.grid(True)\n",
    "plt.show()\n",
    "plt.close()\n",
    "print(\"Efficiency Done\")\n",
    "print(\"Possible reconstructions\", reconstructor.possible_reconstructions)\n",
    "print(max_eff)"
   ]
  },
  {
   "cell_type": "code",
   "execution_count": 18,
   "metadata": {},
   "outputs": [
    {
     "name": "stdout",
     "output_type": "stream",
     "text": [
      "3.549413719172803\n",
      "[np.float64(2.923268450788971), np.float64(1.5455626187848202), np.float64(1.3824512933971917), np.float64(0.2870659845529911), np.float64(6.057028098867192), np.float64(1.1170741127596033), np.float64(0.47158490850782714), np.float64(1.4008653273049967), np.float64(6.473761420102736), np.float64(1.6294728836774055), np.float64(1.5255178606337314), np.float64(0.4398499126206219), np.float64(3.4205517579528855), np.float64(2.100629585341305), np.float64(3.8330354225996115), np.float64(1.600927888787882), np.float64(4.449677296942161), np.float64(4.449677296942161), np.float64(4.449677296942161), np.float64(4.449677296942161), np.float64(4.449677296942161), np.float64(4.449677296942161), np.float64(4.6383741165254815), np.float64(4.6383741165254815), np.float64(4.6383741165254815), np.float64(4.6383741165254815), np.float64(4.6383741165254815), np.float64(4.6383741165254815), np.float64(5.698472209406913), np.float64(5.698472209406913), np.float64(5.698472209406913), np.float64(5.698472209406913), np.float64(5.698472209406913), np.float64(5.698472209406913), np.float64(6.328031724165147), np.float64(0.37710576628647224), np.float64(7.325059558773219), np.float64(6.587935864600887), np.float64(9.38862172033483), np.float64(2.2519919149052456), np.float64(0.8196106173030243), np.float64(3.680081859289625), np.float64(5.459409426240427), np.float64(1.3538568328433682), np.float64(0.820961324947131), np.float64(5.403311698273861), np.float64(5.634210164993198), np.float64(3.256652605378344), np.float64(3.256652605378344), np.float64(3.256652605378344), np.float64(3.256652605378344), np.float64(3.256652605378344), np.float64(3.256652605378344), np.float64(3.1306520158243503), np.float64(3.1306520158243503), np.float64(3.1306520158243503), np.float64(3.1306520158243503), np.float64(3.1306520158243503), np.float64(3.1306520158243503), np.float64(1.9548221487286825), np.float64(4.59192407453934), np.float64(0.4559054424241508), np.float64(3.994023045768157), np.float64(0.009598848790705652), np.float64(2.907212904421494), np.float64(1.847030775309227), np.float64(0.7306779752798565), np.float64(7.021862842514789), np.float64(1.9380149537851163), np.float64(0.012373379514848721), np.float64(7.651732520722398), np.float64(3.0441217157512495), np.float64(2.2985676156319665), np.float64(4.2367633622813905), np.float64(1.3550056146237461), np.float64(1.5348424309383184), np.float64(1.5348424309383184), np.float64(1.5348424309383184), np.float64(1.5348424309383184), np.float64(1.5348424309383184), np.float64(1.5348424309383184), np.float64(6.815403147611007), np.float64(2.962022629121293), np.float64(1.8857383069434184), np.float64(2.3798102459327826), np.float64(7.6115314927960425), np.float64(7.6115314927960425), np.float64(7.6115314927960425), np.float64(7.6115314927960425), np.float64(7.6115314927960425), np.float64(7.6115314927960425), np.float64(6.019221114832796), np.float64(0.0791897271049115), np.float64(3.3827524118882852), np.float64(2.517441035010737), np.float64(3.9493102337573585), np.float64(0.6234356342941696), np.float64(1.84166177142699), np.float64(3.931693249313128), np.float64(1.0156084690732354), np.float64(9.093256481943119), np.float64(9.093256481943119), np.float64(9.093256481943119), np.float64(1.2058412859564736), np.float64(3.2653961888373164), np.float64(2.0546000364487993), np.float64(7.056156990685611), np.float64(6.265607218687138), np.float64(0.020292343945723084), np.float64(0.8410720150166889), np.float64(8.550083551353223), np.float64(5.755425063030976), np.float64(1.2924738011855041), np.float64(2.0442727323720775), np.float64(2.350858044618328), np.float64(0.16233966712284634), np.float64(9.970711883383604), np.float64(0.1950057766933787), np.float64(0.8451927878332851), np.float64(4.706158614604916), np.float64(2.0744012754525487), np.float64(0.40040993058465535), np.float64(2.0363403593605), np.float64(0.39190270428231017), np.float64(9.644347932389131), np.float64(2.476994729252263), np.float64(6.204799899837352), np.float64(3.452080420516195), np.float64(1.6740047064119203), np.float64(7.11085428447312), np.float64(1.0966284692314419), np.float64(6.4037115631179296), np.float64(0.8790771708354516), np.float64(0.012478503911423078), np.float64(6.529553364409146), np.float64(1.967376496891432), np.float64(4.470556827077824), np.float64(0.3756938759155864), np.float64(4.936851786236806), np.float64(3.816103114466778), np.float64(4.757816402602871), np.float64(0.3856167753901681), np.float64(0.004949351671655166), np.float64(6.118720792546493), np.float64(0.43125327249647216), np.float64(8.741833791941959), np.float64(1.8829972622107662), np.float64(4.4119592882367105), np.float64(4.4119592882367105), np.float64(4.4119592882367105), np.float64(4.4119592882367105), np.float64(4.4119592882367105), np.float64(4.4119592882367105), np.float64(8.632703708922072), np.float64(2.379213820842806), np.float64(2.379213820842806), np.float64(2.379213820842806), np.float64(2.379213820842806), np.float64(2.379213820842806), np.float64(2.379213820842806), np.float64(0.04800874059405714), np.float64(0.0004949351635218295)]\n"
     ]
    }
   ],
   "source": [
    "#plot chi2 distribution\n",
    "import scipy.special as sp\n",
    "k = np.mean(chi2)\n",
    "plt.hist(chi2, bins = int(np.sqrt(8*len(chi2))), density = True)\n",
    "x = np.array([i for i in range(0, 10)])\n",
    "print(sp.gamma(k))\n",
    "plt.plot(x, 2.4*x**(k/2-1)*np.exp(-x/2)/((2**(k/2))*sp.gamma(k/2)), label = f\"Idealised χ2({round(k,2)}) distribution\")#pdf of chi2\n",
    "plt.title('χ2 distribution of the second track')\n",
    "plt.xlabel('Chi2')\n",
    "plt.legend()\n",
    "plt.ylabel('Frequency')\n",
    "plt.show()\n",
    "print(chi2)"
   ]
  }
 ],
 "metadata": {
  "kernelspec": {
   "display_name": ".venv",
   "language": "python",
   "name": "python3"
  },
  "language_info": {
   "codemirror_mode": {
    "name": "ipython",
    "version": 3
   },
   "file_extension": ".py",
   "mimetype": "text/x-python",
   "name": "python",
   "nbconvert_exporter": "python",
   "pygments_lexer": "ipython3",
   "version": "3.10.4"
  }
 },
 "nbformat": 4,
 "nbformat_minor": 2
}
