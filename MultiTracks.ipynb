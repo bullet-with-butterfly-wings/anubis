{
 "cells": [
  {
   "cell_type": "code",
   "execution_count": 3,
   "metadata": {},
   "outputs": [],
   "source": [
    "import importlib\n",
    "import sys\n",
    "from tqdm import tqdm\n",
    "import  os\n",
    "import pickle\n",
    "import glob\n",
    "from datetime import datetime\n",
    "import matplotlib.pyplot as plt\n",
    "# Add the directories to the sys.path\n",
    "dir_path = \"C://Users//jony//Programming//Python//Anubis//anubis//\" # insert your directory path\n",
    "sys.path.append(dir_path + \"Osiris//processing//python\")\n",
    "sys.path.append(dir_path + \"tools\")\n",
    "\n",
    "import Analysis_tools as ATools\n",
    "import Atlas_tools as AtTools\n",
    "import proAnubis_Analysis_Tools\n",
    "import Reconstruction_tools as RTools\n",
    "import numpy as np\n",
    "import mplhep as hep\n",
    "import Timing_tools as TTools\n",
    "import pickle\n",
    "import tools.overview as overview\n",
    "import rawFileReader\n",
    "plt.rc('text', usetex=True)\n",
    "import Visual_tools as VTools\n",
    "hep.style.use([hep.style.ATLAS])\n",
    "\n",
    "dir = \"C://Users//jony//Programming//Python//Anubis//anubis//data//\"\n",
    "file_name = \"proAnubis_240815_1759.raw\"\n",
    "# Specify the directory\n"
   ]
  },
  {
   "cell_type": "code",
   "execution_count": 2,
   "metadata": {},
   "outputs": [
    {
     "ename": "NameError",
     "evalue": "name 'importlib' is not defined",
     "output_type": "error",
     "traceback": [
      "\u001b[1;31m---------------------------------------------------------------------------\u001b[0m",
      "\u001b[1;31mNameError\u001b[0m                                 Traceback (most recent call last)",
      "Cell \u001b[1;32mIn[2], line 1\u001b[0m\n\u001b[1;32m----> 1\u001b[0m \u001b[43mimportlib\u001b[49m\u001b[38;5;241m.\u001b[39mreload(overview)\n\u001b[0;32m      2\u001b[0m file_name \u001b[38;5;241m=\u001b[39m \u001b[38;5;124m\"\u001b[39m\u001b[38;5;124mproAnubis_240815_1759.raw\u001b[39m\u001b[38;5;124m\"\u001b[39m\n\u001b[0;32m      3\u001b[0m evt_num \u001b[38;5;241m=\u001b[39m \u001b[38;5;241m0\u001b[39m\n",
      "\u001b[1;31mNameError\u001b[0m: name 'importlib' is not defined"
     ]
    }
   ],
   "source": [
    "importlib.reload(overview)\n",
    "file_name = \"proAnubis_240815_1759.raw\"\n",
    "evt_num = 0\n",
    "fReader = rawFileReader.fileReader(dir+file_name)\n",
    "while evt_num < 10_000_000:\n",
    "    chunks, times, fReader = overview.get_chunks(file_name, max_process_event=100_000, fReader = fReader, saves = False)\n",
    "    with open(dir + \"chunks//\" + str(evt_num) + \".pkl\", \"wb\") as f:\n",
    "        pickle.dump(chunks, f)\n",
    "    evt_num += 100_000"
   ]
  },
  {
   "cell_type": "code",
   "execution_count": null,
   "metadata": {},
   "outputs": [],
   "source": [
    "importlib.reload(proAnubis_Analysis_Tools)\n",
    "TAnalyser = proAnubis_Analysis_Tools.Timing_Analyser(chunks[0],0)\n",
    "for processedEvents, chunk in enumerate(chunks):\n",
    "    TAnalyser.update_event(chunk, processedEvents)\n",
    "    TAnalyser.read_tot_diffs()\n",
    "    \n",
    "tpt_mean, tot_std = TAnalyser.calculate_corrections()\n",
    "with open(dir + \"tpt_mean.pkl\", \"wb\") as f:\n",
    "    pickle.dump(tpt_mean, f)\n",
    "with open(dir + \"tot_std.pkl\", \"wb\") as f:\n",
    "    pickle.dump(tot_std, f)"
   ]
  },
  {
   "cell_type": "code",
   "execution_count": 4,
   "metadata": {},
   "outputs": [],
   "source": [
    "with open(dir + \"tot_mean.pkl\", \"rb\") as f:\n",
    "    tot_mean = pickle.load(f)\n",
    "with open(dir + \"tot_std.pkl\", \"rb\") as f:\n",
    "    tot_std = pickle.load(f)"
   ]
  },
  {
   "cell_type": "code",
   "execution_count": 13,
   "metadata": {},
   "outputs": [
    {
     "name": "stdout",
     "output_type": "stream",
     "text": [
      "['C://Users//jony//Programming//Python//Anubis//anubis//data//chunks\\\\0.pkl', 'C://Users//jony//Programming//Python//Anubis//anubis//data//chunks\\\\100000.pkl', 'C://Users//jony//Programming//Python//Anubis//anubis//data//chunks\\\\1000000.pkl', 'C://Users//jony//Programming//Python//Anubis//anubis//data//chunks\\\\1100000.pkl', 'C://Users//jony//Programming//Python//Anubis//anubis//data//chunks\\\\1200000.pkl', 'C://Users//jony//Programming//Python//Anubis//anubis//data//chunks\\\\1300000.pkl', 'C://Users//jony//Programming//Python//Anubis//anubis//data//chunks\\\\1400000.pkl', 'C://Users//jony//Programming//Python//Anubis//anubis//data//chunks\\\\1500000.pkl', 'C://Users//jony//Programming//Python//Anubis//anubis//data//chunks\\\\1600000.pkl', 'C://Users//jony//Programming//Python//Anubis//anubis//data//chunks\\\\1700000.pkl', 'C://Users//jony//Programming//Python//Anubis//anubis//data//chunks\\\\1800000.pkl', 'C://Users//jony//Programming//Python//Anubis//anubis//data//chunks\\\\1900000.pkl', 'C://Users//jony//Programming//Python//Anubis//anubis//data//chunks\\\\200000.pkl', 'C://Users//jony//Programming//Python//Anubis//anubis//data//chunks\\\\2000000.pkl', 'C://Users//jony//Programming//Python//Anubis//anubis//data//chunks\\\\2100000.pkl', 'C://Users//jony//Programming//Python//Anubis//anubis//data//chunks\\\\2200000.pkl', 'C://Users//jony//Programming//Python//Anubis//anubis//data//chunks\\\\2300000.pkl', 'C://Users//jony//Programming//Python//Anubis//anubis//data//chunks\\\\2400000.pkl', 'C://Users//jony//Programming//Python//Anubis//anubis//data//chunks\\\\2500000.pkl', 'C://Users//jony//Programming//Python//Anubis//anubis//data//chunks\\\\2600000.pkl', 'C://Users//jony//Programming//Python//Anubis//anubis//data//chunks\\\\2700000.pkl', 'C://Users//jony//Programming//Python//Anubis//anubis//data//chunks\\\\2800000.pkl', 'C://Users//jony//Programming//Python//Anubis//anubis//data//chunks\\\\2900000.pkl', 'C://Users//jony//Programming//Python//Anubis//anubis//data//chunks\\\\300000.pkl', 'C://Users//jony//Programming//Python//Anubis//anubis//data//chunks\\\\3000000.pkl', 'C://Users//jony//Programming//Python//Anubis//anubis//data//chunks\\\\3100000.pkl', 'C://Users//jony//Programming//Python//Anubis//anubis//data//chunks\\\\3200000.pkl', 'C://Users//jony//Programming//Python//Anubis//anubis//data//chunks\\\\3300000.pkl', 'C://Users//jony//Programming//Python//Anubis//anubis//data//chunks\\\\3400000.pkl', 'C://Users//jony//Programming//Python//Anubis//anubis//data//chunks\\\\3500000.pkl', 'C://Users//jony//Programming//Python//Anubis//anubis//data//chunks\\\\3600000.pkl', 'C://Users//jony//Programming//Python//Anubis//anubis//data//chunks\\\\3700000.pkl', 'C://Users//jony//Programming//Python//Anubis//anubis//data//chunks\\\\3800000.pkl', 'C://Users//jony//Programming//Python//Anubis//anubis//data//chunks\\\\3900000.pkl', 'C://Users//jony//Programming//Python//Anubis//anubis//data//chunks\\\\400000.pkl', 'C://Users//jony//Programming//Python//Anubis//anubis//data//chunks\\\\4000000.pkl', 'C://Users//jony//Programming//Python//Anubis//anubis//data//chunks\\\\4100000.pkl', 'C://Users//jony//Programming//Python//Anubis//anubis//data//chunks\\\\4200000.pkl', 'C://Users//jony//Programming//Python//Anubis//anubis//data//chunks\\\\4300000.pkl', 'C://Users//jony//Programming//Python//Anubis//anubis//data//chunks\\\\4400000.pkl', 'C://Users//jony//Programming//Python//Anubis//anubis//data//chunks\\\\4500000.pkl', 'C://Users//jony//Programming//Python//Anubis//anubis//data//chunks\\\\4600000.pkl', 'C://Users//jony//Programming//Python//Anubis//anubis//data//chunks\\\\4700000.pkl', 'C://Users//jony//Programming//Python//Anubis//anubis//data//chunks\\\\4800000.pkl', 'C://Users//jony//Programming//Python//Anubis//anubis//data//chunks\\\\4900000.pkl', 'C://Users//jony//Programming//Python//Anubis//anubis//data//chunks\\\\500000.pkl', 'C://Users//jony//Programming//Python//Anubis//anubis//data//chunks\\\\5000000.pkl', 'C://Users//jony//Programming//Python//Anubis//anubis//data//chunks\\\\5100000.pkl', 'C://Users//jony//Programming//Python//Anubis//anubis//data//chunks\\\\5200000.pkl', 'C://Users//jony//Programming//Python//Anubis//anubis//data//chunks\\\\5300000.pkl', 'C://Users//jony//Programming//Python//Anubis//anubis//data//chunks\\\\5400000.pkl', 'C://Users//jony//Programming//Python//Anubis//anubis//data//chunks\\\\5500000.pkl', 'C://Users//jony//Programming//Python//Anubis//anubis//data//chunks\\\\5600000.pkl', 'C://Users//jony//Programming//Python//Anubis//anubis//data//chunks\\\\5700000.pkl', 'C://Users//jony//Programming//Python//Anubis//anubis//data//chunks\\\\5800000.pkl', 'C://Users//jony//Programming//Python//Anubis//anubis//data//chunks\\\\5900000.pkl', 'C://Users//jony//Programming//Python//Anubis//anubis//data//chunks\\\\600000.pkl', 'C://Users//jony//Programming//Python//Anubis//anubis//data//chunks\\\\6000000.pkl', 'C://Users//jony//Programming//Python//Anubis//anubis//data//chunks\\\\6100000.pkl', 'C://Users//jony//Programming//Python//Anubis//anubis//data//chunks\\\\6200000.pkl', 'C://Users//jony//Programming//Python//Anubis//anubis//data//chunks\\\\6300000.pkl', 'C://Users//jony//Programming//Python//Anubis//anubis//data//chunks\\\\6400000.pkl', 'C://Users//jony//Programming//Python//Anubis//anubis//data//chunks\\\\6500000.pkl', 'C://Users//jony//Programming//Python//Anubis//anubis//data//chunks\\\\6600000.pkl', 'C://Users//jony//Programming//Python//Anubis//anubis//data//chunks\\\\6700000.pkl', 'C://Users//jony//Programming//Python//Anubis//anubis//data//chunks\\\\6800000.pkl', 'C://Users//jony//Programming//Python//Anubis//anubis//data//chunks\\\\700000.pkl', 'C://Users//jony//Programming//Python//Anubis//anubis//data//chunks\\\\800000.pkl', 'C://Users//jony//Programming//Python//Anubis//anubis//data//chunks\\\\900000.pkl']\n"
     ]
    },
    {
     "name": "stderr",
     "output_type": "stream",
     "text": [
      "Analysing chunks proAnubis_240815_1759.raw::   0%|          | 0/69 [00:00<?, ?events/s]"
     ]
    },
    {
     "name": "stdout",
     "output_type": "stream",
     "text": [
      "Analysing chunk 0\n",
      "[[189.31968288 117.40625     22.383        0.6       ]\n",
      " [191.40552376 120.16875     22.383        1.8       ]\n",
      " [190.81275506 120.16875     22.383        3.        ]\n",
      " [190.5126539  123.77836974  34.11962603  60.2206333 ]]\n",
      "[[1.80313937 1.29193257 1.39820233 0.65598205]\n",
      " [0.28062952 0.63595052 0.74222028 0.        ]\n",
      " [0.185624   0.63595052 0.74222028 0.        ]\n",
      " [1.         0.63595052 0.74222028 0.        ]]\n",
      "Fit\n",
      "16.368043195981837\n",
      "(223, 92)\n"
     ]
    },
    {
     "name": "stderr",
     "output_type": "stream",
     "text": [
      "Analysing chunks proAnubis_240815_1759.raw:: 100000events [00:32, 3053.24events/s]     "
     ]
    },
    {
     "name": "stdout",
     "output_type": "stream",
     "text": [
      "Analysing chunk 1\n"
     ]
    },
    {
     "name": "stderr",
     "output_type": "stream",
     "text": [
      "Analysing chunks proAnubis_240815_1759.raw:: 200000events [01:04, 3130.74events/s]"
     ]
    },
    {
     "name": "stdout",
     "output_type": "stream",
     "text": [
      "Analysing chunk 2\n"
     ]
    },
    {
     "name": "stderr",
     "output_type": "stream",
     "text": [
      "Analysing chunks proAnubis_240815_1759.raw:: 200000events [01:20, 3130.74events/s]"
     ]
    },
    {
     "name": "stdout",
     "output_type": "stream",
     "text": [
      "[[193.81308305 109.11875     49.2426       0.6       ]\n",
      " [192.62187947 109.11875     46.2582       1.8       ]\n",
      " [192.18115523 109.11875     49.2426       3.        ]\n",
      " [192.87203925 118.31768931  54.16238084  24.76169504]]\n",
      "[[0.74665776 1.29193257 1.39820233 0.65598205]\n",
      " [1.09456196 0.63595052 0.74222028 0.        ]\n",
      " [0.20534704 0.63595052 0.74222028 0.        ]\n",
      " [1.         0.63595052 0.74222028 0.        ]]\n",
      "Fit\n",
      "3.6699337424147727\n",
      "(796, 6)\n"
     ]
    },
    {
     "name": "stderr",
     "output_type": "stream",
     "text": [
      "Analysing chunks proAnubis_240815_1759.raw:: 300000events [01:35, 3140.46events/s]"
     ]
    },
    {
     "name": "stdout",
     "output_type": "stream",
     "text": [
      "Analysing chunk 3\n"
     ]
    },
    {
     "name": "stderr",
     "output_type": "stream",
     "text": [
      "Analysing chunks proAnubis_240815_1759.raw:: 400000events [02:07, 3154.32events/s]"
     ]
    },
    {
     "name": "stdout",
     "output_type": "stream",
     "text": [
      "Analysing chunk 4\n"
     ]
    },
    {
     "name": "stderr",
     "output_type": "stream",
     "text": [
      "Analysing chunks proAnubis_240815_1759.raw:: 400000events [02:33, 2607.90events/s]\n"
     ]
    },
    {
     "ename": "KeyboardInterrupt",
     "evalue": "",
     "output_type": "error",
     "traceback": [
      "\u001b[1;31m---------------------------------------------------------------------------\u001b[0m",
      "\u001b[1;31mKeyboardInterrupt\u001b[0m                         Traceback (most recent call last)",
      "Cell \u001b[1;32mIn[13], line 23\u001b[0m\n\u001b[0;32m     21\u001b[0m reconstructor\u001b[38;5;241m.\u001b[39mstd_tot \u001b[38;5;241m=\u001b[39m tot_std\n\u001b[0;32m     22\u001b[0m \u001b[38;5;28;01mfor\u001b[39;00m \u001b[38;5;28mid\u001b[39m, chunk \u001b[38;5;129;01min\u001b[39;00m \u001b[38;5;28menumerate\u001b[39m(chunks):    \n\u001b[1;32m---> 23\u001b[0m     chunk_tracks \u001b[38;5;241m=\u001b[39m \u001b[43mreconstructor\u001b[49m\u001b[38;5;241;43m.\u001b[39;49m\u001b[43mreconstruct_tracks\u001b[49m\u001b[43m(\u001b[49m\u001b[43mchunk\u001b[49m\u001b[43m,\u001b[49m\u001b[43m \u001b[49m\u001b[38;5;28;43mid\u001b[39;49m\u001b[43m)\u001b[49m\n\u001b[0;32m     24\u001b[0m     \u001b[38;5;28;01mfor\u001b[39;00m evt_num, event_tracks \u001b[38;5;129;01min\u001b[39;00m \u001b[38;5;28menumerate\u001b[39m(chunk_tracks):\n\u001b[0;32m     25\u001b[0m         \u001b[38;5;28;01mif\u001b[39;00m \u001b[38;5;28mlen\u001b[39m(event_tracks) \u001b[38;5;241m>\u001b[39m \u001b[38;5;241m1\u001b[39m:\n",
      "File \u001b[1;32mC:\\/Users//jony//Programming//Python//Anubis//anubis//tools\\Reconstruction_tools.py:374\u001b[0m, in \u001b[0;36mReconstructor.reconstruct_tracks\u001b[1;34m(self, chunk, chunk_num)\u001b[0m\n\u001b[0;32m    372\u001b[0m clusters \u001b[38;5;241m=\u001b[39m \u001b[38;5;28mself\u001b[39m\u001b[38;5;241m.\u001b[39mcluster()\n\u001b[0;32m    373\u001b[0m \u001b[38;5;28;01mfor\u001b[39;00m evt_num, event_clusters \u001b[38;5;129;01min\u001b[39;00m \u001b[38;5;28menumerate\u001b[39m(clusters):\n\u001b[1;32m--> 374\u001b[0m     tracks \u001b[38;5;241m=\u001b[39m \u001b[43mfind_best_track\u001b[49m\u001b[43m(\u001b[49m\u001b[43mevent_clusters\u001b[49m\u001b[43m,\u001b[49m\u001b[43m \u001b[49m\u001b[43m(\u001b[49m\u001b[38;5;28;43mself\u001b[39;49m\u001b[38;5;241;43m.\u001b[39;49m\u001b[43mchunk_num\u001b[49m\u001b[43m,\u001b[49m\u001b[43m \u001b[49m\u001b[43mevt_num\u001b[49m\u001b[43m)\u001b[49m\u001b[43m)\u001b[49m\n\u001b[0;32m    375\u001b[0m     \u001b[38;5;28mself\u001b[39m\u001b[38;5;241m.\u001b[39mtracks\u001b[38;5;241m.\u001b[39mappend(tracks) \u001b[38;5;66;03m#inlcude event number\u001b[39;00m\n\u001b[0;32m    376\u001b[0m \u001b[38;5;28;01mreturn\u001b[39;00m \u001b[38;5;28mself\u001b[39m\u001b[38;5;241m.\u001b[39mtracks\n",
      "File \u001b[1;32mC:\\/Users//jony//Programming//Python//Anubis//anubis//tools\\Reconstruction_tools.py:422\u001b[0m, in \u001b[0;36mfind_best_track\u001b[1;34m(event_clusters, event_id, RPC_excluded)\u001b[0m\n\u001b[0;32m    420\u001b[0m \u001b[38;5;28;01mfor\u001b[39;00m ind, combo \u001b[38;5;129;01min\u001b[39;00m \u001b[38;5;28menumerate\u001b[39m(combinations):\n\u001b[0;32m    421\u001b[0m     potential_track \u001b[38;5;241m=\u001b[39m Track([cluster \u001b[38;5;28;01mfor\u001b[39;00m cluster \u001b[38;5;129;01min\u001b[39;00m combo \u001b[38;5;28;01mif\u001b[39;00m cluster \u001b[38;5;241m!=\u001b[39m \u001b[38;5;28;01mNone\u001b[39;00m]) \u001b[38;5;66;03m#combo = [None, cluster1, ...] len = 6\u001b[39;00m\n\u001b[1;32m--> 422\u001b[0m     \u001b[38;5;28;01mif\u001b[39;00m \u001b[43mpotential_track\u001b[49m\u001b[38;5;241;43m.\u001b[39;49m\u001b[43mfit\u001b[49m\u001b[43m(\u001b[49m\u001b[43m)\u001b[49m \u001b[38;5;129;01mand\u001b[39;00m potential_track\u001b[38;5;241m.\u001b[39mchi2 \u001b[38;5;241m<\u001b[39m \u001b[38;5;241m15\u001b[39m:\n\u001b[0;32m    423\u001b[0m         possible_tracks\u001b[38;5;241m.\u001b[39mappend(potential_track)\n\u001b[0;32m    425\u001b[0m possible_tracks \u001b[38;5;241m=\u001b[39m \u001b[38;5;28msorted\u001b[39m(possible_tracks, key \u001b[38;5;241m=\u001b[39m \u001b[38;5;28;01mlambda\u001b[39;00m x: x\u001b[38;5;241m.\u001b[39mchi2)       \n",
      "File \u001b[1;32mC:\\/Users//jony//Programming//Python//Anubis//anubis//tools\\Reconstruction_tools.py:57\u001b[0m, in \u001b[0;36mTrack.fit\u001b[1;34m(self)\u001b[0m\n\u001b[0;32m     55\u001b[0m \u001b[38;5;28;01mdef\u001b[39;00m \u001b[38;5;21mfit\u001b[39m(\u001b[38;5;28mself\u001b[39m):\n\u001b[0;32m     56\u001b[0m     \u001b[38;5;28;01mtry\u001b[39;00m:\n\u001b[1;32m---> 57\u001b[0m         _, _, V \u001b[38;5;241m=\u001b[39m \u001b[43mnp\u001b[49m\u001b[38;5;241;43m.\u001b[39;49m\u001b[43mlinalg\u001b[49m\u001b[38;5;241;43m.\u001b[39;49m\u001b[43msvd\u001b[49m\u001b[43m(\u001b[49m\u001b[38;5;28;43mself\u001b[39;49m\u001b[38;5;241;43m.\u001b[39;49m\u001b[43mcoordinates\u001b[49m\u001b[38;5;241;43m-\u001b[39;49m\u001b[38;5;28;43mself\u001b[39;49m\u001b[38;5;241;43m.\u001b[39;49m\u001b[43mcentroid\u001b[49m\u001b[43m)\u001b[49m\n\u001b[0;32m     58\u001b[0m     \u001b[38;5;28;01mexcept\u001b[39;00m np\u001b[38;5;241m.\u001b[39mlinalg\u001b[38;5;241m.\u001b[39mLinAlgError:\n\u001b[0;32m     59\u001b[0m         \u001b[38;5;28;01mreturn\u001b[39;00m \u001b[38;5;28;01mFalse\u001b[39;00m\n",
      "File \u001b[1;32mc:\\Users\\jony\\Programming\\Python\\Anubis\\anubis\\.venv\\lib\\site-packages\\numpy\\linalg\\_linalg.py:1796\u001b[0m, in \u001b[0;36msvd\u001b[1;34m(a, full_matrices, compute_uv, hermitian)\u001b[0m\n\u001b[0;32m   1792\u001b[0m signature \u001b[38;5;241m=\u001b[39m \u001b[38;5;124m'\u001b[39m\u001b[38;5;124mD->DdD\u001b[39m\u001b[38;5;124m'\u001b[39m \u001b[38;5;28;01mif\u001b[39;00m isComplexType(t) \u001b[38;5;28;01melse\u001b[39;00m \u001b[38;5;124m'\u001b[39m\u001b[38;5;124md->ddd\u001b[39m\u001b[38;5;124m'\u001b[39m\n\u001b[0;32m   1793\u001b[0m \u001b[38;5;28;01mwith\u001b[39;00m errstate(call\u001b[38;5;241m=\u001b[39m_raise_linalgerror_svd_nonconvergence,\n\u001b[0;32m   1794\u001b[0m               invalid\u001b[38;5;241m=\u001b[39m\u001b[38;5;124m'\u001b[39m\u001b[38;5;124mcall\u001b[39m\u001b[38;5;124m'\u001b[39m, over\u001b[38;5;241m=\u001b[39m\u001b[38;5;124m'\u001b[39m\u001b[38;5;124mignore\u001b[39m\u001b[38;5;124m'\u001b[39m, divide\u001b[38;5;241m=\u001b[39m\u001b[38;5;124m'\u001b[39m\u001b[38;5;124mignore\u001b[39m\u001b[38;5;124m'\u001b[39m,\n\u001b[0;32m   1795\u001b[0m               under\u001b[38;5;241m=\u001b[39m\u001b[38;5;124m'\u001b[39m\u001b[38;5;124mignore\u001b[39m\u001b[38;5;124m'\u001b[39m):\n\u001b[1;32m-> 1796\u001b[0m     u, s, vh \u001b[38;5;241m=\u001b[39m \u001b[43mgufunc\u001b[49m\u001b[43m(\u001b[49m\u001b[43ma\u001b[49m\u001b[43m,\u001b[49m\u001b[43m \u001b[49m\u001b[43msignature\u001b[49m\u001b[38;5;241;43m=\u001b[39;49m\u001b[43msignature\u001b[49m\u001b[43m)\u001b[49m\n\u001b[0;32m   1797\u001b[0m u \u001b[38;5;241m=\u001b[39m u\u001b[38;5;241m.\u001b[39mastype(result_t, copy\u001b[38;5;241m=\u001b[39m\u001b[38;5;28;01mFalse\u001b[39;00m)\n\u001b[0;32m   1798\u001b[0m s \u001b[38;5;241m=\u001b[39m s\u001b[38;5;241m.\u001b[39mastype(_realType(result_t), copy\u001b[38;5;241m=\u001b[39m\u001b[38;5;28;01mFalse\u001b[39;00m)\n",
      "\u001b[1;31mKeyboardInterrupt\u001b[0m: "
     ]
    }
   ],
   "source": [
    "importlib.reload(RTools)\n",
    "\n",
    "\n",
    "interesting = []\n",
    "vertices = []\n",
    "distances = []\n",
    "\n",
    "#all the files in the directory\n",
    "files = glob.glob(dir + \"chunks//*\")\n",
    "print(files)\n",
    "chunk_num = 0\n",
    "file_id = 0\n",
    "with tqdm(total=len(files), desc=f\"Analysing chunks {file_name}:\", unit='events') as pbar:\n",
    "    while file_id < len(files):\n",
    "        print(f\"Analysing chunk {file_id}\")\n",
    "        last_chunk_num = chunk_num\n",
    "        with open(files[file_id], \"rb\") as f:\n",
    "            chunks = pickle.load(f)\n",
    "        reconstructor = RTools.Reconstructor(chunks[0], 0)\n",
    "        reconstructor.mean_tot = tot_mean\n",
    "        reconstructor.std_tot = tot_std\n",
    "        for id, chunk in enumerate(chunks):    \n",
    "            chunk_tracks = reconstructor.reconstruct_tracks(chunk, id)\n",
    "            for evt_num, event_tracks in enumerate(chunk_tracks):\n",
    "                if len(event_tracks) > 1:\n",
    "                    distance, vertex = RTools.intersection(event_tracks[0], event_tracks[1])\n",
    "                    if vertex[2] < 0:\n",
    "                        vertices.append(vertex)\n",
    "                        distances.append(distance)\n",
    "                    interesting.append([chunk_num, evt_num])\n",
    "                    #interesting.append([processedEvents, evt_num, event_tracks])\n",
    "            reconstructor.tracks = []\n",
    "        chunk_num += 100_000\n",
    "        file_id += 1\n",
    "        pbar.update(100_000)\n",
    "\n"
   ]
  },
  {
   "cell_type": "code",
   "execution_count": 12,
   "metadata": {},
   "outputs": [
    {
     "name": "stdout",
     "output_type": "stream",
     "text": [
      "313\n"
     ]
    }
   ],
   "source": [
    "print(len(distances))"
   ]
  },
  {
   "cell_type": "code",
   "execution_count": 31,
   "metadata": {},
   "outputs": [],
   "source": [
    "#3d scatter plot\n",
    "\n",
    "plane_parameterss = np.array(vertices)\n",
    "new_plane_parameterss = np.array([])\n",
    "for i, p in enumerate(points):\n",
    "    if distances[i] < 10:\n",
    "        #rid of these points\n",
    "        new_points = np.append(new_points, p)\n",
    "points = new_points.copy()\n",
    "x  = points[0::3]\n",
    "y  = points[1::3]\n",
    "z  = points[2::3]\n",
    "\n",
    "# Create a 3D scatter plot\n",
    "fig = plt.figure()\n",
    "ax = fig.add_subplot(111, projection='3d')\n",
    "RPC_heights = [0.6, 1.8, 3.0, 61.8, 121.8, 123]\n",
    "distance_per_phi_channel = 2.7625 #cm\n",
    "distance_per_eta_channel = 2.9844 #cm\n",
    "dimensions = [distance_per_phi_channel*64, distance_per_eta_channel*32]\n",
    "xp = np.array([0, dimensions[0]])\n",
    "yp = np.array([0, dimensions[1]])\n",
    "X, Y = np.meshgrid(xp, yp)\n",
    "for rpc_h in RPC_heights[:-1]:\n",
    "    z_plane = np.ones((1, 1))*rpc_h  # Horizontal plane at z = 60\n",
    "    ax.plot_surface(X, Y, z_plane, color='blue', alpha=0.1)\n",
    "z_plane = np.ones((1, 1))*RPC_heights[-1]  # Horizontal plane at z = 60\n",
    "ax.plot_surface(X, Y, z_plane, color='blue', alpha=0.1, label='RPC')\n",
    "# Scatter plot\n",
    "plt.legend()\n",
    "ax.scatter(x, y, z, c='r', marker='o')\n",
    "ax.set_xlim(-50, 200)\n",
    "ax.set_ylim(-150, 150)\n",
    "ax.set_zlim(-600, 130)\n",
    "# Set labels\n",
    "ax.set_title('3D scatter plot of detected verteces')\n",
    "ax.set_xlabel('x / cm')\n",
    "ax.set_ylabel('y / cm')\n",
    "ax.set_zlabel('z / cm')\n",
    "plt.show()"
   ]
  },
  {
   "cell_type": "code",
   "execution_count": 33,
   "metadata": {},
   "outputs": [
    {
     "name": "stdout",
     "output_type": "stream",
     "text": [
      "[np.float64(3.4805051324236387), np.float64(19.6945871604122), np.float64(40.62355025466957), np.float64(10.958866632388004), np.float64(26.06034358695414), np.float64(4.948049313902242), np.float64(33.04471262679503), np.float64(7.38632439812735), np.float64(97.1363524093707), np.float64(4.917385570123033), np.float64(15.063829031388678), np.float64(6.448720098898591), np.float64(55.61242277984004), np.float64(1.6693942937890327), np.float64(7.414559162633307), np.float64(2.738648874616879), np.float64(8.637858455444192), np.float64(26.666778713742268), np.float64(2.7393235545714347), np.float64(42.212226150604685), np.float64(90.72333636545534), np.float64(0.4251272330815681), np.float64(31.194540455401693), np.float64(93.82022829482496), np.float64(33.79403237264069), np.float64(15.061754909007178), np.float64(8.734622417514625), np.float64(31.585381864734273), np.float64(13.616038087287162), np.float64(19.38515413751629), np.float64(13.681000831773265), np.float64(11.611293096509797), np.float64(2.580630676824782), np.float64(31.71476049805035), np.float64(14.970654031471007), np.float64(91.23628263308755), np.float64(37.44095771864778), np.float64(66.02383784284054), np.float64(86.48413298666961), np.float64(14.472558666242346), np.float64(13.109923703100534), np.float64(45.462444888556504), np.float64(26.770443165874703), np.float64(7.4622158064003035), np.float64(8.569186718350972), np.float64(25.838022186956653), np.float64(7.221735280682477), np.float64(9.462801711715294), np.float64(57.44267801700933), np.float64(8.943656298892837), np.float64(33.02002066707404), np.float64(53.826127446626955), np.float64(51.0830748082026), np.float64(46.405669058011554), np.float64(4.491622613554441), np.float64(44.58402792481873), np.float64(85.54699399981045), np.float64(12.691679534955153), np.float64(28.735302052387837), np.float64(59.807155181867856), np.float64(68.61283118421353), np.float64(23.84620572642307), np.float64(8.341768109165963), np.float64(4.653424750614736), np.float64(99.16367795573785), np.float64(4.232748247699156), np.float64(2.1204976273820186), np.float64(34.08961126030282), np.float64(31.75368816265475), np.float64(16.64614268394358), np.float64(11.297116975136209), np.float64(16.2379432626406), np.float64(5.019430437642257), np.float64(59.03562754635735), np.float64(96.85777875488786), np.float64(33.19759334055118), np.float64(4.58010837266931), np.float64(9.496722252622288), np.float64(77.2404540406677), np.float64(27.244153794709437), np.float64(8.979127361977095), np.float64(84.98743208195944), np.float64(4.740687691760545), np.float64(46.62617671413317), np.float64(35.758757726892185), np.float64(12.803948100251809), np.float64(62.94154466560367), np.float64(18.810794129622575), np.float64(24.203004075062182), np.float64(1.7591826684426177), np.float64(52.4583192170079), np.float64(12.879029958638995), np.float64(26.261829367716285), np.float64(4.277955804659495), np.float64(21.99891208502998), np.float64(28.594783075524127), np.float64(42.11530207134066), np.float64(76.34460029207597), np.float64(7.994343504446515), np.float64(9.190337864032792), np.float64(5.073069187435041), np.float64(4.35870998733973), np.float64(4.002572898805461), np.float64(25.769722721177846), np.float64(28.650153048716025), np.float64(18.416477088158437), np.float64(80.23416782553731), np.float64(9.137272169749384), np.float64(95.13841381772785), np.float64(16.203794874862528), np.float64(4.670089147861285), np.float64(9.214831797883935), np.float64(8.087986718196678), np.float64(59.00542420410544), np.float64(5.029860089057668), np.float64(13.983226495579943), np.float64(64.10160868852256), np.float64(110.38681371105427), np.float64(87.21865851215654), np.float64(68.25030633898872), np.float64(26.83241745948036), np.float64(14.637119964094945), np.float64(21.706984066602114), np.float64(5.5470165136989), np.float64(51.588277561426935), np.float64(4.864054399853944), np.float64(16.604403492824673), np.float64(2.12094497374963), np.float64(7.004585295025728), np.float64(90.84992362751402), np.float64(45.47004352410837), np.float64(55.781478466829995), np.float64(69.79897239930338), np.float64(15.462757226046602), np.float64(11.752529363420159), np.float64(19.95825406113735), np.float64(20.65366124883453), np.float64(12.104881692287902), np.float64(35.439414849434336), np.float64(55.68721522391026), np.float64(21.126157367580216), np.float64(22.00532813314674), np.float64(5.525000000000006), np.float64(100.9209774991044), np.float64(16.688957439916262), np.float64(13.887425528261174), np.float64(0.8067032265194314), np.float64(84.62513809348947), np.float64(11.808305597363573), np.float64(2.9186802829092002), np.float64(37.72610745881731), np.float64(41.977521385737745), np.float64(79.72776717863914), np.float64(8.46588730496059), np.float64(49.959678789009246), np.float64(112.84659980752846), np.float64(115.99882092841435), np.float64(19.46368943059013), np.float64(27.952757382329985), np.float64(4.940129243047949), np.float64(22.261751848479687), np.float64(11.847679183991772), np.float64(1.0439075584170663), np.float64(0.7963010767477862), np.float64(17.267640324790328), np.float64(5.591599662124683), np.float64(93.04056693370214), np.float64(35.55789368968641), np.float64(103.66748379128748), np.float64(27.0373328905298), np.float64(3.9264813810899497), np.float64(4.334942754031282), np.float64(25.633008990110557), np.float64(2.4073117661485526), np.float64(31.31713722013886), np.float64(18.498693043542495), np.float64(53.305122692340944), np.float64(36.556862403764285), np.float64(0.002278408757195649), np.float64(63.801200016105916), np.float64(3.548494614362708), np.float64(12.805400645288149), np.float64(58.87320426871713), np.float64(20.01104853594547), np.float64(64.55567817759602), np.float64(6.981519066687902), np.float64(19.63471953114527), np.float64(70.21604064424993), np.float64(11.357641971663355), np.float64(37.18226093638903), np.float64(15.037096488015925), np.float64(21.654594645511544), np.float64(0.3641436535372726), np.float64(9.689123618300146), np.float64(11.33186427369409), np.float64(28.345420947915922), np.float64(6.8158234050834405), np.float64(6.090101424585358), np.float64(60.657244551661016), np.float64(1.8652435223267045), np.float64(38.066209866288446), np.float64(14.789860773949332), np.float64(2.8809543969154667), np.float64(6.684932477069699), np.float64(5.036849376763506), np.float64(4.30646168242663), np.float64(32.29566174947554), np.float64(122.73462787170175), np.float64(13.165629157782597), np.float64(8.589644076287232), np.float64(5.7639331916092535), np.float64(42.9197755364903), np.float64(17.753906869024597), np.float64(15.440462679924856), np.float64(33.09431244662136), np.float64(56.97019464179115), np.float64(23.310570728775204), np.float64(80.61486429513593), np.float64(23.193279418879577), np.float64(46.91318925033611), np.float64(16.125102817171022), np.float64(17.956488873862334), np.float64(25.368658870381424), np.float64(19.154281533647023), np.float64(53.44797621219139), np.float64(7.752653180394419), np.float64(9.77179604297196), np.float64(80.04641045236835), np.float64(4.597457252753371), np.float64(13.88526543633025), np.float64(3.374045400478259), np.float64(72.13959863294676), np.float64(15.794933944442235), np.float64(17.053545554258726), np.float64(12.109994125823821), np.float64(92.54204004478797), np.float64(36.669697947711576), np.float64(3.47070704332725), np.float64(119.02408368861038), np.float64(20.331552449154), np.float64(16.96564935125618), np.float64(29.92267756836478), np.float64(80.35910169607011), np.float64(15.607237337233917), np.float64(3.970940759237525), np.float64(47.73639425304517), np.float64(5.189437473023627), np.float64(58.008831259006996), np.float64(6.4286315329676835), np.float64(67.9819651060766), np.float64(7.777855468121838), np.float64(49.87657424539922), np.float64(7.59081800519842), np.float64(84.2029533099677), np.float64(36.95303888461636), np.float64(2.522218034631173), np.float64(8.324879932204123), np.float64(21.40221767854552), np.float64(18.212617581247596), np.float64(15.454455612575574), np.float64(12.615546868525541), np.float64(67.47905255966556), np.float64(3.259371312073915), np.float64(64.03633773635768), np.float64(2.211957932883546), np.float64(85.6482837156241), np.float64(12.001502394469702), np.float64(22.60406060805168), np.float64(0.424539034147978), np.float64(73.67440954653335), np.float64(4.872068072259665), np.float64(21.875240759096908), np.float64(42.427504644429845), np.float64(34.73169804501493), np.float64(86.54615975982075), np.float64(23.540269051288966), np.float64(31.981738023594488), np.float64(12.751566313295738), np.float64(7.8300591260380585), np.float64(44.0492595769695), np.float64(2.5850994443370574), np.float64(29.069795844747826), np.float64(17.2765554040774), np.float64(6.655134956604938), np.float64(18.35284164346833), np.float64(7.343988067403389), np.float64(12.142294320598719), np.float64(0.09515984434809438), np.float64(14.322050284970008), np.float64(19.771557479330333), np.float64(52.43344935630227), np.float64(2.502391534041593), np.float64(48.10857252888374), np.float64(9.156811056182521), np.float64(80.92880142217855), np.float64(7.515457187379689), np.float64(46.13476526654053), np.float64(21.931275312478018), np.float64(6.946406073520915), np.float64(16.418907716797), np.float64(16.831868417704083), np.float64(11.288200345627363), np.float64(4.443140100138059), np.float64(67.45543494313952), np.float64(29.635026007299636), np.float64(4.003050221460542), np.float64(84.21621494297638), np.float64(4.104085742499803), np.float64(41.30598581796989), np.float64(35.45948098453642), np.float64(64.29449945246172), np.float64(10.256615226286183), np.float64(10.484078148068349)]\n"
     ]
    }
   ],
   "source": [
    "print(distances)"
   ]
  },
  {
   "cell_type": "code",
   "execution_count": 15,
   "metadata": {},
   "outputs": [],
   "source": [
    "z = []\n",
    "for i, vertex in enumerate(vertices):\n",
    "    if distances[i] < 10:\n",
    "        z.append(abs(vertex[2]))\n",
    "hist, bins = np.histogram(z, range=(0,1000))\n",
    "plt.title(\"Vertex z-coordinate distribution\")\n",
    "plt.xlabel(\"z-coordinate [cm]\")\n",
    "plt.ylabel(\"Counts\")\n",
    "plt.step(bins[:-1], hist, where=\"mid\")\n",
    "plt.show()"
   ]
  },
  {
   "cell_type": "code",
   "execution_count": 16,
   "metadata": {},
   "outputs": [],
   "source": [
    "hist, bins = np.histogram(distances)\n",
    "plt.title(\"Closest distance between tracks\")\n",
    "plt.xlabel(\"Distance [cm]\")\n",
    "plt.ylabel(\"Counts\")\n",
    "plt.step(bins[:-1], hist, where=\"mid\")\n",
    "plt.show()"
   ]
  },
  {
   "cell_type": "code",
   "execution_count": 68,
   "metadata": {},
   "outputs": [
    {
     "name": "stdout",
     "output_type": "stream",
     "text": [
      "Above singlet\n"
     ]
    },
    {
     "name": "stderr",
     "output_type": "stream",
     "text": [
      "C:\\/Users//jony//Programming//Python//Anubis//anubis//tools\\Reconstruction_tools.py:494: RuntimeWarning: overflow encountered in exp\n",
      "  \n"
     ]
    },
    {
     "name": "stdout",
     "output_type": "stream",
     "text": [
      "Best score 98.61416874660793\n",
      "Ops 4000\n"
     ]
    }
   ],
   "source": [
    "importlib.reload(VTools)\n",
    "importlib.reload(RTools)\n",
    "\n",
    "tracks = []\n",
    "files = glob.glob(dir + \"chunks//*\")\n",
    "interesting = [(6, 766, 3),  (7, 890, 75),(9, 56, 46) ]#(0, 223, 92), (2, 796, 6),(4, 810, 45), (6, 348, 43), (6, 759, 60)]\n",
    "for file_id, processedEvents, evt_num in interesting[2:]:\n",
    "    with open(files[file_id], \"rb\") as f:\n",
    "        chunks = pickle.load(f)\n",
    "    reconstructor = RTools.Reconstructor(chunks[0], 0)\n",
    "    reconstructor.tot_mean = tot_mean\n",
    "    reconstructor.tot_std = tot_std\n",
    "    reconstructor.tracks = []\n",
    "    VTools.event_3d_plot(chunks[processedEvents][evt_num], reconstructor, f\"event {(file_id, processedEvents, evt_num)}\")"
   ]
  },
  {
   "cell_type": "code",
   "execution_count": 34,
   "metadata": {},
   "outputs": [
    {
     "name": "stdout",
     "output_type": "stream",
     "text": [
      "[-42.67013516 -42.67013516 -42.67013516]\n",
      "[-42.67013516 -42.67013516 -42.67013516]\n",
      "[ 99.74803065  33.22528422 -18.08087814]\n",
      "[102.69959135  35.19438002 -13.90785517]\n"
     ]
    },
    {
     "data": {
      "text/plain": [
       "(np.float64(5.663621652675622),\n",
       " array([102.69959135,  35.19438002, -13.90785517]))"
      ]
     },
     "execution_count": 34,
     "metadata": {},
     "output_type": "execute_result"
    }
   ],
   "source": [
    "RTools.intersection(tracks[0][0][0], tracks[0][0][1])"
   ]
  },
  {
   "cell_type": "code",
   "execution_count": 27,
   "metadata": {},
   "outputs": [
    {
     "name": "stdout",
     "output_type": "stream",
     "text": [
      "(np.float64(-7.771561172376099e-16), np.float64(4.440892098500625e-16), np.float64(-1.0000000000000004), np.float64(-0.29178735575110126), np.float64(0.6666666666666663), np.float64(-1.4286160832510013), np.float64(0.5657780438072071), np.float64(0.6615903337983926))\n"
     ]
    }
   ],
   "source": [
    "importlib.reload(VTools)\n",
    "importlib.reload(RTools)\n",
    "initial_parameters = np.array([0, 0, -1, 0.3, 0.5, -3., 0.2, 0.4])\n",
    "vertex, initial, finala, finalb = RTools.parametrized_vertex(*initial_parameters)\n",
    "print(RTools.inverse_parametrized_vertex(vertex, initial, finala, finalb))"
   ]
  },
  {
   "cell_type": "code",
   "execution_count": 142,
   "metadata": {},
   "outputs": [
    {
     "name": "stdout",
     "output_type": "stream",
     "text": [
      "Mean 1.0049729763710953\n"
     ]
    }
   ],
   "source": [
    "speeds = []\n",
    "for tracks in reconstructor.tracks:\n",
    "    if tracks:\n",
    "        for track in tracks:\n",
    "            speeds.append(track.speed)\n",
    "print(\"Mean\", np.mean(speeds))\n",
    "hist, bins = np.histogram(speeds, bins=100, density=True)\n",
    "plt.plot(bins[:-1], hist)\n",
    "plt.vlines(np.mean(speeds), 0, max(hist), color=\"red\", label=f\"Mean {np.mean(speeds)} c\")\n",
    "plt.title(\"Speed of tracks\")\n",
    "plt.xlabel(\"Speed [c]\")\n",
    "plt.ylabel(\"Counts\")\n",
    "plt.legend()\n",
    "plt.show()"
   ]
  },
  {
   "cell_type": "code",
   "execution_count": 10,
   "metadata": {},
   "outputs": [
    {
     "name": "stdout",
     "output_type": "stream",
     "text": [
      "[-0.00126397  0.00580352 -0.00012018] [128.32360837  28.80891697  41.28097134] [-0.23910795 -0.07212788 -0.96831036] [-0.46004655 -0.0818867   0.88411071] [0.10731715 0.04394129 0.99325334]\n",
      "[[np.float64(128.3236083666077), np.float64(28.8089169734196), np.float64(41.28097133867841), np.float64(-1.912863596018194), np.float64(-0.5770230678473932), np.float64(-7.746482894978877)], [np.float64(128.3236083666077), np.float64(28.8089169734196), np.float64(41.28097133867841), np.float64(-2.300232736887521), np.float64(-0.409433495717792), np.float64(4.420553536462968)], [np.float64(128.3236083666077), np.float64(28.8089169734196), np.float64(41.28097133867841), np.float64(0.5365857683032684), np.float64(0.2197064441387459), np.float64(4.966266685515216)], [np.int64(0), np.int64(0), np.int64(0), np.float64(-0.001263966887900425), np.float64(0.005803523369960237), np.float64(-0.00012017978035229412)]]\n"
     ]
    },
    {
     "name": "stderr",
     "output_type": "stream",
     "text": [
      "C:\\Users\\jony\\AppData\\Local\\Temp\\ipykernel_5524\\749322500.py:49: UserWarning: No artists with labels found to put in legend.  Note that artists whose label start with an underscore are ignored when legend() is called with no argument.\n",
      "  plt.legend()\n"
     ]
    }
   ],
   "source": [
    "importlib.reload(RTools)\n",
    "coordinates = np.array([[117.40625000000001, 22.383, 0.6], [120.16875, 22.383, 1.8], [120.16875, 22.383, 3.0], [117.40625000000001, 28.3518, 61.8], [128.45625, 40.2894, 61.8], [87.01875000000001, 16.4142, 121.8], [136.74375, 34.3206, 121.8], [87.01875000000001, 16.4142, 123.0], [136.74375, 34.3206, 123.0]])\n",
    "#rid of the first \n",
    "\n",
    "\n",
    "parameters = [-0.001263966887900425, 0.005803523369960237, -0.00012017978035229412, 131.51499734142595, 41.28954098878396, 0.2570759635451864, -0.9084220116473084, -0.1380343212292729]\n",
    "\n",
    "plane_parameters, point, initial, finala, finalb = RTools.parametrized_vertex(*parameters)\n",
    "print(plane_parameters, point, initial, finala, finalb)\n",
    "#plt these vertexes\n",
    "import matplotlib.pyplot as plt\n",
    "from mpl_toolkits.mplot3d import Axes3D\n",
    "import numpy as np\n",
    "\n",
    "vectors_to_plot = []\n",
    "vectors_to_plot.append([*point, *(8*initial)])\n",
    "vectors_to_plot.append([*point, *(5*finala)])\n",
    "vectors_to_plot.append([*point, *(5*finalb)])\n",
    "vectors_to_plot.append([*np.array([0,0,0]), *plane_parameters])\n",
    "\n",
    "print(vectors_to_plot)\n",
    "\n",
    "soa = vectors_to_plot\n",
    "X, Y, Z, U, V, W = zip(*soa)\n",
    "fig = plt.figure()\n",
    "ax = fig.add_subplot(111, projection='3d')\n",
    "ax.quiver(X, Y, Z, U, V, W)\n",
    "ax.set_xlim([-10+point[0], 10+point[0]])\n",
    "ax.set_ylim([-10+point[1], 10+point[1]])\n",
    "ax.set_zlim([-10+point[2], 10+point[2]])\n",
    "#ax.set_zlim([-1, 8])\n",
    "\n",
    "# Plane equation: ax + by + cz = d\n",
    "d = np.dot(plane_parameters, plane_parameters)\n",
    "\n",
    "# Create a grid of points (for the x and y axes)\n",
    "size = 5\n",
    "x_vals = np.linspace(plane_parameters[0] - size, plane_parameters[0] + size, num=20)\n",
    "y_vals = np.linspace(plane_parameters[1] - size, plane_parameters[1] + size, num=20)\n",
    "x_vals, y_vals = np.meshgrid(x_vals, y_vals)\n",
    "\n",
    "# Solve for z in terms of x and y (plane equation: ax + by + cz = d -> z = (d - ax - by) / c)\n",
    "z_vals = (d - plane_parameters[0] * x_vals - plane_parameters[1] * y_vals) / plane_parameters[2]\n",
    "\n",
    "# Plot the plane\n",
    "\n",
    "ax.plot_surface(x_vals, y_vals, z_vals, alpha=0.5, rstride=100, cstride=100)\n",
    "\n",
    "\n",
    "\n",
    "\n",
    "plt.legend()\n",
    "plt.show()"
   ]
  },
  {
   "cell_type": "code",
   "execution_count": 6,
   "metadata": {},
   "outputs": [
    {
     "name": "stdout",
     "output_type": "stream",
     "text": [
      "[-0.001263966887900425, 0.005803523369960237, -0.00012017978035229412, 131.51499734142595, 41.28954098878396, 0.2570759635451864, -0.9084220116473084, -0.1380343212292729]\n"
     ]
    }
   ],
   "source": [
    "importlib.reload(RTools)\n",
    "initial_parametrs = [60, 20, 10, 10, 10, -0.5, -0.2, 4]\n",
    "coordinates = np.array([[117.40625000000001, 22.383, 0.6], [120.16875, 22.383, 1.8], [120.16875, 22.383, 3.0], [117.40625000000001, 28.3518, 61.8], [128.45625, 40.2894, 61.8], [87.01875000000001, 16.4142, 121.8], [136.74375, 34.3206, 121.8], [87.01875000000001, 16.4142, 123.0], [136.74375, 34.3206, 123.0]])\n",
    "from scipy.optimize import minimize \n",
    "f = lambda x: RTools.loss_function(coordinates, x)\n",
    "result = minimize(f, x0=initial_parametrs)\n",
    "print(result.x.tolist())"
   ]
  },
  {
   "cell_type": "code",
   "execution_count": 216,
   "metadata": {},
   "outputs": [
    {
     "name": "stdout",
     "output_type": "stream",
     "text": [
      "Mean 0.25790911824685864\n",
      "sigma -0.5818488944295358\n",
      "Mean 0.06942782469835455\n",
      "sigma -0.5634127422432911\n",
      "Mean 2.17698945272121\n",
      "sigma 2.5044894876283283\n",
      "Mean 6.619902168271083\n",
      "sigma 2.91238011053787\n",
      "Mean 6.199631794023697\n",
      "sigma 2.617768586336547\n",
      "Mean -0.3896962620845962\n",
      "NEw mean -0.2697363551278123\n",
      "sigma -0.8324003178920438\n",
      "Mean 1.3735450496022938\n",
      "NEw mean 2.5197855346759854\n",
      "sigma 2.6400840335445785\n",
      "Mean 5.742252265027096\n",
      "NEw mean 6.490651273404083\n",
      "sigma 3.105839610760191\n",
      "Mean 5.322733387568344\n",
      "NEw mean 6.158851200058061\n",
      "sigma 2.815370589638276\n"
     ]
    }
   ],
   "source": [
    "import scipy.optimize as opt\n",
    "def gauss(x, a, mu, sigma):\n",
    "    return a * np.exp(-(x - mu) ** 2 / (2 * sigma ** 2))\n",
    "\n",
    "pairs = [[0,1], [0,2], [0,3], [0,4], [0,5]]\n",
    "parameters1 = []\n",
    "tof_hist = reconstructor.tof_histogram(pairs)\n",
    "for idx, pair in enumerate(tof_hist):\n",
    "    hist, bins = np.histogram(pair, bins = 50, density=True, range = (-20, 20))\n",
    "    popt, pcov = opt.curve_fit(gauss, bins[:-1], hist, p0=[max(hist), 0, 10])\n",
    "    parameters1.append([popt[1],abs(popt[2])])\n",
    "    plt.plot(bins, gauss(bins, *popt), label = f\"RPC pair {pairs[idx]} fit\")    \n",
    "    print(\"Mean\", popt[1])\n",
    "    print(\"sigma\", popt[2])\n",
    "    plt.plot(bins[:-1], hist, label = f\"RPC pair {pairs[idx]}\")\n",
    "plt.xlabel(\"Time of flight [(25/32) ns]\")\n",
    "plt.ylabel(\"Normalized counts\")\n",
    "plt.title(\"Time of flight distribution\")\n",
    "plt.legend()\n",
    "plt.show()\n",
    "pairs = [[1,2], [1,3], [1,4], [1,5]]\n",
    "parameters2 = []\n",
    "tof_hist = reconstructor.tof_histogram(pairs)\n",
    "for idx, pair in enumerate(tof_hist):\n",
    "    hist, bins = np.histogram(pair, bins = 50, density=True, range = (-20, 20))\n",
    "    popt, pcov = opt.curve_fit(gauss, bins[:-1], hist, p0=[max(hist), 0, 10])\n",
    "    parameters2.append([popt[1], abs(popt[2])])\n",
    "    plt.plot(bins, gauss(bins, *popt), label = f\"RPC pair {pairs[idx]} fit\")    \n",
    "    print(\"Mean\", popt[1])\n",
    "    print(\"NEw mean\", np.mean(pair))\n",
    "    print(\"sigma\", popt[2])\n",
    "    plt.plot(bins[:-1], hist, label = f\"RPC pair {pairs[idx]}\")\n",
    "plt.xlabel(\"Time of flight [(25/32) ns]\")\n",
    "plt.ylabel(\"Normalized counts\")\n",
    "plt.title(\"Time of flight distribution\")\n",
    "plt.legend()\n",
    "plt.show()"
   ]
  },
  {
   "cell_type": "code",
   "execution_count": 210,
   "metadata": {},
   "outputs": [
    {
     "name": "stdout",
     "output_type": "stream",
     "text": [
      "[[np.float64(0.10025691523156223), np.float64(-0.10754441565267893)], [np.float64(0.22740549074801997), np.float64(0.1071276402591709)], [np.float64(0.2125391014614699), np.float64(0.09476314939705265)]]\n"
     ]
    }
   ],
   "source": [
    "#magic numbers\n",
    "good = parameters1[2:]\n",
    "print(good) \n",
    "good = [[np.float64(0.10025691523156223), np.float64(-0.10754441565267893)], [np.float64(0.22740549074801997), np.float64(0.1071276402591709)], [np.float64(0.2125391014614699), np.float64(0.09476314939705265)]]\n"
   ]
  },
  {
   "cell_type": "code",
   "execution_count": 217,
   "metadata": {},
   "outputs": [],
   "source": [
    "plt.plot(range(len(parameters1)+1),[0]+[pair[0] for pair in parameters1], label = \"RPC from RPC 0\", color = \"blue\")\n",
    "plt.errorbar(range(len(parameters1)+1),[0]+[pair[0] for pair in parameters1], yerr = [0]+[abs(pair[1]) for pair in parameters1], fmt = \"o\", color = \"blue\")\n",
    "plt.plot(range(1,len(parameters2)+2),[0]+[pair[0] for pair in parameters2], label = \"RPC from RPC 1\", color = \"orange\")\n",
    "plt.errorbar(range(1,len(parameters2)+2),[0]+[pair[0] for pair in parameters2], yerr = [0]+[abs(pair[1]) for pair in parameters2], fmt = \"o\", color = \"orange\")\n",
    "\n",
    "plt.xlabel(\"RPC pair\")\n",
    "plt.ylabel(\"Time of flight  [(25/32) ns / cm]\")\n",
    "plt.xlim(-1,6)\n",
    "plt.title(\"Time of flight normalized per distance\")\n",
    "plt.legend()\n",
    "plt.hlines(0, -1, 6, color = \"black\", linestyle = \"--\")\n",
    "plt.show()"
   ]
  },
  {
   "cell_type": "code",
   "execution_count": 218,
   "metadata": {},
   "outputs": [
    {
     "name": "stdout",
     "output_type": "stream",
     "text": [
      "[[np.float64(0.25790911824685864), np.float64(0.5818488944295358)], [np.float64(0.06942782469835455), np.float64(0.5634127422432911)], [np.float64(2.17698945272121), np.float64(2.5044894876283283)], [np.float64(6.619902168271083), np.float64(2.91238011053787)], [np.float64(6.199631794023697), np.float64(2.617768586336547)]]\n"
     ]
    }
   ],
   "source": [
    "print(parameters1)\n"
   ]
  },
  {
   "cell_type": "code",
   "execution_count": 18,
   "metadata": {},
   "outputs": [],
   "source": [
    "chi2 = []\n",
    "for event in interesting:\n",
    "    chi2.append(event[2][0].chi2)\n",
    "chi2 = np.array(chi2)\n",
    "hist, bins = np.histogram(chi2, bins=100, range=(0, 20))\n",
    "plt.step(bins[:-1], hist, where='mid')\n",
    "plt.show()"
   ]
  },
  {
   "cell_type": "code",
   "execution_count": 70,
   "metadata": {},
   "outputs": [
    {
     "name": "stdout",
     "output_type": "stream",
     "text": [
      "[[195.3125  103.59375  22.383     1.8    ]\n",
      " [196.09375 103.59375  22.383     3.     ]\n",
      " [197.65625 109.11875  28.3518   61.8    ]\n",
      " [200.      111.88125  34.3206  121.8    ]]\n",
      "[[194.53125 103.59375  22.383     0.6    ]\n",
      " [195.3125  103.59375  22.383     1.8    ]\n",
      " [197.65625 109.11875  28.3518   61.8    ]\n",
      " [200.      111.88125  34.3206  121.8    ]]\n"
     ]
    }
   ],
   "source": [
    "print(interesting[0][2][0].coordinates)\n",
    "print(interesting[0][2][1].coordinates)"
   ]
  },
  {
   "cell_type": "code",
   "execution_count": 48,
   "metadata": {},
   "outputs": [
    {
     "ename": "",
     "evalue": "",
     "output_type": "error",
     "traceback": [
      "\u001b[1;31mThe Kernel crashed while executing code in the current cell or a previous cell. \n",
      "\u001b[1;31mPlease review the code in the cell(s) to identify a possible cause of the failure. \n",
      "\u001b[1;31mClick <a href='https://aka.ms/vscodeJupyterKernelCrash'>here</a> for more info. \n",
      "\u001b[1;31mView Jupyter <a href='command:jupyter.viewOutput'>log</a> for further details."
     ]
    }
   ],
   "source": [
    "hist, bins = np.histogram(reconstructor.cluster_size[0][0], bins = np.arange(0, 64, 1), density = True)\n",
    "plt.step(bins[:-1], hist, label = r\"Clusters corresponding to $-3 < \\frac{\\eta - \\phi}{\\sigma} < 3$\", where='mid')\n",
    "hist, bins = np.histogram(reconstructor.cluster_size[0][1], bins = np.arange(0, 64, 1), density = True)\n",
    "plt.step(bins[:-1], hist, label = r\"Clusters corresponding to $5.8 < \\frac{\\eta - \\phi}{\\sigma} < 6.5$\", where='mid')\n",
    "plt.yscale(\"log\")\n",
    "plt.xlabel(\"$\\phi$ cluster size\")\n",
    "plt.ylabel(\"Density\")\n",
    "plt.title(\"Cluster size distribution of the primary and secondary peak\")\n",
    "plt.legend()\n",
    "plt.show()"
   ]
  },
  {
   "cell_type": "code",
   "execution_count": 127,
   "metadata": {},
   "outputs": [],
   "source": [
    "fig, ax = plt.subplots(figsize=(10, 8))\n",
    "TAnalyser.diffHists[5][4][24].plot1d(ax=ax, color=\"teal\", lw=3, label='proANUBIS Data')\n",
    "plt.show()"
   ]
  },
  {
   "cell_type": "code",
   "execution_count": 27,
   "metadata": {},
   "outputs": [],
   "source": [
    "for rpc in range(6):\n",
    "    hist, bins = np.histogram(reconstructor.collector[rpc], np.arange(-10, 10, 0.1), density=True)\n",
    "    plt.plot(bins[:-1], hist, label=f\"RPC {rpc}\")\n",
    "plt.vlines([-3,3], 0, max(hist), color='black', linestyles='dashed')\n",
    "plt.text(-3, max(hist), \"3$\\sigma$ away\", verticalalignment='bottom', horizontalalignment='right')\n",
    "plt.xlabel(\"Time Difference ($\\sigma_{tot}$)\")\n",
    "plt.ylabel(\"Distribution\")\n",
    "plt.title(\"$\\eta - \\phi$ time difference distribution\")\n",
    "plt.legend()\n",
    "plt.show()"
   ]
  },
  {
   "cell_type": "code",
   "execution_count": 17,
   "metadata": {},
   "outputs": [],
   "source": [
    "for rpc in range(6):\n",
    "    values = []\n",
    "    for cluster_size in reconstructor.collector[rpc].keys():\n",
    "        values.append(np.mean(reconstructor.collector[rpc][cluster_size]))\n",
    "    plt.scatter(list(reconstructor.collector[rpc].keys()), values, label=f'RPC {rpc}')\n",
    "\n",
    "plt.xlabel('Cluster size')\n",
    "plt.ylabel('Spread')\n",
    "plt.legend(loc='upper left')\n",
    "plt.xlim(0,10)\n",
    "plt.ylim(0,10)\n",
    "plt.show()"
   ]
  },
  {
   "cell_type": "code",
   "execution_count": 6,
   "metadata": {},
   "outputs": [
    {
     "name": "stdout",
     "output_type": "stream",
     "text": [
      "Warning: <class 'uhi.numpy_plottable.NumPyPlottableHistogram'> is not allowed to get flow bins, flow bin option set to None\n",
      "Warning: <class 'uhi.numpy_plottable.NumPyPlottableHistogram'> is not allowed to get flow bins, flow bin option set to None\n",
      "Warning: <class 'uhi.numpy_plottable.NumPyPlottableHistogram'> is not allowed to get flow bins, flow bin option set to None\n",
      "Warning: <class 'uhi.numpy_plottable.NumPyPlottableHistogram'> is not allowed to get flow bins, flow bin option set to None\n",
      "Warning: <class 'uhi.numpy_plottable.NumPyPlottableHistogram'> is not allowed to get flow bins, flow bin option set to None\n",
      "Warning: <class 'uhi.numpy_plottable.NumPyPlottableHistogram'> is not allowed to get flow bins, flow bin option set to None\n",
      "Warning: <class 'uhi.numpy_plottable.NumPyPlottableHistogram'> is not allowed to get flow bins, flow bin option set to None\n",
      "Warning: <class 'uhi.numpy_plottable.NumPyPlottableHistogram'> is not allowed to get flow bins, flow bin option set to None\n",
      "Warning: <class 'uhi.numpy_plottable.NumPyPlottableHistogram'> is not allowed to get flow bins, flow bin option set to None\n",
      "Warning: <class 'uhi.numpy_plottable.NumPyPlottableHistogram'> is not allowed to get flow bins, flow bin option set to None\n",
      "Warning: <class 'uhi.numpy_plottable.NumPyPlottableHistogram'> is not allowed to get flow bins, flow bin option set to None\n",
      "Warning: <class 'uhi.numpy_plottable.NumPyPlottableHistogram'> is not allowed to get flow bins, flow bin option set to None\n",
      "([[np.float64(2.081698275862068), np.float64(1.9524482758620676), np.float64(1.7356982758620685), np.float64(1.743948275862069), np.float64(1.4959482758620695), np.float64(1.2166982758620688), np.float64(1.0436982758620692), np.float64(1.0144482758620685), np.float64(1.2539482758620686), np.float64(1.5746982758620685), np.float64(0.7329482758620689), np.float64(0.44119827586206917), np.float64(0.7869482758620691), np.float64(-0.08605172413793112), np.float64(-0.01530172413793078), np.float64(-0.28830172413793087), np.float64(-0.35505172413793007), np.float64(-0.40305172413793067), np.float64(-0.6698017241379309), np.float64(-0.9178017241379313), np.float64(-1.1283017241379305), np.float64(-0.7013017241379295), np.float64(-1.1618017241379301), np.float64(-0.7535517241379304), np.float64(-1.51405172413793), np.float64(-2.2433017241379307), np.float64(-2.0038017241379285), np.float64(-2.0705517241379297), np.float64(-2.7623017241379304), np.float64(-2.9353017241379313), np.float64(-3.1083017241379305), np.float64(-3.281301724137931)], [np.float64(2.193708333333333), np.float64(2.020708333333333), np.float64(1.7664583333333337), np.float64(1.774708333333334), np.float64(1.5517083333333341), np.float64(1.247458333333333), np.float64(1.330708333333333), np.float64(1.0702083333333334), np.float64(1.478458333333333), np.float64(1.7304583333333354), np.float64(0.9949583333333328), np.float64(0.47195833333333376), np.float64(0.8677083333333339), np.float64(0.08845833333333368), np.float64(0.07795833333333417), np.float64(-0.25754166666666634), np.float64(-0.1430416666666655), np.float64(-0.022291666666665336), np.float64(-0.42029166666666684), np.float64(-0.8245416666666665), np.float64(-0.9162916666666661), np.float64(-0.5205416666666648), np.float64(-0.6810416666666667), np.float64(-0.4727916666666662), np.float64(-1.0332916666666654), np.float64(-1.7375416666666663), np.float64(-1.6917916666666657), np.float64(-1.3397916666666656), np.float64(-2.0502916666666655), np.float64(-2.379541666666666), np.float64(-2.2275416666666668), np.float64(-3.0067916666666656)], [np.float64(2.0469761904761916), np.float64(1.8739761904761916), np.float64(1.6057380952380953), np.float64(1.604166666666666), np.float64(1.4057698412698403), np.float64(1.086738095238095), np.float64(1.5169126984126986), np.float64(1.0835952380952383), np.float64(1.3550396825396827), np.float64(1.9693412698412713), np.float64(0.8693571428571428), np.float64(0.5630238095238097), np.float64(0.9424047619047623), np.float64(-0.06869047619047602), np.float64(0.2281507936507946), np.float64(-0.41469047619047594), np.float64(-0.20673809523809478), np.float64(-0.011484126984127322), np.float64(-0.5209920634920632), np.float64(-0.9797063492063495), np.float64(-0.8225476190476195), np.float64(0.013976190476192106), np.float64(-0.774896825396825), np.float64(-0.30662698412698397), np.float64(-0.6954999999999985), np.float64(-1.2240555555555555), np.float64(-1.7907063492063482), np.float64(-0.7256111111111109), np.float64(-2.2001984126984135), np.float64(-2.2335158730158735), np.float64(-2.0255634920634926), np.float64(-3.1636428571428565)], [np.float64(1.761087301587302), np.float64(1.5626904761904765), np.float64(1.8341349206349202), np.float64(1.2547857142857148), np.float64(1.4119444444444447), np.float64(0.8071984126984121), np.float64(1.6056269841269843), np.float64(0.8548492063492066), np.float64(0.8977222222222221), np.float64(1.5120238095238105), np.float64(0.4120396825396822), np.float64(0.10570634920634916), np.float64(0.7200079365079362), np.float64(-0.20854761904761945), np.float64(0.6152777777777787), np.float64(-0.014865079365079477), np.float64(-0.6767539682539682), np.float64(-0.2846746031746036), np.float64(-0.5910079365079364), np.float64(-0.8401984126984127), np.float64(-0.42272222222222233), np.float64(0.6995158730158739), np.float64(-0.6099920634920626), np.float64(-0.617912698412698), np.float64(-0.6829761904761886), np.float64(-1.0464523809523802), np.float64(-2.248023809523809), np.float64(-0.9607063492063486), np.float64(-2.1241825396825393), np.float64(-2.665436507936507), np.float64(-2.482880952380952), np.float64(-3.309849206349207)], [np.float64(1.8568968253968263), np.float64(1.8172301587301583), np.float64(1.9045476190476198), np.float64(1.2871031746031736), np.float64(1.3871190476190463), np.float64(0.7823730158730147), np.float64(1.5808015873015873), np.float64(1.1347857142857136), np.float64(0.8728968253968249), np.float64(1.6078333333333337), np.float64(0.5205476190476187), np.float64(0.08088095238095197), np.float64(0.8666111111111107), np.float64(0.13488095238095185), np.float64(0.8190238095238102), np.float64(0.5190396825396818), np.float64(-0.6063412698412698), np.float64(-0.2587063492063492), np.float64(-0.24757936507936507), np.float64(-0.5602619047619051), np.float64(-0.13008730158730206), np.float64(0.7318333333333336), np.float64(-0.6475158730158724), np.float64(-0.36337301587301557), np.float64(-0.7078015873015859), np.float64(-0.8998492063492056), np.float64(-2.0760238095238104), np.float64(-0.9855317460317459), np.float64(-2.16170634920635), np.float64(-2.417246031746032), np.float64(-2.5077063492063494), np.float64(-3.3346746031746033)], [np.float64(1.7602698412698417), np.float64(1.7586984126984122), np.float64(2.068238095238095), np.float64(1.2793650793650786), np.float64(1.3666825396825386), np.float64(0.9206666666666655), np.float64(1.3635396825396828), np.float64(1.2857777777777784), np.float64(0.8143650793650792), np.float64(1.6508888888888897), np.float64(0.35407936507936505), np.float64(-0.1363809523809526), np.float64(1.0810952380952363), np.float64(0.16523809523809524), np.float64(1.0716031746031756), np.float64(0.9684444444444451), np.float64(-0.5124920634920632), np.float64(0.21609523809523773), np.float64(-0.58547619047619), np.float64(-0.8092698412698415), np.float64(-0.11242857142857207), np.float64(1.0352063492063492), np.float64(-0.7123968253968246), np.float64(-0.5425396825396817), np.float64(-0.9250634920634904), np.float64(-1.1171111111111105), np.float64(-2.045666666666667), np.float64(-0.6694603174603169), np.float64(-2.0805555555555557), np.float64(-2.6345079365079367), np.float64(-2.7249682539682545), np.float64(-3.551936507936509)]], [[np.float64(-15.882000000000001), np.float64(-15.226241379310345), np.float64(-15.536), np.float64(-14.880241379310345), np.float64(-14.734827586206896), np.float64(-15.017000000000001), np.float64(-14.843999999999998), np.float64(-14.215827586206897), np.float64(-13.532482758620691), np.float64(-13.925000000000002), np.float64(-13.72441379310345), np.float64(-13.979000000000001), np.float64(-11.957724137931034), np.float64(-12.033000000000001), np.float64(-13.004827586206895), np.float64(-13.286999999999999), np.float64(-13.114), np.float64(-11.658241379310345), np.float64(-12.768), np.float64(-12.139827586206897), np.float64(-12.422), np.float64(-12.249), np.float64(-11.2208275862069), np.float64(-11.585758620689655), np.float64(-10.612758620689657), np.float64(-11.557000000000002), np.float64(-10.984000000000004), np.float64(-10.893758620689658), np.float64(-9.851793103448275), np.float64(-10.575344827586209), np.float64(-9.65751724137931), np.float64(-9.829344827586208), np.float64(-10.028758620689656), np.float64(-9.855758620689654), np.float64(-10.000000000000002), np.float64(-9.537344827586208), np.float64(-9.309172413793103), np.float64(-9.163758620689654), np.float64(-9.308000000000002), np.float64(-8.87293103448276), np.float64(-8.962000000000003), np.float64(-8.416586206896554), np.float64(-7.9539310344827605), np.float64(-8.443000000000003), np.float64(-8.270000000000003), np.float64(-8.097000000000003), np.float64(-7.924000000000002), np.float64(-7.571689655172415), np.float64(-7.343517241379313), np.float64(-7.225689655172417), np.float64(-7.025103448275863), np.float64(-6.383137931034486), np.float64(-6.444620689655173), np.float64(-6.713000000000003), np.float64(-6.098620689655174), np.float64(-6.2152758620689665), np.float64(-6.042275862068967), np.float64(-5.924448275862071), np.float64(-5.848000000000002), np.float64(-5.399137931034486), np.float64(-5.377862068965518), np.float64(-5.204862068965518), np.float64(-5.156000000000002), np.float64(-4.886448275862071)], [np.float64(-16.112666666666666), np.float64(-15.393), np.float64(-15.22), np.float64(-15.073666666666666), np.float64(-14.874000000000002), np.float64(-15.247666666666667), np.float64(-14.47466666666667), np.float64(-14.435), np.float64(-13.688666666666666), np.float64(-14.555666666666665), np.float64(-13.86266666666667), np.float64(-13.009666666666664), np.float64(-12.143333333333333), np.float64(-12.103666666666669), np.float64(-13.197333333333336), np.float64(-13.517666666666667), np.float64(-12.824666666666666), np.float64(-11.931666666666668), np.float64(-12.478666666666669), np.float64(-11.919), np.float64(-12.079333333333333), np.float64(-12.479666666666667), np.float64(-11.426666666666671), np.float64(-11.773666666666669), np.float64(-10.720666666666666), np.float64(-11.787666666666667), np.float64(-9.774666666666667), np.float64(-11.135000000000003), np.float64(-10.042000000000002), np.float64(-10.709000000000001), np.float64(-9.296000000000001), np.float64(-10.056333333333335), np.float64(-10.216666666666669), np.float64(-10.403666666666666), np.float64(-10.230666666666666), np.float64(-9.697666666666668), np.float64(-9.058), np.float64(-9.018333333333333), np.float64(-9.538666666666666), np.float64(-9.112333333333337), np.float64(-8.726000000000003), np.float64(-7.819666666666669), np.float64(-8.073333333333338), np.float64(-8.313666666666668), np.float64(-8.50066666666667), np.float64(-8.327666666666667), np.float64(-7.354666666666668), np.float64(-7.395000000000001), np.float64(-7.195333333333334), np.float64(-7.462333333333334), np.float64(-6.876000000000004), np.float64(-6.783000000000004), np.float64(-6.476666666666671), np.float64(-6.94366666666667), np.float64(-6.157333333333336), np.float64(-6.451000000000002), np.float64(-5.4780000000000015), np.float64(-6.078333333333335), np.float64(-6.078666666666669), np.float64(-5.559000000000003), np.float64(-5.3593333333333355), np.float64(-5.3596666666666675), np.float64(-5.3866666666666685), np.float64(-5.093666666666668)], [np.float64(-16.141500000000004), np.float64(-15.456000000000001), np.float64(-15.283000000000001), np.float64(-15.135), np.float64(-14.937), np.float64(-14.814000000000002), np.float64(-14.541), np.float64(-14.518000000000002), np.float64(-13.807500000000003), np.float64(-14.147000000000002), np.float64(-13.924), np.float64(-12.576), np.float64(-11.878), np.float64(-12.217500000000001), np.float64(-13.257), np.float64(-13.546499999999998), np.float64(-11.910999999999998), np.float64(-11.988000000000001), np.float64(-11.639999999999999), np.float64(-11.592), np.float64(-11.681500000000003), np.float64(-12.508500000000002), np.float64(-11.148), np.float64(-11.825), np.float64(-10.514499999999998), np.float64(-11.816500000000001), np.float64(-9.8435), np.float64(-10.308000000000002), np.float64(-9.760000000000002), np.float64(-10.762000000000004), np.float64(-8.989000000000003), np.float64(-10.1285), np.float64(-9.8055), np.float64(-9.7575), np.float64(-9.847), np.float64(-9.748999999999999), np.float64(-8.2635), np.float64(-8.503), np.float64(-9.5675), np.float64(-9.057000000000002), np.float64(-8.3465), np.float64(-7.823500000000001), np.float64(-8.100500000000002), np.float64(-7.9525000000000015), np.float64(-8.529500000000004), np.float64(-8.356500000000002), np.float64(-7.433500000000001), np.float64(-7.073000000000001), np.float64(-7.2375000000000025), np.float64(-7.189500000000003), np.float64(-6.391500000000001), np.float64(-6.131), np.float64(-6.520500000000002), np.float64(-6.972500000000002), np.float64(-5.887000000000001), np.float64(-6.2265000000000015), np.float64(-5.541), np.float64(-6.093000000000002), np.float64(-6.107500000000002), np.float64(-5.5845), np.float64(-5.261500000000002), np.float64(-5.213500000000002), np.float64(-5.415500000000003), np.float64(-5.130000000000002)], [np.float64(-16.026166666666665), np.float64(-15.306500000000002), np.float64(-14.28016666666667), np.float64(-14.987166666666665), np.float64(-14.107499999999998), np.float64(-14.667833333333336), np.float64(-13.068166666666666), np.float64(-14.375166666666667), np.float64(-13.628833333333333), np.float64(-13.615833333333335), np.float64(-13.3095), np.float64(-11.603166666666668), np.float64(-11.336833333333335), np.float64(-11.017166666666666), np.float64(-12.697500000000002), np.float64(-13.431166666666668), np.float64(-12.218166666666667), np.float64(-11.3785), np.float64(-11.432166666666667), np.float64(-10.952500000000002), np.float64(-11.366166666666667), np.float64(-12.393166666666666), np.float64(-9.553500000000001), np.float64(-11.687166666666668), np.float64(-9.340833333333332), np.float64(-11.194500000000001), np.float64(-8.941500000000001), np.float64(-10.195166666666669), np.float64(-9.928833333333332), np.float64(-9.715833333333332), np.float64(-8.4095), np.float64(-9.716500000000003), np.float64(-9.303500000000001), np.float64(-9.597166666666666), np.float64(-9.704166666666666), np.float64(-9.61116666666667), np.float64(-7.184833333333334), np.float64(-7.9718333333333335), np.float64(-9.0655), np.float64(-8.5325), np.float64(-8.172833333333335), np.float64(-7.319833333333334), np.float64(-7.933500000000002), np.float64(-7.480500000000001), np.float64(-8.080833333333336), np.float64(-7.934500000000001), np.float64(-7.2681666666666676), np.float64(-6.335166666666666), np.float64(-7.082166666666668), np.float64(-6.789166666666669), np.float64(-5.8695), np.float64(-6.269833333333335), np.float64(-6.243500000000003), np.float64(-6.577166666666669), np.float64(-5.764166666666669), np.float64(-5.777833333333335), np.float64(-4.9115), np.float64(-5.965166666666668), np.float64(-5.3255000000000035), np.float64(-5.445833333333336), np.float64(-4.579500000000002), np.float64(-5.0998333333333346), np.float64(-5.300166666666669), np.float64(-5.007166666666667)], [np.float64(-16.1415), np.float64(-14.0685), np.float64(-13.995499999999998), np.float64(-15.135), np.float64(-14.2995), np.float64(-14.814000000000004), np.float64(-13.3035), np.float64(-13.717999999999998), np.float64(-13.8075), np.float64(-13.7845), np.float64(-13.486499999999998), np.float64(-11.876000000000001), np.float64(-11.203), np.float64(-10.967500000000001), np.float64(-12.332), np.float64(-13.183999999999997), np.float64(-11.910999999999996), np.float64(-10.988), np.float64(-11.639999999999997), np.float64(-11.1795), np.float64(-11.556500000000002), np.float64(-12.121000000000006), np.float64(-9.835500000000005), np.float64(-11.412500000000001), np.float64(-9.277000000000001), np.float64(-11.291500000000003), np.float64(-8.6435), np.float64(-9.758000000000003), np.float64(-9.76), np.float64(-9.912), np.float64(-8.364), np.float64(-9.891), np.float64(-9.493), np.float64(-9.47), np.float64(-9.847), np.float64(-9.748999999999999), np.float64(-7.151), np.float64(-8.190500000000002), np.float64(-8.867500000000001), np.float64(-8.382000000000001), np.float64(-7.7715000000000005), np.float64(-7.2235000000000005), np.float64(-8.1005), np.float64(-7.402500000000001), np.float64(-7.954500000000002), np.float64(-8.094000000000003), np.float64(-7.1209999999999996), np.float64(-6.548), np.float64(-6.5249999999999995), np.float64(-6.952000000000003), np.float64(-5.579), np.float64(-6.131000000000002), np.float64(-6.408000000000003), np.float64(-6.472500000000002), np.float64(-5.6995000000000005), np.float64(-5.7015), np.float64(-4.691), np.float64(-5.930500000000002), np.float64(-5.245000000000004), np.float64(-5.559500000000001), np.float64(-4.5615000000000006), np.float64(-5.2385), np.float64(-5.4155000000000015), np.float64(-5.130000000000001)], [np.float64(-16.1415), np.float64(-14.068500000000002), np.float64(-13.995500000000002), np.float64(-15.135), np.float64(-14.2995), np.float64(-14.814000000000002), np.float64(-12.791), np.float64(-13.718), np.float64(-13.8075), np.float64(-13.7845), np.float64(-12.949), np.float64(-11.438500000000001), np.float64(-10.7405), np.float64(-10.917500000000004), np.float64(-11.744500000000006), np.float64(-12.696500000000002), np.float64(-11.423499999999999), np.float64(-10.988000000000001), np.float64(-11.639999999999999), np.float64(-11.179499999999999), np.float64(-11.5565), np.float64(-11.6335), np.float64(-9.273000000000001), np.float64(-10.925), np.float64(-8.714500000000001), np.float64(-11.291500000000001), np.float64(-8.256000000000002), np.float64(-9.658), np.float64(-9.76), np.float64(-9.474500000000003), np.float64(-7.976500000000001), np.float64(-9.891000000000002), np.float64(-9.493), np.float64(-9.47), np.float64(-9.4095), np.float64(-9.336500000000001), np.float64(-7.150999999999998), np.float64(-7.315500000000001), np.float64(-8.867500000000001), np.float64(-8.382000000000001), np.float64(-7.771500000000001), np.float64(-7.223500000000002), np.float64(-7.638000000000002), np.float64(-7.402500000000002), np.float64(-7.067000000000001), np.float64(-7.994000000000001), np.float64(-7.121), np.float64(-6.548), np.float64(-6.300000000000001), np.float64(-6.952000000000003), np.float64(-5.579), np.float64(-5.531), np.float64(-6.408000000000002), np.float64(-6.222500000000003), np.float64(-5.2870000000000035), np.float64(-5.701500000000001), np.float64(-4.591), np.float64(-5.805500000000001), np.float64(-4.9075000000000015), np.float64(-5.4595), np.float64(-4.149000000000001), np.float64(-5.051), np.float64(-5.4155000000000015), np.float64(-5.130000000000001)]])\n"
     ]
    }
   ],
   "source": [
    "importlib.reload(proAnubis_Analysis_Tools)\n",
    "TAnalyser = proAnubis_Analysis_Tools.Timing_Analyser(chunks[0],0)\n",
    "for processedEvents, chunk in enumerate(chunks):\n",
    "    TAnalyser.update_event(chunk, processedEvents)\n",
    "    TAnalyser.readTDCTimeDiffs()\n",
    "\n",
    "#TAnalyser.calculate_correction_stats()\n",
    "\n",
    "residEta, residPhi = TAnalyser.Calculate_Residual_and_plot_TDC_Time_Diffs( \n",
    "                                                     pdf_filename='output/TDC_time_diffs.pdf', \n",
    "                                                     max_itr = 5)\n",
    "\n",
    "print((residEta, residPhi))\n",
    "outDict = {'totDiffs':TAnalyser.totDiffs,\n",
    "            'nDiffs':TAnalyser.nDiffs,\n",
    "            'diffHists':TAnalyser.diffHists} \n"
   ]
  },
  {
   "cell_type": "code",
   "execution_count": 16,
   "metadata": {},
   "outputs": [
    {
     "name": "stdout",
     "output_type": "stream",
     "text": [
      "64\n"
     ]
    }
   ],
   "source": [
    "print(len(residPhi[0]))"
   ]
  },
  {
   "cell_type": "code",
   "execution_count": 19,
   "metadata": {},
   "outputs": [
    {
     "name": "stdout",
     "output_type": "stream",
     "text": [
      "260\n"
     ]
    }
   ],
   "source": [
    "importlib.reload(VTools)\n",
    "file_path = \"data//interesting_events.pkl\"\n",
    "with open(file_path, 'rb') as f:\n",
    "    data = pickle.load(f)\n",
    "    print(len(data))\n",
    "interesting_events = data\n",
    "for event in interesting_events[10:11]:\n",
    "   VTools.event_3d_plot(event, 0)"
   ]
  },
  {
   "cell_type": "code",
   "execution_count": 11,
   "metadata": {},
   "outputs": [
    {
     "name": "stdout",
     "output_type": "stream",
     "text": [
      "0\n",
      "1\n",
      "2\n",
      "3\n",
      "4\n",
      "5\n",
      "6\n",
      "7\n",
      "8\n",
      "9\n",
      "10\n",
      "11\n",
      "12\n",
      "13\n",
      "14\n",
      "15\n",
      "16\n",
      "17\n",
      "18\n",
      "19\n",
      "20\n",
      "21\n",
      "22\n",
      "23\n",
      "24\n",
      "25\n",
      "26\n",
      "27\n",
      "28\n",
      "29\n",
      "30\n",
      "31\n",
      "32\n",
      "33\n",
      "34\n",
      "35\n",
      "36\n",
      "37\n",
      "38\n",
      "39\n",
      "40\n",
      "41\n",
      "42\n",
      "43\n",
      "44\n",
      "45\n",
      "46\n",
      "47\n",
      "48\n",
      "49\n",
      "50\n",
      "51\n",
      "52\n",
      "53\n",
      "54\n",
      "55\n",
      "56\n",
      "57\n",
      "58\n",
      "59\n",
      "60\n",
      "61\n",
      "62\n",
      "63\n",
      "64\n",
      "65\n",
      "66\n",
      "67\n",
      "68\n",
      "69\n",
      "70\n",
      "71\n",
      "72\n",
      "73\n",
      "74\n",
      "75\n",
      "76\n",
      "77\n",
      "78\n",
      "79\n",
      "80\n",
      "81\n",
      "82\n",
      "83\n",
      "84\n",
      "85\n",
      "86\n",
      "87\n",
      "88\n",
      "89\n",
      "90\n",
      "91\n",
      "92\n",
      "93\n",
      "94\n",
      "95\n",
      "96\n",
      "97\n",
      "98\n",
      "99\n",
      "100\n",
      "101\n",
      "102\n",
      "103\n",
      "104\n",
      "105\n",
      "106\n",
      "107\n",
      "108\n",
      "109\n",
      "110\n",
      "111\n",
      "112\n",
      "113\n",
      "114\n",
      "115\n",
      "116\n",
      "117\n",
      "118\n",
      "119\n",
      "120\n",
      "121\n",
      "122\n",
      "123\n",
      "124\n",
      "125\n",
      "126\n",
      "127\n",
      "128\n",
      "129\n",
      "130\n",
      "131\n",
      "132\n",
      "133\n",
      "134\n",
      "135\n",
      "136\n",
      "137\n",
      "138\n",
      "139\n",
      "140\n",
      "141\n",
      "142\n",
      "143\n",
      "144\n",
      "145\n",
      "146\n",
      "147\n",
      "148\n",
      "149\n",
      "150\n",
      "151\n",
      "152\n",
      "153\n",
      "154\n",
      "155\n",
      "156\n",
      "157\n",
      "158\n",
      "159\n",
      "160\n",
      "161\n",
      "162\n",
      "163\n",
      "164\n",
      "165\n",
      "166\n",
      "167\n",
      "168\n",
      "169\n",
      "170\n",
      "171\n",
      "172\n",
      "173\n",
      "174\n",
      "175\n",
      "176\n",
      "177\n",
      "178\n",
      "179\n",
      "180\n",
      "181\n"
     ]
    },
    {
     "ename": "KeyboardInterrupt",
     "evalue": "",
     "output_type": "error",
     "traceback": [
      "\u001b[1;31m---------------------------------------------------------------------------\u001b[0m",
      "\u001b[1;31mKeyboardInterrupt\u001b[0m                         Traceback (most recent call last)",
      "Cell \u001b[1;32mIn[11], line 11\u001b[0m\n\u001b[0;32m      9\u001b[0m chi2_region \u001b[38;5;241m=\u001b[39m (\u001b[38;5;241m0\u001b[39m, \u001b[38;5;241m100\u001b[39m)\n\u001b[0;32m     10\u001b[0m \u001b[38;5;28;01mfor\u001b[39;00m evt_num, cluster \u001b[38;5;129;01min\u001b[39;00m \u001b[38;5;28menumerate\u001b[39m(clusters):\n\u001b[1;32m---> 11\u001b[0m     tracks \u001b[38;5;241m=\u001b[39m \u001b[43mRTools\u001b[49m\u001b[38;5;241;43m.\u001b[39;49m\u001b[43mreconstruct_timed_Chi2_ByRPC\u001b[49m\u001b[43m(\u001b[49m\u001b[43mcluster\u001b[49m\u001b[43m,\u001b[49m\u001b[43m \u001b[49m\u001b[38;5;241;43m3\u001b[39;49m\u001b[43m,\u001b[49m\u001b[43m \u001b[49m\u001b[38;5;241;43m-\u001b[39;49m\u001b[38;5;241;43m1\u001b[39;49m\u001b[43m)\u001b[49m\n\u001b[0;32m     12\u001b[0m     \u001b[38;5;28;01mif\u001b[39;00m tracks \u001b[38;5;129;01mand\u001b[39;00m \u001b[38;5;28mlen\u001b[39m(tracks) \u001b[38;5;241m>\u001b[39m \u001b[38;5;241m1\u001b[39m:\n\u001b[0;32m     13\u001b[0m         chi2\u001b[38;5;241m.\u001b[39mappend(tracks[\u001b[38;5;241m1\u001b[39m][\u001b[38;5;241m4\u001b[39m])\n",
      "File \u001b[1;32mC:\\/Users//jony//Programming//Python//Anubis//anubis//tools\\Reconstruction_tools.py:451\u001b[0m, in \u001b[0;36mreconstruct_timed_Chi2_ByRPC\u001b[1;34m(event, max_cluster_size, RPC_excluded, rpc_indicies)\u001b[0m\n\u001b[0;32m    449\u001b[0m \u001b[38;5;28;01mif\u001b[39;00m \u001b[38;5;28mlen\u001b[39m(combo) \u001b[38;5;241m<\u001b[39m \u001b[38;5;241m5\u001b[39m:\n\u001b[0;32m    450\u001b[0m     \u001b[38;5;28;01mcontinue\u001b[39;00m\n\u001b[1;32m--> 451\u001b[0m centroid, d, Chi2, coordinates, delta_T, delta_Z\u001b[38;5;241m=\u001b[39m \u001b[43mfit_event_chi2\u001b[49m\u001b[43m(\u001b[49m\u001b[43mcombo\u001b[49m\u001b[43m,\u001b[49m\u001b[43m \u001b[49m\u001b[43mrpc_indicies\u001b[49m\u001b[43m \u001b[49m\u001b[38;5;241;43m=\u001b[39;49m\u001b[43m \u001b[49m\u001b[43mrpc_indicies\u001b[49m\u001b[43m)\u001b[49m\n\u001b[0;32m    452\u001b[0m \u001b[38;5;28;01mif\u001b[39;00m Chi2 \u001b[38;5;241m<\u001b[39m Chi2_current:\n\u001b[0;32m    453\u001b[0m \n\u001b[0;32m    454\u001b[0m     \u001b[38;5;66;03m# If new fit is better than old then replace old fit properties.\u001b[39;00m\n\u001b[0;32m    455\u001b[0m     dZ \u001b[38;5;241m=\u001b[39m delta_Z \n",
      "File \u001b[1;32mC:\\/Users//jony//Programming//Python//Anubis//anubis//tools\\Reconstruction_tools.py:332\u001b[0m, in \u001b[0;36mfit_event_chi2\u001b[1;34m(coordinates_with_error, rpc_indicies)\u001b[0m\n\u001b[0;32m    330\u001b[0m \u001b[38;5;66;03m# performing SVD\u001b[39;00m\n\u001b[0;32m    331\u001b[0m \u001b[38;5;28;01mtry\u001b[39;00m:\n\u001b[1;32m--> 332\u001b[0m     _, _, V \u001b[38;5;241m=\u001b[39m \u001b[43mnp\u001b[49m\u001b[38;5;241;43m.\u001b[39;49m\u001b[43mlinalg\u001b[49m\u001b[38;5;241;43m.\u001b[39;49m\u001b[43msvd\u001b[49m\u001b[43m(\u001b[49m\u001b[43msubtracted\u001b[49m\u001b[43m)\u001b[49m\n\u001b[0;32m    333\u001b[0m \u001b[38;5;28;01mexcept\u001b[39;00m np\u001b[38;5;241m.\u001b[39mlinalg\u001b[38;5;241m.\u001b[39mLinAlgError:\n\u001b[0;32m    334\u001b[0m     \u001b[38;5;28;01mreturn\u001b[39;00m \u001b[38;5;28;01mNone\u001b[39;00m, \u001b[38;5;28;01mNone\u001b[39;00m, np\u001b[38;5;241m.\u001b[39minf, \u001b[38;5;28;01mNone\u001b[39;00m, \u001b[38;5;28;01mNone\u001b[39;00m, \u001b[38;5;28;01mNone\u001b[39;00m\n",
      "File \u001b[1;32mc:\\Users\\jony\\Programming\\Python\\Anubis\\anubis\\.venv\\lib\\site-packages\\numpy\\linalg\\_linalg.py:1796\u001b[0m, in \u001b[0;36msvd\u001b[1;34m(a, full_matrices, compute_uv, hermitian)\u001b[0m\n\u001b[0;32m   1792\u001b[0m signature \u001b[38;5;241m=\u001b[39m \u001b[38;5;124m'\u001b[39m\u001b[38;5;124mD->DdD\u001b[39m\u001b[38;5;124m'\u001b[39m \u001b[38;5;28;01mif\u001b[39;00m isComplexType(t) \u001b[38;5;28;01melse\u001b[39;00m \u001b[38;5;124m'\u001b[39m\u001b[38;5;124md->ddd\u001b[39m\u001b[38;5;124m'\u001b[39m\n\u001b[0;32m   1793\u001b[0m \u001b[38;5;28;01mwith\u001b[39;00m errstate(call\u001b[38;5;241m=\u001b[39m_raise_linalgerror_svd_nonconvergence,\n\u001b[0;32m   1794\u001b[0m               invalid\u001b[38;5;241m=\u001b[39m\u001b[38;5;124m'\u001b[39m\u001b[38;5;124mcall\u001b[39m\u001b[38;5;124m'\u001b[39m, over\u001b[38;5;241m=\u001b[39m\u001b[38;5;124m'\u001b[39m\u001b[38;5;124mignore\u001b[39m\u001b[38;5;124m'\u001b[39m, divide\u001b[38;5;241m=\u001b[39m\u001b[38;5;124m'\u001b[39m\u001b[38;5;124mignore\u001b[39m\u001b[38;5;124m'\u001b[39m,\n\u001b[0;32m   1795\u001b[0m               under\u001b[38;5;241m=\u001b[39m\u001b[38;5;124m'\u001b[39m\u001b[38;5;124mignore\u001b[39m\u001b[38;5;124m'\u001b[39m):\n\u001b[1;32m-> 1796\u001b[0m     u, s, vh \u001b[38;5;241m=\u001b[39m \u001b[43mgufunc\u001b[49m\u001b[43m(\u001b[49m\u001b[43ma\u001b[49m\u001b[43m,\u001b[49m\u001b[43m \u001b[49m\u001b[43msignature\u001b[49m\u001b[38;5;241;43m=\u001b[39;49m\u001b[43msignature\u001b[49m\u001b[43m)\u001b[49m\n\u001b[0;32m   1797\u001b[0m u \u001b[38;5;241m=\u001b[39m u\u001b[38;5;241m.\u001b[39mastype(result_t, copy\u001b[38;5;241m=\u001b[39m\u001b[38;5;28;01mFalse\u001b[39;00m)\n\u001b[0;32m   1798\u001b[0m s \u001b[38;5;241m=\u001b[39m s\u001b[38;5;241m.\u001b[39mastype(_realType(result_t), copy\u001b[38;5;241m=\u001b[39m\u001b[38;5;28;01mFalse\u001b[39;00m)\n",
      "\u001b[1;31mKeyboardInterrupt\u001b[0m: "
     ]
    }
   ],
   "source": [
    "reconstructor = proAnubis_Analysis_Tools.Reconstructor(interesting_events, 0)\n",
    "# populate_hits turns TDC bit wise information into their corresponding strips\n",
    "reconstructor.populate_hits()\n",
    "# This is optionnal, and requires the residual of eta and phi\n",
    "    # make_cluster does temporal and spatial coincidence between the stips, and reconstruction is done\n",
    "clusters = reconstructor.make_cluster()\n",
    "\n",
    "chi2 = []\n",
    "chi2_region = (0, 100)\n",
    "for evt_num, cluster in enumerate(clusters):\n",
    "    tracks = RTools.reconstruct_timed_Chi2_ByRPC(cluster, 3, -1)\n",
    "    if tracks and len(tracks) > 1:\n",
    "        chi2.append(tracks[1][4])\n",
    "    print(evt_num)"
   ]
  },
  {
   "cell_type": "code",
   "execution_count": 12,
   "metadata": {},
   "outputs": [
    {
     "name": "stdout",
     "output_type": "stream",
     "text": [
      "Efficiency Done\n",
      "Possible reconstructions [0, 0, 0, 0, 0, 0]\n",
      "[0.4318181818181818, 0.6, 0.6818181818181818, 0.4406779661016949, 0.35, 0.6071428571428571]\n"
     ]
    }
   ],
   "source": [
    "plt.figure(figsize=(10, 6))\n",
    "max_eff = []\n",
    "for RPC in range(6):\n",
    "    if possible_reconstructions[RPC] == 0:\n",
    "        efficiency = [0 for x in successful_reconstructions[RPC]]\n",
    "    else:\n",
    "        efficiency = [x / possible_reconstructions[RPC] for x in successful_reconstructions[RPC]]\n",
    "    max_eff.append(efficiency[-1])\n",
    "    plt.plot(tol, efficiency, label=f'RPC {RPC}')\n",
    "\n",
    "plt.xlabel('Tolerance')\n",
    "plt.ylabel('Efficiency')\n",
    "plt.title('The efficiency of the second track reconstruction')\n",
    "plt.legend()\n",
    "plt.grid(True)\n",
    "plt.show()\n",
    "plt.close()\n",
    "print(\"Efficiency Done\")\n",
    "print(\"Possible reconstructions\", reconstructor.possible_reconstructions)\n",
    "print(max_eff)"
   ]
  },
  {
   "cell_type": "code",
   "execution_count": 18,
   "metadata": {},
   "outputs": [
    {
     "name": "stdout",
     "output_type": "stream",
     "text": [
      "3.549413719172803\n",
      "[np.float64(2.923268450788971), np.float64(1.5455626187848202), np.float64(1.3824512933971917), np.float64(0.2870659845529911), np.float64(6.057028098867192), np.float64(1.1170741127596033), np.float64(0.47158490850782714), np.float64(1.4008653273049967), np.float64(6.473761420102736), np.float64(1.6294728836774055), np.float64(1.5255178606337314), np.float64(0.4398499126206219), np.float64(3.4205517579528855), np.float64(2.100629585341305), np.float64(3.8330354225996115), np.float64(1.600927888787882), np.float64(4.449677296942161), np.float64(4.449677296942161), np.float64(4.449677296942161), np.float64(4.449677296942161), np.float64(4.449677296942161), np.float64(4.449677296942161), np.float64(4.6383741165254815), np.float64(4.6383741165254815), np.float64(4.6383741165254815), np.float64(4.6383741165254815), np.float64(4.6383741165254815), np.float64(4.6383741165254815), np.float64(5.698472209406913), np.float64(5.698472209406913), np.float64(5.698472209406913), np.float64(5.698472209406913), np.float64(5.698472209406913), np.float64(5.698472209406913), np.float64(6.328031724165147), np.float64(0.37710576628647224), np.float64(7.325059558773219), np.float64(6.587935864600887), np.float64(9.38862172033483), np.float64(2.2519919149052456), np.float64(0.8196106173030243), np.float64(3.680081859289625), np.float64(5.459409426240427), np.float64(1.3538568328433682), np.float64(0.820961324947131), np.float64(5.403311698273861), np.float64(5.634210164993198), np.float64(3.256652605378344), np.float64(3.256652605378344), np.float64(3.256652605378344), np.float64(3.256652605378344), np.float64(3.256652605378344), np.float64(3.256652605378344), np.float64(3.1306520158243503), np.float64(3.1306520158243503), np.float64(3.1306520158243503), np.float64(3.1306520158243503), np.float64(3.1306520158243503), np.float64(3.1306520158243503), np.float64(1.9548221487286825), np.float64(4.59192407453934), np.float64(0.4559054424241508), np.float64(3.994023045768157), np.float64(0.009598848790705652), np.float64(2.907212904421494), np.float64(1.847030775309227), np.float64(0.7306779752798565), np.float64(7.021862842514789), np.float64(1.9380149537851163), np.float64(0.012373379514848721), np.float64(7.651732520722398), np.float64(3.0441217157512495), np.float64(2.2985676156319665), np.float64(4.2367633622813905), np.float64(1.3550056146237461), np.float64(1.5348424309383184), np.float64(1.5348424309383184), np.float64(1.5348424309383184), np.float64(1.5348424309383184), np.float64(1.5348424309383184), np.float64(1.5348424309383184), np.float64(6.815403147611007), np.float64(2.962022629121293), np.float64(1.8857383069434184), np.float64(2.3798102459327826), np.float64(7.6115314927960425), np.float64(7.6115314927960425), np.float64(7.6115314927960425), np.float64(7.6115314927960425), np.float64(7.6115314927960425), np.float64(7.6115314927960425), np.float64(6.019221114832796), np.float64(0.0791897271049115), np.float64(3.3827524118882852), np.float64(2.517441035010737), np.float64(3.9493102337573585), np.float64(0.6234356342941696), np.float64(1.84166177142699), np.float64(3.931693249313128), np.float64(1.0156084690732354), np.float64(9.093256481943119), np.float64(9.093256481943119), np.float64(9.093256481943119), np.float64(1.2058412859564736), np.float64(3.2653961888373164), np.float64(2.0546000364487993), np.float64(7.056156990685611), np.float64(6.265607218687138), np.float64(0.020292343945723084), np.float64(0.8410720150166889), np.float64(8.550083551353223), np.float64(5.755425063030976), np.float64(1.2924738011855041), np.float64(2.0442727323720775), np.float64(2.350858044618328), np.float64(0.16233966712284634), np.float64(9.970711883383604), np.float64(0.1950057766933787), np.float64(0.8451927878332851), np.float64(4.706158614604916), np.float64(2.0744012754525487), np.float64(0.40040993058465535), np.float64(2.0363403593605), np.float64(0.39190270428231017), np.float64(9.644347932389131), np.float64(2.476994729252263), np.float64(6.204799899837352), np.float64(3.452080420516195), np.float64(1.6740047064119203), np.float64(7.11085428447312), np.float64(1.0966284692314419), np.float64(6.4037115631179296), np.float64(0.8790771708354516), np.float64(0.012478503911423078), np.float64(6.529553364409146), np.float64(1.967376496891432), np.float64(4.470556827077824), np.float64(0.3756938759155864), np.float64(4.936851786236806), np.float64(3.816103114466778), np.float64(4.757816402602871), np.float64(0.3856167753901681), np.float64(0.004949351671655166), np.float64(6.118720792546493), np.float64(0.43125327249647216), np.float64(8.741833791941959), np.float64(1.8829972622107662), np.float64(4.4119592882367105), np.float64(4.4119592882367105), np.float64(4.4119592882367105), np.float64(4.4119592882367105), np.float64(4.4119592882367105), np.float64(4.4119592882367105), np.float64(8.632703708922072), np.float64(2.379213820842806), np.float64(2.379213820842806), np.float64(2.379213820842806), np.float64(2.379213820842806), np.float64(2.379213820842806), np.float64(2.379213820842806), np.float64(0.04800874059405714), np.float64(0.0004949351635218295)]\n"
     ]
    }
   ],
   "source": [
    "#plot chi2 distribution\n",
    "import scipy.special as sp\n",
    "k = np.mean(chi2)\n",
    "plt.hist(chi2, bins = int(np.sqrt(8*len(chi2))), density = True)\n",
    "x = np.array([i for i in range(0, 10)])\n",
    "print(sp.gamma(k))\n",
    "plt.plot(x, 2.4*x**(k/2-1)*np.exp(-x/2)/((2**(k/2))*sp.gamma(k/2)), label = f\"Idealised χ2({round(k,2)}) distribution\")#pdf of chi2\n",
    "plt.title('χ2 distribution of the second track')\n",
    "plt.xlabel('Chi2')\n",
    "plt.legend()\n",
    "plt.ylabel('Frequency')\n",
    "plt.show()\n",
    "print(chi2)"
   ]
  }
 ],
 "metadata": {
  "kernelspec": {
   "display_name": ".venv",
   "language": "python",
   "name": "python3"
  },
  "language_info": {
   "codemirror_mode": {
    "name": "ipython",
    "version": 3
   },
   "file_extension": ".py",
   "mimetype": "text/x-python",
   "name": "python",
   "nbconvert_exporter": "python",
   "pygments_lexer": "ipython3",
   "version": "3.10.4"
  }
 },
 "nbformat": 4,
 "nbformat_minor": 2
}
