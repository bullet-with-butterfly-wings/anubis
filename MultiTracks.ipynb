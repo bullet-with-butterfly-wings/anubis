{
 "cells": [
  {
   "cell_type": "code",
   "execution_count": 2,
   "metadata": {},
   "outputs": [],
   "source": [
    "import importlib\n",
    "import sys\n",
    "from tqdm import tqdm\n",
    "import  os\n",
    "import pickle\n",
    "import glob\n",
    "from datetime import datetime\n",
    "import matplotlib.pyplot as plt\n",
    "# Add the directories to the sys.path\n",
    "dir_path = \"C://Users//jony//Programming//Python//Anubis//anubis//\" # insert your directory path\n",
    "sys.path.append(dir_path + \"Osiris//processing//python\")\n",
    "sys.path.append(dir_path + \"tools\")\n",
    "\n",
    "import Analysis_tools as ATools\n",
    "import Atlas_tools as AtTools\n",
    "import proAnubis_Analysis_Tools\n",
    "import Reconstruction_tools as RTools\n",
    "import numpy as np\n",
    "import mplhep as hep\n",
    "import Timing_tools as TTools\n",
    "import pickle\n",
    "import overview\n",
    "import rawFileReader\n",
    "import Visual_tools as VTools\n",
    "hep.style.use([hep.style.ATLAS])\n",
    "\n",
    "dir = \"C://Users//jony//Programming//Python//Anubis//anubis//data//\"\n",
    "\n",
    "# Specify the directory\n"
   ]
  },
  {
   "cell_type": "code",
   "execution_count": 2,
   "metadata": {},
   "outputs": [
    {
     "name": "stdout",
     "output_type": "stream",
     "text": [
      "Initial time 2024-08-15 16:59:49.312501 1723737589.312501\n"
     ]
    },
    {
     "name": "stderr",
     "output_type": "stream",
     "text": [
      "Processing Chunks proAnubis_240815_1759.raw:  91%|█████████▏| 91444/100000 [54:24<01:09, 123.64Chunks/s]   "
     ]
    }
   ],
   "source": [
    "importlib.reload(overview)\n",
    "file_name = \"proAnubis_240815_1759.raw\"\n",
    "chunks, times, fReader = overview.get_chunks(file_name, max_process_event=10_000_000, saves = False)"
   ]
  },
  {
   "cell_type": "code",
   "execution_count": 8,
   "metadata": {},
   "outputs": [
    {
     "name": "stdout",
     "output_type": "stream",
     "text": [
      "Initial time 2024-08-15 16:59:49.312501 1723737589.312501\n"
     ]
    },
    {
     "name": "stderr",
     "output_type": "stream",
     "text": [
      "Processing Chunks proAnubis_240815_1759.raw: 100%|██████████| 10000/10000 [02:01<00:00, 82.53Chunks/s]\n"
     ]
    },
    {
     "name": "stdout",
     "output_type": "stream",
     "text": [
      "Ending time: 2024-08-15 17:03:04.904445\n",
      "Number of chunks: 10000\n",
      "Total Events: 0\n",
      "Total reconstructed events: [0, 0, 0, 0, 0, 0]\n"
     ]
    },
    {
     "name": "stderr",
     "output_type": "stream",
     "text": [
      "C:\\/Users//jony//Programming//Python//Anubis//anubis//tools\\Reconstruction_tools.py:362: RuntimeWarning: divide by zero encountered in scalar divide\n",
      "  t = (z-z_0)/d[2]\n",
      "C:\\/Users//jony//Programming//Python//Anubis//anubis//tools\\Reconstruction_tools.py:367: RuntimeWarning: invalid value encountered in scalar multiply\n",
      "  y_traj = centroid[1] + t*d[1]\n"
     ]
    },
    {
     "name": "stdout",
     "output_type": "stream",
     "text": [
      "Initial time 2024-08-15 17:03:04.921412 1723737784.921412\n"
     ]
    },
    {
     "name": "stderr",
     "output_type": "stream",
     "text": [
      "Processing Chunks proAnubis_240815_1759.raw: 100%|██████████| 10000/10000 [01:53<00:00, 87.87Chunks/s]\n"
     ]
    },
    {
     "name": "stdout",
     "output_type": "stream",
     "text": [
      "Ending time: 2024-08-15 17:06:18.967902\n",
      "Number of chunks: 10000\n",
      "Total Events: 9999000000\n",
      "Total reconstructed events: [23, 13, 9, 27, 19, 14]\n",
      "Initial time 2024-08-15 17:06:18.987834 1723737978.987834\n"
     ]
    },
    {
     "name": "stderr",
     "output_type": "stream",
     "text": [
      "Processing Chunks proAnubis_240815_1759.raw: 100%|██████████| 10000/10000 [01:51<00:00, 89.97Chunks/s]\n"
     ]
    },
    {
     "name": "stdout",
     "output_type": "stream",
     "text": [
      "Ending time: 2024-08-15 17:09:32.379433\n",
      "Number of chunks: 10000\n",
      "Total Events: 19998000000\n",
      "Total reconstructed events: [36, 21, 17, 52, 33, 23]\n"
     ]
    },
    {
     "ename": "KeyboardInterrupt",
     "evalue": "",
     "output_type": "error",
     "traceback": [
      "\u001b[1;31m---------------------------------------------------------------------------\u001b[0m",
      "\u001b[1;31mKeyboardInterrupt\u001b[0m                         Traceback (most recent call last)",
      "Cell \u001b[1;32mIn[8], line 34\u001b[0m\n\u001b[0;32m     32\u001b[0m \u001b[38;5;28;01mfor\u001b[39;00m cluster \u001b[38;5;129;01min\u001b[39;00m clusters:\n\u001b[0;32m     33\u001b[0m    \u001b[38;5;28;01mfor\u001b[39;00m rpc \u001b[38;5;129;01min\u001b[39;00m \u001b[38;5;28mrange\u001b[39m(\u001b[38;5;241m6\u001b[39m):\n\u001b[1;32m---> 34\u001b[0m       E_recon \u001b[38;5;241m=\u001b[39m \u001b[43mRTools\u001b[49m\u001b[38;5;241;43m.\u001b[39;49m\u001b[43mreconstruct_timed_Chi2_ByRPC\u001b[49m\u001b[43m(\u001b[49m\u001b[43mcluster\u001b[49m\u001b[43m,\u001b[49m\u001b[43m \u001b[49m\u001b[38;5;241;43m3\u001b[39;49m\u001b[43m,\u001b[49m\u001b[43m \u001b[49m\u001b[43mrpc\u001b[49m\u001b[43m)\u001b[49m \u001b[38;5;66;03m#why is it excluded?\u001b[39;00m\n\u001b[0;32m     35\u001b[0m       \u001b[38;5;28;01mif\u001b[39;00m E_recon \u001b[38;5;129;01mand\u001b[39;00m \u001b[38;5;28mlen\u001b[39m(E_recon) \u001b[38;5;241m>\u001b[39m \u001b[38;5;241m1\u001b[39m:\n\u001b[0;32m     36\u001b[0m             interesting_events\u001b[38;5;241m.\u001b[39mappend(event_chunk)\n",
      "File \u001b[1;32mC:\\/Users//jony//Programming//Python//Anubis//anubis//tools\\Reconstruction_tools.py:451\u001b[0m, in \u001b[0;36mreconstruct_timed_Chi2_ByRPC\u001b[1;34m(event, max_cluster_size, RPC_excluded, rpc_indicies)\u001b[0m\n\u001b[0;32m    449\u001b[0m \u001b[38;5;28;01mif\u001b[39;00m \u001b[38;5;28mlen\u001b[39m(combo) \u001b[38;5;241m<\u001b[39m \u001b[38;5;241m5\u001b[39m:\n\u001b[0;32m    450\u001b[0m     \u001b[38;5;28;01mcontinue\u001b[39;00m\n\u001b[1;32m--> 451\u001b[0m centroid, d, Chi2, coordinates, delta_T, delta_Z\u001b[38;5;241m=\u001b[39m \u001b[43mfit_event_chi2\u001b[49m\u001b[43m(\u001b[49m\u001b[43mcombo\u001b[49m\u001b[43m,\u001b[49m\u001b[43m \u001b[49m\u001b[43mrpc_indicies\u001b[49m\u001b[43m \u001b[49m\u001b[38;5;241;43m=\u001b[39;49m\u001b[43m \u001b[49m\u001b[43mrpc_indicies\u001b[49m\u001b[43m)\u001b[49m\n\u001b[0;32m    452\u001b[0m \u001b[38;5;28;01mif\u001b[39;00m Chi2 \u001b[38;5;241m<\u001b[39m Chi2_current:\n\u001b[0;32m    453\u001b[0m \n\u001b[0;32m    454\u001b[0m     \u001b[38;5;66;03m# If new fit is better than old then replace old fit properties.\u001b[39;00m\n\u001b[0;32m    455\u001b[0m     dZ \u001b[38;5;241m=\u001b[39m delta_Z \n",
      "File \u001b[1;32mC:\\/Users//jony//Programming//Python//Anubis//anubis//tools\\Reconstruction_tools.py:332\u001b[0m, in \u001b[0;36mfit_event_chi2\u001b[1;34m(coordinates_with_error, rpc_indicies)\u001b[0m\n\u001b[0;32m    330\u001b[0m \u001b[38;5;66;03m# performing SVD\u001b[39;00m\n\u001b[0;32m    331\u001b[0m \u001b[38;5;28;01mtry\u001b[39;00m:\n\u001b[1;32m--> 332\u001b[0m     _, _, V \u001b[38;5;241m=\u001b[39m \u001b[43mnp\u001b[49m\u001b[38;5;241;43m.\u001b[39;49m\u001b[43mlinalg\u001b[49m\u001b[38;5;241;43m.\u001b[39;49m\u001b[43msvd\u001b[49m\u001b[43m(\u001b[49m\u001b[43msubtracted\u001b[49m\u001b[43m)\u001b[49m\n\u001b[0;32m    333\u001b[0m \u001b[38;5;28;01mexcept\u001b[39;00m np\u001b[38;5;241m.\u001b[39mlinalg\u001b[38;5;241m.\u001b[39mLinAlgError:\n\u001b[0;32m    334\u001b[0m     \u001b[38;5;28;01mreturn\u001b[39;00m \u001b[38;5;28;01mNone\u001b[39;00m, \u001b[38;5;28;01mNone\u001b[39;00m, np\u001b[38;5;241m.\u001b[39minf, \u001b[38;5;28;01mNone\u001b[39;00m, \u001b[38;5;28;01mNone\u001b[39;00m, \u001b[38;5;28;01mNone\u001b[39;00m\n",
      "File \u001b[1;32mc:\\Users\\jony\\Programming\\Python\\Anubis\\anubis\\.venv\\lib\\site-packages\\numpy\\linalg\\_linalg.py:1796\u001b[0m, in \u001b[0;36msvd\u001b[1;34m(a, full_matrices, compute_uv, hermitian)\u001b[0m\n\u001b[0;32m   1792\u001b[0m signature \u001b[38;5;241m=\u001b[39m \u001b[38;5;124m'\u001b[39m\u001b[38;5;124mD->DdD\u001b[39m\u001b[38;5;124m'\u001b[39m \u001b[38;5;28;01mif\u001b[39;00m isComplexType(t) \u001b[38;5;28;01melse\u001b[39;00m \u001b[38;5;124m'\u001b[39m\u001b[38;5;124md->ddd\u001b[39m\u001b[38;5;124m'\u001b[39m\n\u001b[0;32m   1793\u001b[0m \u001b[38;5;28;01mwith\u001b[39;00m errstate(call\u001b[38;5;241m=\u001b[39m_raise_linalgerror_svd_nonconvergence,\n\u001b[0;32m   1794\u001b[0m               invalid\u001b[38;5;241m=\u001b[39m\u001b[38;5;124m'\u001b[39m\u001b[38;5;124mcall\u001b[39m\u001b[38;5;124m'\u001b[39m, over\u001b[38;5;241m=\u001b[39m\u001b[38;5;124m'\u001b[39m\u001b[38;5;124mignore\u001b[39m\u001b[38;5;124m'\u001b[39m, divide\u001b[38;5;241m=\u001b[39m\u001b[38;5;124m'\u001b[39m\u001b[38;5;124mignore\u001b[39m\u001b[38;5;124m'\u001b[39m,\n\u001b[0;32m   1795\u001b[0m               under\u001b[38;5;241m=\u001b[39m\u001b[38;5;124m'\u001b[39m\u001b[38;5;124mignore\u001b[39m\u001b[38;5;124m'\u001b[39m):\n\u001b[1;32m-> 1796\u001b[0m     u, s, vh \u001b[38;5;241m=\u001b[39m \u001b[43mgufunc\u001b[49m\u001b[43m(\u001b[49m\u001b[43ma\u001b[49m\u001b[43m,\u001b[49m\u001b[43m \u001b[49m\u001b[43msignature\u001b[49m\u001b[38;5;241;43m=\u001b[39;49m\u001b[43msignature\u001b[49m\u001b[43m)\u001b[49m\n\u001b[0;32m   1797\u001b[0m u \u001b[38;5;241m=\u001b[39m u\u001b[38;5;241m.\u001b[39mastype(result_t, copy\u001b[38;5;241m=\u001b[39m\u001b[38;5;28;01mFalse\u001b[39;00m)\n\u001b[0;32m   1798\u001b[0m s \u001b[38;5;241m=\u001b[39m s\u001b[38;5;241m.\u001b[39mastype(_realType(result_t), copy\u001b[38;5;241m=\u001b[39m\u001b[38;5;28;01mFalse\u001b[39;00m)\n",
      "\u001b[1;31mKeyboardInterrupt\u001b[0m: "
     ]
    }
   ],
   "source": [
    "#find events with multiple clusters\n",
    "importlib.reload(RTools)\n",
    "importlib.reload(proAnubis_Analysis_Tools)\n",
    "importlib.reload(rawFileReader)\n",
    "\n",
    "file_name = \"proAnubis_240815_1759.raw\"\n",
    "\n",
    "fReader = rawFileReader.fileReader(dir+file_name)\n",
    "tol = [i/10 for i in range(100)]\n",
    "possible_reconstructions = [0 for rpc in range(6)]\n",
    "successful_reconstructions = [[0 for _ in tol] for rpc in range(6)]\n",
    "chi2 = []\n",
    "\n",
    "interesting_events = []\n",
    "\n",
    "idonotstop = True\n",
    "total_events = 0\n",
    "while idonotstop:\n",
    "   chunks, times, fReader = overview.get_chunks(file_name, max_process_event=1_000_000, fReader = fReader, saves = False)\n",
    "   print(\"Total Events:\", total_events)\n",
    "   print(\"Total reconstructed events:\", possible_reconstructions)\n",
    "   reconstructor = proAnubis_Analysis_Tools.Reconstructor(chunks[0], 0)\n",
    "   for processedEvents, event_chunk in enumerate(chunks[1:]):\n",
    "      reconstructor.update_event(event_chunk, processedEvents)\n",
    "      # populate_hits turns TDC bit wise information into their corresponding strips\n",
    "      reconstructor.populate_hits()\n",
    "      # This is optionnal, and requires the residual of eta and phi\n",
    "         # make_cluster does temporal and spatial coincidence between the stips, and reconstruction is done\n",
    "      clusters = reconstructor.make_cluster()\n",
    "      chi2_region = (0, 100)\n",
    "      for cluster in clusters:\n",
    "         for rpc in range(6):\n",
    "            E_recon = RTools.reconstruct_timed_Chi2_ByRPC(cluster, 3, rpc) #why is it excluded?\n",
    "            if E_recon and len(E_recon) > 1:\n",
    "                  interesting_events.append(event_chunk)\n",
    "                  track = E_recon[1]\n",
    "                  if len(track[2]) >= 5:\n",
    "                     if track[4] > chi2_region[0] and track[4] < chi2_region[1]:\n",
    "                           chi2.append(track[4])\n",
    "                           # self.event_of_interest.append(track)\n",
    "                           # Adding this check to see if other 5 RPCs are in reconstructed event.\n",
    "                           # This is necessary to ensure the reconstructed path is accurate.\n",
    "\n",
    "                           muon_coords = RTools.does_muon_hit_RPC(track[0], track[1], rpc)\n",
    "                           if muon_coords:\n",
    "                              possible_reconstructions[rpc] += 1\n",
    "                              for idx, t in enumerate(tol):\n",
    "                                 check = RTools.does_RPC_detect_muon(muon_coords, track[7], t)\n",
    "                                 if check:\n",
    "                                    successful_reconstructions[rpc][idx] += 1\n",
    "      total_events += 1_000_000\n",
    "                                      \n",
    "      \"\"\"\n",
    "      for evt_num, cluster in enumerate(clusters):\n",
    "         repeated = 0\n",
    "         for rpc in range(6):\n",
    "            if len(cluster[2][rpc][0]) == 2 and len(cluster[2][rpc][1]) == 2: #phi and eta\n",
    "               repeated += 1\n",
    "         #tracks = RTools.reconstruct_timed_Chi2_ByRPC(cluster, 3, -1)\n",
    "         if len(tracks) > 1\n",
    "            #heatmap\n",
    "            hits = []\n",
    "            for rpc in range(6):\n",
    "               hits.extend([phi for phi in cluster[2][rpc][0]])\n",
    "               hits.extend([eta for eta in cluster[2][rpc][1]])\n",
    "            hits = [h[0] for h in hits]\n",
    "            heatMaps = [np.zeros((32,64)) for rpc in range(6)]\n",
    "            for hit in hits:\n",
    "               if hit[3]:\n",
    "                  heatMaps[hit[0]][hit[1],:] += np.ones(64)\n",
    "               else:\n",
    "                  heatMaps[hit[0]][:,hit[1]] += np.ones(32)\n",
    "            #reconstruction\n",
    "\n",
    "            print(\"Number of tracks:\", len(tracks))\n",
    "            for track in tracks:\n",
    "               centroid, direction, opt_coords, _, chi2, dT, _, _ = track\n",
    "               for rpc, point in enumerate(opt_coords):\n",
    "                  try:\n",
    "                     heatMaps[rpc][31 - int(point[1]/ 2.9844)][int(point[0]/ 2.7625)] += 3\n",
    "                  except:\n",
    "                     print((int(point[0]/ 2.7625), int(point[1]/ 2.9844)))\n",
    "\n",
    "            for rpc in range(6):\n",
    "                  plt.imshow(heatMaps[rpc], interpolation='nearest')\n",
    "                  plt.title(f'Event {evt_num} RPC {rpc}')\n",
    "                  plt.savefig(f'video/images_video/double{processedEvents*100+10*evt_num+rpc}.png')\n",
    "         \"\"\"\n",
    "      #print(\"Clust\")"
   ]
  },
  {
   "cell_type": "code",
   "execution_count": 34,
   "metadata": {},
   "outputs": [
    {
     "name": "stdout",
     "output_type": "stream",
     "text": [
      "6\n"
     ]
    }
   ],
   "source": [
    "print(successful_reconstructions)"
   ]
  },
  {
   "cell_type": "code",
   "execution_count": 12,
   "metadata": {},
   "outputs": [
    {
     "name": "stdout",
     "output_type": "stream",
     "text": [
      "Efficiency Done\n",
      "Possible reconstructions [0, 0, 0, 0, 0, 0]\n",
      "[0.4318181818181818, 0.6, 0.6818181818181818, 0.4406779661016949, 0.35, 0.6071428571428571]\n"
     ]
    }
   ],
   "source": [
    "plt.figure(figsize=(10, 6))\n",
    "max_eff = []\n",
    "for RPC in range(6):\n",
    "    if possible_reconstructions[RPC] == 0:\n",
    "        efficiency = [0 for x in successful_reconstructions[RPC]]\n",
    "    else:\n",
    "        efficiency = [x / possible_reconstructions[RPC] for x in successful_reconstructions[RPC]]\n",
    "    max_eff.append(efficiency[-1])\n",
    "    plt.plot(tol, efficiency, label=f'RPC {RPC}')\n",
    "\n",
    "plt.xlabel('Tolerance')\n",
    "plt.ylabel('Efficiency')\n",
    "plt.title('The efficiency of the second track reconstruction')\n",
    "plt.legend()\n",
    "plt.grid(True)\n",
    "plt.show()\n",
    "plt.close()\n",
    "print(\"Efficiency Done\")\n",
    "print(\"Possible reconstructions\", reconstructor.possible_reconstructions)\n",
    "print(max_eff)"
   ]
  },
  {
   "cell_type": "code",
   "execution_count": 37,
   "metadata": {},
   "outputs": [
    {
     "name": "stdout",
     "output_type": "stream",
     "text": [
      "6.0\n",
      "[np.float64(2.923268450788971), np.float64(1.9682182916295314), np.float64(1.3824512933971917), np.float64(0.2870659845529911), np.float64(6.057028098867192), np.float64(2.2087987502513218), np.float64(0.47158490850782714), np.float64(1.4087844946781425), np.float64(6.473761420102736), np.float64(1.6294728836774055), np.float64(6.88210633071564), np.float64(0.8487569127008142), np.float64(3.4205517579528855), np.float64(2.4461477991746268), np.float64(3.8330354225996115), np.float64(5.379813914311633), np.float64(5.776272727450325), np.float64(4.201157797497754), np.float64(5.430768912907606), np.float64(1.3789253529100975), np.float64(5.585948402254189), np.float64(5.418338857351443), np.float64(5.3259728360743575), np.float64(5.333795741307508), np.float64(5.193082421867909), np.float64(1.6204679654289258), np.float64(5.811352205796932), np.float64(5.70985414527748), np.float64(7.528977533335994), np.float64(5.206477486636616), np.float64(7.4908850940719205), np.float64(1.357805251750329), np.float64(7.029330479027828), np.float64(7.00205355161638), np.float64(6.328031724165147), np.float64(0.4502941326042049), np.float64(7.325059558773219), np.float64(6.587935864600887), np.float64(4.549596695399567), np.float64(9.38862172033483), np.float64(2.2519919149052456), np.float64(2.424107949723634), np.float64(0.8196106173030243), np.float64(3.680081859289625), np.float64(5.459409426240427), np.float64(1.753239063607328), np.float64(0.8698722346210942), np.float64(2.14560818382062), np.float64(5.403311698273861), np.float64(5.634210164993198), np.float64(3.904248553908643), np.float64(2.448037382845088), np.float64(3.92537295602723), np.float64(3.681579158446713), np.float64(2.1154972100897895), np.float64(3.0079364381847564), np.float64(3.0550851540320765), np.float64(3.9212182564765405), np.float64(3.3724812434643128), np.float64(3.8038959717104768), np.float64(3.6127747603643408), np.float64(2.5033180825630956), np.float64(5.444124863084809), np.float64(3.2951847801910628), np.float64(1.9548221487286825), np.float64(4.59192407453934), np.float64(0.5454981398585238), np.float64(3.994023045768157), np.float64(0.44982698870273347), np.float64(4.898843524519349), np.float64(2.907212904421494), np.float64(1.847030775309227), np.float64(2.220461000017765), np.float64(7.021862842514789), np.float64(2.3803130672280086), np.float64(7.279051818529061), np.float64(0.0019797406557641108), np.float64(7.651732520722398), np.float64(3.0441217157512495), np.float64(5.398973336821858), np.float64(2.2985676156319665), np.float64(4.2367633622813905), np.float64(3.1495489390843088), np.float64(1.790081144979089), np.float64(1.9823779892010567), np.float64(2.0442301228446684), np.float64(1.1983395092629894), np.float64(1.7276188857651071), np.float64(1.9618496332386233), np.float64(6.815403147611007), np.float64(1.6864062545735168), np.float64(3.3067994333219466), np.float64(1.8857383069434184), np.float64(2.3798102459327826), np.float64(9.637610039648381), np.float64(9.440652688370525), np.float64(6.77357774927876), np.float64(4.865512535986633), np.float64(9.81471157756704), np.float64(7.468453395190206), np.float64(8.503402573447525), np.float64(5.111544655477945), np.float64(0.09156318359461145), np.float64(2.3291037064389664), np.float64(3.3827524118882852), np.float64(2.517441035010737), np.float64(3.9493102337573585), np.float64(1.7777729456016165), np.float64(1.84166177142699), np.float64(7.24338172051018), np.float64(5.940531497256278), np.float64(3.931693249313128), np.float64(1.0156084690732354), np.float64(5.321658840322569), np.float64(0.9678054126652601), np.float64(5.070046433040882), np.float64(1.2058412859564736), np.float64(3.2653961888373164), np.float64(4.8051751001611), np.float64(3.3350224088211036), np.float64(7.056156990685611), np.float64(6.265607218687138), np.float64(0.0717656859421033), np.float64(0.8410720150166889), np.float64(8.677912978227303), np.float64(9.624399275284306), np.float64(3.4164042622601314), np.float64(0.19649049397745466), np.float64(2.0442727323720775), np.float64(2.350858044618328), np.float64(1.8022356647007058), np.float64(1.5430137859986282), np.float64(0.35091524205509267), np.float64(0.8451927878332851), np.float64(4.706158614604916), np.float64(4.688159566861656), np.float64(2.0744012754525487), np.float64(1.024324311945114), np.float64(3.391805949759798), np.float64(2.0363403593605), np.float64(1.9011704872106783), np.float64(2.3423631560366904), np.float64(9.644347932389131), np.float64(2.476994729252263), np.float64(6.204799899837352), np.float64(3.452080420516195), np.float64(1.6740047064119203), np.float64(7.11085428447312), np.float64(1.0966284692314419), np.float64(6.944501050001897), np.float64(0.9538069285916518), np.float64(1.4093416310450906), np.float64(6.529553364409146), np.float64(2.8568384282886985), np.float64(4.470556827077824), np.float64(0.3756938759155864), np.float64(6.319317626877294), np.float64(4.238096556580385), np.float64(6.772075562148472), np.float64(0.3856167753901681), np.float64(1.349729968499269), np.float64(3.523157006805869), np.float64(6.118720792546493), np.float64(0.43125327249647216), np.float64(8.741833791941959), np.float64(2.253160463007999), np.float64(5.5263773021954385), np.float64(5.580477092140426), np.float64(5.457185034988989), np.float64(0.23856088782503773), np.float64(5.585760863071003), np.float64(2.2399966388126376), np.float64(4.505160967401738), np.float64(3.1567608313966873), np.float64(3.13558531832888), np.float64(3.10293909719477), np.float64(2.1095541280518484), np.float64(1.99531346607118), np.float64(0.7710133113311407), np.float64(2.0043639548142287), np.float64(9.473659494824986), np.float64(0.009898703504682851), np.float64(7.230682505098613), np.float64(6.816733779011334), np.float64(6.3330619598435876), np.float64(2.3492536278354343), np.float64(1.4578100990728486), np.float64(2.408364154892959), np.float64(3.6239854933116806), np.float64(2.1845383719112417), np.float64(2.1832764281909225), np.float64(2.1805925338450494), np.float64(1.9812587987278378), np.float64(0.3705359495656697), np.float64(0.7508123063853308), np.float64(2.0357028526316268), np.float64(9.586463047576045), np.float64(0.552858597850041), np.float64(2.0113086518118144), np.float64(2.567941414987178), np.float64(1.6152418299946596), np.float64(2.4066723221545687), np.float64(2.4136430743836668), np.float64(1.9412567313725297), np.float64(1.7657635373438942), np.float64(2.5862401874173444), np.float64(6.244609931674451), np.float64(1.4196422420630304), np.float64(1.0942701304303826), np.float64(3.2518460849324984), np.float64(2.718392894212922), np.float64(3.245325917113606), np.float64(4.188771713980035), np.float64(3.8969512967078956), np.float64(1.613358995832107), np.float64(7.507827192531025), np.float64(5.505206195832026), np.float64(5.423613120057606)]\n"
     ]
    }
   ],
   "source": [
    "#plot chi2 distribution\n",
    "import scipy.special as sp\n",
    "plt.hist(chi2, bins = int(np.sqrt(8*len(chi2))), density = True)\n",
    "x = np.array([i for i in range(0, 10)])\n",
    "k = 4\n",
    "print(sp.gamma(k))\n",
    "plt.plot(x, x**(k/2-1)*np.exp(-x/2)/((2**(k/2))*sp.gamma(k/2)), label = f\"Idealised χ2({k}) distribution\")#pdf of chi2\n",
    "plt.title('χ2 distribution of the second track')\n",
    "plt.xlabel('Chi2')\n",
    "plt.legend()\n",
    "plt.ylabel('Frequency')\n",
    "plt.show()\n",
    "print(chi2)"
   ]
  }
 ],
 "metadata": {
  "kernelspec": {
   "display_name": ".venv",
   "language": "python",
   "name": "python3"
  },
  "language_info": {
   "codemirror_mode": {
    "name": "ipython",
    "version": 3
   },
   "file_extension": ".py",
   "mimetype": "text/x-python",
   "name": "python",
   "nbconvert_exporter": "python",
   "pygments_lexer": "ipython3",
   "version": "3.10.4"
  }
 },
 "nbformat": 4,
 "nbformat_minor": 2
}
