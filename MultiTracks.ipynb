{
 "cells": [
  {
   "cell_type": "code",
   "execution_count": 117,
   "metadata": {},
   "outputs": [],
   "source": [
    "import importlib\n",
    "import sys\n",
    "from tqdm import tqdm\n",
    "import  os\n",
    "import pickle\n",
    "import glob\n",
    "from datetime import datetime\n",
    "import matplotlib.pyplot as plt\n",
    "# Add the directories to the sys.path\n",
    "dir_path = \"C://Users//jony//Programming//Python//Anubis//anubis//\" # insert your directory path\n",
    "sys.path.append(dir_path + \"Osiris//processing//python\")\n",
    "sys.path.append(dir_path + \"tools\")\n",
    "\n",
    "import Analysis_tools as ATools\n",
    "import Atlas_tools as AtTools\n",
    "import proAnubis_Analysis_Tools\n",
    "import Reconstruction_tools as RTools\n",
    "import numpy as np\n",
    "import mplhep as hep\n",
    "import Timing_tools as TTools\n",
    "import pickle\n",
    "import tools.overview as overview\n",
    "import rawFileReader\n",
    "plt.rc('text', usetex=True)\n",
    "import Visual_tools as VTools\n",
    "hep.style.use([hep.style.ATLAS])\n",
    "\n",
    "dir = \"C://Users//jony//Programming//Python//Anubis//anubis//data//\"\n",
    "file_name = \"proAnubis_240815_1759.raw\"\n",
    "# Specify the directory\n"
   ]
  },
  {
   "cell_type": "code",
   "execution_count": 22,
   "metadata": {},
   "outputs": [
    {
     "name": "stdout",
     "output_type": "stream",
     "text": [
      "Initial time 2024-08-15 18:04:54.701976 1723741494.701976\n"
     ]
    },
    {
     "name": "stderr",
     "output_type": "stream",
     "text": [
      "Processing Chunks proAnubis_240815_1759.raw: 100%|██████████| 1000/1000 [00:14<00:00, 70.75Chunks/s]\n"
     ]
    },
    {
     "name": "stdout",
     "output_type": "stream",
     "text": [
      "Ending time: 2024-08-15 18:06:13.103935\n",
      "Number of chunks: 1000\n",
      "Initial time 2024-08-15 18:06:13.170727 1723741573.170727\n"
     ]
    },
    {
     "name": "stderr",
     "output_type": "stream",
     "text": [
      "Processing Chunks proAnubis_240815_1759.raw: 100%|██████████| 1000/1000 [00:14<00:00, 70.35Chunks/s]\n"
     ]
    },
    {
     "name": "stdout",
     "output_type": "stream",
     "text": [
      "Ending time: 2024-08-15 18:07:30.841322\n",
      "Number of chunks: 1000\n",
      "Initial time 2024-08-15 18:07:30.932210 1723741650.93221\n"
     ]
    },
    {
     "name": "stderr",
     "output_type": "stream",
     "text": [
      "Processing Chunks proAnubis_240815_1759.raw: 100%|██████████| 1000/1000 [00:14<00:00, 67.95Chunks/s]\n"
     ]
    },
    {
     "name": "stdout",
     "output_type": "stream",
     "text": [
      "Ending time: 2024-08-15 18:08:48.276197\n",
      "Number of chunks: 1000\n",
      "Initial time 2024-08-15 18:08:48.349561 1723741728.349561\n"
     ]
    },
    {
     "name": "stderr",
     "output_type": "stream",
     "text": [
      "Processing Chunks proAnubis_240815_1759.raw: 100%|██████████| 1000/1000 [00:16<00:00, 62.44Chunks/s]\n"
     ]
    },
    {
     "name": "stdout",
     "output_type": "stream",
     "text": [
      "Ending time: 2024-08-15 18:10:04.905915\n",
      "Number of chunks: 1000\n",
      "Initial time 2024-08-15 18:10:04.978629 1723741804.978629\n"
     ]
    },
    {
     "name": "stderr",
     "output_type": "stream",
     "text": [
      "Processing Chunks proAnubis_240815_1759.raw: 100%|██████████| 1000/1000 [00:16<00:00, 61.57Chunks/s]\n"
     ]
    },
    {
     "name": "stdout",
     "output_type": "stream",
     "text": [
      "Ending time: 2024-08-15 18:11:23.845773\n",
      "Number of chunks: 1000\n",
      "Initial time 2024-08-15 18:11:23.950244 1723741883.950244\n"
     ]
    },
    {
     "name": "stderr",
     "output_type": "stream",
     "text": [
      "Processing Chunks proAnubis_240815_1759.raw: 100%|██████████| 1000/1000 [00:11<00:00, 85.25Chunks/s]\n"
     ]
    },
    {
     "name": "stdout",
     "output_type": "stream",
     "text": [
      "Ending time: 2024-08-15 18:11:44.859528\n",
      "Number of chunks: 1000\n",
      "Initial time 2024-08-15 18:11:44.875979 1723741904.875979\n"
     ]
    },
    {
     "name": "stderr",
     "output_type": "stream",
     "text": [
      "Processing Chunks proAnubis_240815_1759.raw: 100%|██████████| 1000/1000 [00:11<00:00, 87.45Chunks/s]\n"
     ]
    },
    {
     "name": "stdout",
     "output_type": "stream",
     "text": [
      "Ending time: 2024-08-15 18:12:04.597423\n",
      "Number of chunks: 1000\n",
      "Initial time 2024-08-15 18:12:04.615764 1723741924.615764\n"
     ]
    },
    {
     "name": "stderr",
     "output_type": "stream",
     "text": [
      "Processing Chunks proAnubis_240815_1759.raw: 100%|██████████| 1000/1000 [00:11<00:00, 88.33Chunks/s]\n"
     ]
    },
    {
     "name": "stdout",
     "output_type": "stream",
     "text": [
      "Ending time: 2024-08-15 18:12:24.302002\n",
      "Number of chunks: 1000\n",
      "Initial time 2024-08-15 18:12:24.321864 1723741944.321864\n"
     ]
    },
    {
     "name": "stderr",
     "output_type": "stream",
     "text": [
      "Processing Chunks proAnubis_240815_1759.raw: 100%|██████████| 1000/1000 [00:11<00:00, 85.13Chunks/s]\n"
     ]
    },
    {
     "name": "stdout",
     "output_type": "stream",
     "text": [
      "Ending time: 2024-08-15 18:12:44.269300\n",
      "Number of chunks: 1000\n",
      "Initial time 2024-08-15 18:12:44.292332 1723741964.292332\n"
     ]
    },
    {
     "name": "stderr",
     "output_type": "stream",
     "text": [
      "Processing Chunks proAnubis_240815_1759.raw: 100%|██████████| 1000/1000 [00:11<00:00, 87.06Chunks/s]\n"
     ]
    },
    {
     "name": "stdout",
     "output_type": "stream",
     "text": [
      "Ending time: 2024-08-15 18:13:03.794183\n",
      "Number of chunks: 1000\n",
      "Initial time 2024-08-15 18:13:03.815412 1723741983.815412\n"
     ]
    },
    {
     "name": "stderr",
     "output_type": "stream",
     "text": [
      "Processing Chunks proAnubis_240815_1759.raw: 100%|██████████| 1000/1000 [00:11<00:00, 85.37Chunks/s]\n"
     ]
    },
    {
     "name": "stdout",
     "output_type": "stream",
     "text": [
      "Ending time: 2024-08-15 18:13:23.513138\n",
      "Number of chunks: 1000\n",
      "Initial time 2024-08-15 18:13:23.530605 1723742003.530605\n"
     ]
    },
    {
     "name": "stderr",
     "output_type": "stream",
     "text": [
      "Processing Chunks proAnubis_240815_1759.raw: 100%|██████████| 1000/1000 [00:11<00:00, 87.14Chunks/s]\n"
     ]
    },
    {
     "name": "stdout",
     "output_type": "stream",
     "text": [
      "Ending time: 2024-08-15 18:13:43.259149\n",
      "Number of chunks: 1000\n",
      "Initial time 2024-08-15 18:13:43.274575 1723742023.274575\n"
     ]
    },
    {
     "name": "stderr",
     "output_type": "stream",
     "text": [
      "Processing Chunks proAnubis_240815_1759.raw: 100%|██████████| 1000/1000 [00:11<00:00, 85.53Chunks/s]\n"
     ]
    },
    {
     "name": "stdout",
     "output_type": "stream",
     "text": [
      "Ending time: 2024-08-15 18:14:03.188662\n",
      "Number of chunks: 1000\n",
      "Initial time 2024-08-15 18:14:03.212713 1723742043.212713\n"
     ]
    },
    {
     "name": "stderr",
     "output_type": "stream",
     "text": [
      "Processing Chunks proAnubis_240815_1759.raw: 100%|██████████| 1000/1000 [00:11<00:00, 84.22Chunks/s]\n"
     ]
    },
    {
     "name": "stdout",
     "output_type": "stream",
     "text": [
      "Ending time: 2024-08-15 18:14:22.895444\n",
      "Number of chunks: 1000\n",
      "Initial time 2024-08-15 18:14:22.917786 1723742062.917786\n"
     ]
    },
    {
     "name": "stderr",
     "output_type": "stream",
     "text": [
      "Processing Chunks proAnubis_240815_1759.raw: 100%|██████████| 1000/1000 [00:29<00:00, 33.71Chunks/s]\n"
     ]
    },
    {
     "name": "stdout",
     "output_type": "stream",
     "text": [
      "Ending time: 2024-08-15 18:14:43.750720\n",
      "Number of chunks: 1000\n",
      "Initial time 2024-08-15 18:14:43.771789 1723742083.771789\n"
     ]
    },
    {
     "name": "stderr",
     "output_type": "stream",
     "text": [
      "Processing Chunks proAnubis_240815_1759.raw: 100%|██████████| 1000/1000 [00:31<00:00, 31.35Chunks/s]\n"
     ]
    },
    {
     "name": "stdout",
     "output_type": "stream",
     "text": [
      "Ending time: 2024-08-15 18:15:04.173270\n",
      "Number of chunks: 1000\n",
      "Initial time 2024-08-15 18:15:04.191792 1723742104.191792\n"
     ]
    },
    {
     "name": "stderr",
     "output_type": "stream",
     "text": [
      "Processing Chunks proAnubis_240815_1759.raw: 100%|██████████| 1000/1000 [00:34<00:00, 28.84Chunks/s]\n"
     ]
    },
    {
     "name": "stdout",
     "output_type": "stream",
     "text": [
      "Ending time: 2024-08-15 18:15:24.533468\n",
      "Number of chunks: 1000\n",
      "Initial time 2024-08-15 18:15:24.553335 1723742124.553335\n"
     ]
    },
    {
     "name": "stderr",
     "output_type": "stream",
     "text": [
      "Processing Chunks proAnubis_240815_1759.raw: 100%|██████████| 1000/1000 [00:14<00:00, 67.04Chunks/s]\n"
     ]
    },
    {
     "name": "stdout",
     "output_type": "stream",
     "text": [
      "Ending time: 2024-08-15 18:15:44.241960\n",
      "Number of chunks: 1000\n",
      "Initial time 2024-08-15 18:15:44.263720 1723742144.26372\n"
     ]
    },
    {
     "name": "stderr",
     "output_type": "stream",
     "text": [
      "Processing Chunks proAnubis_240815_1759.raw: 100%|██████████| 1000/1000 [00:11<00:00, 89.16Chunks/s]\n"
     ]
    },
    {
     "name": "stdout",
     "output_type": "stream",
     "text": [
      "Ending time: 2024-08-15 18:16:03.818414\n",
      "Number of chunks: 1000\n",
      "Initial time 2024-08-15 18:16:03.842817 1723742163.842817\n"
     ]
    },
    {
     "name": "stderr",
     "output_type": "stream",
     "text": [
      "Processing Chunks proAnubis_240815_1759.raw: 100%|██████████| 1000/1000 [00:12<00:00, 78.13Chunks/s]\n"
     ]
    },
    {
     "name": "stdout",
     "output_type": "stream",
     "text": [
      "Ending time: 2024-08-15 18:16:23.614869\n",
      "Number of chunks: 1000\n",
      "Initial time 2024-08-15 18:16:23.630687 1723742183.630687\n"
     ]
    },
    {
     "name": "stderr",
     "output_type": "stream",
     "text": [
      "Processing Chunks proAnubis_240815_1759.raw: 100%|██████████| 1000/1000 [00:12<00:00, 80.64Chunks/s]\n"
     ]
    },
    {
     "name": "stdout",
     "output_type": "stream",
     "text": [
      "Ending time: 2024-08-15 18:16:43.343383\n",
      "Number of chunks: 1000\n",
      "Initial time 2024-08-15 18:16:43.364367 1723742203.364367\n"
     ]
    },
    {
     "name": "stderr",
     "output_type": "stream",
     "text": [
      "Processing Chunks proAnubis_240815_1759.raw: 100%|██████████| 1000/1000 [00:12<00:00, 81.25Chunks/s]\n"
     ]
    },
    {
     "name": "stdout",
     "output_type": "stream",
     "text": [
      "Ending time: 2024-08-15 18:17:02.800149\n",
      "Number of chunks: 1000\n",
      "Initial time 2024-08-15 18:17:02.820072 1723742222.820072\n"
     ]
    },
    {
     "name": "stderr",
     "output_type": "stream",
     "text": [
      "Processing Chunks proAnubis_240815_1759.raw: 100%|██████████| 1000/1000 [00:11<00:00, 88.51Chunks/s]\n"
     ]
    },
    {
     "name": "stdout",
     "output_type": "stream",
     "text": [
      "Ending time: 2024-08-15 18:17:22.099213\n",
      "Number of chunks: 1000\n",
      "Initial time 2024-08-15 18:17:22.122655 1723742242.122655\n"
     ]
    },
    {
     "name": "stderr",
     "output_type": "stream",
     "text": [
      "Processing Chunks proAnubis_240815_1759.raw: 100%|██████████| 1000/1000 [00:12<00:00, 77.05Chunks/s]\n"
     ]
    },
    {
     "name": "stdout",
     "output_type": "stream",
     "text": [
      "Ending time: 2024-08-15 18:17:41.339199\n",
      "Number of chunks: 1000\n",
      "Initial time 2024-08-15 18:17:41.360153 1723742261.360153\n"
     ]
    },
    {
     "name": "stderr",
     "output_type": "stream",
     "text": [
      "Processing Chunks proAnubis_240815_1759.raw: 100%|██████████| 1000/1000 [00:11<00:00, 88.63Chunks/s]\n"
     ]
    },
    {
     "name": "stdout",
     "output_type": "stream",
     "text": [
      "Ending time: 2024-08-15 18:18:01.018295\n",
      "Number of chunks: 1000\n",
      "Initial time 2024-08-15 18:18:01.038401 1723742281.038401\n"
     ]
    },
    {
     "name": "stderr",
     "output_type": "stream",
     "text": [
      "Processing Chunks proAnubis_240815_1759.raw: 100%|██████████| 1000/1000 [00:12<00:00, 79.30Chunks/s]\n"
     ]
    },
    {
     "name": "stdout",
     "output_type": "stream",
     "text": [
      "Ending time: 2024-08-15 18:18:20.342924\n",
      "Number of chunks: 1000\n",
      "Initial time 2024-08-15 18:18:20.357708 1723742300.357708\n"
     ]
    },
    {
     "name": "stderr",
     "output_type": "stream",
     "text": [
      "Processing Chunks proAnubis_240815_1759.raw: 100%|██████████| 1000/1000 [00:11<00:00, 83.47Chunks/s] \n"
     ]
    },
    {
     "name": "stdout",
     "output_type": "stream",
     "text": [
      "Ending time: 2024-08-15 18:18:39.655706\n",
      "Number of chunks: 1000\n",
      "Initial time 2024-08-15 18:18:39.673176 1723742319.673176\n"
     ]
    },
    {
     "name": "stderr",
     "output_type": "stream",
     "text": [
      "Processing Chunks proAnubis_240815_1759.raw: 100%|██████████| 1000/1000 [00:12<00:00, 82.66Chunks/s]\n"
     ]
    },
    {
     "name": "stdout",
     "output_type": "stream",
     "text": [
      "Ending time: 2024-08-15 18:18:59.118548\n",
      "Number of chunks: 1000\n",
      "Initial time 2024-08-15 18:18:59.139487 1723742339.139487\n"
     ]
    },
    {
     "name": "stderr",
     "output_type": "stream",
     "text": [
      "Processing Chunks proAnubis_240815_1759.raw: 100%|██████████| 1000/1000 [00:12<00:00, 80.53Chunks/s]\n"
     ]
    },
    {
     "name": "stdout",
     "output_type": "stream",
     "text": [
      "Ending time: 2024-08-15 18:19:18.682268\n",
      "Number of chunks: 1000\n",
      "Initial time 2024-08-15 18:19:18.702096 1723742358.702096\n"
     ]
    },
    {
     "name": "stderr",
     "output_type": "stream",
     "text": [
      "Processing Chunks proAnubis_240815_1759.raw: 100%|██████████| 1000/1000 [00:12<00:00, 81.76Chunks/s]\n"
     ]
    },
    {
     "name": "stdout",
     "output_type": "stream",
     "text": [
      "Ending time: 2024-08-15 18:19:38.133676\n",
      "Number of chunks: 1000\n",
      "Initial time 2024-08-15 18:19:38.151944 1723742378.151944\n"
     ]
    },
    {
     "name": "stderr",
     "output_type": "stream",
     "text": [
      "Processing Chunks proAnubis_240815_1759.raw: 100%|██████████| 1000/1000 [00:12<00:00, 79.80Chunks/s]\n"
     ]
    },
    {
     "name": "stdout",
     "output_type": "stream",
     "text": [
      "Ending time: 2024-08-15 18:19:57.652441\n",
      "Number of chunks: 1000\n",
      "Initial time 2024-08-15 18:19:57.673801 1723742397.673801\n"
     ]
    },
    {
     "name": "stderr",
     "output_type": "stream",
     "text": [
      "Processing Chunks proAnubis_240815_1759.raw: 100%|██████████| 1000/1000 [00:13<00:00, 75.94Chunks/s]\n"
     ]
    },
    {
     "name": "stdout",
     "output_type": "stream",
     "text": [
      "Ending time: 2024-08-15 18:20:17.322907\n",
      "Number of chunks: 1000\n"
     ]
    }
   ],
   "source": [
    "importlib.reload(overview)\n",
    "file_name = \"proAnubis_240815_1759.raw\"\n",
    "evt_num = 0\n",
    "fReader = rawFileReader.fileReader(dir+file_name)\n",
    "fReader.skip_events(6_800_000)\n",
    "evt_num = 6_800_000\n",
    "while evt_num < 10_000_000:\n",
    "    chunks, times, fReader = overview.get_chunks(file_name, max_process_event=100_000, fReader = fReader, saves = False)\n",
    "    with open(dir + \"chunks//\" + str(evt_num) + \".pkl\", \"wb\") as f:\n",
    "        pickle.dump(chunks, f)\n",
    "    evt_num += 100_000"
   ]
  },
  {
   "cell_type": "code",
   "execution_count": null,
   "metadata": {},
   "outputs": [],
   "source": [
    "importlib.reload(proAnubis_Analysis_Tools)\n",
    "TAnalyser = proAnubis_Analysis_Tools.Timing_Analyser(chunks[0],0)\n",
    "for processedEvents, chunk in enumerate(chunks):\n",
    "    TAnalyser.update_event(chunk, processedEvents)\n",
    "    TAnalyser.read_tot_diffs()\n",
    "    \n",
    "tpt_mean, tot_std = TAnalyser.calculate_corrections()\n",
    "with open(dir + \"tpt_mean.pkl\", \"wb\") as f:\n",
    "    pickle.dump(tpt_mean, f)\n",
    "with open(dir + \"tot_std.pkl\", \"wb\") as f:\n",
    "    pickle.dump(tot_std, f)"
   ]
  },
  {
   "cell_type": "code",
   "execution_count": 2,
   "metadata": {},
   "outputs": [],
   "source": [
    "with open(dir + \"tot_mean.pkl\", \"rb\") as f:\n",
    "    tot_mean = pickle.load(f)\n",
    "    \n",
    "with open(dir + \"tot_std.pkl\", \"rb\") as f:\n",
    "    tot_std = pickle.load(f)"
   ]
  },
  {
   "cell_type": "code",
   "execution_count": 50,
   "metadata": {},
   "outputs": [
    {
     "name": "stderr",
     "output_type": "stream",
     "text": [
      "Analysing chunks 0:  18%|█▊        | 178/1000 [00:10<00:28, 29.00chunks/s]C:\\/Users//jony//Programming//Python//Anubis//anubis//tools\\Reconstruction_tools.py:557: RuntimeWarning: invalid value encountered in divide\n",
      "  return vector/np.linalg.norm(vector)\n",
      "Analysing chunks 0: 100%|██████████| 1000/1000 [01:06<00:00, 14.98chunks/s]\n",
      "Analysing chunks 100000: 100%|██████████| 1000/1000 [01:11<00:00, 13.90chunks/s]\n",
      "Analysing chunks 1000000: 100%|██████████| 1000/1000 [01:01<00:00, 16.21chunks/s]\n",
      "Analysing chunks 1100000: 100%|██████████| 1000/1000 [00:52<00:00, 19.11chunks/s]\n",
      "Analysing chunks 1200000: 100%|██████████| 1000/1000 [01:13<00:00, 13.52chunks/s]\n",
      "Analysing chunks 1300000: 100%|██████████| 1000/1000 [00:59<00:00, 16.78chunks/s]\n",
      "Analysing chunks 1400000: 100%|██████████| 1000/1000 [01:03<00:00, 15.75chunks/s]\n",
      "Analysing chunks 1500000: 100%|██████████| 1000/1000 [01:01<00:00, 16.16chunks/s]\n",
      "Analysing chunks 1600000: 100%|██████████| 1000/1000 [01:10<00:00, 14.20chunks/s]\n",
      "Analysing chunks 1700000: 100%|██████████| 1000/1000 [01:22<00:00, 12.06chunks/s]\n",
      "Analysing chunks 1800000:  64%|██████▍   | 641/1000 [00:41<00:50,  7.07chunks/s]"
     ]
    },
    {
     "name": "stdout",
     "output_type": "stream",
     "text": [
      "OMG, we detected more than 2 tracks in the event. How exciting! \n",
      "This never happened before, so look into that. \n",
      " \n",
      "               Alternatively, it is a bug, which is less exciting :(\n"
     ]
    },
    {
     "name": "stderr",
     "output_type": "stream",
     "text": [
      "Analysing chunks 1800000: 100%|██████████| 1000/1000 [01:02<00:00, 16.09chunks/s]\n",
      "Analysing chunks 1900000: 100%|██████████| 1000/1000 [01:26<00:00, 11.53chunks/s]\n",
      "Analysing chunks 200000: 100%|██████████| 1000/1000 [01:19<00:00, 12.53chunks/s]\n",
      "Analysing chunks 2000000: 100%|██████████| 1000/1000 [01:03<00:00, 15.79chunks/s]\n",
      "Analysing chunks 2100000:  28%|██▊       | 281/1000 [00:19<00:49, 14.63chunks/s]C:\\/Users//jony//Programming//Python//Anubis//anubis//tools\\Reconstruction_tools.py:551: RuntimeWarning: divide by zero encountered in divide\n",
      "  a_parameter = np.cross(cb - ca + normal*closest_distance, b)/np.cross(a,b) #parameters look good\n",
      "Analysing chunks 2100000: 100%|██████████| 1000/1000 [01:24<00:00, 11.84chunks/s]\n",
      "Analysing chunks 2200000: 100%|██████████| 1000/1000 [01:07<00:00, 14.74chunks/s]\n",
      "Analysing chunks 2300000: 100%|██████████| 1000/1000 [01:16<00:00, 13.14chunks/s]\n",
      "Analysing chunks 2400000: 100%|██████████| 1000/1000 [01:08<00:00, 14.55chunks/s]\n",
      "Analysing chunks 2500000: 100%|██████████| 1000/1000 [01:17<00:00, 12.83chunks/s]\n",
      "Analysing chunks 2600000: 100%|██████████| 1000/1000 [01:25<00:00, 11.66chunks/s]\n",
      "Analysing chunks 2700000: 100%|██████████| 1000/1000 [01:17<00:00, 12.89chunks/s]\n",
      "Analysing chunks 2800000: 100%|██████████| 1000/1000 [00:58<00:00, 17.01chunks/s]\n",
      "Analysing chunks 2900000: 100%|██████████| 1000/1000 [01:26<00:00, 11.60chunks/s]\n",
      "Analysing chunks 300000:  95%|█████████▌| 954/1000 [01:08<00:01, 31.22chunks/s]C:\\/Users//jony//Programming//Python//Anubis//anubis//tools\\Reconstruction_tools.py:551: RuntimeWarning: invalid value encountered in divide\n",
      "  a_parameter = np.cross(cb - ca + normal*closest_distance, b)/np.cross(a,b) #parameters look good\n",
      "Analysing chunks 300000: 100%|██████████| 1000/1000 [01:13<00:00, 13.62chunks/s]\n",
      "Analysing chunks 3000000: 100%|██████████| 1000/1000 [00:54<00:00, 18.36chunks/s]\n",
      "Analysing chunks 3100000: 100%|██████████| 1000/1000 [01:01<00:00, 16.27chunks/s]\n",
      "Analysing chunks 3200000: 100%|██████████| 1000/1000 [01:23<00:00, 11.99chunks/s]\n",
      "Analysing chunks 3300000: 100%|██████████| 1000/1000 [01:26<00:00, 11.57chunks/s]\n",
      "Analysing chunks 3400000: 100%|██████████| 1000/1000 [01:08<00:00, 14.59chunks/s]\n",
      "Analysing chunks 3500000: 100%|██████████| 1000/1000 [00:59<00:00, 16.76chunks/s]\n",
      "Analysing chunks 3600000: 100%|██████████| 1000/1000 [01:09<00:00, 14.38chunks/s]\n",
      "Analysing chunks 3700000: 100%|██████████| 1000/1000 [00:58<00:00, 17.09chunks/s]\n",
      "Analysing chunks 3800000: 100%|██████████| 1000/1000 [01:13<00:00, 13.59chunks/s]\n",
      "Analysing chunks 3900000: 100%|██████████| 1000/1000 [00:49<00:00, 20.18chunks/s]\n",
      "Analysing chunks 400000: 100%|██████████| 1000/1000 [01:15<00:00, 13.19chunks/s]\n",
      "Analysing chunks 4000000: 100%|██████████| 1000/1000 [00:38<00:00, 26.24chunks/s]\n",
      "Analysing chunks 4100000: 100%|██████████| 1000/1000 [00:44<00:00, 22.62chunks/s]\n",
      "Analysing chunks 4200000: 100%|██████████| 1000/1000 [00:35<00:00, 28.45chunks/s]\n",
      "Analysing chunks 4300000: 100%|██████████| 1000/1000 [00:46<00:00, 21.61chunks/s]\n",
      "Analysing chunks 4400000: 100%|██████████| 1000/1000 [00:59<00:00, 16.90chunks/s]\n",
      "Analysing chunks 4500000: 100%|██████████| 1000/1000 [01:00<00:00, 16.47chunks/s]\n",
      "Analysing chunks 4600000: 100%|██████████| 1000/1000 [01:06<00:00, 14.94chunks/s]\n",
      "Analysing chunks 4700000: 100%|██████████| 1000/1000 [01:33<00:00, 10.73chunks/s]\n",
      "Analysing chunks 4800000: 100%|██████████| 1000/1000 [01:25<00:00, 11.70chunks/s]\n",
      "Analysing chunks 4900000: 100%|██████████| 1000/1000 [01:34<00:00, 10.54chunks/s]\n",
      "Analysing chunks 500000: 100%|██████████| 1000/1000 [01:15<00:00, 13.18chunks/s]\n",
      "Analysing chunks 5000000: 100%|██████████| 1000/1000 [01:47<00:00,  9.30chunks/s]\n",
      "Analysing chunks 5100000: 100%|██████████| 1000/1000 [01:47<00:00,  9.33chunks/s]\n",
      "Analysing chunks 5200000: 100%|██████████| 1000/1000 [01:47<00:00,  9.30chunks/s]\n",
      "Analysing chunks 5300000: 100%|██████████| 1000/1000 [01:38<00:00, 10.14chunks/s]\n",
      "Analysing chunks 5400000: 100%|██████████| 1000/1000 [01:52<00:00,  8.88chunks/s]\n",
      "Analysing chunks 5500000: 100%|██████████| 1000/1000 [01:49<00:00,  9.17chunks/s]\n",
      "Analysing chunks 5600000: 100%|██████████| 1000/1000 [01:44<00:00,  9.59chunks/s]\n",
      "Analysing chunks 5700000: 100%|██████████| 1000/1000 [01:50<00:00,  9.07chunks/s]\n",
      "Analysing chunks 5800000: 100%|██████████| 1000/1000 [01:50<00:00,  9.03chunks/s]\n",
      "Analysing chunks 5900000: 100%|██████████| 1000/1000 [01:52<00:00,  8.86chunks/s]\n",
      "Analysing chunks 600000:  31%|███       | 310/1000 [00:17<01:12,  9.51chunks/s]"
     ]
    },
    {
     "name": "stdout",
     "output_type": "stream",
     "text": [
      "OMG, we detected more than 2 tracks in the event. How exciting! \n",
      "This never happened before, so look into that. \n",
      " \n",
      "               Alternatively, it is a bug, which is less exciting :(\n"
     ]
    },
    {
     "name": "stderr",
     "output_type": "stream",
     "text": [
      "Analysing chunks 600000: 100%|██████████| 1000/1000 [01:07<00:00, 14.71chunks/s]\n",
      "Analysing chunks 6000000: 100%|██████████| 1000/1000 [01:46<00:00,  9.43chunks/s]\n",
      "Analysing chunks 6100000: 100%|██████████| 1000/1000 [01:16<00:00, 13.06chunks/s]\n",
      "Analysing chunks 6200000: 100%|██████████| 1000/1000 [01:54<00:00,  8.73chunks/s]\n",
      "Analysing chunks 6300000: 100%|██████████| 1000/1000 [02:00<00:00,  8.29chunks/s]\n",
      "Analysing chunks 6400000: 100%|██████████| 1000/1000 [01:51<00:00,  8.95chunks/s]\n",
      "Analysing chunks 6500000:  97%|█████████▋| 972/1000 [01:47<00:04,  6.50chunks/s]"
     ]
    },
    {
     "name": "stdout",
     "output_type": "stream",
     "text": [
      "OMG, we detected more than 2 tracks in the event. How exciting! \n",
      "This never happened before, so look into that. \n",
      " \n",
      "               Alternatively, it is a bug, which is less exciting :(\n"
     ]
    },
    {
     "name": "stderr",
     "output_type": "stream",
     "text": [
      "Analysing chunks 6500000: 100%|██████████| 1000/1000 [01:52<00:00,  8.90chunks/s]\n",
      "Analysing chunks 6600000: 100%|██████████| 1000/1000 [01:31<00:00, 10.93chunks/s]\n",
      "Analysing chunks 6700000:  94%|█████████▍| 940/1000 [01:25<00:01, 30.47chunks/s]"
     ]
    },
    {
     "name": "stdout",
     "output_type": "stream",
     "text": [
      "OMG, we detected more than 2 tracks in the event. How exciting! \n",
      "This never happened before, so look into that. \n",
      " \n",
      "               Alternatively, it is a bug, which is less exciting :(\n"
     ]
    },
    {
     "name": "stderr",
     "output_type": "stream",
     "text": [
      "Analysing chunks 6700000: 100%|██████████| 1000/1000 [01:29<00:00, 11.12chunks/s]\n",
      "Analysing chunks 6800000: 100%|██████████| 1000/1000 [01:28<00:00, 11.24chunks/s]\n",
      "Analysing chunks 6900000:   8%|▊         | 78/1000 [00:05<00:28, 31.99chunks/s]"
     ]
    },
    {
     "name": "stdout",
     "output_type": "stream",
     "text": [
      "OMG, we detected more than 2 tracks in the event. How exciting! \n",
      "This never happened before, so look into that. \n",
      " \n",
      "               Alternatively, it is a bug, which is less exciting :(\n"
     ]
    },
    {
     "name": "stderr",
     "output_type": "stream",
     "text": [
      "Analysing chunks 6900000: 100%|██████████| 1000/1000 [01:44<00:00,  9.58chunks/s]\n",
      "Analysing chunks 700000: 100%|██████████| 1000/1000 [01:03<00:00, 15.65chunks/s]\n",
      "Analysing chunks 7000000: 100%|██████████| 1000/1000 [01:43<00:00,  9.64chunks/s]\n",
      "Analysing chunks 7100000: 100%|██████████| 1000/1000 [01:28<00:00, 11.27chunks/s]\n",
      "Analysing chunks 7200000: 100%|██████████| 1000/1000 [01:44<00:00,  9.60chunks/s]\n",
      "Analysing chunks 7300000: 100%|██████████| 1000/1000 [01:02<00:00, 16.11chunks/s]\n",
      "Analysing chunks 7400000: 100%|██████████| 1000/1000 [01:20<00:00, 12.37chunks/s]\n",
      "Analysing chunks 7500000: 100%|██████████| 1000/1000 [01:07<00:00, 14.76chunks/s]\n",
      "Analysing chunks 7600000: 100%|██████████| 1000/1000 [01:24<00:00, 11.79chunks/s]\n",
      "Analysing chunks 7700000: 100%|██████████| 1000/1000 [01:10<00:00, 14.20chunks/s]\n",
      "Analysing chunks 7800000: 100%|██████████| 1000/1000 [01:10<00:00, 14.12chunks/s]\n",
      "Analysing chunks 7900000: 100%|██████████| 1000/1000 [01:04<00:00, 15.60chunks/s]\n",
      "Analysing chunks 800000: 100%|██████████| 1000/1000 [01:07<00:00, 14.89chunks/s]\n",
      "Analysing chunks 8000000: 100%|██████████| 1000/1000 [01:18<00:00, 12.69chunks/s]\n",
      "Analysing chunks 8100000: 100%|██████████| 1000/1000 [01:09<00:00, 14.31chunks/s]\n",
      "Analysing chunks 8200000: 100%|██████████| 1000/1000 [00:54<00:00, 18.44chunks/s]\n",
      "Analysing chunks 8300000: 100%|██████████| 1000/1000 [00:50<00:00, 19.64chunks/s]\n",
      "Analysing chunks 8400000: 100%|██████████| 1000/1000 [00:51<00:00, 19.61chunks/s]\n",
      "Analysing chunks 8500000: 100%|██████████| 1000/1000 [00:59<00:00, 16.71chunks/s]\n",
      "Analysing chunks 8600000: 100%|██████████| 1000/1000 [01:09<00:00, 14.49chunks/s]\n",
      "Analysing chunks 8700000: 100%|██████████| 1000/1000 [01:06<00:00, 15.14chunks/s]\n",
      "Analysing chunks 8800000: 100%|██████████| 1000/1000 [01:00<00:00, 16.55chunks/s]\n",
      "Analysing chunks 8900000: 100%|██████████| 1000/1000 [01:13<00:00, 13.59chunks/s]\n",
      "Analysing chunks 900000: 100%|██████████| 1000/1000 [01:24<00:00, 11.80chunks/s]\n",
      "Analysing chunks 9000000: 100%|██████████| 1000/1000 [01:04<00:00, 15.56chunks/s]\n",
      "Analysing chunks 9100000: 100%|██████████| 1000/1000 [01:12<00:00, 13.72chunks/s]\n",
      "Analysing chunks 9200000: 100%|██████████| 1000/1000 [01:02<00:00, 15.95chunks/s]\n",
      "Analysing chunks 9300000: 100%|██████████| 1000/1000 [01:00<00:00, 16.57chunks/s]\n",
      "Analysing chunks 9400000: 100%|██████████| 1000/1000 [01:17<00:00, 12.97chunks/s]\n",
      "Analysing chunks 9500000: 100%|██████████| 1000/1000 [01:06<00:00, 15.10chunks/s]\n",
      "Analysing chunks 9600000: 100%|██████████| 1000/1000 [01:00<00:00, 16.52chunks/s]\n",
      "Analysing chunks 9700000: 100%|██████████| 1000/1000 [01:11<00:00, 13.97chunks/s]\n",
      "Analysing chunks 9800000: 100%|██████████| 1000/1000 [01:05<00:00, 15.31chunks/s]\n",
      "Analysing chunks 9900000: 100%|██████████| 1000/1000 [01:17<00:00, 12.88chunks/s]\n"
     ]
    }
   ],
   "source": [
    "importlib.reload(RTools)\n",
    "\n",
    "\n",
    "\n",
    "#all the files in the directory\n",
    "files = os.listdir(dir + \"chunks//\")\n",
    "file_id = 0\n",
    "interesting_events = []\n",
    "super_interesting = []\n",
    "while file_id < len(files):\n",
    "    with open(dir+\"chunks//\"+files[file_id], \"rb\") as f:\n",
    "        chunks = pickle.load(f)\n",
    "    with tqdm(total=len(chunks), desc=f\"Analysing chunks {str(files[file_id])[:-4]}\", unit='chunks') as pbar:\n",
    "        reconstructor = RTools.Reconstructor()\n",
    "        for id, chunk in enumerate(chunks):    \n",
    "            chunk_tracks = reconstructor.reconstruct_tracks(chunk)\n",
    "            for evt_num, event_tracks in enumerate(chunk_tracks):\n",
    "                if event_tracks and isinstance(event_tracks[0], RTools.Vertex):\n",
    "                    interesting_events.append(chunk[event_tracks[0].event_num])\n",
    "                if len(event_tracks) > 2:\n",
    "                    super_interesting.append(chunk[event_tracks[0].event_num])\n",
    "            reconstructor.tracks = []\n",
    "            pbar.update(1)\n",
    "    file_id += 1\n",
    "\n",
    "with open(dir+\"vertices.pkl\", \"wb\") as f:\n",
    "    pickle.dump(interesting_events, f)\n",
    "\n"
   ]
  },
  {
   "cell_type": "code",
   "execution_count": 142,
   "metadata": {},
   "outputs": [
    {
     "name": "stderr",
     "output_type": "stream",
     "text": [
      "C:\\/Users//jony//Programming//Python//Anubis//anubis//tools\\Reconstruction_tools.py:553: RuntimeWarning: divide by zero encountered in divide\n",
      "  a_parameter = np.cross(cb - ca + normal*closest_distance, b)/np.cross(a,b) #parameters look good\n",
      "C:\\/Users//jony//Programming//Python//Anubis//anubis//tools\\Reconstruction_tools.py:553: RuntimeWarning: invalid value encountered in divide\n",
      "  a_parameter = np.cross(cb - ca + normal*closest_distance, b)/np.cross(a,b) #parameters look good\n"
     ]
    },
    {
     "ename": "KeyboardInterrupt",
     "evalue": "",
     "output_type": "error",
     "traceback": [
      "\u001b[1;31m---------------------------------------------------------------------------\u001b[0m",
      "\u001b[1;31mKeyboardInterrupt\u001b[0m                         Traceback (most recent call last)",
      "Cell \u001b[1;32mIn[142], line 6\u001b[0m\n\u001b[0;32m      4\u001b[0m \u001b[38;5;28;01mfor\u001b[39;00m i, event \u001b[38;5;129;01min\u001b[39;00m \u001b[38;5;28menumerate\u001b[39m(interesting_events):\n\u001b[0;32m      5\u001b[0m     reconstructor \u001b[38;5;241m=\u001b[39m RTools\u001b[38;5;241m.\u001b[39mReconstructor()\n\u001b[1;32m----> 6\u001b[0m     tracks \u001b[38;5;241m=\u001b[39m \u001b[43mreconstructor\u001b[49m\u001b[38;5;241;43m.\u001b[39;49m\u001b[43mreconstruct_tracks\u001b[49m\u001b[43m(\u001b[49m\u001b[43m[\u001b[49m\u001b[43mevent\u001b[49m\u001b[43m]\u001b[49m\u001b[43m)\u001b[49m[\u001b[38;5;241m0\u001b[39m]\n\u001b[0;32m      7\u001b[0m     \u001b[38;5;28;01mif\u001b[39;00m tracks:\n\u001b[0;32m      8\u001b[0m         track \u001b[38;5;241m=\u001b[39m tracks[\u001b[38;5;241m0\u001b[39m] \n",
      "File \u001b[1;32mC:\\/Users//jony//Programming//Python//Anubis//anubis//tools\\Reconstruction_tools.py:416\u001b[0m, in \u001b[0;36mReconstructor.reconstruct_tracks\u001b[1;34m(self, chunk)\u001b[0m\n\u001b[0;32m    414\u001b[0m \u001b[38;5;28mself\u001b[39m\u001b[38;5;241m.\u001b[39mclusters \u001b[38;5;241m=\u001b[39m \u001b[38;5;28mself\u001b[39m\u001b[38;5;241m.\u001b[39mcluster()\n\u001b[0;32m    415\u001b[0m \u001b[38;5;28;01mfor\u001b[39;00m evt_num, event_clusters \u001b[38;5;129;01min\u001b[39;00m \u001b[38;5;28menumerate\u001b[39m(\u001b[38;5;28mself\u001b[39m\u001b[38;5;241m.\u001b[39mclusters):\n\u001b[1;32m--> 416\u001b[0m     tracks \u001b[38;5;241m=\u001b[39m \u001b[43mfind_best_track\u001b[49m\u001b[43m(\u001b[49m\u001b[43mevent_clusters\u001b[49m\u001b[43m)\u001b[49m\n\u001b[0;32m    417\u001b[0m     \u001b[38;5;28mself\u001b[39m\u001b[38;5;241m.\u001b[39mtracks\u001b[38;5;241m.\u001b[39mappend(tracks) \u001b[38;5;66;03m#inlcude event number\u001b[39;00m\n\u001b[0;32m    418\u001b[0m \u001b[38;5;28;01mreturn\u001b[39;00m \u001b[38;5;28mself\u001b[39m\u001b[38;5;241m.\u001b[39mtracks\n",
      "File \u001b[1;32mC:\\/Users//jony//Programming//Python//Anubis//anubis//tools\\Reconstruction_tools.py:511\u001b[0m, in \u001b[0;36mfind_best_track\u001b[1;34m(event_clusters, RPC_excluded)\u001b[0m\n\u001b[0;32m    509\u001b[0m     winner \u001b[38;5;241m=\u001b[39m Vertex(flatten_clusters, \u001b[38;5;28;01mFalse\u001b[39;00m)\n\u001b[0;32m    510\u001b[0m     winner\u001b[38;5;241m.\u001b[39mfinal \u001b[38;5;241m=\u001b[39m winners\n\u001b[1;32m--> 511\u001b[0m     \u001b[43mwinner\u001b[49m\u001b[38;5;241;43m.\u001b[39;49m\u001b[43mfit\u001b[49m\u001b[43m(\u001b[49m\u001b[43m)\u001b[49m\n\u001b[0;32m    512\u001b[0m     winners \u001b[38;5;241m=\u001b[39m [winner]\n\u001b[0;32m    513\u001b[0m \u001b[38;5;28;01mif\u001b[39;00m \u001b[38;5;28mlen\u001b[39m(winners) \u001b[38;5;241m>\u001b[39m \u001b[38;5;241m2\u001b[39m:\n",
      "File \u001b[1;32mC:\\/Users//jony//Programming//Python//Anubis//anubis//tools\\Reconstruction_tools.py:203\u001b[0m, in \u001b[0;36mVertex.fit\u001b[1;34m(self)\u001b[0m\n\u001b[0;32m    201\u001b[0m \u001b[38;5;28mself\u001b[39m\u001b[38;5;241m.\u001b[39mcalculate_chi2()\n\u001b[0;32m    202\u001b[0m \u001b[38;5;28;01mif\u001b[39;00m \u001b[38;5;28mself\u001b[39m\u001b[38;5;241m.\u001b[39mapproach \u001b[38;5;241m>\u001b[39m \u001b[38;5;241m100\u001b[39m: \u001b[38;5;66;03m#is it far away?\u001b[39;00m\n\u001b[1;32m--> 203\u001b[0m     \u001b[38;5;28;01mreturn\u001b[39;00m \u001b[38;5;28;43mself\u001b[39;49m\u001b[38;5;241;43m.\u001b[39;49m\u001b[43moptimise\u001b[49m\u001b[43m(\u001b[49m\u001b[43m)\u001b[49m\n\u001b[0;32m    205\u001b[0m \u001b[38;5;28;01mif\u001b[39;00m \u001b[38;5;28mself\u001b[39m\u001b[38;5;241m.\u001b[39mpoint[\u001b[38;5;241m2\u001b[39m] \u001b[38;5;241m>\u001b[39m RPC_heights[\u001b[38;5;241m3\u001b[39m]: \u001b[38;5;66;03m#is it above singlet?\u001b[39;00m\n\u001b[0;32m    206\u001b[0m     \u001b[38;5;28;01mreturn\u001b[39;00m \u001b[38;5;28;01mFalse\u001b[39;00m\n",
      "File \u001b[1;32mC:\\/Users//jony//Programming//Python//Anubis//anubis//tools\\Reconstruction_tools.py:241\u001b[0m, in \u001b[0;36mVertex.optimise\u001b[1;34m(self)\u001b[0m\n\u001b[0;32m    239\u001b[0m best_parameters \u001b[38;5;241m=\u001b[39m initial_parameters\n\u001b[0;32m    240\u001b[0m \u001b[38;5;28;01mfor\u001b[39;00m i \u001b[38;5;129;01min\u001b[39;00m \u001b[38;5;28mrange\u001b[39m(\u001b[38;5;241m10\u001b[39m):\n\u001b[1;32m--> 241\u001b[0m     parameters \u001b[38;5;241m=\u001b[39m \u001b[43mminimize\u001b[49m\u001b[43m(\u001b[49m\u001b[43mf\u001b[49m\u001b[43m,\u001b[49m\u001b[43m \u001b[49m\u001b[43mx0\u001b[49m\u001b[38;5;241;43m=\u001b[39;49m\u001b[43minitial_parameters\u001b[49m\u001b[43m,\u001b[49m\u001b[43m \u001b[49m\u001b[43mmethod\u001b[49m\u001b[38;5;241;43m=\u001b[39;49m\u001b[38;5;124;43m\"\u001b[39;49m\u001b[38;5;124;43mNelder-Mead\u001b[39;49m\u001b[38;5;124;43m\"\u001b[39;49m\u001b[43m)\u001b[49m\u001b[38;5;241m.\u001b[39mx\n\u001b[0;32m    242\u001b[0m     score \u001b[38;5;241m=\u001b[39m loss_function(coordinates, parameters)\n\u001b[0;32m    243\u001b[0m     \u001b[38;5;28;01mif\u001b[39;00m score \u001b[38;5;241m<\u001b[39m best_score:\n",
      "File \u001b[1;32mc:\\Users\\jony\\Programming\\Python\\Anubis\\anubis\\.venv\\lib\\site-packages\\scipy\\optimize\\_minimize.py:719\u001b[0m, in \u001b[0;36mminimize\u001b[1;34m(fun, x0, args, method, jac, hess, hessp, bounds, constraints, tol, callback, options)\u001b[0m\n\u001b[0;32m    716\u001b[0m callback \u001b[38;5;241m=\u001b[39m _wrap_callback(callback, meth)\n\u001b[0;32m    718\u001b[0m \u001b[38;5;28;01mif\u001b[39;00m meth \u001b[38;5;241m==\u001b[39m \u001b[38;5;124m'\u001b[39m\u001b[38;5;124mnelder-mead\u001b[39m\u001b[38;5;124m'\u001b[39m:\n\u001b[1;32m--> 719\u001b[0m     res \u001b[38;5;241m=\u001b[39m _minimize_neldermead(fun, x0, args, callback, bounds\u001b[38;5;241m=\u001b[39mbounds,\n\u001b[0;32m    720\u001b[0m                                \u001b[38;5;241m*\u001b[39m\u001b[38;5;241m*\u001b[39moptions)\n\u001b[0;32m    721\u001b[0m \u001b[38;5;28;01melif\u001b[39;00m meth \u001b[38;5;241m==\u001b[39m \u001b[38;5;124m'\u001b[39m\u001b[38;5;124mpowell\u001b[39m\u001b[38;5;124m'\u001b[39m:\n\u001b[0;32m    722\u001b[0m     res \u001b[38;5;241m=\u001b[39m _minimize_powell(fun, x0, args, callback, bounds, \u001b[38;5;241m*\u001b[39m\u001b[38;5;241m*\u001b[39moptions)\n",
      "File \u001b[1;32mc:\\Users\\jony\\Programming\\Python\\Anubis\\anubis\\.venv\\lib\\site-packages\\scipy\\optimize\\_optimize.py:900\u001b[0m, in \u001b[0;36m_minimize_neldermead\u001b[1;34m(func, x0, args, callback, maxiter, maxfev, disp, return_all, initial_simplex, xatol, fatol, adaptive, bounds, **unknown_options)\u001b[0m\n\u001b[0;32m    898\u001b[0m ind \u001b[38;5;241m=\u001b[39m np\u001b[38;5;241m.\u001b[39margsort(fsim)\n\u001b[0;32m    899\u001b[0m sim \u001b[38;5;241m=\u001b[39m np\u001b[38;5;241m.\u001b[39mtake(sim, ind, \u001b[38;5;241m0\u001b[39m)\n\u001b[1;32m--> 900\u001b[0m fsim \u001b[38;5;241m=\u001b[39m \u001b[43mnp\u001b[49m\u001b[38;5;241;43m.\u001b[39;49m\u001b[43mtake\u001b[49m\u001b[43m(\u001b[49m\u001b[43mfsim\u001b[49m\u001b[43m,\u001b[49m\u001b[43m \u001b[49m\u001b[43mind\u001b[49m\u001b[43m,\u001b[49m\u001b[43m \u001b[49m\u001b[38;5;241;43m0\u001b[39;49m\u001b[43m)\u001b[49m\n\u001b[0;32m    901\u001b[0m \u001b[38;5;28;01mif\u001b[39;00m retall:\n\u001b[0;32m    902\u001b[0m     allvecs\u001b[38;5;241m.\u001b[39mappend(sim[\u001b[38;5;241m0\u001b[39m])\n",
      "File \u001b[1;32mc:\\Users\\jony\\Programming\\Python\\Anubis\\anubis\\.venv\\lib\\site-packages\\numpy\\_core\\fromnumeric.py:206\u001b[0m, in \u001b[0;36mtake\u001b[1;34m(a, indices, axis, out, mode)\u001b[0m\n\u001b[0;32m    109\u001b[0m \u001b[38;5;129m@array_function_dispatch\u001b[39m(_take_dispatcher)\n\u001b[0;32m    110\u001b[0m \u001b[38;5;28;01mdef\u001b[39;00m \u001b[38;5;21mtake\u001b[39m(a, indices, axis\u001b[38;5;241m=\u001b[39m\u001b[38;5;28;01mNone\u001b[39;00m, out\u001b[38;5;241m=\u001b[39m\u001b[38;5;28;01mNone\u001b[39;00m, mode\u001b[38;5;241m=\u001b[39m\u001b[38;5;124m'\u001b[39m\u001b[38;5;124mraise\u001b[39m\u001b[38;5;124m'\u001b[39m):\n\u001b[0;32m    111\u001b[0m \u001b[38;5;250m    \u001b[39m\u001b[38;5;124;03m\"\"\"\u001b[39;00m\n\u001b[0;32m    112\u001b[0m \u001b[38;5;124;03m    Take elements from an array along an axis.\u001b[39;00m\n\u001b[0;32m    113\u001b[0m \n\u001b[1;32m   (...)\u001b[0m\n\u001b[0;32m    204\u001b[0m \u001b[38;5;124;03m           [5, 7]])\u001b[39;00m\n\u001b[0;32m    205\u001b[0m \u001b[38;5;124;03m    \"\"\"\u001b[39;00m\n\u001b[1;32m--> 206\u001b[0m     \u001b[38;5;28;01mreturn\u001b[39;00m \u001b[43m_wrapfunc\u001b[49m\u001b[43m(\u001b[49m\u001b[43ma\u001b[49m\u001b[43m,\u001b[49m\u001b[43m \u001b[49m\u001b[38;5;124;43m'\u001b[39;49m\u001b[38;5;124;43mtake\u001b[39;49m\u001b[38;5;124;43m'\u001b[39;49m\u001b[43m,\u001b[49m\u001b[43m \u001b[49m\u001b[43mindices\u001b[49m\u001b[43m,\u001b[49m\u001b[43m \u001b[49m\u001b[43maxis\u001b[49m\u001b[38;5;241;43m=\u001b[39;49m\u001b[43maxis\u001b[49m\u001b[43m,\u001b[49m\u001b[43m \u001b[49m\u001b[43mout\u001b[49m\u001b[38;5;241;43m=\u001b[39;49m\u001b[43mout\u001b[49m\u001b[43m,\u001b[49m\u001b[43m \u001b[49m\u001b[43mmode\u001b[49m\u001b[38;5;241;43m=\u001b[39;49m\u001b[43mmode\u001b[49m\u001b[43m)\u001b[49m\n",
      "File \u001b[1;32mc:\\Users\\jony\\Programming\\Python\\Anubis\\anubis\\.venv\\lib\\site-packages\\numpy\\_core\\fromnumeric.py:57\u001b[0m, in \u001b[0;36m_wrapfunc\u001b[1;34m(obj, method, *args, **kwds)\u001b[0m\n\u001b[0;32m     54\u001b[0m     \u001b[38;5;28;01mreturn\u001b[39;00m _wrapit(obj, method, \u001b[38;5;241m*\u001b[39margs, \u001b[38;5;241m*\u001b[39m\u001b[38;5;241m*\u001b[39mkwds)\n\u001b[0;32m     56\u001b[0m \u001b[38;5;28;01mtry\u001b[39;00m:\n\u001b[1;32m---> 57\u001b[0m     \u001b[38;5;28;01mreturn\u001b[39;00m bound(\u001b[38;5;241m*\u001b[39margs, \u001b[38;5;241m*\u001b[39m\u001b[38;5;241m*\u001b[39mkwds)\n\u001b[0;32m     58\u001b[0m \u001b[38;5;28;01mexcept\u001b[39;00m \u001b[38;5;167;01mTypeError\u001b[39;00m:\n\u001b[0;32m     59\u001b[0m     \u001b[38;5;66;03m# A TypeError occurs if the object does have such a method in its\u001b[39;00m\n\u001b[0;32m     60\u001b[0m     \u001b[38;5;66;03m# class, but its signature is not identical to that of NumPy's. This\u001b[39;00m\n\u001b[1;32m   (...)\u001b[0m\n\u001b[0;32m     64\u001b[0m     \u001b[38;5;66;03m# Call _wrapit from within the except clause to ensure a potential\u001b[39;00m\n\u001b[0;32m     65\u001b[0m     \u001b[38;5;66;03m# exception has a traceback chain.\u001b[39;00m\n\u001b[0;32m     66\u001b[0m     \u001b[38;5;28;01mreturn\u001b[39;00m _wrapit(obj, method, \u001b[38;5;241m*\u001b[39margs, \u001b[38;5;241m*\u001b[39m\u001b[38;5;241m*\u001b[39mkwds)\n",
      "\u001b[1;31mKeyboardInterrupt\u001b[0m: "
     ]
    }
   ],
   "source": [
    "#visualisation\n",
    "importlib.reload(VTools)\n",
    "importlib.reload(RTools)\n",
    "for i, event in enumerate(interesting_events):\n",
    "    reconstructor = RTools.Reconstructor()\n",
    "    tracks = reconstructor.reconstruct_tracks([event])[0]\n",
    "    if tracks:\n",
    "        track = tracks[0] \n",
    "        if isinstance(track, RTools.Vertex):\n",
    "            if track.inside:\n",
    "                print(max(np.dot(track.initial.direction[1:],track.final[0].direction[1:]),np.dot(track.initial.direction[1:],track.final[1].direction[1:])))\n",
    "                if max(np.dot(track.initial.direction[1:],track.final[0].direction[1:]),np.dot(track.initial.direction[1:],track.final[1].direction[1:])) > 0.9:\n",
    "                    VTools.event_3d_plot(event, f\"Large opening angle event {i}\")\n",
    "    "
   ]
  },
  {
   "cell_type": "code",
   "execution_count": 110,
   "metadata": {},
   "outputs": [],
   "source": [
    "with open(dir+\"supervertices.pkl\", \"wb\") as f:\n",
    "    pickle.dump(super_interesting, f)\n"
   ]
  },
  {
   "cell_type": "code",
   "execution_count": 111,
   "metadata": {},
   "outputs": [],
   "source": [
    "with open(dir+\"supervertices.pkl\", \"rb\") as f:\n",
    "    super_interesting = pickle.load(f)"
   ]
  },
  {
   "cell_type": "code",
   "execution_count": 112,
   "metadata": {},
   "outputs": [
    {
     "name": "stdout",
     "output_type": "stream",
     "text": [
      "5\n"
     ]
    }
   ],
   "source": [
    "print(len(super_interesting))"
   ]
  },
  {
   "cell_type": "code",
   "execution_count": 132,
   "metadata": {},
   "outputs": [
    {
     "name": "stderr",
     "output_type": "stream",
     "text": [
      "Analysing interesting events:   0%|          | 0/2362 [00:00<?, ?events/s]"
     ]
    },
    {
     "name": "stderr",
     "output_type": "stream",
     "text": [
      "Analysing interesting events:  12%|█▏        | 287/2362 [05:50<45:29,  1.32s/events]  C:\\/Users//jony//Programming//Python//Anubis//anubis//tools\\Reconstruction_tools.py:553: RuntimeWarning: divide by zero encountered in divide\n",
      "  a_parameter = np.cross(cb - ca + normal*closest_distance, b)/np.cross(a,b) #parameters look good\n",
      "Analysing interesting events: 100%|██████████| 2362/2362 [45:58<00:00,  1.17s/events] \n"
     ]
    }
   ],
   "source": [
    "importlib.reload(RTools)\n",
    "track_time_diff = []\n",
    "opening_angles = []\n",
    "phi_angle = []\n",
    "z = []\n",
    "with tqdm(total=len(interesting_events), desc=\"Analysing interesting events\", unit='events') as pbar:\n",
    "    for event in interesting_events:\n",
    "        reconstructor = RTools.Reconstructor()\n",
    "        tracks = reconstructor.reconstruct_tracks([event])[0]\n",
    "        if tracks:\n",
    "            track = tracks[0] \n",
    "        if isinstance(track, RTools.Vertex):\n",
    "            if track.opening_angle != None and track.point[2] > 0:\n",
    "                track_time_diff.append(abs(track.final[0].centroid[0] - track.final[1].centroid[0]))\n",
    "                phi_angle.append(track.angles[1])\n",
    "                opening_angles.append(track.opening_angle)\n",
    "                z.append(track.point[2])\n",
    "        pbar.update(1)"
   ]
  },
  {
   "cell_type": "code",
   "execution_count": 96,
   "metadata": {},
   "outputs": [],
   "source": [
    "fake_z = [np.log10(abs(coord), ) for coord in z]\n",
    "hist, xedges, yedges = np.histogram2d(opening_angles, fake_z, bins=20)\n",
    "xpos, ypos = np.meshgrid(xedges[:-1] + 0.5 * (xedges[1] - xedges[0]),\n",
    "                         yedges[1:] + 0.5 * (yedges[1] - yedges[0]),\n",
    "                         indexing=\"ij\")\n",
    "\n",
    "# Initialize the 3D plot\n",
    "fig = plt.figure()\n",
    "ax = fig.add_subplot(111, projection='3d')\n",
    "\n",
    "# Plot the surface\n",
    "ax.plot_surface(xpos, ypos, hist, cmap='plasma')\n",
    "\n",
    "# Set labels \n",
    "ax.set_title('Opening angle vs z histogram')\n",
    "ax.set_xlabel('opening angle / rad')\n",
    "ax.set_ylabel('log(z/cm)')\n",
    "ax.set_zlabel('Count')\n",
    "\n",
    "# Set limits\n",
    "plt.show()\n"
   ]
  },
  {
   "cell_type": "code",
   "execution_count": 89,
   "metadata": {},
   "outputs": [],
   "source": [
    "prep = [abs(angle) for angle in phi_angle]\n",
    "hist, bins = np.histogram(prep, bins = 10)\n",
    "plt.xlim(0, np.pi)\n",
    "plt.plot(bins[:-1], hist, drawstyle = \"steps-mid\")\n",
    "plt.xlabel(r\"$\\phi$ angle\")\n",
    "plt.ylabel(\"Counts\")\n",
    "plt.title(\"Histogram of vertices over $\\phi$ angle\")\n",
    "plt.show()"
   ]
  },
  {
   "cell_type": "code",
   "execution_count": 133,
   "metadata": {},
   "outputs": [],
   "source": [
    "plt.scatter(phi_angle, opening_angles)\n",
    "plt.xlabel(\"Phi angle\")\n",
    "plt.ylabel(\"opening angle\")\n",
    "plt.title(\"Opening angle vs Phi angle\")\n",
    "plt.xlim(-np.pi, np.pi)\n",
    "plt.show()"
   ]
  },
  {
   "cell_type": "code",
   "execution_count": 134,
   "metadata": {},
   "outputs": [],
   "source": [
    "preparation = [angle for angle in opening_angles if angle != None]\n",
    "plt.scatter(z, preparation, label=\"measured vertices\")\n",
    "distance_per_phi_channel = 2.7625 #cm\n",
    "distance_per_eta_channel = 2.9844 #cm\n",
    "possible_values = [round(64*distance_per_phi_channel, 1), round(32*distance_per_eta_channel, 1)]\n",
    "labels = [\"Dimension along phi\", \"Dimension along eta\"]\n",
    "for value in possible_values:\n",
    "    plt.plot(-np.arange(0.1, 2000, 0.1), 2*np.arctan(value/(2*np.arange(0.1, 2000, 0.1))), linestyle='-', label=f\"{value} cm - {labels[possible_values.index(value)]}\")\n",
    "plt.plot(-np.arange(0.1, 2000, 0.1), 2*np.arctan(round(64*distance_per_phi_channel, 1)/(2*(np.arange(0.1, 2000, 0.1)+60))), linestyle='-', label=f\"Hits singlet\")\n",
    "plt.plot(-np.arange(0.1, 2000, 0.1), 2*np.arctan(round(64*distance_per_phi_channel, 1)/(2*(np.arange(0.1, 2000, 0.1)+120))), linestyle='-', color = \"green\", label=f\"Hits doublet\")\n",
    "\n",
    "plt.xlabel(\"z [cm]\")\n",
    "plt.axvline(0, color='black', linestyle='--')\n",
    "plt.ylabel(\"Opening angle [rad]\")\n",
    "plt.title(\"Opening angle vs z-coordinate\")\n",
    "plt.ylim(0, np.pi)\n",
    "plt.xlim(-2000, 100)\n",
    "plt.gca().invert_xaxis()\n",
    "\n",
    "plt.legend()\n",
    "plt.show()"
   ]
  },
  {
   "cell_type": "code",
   "execution_count": 120,
   "metadata": {},
   "outputs": [
    {
     "name": "stdout",
     "output_type": "stream",
     "text": [
      "[np.float64(0.1422798704432651), np.float64(0.1870891388737996), np.float64(0.0790706237361735), np.float64(0.3605768256812202), np.float64(0.794963740601358), np.float64(0.03766432833728877), np.float64(0.06686574564545116), np.float64(0.2542662102277884), np.float64(0.14503967613228255), np.float64(0.3940216383073465), np.float64(0.6880601143552373), np.float64(0.043794155289877325), np.float64(0.22623267464661936), np.float64(0.4966298127044908), np.float64(0.03615802053406107), np.float64(0.906724248367546), np.float64(0.27257849612373014), np.float64(0.40168469347189034), np.float64(0.3700073590790577), np.float64(0.13311329961366775), np.float64(0.34820366825741206), np.float64(0.09156653879327097), np.float64(0.345427243067899), np.float64(0.1808089416192593), np.float64(0.196896897732799), np.float64(0.06818373666409132), np.float64(0.06699009690987816), np.float64(0.04135218161030789), np.float64(0.13879690243251236), np.float64(0.6021042693315715), np.float64(0.5659794108278823), np.float64(1.0364278255049906), np.float64(3.036818320454686), np.float64(0.35827920309692884), np.float64(0.38720435920981844), np.float64(0.09501851148371737), np.float64(0.4626935106670635), np.float64(2.9463235444218028), np.float64(0.3580112868476414), np.float64(0.32783836269355715), np.float64(0.18426518221075658), np.float64(0.1385723890857028), np.float64(0.09758506249362198), np.float64(0.23816610380264253), np.float64(0.14104334308360134), np.float64(0.4671249678038094), np.float64(0.18413215205404831), np.float64(0.5173165980344476), np.float64(0.6631028206849123), np.float64(0.0300496438966292), np.float64(1.1582387245042676), np.float64(0.3119329863341364), np.float64(0.10871036582125061), np.float64(0.18433835765842002), np.float64(0.010833315888645449), np.float64(0.14089958870730065), np.float64(0.7387516953001179), np.float64(0.4983155362046728), np.float64(0.12299383837820134), np.float64(0.34884929475889254), np.float64(0.3525831803571822), np.float64(0.2951617927456635), np.float64(0.13427189241844062), np.float64(0.13563764892356894), np.float64(0.5832205540372144), np.float64(0.417919598463874), np.float64(2.7764350099082638), np.float64(0.20228271957293556), np.float64(0.13794788986525927), np.float64(0.5085637866245473), np.float64(0.31261229022809955), np.float64(0.09940708905247664), np.float64(0.756723798070756), np.float64(0.5305282637924454), np.float64(0.0781173234514386), np.float64(0.35354303864221653), np.float64(0.6115214171600766), np.float64(0.4439483011854762), np.float64(0.8054492475582987), np.float64(0.5551588128028304), np.float64(0.22980804215910552), np.float64(0.04911838056702783), np.float64(1.0964396005340484), np.float64(0.4286048158614597), np.float64(0.16653871051010927), np.float64(0.04092989805289852), np.float64(0.48796442982044347), np.float64(0.1781749488357025), np.float64(0.12325414111458642), np.float64(3.0442109863618896), np.float64(0.10055773092856976), np.float64(0.1579717218548596), np.float64(0.4435388307424676), np.float64(0.1432515363233829), np.float64(0.5757314520793262), np.float64(0.05912799483145311), np.float64(0.5069417830315976), np.float64(0.42291245344379347), np.float64(0.22455613649326192), np.float64(0.3398498852637419), np.float64(0.9053126186448688), np.float64(0.6459311465333499), np.float64(2.2254352490079414), np.float64(0.6179002591420336), np.float64(0.3085849504895813), np.float64(0.21067242742624775), np.float64(0.19516220864455888), np.float64(0.08710110372173785), np.float64(0.3367252506955471), np.float64(0.3617613999739174), np.float64(0.479031099933695), np.float64(0.6142791611177666), np.float64(0.06438155802877257), np.float64(0.2125745899075703), np.float64(0.06868942035981665), np.float64(0.47742453277586594), np.float64(0.12506353628689476), np.float64(0.15643929804331944), np.float64(0.10415667880831878), np.float64(0.0667113472005244), np.float64(0.2733321479503714), np.float64(0.04379266411338), np.float64(0.11660961409524012), np.float64(0.23606582638801296), np.float64(0.1593351454941999), np.float64(0.21574965555590703), np.float64(0.7571143829222979), np.float64(0.0841875588684406), np.float64(2.8221867442038793), np.float64(0.2364435704306701), np.float64(0.2577674371247288), np.float64(0.4051960181577335), np.float64(0.26747756601128514), np.float64(0.1071980137142133), np.float64(0.41644684401227045), np.float64(0.1817016008409475), np.float64(2.412645960128536), np.float64(0.2598121381612882), np.float64(0.028706135022891606), np.float64(0.9286063984050567), np.float64(0.3273633550759222), np.float64(0.5058430425960817), np.float64(2.7540113222255007), np.float64(0.20559299765513675), np.float64(2.8208484349108387), np.float64(0.7124380296343185), np.float64(0.2684816187589408), np.float64(0.2667025383671359), np.float64(0.3990361959547522), np.float64(0.14935377108627132), np.float64(0.1404452651091463), np.float64(0.07381817840680352), np.float64(1.0549899076812705), np.float64(0.22179671539843598), np.float64(0.08103212464956101), np.float64(2.5327756614221135), np.float64(0.03507087384290027), np.float64(0.2094859080222626), np.float64(0.25291571938344337), np.float64(0.5248906078887865), np.float64(0.13425225767546692), np.float64(0.07961406267193645), np.float64(0.6964406671081329), np.float64(0.713436775253808), np.float64(0.15481548871108516), np.float64(0.024436768905857588), np.float64(0.7803693979671452), np.float64(0.05385843971729253), np.float64(0.5977055200477317), np.float64(0.09880460358533309), np.float64(0.15570418205055014), np.float64(0.21719317772288566), np.float64(0.3734275985087208), np.float64(0.30105634089567684), np.float64(0.6551899497448951), np.float64(0.01926020015800415), np.float64(0.2247762439989042), np.float64(0.049196262000680495), np.float64(0.1837775062376878), np.float64(0.19812603210757448), np.float64(2.94556602835093), np.float64(0.9937807889737358), np.float64(0.8096964259211004), np.float64(0.042602235786936525), np.float64(0.10394781626589127), np.float64(0.1409191284459372), np.float64(0.03479647157141507), np.float64(0.029969022689949165), np.float64(0.23081583242517062), np.float64(0.6112000772196292), np.float64(0.6807677325737418), np.float64(0.2994970188832677), np.float64(0.2420764636450195), np.float64(0.17438320039751967), np.float64(0.22610097992424621), np.float64(0.12136778931680525), np.float64(0.21662028401838393), np.float64(0.46526776694022953), np.float64(0.02396633665067092), np.float64(0.36775580832198707), np.float64(1.0200582414693407), np.float64(0.15802653304292716), np.float64(0.45614827441346295), np.float64(0.7274787193554828), np.float64(0.12676546511912318), np.float64(2.4122075619053853), np.float64(0.16944027204209874), np.float64(0.19940230476959825), np.float64(0.34564129076391187), np.float64(0.11717681363523641), np.float64(0.6554899356165907), np.float64(0.04695555502252839), np.float64(0.12465669591375944), np.float64(0.25119511094876223), np.float64(0.2564884532260929), np.float64(0.019129530379773507), np.float64(0.025204026047067805), np.float64(0.5482283619161975), np.float64(0.09093542423751452), np.float64(0.3350865311252211), np.float64(0.6456799562342161), np.float64(0.036940185977011056), np.float64(0.7521823937868023), np.float64(0.26076988211873414), np.float64(0.2896477685937956), np.float64(0.16201031088264542), np.float64(0.7197180582772543), np.float64(0.4623176235233457), np.float64(0.03564896069692869), np.float64(0.7463464449097276), np.float64(0.30452568825645815), np.float64(0.4838092592948109), np.float64(0.82229298015856), np.float64(0.7521935207534253), np.float64(0.5516748355189933), np.float64(0.39967567913951246), np.float64(0.1248671119029953), np.float64(0.3347522516255032), np.float64(0.23255319703181082), np.float64(0.3440694878148909), np.float64(0.6707956668598223), np.float64(0.19216283888054328), np.float64(0.03168688769311284), np.float64(2.669159975366954), np.float64(0.8861198084046389), np.float64(0.2326487341373682), np.float64(0.11825551360491775), np.float64(0.48908104661426693), np.float64(1.58688160566393), np.float64(0.2312252077718793), np.float64(0.09781811458016396), np.float64(0.3629063520918684), np.float64(0.5796823931188466), np.float64(0.43579605227754314), np.float64(0.6344589082252997), np.float64(0.1186002504315576), np.float64(0.18969428072092037), np.float64(0.22878207549579374), np.float64(0.3147260027272411), np.float64(0.11081337416700848), np.float64(0.23272325462858723), np.float64(0.19269206143956968), np.float64(1.2719108696303383), np.float64(0.7253079387579046), np.float64(0.9091676719949109), np.float64(0.22905636326545828), np.float64(0.09419474351401595), np.float64(0.09707453111258835), np.float64(0.1776748200778802), np.float64(0.2914834898702428), np.float64(0.251197774792437), np.float64(0.09264451163020039), np.float64(0.43480856535874796), np.float64(0.08574254954419999), np.float64(0.09911854198455465), np.float64(0.18822621742736154), np.float64(0.40215797928848246), np.float64(0.12587737991695214), np.float64(0.34782792423012787), np.float64(0.06475577774187384), np.float64(0.19711374746262872), np.float64(0.20608361652376775), np.float64(0.5985987163871754), np.float64(2.892944645446119), np.float64(0.5131092598221133), np.float64(0.7310979064415303), np.float64(0.3892403592466756), np.float64(0.052351850328124575), np.float64(0.05248856388070036), np.float64(0.20744041296419852), np.float64(0.23231650831380724), np.float64(0.17634048321383017), np.float64(0.1676588686229631), np.float64(0.09533939086221524), np.float64(0.12774584696009716), np.float64(0.5518299404034889), np.float64(0.3727159882397746), np.float64(0.42066501030096076), np.float64(0.4173744469892902), np.float64(0.24785358503233976), np.float64(0.6445992091313323), np.float64(0.10136801388623595), np.float64(0.25996406742608263), np.float64(0.1066230647595058), np.float64(0.21695975096179426), np.float64(0.45654940381036085), np.float64(0.25460244058892656), np.float64(0.7816994520950639), np.float64(0.7573003204636991), np.float64(0.2752933220750223), np.float64(0.8356871630846928), np.float64(0.022230969995212513), np.float64(0.1334086968494917), np.float64(0.1862846462416785), np.float64(0.3008234316707567), np.float64(0.15428511389547014), np.float64(0.2268033042462592), np.float64(0.22760820123363587), np.float64(0.22566958457009367), np.float64(0.45254065943369937), np.float64(0.8224911716339662), np.float64(0.12780967267440424), np.float64(0.5252126315419231), np.float64(0.06725434226826082), np.float64(0.12936681974082587), np.float64(0.36861435652455815), np.float64(0.2974983087628071), np.float64(0.13237583610163428), np.float64(0.11742189153649227), np.float64(0.9102718408927537), np.float64(0.3350693556026505), np.float64(0.16959544266907545), np.float64(0.19319886666805583), np.float64(0.08938876456043847), np.float64(2.9627033498577706), np.float64(0.22087229699632493), np.float64(0.10030908774859183), np.float64(0.4208996907641981), np.float64(0.3932894544685493), np.float64(0.42791231030212623), np.float64(0.30300860713933536), np.float64(0.09935210890556774), np.float64(0.26999466474392725), np.float64(0.1406395301787645), np.float64(0.28316908395175555), np.float64(0.11927833241566316), np.float64(0.21129538910608495), np.float64(0.38272669162616335), np.float64(0.07806406561538129), np.float64(0.5083855319174889), np.float64(0.1872378012961422), np.float64(0.05850659160682825), np.float64(0.35487240770192957), np.float64(0.33905836673424217), np.float64(2.6878924575833714), np.float64(0.13853132230562362), np.float64(0.3263801675145185), np.float64(2.925315710523651), np.float64(0.3587037400406931), np.float64(2.5088119889344034), np.float64(0.09767103086608184), np.float64(0.10536064321821947), np.float64(0.38157799609161996), np.float64(0.27361373890280427), np.float64(0.4142521189002922), np.float64(0.5999386663968654), np.float64(0.06199005959774838), np.float64(0.28737275677821206), np.float64(0.5227722427372629), np.float64(0.8687808888614407), np.float64(0.19624145643355492), np.float64(0.06120037520463256), np.float64(0.5528216035409084), np.float64(0.3733949588168309), np.float64(0.3308058918517869), np.float64(0.4411087070078941), np.float64(0.7672354977368248), np.float64(0.861143777334034), np.float64(0.15873901303570695), np.float64(0.4997099088787411), np.float64(0.2016315844109647), np.float64(2.908591962874591), np.float64(0.4311660441199688), np.float64(0.18595427903939088), np.float64(0.07810600748648018), np.float64(0.07834557710084598), np.float64(0.12568609984492443), np.float64(0.21990550997998304), np.float64(0.6213345655449038), np.float64(0.752799975110789), np.float64(0.2395744903618689), np.float64(0.33428771793009937), np.float64(0.5153761818199956), np.float64(0.07927666936418265), np.float64(2.4233471798784088), np.float64(0.9629538716886493), np.float64(0.19281585748064622), np.float64(0.07181927525818715), np.float64(0.1168458335775783), np.float64(0.17392180286110123), np.float64(0.5018650874782741), np.float64(0.49528347759951563), np.float64(0.12771160942711118), np.float64(0.2998047798684921), np.float64(1.212279572276558), np.float64(0.1928454087173541), np.float64(0.09677086244294515), np.float64(0.16178324230369032), np.float64(0.09056026901011784), np.float64(0.06220612565294524), np.float64(0.32097214108394523), np.float64(2.8176657653157116), np.float64(0.06806973144300453), np.float64(0.13780162872064255), np.float64(0.08502674925087765), np.float64(0.6138266515473443), np.float64(0.1986476126093908), np.float64(0.10245600271013473), np.float64(0.39803768216385677), np.float64(0.5075786625466931), np.float64(0.14816499198371855), np.float64(0.15000129077015817), np.float64(0.07658988676912613), np.float64(0.42923249214940007), np.float64(0.898235410096689), np.float64(0.07936837895440842), np.float64(0.12481605268179441), np.float64(0.10109577231420236), np.float64(0.1291337670641474), np.float64(0.3005690612709235), np.float64(3.090030080326941), np.float64(0.4302261456420322), np.float64(0.5428176572101012), np.float64(0.05921232364403242), np.float64(0.2283893465857825), np.float64(0.2941044386640693), np.float64(0.11375461724738659), np.float64(0.20276492998649082), np.float64(0.20612204866053907), np.float64(0.33462211890414206), np.float64(0.43059597765604035), np.float64(0.032241706936898415), np.float64(0.5883283767376498), np.float64(0.15431479920811675), np.float64(0.1402667219775501), np.float64(0.41565922692170443), np.float64(0.17987487285794182), np.float64(0.20601984659273917), np.float64(0.34056390076907095), np.float64(0.3547959180554018), np.float64(0.3390801340088459), np.float64(0.16880796599138498), np.float64(0.19657100448777753), np.float64(0.03075466850353595), np.float64(0.6018737265038735), np.float64(0.31390396039859175), np.float64(0.1901945051310388), np.float64(0.4671379840237581), np.float64(0.17371343106654386), np.float64(0.2936111307002549), np.float64(3.07707907132462), np.float64(0.023167310274604593), np.float64(0.1230782029376345), np.float64(0.0960726791097331), np.float64(0.768720233225548), np.float64(0.3283762089739583), np.float64(0.19049284304296232), np.float64(0.11478335808782833), np.float64(0.19705928906479564), np.float64(0.7188869017160933), np.float64(0.30027372192434937), np.float64(0.2024190539294544), np.float64(0.02927543652070809), np.float64(0.3087074801866787), np.float64(0.23306444726279668), np.float64(0.5742331035979633), np.float64(0.09230565456784434), np.float64(0.09016455139112045), np.float64(0.4904267822705987), np.float64(0.09165591893702828), np.float64(0.24008705070561154), np.float64(1.1114462293128544), np.float64(0.6202052975907263), np.float64(0.0720413299318397), np.float64(0.023733230848428453), np.float64(0.3358209558046047), np.float64(0.35291593046790787), np.float64(0.4488089300206109), np.float64(0.1416607524865796), np.float64(0.2619625452327063), np.float64(0.17391612320187136), np.float64(2.9529866728557277), np.float64(0.3950319348275231), np.float64(0.7111780132259117), np.float64(0.300370923107272), np.float64(0.04931956849591812), np.float64(0.22969066008086086), np.float64(0.2882398171947148), np.float64(0.2726030552982333), np.float64(0.7408959920928011), np.float64(0.42271437532964046), np.float64(0.12618256562100752), np.float64(0.2382931565404271), np.float64(3.0643035939449055), np.float64(0.0947128308420104), np.float64(0.3268700631392185), np.float64(0.6675120329087821), np.float64(0.42634498106053453), np.float64(0.4198914662891183), np.float64(0.2800932220586513), np.float64(0.10920184469485782), np.float64(0.12464305555915144), np.float64(2.317729770122322), np.float64(0.07223310921202092), np.float64(0.6989078478083462), np.float64(0.18315873314549727), np.float64(2.9240592550940994), np.float64(0.4293756920903193), np.float64(0.24705481237205745), np.float64(0.11138264189941355), np.float64(0.17059398020534128), np.float64(0.4208695499094283), np.float64(0.18968217890061756), np.float64(0.30414199055436114), np.float64(3.0804544148029294), np.float64(0.5061594780426507), np.float64(0.07597988062011611), np.float64(0.16975350278950257), np.float64(2.901790608409757), np.float64(2.6452837287998663), np.float64(0.1801798471466901), np.float64(0.0418496855689054), np.float64(0.12110872978797334), np.float64(0.4862236408174588), np.float64(3.0374044352061107), np.float64(0.21995103246666142), np.float64(0.4436230872802017), np.float64(0.1277961538884174), np.float64(0.07655290494784295), np.float64(0.17560442037734303), np.float64(1.2862661593939733), np.float64(3.0232560674435303), np.float64(0.1684403551266956), np.float64(0.06267423177536716), np.float64(2.62592611477751), np.float64(0.22778068166357612), np.float64(0.4845701958629758), np.float64(0.19835802036658567), np.float64(0.44665005793111223), np.float64(2.8688807704188117), np.float64(0.05752292789929285), np.float64(0.9071717937918943), np.float64(2.7500925109135754), np.float64(2.9209729556220814), np.float64(0.2624692258849397), np.float64(2.3884949187073126), np.float64(0.41610635009124575), np.float64(0.2543517125293313), np.float64(0.30928638542725273), np.float64(0.07876906109125184), np.float64(0.17906475506323832), np.float64(0.12200480134075334), np.float64(0.101653637663505), np.float64(0.13228480492224937), np.float64(0.22062301017924918), np.float64(0.24718325683455625), np.float64(0.3098704925819067), np.float64(0.08055837301842371), np.float64(0.4243976983377191), np.float64(0.531149636992384), np.float64(0.5577423732760324), np.float64(0.9684893207673794), np.float64(0.6787240893014991), np.float64(0.03583057640532317), np.float64(0.17406036347236165), np.float64(2.586274880205262), np.float64(0.4859979956032889), np.float64(0.2418837522221953), np.float64(0.1637009174801234), np.float64(0.055412272834794996), np.float64(0.37062539923156335), np.float64(0.3796704593083884), np.float64(2.621611750296886), np.float64(0.8767085843638227), np.float64(0.27530548928118104), np.float64(0.20665093162308482), np.float64(0.3476057173755773), np.float64(0.23570516240437284), np.float64(0.6279771568372738), np.float64(0.11870198762372075), np.float64(0.16902933710551227), np.float64(0.03210756816432312), np.float64(0.30634445267496396), np.float64(0.08868154820501524), np.float64(0.13754180661011403), np.float64(0.12690933435813054), np.float64(0.10083077372602278), np.float64(2.597041562036768), np.float64(0.49699565449855404), np.float64(0.4509776319299312), np.float64(0.045444922809250554), np.float64(0.601734945746207), np.float64(2.8182280099259502), np.float64(0.2554302341816629), np.float64(0.19261644853878795), np.float64(0.07538970775781496), np.float64(0.12865117767605197), np.float64(0.19116044749100272), np.float64(0.09091112464280267), np.float64(2.3432902521502648), np.float64(2.6238333985982965), np.float64(0.09188317140592049), np.float64(0.08305677124760706), np.float64(0.09559788346552585), np.float64(0.029455689667411928), np.float64(0.39915935547865244), np.float64(2.932288608517065), np.float64(0.04750937503636645), np.float64(0.18961428159556504), np.float64(0.23158511795209052), np.float64(0.3354053798819576), np.float64(0.2899690504401639), np.float64(0.023454623853940273), np.float64(0.04852052750419057), np.float64(0.6550877579277684), np.float64(0.3678707353960075), np.float64(0.35591425391842846), np.float64(0.3521208146897649), np.float64(0.21916452047998855), np.float64(2.806482254072878), np.float64(0.13409370306767632), np.float64(0.1563853553809382), np.float64(0.4091943601794225), np.float64(0.09603828147273268), np.float64(0.24194645541262), np.float64(2.374392031859432), np.float64(0.35591425391842846), np.float64(0.3521208146897649), np.float64(0.21916452047998855), np.float64(2.806482254072878), np.float64(0.06578547892889901), np.float64(0.1563852896744162), np.float64(0.3701940261649179), np.float64(0.20488705456899414), np.float64(0.20483434727897298), np.float64(0.4403882785953869), np.float64(0.1805042686098203), np.float64(0.3188020955695672), np.float64(0.8590443961227199), np.float64(0.07807505038109161), np.float64(0.1719633397856914), np.float64(0.4458191293525755), np.float64(0.4541352316990928), np.float64(0.17618566107388395), np.float64(0.35691708097105695), np.float64(0.27975107862654314), np.float64(0.30035910129836185), np.float64(0.29813916215123976), np.float64(0.7204890325505842), np.float64(0.36335712100435363), np.float64(0.021087746563217134), np.float64(0.053346423867480126), np.float64(0.10451598534001014), np.float64(0.7345119726380921), np.float64(0.07985457642475825), np.float64(0.5690828488594475), np.float64(0.17987789275602248), np.float64(0.3206880046840645), np.float64(0.3654008001433238), np.float64(0.07720152483895151), np.float64(0.04863684563745622), np.float64(0.19851617392106122), np.float64(2.8160935859083462), np.float64(0.23604456349744674), np.float64(0.1829080532675805), np.float64(0.08794965224306187), np.float64(0.13298348467438714), np.float64(0.3848910580614555), np.float64(0.5658310688619302), np.float64(0.21191518690313235), np.float64(0.4895970375891247), np.float64(0.26676521241248274), np.float64(0.3763467048795678), np.float64(0.253002462793562), np.float64(0.3291867458613637), np.float64(0.044695437983576024), np.float64(0.35917071109616727), np.float64(0.05020985554333148), np.float64(0.1381902708361434), np.float64(0.4561236234828341), np.float64(0.0002785798528788348), np.float64(0.04657483042964703), np.float64(0.14693122068980546), np.float64(0.11565415626842077), np.float64(0.050978249779965644), np.float64(0.5579739449551145), np.float64(0.12474043143821853), np.float64(0.13654855724680146), np.float64(0.521847846852662), np.float64(0.06024623818068897), np.float64(0.14616591777393842), np.float64(0.16439836737304309), np.float64(2.8133777548439927), np.float64(0.036129525474787184), np.float64(0.00474330023438874), np.float64(0.033219020387101124), np.float64(0.15603428056557025), np.float64(0.3862610575794486), np.float64(0.1070167489323873), np.float64(0.10605359997586875), np.float64(0.11341733572206836), np.float64(0.36583511883046343), np.float64(0.11045767266487551), np.float64(0.09743099136298669), np.float64(0.24698632348624142), np.float64(0.004489852259155377), np.float64(0.38363096235280353), np.float64(0.08175439766799274), np.float64(0.3657697374984401), np.float64(0.4079387690913944), np.float64(0.2445935652304626), np.float64(0.08970192793231664), np.float64(0.03769619800399858), np.float64(0.10500768913671134), np.float64(0.04846683061402677), np.float64(0.3078592126203942), np.float64(0.41475293461196805), np.float64(0.10879710436194542), np.float64(0.08138972465140167), np.float64(0.050338896502474584), np.float64(0.4644393887419227), np.float64(0.08388387749546808), np.float64(0.13655151711046712), np.float64(0.21170236277475857), np.float64(0.42771727510052754), np.float64(0.030270941053794444), np.float64(0.06529246589609487), np.float64(2.747975024768168), np.float64(0.49013195572474777), np.float64(0.1789564954512227), np.float64(0.23258938778826915), np.float64(0.10789453420309329), np.float64(0.16735075178745792), np.float64(0.22881392305423034), np.float64(0.20567730739619294), np.float64(0.16836514528914467), np.float64(0.3350406988098115), np.float64(0.37546357451413914), np.float64(0.2740613301100511), np.float64(0.03313032166222665), np.float64(0.3105431554131456), np.float64(0.5541589597007716), np.float64(0.5203224305672005), np.float64(2.6767354350112647), np.float64(1.0946780199225206), np.float64(0.3579516575362907), np.float64(0.1824939234145726), np.float64(0.1699464067992674), np.float64(0.44461305099783244), np.float64(2.087876090693187), np.float64(0.07066121691553023), np.float64(0.5435202365454828), np.float64(0.32461211408787044), np.float64(0.46291764534491625), np.float64(0.8560824239635978), np.float64(0.4953477028324509), np.float64(1.2260410515261926), np.float64(1.360057748056514), np.float64(0.39333767571990774), np.float64(0.5153100123042643), np.float64(0.657528073082195), np.float64(0.16919420243423486), np.float64(0.2971913848865515), np.float64(0.6788716314832094), np.float64(0.19525692222952076), np.float64(0.5755725880866532), np.float64(0.07051647042226367), np.float64(0.37099534343841123), np.float64(0.312376940301528), np.float64(0.326184401394851), np.float64(2.3200536644078698), np.float64(0.5695760643258428), np.float64(0.3209015566774403), np.float64(0.5928467988547073), np.float64(0.5396496104812036), np.float64(0.8851158159854606), np.float64(0.8225267710547124), np.float64(0.458698779429939), np.float64(0.8874940746808405), np.float64(0.20307039832400986), np.float64(0.0981672755852412), np.float64(0.5474281741832638), np.float64(0.2711877754991739), np.float64(0.05546777760193487), np.float64(0.3910305284476845), np.float64(0.1955578823289665), np.float64(0.1311739230771582), np.float64(0.2579240112288788), np.float64(0.05325002302179786), np.float64(0.15373428721746665), np.float64(0.1657481527006882), np.float64(0.05071771382096383), np.float64(0.5866276726850174), np.float64(0.3414247617339487), np.float64(0.5045615658002653), np.float64(0.11861732709730555), np.float64(0.671879092559573), np.float64(0.33716270551182176), np.float64(0.6991072446923323), np.float64(0.5308490918726404), np.float64(0.07019664498311771), np.float64(0.18551064164492886), np.float64(0.13876690337872097), np.float64(0.13542397604985648), np.float64(0.6346338003986196), np.float64(0.6569685702012985), np.float64(0.12318063403253286), np.float64(0.028385740580669214), np.float64(0.019796671231807547), np.float64(0.8127769859167346), np.float64(0.5170271760493305), np.float64(0.22278160520495044), np.float64(0.15107500644951188), np.float64(3.093057533942897), np.float64(0.19686111858048766), np.float64(0.7010599527348111), np.float64(0.27764400193918065), np.float64(0.8025179791103384), np.float64(0.341516057558096), np.float64(0.26031272910978537), np.float64(0.499935737196137), np.float64(0.27327846314100834), np.float64(0.2044992735020151), np.float64(0.06463341068307395), np.float64(0.23149485356885868), np.float64(0.2744159323960231), np.float64(0.447637469919684), np.float64(0.21173167456508898), np.float64(0.17984079233725453), np.float64(0.13471481687926118), np.float64(0.8077003449613194), np.float64(0.6390670234266884), np.float64(0.3160682065466806), np.float64(0.03539552776244222), np.float64(2.9427135693473523), np.float64(0.02340984105075907), np.float64(0.19930983266252336), np.float64(0.6464312761677831), np.float64(2.759267109262346), np.float64(0.025368784821252755), np.float64(0.40224409650650605), np.float64(0.0783425673335989), np.float64(0.7618802503799565), np.float64(0.8884400012027471), np.float64(0.1251539049620686), np.float64(0.633811291851467), np.float64(0.2198076639993699), np.float64(0.029573773161319775), np.float64(0.17050055130032488), np.float64(0.5679722456846641), np.float64(0.6876633280132848), np.float64(0.04925493765366955), np.float64(0.1035619217417849), np.float64(0.8375255488033849), np.float64(0.8056222014787104), np.float64(0.2728071092422176), np.float64(0.12042620955788035), np.float64(0.17908581292753653), np.float64(0.026273718741623136), np.float64(0.2416696039262286), np.float64(0.06882378958123793), np.float64(0.2947046905788359), np.float64(2.9152089480804433), np.float64(2.351755584808231), np.float64(0.7823035223009993), np.float64(0.07050383774211012), np.float64(0.6462583833413172), np.float64(0.9598231303405017), np.float64(0.24752928999971371), np.float64(2.3018725217822955), np.float64(0.6008759715850058), np.float64(0.10681580797721195), np.float64(0.5887091802381648), np.float64(0.015295436268903282), np.float64(0.07192646179696459), np.float64(0.16404665413043498), np.float64(0.17597654931453185), np.float64(0.06741379156830861), np.float64(0.48788030870111154), np.float64(0.07936784560968003), np.float64(2.570264322368204), np.float64(0.5594219865463734), np.float64(0.21821678587825458), np.float64(0.19747134160074514), np.float64(0.3812707036842198), np.float64(0.9800378217987167), np.float64(0.026850196592098953), np.float64(0.1903714119642602), np.float64(0.2939773243559723), np.float64(0.4369669963444842), np.float64(0.321122152050943), np.float64(0.23009626857844906), np.float64(2.960287002945214), np.float64(0.19306091338740122), np.float64(0.514359152591849), np.float64(0.3898155016202678), np.float64(0.6488810642610017), np.float64(0.910260481411264), np.float64(0.4768627437362472), np.float64(0.4147772600739863), np.float64(0.19723796833817056), np.float64(0.09382322287533129), np.float64(0.4632167837954929), np.float64(0.6248120166589807)]\n"
     ]
    }
   ],
   "source": [
    "hist, bins = np.histogram(track_time_diff, bins = 40, range=(0,10))\n",
    "plt.plot(bins[:-1], hist, drawstyle='steps-post')\n",
    "plt.title(\"Time difference between final tracks\")\n",
    "plt.xlabel(\"Time difference [(25/32) ns]\")\n",
    "plt.ylabel(\"Counts per one million events\")\n",
    "plt.xlim(0,10)\n",
    "plt.show()\n",
    "prep_z = []\n",
    "print(opening_angles)\n",
    "for i, alpha in enumerate(opening_angles):\n",
    "    if alpha < 2.0:\n",
    "        prep_z.append(np.log10(abs(z[i])))\n",
    "hist, bins = np.histogram(prep_z, bins = 20)\n",
    "plt.title(r\"Distribution of z values for $\\alpha < 0.1$ rad\")\n",
    "plt.xlabel(\"log10(z/cm)\")\n",
    "plt.ylabel(\"Counts\")\n",
    "plt.plot(bins[:-1], hist)\n",
    "plt.show()\n",
    "\n",
    "\n",
    "preparation = [angle*180/np.pi for angle in opening_angles if angle != None]\n",
    "hist, bins = np.histogram(preparation, bins = 50)\n",
    "plt.plot(bins[:-1], hist, drawstyle='steps-post')\n",
    "plt.title(\"Opening angle between final tracks\")\n",
    "plt.xlabel(\"Opening angle between tracks [degrees]\")\n",
    "plt.ylabel(\"Counts per ten million events\")\n",
    "plt.show()\n"
   ]
  },
  {
   "cell_type": "code",
   "execution_count": 31,
   "metadata": {},
   "outputs": [],
   "source": [
    "#3d scatter plot\n",
    "\n",
    "plane_parameterss = np.array(vertices)\n",
    "new_plane_parameterss = np.array([])\n",
    "for i, p in enumerate(points):\n",
    "    if distances[i] < 10:\n",
    "        #rid of these points\n",
    "        new_points = np.append(new_points, p)\n",
    "points = new_points.copy()\n",
    "x  = points[0::3]\n",
    "y  = points[1::3]\n",
    "z  = points[2::3]\n",
    "\n",
    "# Create a 3D scatter plot\n",
    "fig = plt.figure()\n",
    "ax = fig.add_subplot(111, projection='3d')\n",
    "RPC_heights = [0.6, 1.8, 3.0, 61.8, 121.8, 123]\n",
    "distance_per_phi_channel = 2.7625 #cm\n",
    "distance_per_eta_channel = 2.9844 #cm\n",
    "dimensions = [distance_per_phi_channel*64, distance_per_eta_channel*32]\n",
    "xp = np.array([0, dimensions[0]])\n",
    "yp = np.array([0, dimensions[1]])\n",
    "X, Y = np.meshgrid(xp, yp)\n",
    "for rpc_h in RPC_heights[:-1]:\n",
    "    z_plane = np.ones((1, 1))*rpc_h  # Horizontal plane at z = 60\n",
    "    ax.plot_surface(X, Y, z_plane, color='blue', alpha=0.1)\n",
    "z_plane = np.ones((1, 1))*RPC_heights[-1]  # Horizontal plane at z = 60\n",
    "ax.plot_surface(X, Y, z_plane, color='blue', alpha=0.1, label='RPC')\n",
    "# Scatter plot\n",
    "plt.legend()\n",
    "ax.scatter(x, y, z, c='r', marker='o')\n",
    "ax.set_xlim(-50, 200)\n",
    "ax.set_ylim(-150, 150)\n",
    "ax.set_zlim(-600, 130)\n",
    "# Set labels\n",
    "ax.set_title('3D scatter plot of detected verteces')\n",
    "ax.set_xlabel('x / cm')\n",
    "ax.set_ylabel('y / cm')\n",
    "ax.set_zlabel('z / cm')\n",
    "plt.show()"
   ]
  },
  {
   "cell_type": "code",
   "execution_count": 33,
   "metadata": {},
   "outputs": [
    {
     "name": "stdout",
     "output_type": "stream",
     "text": [
      "[np.float64(3.4805051324236387), np.float64(19.6945871604122), np.float64(40.62355025466957), np.float64(10.958866632388004), np.float64(26.06034358695414), np.float64(4.948049313902242), np.float64(33.04471262679503), np.float64(7.38632439812735), np.float64(97.1363524093707), np.float64(4.917385570123033), np.float64(15.063829031388678), np.float64(6.448720098898591), np.float64(55.61242277984004), np.float64(1.6693942937890327), np.float64(7.414559162633307), np.float64(2.738648874616879), np.float64(8.637858455444192), np.float64(26.666778713742268), np.float64(2.7393235545714347), np.float64(42.212226150604685), np.float64(90.72333636545534), np.float64(0.4251272330815681), np.float64(31.194540455401693), np.float64(93.82022829482496), np.float64(33.79403237264069), np.float64(15.061754909007178), np.float64(8.734622417514625), np.float64(31.585381864734273), np.float64(13.616038087287162), np.float64(19.38515413751629), np.float64(13.681000831773265), np.float64(11.611293096509797), np.float64(2.580630676824782), np.float64(31.71476049805035), np.float64(14.970654031471007), np.float64(91.23628263308755), np.float64(37.44095771864778), np.float64(66.02383784284054), np.float64(86.48413298666961), np.float64(14.472558666242346), np.float64(13.109923703100534), np.float64(45.462444888556504), np.float64(26.770443165874703), np.float64(7.4622158064003035), np.float64(8.569186718350972), np.float64(25.838022186956653), np.float64(7.221735280682477), np.float64(9.462801711715294), np.float64(57.44267801700933), np.float64(8.943656298892837), np.float64(33.02002066707404), np.float64(53.826127446626955), np.float64(51.0830748082026), np.float64(46.405669058011554), np.float64(4.491622613554441), np.float64(44.58402792481873), np.float64(85.54699399981045), np.float64(12.691679534955153), np.float64(28.735302052387837), np.float64(59.807155181867856), np.float64(68.61283118421353), np.float64(23.84620572642307), np.float64(8.341768109165963), np.float64(4.653424750614736), np.float64(99.16367795573785), np.float64(4.232748247699156), np.float64(2.1204976273820186), np.float64(34.08961126030282), np.float64(31.75368816265475), np.float64(16.64614268394358), np.float64(11.297116975136209), np.float64(16.2379432626406), np.float64(5.019430437642257), np.float64(59.03562754635735), np.float64(96.85777875488786), np.float64(33.19759334055118), np.float64(4.58010837266931), np.float64(9.496722252622288), np.float64(77.2404540406677), np.float64(27.244153794709437), np.float64(8.979127361977095), np.float64(84.98743208195944), np.float64(4.740687691760545), np.float64(46.62617671413317), np.float64(35.758757726892185), np.float64(12.803948100251809), np.float64(62.94154466560367), np.float64(18.810794129622575), np.float64(24.203004075062182), np.float64(1.7591826684426177), np.float64(52.4583192170079), np.float64(12.879029958638995), np.float64(26.261829367716285), np.float64(4.277955804659495), np.float64(21.99891208502998), np.float64(28.594783075524127), np.float64(42.11530207134066), np.float64(76.34460029207597), np.float64(7.994343504446515), np.float64(9.190337864032792), np.float64(5.073069187435041), np.float64(4.35870998733973), np.float64(4.002572898805461), np.float64(25.769722721177846), np.float64(28.650153048716025), np.float64(18.416477088158437), np.float64(80.23416782553731), np.float64(9.137272169749384), np.float64(95.13841381772785), np.float64(16.203794874862528), np.float64(4.670089147861285), np.float64(9.214831797883935), np.float64(8.087986718196678), np.float64(59.00542420410544), np.float64(5.029860089057668), np.float64(13.983226495579943), np.float64(64.10160868852256), np.float64(110.38681371105427), np.float64(87.21865851215654), np.float64(68.25030633898872), np.float64(26.83241745948036), np.float64(14.637119964094945), np.float64(21.706984066602114), np.float64(5.5470165136989), np.float64(51.588277561426935), np.float64(4.864054399853944), np.float64(16.604403492824673), np.float64(2.12094497374963), np.float64(7.004585295025728), np.float64(90.84992362751402), np.float64(45.47004352410837), np.float64(55.781478466829995), np.float64(69.79897239930338), np.float64(15.462757226046602), np.float64(11.752529363420159), np.float64(19.95825406113735), np.float64(20.65366124883453), np.float64(12.104881692287902), np.float64(35.439414849434336), np.float64(55.68721522391026), np.float64(21.126157367580216), np.float64(22.00532813314674), np.float64(5.525000000000006), np.float64(100.9209774991044), np.float64(16.688957439916262), np.float64(13.887425528261174), np.float64(0.8067032265194314), np.float64(84.62513809348947), np.float64(11.808305597363573), np.float64(2.9186802829092002), np.float64(37.72610745881731), np.float64(41.977521385737745), np.float64(79.72776717863914), np.float64(8.46588730496059), np.float64(49.959678789009246), np.float64(112.84659980752846), np.float64(115.99882092841435), np.float64(19.46368943059013), np.float64(27.952757382329985), np.float64(4.940129243047949), np.float64(22.261751848479687), np.float64(11.847679183991772), np.float64(1.0439075584170663), np.float64(0.7963010767477862), np.float64(17.267640324790328), np.float64(5.591599662124683), np.float64(93.04056693370214), np.float64(35.55789368968641), np.float64(103.66748379128748), np.float64(27.0373328905298), np.float64(3.9264813810899497), np.float64(4.334942754031282), np.float64(25.633008990110557), np.float64(2.4073117661485526), np.float64(31.31713722013886), np.float64(18.498693043542495), np.float64(53.305122692340944), np.float64(36.556862403764285), np.float64(0.002278408757195649), np.float64(63.801200016105916), np.float64(3.548494614362708), np.float64(12.805400645288149), np.float64(58.87320426871713), np.float64(20.01104853594547), np.float64(64.55567817759602), np.float64(6.981519066687902), np.float64(19.63471953114527), np.float64(70.21604064424993), np.float64(11.357641971663355), np.float64(37.18226093638903), np.float64(15.037096488015925), np.float64(21.654594645511544), np.float64(0.3641436535372726), np.float64(9.689123618300146), np.float64(11.33186427369409), np.float64(28.345420947915922), np.float64(6.8158234050834405), np.float64(6.090101424585358), np.float64(60.657244551661016), np.float64(1.8652435223267045), np.float64(38.066209866288446), np.float64(14.789860773949332), np.float64(2.8809543969154667), np.float64(6.684932477069699), np.float64(5.036849376763506), np.float64(4.30646168242663), np.float64(32.29566174947554), np.float64(122.73462787170175), np.float64(13.165629157782597), np.float64(8.589644076287232), np.float64(5.7639331916092535), np.float64(42.9197755364903), np.float64(17.753906869024597), np.float64(15.440462679924856), np.float64(33.09431244662136), np.float64(56.97019464179115), np.float64(23.310570728775204), np.float64(80.61486429513593), np.float64(23.193279418879577), np.float64(46.91318925033611), np.float64(16.125102817171022), np.float64(17.956488873862334), np.float64(25.368658870381424), np.float64(19.154281533647023), np.float64(53.44797621219139), np.float64(7.752653180394419), np.float64(9.77179604297196), np.float64(80.04641045236835), np.float64(4.597457252753371), np.float64(13.88526543633025), np.float64(3.374045400478259), np.float64(72.13959863294676), np.float64(15.794933944442235), np.float64(17.053545554258726), np.float64(12.109994125823821), np.float64(92.54204004478797), np.float64(36.669697947711576), np.float64(3.47070704332725), np.float64(119.02408368861038), np.float64(20.331552449154), np.float64(16.96564935125618), np.float64(29.92267756836478), np.float64(80.35910169607011), np.float64(15.607237337233917), np.float64(3.970940759237525), np.float64(47.73639425304517), np.float64(5.189437473023627), np.float64(58.008831259006996), np.float64(6.4286315329676835), np.float64(67.9819651060766), np.float64(7.777855468121838), np.float64(49.87657424539922), np.float64(7.59081800519842), np.float64(84.2029533099677), np.float64(36.95303888461636), np.float64(2.522218034631173), np.float64(8.324879932204123), np.float64(21.40221767854552), np.float64(18.212617581247596), np.float64(15.454455612575574), np.float64(12.615546868525541), np.float64(67.47905255966556), np.float64(3.259371312073915), np.float64(64.03633773635768), np.float64(2.211957932883546), np.float64(85.6482837156241), np.float64(12.001502394469702), np.float64(22.60406060805168), np.float64(0.424539034147978), np.float64(73.67440954653335), np.float64(4.872068072259665), np.float64(21.875240759096908), np.float64(42.427504644429845), np.float64(34.73169804501493), np.float64(86.54615975982075), np.float64(23.540269051288966), np.float64(31.981738023594488), np.float64(12.751566313295738), np.float64(7.8300591260380585), np.float64(44.0492595769695), np.float64(2.5850994443370574), np.float64(29.069795844747826), np.float64(17.2765554040774), np.float64(6.655134956604938), np.float64(18.35284164346833), np.float64(7.343988067403389), np.float64(12.142294320598719), np.float64(0.09515984434809438), np.float64(14.322050284970008), np.float64(19.771557479330333), np.float64(52.43344935630227), np.float64(2.502391534041593), np.float64(48.10857252888374), np.float64(9.156811056182521), np.float64(80.92880142217855), np.float64(7.515457187379689), np.float64(46.13476526654053), np.float64(21.931275312478018), np.float64(6.946406073520915), np.float64(16.418907716797), np.float64(16.831868417704083), np.float64(11.288200345627363), np.float64(4.443140100138059), np.float64(67.45543494313952), np.float64(29.635026007299636), np.float64(4.003050221460542), np.float64(84.21621494297638), np.float64(4.104085742499803), np.float64(41.30598581796989), np.float64(35.45948098453642), np.float64(64.29449945246172), np.float64(10.256615226286183), np.float64(10.484078148068349)]\n"
     ]
    }
   ],
   "source": [
    "print(distances)"
   ]
  },
  {
   "cell_type": "code",
   "execution_count": 15,
   "metadata": {},
   "outputs": [],
   "source": [
    "z = []\n",
    "for i, vertex in enumerate(vertices):\n",
    "    if distances[i] < 10:\n",
    "        z.append(abs(vertex[2]))\n",
    "hist, bins = np.histogram(z, range=(0,1000))\n",
    "plt.title(\"Vertex z-coordinate distribution\")\n",
    "plt.xlabel(\"z-coordinate [cm]\")\n",
    "plt.ylabel(\"Counts\")\n",
    "plt.step(bins[:-1], hist, where=\"mid\")\n",
    "plt.show()"
   ]
  },
  {
   "cell_type": "code",
   "execution_count": 16,
   "metadata": {},
   "outputs": [],
   "source": [
    "hist, bins = np.histogram(distances)\n",
    "plt.title(\"Closest distance between tracks\")\n",
    "plt.xlabel(\"Distance [cm]\")\n",
    "plt.ylabel(\"Counts\")\n",
    "plt.step(bins[:-1], hist, where=\"mid\")\n",
    "plt.show()"
   ]
  },
  {
   "cell_type": "code",
   "execution_count": null,
   "metadata": {},
   "outputs": [],
   "source": [
    "importlib.reload(VTools)\n",
    "importlib.reload(RTools)\n",
    "\n",
    "tracks = []\n",
    "files = glob.glob(dir + \"chunks//*\")\n",
    "interesting = [(6, 766, 3),  (7, 890, 75),(9, 56, 46) ]#(0, 223, 92), (2, 796, 6),(4, 810, 45), (6, 348, 43), (6, 759, 60)]\n",
    "for file_id, processedEvents, evt_num in interesting[2:]:\n",
    "    with open(files[file_id], \"rb\") as f:\n",
    "        chunks = pickle.load(f)\n",
    "    reconstructor = RTools.Reconstructor(chunks[0], 0)\n",
    "    reconstructor.tot_mean = tot_mean\n",
    "    reconstructor.tot_std = tot_std\n",
    "    reconstructor.tracks = []\n",
    "    VTools.event_3d_plot(chunks[processedEvents][evt_num], reconstructor, f\"event {(file_id, processedEvents, evt_num)}\")"
   ]
  },
  {
   "cell_type": "code",
   "execution_count": 34,
   "metadata": {},
   "outputs": [
    {
     "name": "stdout",
     "output_type": "stream",
     "text": [
      "[-42.67013516 -42.67013516 -42.67013516]\n",
      "[-42.67013516 -42.67013516 -42.67013516]\n",
      "[ 99.74803065  33.22528422 -18.08087814]\n",
      "[102.69959135  35.19438002 -13.90785517]\n"
     ]
    },
    {
     "data": {
      "text/plain": [
       "(np.float64(5.663621652675622),\n",
       " array([102.69959135,  35.19438002, -13.90785517]))"
      ]
     },
     "execution_count": 34,
     "metadata": {},
     "output_type": "execute_result"
    }
   ],
   "source": [
    "RTools.intersection(tracks[0][0][0], tracks[0][0][1])"
   ]
  },
  {
   "cell_type": "code",
   "execution_count": 27,
   "metadata": {},
   "outputs": [
    {
     "name": "stdout",
     "output_type": "stream",
     "text": [
      "(np.float64(-7.771561172376099e-16), np.float64(4.440892098500625e-16), np.float64(-1.0000000000000004), np.float64(-0.29178735575110126), np.float64(0.6666666666666663), np.float64(-1.4286160832510013), np.float64(0.5657780438072071), np.float64(0.6615903337983926))\n"
     ]
    }
   ],
   "source": [
    "importlib.reload(VTools)\n",
    "importlib.reload(RTools)\n",
    "initial_parameters = np.array([0, 0, -1, 0.3, 0.5, -3., 0.2, 0.4])\n",
    "vertex, initial, finala, finalb = RTools.parametrized_vertex(*initial_parameters)\n",
    "print(RTools.inverse_parametrized_vertex(vertex, initial, finala, finalb))"
   ]
  },
  {
   "cell_type": "code",
   "execution_count": 142,
   "metadata": {},
   "outputs": [
    {
     "name": "stdout",
     "output_type": "stream",
     "text": [
      "Mean 1.0049729763710953\n"
     ]
    }
   ],
   "source": [
    "speeds = []\n",
    "for tracks in reconstructor.tracks:\n",
    "    if tracks:\n",
    "        for track in tracks:\n",
    "            speeds.append(track.speed)\n",
    "print(\"Mean\", np.mean(speeds))\n",
    "hist, bins = np.histogram(speeds, bins=100, density=True)\n",
    "plt.plot(bins[:-1], hist)\n",
    "plt.vlines(np.mean(speeds), 0, max(hist), color=\"red\", label=f\"Mean {np.mean(speeds)} c\")\n",
    "plt.title(\"Speed of tracks\")\n",
    "plt.xlabel(\"Speed [c]\")\n",
    "plt.ylabel(\"Counts\")\n",
    "plt.legend()\n",
    "plt.show()"
   ]
  },
  {
   "cell_type": "code",
   "execution_count": 10,
   "metadata": {},
   "outputs": [
    {
     "name": "stdout",
     "output_type": "stream",
     "text": [
      "[-0.00126397  0.00580352 -0.00012018] [128.32360837  28.80891697  41.28097134] [-0.23910795 -0.07212788 -0.96831036] [-0.46004655 -0.0818867   0.88411071] [0.10731715 0.04394129 0.99325334]\n",
      "[[np.float64(128.3236083666077), np.float64(28.8089169734196), np.float64(41.28097133867841), np.float64(-1.912863596018194), np.float64(-0.5770230678473932), np.float64(-7.746482894978877)], [np.float64(128.3236083666077), np.float64(28.8089169734196), np.float64(41.28097133867841), np.float64(-2.300232736887521), np.float64(-0.409433495717792), np.float64(4.420553536462968)], [np.float64(128.3236083666077), np.float64(28.8089169734196), np.float64(41.28097133867841), np.float64(0.5365857683032684), np.float64(0.2197064441387459), np.float64(4.966266685515216)], [np.int64(0), np.int64(0), np.int64(0), np.float64(-0.001263966887900425), np.float64(0.005803523369960237), np.float64(-0.00012017978035229412)]]\n"
     ]
    },
    {
     "name": "stderr",
     "output_type": "stream",
     "text": [
      "C:\\Users\\jony\\AppData\\Local\\Temp\\ipykernel_5524\\749322500.py:49: UserWarning: No artists with labels found to put in legend.  Note that artists whose label start with an underscore are ignored when legend() is called with no argument.\n",
      "  plt.legend()\n"
     ]
    }
   ],
   "source": [
    "importlib.reload(RTools)\n",
    "coordinates = np.array([[117.40625000000001, 22.383, 0.6], [120.16875, 22.383, 1.8], [120.16875, 22.383, 3.0], [117.40625000000001, 28.3518, 61.8], [128.45625, 40.2894, 61.8], [87.01875000000001, 16.4142, 121.8], [136.74375, 34.3206, 121.8], [87.01875000000001, 16.4142, 123.0], [136.74375, 34.3206, 123.0]])\n",
    "#rid of the first \n",
    "\n",
    "\n",
    "parameters = [-0.001263966887900425, 0.005803523369960237, -0.00012017978035229412, 131.51499734142595, 41.28954098878396, 0.2570759635451864, -0.9084220116473084, -0.1380343212292729]\n",
    "\n",
    "plane_parameters, point, initial, finala, finalb = RTools.parametrized_vertex(*parameters)\n",
    "print(plane_parameters, point, initial, finala, finalb)\n",
    "#plt these vertexes\n",
    "import matplotlib.pyplot as plt\n",
    "from mpl_toolkits.mplot3d import Axes3D\n",
    "import numpy as np\n",
    "\n",
    "vectors_to_plot = []\n",
    "vectors_to_plot.append([*point, *(8*initial)])\n",
    "vectors_to_plot.append([*point, *(5*finala)])\n",
    "vectors_to_plot.append([*point, *(5*finalb)])\n",
    "vectors_to_plot.append([*np.array([0,0,0]), *plane_parameters])\n",
    "\n",
    "print(vectors_to_plot)\n",
    "\n",
    "soa = vectors_to_plot\n",
    "X, Y, Z, U, V, W = zip(*soa)\n",
    "fig = plt.figure()\n",
    "ax = fig.add_subplot(111, projection='3d')\n",
    "ax.quiver(X, Y, Z, U, V, W)\n",
    "ax.set_xlim([-10+point[0], 10+point[0]])\n",
    "ax.set_ylim([-10+point[1], 10+point[1]])\n",
    "ax.set_zlim([-10+point[2], 10+point[2]])\n",
    "#ax.set_zlim([-1, 8])\n",
    "\n",
    "# Plane equation: ax + by + cz = d\n",
    "d = np.dot(plane_parameters, plane_parameters)\n",
    "\n",
    "# Create a grid of points (for the x and y axes)\n",
    "size = 5\n",
    "x_vals = np.linspace(plane_parameters[0] - size, plane_parameters[0] + size, num=20)\n",
    "y_vals = np.linspace(plane_parameters[1] - size, plane_parameters[1] + size, num=20)\n",
    "x_vals, y_vals = np.meshgrid(x_vals, y_vals)\n",
    "\n",
    "# Solve for z in terms of x and y (plane equation: ax + by + cz = d -> z = (d - ax - by) / c)\n",
    "z_vals = (d - plane_parameters[0] * x_vals - plane_parameters[1] * y_vals) / plane_parameters[2]\n",
    "\n",
    "# Plot the plane\n",
    "\n",
    "ax.plot_surface(x_vals, y_vals, z_vals, alpha=0.5, rstride=100, cstride=100)\n",
    "\n",
    "\n",
    "\n",
    "\n",
    "plt.legend()\n",
    "plt.show()"
   ]
  },
  {
   "cell_type": "code",
   "execution_count": 6,
   "metadata": {},
   "outputs": [
    {
     "name": "stdout",
     "output_type": "stream",
     "text": [
      "[-0.001263966887900425, 0.005803523369960237, -0.00012017978035229412, 131.51499734142595, 41.28954098878396, 0.2570759635451864, -0.9084220116473084, -0.1380343212292729]\n"
     ]
    }
   ],
   "source": [
    "importlib.reload(RTools)\n",
    "initial_parametrs = [60, 20, 10, 10, 10, -0.5, -0.2, 4]\n",
    "coordinates = np.array([[117.40625000000001, 22.383, 0.6], [120.16875, 22.383, 1.8], [120.16875, 22.383, 3.0], [117.40625000000001, 28.3518, 61.8], [128.45625, 40.2894, 61.8], [87.01875000000001, 16.4142, 121.8], [136.74375, 34.3206, 121.8], [87.01875000000001, 16.4142, 123.0], [136.74375, 34.3206, 123.0]])\n",
    "from scipy.optimize import minimize \n",
    "f = lambda x: RTools.loss_function(coordinates, x)\n",
    "result = minimize(f, x0=initial_parametrs)\n",
    "print(result.x.tolist())"
   ]
  },
  {
   "cell_type": "code",
   "execution_count": 216,
   "metadata": {},
   "outputs": [
    {
     "name": "stdout",
     "output_type": "stream",
     "text": [
      "Mean 0.25790911824685864\n",
      "sigma -0.5818488944295358\n",
      "Mean 0.06942782469835455\n",
      "sigma -0.5634127422432911\n",
      "Mean 2.17698945272121\n",
      "sigma 2.5044894876283283\n",
      "Mean 6.619902168271083\n",
      "sigma 2.91238011053787\n",
      "Mean 6.199631794023697\n",
      "sigma 2.617768586336547\n",
      "Mean -0.3896962620845962\n",
      "NEw mean -0.2697363551278123\n",
      "sigma -0.8324003178920438\n",
      "Mean 1.3735450496022938\n",
      "NEw mean 2.5197855346759854\n",
      "sigma 2.6400840335445785\n",
      "Mean 5.742252265027096\n",
      "NEw mean 6.490651273404083\n",
      "sigma 3.105839610760191\n",
      "Mean 5.322733387568344\n",
      "NEw mean 6.158851200058061\n",
      "sigma 2.815370589638276\n"
     ]
    }
   ],
   "source": [
    "import scipy.optimize as opt\n",
    "def gauss(x, a, mu, sigma):\n",
    "    return a * np.exp(-(x - mu) ** 2 / (2 * sigma ** 2))\n",
    "\n",
    "pairs = [[0,1], [0,2], [0,3], [0,4], [0,5]]\n",
    "parameters1 = []\n",
    "tof_hist = reconstructor.tof_histogram(pairs)\n",
    "for idx, pair in enumerate(tof_hist):\n",
    "    hist, bins = np.histogram(pair, bins = 50, density=True, range = (-20, 20))\n",
    "    popt, pcov = opt.curve_fit(gauss, bins[:-1], hist, p0=[max(hist), 0, 10])\n",
    "    parameters1.append([popt[1],abs(popt[2])])\n",
    "    plt.plot(bins, gauss(bins, *popt), label = f\"RPC pair {pairs[idx]} fit\")    \n",
    "    print(\"Mean\", popt[1])\n",
    "    print(\"sigma\", popt[2])\n",
    "    plt.plot(bins[:-1], hist, label = f\"RPC pair {pairs[idx]}\")\n",
    "plt.xlabel(\"Time of flight [(25/32) ns]\")\n",
    "plt.ylabel(\"Normalized counts\")\n",
    "plt.title(\"Time of flight distribution\")\n",
    "plt.legend()\n",
    "plt.show()\n",
    "pairs = [[1,2], [1,3], [1,4], [1,5]]\n",
    "parameters2 = []\n",
    "tof_hist = reconstructor.tof_histogram(pairs)\n",
    "for idx, pair in enumerate(tof_hist):\n",
    "    hist, bins = np.histogram(pair, bins = 50, density=True, range = (-20, 20))\n",
    "    popt, pcov = opt.curve_fit(gauss, bins[:-1], hist, p0=[max(hist), 0, 10])\n",
    "    parameters2.append([popt[1], abs(popt[2])])\n",
    "    plt.plot(bins, gauss(bins, *popt), label = f\"RPC pair {pairs[idx]} fit\")    \n",
    "    print(\"Mean\", popt[1])\n",
    "    print(\"NEw mean\", np.mean(pair))\n",
    "    print(\"sigma\", popt[2])\n",
    "    plt.plot(bins[:-1], hist, label = f\"RPC pair {pairs[idx]}\")\n",
    "plt.xlabel(\"Time of flight [(25/32) ns]\")\n",
    "plt.ylabel(\"Normalized counts\")\n",
    "plt.title(\"Time of flight distribution\")\n",
    "plt.legend()\n",
    "plt.show()"
   ]
  },
  {
   "cell_type": "code",
   "execution_count": 210,
   "metadata": {},
   "outputs": [
    {
     "name": "stdout",
     "output_type": "stream",
     "text": [
      "[[np.float64(0.10025691523156223), np.float64(-0.10754441565267893)], [np.float64(0.22740549074801997), np.float64(0.1071276402591709)], [np.float64(0.2125391014614699), np.float64(0.09476314939705265)]]\n"
     ]
    }
   ],
   "source": [
    "#magic numbers\n",
    "good = parameters1[2:]\n",
    "print(good) \n",
    "good = [[np.float64(0.10025691523156223), np.float64(-0.10754441565267893)], [np.float64(0.22740549074801997), np.float64(0.1071276402591709)], [np.float64(0.2125391014614699), np.float64(0.09476314939705265)]]\n"
   ]
  },
  {
   "cell_type": "code",
   "execution_count": 217,
   "metadata": {},
   "outputs": [],
   "source": [
    "plt.plot(range(len(parameters1)+1),[0]+[pair[0] for pair in parameters1], label = \"RPC from RPC 0\", color = \"blue\")\n",
    "plt.errorbar(range(len(parameters1)+1),[0]+[pair[0] for pair in parameters1], yerr = [0]+[abs(pair[1]) for pair in parameters1], fmt = \"o\", color = \"blue\")\n",
    "plt.plot(range(1,len(parameters2)+2),[0]+[pair[0] for pair in parameters2], label = \"RPC from RPC 1\", color = \"orange\")\n",
    "plt.errorbar(range(1,len(parameters2)+2),[0]+[pair[0] for pair in parameters2], yerr = [0]+[abs(pair[1]) for pair in parameters2], fmt = \"o\", color = \"orange\")\n",
    "\n",
    "plt.xlabel(\"RPC pair\")\n",
    "plt.ylabel(\"Time of flight  [(25/32) ns / cm]\")\n",
    "plt.xlim(-1,6)\n",
    "plt.title(\"Time of flight normalized per distance\")\n",
    "plt.legend()\n",
    "plt.hlines(0, -1, 6, color = \"black\", linestyle = \"--\")\n",
    "plt.show()"
   ]
  },
  {
   "cell_type": "code",
   "execution_count": 218,
   "metadata": {},
   "outputs": [
    {
     "name": "stdout",
     "output_type": "stream",
     "text": [
      "[[np.float64(0.25790911824685864), np.float64(0.5818488944295358)], [np.float64(0.06942782469835455), np.float64(0.5634127422432911)], [np.float64(2.17698945272121), np.float64(2.5044894876283283)], [np.float64(6.619902168271083), np.float64(2.91238011053787)], [np.float64(6.199631794023697), np.float64(2.617768586336547)]]\n"
     ]
    }
   ],
   "source": [
    "print(parameters1)\n"
   ]
  },
  {
   "cell_type": "code",
   "execution_count": 18,
   "metadata": {},
   "outputs": [],
   "source": [
    "chi2 = []\n",
    "for event in interesting:\n",
    "    chi2.append(event[2][0].chi2)\n",
    "chi2 = np.array(chi2)\n",
    "hist, bins = np.histogram(chi2, bins=100, range=(0, 20))\n",
    "plt.step(bins[:-1], hist, where='mid')\n",
    "plt.show()"
   ]
  },
  {
   "cell_type": "code",
   "execution_count": 70,
   "metadata": {},
   "outputs": [
    {
     "name": "stdout",
     "output_type": "stream",
     "text": [
      "[[195.3125  103.59375  22.383     1.8    ]\n",
      " [196.09375 103.59375  22.383     3.     ]\n",
      " [197.65625 109.11875  28.3518   61.8    ]\n",
      " [200.      111.88125  34.3206  121.8    ]]\n",
      "[[194.53125 103.59375  22.383     0.6    ]\n",
      " [195.3125  103.59375  22.383     1.8    ]\n",
      " [197.65625 109.11875  28.3518   61.8    ]\n",
      " [200.      111.88125  34.3206  121.8    ]]\n"
     ]
    }
   ],
   "source": [
    "print(interesting[0][2][0].coordinates)\n",
    "print(interesting[0][2][1].coordinates)"
   ]
  },
  {
   "cell_type": "code",
   "execution_count": 48,
   "metadata": {},
   "outputs": [
    {
     "ename": "",
     "evalue": "",
     "output_type": "error",
     "traceback": [
      "\u001b[1;31mThe Kernel crashed while executing code in the current cell or a previous cell. \n",
      "\u001b[1;31mPlease review the code in the cell(s) to identify a possible cause of the failure. \n",
      "\u001b[1;31mClick <a href='https://aka.ms/vscodeJupyterKernelCrash'>here</a> for more info. \n",
      "\u001b[1;31mView Jupyter <a href='command:jupyter.viewOutput'>log</a> for further details."
     ]
    }
   ],
   "source": [
    "hist, bins = np.histogram(reconstructor.cluster_size[0][0], bins = np.arange(0, 64, 1), density = True)\n",
    "plt.step(bins[:-1], hist, label = r\"Clusters corresponding to $-3 < \\frac{\\eta - \\phi}{\\sigma} < 3$\", where='mid')\n",
    "hist, bins = np.histogram(reconstructor.cluster_size[0][1], bins = np.arange(0, 64, 1), density = True)\n",
    "plt.step(bins[:-1], hist, label = r\"Clusters corresponding to $5.8 < \\frac{\\eta - \\phi}{\\sigma} < 6.5$\", where='mid')\n",
    "plt.yscale(\"log\")\n",
    "plt.xlabel(\"$\\phi$ cluster size\")\n",
    "plt.ylabel(\"Density\")\n",
    "plt.title(\"Cluster size distribution of the primary and secondary peak\")\n",
    "plt.legend()\n",
    "plt.show()"
   ]
  },
  {
   "cell_type": "code",
   "execution_count": 127,
   "metadata": {},
   "outputs": [],
   "source": [
    "fig, ax = plt.subplots(figsize=(10, 8))\n",
    "TAnalyser.diffHists[5][4][24].plot1d(ax=ax, color=\"teal\", lw=3, label='proANUBIS Data')\n",
    "plt.show()"
   ]
  },
  {
   "cell_type": "code",
   "execution_count": 27,
   "metadata": {},
   "outputs": [],
   "source": [
    "for rpc in range(6):\n",
    "    hist, bins = np.histogram(reconstructor.collector[rpc], np.arange(-10, 10, 0.1), density=True)\n",
    "    plt.plot(bins[:-1], hist, label=f\"RPC {rpc}\")\n",
    "plt.vlines([-3,3], 0, max(hist), color='black', linestyles='dashed')\n",
    "plt.text(-3, max(hist), \"3$\\sigma$ away\", verticalalignment='bottom', horizontalalignment='right')\n",
    "plt.xlabel(\"Time Difference ($\\sigma_{tot}$)\")\n",
    "plt.ylabel(\"Distribution\")\n",
    "plt.title(\"$\\eta - \\phi$ time difference distribution\")\n",
    "plt.legend()\n",
    "plt.show()"
   ]
  },
  {
   "cell_type": "code",
   "execution_count": 17,
   "metadata": {},
   "outputs": [],
   "source": [
    "for rpc in range(6):\n",
    "    values = []\n",
    "    for cluster_size in reconstructor.collector[rpc].keys():\n",
    "        values.append(np.mean(reconstructor.collector[rpc][cluster_size]))\n",
    "    plt.scatter(list(reconstructor.collector[rpc].keys()), values, label=f'RPC {rpc}')\n",
    "\n",
    "plt.xlabel('Cluster size')\n",
    "plt.ylabel('Spread')\n",
    "plt.legend(loc='upper left')\n",
    "plt.xlim(0,10)\n",
    "plt.ylim(0,10)\n",
    "plt.show()"
   ]
  },
  {
   "cell_type": "code",
   "execution_count": 6,
   "metadata": {},
   "outputs": [
    {
     "name": "stdout",
     "output_type": "stream",
     "text": [
      "Warning: <class 'uhi.numpy_plottable.NumPyPlottableHistogram'> is not allowed to get flow bins, flow bin option set to None\n",
      "Warning: <class 'uhi.numpy_plottable.NumPyPlottableHistogram'> is not allowed to get flow bins, flow bin option set to None\n",
      "Warning: <class 'uhi.numpy_plottable.NumPyPlottableHistogram'> is not allowed to get flow bins, flow bin option set to None\n",
      "Warning: <class 'uhi.numpy_plottable.NumPyPlottableHistogram'> is not allowed to get flow bins, flow bin option set to None\n",
      "Warning: <class 'uhi.numpy_plottable.NumPyPlottableHistogram'> is not allowed to get flow bins, flow bin option set to None\n",
      "Warning: <class 'uhi.numpy_plottable.NumPyPlottableHistogram'> is not allowed to get flow bins, flow bin option set to None\n",
      "Warning: <class 'uhi.numpy_plottable.NumPyPlottableHistogram'> is not allowed to get flow bins, flow bin option set to None\n",
      "Warning: <class 'uhi.numpy_plottable.NumPyPlottableHistogram'> is not allowed to get flow bins, flow bin option set to None\n",
      "Warning: <class 'uhi.numpy_plottable.NumPyPlottableHistogram'> is not allowed to get flow bins, flow bin option set to None\n",
      "Warning: <class 'uhi.numpy_plottable.NumPyPlottableHistogram'> is not allowed to get flow bins, flow bin option set to None\n",
      "Warning: <class 'uhi.numpy_plottable.NumPyPlottableHistogram'> is not allowed to get flow bins, flow bin option set to None\n",
      "Warning: <class 'uhi.numpy_plottable.NumPyPlottableHistogram'> is not allowed to get flow bins, flow bin option set to None\n",
      "([[np.float64(2.081698275862068), np.float64(1.9524482758620676), np.float64(1.7356982758620685), np.float64(1.743948275862069), np.float64(1.4959482758620695), np.float64(1.2166982758620688), np.float64(1.0436982758620692), np.float64(1.0144482758620685), np.float64(1.2539482758620686), np.float64(1.5746982758620685), np.float64(0.7329482758620689), np.float64(0.44119827586206917), np.float64(0.7869482758620691), np.float64(-0.08605172413793112), np.float64(-0.01530172413793078), np.float64(-0.28830172413793087), np.float64(-0.35505172413793007), np.float64(-0.40305172413793067), np.float64(-0.6698017241379309), np.float64(-0.9178017241379313), np.float64(-1.1283017241379305), np.float64(-0.7013017241379295), np.float64(-1.1618017241379301), np.float64(-0.7535517241379304), np.float64(-1.51405172413793), np.float64(-2.2433017241379307), np.float64(-2.0038017241379285), np.float64(-2.0705517241379297), np.float64(-2.7623017241379304), np.float64(-2.9353017241379313), np.float64(-3.1083017241379305), np.float64(-3.281301724137931)], [np.float64(2.193708333333333), np.float64(2.020708333333333), np.float64(1.7664583333333337), np.float64(1.774708333333334), np.float64(1.5517083333333341), np.float64(1.247458333333333), np.float64(1.330708333333333), np.float64(1.0702083333333334), np.float64(1.478458333333333), np.float64(1.7304583333333354), np.float64(0.9949583333333328), np.float64(0.47195833333333376), np.float64(0.8677083333333339), np.float64(0.08845833333333368), np.float64(0.07795833333333417), np.float64(-0.25754166666666634), np.float64(-0.1430416666666655), np.float64(-0.022291666666665336), np.float64(-0.42029166666666684), np.float64(-0.8245416666666665), np.float64(-0.9162916666666661), np.float64(-0.5205416666666648), np.float64(-0.6810416666666667), np.float64(-0.4727916666666662), np.float64(-1.0332916666666654), np.float64(-1.7375416666666663), np.float64(-1.6917916666666657), np.float64(-1.3397916666666656), np.float64(-2.0502916666666655), np.float64(-2.379541666666666), np.float64(-2.2275416666666668), np.float64(-3.0067916666666656)], [np.float64(2.0469761904761916), np.float64(1.8739761904761916), np.float64(1.6057380952380953), np.float64(1.604166666666666), np.float64(1.4057698412698403), np.float64(1.086738095238095), np.float64(1.5169126984126986), np.float64(1.0835952380952383), np.float64(1.3550396825396827), np.float64(1.9693412698412713), np.float64(0.8693571428571428), np.float64(0.5630238095238097), np.float64(0.9424047619047623), np.float64(-0.06869047619047602), np.float64(0.2281507936507946), np.float64(-0.41469047619047594), np.float64(-0.20673809523809478), np.float64(-0.011484126984127322), np.float64(-0.5209920634920632), np.float64(-0.9797063492063495), np.float64(-0.8225476190476195), np.float64(0.013976190476192106), np.float64(-0.774896825396825), np.float64(-0.30662698412698397), np.float64(-0.6954999999999985), np.float64(-1.2240555555555555), np.float64(-1.7907063492063482), np.float64(-0.7256111111111109), np.float64(-2.2001984126984135), np.float64(-2.2335158730158735), np.float64(-2.0255634920634926), np.float64(-3.1636428571428565)], [np.float64(1.761087301587302), np.float64(1.5626904761904765), np.float64(1.8341349206349202), np.float64(1.2547857142857148), np.float64(1.4119444444444447), np.float64(0.8071984126984121), np.float64(1.6056269841269843), np.float64(0.8548492063492066), np.float64(0.8977222222222221), np.float64(1.5120238095238105), np.float64(0.4120396825396822), np.float64(0.10570634920634916), np.float64(0.7200079365079362), np.float64(-0.20854761904761945), np.float64(0.6152777777777787), np.float64(-0.014865079365079477), np.float64(-0.6767539682539682), np.float64(-0.2846746031746036), np.float64(-0.5910079365079364), np.float64(-0.8401984126984127), np.float64(-0.42272222222222233), np.float64(0.6995158730158739), np.float64(-0.6099920634920626), np.float64(-0.617912698412698), np.float64(-0.6829761904761886), np.float64(-1.0464523809523802), np.float64(-2.248023809523809), np.float64(-0.9607063492063486), np.float64(-2.1241825396825393), np.float64(-2.665436507936507), np.float64(-2.482880952380952), np.float64(-3.309849206349207)], [np.float64(1.8568968253968263), np.float64(1.8172301587301583), np.float64(1.9045476190476198), np.float64(1.2871031746031736), np.float64(1.3871190476190463), np.float64(0.7823730158730147), np.float64(1.5808015873015873), np.float64(1.1347857142857136), np.float64(0.8728968253968249), np.float64(1.6078333333333337), np.float64(0.5205476190476187), np.float64(0.08088095238095197), np.float64(0.8666111111111107), np.float64(0.13488095238095185), np.float64(0.8190238095238102), np.float64(0.5190396825396818), np.float64(-0.6063412698412698), np.float64(-0.2587063492063492), np.float64(-0.24757936507936507), np.float64(-0.5602619047619051), np.float64(-0.13008730158730206), np.float64(0.7318333333333336), np.float64(-0.6475158730158724), np.float64(-0.36337301587301557), np.float64(-0.7078015873015859), np.float64(-0.8998492063492056), np.float64(-2.0760238095238104), np.float64(-0.9855317460317459), np.float64(-2.16170634920635), np.float64(-2.417246031746032), np.float64(-2.5077063492063494), np.float64(-3.3346746031746033)], [np.float64(1.7602698412698417), np.float64(1.7586984126984122), np.float64(2.068238095238095), np.float64(1.2793650793650786), np.float64(1.3666825396825386), np.float64(0.9206666666666655), np.float64(1.3635396825396828), np.float64(1.2857777777777784), np.float64(0.8143650793650792), np.float64(1.6508888888888897), np.float64(0.35407936507936505), np.float64(-0.1363809523809526), np.float64(1.0810952380952363), np.float64(0.16523809523809524), np.float64(1.0716031746031756), np.float64(0.9684444444444451), np.float64(-0.5124920634920632), np.float64(0.21609523809523773), np.float64(-0.58547619047619), np.float64(-0.8092698412698415), np.float64(-0.11242857142857207), np.float64(1.0352063492063492), np.float64(-0.7123968253968246), np.float64(-0.5425396825396817), np.float64(-0.9250634920634904), np.float64(-1.1171111111111105), np.float64(-2.045666666666667), np.float64(-0.6694603174603169), np.float64(-2.0805555555555557), np.float64(-2.6345079365079367), np.float64(-2.7249682539682545), np.float64(-3.551936507936509)]], [[np.float64(-15.882000000000001), np.float64(-15.226241379310345), np.float64(-15.536), np.float64(-14.880241379310345), np.float64(-14.734827586206896), np.float64(-15.017000000000001), np.float64(-14.843999999999998), np.float64(-14.215827586206897), np.float64(-13.532482758620691), np.float64(-13.925000000000002), np.float64(-13.72441379310345), np.float64(-13.979000000000001), np.float64(-11.957724137931034), np.float64(-12.033000000000001), np.float64(-13.004827586206895), np.float64(-13.286999999999999), np.float64(-13.114), np.float64(-11.658241379310345), np.float64(-12.768), np.float64(-12.139827586206897), np.float64(-12.422), np.float64(-12.249), np.float64(-11.2208275862069), np.float64(-11.585758620689655), np.float64(-10.612758620689657), np.float64(-11.557000000000002), np.float64(-10.984000000000004), np.float64(-10.893758620689658), np.float64(-9.851793103448275), np.float64(-10.575344827586209), np.float64(-9.65751724137931), np.float64(-9.829344827586208), np.float64(-10.028758620689656), np.float64(-9.855758620689654), np.float64(-10.000000000000002), np.float64(-9.537344827586208), np.float64(-9.309172413793103), np.float64(-9.163758620689654), np.float64(-9.308000000000002), np.float64(-8.87293103448276), np.float64(-8.962000000000003), np.float64(-8.416586206896554), np.float64(-7.9539310344827605), np.float64(-8.443000000000003), np.float64(-8.270000000000003), np.float64(-8.097000000000003), np.float64(-7.924000000000002), np.float64(-7.571689655172415), np.float64(-7.343517241379313), np.float64(-7.225689655172417), np.float64(-7.025103448275863), np.float64(-6.383137931034486), np.float64(-6.444620689655173), np.float64(-6.713000000000003), np.float64(-6.098620689655174), np.float64(-6.2152758620689665), np.float64(-6.042275862068967), np.float64(-5.924448275862071), np.float64(-5.848000000000002), np.float64(-5.399137931034486), np.float64(-5.377862068965518), np.float64(-5.204862068965518), np.float64(-5.156000000000002), np.float64(-4.886448275862071)], [np.float64(-16.112666666666666), np.float64(-15.393), np.float64(-15.22), np.float64(-15.073666666666666), np.float64(-14.874000000000002), np.float64(-15.247666666666667), np.float64(-14.47466666666667), np.float64(-14.435), np.float64(-13.688666666666666), np.float64(-14.555666666666665), np.float64(-13.86266666666667), np.float64(-13.009666666666664), np.float64(-12.143333333333333), np.float64(-12.103666666666669), np.float64(-13.197333333333336), np.float64(-13.517666666666667), np.float64(-12.824666666666666), np.float64(-11.931666666666668), np.float64(-12.478666666666669), np.float64(-11.919), np.float64(-12.079333333333333), np.float64(-12.479666666666667), np.float64(-11.426666666666671), np.float64(-11.773666666666669), np.float64(-10.720666666666666), np.float64(-11.787666666666667), np.float64(-9.774666666666667), np.float64(-11.135000000000003), np.float64(-10.042000000000002), np.float64(-10.709000000000001), np.float64(-9.296000000000001), np.float64(-10.056333333333335), np.float64(-10.216666666666669), np.float64(-10.403666666666666), np.float64(-10.230666666666666), np.float64(-9.697666666666668), np.float64(-9.058), np.float64(-9.018333333333333), np.float64(-9.538666666666666), np.float64(-9.112333333333337), np.float64(-8.726000000000003), np.float64(-7.819666666666669), np.float64(-8.073333333333338), np.float64(-8.313666666666668), np.float64(-8.50066666666667), np.float64(-8.327666666666667), np.float64(-7.354666666666668), np.float64(-7.395000000000001), np.float64(-7.195333333333334), np.float64(-7.462333333333334), np.float64(-6.876000000000004), np.float64(-6.783000000000004), np.float64(-6.476666666666671), np.float64(-6.94366666666667), np.float64(-6.157333333333336), np.float64(-6.451000000000002), np.float64(-5.4780000000000015), np.float64(-6.078333333333335), np.float64(-6.078666666666669), np.float64(-5.559000000000003), np.float64(-5.3593333333333355), np.float64(-5.3596666666666675), np.float64(-5.3866666666666685), np.float64(-5.093666666666668)], [np.float64(-16.141500000000004), np.float64(-15.456000000000001), np.float64(-15.283000000000001), np.float64(-15.135), np.float64(-14.937), np.float64(-14.814000000000002), np.float64(-14.541), np.float64(-14.518000000000002), np.float64(-13.807500000000003), np.float64(-14.147000000000002), np.float64(-13.924), np.float64(-12.576), np.float64(-11.878), np.float64(-12.217500000000001), np.float64(-13.257), np.float64(-13.546499999999998), np.float64(-11.910999999999998), np.float64(-11.988000000000001), np.float64(-11.639999999999999), np.float64(-11.592), np.float64(-11.681500000000003), np.float64(-12.508500000000002), np.float64(-11.148), np.float64(-11.825), np.float64(-10.514499999999998), np.float64(-11.816500000000001), np.float64(-9.8435), np.float64(-10.308000000000002), np.float64(-9.760000000000002), np.float64(-10.762000000000004), np.float64(-8.989000000000003), np.float64(-10.1285), np.float64(-9.8055), np.float64(-9.7575), np.float64(-9.847), np.float64(-9.748999999999999), np.float64(-8.2635), np.float64(-8.503), np.float64(-9.5675), np.float64(-9.057000000000002), np.float64(-8.3465), np.float64(-7.823500000000001), np.float64(-8.100500000000002), np.float64(-7.9525000000000015), np.float64(-8.529500000000004), np.float64(-8.356500000000002), np.float64(-7.433500000000001), np.float64(-7.073000000000001), np.float64(-7.2375000000000025), np.float64(-7.189500000000003), np.float64(-6.391500000000001), np.float64(-6.131), np.float64(-6.520500000000002), np.float64(-6.972500000000002), np.float64(-5.887000000000001), np.float64(-6.2265000000000015), np.float64(-5.541), np.float64(-6.093000000000002), np.float64(-6.107500000000002), np.float64(-5.5845), np.float64(-5.261500000000002), np.float64(-5.213500000000002), np.float64(-5.415500000000003), np.float64(-5.130000000000002)], [np.float64(-16.026166666666665), np.float64(-15.306500000000002), np.float64(-14.28016666666667), np.float64(-14.987166666666665), np.float64(-14.107499999999998), np.float64(-14.667833333333336), np.float64(-13.068166666666666), np.float64(-14.375166666666667), np.float64(-13.628833333333333), np.float64(-13.615833333333335), np.float64(-13.3095), np.float64(-11.603166666666668), np.float64(-11.336833333333335), np.float64(-11.017166666666666), np.float64(-12.697500000000002), np.float64(-13.431166666666668), np.float64(-12.218166666666667), np.float64(-11.3785), np.float64(-11.432166666666667), np.float64(-10.952500000000002), np.float64(-11.366166666666667), np.float64(-12.393166666666666), np.float64(-9.553500000000001), np.float64(-11.687166666666668), np.float64(-9.340833333333332), np.float64(-11.194500000000001), np.float64(-8.941500000000001), np.float64(-10.195166666666669), np.float64(-9.928833333333332), np.float64(-9.715833333333332), np.float64(-8.4095), np.float64(-9.716500000000003), np.float64(-9.303500000000001), np.float64(-9.597166666666666), np.float64(-9.704166666666666), np.float64(-9.61116666666667), np.float64(-7.184833333333334), np.float64(-7.9718333333333335), np.float64(-9.0655), np.float64(-8.5325), np.float64(-8.172833333333335), np.float64(-7.319833333333334), np.float64(-7.933500000000002), np.float64(-7.480500000000001), np.float64(-8.080833333333336), np.float64(-7.934500000000001), np.float64(-7.2681666666666676), np.float64(-6.335166666666666), np.float64(-7.082166666666668), np.float64(-6.789166666666669), np.float64(-5.8695), np.float64(-6.269833333333335), np.float64(-6.243500000000003), np.float64(-6.577166666666669), np.float64(-5.764166666666669), np.float64(-5.777833333333335), np.float64(-4.9115), np.float64(-5.965166666666668), np.float64(-5.3255000000000035), np.float64(-5.445833333333336), np.float64(-4.579500000000002), np.float64(-5.0998333333333346), np.float64(-5.300166666666669), np.float64(-5.007166666666667)], [np.float64(-16.1415), np.float64(-14.0685), np.float64(-13.995499999999998), np.float64(-15.135), np.float64(-14.2995), np.float64(-14.814000000000004), np.float64(-13.3035), np.float64(-13.717999999999998), np.float64(-13.8075), np.float64(-13.7845), np.float64(-13.486499999999998), np.float64(-11.876000000000001), np.float64(-11.203), np.float64(-10.967500000000001), np.float64(-12.332), np.float64(-13.183999999999997), np.float64(-11.910999999999996), np.float64(-10.988), np.float64(-11.639999999999997), np.float64(-11.1795), np.float64(-11.556500000000002), np.float64(-12.121000000000006), np.float64(-9.835500000000005), np.float64(-11.412500000000001), np.float64(-9.277000000000001), np.float64(-11.291500000000003), np.float64(-8.6435), np.float64(-9.758000000000003), np.float64(-9.76), np.float64(-9.912), np.float64(-8.364), np.float64(-9.891), np.float64(-9.493), np.float64(-9.47), np.float64(-9.847), np.float64(-9.748999999999999), np.float64(-7.151), np.float64(-8.190500000000002), np.float64(-8.867500000000001), np.float64(-8.382000000000001), np.float64(-7.7715000000000005), np.float64(-7.2235000000000005), np.float64(-8.1005), np.float64(-7.402500000000001), np.float64(-7.954500000000002), np.float64(-8.094000000000003), np.float64(-7.1209999999999996), np.float64(-6.548), np.float64(-6.5249999999999995), np.float64(-6.952000000000003), np.float64(-5.579), np.float64(-6.131000000000002), np.float64(-6.408000000000003), np.float64(-6.472500000000002), np.float64(-5.6995000000000005), np.float64(-5.7015), np.float64(-4.691), np.float64(-5.930500000000002), np.float64(-5.245000000000004), np.float64(-5.559500000000001), np.float64(-4.5615000000000006), np.float64(-5.2385), np.float64(-5.4155000000000015), np.float64(-5.130000000000001)], [np.float64(-16.1415), np.float64(-14.068500000000002), np.float64(-13.995500000000002), np.float64(-15.135), np.float64(-14.2995), np.float64(-14.814000000000002), np.float64(-12.791), np.float64(-13.718), np.float64(-13.8075), np.float64(-13.7845), np.float64(-12.949), np.float64(-11.438500000000001), np.float64(-10.7405), np.float64(-10.917500000000004), np.float64(-11.744500000000006), np.float64(-12.696500000000002), np.float64(-11.423499999999999), np.float64(-10.988000000000001), np.float64(-11.639999999999999), np.float64(-11.179499999999999), np.float64(-11.5565), np.float64(-11.6335), np.float64(-9.273000000000001), np.float64(-10.925), np.float64(-8.714500000000001), np.float64(-11.291500000000001), np.float64(-8.256000000000002), np.float64(-9.658), np.float64(-9.76), np.float64(-9.474500000000003), np.float64(-7.976500000000001), np.float64(-9.891000000000002), np.float64(-9.493), np.float64(-9.47), np.float64(-9.4095), np.float64(-9.336500000000001), np.float64(-7.150999999999998), np.float64(-7.315500000000001), np.float64(-8.867500000000001), np.float64(-8.382000000000001), np.float64(-7.771500000000001), np.float64(-7.223500000000002), np.float64(-7.638000000000002), np.float64(-7.402500000000002), np.float64(-7.067000000000001), np.float64(-7.994000000000001), np.float64(-7.121), np.float64(-6.548), np.float64(-6.300000000000001), np.float64(-6.952000000000003), np.float64(-5.579), np.float64(-5.531), np.float64(-6.408000000000002), np.float64(-6.222500000000003), np.float64(-5.2870000000000035), np.float64(-5.701500000000001), np.float64(-4.591), np.float64(-5.805500000000001), np.float64(-4.9075000000000015), np.float64(-5.4595), np.float64(-4.149000000000001), np.float64(-5.051), np.float64(-5.4155000000000015), np.float64(-5.130000000000001)]])\n"
     ]
    }
   ],
   "source": [
    "importlib.reload(proAnubis_Analysis_Tools)\n",
    "TAnalyser = proAnubis_Analysis_Tools.Timing_Analyser(chunks[0],0)\n",
    "for processedEvents, chunk in enumerate(chunks):\n",
    "    TAnalyser.update_event(chunk, processedEvents)\n",
    "    TAnalyser.readTDCTimeDiffs()\n",
    "\n",
    "#TAnalyser.calculate_correction_stats()\n",
    "\n",
    "residEta, residPhi = TAnalyser.Calculate_Residual_and_plot_TDC_Time_Diffs( \n",
    "                                                     pdf_filename='output/TDC_time_diffs.pdf', \n",
    "                                                     max_itr = 5)\n",
    "\n",
    "print((residEta, residPhi))\n",
    "outDict = {'totDiffs':TAnalyser.totDiffs,\n",
    "            'nDiffs':TAnalyser.nDiffs,\n",
    "            'diffHists':TAnalyser.diffHists} \n"
   ]
  },
  {
   "cell_type": "code",
   "execution_count": 16,
   "metadata": {},
   "outputs": [
    {
     "name": "stdout",
     "output_type": "stream",
     "text": [
      "64\n"
     ]
    }
   ],
   "source": [
    "print(len(residPhi[0]))"
   ]
  },
  {
   "cell_type": "code",
   "execution_count": 19,
   "metadata": {},
   "outputs": [
    {
     "name": "stdout",
     "output_type": "stream",
     "text": [
      "260\n"
     ]
    }
   ],
   "source": [
    "importlib.reload(VTools)\n",
    "file_path = \"data//interesting_events.pkl\"\n",
    "with open(file_path, 'rb') as f:\n",
    "    data = pickle.load(f)\n",
    "    print(len(data))\n",
    "interesting_events = data\n",
    "for event in interesting_events[10:11]:\n",
    "   VTools.event_3d_plot(event, 0)"
   ]
  },
  {
   "cell_type": "code",
   "execution_count": 11,
   "metadata": {},
   "outputs": [
    {
     "name": "stdout",
     "output_type": "stream",
     "text": [
      "0\n",
      "1\n",
      "2\n",
      "3\n",
      "4\n",
      "5\n",
      "6\n",
      "7\n",
      "8\n",
      "9\n",
      "10\n",
      "11\n",
      "12\n",
      "13\n",
      "14\n",
      "15\n",
      "16\n",
      "17\n",
      "18\n",
      "19\n",
      "20\n",
      "21\n",
      "22\n",
      "23\n",
      "24\n",
      "25\n",
      "26\n",
      "27\n",
      "28\n",
      "29\n",
      "30\n",
      "31\n",
      "32\n",
      "33\n",
      "34\n",
      "35\n",
      "36\n",
      "37\n",
      "38\n",
      "39\n",
      "40\n",
      "41\n",
      "42\n",
      "43\n",
      "44\n",
      "45\n",
      "46\n",
      "47\n",
      "48\n",
      "49\n",
      "50\n",
      "51\n",
      "52\n",
      "53\n",
      "54\n",
      "55\n",
      "56\n",
      "57\n",
      "58\n",
      "59\n",
      "60\n",
      "61\n",
      "62\n",
      "63\n",
      "64\n",
      "65\n",
      "66\n",
      "67\n",
      "68\n",
      "69\n",
      "70\n",
      "71\n",
      "72\n",
      "73\n",
      "74\n",
      "75\n",
      "76\n",
      "77\n",
      "78\n",
      "79\n",
      "80\n",
      "81\n",
      "82\n",
      "83\n",
      "84\n",
      "85\n",
      "86\n",
      "87\n",
      "88\n",
      "89\n",
      "90\n",
      "91\n",
      "92\n",
      "93\n",
      "94\n",
      "95\n",
      "96\n",
      "97\n",
      "98\n",
      "99\n",
      "100\n",
      "101\n",
      "102\n",
      "103\n",
      "104\n",
      "105\n",
      "106\n",
      "107\n",
      "108\n",
      "109\n",
      "110\n",
      "111\n",
      "112\n",
      "113\n",
      "114\n",
      "115\n",
      "116\n",
      "117\n",
      "118\n",
      "119\n",
      "120\n",
      "121\n",
      "122\n",
      "123\n",
      "124\n",
      "125\n",
      "126\n",
      "127\n",
      "128\n",
      "129\n",
      "130\n",
      "131\n",
      "132\n",
      "133\n",
      "134\n",
      "135\n",
      "136\n",
      "137\n",
      "138\n",
      "139\n",
      "140\n",
      "141\n",
      "142\n",
      "143\n",
      "144\n",
      "145\n",
      "146\n",
      "147\n",
      "148\n",
      "149\n",
      "150\n",
      "151\n",
      "152\n",
      "153\n",
      "154\n",
      "155\n",
      "156\n",
      "157\n",
      "158\n",
      "159\n",
      "160\n",
      "161\n",
      "162\n",
      "163\n",
      "164\n",
      "165\n",
      "166\n",
      "167\n",
      "168\n",
      "169\n",
      "170\n",
      "171\n",
      "172\n",
      "173\n",
      "174\n",
      "175\n",
      "176\n",
      "177\n",
      "178\n",
      "179\n",
      "180\n",
      "181\n"
     ]
    },
    {
     "ename": "KeyboardInterrupt",
     "evalue": "",
     "output_type": "error",
     "traceback": [
      "\u001b[1;31m---------------------------------------------------------------------------\u001b[0m",
      "\u001b[1;31mKeyboardInterrupt\u001b[0m                         Traceback (most recent call last)",
      "Cell \u001b[1;32mIn[11], line 11\u001b[0m\n\u001b[0;32m      9\u001b[0m chi2_region \u001b[38;5;241m=\u001b[39m (\u001b[38;5;241m0\u001b[39m, \u001b[38;5;241m100\u001b[39m)\n\u001b[0;32m     10\u001b[0m \u001b[38;5;28;01mfor\u001b[39;00m evt_num, cluster \u001b[38;5;129;01min\u001b[39;00m \u001b[38;5;28menumerate\u001b[39m(clusters):\n\u001b[1;32m---> 11\u001b[0m     tracks \u001b[38;5;241m=\u001b[39m \u001b[43mRTools\u001b[49m\u001b[38;5;241;43m.\u001b[39;49m\u001b[43mreconstruct_timed_Chi2_ByRPC\u001b[49m\u001b[43m(\u001b[49m\u001b[43mcluster\u001b[49m\u001b[43m,\u001b[49m\u001b[43m \u001b[49m\u001b[38;5;241;43m3\u001b[39;49m\u001b[43m,\u001b[49m\u001b[43m \u001b[49m\u001b[38;5;241;43m-\u001b[39;49m\u001b[38;5;241;43m1\u001b[39;49m\u001b[43m)\u001b[49m\n\u001b[0;32m     12\u001b[0m     \u001b[38;5;28;01mif\u001b[39;00m tracks \u001b[38;5;129;01mand\u001b[39;00m \u001b[38;5;28mlen\u001b[39m(tracks) \u001b[38;5;241m>\u001b[39m \u001b[38;5;241m1\u001b[39m:\n\u001b[0;32m     13\u001b[0m         chi2\u001b[38;5;241m.\u001b[39mappend(tracks[\u001b[38;5;241m1\u001b[39m][\u001b[38;5;241m4\u001b[39m])\n",
      "File \u001b[1;32mC:\\/Users//jony//Programming//Python//Anubis//anubis//tools\\Reconstruction_tools.py:451\u001b[0m, in \u001b[0;36mreconstruct_timed_Chi2_ByRPC\u001b[1;34m(event, max_cluster_size, RPC_excluded, rpc_indicies)\u001b[0m\n\u001b[0;32m    449\u001b[0m \u001b[38;5;28;01mif\u001b[39;00m \u001b[38;5;28mlen\u001b[39m(combo) \u001b[38;5;241m<\u001b[39m \u001b[38;5;241m5\u001b[39m:\n\u001b[0;32m    450\u001b[0m     \u001b[38;5;28;01mcontinue\u001b[39;00m\n\u001b[1;32m--> 451\u001b[0m centroid, d, Chi2, coordinates, delta_T, delta_Z\u001b[38;5;241m=\u001b[39m \u001b[43mfit_event_chi2\u001b[49m\u001b[43m(\u001b[49m\u001b[43mcombo\u001b[49m\u001b[43m,\u001b[49m\u001b[43m \u001b[49m\u001b[43mrpc_indicies\u001b[49m\u001b[43m \u001b[49m\u001b[38;5;241;43m=\u001b[39;49m\u001b[43m \u001b[49m\u001b[43mrpc_indicies\u001b[49m\u001b[43m)\u001b[49m\n\u001b[0;32m    452\u001b[0m \u001b[38;5;28;01mif\u001b[39;00m Chi2 \u001b[38;5;241m<\u001b[39m Chi2_current:\n\u001b[0;32m    453\u001b[0m \n\u001b[0;32m    454\u001b[0m     \u001b[38;5;66;03m# If new fit is better than old then replace old fit properties.\u001b[39;00m\n\u001b[0;32m    455\u001b[0m     dZ \u001b[38;5;241m=\u001b[39m delta_Z \n",
      "File \u001b[1;32mC:\\/Users//jony//Programming//Python//Anubis//anubis//tools\\Reconstruction_tools.py:332\u001b[0m, in \u001b[0;36mfit_event_chi2\u001b[1;34m(coordinates_with_error, rpc_indicies)\u001b[0m\n\u001b[0;32m    330\u001b[0m \u001b[38;5;66;03m# performing SVD\u001b[39;00m\n\u001b[0;32m    331\u001b[0m \u001b[38;5;28;01mtry\u001b[39;00m:\n\u001b[1;32m--> 332\u001b[0m     _, _, V \u001b[38;5;241m=\u001b[39m \u001b[43mnp\u001b[49m\u001b[38;5;241;43m.\u001b[39;49m\u001b[43mlinalg\u001b[49m\u001b[38;5;241;43m.\u001b[39;49m\u001b[43msvd\u001b[49m\u001b[43m(\u001b[49m\u001b[43msubtracted\u001b[49m\u001b[43m)\u001b[49m\n\u001b[0;32m    333\u001b[0m \u001b[38;5;28;01mexcept\u001b[39;00m np\u001b[38;5;241m.\u001b[39mlinalg\u001b[38;5;241m.\u001b[39mLinAlgError:\n\u001b[0;32m    334\u001b[0m     \u001b[38;5;28;01mreturn\u001b[39;00m \u001b[38;5;28;01mNone\u001b[39;00m, \u001b[38;5;28;01mNone\u001b[39;00m, np\u001b[38;5;241m.\u001b[39minf, \u001b[38;5;28;01mNone\u001b[39;00m, \u001b[38;5;28;01mNone\u001b[39;00m, \u001b[38;5;28;01mNone\u001b[39;00m\n",
      "File \u001b[1;32mc:\\Users\\jony\\Programming\\Python\\Anubis\\anubis\\.venv\\lib\\site-packages\\numpy\\linalg\\_linalg.py:1796\u001b[0m, in \u001b[0;36msvd\u001b[1;34m(a, full_matrices, compute_uv, hermitian)\u001b[0m\n\u001b[0;32m   1792\u001b[0m signature \u001b[38;5;241m=\u001b[39m \u001b[38;5;124m'\u001b[39m\u001b[38;5;124mD->DdD\u001b[39m\u001b[38;5;124m'\u001b[39m \u001b[38;5;28;01mif\u001b[39;00m isComplexType(t) \u001b[38;5;28;01melse\u001b[39;00m \u001b[38;5;124m'\u001b[39m\u001b[38;5;124md->ddd\u001b[39m\u001b[38;5;124m'\u001b[39m\n\u001b[0;32m   1793\u001b[0m \u001b[38;5;28;01mwith\u001b[39;00m errstate(call\u001b[38;5;241m=\u001b[39m_raise_linalgerror_svd_nonconvergence,\n\u001b[0;32m   1794\u001b[0m               invalid\u001b[38;5;241m=\u001b[39m\u001b[38;5;124m'\u001b[39m\u001b[38;5;124mcall\u001b[39m\u001b[38;5;124m'\u001b[39m, over\u001b[38;5;241m=\u001b[39m\u001b[38;5;124m'\u001b[39m\u001b[38;5;124mignore\u001b[39m\u001b[38;5;124m'\u001b[39m, divide\u001b[38;5;241m=\u001b[39m\u001b[38;5;124m'\u001b[39m\u001b[38;5;124mignore\u001b[39m\u001b[38;5;124m'\u001b[39m,\n\u001b[0;32m   1795\u001b[0m               under\u001b[38;5;241m=\u001b[39m\u001b[38;5;124m'\u001b[39m\u001b[38;5;124mignore\u001b[39m\u001b[38;5;124m'\u001b[39m):\n\u001b[1;32m-> 1796\u001b[0m     u, s, vh \u001b[38;5;241m=\u001b[39m \u001b[43mgufunc\u001b[49m\u001b[43m(\u001b[49m\u001b[43ma\u001b[49m\u001b[43m,\u001b[49m\u001b[43m \u001b[49m\u001b[43msignature\u001b[49m\u001b[38;5;241;43m=\u001b[39;49m\u001b[43msignature\u001b[49m\u001b[43m)\u001b[49m\n\u001b[0;32m   1797\u001b[0m u \u001b[38;5;241m=\u001b[39m u\u001b[38;5;241m.\u001b[39mastype(result_t, copy\u001b[38;5;241m=\u001b[39m\u001b[38;5;28;01mFalse\u001b[39;00m)\n\u001b[0;32m   1798\u001b[0m s \u001b[38;5;241m=\u001b[39m s\u001b[38;5;241m.\u001b[39mastype(_realType(result_t), copy\u001b[38;5;241m=\u001b[39m\u001b[38;5;28;01mFalse\u001b[39;00m)\n",
      "\u001b[1;31mKeyboardInterrupt\u001b[0m: "
     ]
    }
   ],
   "source": [
    "reconstructor = proAnubis_Analysis_Tools.Reconstructor(interesting_events, 0)\n",
    "# populate_hits turns TDC bit wise information into their corresponding strips\n",
    "reconstructor.populate_hits()\n",
    "# This is optionnal, and requires the residual of eta and phi\n",
    "    # make_cluster does temporal and spatial coincidence between the stips, and reconstruction is done\n",
    "clusters = reconstructor.make_cluster()\n",
    "\n",
    "chi2 = []\n",
    "chi2_region = (0, 100)\n",
    "for evt_num, cluster in enumerate(clusters):\n",
    "    tracks = RTools.reconstruct_timed_Chi2_ByRPC(cluster, 3, -1)\n",
    "    if tracks and len(tracks) > 1:\n",
    "        chi2.append(tracks[1][4])\n",
    "    print(evt_num)"
   ]
  },
  {
   "cell_type": "code",
   "execution_count": 12,
   "metadata": {},
   "outputs": [
    {
     "name": "stdout",
     "output_type": "stream",
     "text": [
      "Efficiency Done\n",
      "Possible reconstructions [0, 0, 0, 0, 0, 0]\n",
      "[0.4318181818181818, 0.6, 0.6818181818181818, 0.4406779661016949, 0.35, 0.6071428571428571]\n"
     ]
    }
   ],
   "source": [
    "plt.figure(figsize=(10, 6))\n",
    "max_eff = []\n",
    "for RPC in range(6):\n",
    "    if possible_reconstructions[RPC] == 0:\n",
    "        efficiency = [0 for x in successful_reconstructions[RPC]]\n",
    "    else:\n",
    "        efficiency = [x / possible_reconstructions[RPC] for x in successful_reconstructions[RPC]]\n",
    "    max_eff.append(efficiency[-1])\n",
    "    plt.plot(tol, efficiency, label=f'RPC {RPC}')\n",
    "\n",
    "plt.xlabel('Tolerance')\n",
    "plt.ylabel('Efficiency')\n",
    "plt.title('The efficiency of the second track reconstruction')\n",
    "plt.legend()\n",
    "plt.grid(True)\n",
    "plt.show()\n",
    "plt.close()\n",
    "print(\"Efficiency Done\")\n",
    "print(\"Possible reconstructions\", reconstructor.possible_reconstructions)\n",
    "print(max_eff)"
   ]
  },
  {
   "cell_type": "code",
   "execution_count": 18,
   "metadata": {},
   "outputs": [
    {
     "name": "stdout",
     "output_type": "stream",
     "text": [
      "3.549413719172803\n",
      "[np.float64(2.923268450788971), np.float64(1.5455626187848202), np.float64(1.3824512933971917), np.float64(0.2870659845529911), np.float64(6.057028098867192), np.float64(1.1170741127596033), np.float64(0.47158490850782714), np.float64(1.4008653273049967), np.float64(6.473761420102736), np.float64(1.6294728836774055), np.float64(1.5255178606337314), np.float64(0.4398499126206219), np.float64(3.4205517579528855), np.float64(2.100629585341305), np.float64(3.8330354225996115), np.float64(1.600927888787882), np.float64(4.449677296942161), np.float64(4.449677296942161), np.float64(4.449677296942161), np.float64(4.449677296942161), np.float64(4.449677296942161), np.float64(4.449677296942161), np.float64(4.6383741165254815), np.float64(4.6383741165254815), np.float64(4.6383741165254815), np.float64(4.6383741165254815), np.float64(4.6383741165254815), np.float64(4.6383741165254815), np.float64(5.698472209406913), np.float64(5.698472209406913), np.float64(5.698472209406913), np.float64(5.698472209406913), np.float64(5.698472209406913), np.float64(5.698472209406913), np.float64(6.328031724165147), np.float64(0.37710576628647224), np.float64(7.325059558773219), np.float64(6.587935864600887), np.float64(9.38862172033483), np.float64(2.2519919149052456), np.float64(0.8196106173030243), np.float64(3.680081859289625), np.float64(5.459409426240427), np.float64(1.3538568328433682), np.float64(0.820961324947131), np.float64(5.403311698273861), np.float64(5.634210164993198), np.float64(3.256652605378344), np.float64(3.256652605378344), np.float64(3.256652605378344), np.float64(3.256652605378344), np.float64(3.256652605378344), np.float64(3.256652605378344), np.float64(3.1306520158243503), np.float64(3.1306520158243503), np.float64(3.1306520158243503), np.float64(3.1306520158243503), np.float64(3.1306520158243503), np.float64(3.1306520158243503), np.float64(1.9548221487286825), np.float64(4.59192407453934), np.float64(0.4559054424241508), np.float64(3.994023045768157), np.float64(0.009598848790705652), np.float64(2.907212904421494), np.float64(1.847030775309227), np.float64(0.7306779752798565), np.float64(7.021862842514789), np.float64(1.9380149537851163), np.float64(0.012373379514848721), np.float64(7.651732520722398), np.float64(3.0441217157512495), np.float64(2.2985676156319665), np.float64(4.2367633622813905), np.float64(1.3550056146237461), np.float64(1.5348424309383184), np.float64(1.5348424309383184), np.float64(1.5348424309383184), np.float64(1.5348424309383184), np.float64(1.5348424309383184), np.float64(1.5348424309383184), np.float64(6.815403147611007), np.float64(2.962022629121293), np.float64(1.8857383069434184), np.float64(2.3798102459327826), np.float64(7.6115314927960425), np.float64(7.6115314927960425), np.float64(7.6115314927960425), np.float64(7.6115314927960425), np.float64(7.6115314927960425), np.float64(7.6115314927960425), np.float64(6.019221114832796), np.float64(0.0791897271049115), np.float64(3.3827524118882852), np.float64(2.517441035010737), np.float64(3.9493102337573585), np.float64(0.6234356342941696), np.float64(1.84166177142699), np.float64(3.931693249313128), np.float64(1.0156084690732354), np.float64(9.093256481943119), np.float64(9.093256481943119), np.float64(9.093256481943119), np.float64(1.2058412859564736), np.float64(3.2653961888373164), np.float64(2.0546000364487993), np.float64(7.056156990685611), np.float64(6.265607218687138), np.float64(0.020292343945723084), np.float64(0.8410720150166889), np.float64(8.550083551353223), np.float64(5.755425063030976), np.float64(1.2924738011855041), np.float64(2.0442727323720775), np.float64(2.350858044618328), np.float64(0.16233966712284634), np.float64(9.970711883383604), np.float64(0.1950057766933787), np.float64(0.8451927878332851), np.float64(4.706158614604916), np.float64(2.0744012754525487), np.float64(0.40040993058465535), np.float64(2.0363403593605), np.float64(0.39190270428231017), np.float64(9.644347932389131), np.float64(2.476994729252263), np.float64(6.204799899837352), np.float64(3.452080420516195), np.float64(1.6740047064119203), np.float64(7.11085428447312), np.float64(1.0966284692314419), np.float64(6.4037115631179296), np.float64(0.8790771708354516), np.float64(0.012478503911423078), np.float64(6.529553364409146), np.float64(1.967376496891432), np.float64(4.470556827077824), np.float64(0.3756938759155864), np.float64(4.936851786236806), np.float64(3.816103114466778), np.float64(4.757816402602871), np.float64(0.3856167753901681), np.float64(0.004949351671655166), np.float64(6.118720792546493), np.float64(0.43125327249647216), np.float64(8.741833791941959), np.float64(1.8829972622107662), np.float64(4.4119592882367105), np.float64(4.4119592882367105), np.float64(4.4119592882367105), np.float64(4.4119592882367105), np.float64(4.4119592882367105), np.float64(4.4119592882367105), np.float64(8.632703708922072), np.float64(2.379213820842806), np.float64(2.379213820842806), np.float64(2.379213820842806), np.float64(2.379213820842806), np.float64(2.379213820842806), np.float64(2.379213820842806), np.float64(0.04800874059405714), np.float64(0.0004949351635218295)]\n"
     ]
    }
   ],
   "source": [
    "#plot chi2 distribution\n",
    "import scipy.special as sp\n",
    "k = np.mean(chi2)\n",
    "plt.hist(chi2, bins = int(np.sqrt(8*len(chi2))), density = True)\n",
    "x = np.array([i for i in range(0, 10)])\n",
    "print(sp.gamma(k))\n",
    "plt.plot(x, 2.4*x**(k/2-1)*np.exp(-x/2)/((2**(k/2))*sp.gamma(k/2)), label = f\"Idealised χ2({round(k,2)}) distribution\")#pdf of chi2\n",
    "plt.title('χ2 distribution of the second track')\n",
    "plt.xlabel('Chi2')\n",
    "plt.legend()\n",
    "plt.ylabel('Frequency')\n",
    "plt.show()\n",
    "print(chi2)"
   ]
  }
 ],
 "metadata": {
  "kernelspec": {
   "display_name": ".venv",
   "language": "python",
   "name": "python3"
  },
  "language_info": {
   "codemirror_mode": {
    "name": "ipython",
    "version": 3
   },
   "file_extension": ".py",
   "mimetype": "text/x-python",
   "name": "python",
   "nbconvert_exporter": "python",
   "pygments_lexer": "ipython3",
   "version": "3.10.4"
  }
 },
 "nbformat": 4,
 "nbformat_minor": 2
}
