{
 "cells": [
  {
   "cell_type": "code",
   "execution_count": 1,
   "metadata": {},
   "outputs": [],
   "source": [
    "import importlib\n",
    "import sys\n",
    "from tqdm import tqdm\n",
    "import  os\n",
    "import pickle\n",
    "import glob\n",
    "from datetime import datetime\n",
    "import matplotlib.pyplot as plt\n",
    "# Add the directories to the sys.path\n",
    "dir_path = \"C://Users//jony//Programming//Python//Anubis//anubis//\" # insert your directory path\n",
    "sys.path.append(dir_path + \"Osiris//processing//python\")\n",
    "sys.path.append(dir_path + \"tools\")\n",
    "\n",
    "import Analysis_tools as ATools\n",
    "import Atlas_tools as AtTools\n",
    "import proAnubis_Analysis_Tools\n",
    "import Reconstruction_tools as RTools\n",
    "import numpy as np\n",
    "import mplhep as hep\n",
    "import Timing_tools as TTools\n",
    "import pickle\n",
    "import overview\n",
    "import rawFileReader\n",
    "import Visual_tools as VTools\n",
    "hep.style.use([hep.style.ATLAS])\n",
    "\n",
    "dir = \"C://Users//jony//Programming//Python//Anubis//anubis//data//\"\n",
    "\n",
    "# Specify the directory\n"
   ]
  },
  {
   "cell_type": "code",
   "execution_count": 2,
   "metadata": {},
   "outputs": [
    {
     "name": "stdout",
     "output_type": "stream",
     "text": [
      "Initial time 2024-08-15 16:59:49.312501 1723737589.312501\n"
     ]
    },
    {
     "name": "stderr",
     "output_type": "stream",
     "text": [
      "Processing Chunks proAnubis_240815_1759.raw:  91%|█████████▏| 91444/100000 [54:24<01:09, 123.64Chunks/s]   "
     ]
    }
   ],
   "source": [
    "importlib.reload(overview)\n",
    "file_name = \"proAnubis_240815_1759.raw\"\n",
    "chunks, times, fReader = overview.get_chunks(file_name, max_process_event=10_000_000, saves = False)"
   ]
  },
  {
   "cell_type": "code",
   "execution_count": 3,
   "metadata": {},
   "outputs": [
    {
     "name": "stdout",
     "output_type": "stream",
     "text": [
      "Initial time 2024-08-15 16:59:49.312501 1723737589.312501\n"
     ]
    },
    {
     "name": "stderr",
     "output_type": "stream",
     "text": [
      "Processing Chunks proAnubis_240815_1759.raw: 100%|██████████| 10000/10000 [01:45<00:00, 94.49Chunks/s]\n"
     ]
    },
    {
     "name": "stdout",
     "output_type": "stream",
     "text": [
      "Ending time: 2024-08-15 17:03:04.904445\n",
      "Number of chunks: 10000\n",
      "Total Events: 0\n",
      "Total reconstructed events: [0, 0, 0, 0, 0, 0]\n"
     ]
    },
    {
     "name": "stderr",
     "output_type": "stream",
     "text": [
      "C:\\/Users//jony//Programming//Python//Anubis//anubis//tools\\Visual_tools.py:102: RuntimeWarning: More than 20 figures have been opened. Figures created through the pyplot interface (`matplotlib.pyplot.figure`) are retained until explicitly closed and may consume too much memory. (To control this warning, see the rcParam `figure.max_open_warning`). Consider using `matplotlib.pyplot.close()`.\n",
      "  fig = plt.figure(figsize=(10, 10))\n",
      "C:\\/Users//jony//Programming//Python//Anubis//anubis//tools\\Reconstruction_tools.py:362: RuntimeWarning: divide by zero encountered in scalar divide\n",
      "  t = (z-z_0)/d[2]\n",
      "C:\\/Users//jony//Programming//Python//Anubis//anubis//tools\\Reconstruction_tools.py:367: RuntimeWarning: invalid value encountered in scalar multiply\n",
      "  y_traj = centroid[1] + t*d[1]\n"
     ]
    },
    {
     "name": "stdout",
     "output_type": "stream",
     "text": [
      "Initial time 2024-08-15 17:03:04.921412 1723737784.921412\n"
     ]
    },
    {
     "name": "stderr",
     "output_type": "stream",
     "text": [
      "Processing Chunks proAnubis_240815_1759.raw: 100%|██████████| 10000/10000 [01:46<00:00, 93.86Chunks/s]\n"
     ]
    },
    {
     "name": "stdout",
     "output_type": "stream",
     "text": [
      "Ending time: 2024-08-15 17:06:18.967902\n",
      "Number of chunks: 10000\n",
      "Total Events: 9999000000\n",
      "Total reconstructed events: [23, 13, 9, 27, 19, 14]\n",
      "Initial time 2024-08-15 17:06:18.987834 1723737978.987834\n"
     ]
    },
    {
     "name": "stderr",
     "output_type": "stream",
     "text": [
      "Processing Chunks proAnubis_240815_1759.raw: 100%|██████████| 10000/10000 [01:50<00:00, 90.48Chunks/s]\n"
     ]
    },
    {
     "name": "stdout",
     "output_type": "stream",
     "text": [
      "Ending time: 2024-08-15 17:09:32.379433\n",
      "Number of chunks: 10000\n",
      "Total Events: 19998000000\n",
      "Total reconstructed events: [36, 21, 17, 52, 33, 23]\n"
     ]
    },
    {
     "ename": "",
     "evalue": "",
     "output_type": "error",
     "traceback": [
      "\u001b[1;31mThe Kernel crashed while executing code in the current cell or a previous cell. \n",
      "\u001b[1;31mPlease review the code in the cell(s) to identify a possible cause of the failure. \n",
      "\u001b[1;31mClick <a href='https://aka.ms/vscodeJupyterKernelCrash'>here</a> for more info. \n",
      "\u001b[1;31mView Jupyter <a href='command:jupyter.viewOutput'>log</a> for further details."
     ]
    }
   ],
   "source": [
    "#find events with multiple clusters\n",
    "importlib.reload(RTools)\n",
    "importlib.reload(proAnubis_Analysis_Tools)\n",
    "importlib.reload(rawFileReader)\n",
    "\n",
    "file_name = \"proAnubis_240815_1759.raw\"\n",
    "\n",
    "fReader = rawFileReader.fileReader(dir+file_name)\n",
    "tol = [i/10 for i in range(100)]\n",
    "possible_reconstructions = [0 for rpc in range(6)]\n",
    "successful_reconstructions = [[0 for _ in tol] for rpc in range(6)]\n",
    "chi2 = []\n",
    "\n",
    "interesting_events = []\n",
    "\n",
    "idonotstop = True\n",
    "total_events = 0\n",
    "while idonotstop:\n",
    "   chunks, times, fReader = overview.get_chunks(file_name, max_process_event=1_000_000, fReader = fReader, saves = False)\n",
    "   print(\"Total Events:\", total_events)\n",
    "   print(\"Total reconstructed events:\", possible_reconstructions)\n",
    "   reconstructor = proAnubis_Analysis_Tools.Reconstructor(chunks[0], 0)\n",
    "   for processedEvents, event_chunk in enumerate(chunks[1:]):\n",
    "      reconstructor.update_event(event_chunk, processedEvents)\n",
    "      # populate_hits turns TDC bit wise information into their corresponding strips\n",
    "      reconstructor.populate_hits()\n",
    "      # This is optionnal, and requires the residual of eta and phi\n",
    "         # make_cluster does temporal and spatial coincidence between the stips, and reconstruction is done\n",
    "      clusters = reconstructor.make_cluster()\n",
    "      chi2_region = (0, 100)\n",
    "      for evt_num, cluster in enumerate(clusters):\n",
    "         for rpc in range(6):\n",
    "            E_recon = RTools.reconstruct_timed_Chi2_ByRPC(cluster, 3, rpc) #why is it excluded?\n",
    "            if E_recon and len(E_recon) > 1:\n",
    "                  interesting_events.append(event_chunk[cluster[0]-processedEvents])\n",
    "                  VTools.event_3d_plot(event_chunk[cluster[0]-processedEvents], processedEvents*100+10*evt_num)\n",
    "                  track = E_recon[1]\n",
    "                  if len(track[2]) >= 5:\n",
    "                     if track[4] > chi2_region[0] and track[4] < chi2_region[1]:\n",
    "                           chi2.append(track[4])\n",
    "                           # self.event_of_interest.append(track)\n",
    "                           # Adding this check to see if other 5 RPCs are in reconstructed event.\n",
    "                           # This is necessary to ensure the reconstructed path is accurate.\n",
    "\n",
    "                           muon_coords = RTools.does_muon_hit_RPC(track[0], track[1], rpc)\n",
    "                           if muon_coords:\n",
    "                              possible_reconstructions[rpc] += 1\n",
    "                              for idx, t in enumerate(tol):\n",
    "                                 check = RTools.does_RPC_detect_muon(muon_coords, track[7], t)\n",
    "                                 if check:\n",
    "                                    successful_reconstructions[rpc][idx] += 1\n",
    "      \n",
    "      total_events += 1_000_000\n",
    "      with open(f\"data//double//interesting_events{total_events//1_000_000}.pkl\", \"wb\") as f:\n",
    "         pickle.dump(interesting_events, f)\n",
    "                                      \n",
    "      \"\"\"\n",
    "      for evt_num, cluster in enumerate(clusters):\n",
    "         repeated = 0\n",
    "         for rpc in range(6):\n",
    "            if len(cluster[2][rpc][0]) == 2 and len(cluster[2][rpc][1]) == 2: #phi and eta\n",
    "               repeated += 1\n",
    "         #tracks = RTools.reconstruct_timed_Chi2_ByRPC(cluster, 3, -1)\n",
    "         if len(tracks) > 1\n",
    "            #heatmap\n",
    "            hits = []\n",
    "            for rpc in range(6):\n",
    "               hits.extend([phi for phi in cluster[2][rpc][0]])\n",
    "               hits.extend([eta for eta in cluster[2][rpc][1]])\n",
    "            hits = [h[0] for h in hits]\n",
    "            heatMaps = [np.zeros((32,64)) for rpc in range(6)]\n",
    "            for hit in hits:\n",
    "               if hit[3]:\n",
    "                  heatMaps[hit[0]][hit[1],:] += np.ones(64)\n",
    "               else:\n",
    "                  heatMaps[hit[0]][:,hit[1]] += np.ones(32)\n",
    "            #reconstruction\n",
    "\n",
    "            print(\"Number of tracks:\", len(tracks))\n",
    "            for track in tracks:\n",
    "               centroid, direction, opt_coords, _, chi2, dT, _, _ = track\n",
    "               for rpc, point in enumerate(opt_coords):\n",
    "                  try:\n",
    "                     heatMaps[rpc][31 - int(point[1]/ 2.9844)][int(point[0]/ 2.7625)] += 3\n",
    "                  except:\n",
    "                     print((int(point[0]/ 2.7625), int(point[1]/ 2.9844)))\n",
    "\n",
    "            for rpc in range(6):\n",
    "                  plt.imshow(heatMaps[rpc], interpolation='nearest')\n",
    "                  plt.title(f'Event {evt_num} RPC {rpc}')\n",
    "                  plt.savefig(f'video/images_video/double{processedEvents*100+10*evt_num+rpc}.png')\n",
    "         \"\"\"\n",
    "      #print(\"Clust\")"
   ]
  },
  {
   "cell_type": "code",
   "execution_count": 19,
   "metadata": {},
   "outputs": [
    {
     "name": "stdout",
     "output_type": "stream",
     "text": [
      "260\n"
     ]
    }
   ],
   "source": [
    "importlib.reload(VTools)\n",
    "file_path = \"data//interesting_events.pkl\"\n",
    "with open(file_path, 'rb') as f:\n",
    "    data = pickle.load(f)\n",
    "    print(len(data))\n",
    "interesting_events = data\n",
    "for event in interesting_events[10:11]:\n",
    "   VTools.event_3d_plot(event, 0)"
   ]
  },
  {
   "cell_type": "code",
   "execution_count": 11,
   "metadata": {},
   "outputs": [
    {
     "name": "stdout",
     "output_type": "stream",
     "text": [
      "0\n",
      "1\n",
      "2\n",
      "3\n",
      "4\n",
      "5\n",
      "6\n",
      "7\n",
      "8\n",
      "9\n",
      "10\n",
      "11\n",
      "12\n",
      "13\n",
      "14\n",
      "15\n",
      "16\n",
      "17\n",
      "18\n",
      "19\n",
      "20\n",
      "21\n",
      "22\n",
      "23\n",
      "24\n",
      "25\n",
      "26\n",
      "27\n",
      "28\n",
      "29\n",
      "30\n",
      "31\n",
      "32\n",
      "33\n",
      "34\n",
      "35\n",
      "36\n",
      "37\n",
      "38\n",
      "39\n",
      "40\n",
      "41\n",
      "42\n",
      "43\n",
      "44\n",
      "45\n",
      "46\n",
      "47\n",
      "48\n",
      "49\n",
      "50\n",
      "51\n",
      "52\n",
      "53\n",
      "54\n",
      "55\n",
      "56\n",
      "57\n",
      "58\n",
      "59\n",
      "60\n",
      "61\n",
      "62\n",
      "63\n",
      "64\n",
      "65\n",
      "66\n",
      "67\n",
      "68\n",
      "69\n",
      "70\n",
      "71\n",
      "72\n",
      "73\n",
      "74\n",
      "75\n",
      "76\n",
      "77\n",
      "78\n",
      "79\n",
      "80\n",
      "81\n",
      "82\n",
      "83\n",
      "84\n",
      "85\n",
      "86\n",
      "87\n",
      "88\n",
      "89\n",
      "90\n",
      "91\n",
      "92\n",
      "93\n",
      "94\n",
      "95\n",
      "96\n",
      "97\n",
      "98\n",
      "99\n",
      "100\n",
      "101\n",
      "102\n",
      "103\n",
      "104\n",
      "105\n",
      "106\n",
      "107\n",
      "108\n",
      "109\n",
      "110\n",
      "111\n",
      "112\n",
      "113\n",
      "114\n",
      "115\n",
      "116\n",
      "117\n",
      "118\n",
      "119\n",
      "120\n",
      "121\n",
      "122\n",
      "123\n",
      "124\n",
      "125\n",
      "126\n",
      "127\n",
      "128\n",
      "129\n",
      "130\n",
      "131\n",
      "132\n",
      "133\n",
      "134\n",
      "135\n",
      "136\n",
      "137\n",
      "138\n",
      "139\n",
      "140\n",
      "141\n",
      "142\n",
      "143\n",
      "144\n",
      "145\n",
      "146\n",
      "147\n",
      "148\n",
      "149\n",
      "150\n",
      "151\n",
      "152\n",
      "153\n",
      "154\n",
      "155\n",
      "156\n",
      "157\n",
      "158\n",
      "159\n",
      "160\n",
      "161\n",
      "162\n",
      "163\n",
      "164\n",
      "165\n",
      "166\n",
      "167\n",
      "168\n",
      "169\n",
      "170\n",
      "171\n",
      "172\n",
      "173\n",
      "174\n",
      "175\n",
      "176\n",
      "177\n",
      "178\n",
      "179\n",
      "180\n",
      "181\n"
     ]
    },
    {
     "ename": "KeyboardInterrupt",
     "evalue": "",
     "output_type": "error",
     "traceback": [
      "\u001b[1;31m---------------------------------------------------------------------------\u001b[0m",
      "\u001b[1;31mKeyboardInterrupt\u001b[0m                         Traceback (most recent call last)",
      "Cell \u001b[1;32mIn[11], line 11\u001b[0m\n\u001b[0;32m      9\u001b[0m chi2_region \u001b[38;5;241m=\u001b[39m (\u001b[38;5;241m0\u001b[39m, \u001b[38;5;241m100\u001b[39m)\n\u001b[0;32m     10\u001b[0m \u001b[38;5;28;01mfor\u001b[39;00m evt_num, cluster \u001b[38;5;129;01min\u001b[39;00m \u001b[38;5;28menumerate\u001b[39m(clusters):\n\u001b[1;32m---> 11\u001b[0m     tracks \u001b[38;5;241m=\u001b[39m \u001b[43mRTools\u001b[49m\u001b[38;5;241;43m.\u001b[39;49m\u001b[43mreconstruct_timed_Chi2_ByRPC\u001b[49m\u001b[43m(\u001b[49m\u001b[43mcluster\u001b[49m\u001b[43m,\u001b[49m\u001b[43m \u001b[49m\u001b[38;5;241;43m3\u001b[39;49m\u001b[43m,\u001b[49m\u001b[43m \u001b[49m\u001b[38;5;241;43m-\u001b[39;49m\u001b[38;5;241;43m1\u001b[39;49m\u001b[43m)\u001b[49m\n\u001b[0;32m     12\u001b[0m     \u001b[38;5;28;01mif\u001b[39;00m tracks \u001b[38;5;129;01mand\u001b[39;00m \u001b[38;5;28mlen\u001b[39m(tracks) \u001b[38;5;241m>\u001b[39m \u001b[38;5;241m1\u001b[39m:\n\u001b[0;32m     13\u001b[0m         chi2\u001b[38;5;241m.\u001b[39mappend(tracks[\u001b[38;5;241m1\u001b[39m][\u001b[38;5;241m4\u001b[39m])\n",
      "File \u001b[1;32mC:\\/Users//jony//Programming//Python//Anubis//anubis//tools\\Reconstruction_tools.py:451\u001b[0m, in \u001b[0;36mreconstruct_timed_Chi2_ByRPC\u001b[1;34m(event, max_cluster_size, RPC_excluded, rpc_indicies)\u001b[0m\n\u001b[0;32m    449\u001b[0m \u001b[38;5;28;01mif\u001b[39;00m \u001b[38;5;28mlen\u001b[39m(combo) \u001b[38;5;241m<\u001b[39m \u001b[38;5;241m5\u001b[39m:\n\u001b[0;32m    450\u001b[0m     \u001b[38;5;28;01mcontinue\u001b[39;00m\n\u001b[1;32m--> 451\u001b[0m centroid, d, Chi2, coordinates, delta_T, delta_Z\u001b[38;5;241m=\u001b[39m \u001b[43mfit_event_chi2\u001b[49m\u001b[43m(\u001b[49m\u001b[43mcombo\u001b[49m\u001b[43m,\u001b[49m\u001b[43m \u001b[49m\u001b[43mrpc_indicies\u001b[49m\u001b[43m \u001b[49m\u001b[38;5;241;43m=\u001b[39;49m\u001b[43m \u001b[49m\u001b[43mrpc_indicies\u001b[49m\u001b[43m)\u001b[49m\n\u001b[0;32m    452\u001b[0m \u001b[38;5;28;01mif\u001b[39;00m Chi2 \u001b[38;5;241m<\u001b[39m Chi2_current:\n\u001b[0;32m    453\u001b[0m \n\u001b[0;32m    454\u001b[0m     \u001b[38;5;66;03m# If new fit is better than old then replace old fit properties.\u001b[39;00m\n\u001b[0;32m    455\u001b[0m     dZ \u001b[38;5;241m=\u001b[39m delta_Z \n",
      "File \u001b[1;32mC:\\/Users//jony//Programming//Python//Anubis//anubis//tools\\Reconstruction_tools.py:332\u001b[0m, in \u001b[0;36mfit_event_chi2\u001b[1;34m(coordinates_with_error, rpc_indicies)\u001b[0m\n\u001b[0;32m    330\u001b[0m \u001b[38;5;66;03m# performing SVD\u001b[39;00m\n\u001b[0;32m    331\u001b[0m \u001b[38;5;28;01mtry\u001b[39;00m:\n\u001b[1;32m--> 332\u001b[0m     _, _, V \u001b[38;5;241m=\u001b[39m \u001b[43mnp\u001b[49m\u001b[38;5;241;43m.\u001b[39;49m\u001b[43mlinalg\u001b[49m\u001b[38;5;241;43m.\u001b[39;49m\u001b[43msvd\u001b[49m\u001b[43m(\u001b[49m\u001b[43msubtracted\u001b[49m\u001b[43m)\u001b[49m\n\u001b[0;32m    333\u001b[0m \u001b[38;5;28;01mexcept\u001b[39;00m np\u001b[38;5;241m.\u001b[39mlinalg\u001b[38;5;241m.\u001b[39mLinAlgError:\n\u001b[0;32m    334\u001b[0m     \u001b[38;5;28;01mreturn\u001b[39;00m \u001b[38;5;28;01mNone\u001b[39;00m, \u001b[38;5;28;01mNone\u001b[39;00m, np\u001b[38;5;241m.\u001b[39minf, \u001b[38;5;28;01mNone\u001b[39;00m, \u001b[38;5;28;01mNone\u001b[39;00m, \u001b[38;5;28;01mNone\u001b[39;00m\n",
      "File \u001b[1;32mc:\\Users\\jony\\Programming\\Python\\Anubis\\anubis\\.venv\\lib\\site-packages\\numpy\\linalg\\_linalg.py:1796\u001b[0m, in \u001b[0;36msvd\u001b[1;34m(a, full_matrices, compute_uv, hermitian)\u001b[0m\n\u001b[0;32m   1792\u001b[0m signature \u001b[38;5;241m=\u001b[39m \u001b[38;5;124m'\u001b[39m\u001b[38;5;124mD->DdD\u001b[39m\u001b[38;5;124m'\u001b[39m \u001b[38;5;28;01mif\u001b[39;00m isComplexType(t) \u001b[38;5;28;01melse\u001b[39;00m \u001b[38;5;124m'\u001b[39m\u001b[38;5;124md->ddd\u001b[39m\u001b[38;5;124m'\u001b[39m\n\u001b[0;32m   1793\u001b[0m \u001b[38;5;28;01mwith\u001b[39;00m errstate(call\u001b[38;5;241m=\u001b[39m_raise_linalgerror_svd_nonconvergence,\n\u001b[0;32m   1794\u001b[0m               invalid\u001b[38;5;241m=\u001b[39m\u001b[38;5;124m'\u001b[39m\u001b[38;5;124mcall\u001b[39m\u001b[38;5;124m'\u001b[39m, over\u001b[38;5;241m=\u001b[39m\u001b[38;5;124m'\u001b[39m\u001b[38;5;124mignore\u001b[39m\u001b[38;5;124m'\u001b[39m, divide\u001b[38;5;241m=\u001b[39m\u001b[38;5;124m'\u001b[39m\u001b[38;5;124mignore\u001b[39m\u001b[38;5;124m'\u001b[39m,\n\u001b[0;32m   1795\u001b[0m               under\u001b[38;5;241m=\u001b[39m\u001b[38;5;124m'\u001b[39m\u001b[38;5;124mignore\u001b[39m\u001b[38;5;124m'\u001b[39m):\n\u001b[1;32m-> 1796\u001b[0m     u, s, vh \u001b[38;5;241m=\u001b[39m \u001b[43mgufunc\u001b[49m\u001b[43m(\u001b[49m\u001b[43ma\u001b[49m\u001b[43m,\u001b[49m\u001b[43m \u001b[49m\u001b[43msignature\u001b[49m\u001b[38;5;241;43m=\u001b[39;49m\u001b[43msignature\u001b[49m\u001b[43m)\u001b[49m\n\u001b[0;32m   1797\u001b[0m u \u001b[38;5;241m=\u001b[39m u\u001b[38;5;241m.\u001b[39mastype(result_t, copy\u001b[38;5;241m=\u001b[39m\u001b[38;5;28;01mFalse\u001b[39;00m)\n\u001b[0;32m   1798\u001b[0m s \u001b[38;5;241m=\u001b[39m s\u001b[38;5;241m.\u001b[39mastype(_realType(result_t), copy\u001b[38;5;241m=\u001b[39m\u001b[38;5;28;01mFalse\u001b[39;00m)\n",
      "\u001b[1;31mKeyboardInterrupt\u001b[0m: "
     ]
    }
   ],
   "source": [
    "reconstructor = proAnubis_Analysis_Tools.Reconstructor(interesting_events, 0)\n",
    "# populate_hits turns TDC bit wise information into their corresponding strips\n",
    "reconstructor.populate_hits()\n",
    "# This is optionnal, and requires the residual of eta and phi\n",
    "    # make_cluster does temporal and spatial coincidence between the stips, and reconstruction is done\n",
    "clusters = reconstructor.make_cluster()\n",
    "\n",
    "chi2 = []\n",
    "chi2_region = (0, 100)\n",
    "for evt_num, cluster in enumerate(clusters):\n",
    "    tracks = RTools.reconstruct_timed_Chi2_ByRPC(cluster, 3, -1)\n",
    "    if tracks and len(tracks) > 1:\n",
    "        chi2.append(tracks[1][4])\n",
    "    print(evt_num)"
   ]
  },
  {
   "cell_type": "code",
   "execution_count": 12,
   "metadata": {},
   "outputs": [
    {
     "name": "stdout",
     "output_type": "stream",
     "text": [
      "Efficiency Done\n",
      "Possible reconstructions [0, 0, 0, 0, 0, 0]\n",
      "[0.4318181818181818, 0.6, 0.6818181818181818, 0.4406779661016949, 0.35, 0.6071428571428571]\n"
     ]
    }
   ],
   "source": [
    "plt.figure(figsize=(10, 6))\n",
    "max_eff = []\n",
    "for RPC in range(6):\n",
    "    if possible_reconstructions[RPC] == 0:\n",
    "        efficiency = [0 for x in successful_reconstructions[RPC]]\n",
    "    else:\n",
    "        efficiency = [x / possible_reconstructions[RPC] for x in successful_reconstructions[RPC]]\n",
    "    max_eff.append(efficiency[-1])\n",
    "    plt.plot(tol, efficiency, label=f'RPC {RPC}')\n",
    "\n",
    "plt.xlabel('Tolerance')\n",
    "plt.ylabel('Efficiency')\n",
    "plt.title('The efficiency of the second track reconstruction')\n",
    "plt.legend()\n",
    "plt.grid(True)\n",
    "plt.show()\n",
    "plt.close()\n",
    "print(\"Efficiency Done\")\n",
    "print(\"Possible reconstructions\", reconstructor.possible_reconstructions)\n",
    "print(max_eff)"
   ]
  },
  {
   "cell_type": "code",
   "execution_count": 18,
   "metadata": {},
   "outputs": [
    {
     "name": "stdout",
     "output_type": "stream",
     "text": [
      "3.549413719172803\n",
      "[np.float64(2.923268450788971), np.float64(1.5455626187848202), np.float64(1.3824512933971917), np.float64(0.2870659845529911), np.float64(6.057028098867192), np.float64(1.1170741127596033), np.float64(0.47158490850782714), np.float64(1.4008653273049967), np.float64(6.473761420102736), np.float64(1.6294728836774055), np.float64(1.5255178606337314), np.float64(0.4398499126206219), np.float64(3.4205517579528855), np.float64(2.100629585341305), np.float64(3.8330354225996115), np.float64(1.600927888787882), np.float64(4.449677296942161), np.float64(4.449677296942161), np.float64(4.449677296942161), np.float64(4.449677296942161), np.float64(4.449677296942161), np.float64(4.449677296942161), np.float64(4.6383741165254815), np.float64(4.6383741165254815), np.float64(4.6383741165254815), np.float64(4.6383741165254815), np.float64(4.6383741165254815), np.float64(4.6383741165254815), np.float64(5.698472209406913), np.float64(5.698472209406913), np.float64(5.698472209406913), np.float64(5.698472209406913), np.float64(5.698472209406913), np.float64(5.698472209406913), np.float64(6.328031724165147), np.float64(0.37710576628647224), np.float64(7.325059558773219), np.float64(6.587935864600887), np.float64(9.38862172033483), np.float64(2.2519919149052456), np.float64(0.8196106173030243), np.float64(3.680081859289625), np.float64(5.459409426240427), np.float64(1.3538568328433682), np.float64(0.820961324947131), np.float64(5.403311698273861), np.float64(5.634210164993198), np.float64(3.256652605378344), np.float64(3.256652605378344), np.float64(3.256652605378344), np.float64(3.256652605378344), np.float64(3.256652605378344), np.float64(3.256652605378344), np.float64(3.1306520158243503), np.float64(3.1306520158243503), np.float64(3.1306520158243503), np.float64(3.1306520158243503), np.float64(3.1306520158243503), np.float64(3.1306520158243503), np.float64(1.9548221487286825), np.float64(4.59192407453934), np.float64(0.4559054424241508), np.float64(3.994023045768157), np.float64(0.009598848790705652), np.float64(2.907212904421494), np.float64(1.847030775309227), np.float64(0.7306779752798565), np.float64(7.021862842514789), np.float64(1.9380149537851163), np.float64(0.012373379514848721), np.float64(7.651732520722398), np.float64(3.0441217157512495), np.float64(2.2985676156319665), np.float64(4.2367633622813905), np.float64(1.3550056146237461), np.float64(1.5348424309383184), np.float64(1.5348424309383184), np.float64(1.5348424309383184), np.float64(1.5348424309383184), np.float64(1.5348424309383184), np.float64(1.5348424309383184), np.float64(6.815403147611007), np.float64(2.962022629121293), np.float64(1.8857383069434184), np.float64(2.3798102459327826), np.float64(7.6115314927960425), np.float64(7.6115314927960425), np.float64(7.6115314927960425), np.float64(7.6115314927960425), np.float64(7.6115314927960425), np.float64(7.6115314927960425), np.float64(6.019221114832796), np.float64(0.0791897271049115), np.float64(3.3827524118882852), np.float64(2.517441035010737), np.float64(3.9493102337573585), np.float64(0.6234356342941696), np.float64(1.84166177142699), np.float64(3.931693249313128), np.float64(1.0156084690732354), np.float64(9.093256481943119), np.float64(9.093256481943119), np.float64(9.093256481943119), np.float64(1.2058412859564736), np.float64(3.2653961888373164), np.float64(2.0546000364487993), np.float64(7.056156990685611), np.float64(6.265607218687138), np.float64(0.020292343945723084), np.float64(0.8410720150166889), np.float64(8.550083551353223), np.float64(5.755425063030976), np.float64(1.2924738011855041), np.float64(2.0442727323720775), np.float64(2.350858044618328), np.float64(0.16233966712284634), np.float64(9.970711883383604), np.float64(0.1950057766933787), np.float64(0.8451927878332851), np.float64(4.706158614604916), np.float64(2.0744012754525487), np.float64(0.40040993058465535), np.float64(2.0363403593605), np.float64(0.39190270428231017), np.float64(9.644347932389131), np.float64(2.476994729252263), np.float64(6.204799899837352), np.float64(3.452080420516195), np.float64(1.6740047064119203), np.float64(7.11085428447312), np.float64(1.0966284692314419), np.float64(6.4037115631179296), np.float64(0.8790771708354516), np.float64(0.012478503911423078), np.float64(6.529553364409146), np.float64(1.967376496891432), np.float64(4.470556827077824), np.float64(0.3756938759155864), np.float64(4.936851786236806), np.float64(3.816103114466778), np.float64(4.757816402602871), np.float64(0.3856167753901681), np.float64(0.004949351671655166), np.float64(6.118720792546493), np.float64(0.43125327249647216), np.float64(8.741833791941959), np.float64(1.8829972622107662), np.float64(4.4119592882367105), np.float64(4.4119592882367105), np.float64(4.4119592882367105), np.float64(4.4119592882367105), np.float64(4.4119592882367105), np.float64(4.4119592882367105), np.float64(8.632703708922072), np.float64(2.379213820842806), np.float64(2.379213820842806), np.float64(2.379213820842806), np.float64(2.379213820842806), np.float64(2.379213820842806), np.float64(2.379213820842806), np.float64(0.04800874059405714), np.float64(0.0004949351635218295)]\n"
     ]
    }
   ],
   "source": [
    "#plot chi2 distribution\n",
    "import scipy.special as sp\n",
    "k = np.mean(chi2)\n",
    "plt.hist(chi2, bins = int(np.sqrt(8*len(chi2))), density = True)\n",
    "x = np.array([i for i in range(0, 10)])\n",
    "print(sp.gamma(k))\n",
    "plt.plot(x, 2.4*x**(k/2-1)*np.exp(-x/2)/((2**(k/2))*sp.gamma(k/2)), label = f\"Idealised χ2({round(k,2)}) distribution\")#pdf of chi2\n",
    "plt.title('χ2 distribution of the second track')\n",
    "plt.xlabel('Chi2')\n",
    "plt.legend()\n",
    "plt.ylabel('Frequency')\n",
    "plt.show()\n",
    "print(chi2)"
   ]
  }
 ],
 "metadata": {
  "kernelspec": {
   "display_name": ".venv",
   "language": "python",
   "name": "python3"
  },
  "language_info": {
   "codemirror_mode": {
    "name": "ipython",
    "version": 3
   },
   "file_extension": ".py",
   "mimetype": "text/x-python",
   "name": "python",
   "nbconvert_exporter": "python",
   "pygments_lexer": "ipython3",
   "version": "3.10.4"
  }
 },
 "nbformat": 4,
 "nbformat_minor": 2
}
