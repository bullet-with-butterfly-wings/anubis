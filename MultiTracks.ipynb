{
 "cells": [
  {
   "cell_type": "code",
   "execution_count": 15,
   "metadata": {},
   "outputs": [],
   "source": [
    "import importlib\n",
    "import sys\n",
    "from tqdm import tqdm\n",
    "import  os\n",
    "import pickle\n",
    "import glob\n",
    "from datetime import datetime\n",
    "import matplotlib.pyplot as plt\n",
    "# Add the directories to the sys.path\n",
    "dir_path = \"C://Users//jony//Programming//Python//Anubis//anubis//\" # insert your directory path\n",
    "sys.path.append(dir_path + \"Osiris//processing//python\")\n",
    "sys.path.append(dir_path + \"tools\")\n",
    "\n",
    "import Analysis_tools as ATools\n",
    "import Atlas_tools as AtTools\n",
    "import proAnubis_Analysis_Tools\n",
    "import Reconstruction_tools as RTools\n",
    "import numpy as np\n",
    "import mplhep as hep\n",
    "import Timing_tools as TTools\n",
    "import pickle\n",
    "import tools.overview as overview\n",
    "import rawFileReader\n",
    "plt.rc('text', usetex=True)\n",
    "import Visual_tools as VTools\n",
    "hep.style.use([hep.style.ATLAS])\n",
    "\n",
    "dir = \"C://Users//jony//Programming//Python//Anubis//anubis//data//\"\n",
    "\n",
    "# Specify the directory\n"
   ]
  },
  {
   "cell_type": "code",
   "execution_count": 44,
   "metadata": {},
   "outputs": [
    {
     "name": "stdout",
     "output_type": "stream",
     "text": [
      "Initial time 2024-08-15 16:59:49.312501 1723737589.312501\n"
     ]
    },
    {
     "name": "stderr",
     "output_type": "stream",
     "text": [
      "Processing Chunks proAnubis_240815_1759.raw: 100%|██████████| 10000/10000 [01:44<00:00, 95.65Chunks/s]\n"
     ]
    },
    {
     "name": "stdout",
     "output_type": "stream",
     "text": [
      "Ending time: 2024-08-15 17:03:04.904445\n",
      "Number of chunks: 10000\n"
     ]
    }
   ],
   "source": [
    "importlib.reload(overview)\n",
    "file_name = \"proAnubis_240815_1759.raw\"\n",
    "chunks, times, fReader = overview.get_chunks(file_name, max_process_event=1_000_000, saves = False)"
   ]
  },
  {
   "cell_type": "code",
   "execution_count": null,
   "metadata": {},
   "outputs": [],
   "source": [
    "importlib.reload(proAnubis_Analysis_Tools)\n",
    "TAnalyser = proAnubis_Analysis_Tools.Timing_Analyser(chunks[0],0)\n",
    "for processedEvents, chunk in enumerate(chunks):\n",
    "    TAnalyser.update_event(chunk, processedEvents)\n",
    "    TAnalyser.read_tot_diffs()\n",
    "    \n",
    "tpt_mean, tot_std = TAnalyser.calculate_corrections()\n",
    "with open(dir + \"tpt_mean.pkl\", \"wb\") as f:\n",
    "    pickle.dump(tpt_mean, f)\n",
    "with open(dir + \"tot_std.pkl\", \"wb\") as f:\n",
    "    pickle.dump(tot_std, f)"
   ]
  },
  {
   "cell_type": "code",
   "execution_count": 4,
   "metadata": {},
   "outputs": [],
   "source": [
    "with open(dir + \"tpt_mean.pkl\", \"rb\") as f:\n",
    "    tpt_mean = pickle.load(f)\n",
    "with open(dir + \"tot_std.pkl\", \"rb\") as f:\n",
    "    tot_std = pickle.load(f)"
   ]
  },
  {
   "cell_type": "code",
   "execution_count": 46,
   "metadata": {},
   "outputs": [
    {
     "name": "stderr",
     "output_type": "stream",
     "text": [
      "  0%|          | 0/10000 [00:00<?, ?it/s]"
     ]
    },
    {
     "name": "stderr",
     "output_type": "stream",
     "text": [
      "  9%|▉         | 927/10000 [00:21<02:51, 52.94it/s]C:\\/Users//jony//Programming//Python//Anubis//anubis//tools\\Reconstruction_tools.py:379: RuntimeWarning: invalid value encountered in divide\n",
      "  normal = np.cross(a, b)/np.linalg.norm(np.cross(a,b)) #looking from b\n",
      " 50%|█████     | 5016/10000 [01:56<01:39, 49.92it/s]C:\\/Users//jony//Programming//Python//Anubis//anubis//tools\\Reconstruction_tools.py:381: RuntimeWarning: invalid value encountered in divide\n",
      "  a_parameter = np.cross(cb - ca + normal*closest_distance, b)/np.cross(a,b)\n",
      "100%|██████████| 10000/10000 [03:59<00:00, 41.78it/s]\n"
     ]
    }
   ],
   "source": [
    "importlib.reload(RTools)\n",
    "reconstructor = RTools.Reconstructor(chunks[0], 0)\n",
    "reconstructor.mean_tot = tpt_mean\n",
    "reconstructor.std_tot = tot_std\n",
    "interesting = []\n",
    "vertices = []\n",
    "distances = []\n",
    "with tqdm(total=len(chunks)) as pbar:\n",
    "    for processedEvents, chunk in enumerate(chunks):    \n",
    "        reconstructor.update_event(chunk, processedEvents)\n",
    "        clusters = reconstructor.cluster()\n",
    "        chunk_tracks = reconstructor.reconstruct_tracks(clusters)\n",
    "        for evt_num, event_tracks in enumerate(chunk_tracks):\n",
    "            if len(event_tracks) > 1:\n",
    "                distance, vertex = RTools.intersection(event_tracks[0], event_tracks[1])\n",
    "                if vertex[2] < 0:\n",
    "                    vertices.append(vertex)\n",
    "                    distances.append(distance)\n",
    "                interesting.append([processedEvents, evt_num])\n",
    "                #interesting.append([processedEvents, evt_num, event_tracks])\n",
    "        reconstructor.tracks = []\n",
    "        pbar.update(1)\n",
    "\n"
   ]
  },
  {
   "cell_type": "code",
   "execution_count": 50,
   "metadata": {},
   "outputs": [
    {
     "name": "stdout",
     "output_type": "stream",
     "text": [
      "46\n"
     ]
    }
   ],
   "source": [
    "print(len(distances))"
   ]
  },
  {
   "cell_type": "code",
   "execution_count": 48,
   "metadata": {},
   "outputs": [],
   "source": [
    "#3d scatter plot\n",
    "\n",
    "points = np.array(vertices)\n",
    "x = points[:, 0]\n",
    "y = points[:, 1]\n",
    "z = points[:, 2]\n",
    "\n",
    "# Create a 3D scatter plot\n",
    "fig = plt.figure()\n",
    "ax = fig.add_subplot(111, projection='3d')\n",
    "\n",
    "# Scatter plot\n",
    "ax.scatter(x, y, z, c='r', marker='o')\n",
    "\n",
    "# Set labels\n",
    "ax.set_xlabel('X Label')\n",
    "ax.set_ylabel('Y Label')\n",
    "ax.set_zlabel('Z Label')\n",
    "plt.show()"
   ]
  },
  {
   "cell_type": "code",
   "execution_count": 56,
   "metadata": {},
   "outputs": [],
   "source": [
    "z = []\n",
    "for i, vertex in enumerate(vertices):\n",
    "    if distances[i] < 10:\n",
    "        z.append(vertex[2])\n",
    "hist, bins = np.histogram(z)\n",
    "plt.step(bins[:-1], hist, where=\"mid\")\n",
    "plt.show()"
   ]
  },
  {
   "cell_type": "code",
   "execution_count": 43,
   "metadata": {},
   "outputs": [
    {
     "name": "stdout",
     "output_type": "stream",
     "text": [
      "22 74\n",
      "RPC: 4\n",
      "Tracks: 2\n",
      "114 39\n",
      "RPC: 3\n",
      "Tracks: 2\n",
      "123 65\n",
      "RPC: 4\n",
      "Tracks: 2\n",
      "138 7\n",
      "RPC: 3\n",
      "Tracks: 0\n",
      "196 92\n",
      "RPC: 3\n",
      "Tracks: 2\n",
      "221 61\n",
      "RPC: 6\n",
      "Tracks: 2\n",
      "320 25\n",
      "RPC: 4\n",
      "Tracks: 1\n",
      "322 65\n",
      "RPC: 3\n",
      "Tracks: 2\n",
      "396 18\n",
      "RPC: 4\n",
      "Tracks: 2\n",
      "455 60\n",
      "RPC: 4\n",
      "Tracks: 2\n",
      "497 28\n",
      "RPC: 4\n",
      "Tracks: 2\n",
      "556 89\n",
      "RPC: 4\n",
      "Tracks: 2\n",
      "612 42\n",
      "RPC: 3\n",
      "Tracks: 2\n",
      "928 92\n",
      "RPC: 4\n",
      "Tracks: 2\n"
     ]
    },
    {
     "name": "stderr",
     "output_type": "stream",
     "text": [
      "C:\\/Users//jony//Programming//Python//Anubis//anubis//tools\\Reconstruction_tools.py:379: RuntimeWarning: invalid value encountered in divide\n",
      "  normal = np.cross(a, b)/np.linalg.norm(np.cross(a,b)) #looking from b\n"
     ]
    },
    {
     "name": "stdout",
     "output_type": "stream",
     "text": [
      "930 34\n",
      "RPC: 4\n",
      "Tracks: 2\n",
      "956 11\n",
      "RPC: 3\n",
      "Tracks: 2\n",
      "996 54\n",
      "RPC: 4\n",
      "Tracks: 2\n"
     ]
    }
   ],
   "source": [
    "importlib.reload(VTools)\n",
    "importlib.reload(RTools)\n",
    "reconstructor = RTools.Reconstructor(chunks[0], 0)\n",
    "reconstructor.tot_mean = tpt_mean\n",
    "reconstructor.tot_std = tot_std\n",
    "\n",
    "tracks = []\n",
    "#interesting = [(114, 39), (123, 65), (196, 92)]\n",
    "for processedEvents, evt_num in interesting:\n",
    "    reconstructor.tracks = []\n",
    "    print(processedEvents, evt_num)\n",
    "    reconstructor.update_event([chunks[processedEvents][evt_num]], processedEvents)\n",
    "    clusters = reconstructor.cluster()\n",
    "    chunk_tracks = reconstructor.reconstruct_tracks(clusters)\n",
    "    tracks.append(chunk_tracks)\n",
    "    VTools.event_3d_plot(chunks[processedEvents][evt_num], reconstructor, \"Potential jets\")"
   ]
  },
  {
   "cell_type": "code",
   "execution_count": 34,
   "metadata": {},
   "outputs": [
    {
     "name": "stdout",
     "output_type": "stream",
     "text": [
      "[-42.67013516 -42.67013516 -42.67013516]\n",
      "[-42.67013516 -42.67013516 -42.67013516]\n",
      "[ 99.74803065  33.22528422 -18.08087814]\n",
      "[102.69959135  35.19438002 -13.90785517]\n"
     ]
    },
    {
     "data": {
      "text/plain": [
       "(np.float64(5.663621652675622),\n",
       " array([102.69959135,  35.19438002, -13.90785517]))"
      ]
     },
     "execution_count": 34,
     "metadata": {},
     "output_type": "execute_result"
    }
   ],
   "source": [
    "RTools.intersection(tracks[0][0][0], tracks[0][0][1])"
   ]
  },
  {
   "cell_type": "code",
   "execution_count": 142,
   "metadata": {},
   "outputs": [
    {
     "name": "stdout",
     "output_type": "stream",
     "text": [
      "Mean 1.0049729763710953\n"
     ]
    }
   ],
   "source": [
    "speeds = []\n",
    "for tracks in reconstructor.tracks:\n",
    "    if tracks:\n",
    "        for track in tracks:\n",
    "            speeds.append(track.speed)\n",
    "print(\"Mean\", np.mean(speeds))\n",
    "hist, bins = np.histogram(speeds, bins=100, density=True)\n",
    "plt.plot(bins[:-1], hist)\n",
    "plt.vlines(np.mean(speeds), 0, max(hist), color=\"red\", label=f\"Mean {np.mean(speeds)} c\")\n",
    "plt.title(\"Speed of tracks\")\n",
    "plt.xlabel(\"Speed [c]\")\n",
    "plt.ylabel(\"Counts\")\n",
    "plt.legend()\n",
    "plt.show()"
   ]
  },
  {
   "cell_type": "code",
   "execution_count": 216,
   "metadata": {},
   "outputs": [
    {
     "name": "stdout",
     "output_type": "stream",
     "text": [
      "Mean 0.25790911824685864\n",
      "sigma -0.5818488944295358\n",
      "Mean 0.06942782469835455\n",
      "sigma -0.5634127422432911\n",
      "Mean 2.17698945272121\n",
      "sigma 2.5044894876283283\n",
      "Mean 6.619902168271083\n",
      "sigma 2.91238011053787\n",
      "Mean 6.199631794023697\n",
      "sigma 2.617768586336547\n",
      "Mean -0.3896962620845962\n",
      "NEw mean -0.2697363551278123\n",
      "sigma -0.8324003178920438\n",
      "Mean 1.3735450496022938\n",
      "NEw mean 2.5197855346759854\n",
      "sigma 2.6400840335445785\n",
      "Mean 5.742252265027096\n",
      "NEw mean 6.490651273404083\n",
      "sigma 3.105839610760191\n",
      "Mean 5.322733387568344\n",
      "NEw mean 6.158851200058061\n",
      "sigma 2.815370589638276\n"
     ]
    }
   ],
   "source": [
    "import scipy.optimize as opt\n",
    "def gauss(x, a, mu, sigma):\n",
    "    return a * np.exp(-(x - mu) ** 2 / (2 * sigma ** 2))\n",
    "\n",
    "pairs = [[0,1], [0,2], [0,3], [0,4], [0,5]]\n",
    "parameters1 = []\n",
    "tof_hist = reconstructor.tof_histogram(pairs)\n",
    "for idx, pair in enumerate(tof_hist):\n",
    "    hist, bins = np.histogram(pair, bins = 50, density=True, range = (-20, 20))\n",
    "    popt, pcov = opt.curve_fit(gauss, bins[:-1], hist, p0=[max(hist), 0, 10])\n",
    "    parameters1.append([popt[1],abs(popt[2])])\n",
    "    plt.plot(bins, gauss(bins, *popt), label = f\"RPC pair {pairs[idx]} fit\")    \n",
    "    print(\"Mean\", popt[1])\n",
    "    print(\"sigma\", popt[2])\n",
    "    plt.plot(bins[:-1], hist, label = f\"RPC pair {pairs[idx]}\")\n",
    "plt.xlabel(\"Time of flight [(25/32) ns]\")\n",
    "plt.ylabel(\"Normalized counts\")\n",
    "plt.title(\"Time of flight distribution\")\n",
    "plt.legend()\n",
    "plt.show()\n",
    "pairs = [[1,2], [1,3], [1,4], [1,5]]\n",
    "parameters2 = []\n",
    "tof_hist = reconstructor.tof_histogram(pairs)\n",
    "for idx, pair in enumerate(tof_hist):\n",
    "    hist, bins = np.histogram(pair, bins = 50, density=True, range = (-20, 20))\n",
    "    popt, pcov = opt.curve_fit(gauss, bins[:-1], hist, p0=[max(hist), 0, 10])\n",
    "    parameters2.append([popt[1], abs(popt[2])])\n",
    "    plt.plot(bins, gauss(bins, *popt), label = f\"RPC pair {pairs[idx]} fit\")    \n",
    "    print(\"Mean\", popt[1])\n",
    "    print(\"NEw mean\", np.mean(pair))\n",
    "    print(\"sigma\", popt[2])\n",
    "    plt.plot(bins[:-1], hist, label = f\"RPC pair {pairs[idx]}\")\n",
    "plt.xlabel(\"Time of flight [(25/32) ns]\")\n",
    "plt.ylabel(\"Normalized counts\")\n",
    "plt.title(\"Time of flight distribution\")\n",
    "plt.legend()\n",
    "plt.show()"
   ]
  },
  {
   "cell_type": "code",
   "execution_count": 210,
   "metadata": {},
   "outputs": [
    {
     "name": "stdout",
     "output_type": "stream",
     "text": [
      "[[np.float64(0.10025691523156223), np.float64(-0.10754441565267893)], [np.float64(0.22740549074801997), np.float64(0.1071276402591709)], [np.float64(0.2125391014614699), np.float64(0.09476314939705265)]]\n"
     ]
    }
   ],
   "source": [
    "#magic numbers\n",
    "good = parameters1[2:]\n",
    "print(good) \n",
    "good = [[np.float64(0.10025691523156223), np.float64(-0.10754441565267893)], [np.float64(0.22740549074801997), np.float64(0.1071276402591709)], [np.float64(0.2125391014614699), np.float64(0.09476314939705265)]]\n"
   ]
  },
  {
   "cell_type": "code",
   "execution_count": 217,
   "metadata": {},
   "outputs": [],
   "source": [
    "plt.plot(range(len(parameters1)+1),[0]+[pair[0] for pair in parameters1], label = \"RPC from RPC 0\", color = \"blue\")\n",
    "plt.errorbar(range(len(parameters1)+1),[0]+[pair[0] for pair in parameters1], yerr = [0]+[abs(pair[1]) for pair in parameters1], fmt = \"o\", color = \"blue\")\n",
    "plt.plot(range(1,len(parameters2)+2),[0]+[pair[0] for pair in parameters2], label = \"RPC from RPC 1\", color = \"orange\")\n",
    "plt.errorbar(range(1,len(parameters2)+2),[0]+[pair[0] for pair in parameters2], yerr = [0]+[abs(pair[1]) for pair in parameters2], fmt = \"o\", color = \"orange\")\n",
    "\n",
    "plt.xlabel(\"RPC pair\")\n",
    "plt.ylabel(\"Time of flight  [(25/32) ns / cm]\")\n",
    "plt.xlim(-1,6)\n",
    "plt.title(\"Time of flight normalized per distance\")\n",
    "plt.legend()\n",
    "plt.hlines(0, -1, 6, color = \"black\", linestyle = \"--\")\n",
    "plt.show()"
   ]
  },
  {
   "cell_type": "code",
   "execution_count": 218,
   "metadata": {},
   "outputs": [
    {
     "name": "stdout",
     "output_type": "stream",
     "text": [
      "[[np.float64(0.25790911824685864), np.float64(0.5818488944295358)], [np.float64(0.06942782469835455), np.float64(0.5634127422432911)], [np.float64(2.17698945272121), np.float64(2.5044894876283283)], [np.float64(6.619902168271083), np.float64(2.91238011053787)], [np.float64(6.199631794023697), np.float64(2.617768586336547)]]\n"
     ]
    }
   ],
   "source": [
    "print(parameters1)\n"
   ]
  },
  {
   "cell_type": "code",
   "execution_count": 18,
   "metadata": {},
   "outputs": [],
   "source": [
    "chi2 = []\n",
    "for event in interesting:\n",
    "    chi2.append(event[2][0].chi2)\n",
    "chi2 = np.array(chi2)\n",
    "hist, bins = np.histogram(chi2, bins=100, range=(0, 20))\n",
    "plt.step(bins[:-1], hist, where='mid')\n",
    "plt.show()"
   ]
  },
  {
   "cell_type": "code",
   "execution_count": 70,
   "metadata": {},
   "outputs": [
    {
     "name": "stdout",
     "output_type": "stream",
     "text": [
      "[[195.3125  103.59375  22.383     1.8    ]\n",
      " [196.09375 103.59375  22.383     3.     ]\n",
      " [197.65625 109.11875  28.3518   61.8    ]\n",
      " [200.      111.88125  34.3206  121.8    ]]\n",
      "[[194.53125 103.59375  22.383     0.6    ]\n",
      " [195.3125  103.59375  22.383     1.8    ]\n",
      " [197.65625 109.11875  28.3518   61.8    ]\n",
      " [200.      111.88125  34.3206  121.8    ]]\n"
     ]
    }
   ],
   "source": [
    "print(interesting[0][2][0].coordinates)\n",
    "print(interesting[0][2][1].coordinates)"
   ]
  },
  {
   "cell_type": "code",
   "execution_count": 48,
   "metadata": {},
   "outputs": [
    {
     "ename": "",
     "evalue": "",
     "output_type": "error",
     "traceback": [
      "\u001b[1;31mThe Kernel crashed while executing code in the current cell or a previous cell. \n",
      "\u001b[1;31mPlease review the code in the cell(s) to identify a possible cause of the failure. \n",
      "\u001b[1;31mClick <a href='https://aka.ms/vscodeJupyterKernelCrash'>here</a> for more info. \n",
      "\u001b[1;31mView Jupyter <a href='command:jupyter.viewOutput'>log</a> for further details."
     ]
    }
   ],
   "source": [
    "hist, bins = np.histogram(reconstructor.cluster_size[0][0], bins = np.arange(0, 64, 1), density = True)\n",
    "plt.step(bins[:-1], hist, label = r\"Clusters corresponding to $-3 < \\frac{\\eta - \\phi}{\\sigma} < 3$\", where='mid')\n",
    "hist, bins = np.histogram(reconstructor.cluster_size[0][1], bins = np.arange(0, 64, 1), density = True)\n",
    "plt.step(bins[:-1], hist, label = r\"Clusters corresponding to $5.8 < \\frac{\\eta - \\phi}{\\sigma} < 6.5$\", where='mid')\n",
    "plt.yscale(\"log\")\n",
    "plt.xlabel(\"$\\phi$ cluster size\")\n",
    "plt.ylabel(\"Density\")\n",
    "plt.title(\"Cluster size distribution of the primary and secondary peak\")\n",
    "plt.legend()\n",
    "plt.show()"
   ]
  },
  {
   "cell_type": "code",
   "execution_count": 127,
   "metadata": {},
   "outputs": [],
   "source": [
    "fig, ax = plt.subplots(figsize=(10, 8))\n",
    "TAnalyser.diffHists[5][4][24].plot1d(ax=ax, color=\"teal\", lw=3, label='proANUBIS Data')\n",
    "plt.show()"
   ]
  },
  {
   "cell_type": "code",
   "execution_count": 27,
   "metadata": {},
   "outputs": [],
   "source": [
    "for rpc in range(6):\n",
    "    hist, bins = np.histogram(reconstructor.collector[rpc], np.arange(-10, 10, 0.1), density=True)\n",
    "    plt.plot(bins[:-1], hist, label=f\"RPC {rpc}\")\n",
    "plt.vlines([-3,3], 0, max(hist), color='black', linestyles='dashed')\n",
    "plt.text(-3, max(hist), \"3$\\sigma$ away\", verticalalignment='bottom', horizontalalignment='right')\n",
    "plt.xlabel(\"Time Difference ($\\sigma_{tot}$)\")\n",
    "plt.ylabel(\"Distribution\")\n",
    "plt.title(\"$\\eta - \\phi$ time difference distribution\")\n",
    "plt.legend()\n",
    "plt.show()"
   ]
  },
  {
   "cell_type": "code",
   "execution_count": 17,
   "metadata": {},
   "outputs": [],
   "source": [
    "for rpc in range(6):\n",
    "    values = []\n",
    "    for cluster_size in reconstructor.collector[rpc].keys():\n",
    "        values.append(np.mean(reconstructor.collector[rpc][cluster_size]))\n",
    "    plt.scatter(list(reconstructor.collector[rpc].keys()), values, label=f'RPC {rpc}')\n",
    "\n",
    "plt.xlabel('Cluster size')\n",
    "plt.ylabel('Spread')\n",
    "plt.legend(loc='upper left')\n",
    "plt.xlim(0,10)\n",
    "plt.ylim(0,10)\n",
    "plt.show()"
   ]
  },
  {
   "cell_type": "code",
   "execution_count": 6,
   "metadata": {},
   "outputs": [
    {
     "name": "stdout",
     "output_type": "stream",
     "text": [
      "Warning: <class 'uhi.numpy_plottable.NumPyPlottableHistogram'> is not allowed to get flow bins, flow bin option set to None\n",
      "Warning: <class 'uhi.numpy_plottable.NumPyPlottableHistogram'> is not allowed to get flow bins, flow bin option set to None\n",
      "Warning: <class 'uhi.numpy_plottable.NumPyPlottableHistogram'> is not allowed to get flow bins, flow bin option set to None\n",
      "Warning: <class 'uhi.numpy_plottable.NumPyPlottableHistogram'> is not allowed to get flow bins, flow bin option set to None\n",
      "Warning: <class 'uhi.numpy_plottable.NumPyPlottableHistogram'> is not allowed to get flow bins, flow bin option set to None\n",
      "Warning: <class 'uhi.numpy_plottable.NumPyPlottableHistogram'> is not allowed to get flow bins, flow bin option set to None\n",
      "Warning: <class 'uhi.numpy_plottable.NumPyPlottableHistogram'> is not allowed to get flow bins, flow bin option set to None\n",
      "Warning: <class 'uhi.numpy_plottable.NumPyPlottableHistogram'> is not allowed to get flow bins, flow bin option set to None\n",
      "Warning: <class 'uhi.numpy_plottable.NumPyPlottableHistogram'> is not allowed to get flow bins, flow bin option set to None\n",
      "Warning: <class 'uhi.numpy_plottable.NumPyPlottableHistogram'> is not allowed to get flow bins, flow bin option set to None\n",
      "Warning: <class 'uhi.numpy_plottable.NumPyPlottableHistogram'> is not allowed to get flow bins, flow bin option set to None\n",
      "Warning: <class 'uhi.numpy_plottable.NumPyPlottableHistogram'> is not allowed to get flow bins, flow bin option set to None\n",
      "([[np.float64(2.081698275862068), np.float64(1.9524482758620676), np.float64(1.7356982758620685), np.float64(1.743948275862069), np.float64(1.4959482758620695), np.float64(1.2166982758620688), np.float64(1.0436982758620692), np.float64(1.0144482758620685), np.float64(1.2539482758620686), np.float64(1.5746982758620685), np.float64(0.7329482758620689), np.float64(0.44119827586206917), np.float64(0.7869482758620691), np.float64(-0.08605172413793112), np.float64(-0.01530172413793078), np.float64(-0.28830172413793087), np.float64(-0.35505172413793007), np.float64(-0.40305172413793067), np.float64(-0.6698017241379309), np.float64(-0.9178017241379313), np.float64(-1.1283017241379305), np.float64(-0.7013017241379295), np.float64(-1.1618017241379301), np.float64(-0.7535517241379304), np.float64(-1.51405172413793), np.float64(-2.2433017241379307), np.float64(-2.0038017241379285), np.float64(-2.0705517241379297), np.float64(-2.7623017241379304), np.float64(-2.9353017241379313), np.float64(-3.1083017241379305), np.float64(-3.281301724137931)], [np.float64(2.193708333333333), np.float64(2.020708333333333), np.float64(1.7664583333333337), np.float64(1.774708333333334), np.float64(1.5517083333333341), np.float64(1.247458333333333), np.float64(1.330708333333333), np.float64(1.0702083333333334), np.float64(1.478458333333333), np.float64(1.7304583333333354), np.float64(0.9949583333333328), np.float64(0.47195833333333376), np.float64(0.8677083333333339), np.float64(0.08845833333333368), np.float64(0.07795833333333417), np.float64(-0.25754166666666634), np.float64(-0.1430416666666655), np.float64(-0.022291666666665336), np.float64(-0.42029166666666684), np.float64(-0.8245416666666665), np.float64(-0.9162916666666661), np.float64(-0.5205416666666648), np.float64(-0.6810416666666667), np.float64(-0.4727916666666662), np.float64(-1.0332916666666654), np.float64(-1.7375416666666663), np.float64(-1.6917916666666657), np.float64(-1.3397916666666656), np.float64(-2.0502916666666655), np.float64(-2.379541666666666), np.float64(-2.2275416666666668), np.float64(-3.0067916666666656)], [np.float64(2.0469761904761916), np.float64(1.8739761904761916), np.float64(1.6057380952380953), np.float64(1.604166666666666), np.float64(1.4057698412698403), np.float64(1.086738095238095), np.float64(1.5169126984126986), np.float64(1.0835952380952383), np.float64(1.3550396825396827), np.float64(1.9693412698412713), np.float64(0.8693571428571428), np.float64(0.5630238095238097), np.float64(0.9424047619047623), np.float64(-0.06869047619047602), np.float64(0.2281507936507946), np.float64(-0.41469047619047594), np.float64(-0.20673809523809478), np.float64(-0.011484126984127322), np.float64(-0.5209920634920632), np.float64(-0.9797063492063495), np.float64(-0.8225476190476195), np.float64(0.013976190476192106), np.float64(-0.774896825396825), np.float64(-0.30662698412698397), np.float64(-0.6954999999999985), np.float64(-1.2240555555555555), np.float64(-1.7907063492063482), np.float64(-0.7256111111111109), np.float64(-2.2001984126984135), np.float64(-2.2335158730158735), np.float64(-2.0255634920634926), np.float64(-3.1636428571428565)], [np.float64(1.761087301587302), np.float64(1.5626904761904765), np.float64(1.8341349206349202), np.float64(1.2547857142857148), np.float64(1.4119444444444447), np.float64(0.8071984126984121), np.float64(1.6056269841269843), np.float64(0.8548492063492066), np.float64(0.8977222222222221), np.float64(1.5120238095238105), np.float64(0.4120396825396822), np.float64(0.10570634920634916), np.float64(0.7200079365079362), np.float64(-0.20854761904761945), np.float64(0.6152777777777787), np.float64(-0.014865079365079477), np.float64(-0.6767539682539682), np.float64(-0.2846746031746036), np.float64(-0.5910079365079364), np.float64(-0.8401984126984127), np.float64(-0.42272222222222233), np.float64(0.6995158730158739), np.float64(-0.6099920634920626), np.float64(-0.617912698412698), np.float64(-0.6829761904761886), np.float64(-1.0464523809523802), np.float64(-2.248023809523809), np.float64(-0.9607063492063486), np.float64(-2.1241825396825393), np.float64(-2.665436507936507), np.float64(-2.482880952380952), np.float64(-3.309849206349207)], [np.float64(1.8568968253968263), np.float64(1.8172301587301583), np.float64(1.9045476190476198), np.float64(1.2871031746031736), np.float64(1.3871190476190463), np.float64(0.7823730158730147), np.float64(1.5808015873015873), np.float64(1.1347857142857136), np.float64(0.8728968253968249), np.float64(1.6078333333333337), np.float64(0.5205476190476187), np.float64(0.08088095238095197), np.float64(0.8666111111111107), np.float64(0.13488095238095185), np.float64(0.8190238095238102), np.float64(0.5190396825396818), np.float64(-0.6063412698412698), np.float64(-0.2587063492063492), np.float64(-0.24757936507936507), np.float64(-0.5602619047619051), np.float64(-0.13008730158730206), np.float64(0.7318333333333336), np.float64(-0.6475158730158724), np.float64(-0.36337301587301557), np.float64(-0.7078015873015859), np.float64(-0.8998492063492056), np.float64(-2.0760238095238104), np.float64(-0.9855317460317459), np.float64(-2.16170634920635), np.float64(-2.417246031746032), np.float64(-2.5077063492063494), np.float64(-3.3346746031746033)], [np.float64(1.7602698412698417), np.float64(1.7586984126984122), np.float64(2.068238095238095), np.float64(1.2793650793650786), np.float64(1.3666825396825386), np.float64(0.9206666666666655), np.float64(1.3635396825396828), np.float64(1.2857777777777784), np.float64(0.8143650793650792), np.float64(1.6508888888888897), np.float64(0.35407936507936505), np.float64(-0.1363809523809526), np.float64(1.0810952380952363), np.float64(0.16523809523809524), np.float64(1.0716031746031756), np.float64(0.9684444444444451), np.float64(-0.5124920634920632), np.float64(0.21609523809523773), np.float64(-0.58547619047619), np.float64(-0.8092698412698415), np.float64(-0.11242857142857207), np.float64(1.0352063492063492), np.float64(-0.7123968253968246), np.float64(-0.5425396825396817), np.float64(-0.9250634920634904), np.float64(-1.1171111111111105), np.float64(-2.045666666666667), np.float64(-0.6694603174603169), np.float64(-2.0805555555555557), np.float64(-2.6345079365079367), np.float64(-2.7249682539682545), np.float64(-3.551936507936509)]], [[np.float64(-15.882000000000001), np.float64(-15.226241379310345), np.float64(-15.536), np.float64(-14.880241379310345), np.float64(-14.734827586206896), np.float64(-15.017000000000001), np.float64(-14.843999999999998), np.float64(-14.215827586206897), np.float64(-13.532482758620691), np.float64(-13.925000000000002), np.float64(-13.72441379310345), np.float64(-13.979000000000001), np.float64(-11.957724137931034), np.float64(-12.033000000000001), np.float64(-13.004827586206895), np.float64(-13.286999999999999), np.float64(-13.114), np.float64(-11.658241379310345), np.float64(-12.768), np.float64(-12.139827586206897), np.float64(-12.422), np.float64(-12.249), np.float64(-11.2208275862069), np.float64(-11.585758620689655), np.float64(-10.612758620689657), np.float64(-11.557000000000002), np.float64(-10.984000000000004), np.float64(-10.893758620689658), np.float64(-9.851793103448275), np.float64(-10.575344827586209), np.float64(-9.65751724137931), np.float64(-9.829344827586208), np.float64(-10.028758620689656), np.float64(-9.855758620689654), np.float64(-10.000000000000002), np.float64(-9.537344827586208), np.float64(-9.309172413793103), np.float64(-9.163758620689654), np.float64(-9.308000000000002), np.float64(-8.87293103448276), np.float64(-8.962000000000003), np.float64(-8.416586206896554), np.float64(-7.9539310344827605), np.float64(-8.443000000000003), np.float64(-8.270000000000003), np.float64(-8.097000000000003), np.float64(-7.924000000000002), np.float64(-7.571689655172415), np.float64(-7.343517241379313), np.float64(-7.225689655172417), np.float64(-7.025103448275863), np.float64(-6.383137931034486), np.float64(-6.444620689655173), np.float64(-6.713000000000003), np.float64(-6.098620689655174), np.float64(-6.2152758620689665), np.float64(-6.042275862068967), np.float64(-5.924448275862071), np.float64(-5.848000000000002), np.float64(-5.399137931034486), np.float64(-5.377862068965518), np.float64(-5.204862068965518), np.float64(-5.156000000000002), np.float64(-4.886448275862071)], [np.float64(-16.112666666666666), np.float64(-15.393), np.float64(-15.22), np.float64(-15.073666666666666), np.float64(-14.874000000000002), np.float64(-15.247666666666667), np.float64(-14.47466666666667), np.float64(-14.435), np.float64(-13.688666666666666), np.float64(-14.555666666666665), np.float64(-13.86266666666667), np.float64(-13.009666666666664), np.float64(-12.143333333333333), np.float64(-12.103666666666669), np.float64(-13.197333333333336), np.float64(-13.517666666666667), np.float64(-12.824666666666666), np.float64(-11.931666666666668), np.float64(-12.478666666666669), np.float64(-11.919), np.float64(-12.079333333333333), np.float64(-12.479666666666667), np.float64(-11.426666666666671), np.float64(-11.773666666666669), np.float64(-10.720666666666666), np.float64(-11.787666666666667), np.float64(-9.774666666666667), np.float64(-11.135000000000003), np.float64(-10.042000000000002), np.float64(-10.709000000000001), np.float64(-9.296000000000001), np.float64(-10.056333333333335), np.float64(-10.216666666666669), np.float64(-10.403666666666666), np.float64(-10.230666666666666), np.float64(-9.697666666666668), np.float64(-9.058), np.float64(-9.018333333333333), np.float64(-9.538666666666666), np.float64(-9.112333333333337), np.float64(-8.726000000000003), np.float64(-7.819666666666669), np.float64(-8.073333333333338), np.float64(-8.313666666666668), np.float64(-8.50066666666667), np.float64(-8.327666666666667), np.float64(-7.354666666666668), np.float64(-7.395000000000001), np.float64(-7.195333333333334), np.float64(-7.462333333333334), np.float64(-6.876000000000004), np.float64(-6.783000000000004), np.float64(-6.476666666666671), np.float64(-6.94366666666667), np.float64(-6.157333333333336), np.float64(-6.451000000000002), np.float64(-5.4780000000000015), np.float64(-6.078333333333335), np.float64(-6.078666666666669), np.float64(-5.559000000000003), np.float64(-5.3593333333333355), np.float64(-5.3596666666666675), np.float64(-5.3866666666666685), np.float64(-5.093666666666668)], [np.float64(-16.141500000000004), np.float64(-15.456000000000001), np.float64(-15.283000000000001), np.float64(-15.135), np.float64(-14.937), np.float64(-14.814000000000002), np.float64(-14.541), np.float64(-14.518000000000002), np.float64(-13.807500000000003), np.float64(-14.147000000000002), np.float64(-13.924), np.float64(-12.576), np.float64(-11.878), np.float64(-12.217500000000001), np.float64(-13.257), np.float64(-13.546499999999998), np.float64(-11.910999999999998), np.float64(-11.988000000000001), np.float64(-11.639999999999999), np.float64(-11.592), np.float64(-11.681500000000003), np.float64(-12.508500000000002), np.float64(-11.148), np.float64(-11.825), np.float64(-10.514499999999998), np.float64(-11.816500000000001), np.float64(-9.8435), np.float64(-10.308000000000002), np.float64(-9.760000000000002), np.float64(-10.762000000000004), np.float64(-8.989000000000003), np.float64(-10.1285), np.float64(-9.8055), np.float64(-9.7575), np.float64(-9.847), np.float64(-9.748999999999999), np.float64(-8.2635), np.float64(-8.503), np.float64(-9.5675), np.float64(-9.057000000000002), np.float64(-8.3465), np.float64(-7.823500000000001), np.float64(-8.100500000000002), np.float64(-7.9525000000000015), np.float64(-8.529500000000004), np.float64(-8.356500000000002), np.float64(-7.433500000000001), np.float64(-7.073000000000001), np.float64(-7.2375000000000025), np.float64(-7.189500000000003), np.float64(-6.391500000000001), np.float64(-6.131), np.float64(-6.520500000000002), np.float64(-6.972500000000002), np.float64(-5.887000000000001), np.float64(-6.2265000000000015), np.float64(-5.541), np.float64(-6.093000000000002), np.float64(-6.107500000000002), np.float64(-5.5845), np.float64(-5.261500000000002), np.float64(-5.213500000000002), np.float64(-5.415500000000003), np.float64(-5.130000000000002)], [np.float64(-16.026166666666665), np.float64(-15.306500000000002), np.float64(-14.28016666666667), np.float64(-14.987166666666665), np.float64(-14.107499999999998), np.float64(-14.667833333333336), np.float64(-13.068166666666666), np.float64(-14.375166666666667), np.float64(-13.628833333333333), np.float64(-13.615833333333335), np.float64(-13.3095), np.float64(-11.603166666666668), np.float64(-11.336833333333335), np.float64(-11.017166666666666), np.float64(-12.697500000000002), np.float64(-13.431166666666668), np.float64(-12.218166666666667), np.float64(-11.3785), np.float64(-11.432166666666667), np.float64(-10.952500000000002), np.float64(-11.366166666666667), np.float64(-12.393166666666666), np.float64(-9.553500000000001), np.float64(-11.687166666666668), np.float64(-9.340833333333332), np.float64(-11.194500000000001), np.float64(-8.941500000000001), np.float64(-10.195166666666669), np.float64(-9.928833333333332), np.float64(-9.715833333333332), np.float64(-8.4095), np.float64(-9.716500000000003), np.float64(-9.303500000000001), np.float64(-9.597166666666666), np.float64(-9.704166666666666), np.float64(-9.61116666666667), np.float64(-7.184833333333334), np.float64(-7.9718333333333335), np.float64(-9.0655), np.float64(-8.5325), np.float64(-8.172833333333335), np.float64(-7.319833333333334), np.float64(-7.933500000000002), np.float64(-7.480500000000001), np.float64(-8.080833333333336), np.float64(-7.934500000000001), np.float64(-7.2681666666666676), np.float64(-6.335166666666666), np.float64(-7.082166666666668), np.float64(-6.789166666666669), np.float64(-5.8695), np.float64(-6.269833333333335), np.float64(-6.243500000000003), np.float64(-6.577166666666669), np.float64(-5.764166666666669), np.float64(-5.777833333333335), np.float64(-4.9115), np.float64(-5.965166666666668), np.float64(-5.3255000000000035), np.float64(-5.445833333333336), np.float64(-4.579500000000002), np.float64(-5.0998333333333346), np.float64(-5.300166666666669), np.float64(-5.007166666666667)], [np.float64(-16.1415), np.float64(-14.0685), np.float64(-13.995499999999998), np.float64(-15.135), np.float64(-14.2995), np.float64(-14.814000000000004), np.float64(-13.3035), np.float64(-13.717999999999998), np.float64(-13.8075), np.float64(-13.7845), np.float64(-13.486499999999998), np.float64(-11.876000000000001), np.float64(-11.203), np.float64(-10.967500000000001), np.float64(-12.332), np.float64(-13.183999999999997), np.float64(-11.910999999999996), np.float64(-10.988), np.float64(-11.639999999999997), np.float64(-11.1795), np.float64(-11.556500000000002), np.float64(-12.121000000000006), np.float64(-9.835500000000005), np.float64(-11.412500000000001), np.float64(-9.277000000000001), np.float64(-11.291500000000003), np.float64(-8.6435), np.float64(-9.758000000000003), np.float64(-9.76), np.float64(-9.912), np.float64(-8.364), np.float64(-9.891), np.float64(-9.493), np.float64(-9.47), np.float64(-9.847), np.float64(-9.748999999999999), np.float64(-7.151), np.float64(-8.190500000000002), np.float64(-8.867500000000001), np.float64(-8.382000000000001), np.float64(-7.7715000000000005), np.float64(-7.2235000000000005), np.float64(-8.1005), np.float64(-7.402500000000001), np.float64(-7.954500000000002), np.float64(-8.094000000000003), np.float64(-7.1209999999999996), np.float64(-6.548), np.float64(-6.5249999999999995), np.float64(-6.952000000000003), np.float64(-5.579), np.float64(-6.131000000000002), np.float64(-6.408000000000003), np.float64(-6.472500000000002), np.float64(-5.6995000000000005), np.float64(-5.7015), np.float64(-4.691), np.float64(-5.930500000000002), np.float64(-5.245000000000004), np.float64(-5.559500000000001), np.float64(-4.5615000000000006), np.float64(-5.2385), np.float64(-5.4155000000000015), np.float64(-5.130000000000001)], [np.float64(-16.1415), np.float64(-14.068500000000002), np.float64(-13.995500000000002), np.float64(-15.135), np.float64(-14.2995), np.float64(-14.814000000000002), np.float64(-12.791), np.float64(-13.718), np.float64(-13.8075), np.float64(-13.7845), np.float64(-12.949), np.float64(-11.438500000000001), np.float64(-10.7405), np.float64(-10.917500000000004), np.float64(-11.744500000000006), np.float64(-12.696500000000002), np.float64(-11.423499999999999), np.float64(-10.988000000000001), np.float64(-11.639999999999999), np.float64(-11.179499999999999), np.float64(-11.5565), np.float64(-11.6335), np.float64(-9.273000000000001), np.float64(-10.925), np.float64(-8.714500000000001), np.float64(-11.291500000000001), np.float64(-8.256000000000002), np.float64(-9.658), np.float64(-9.76), np.float64(-9.474500000000003), np.float64(-7.976500000000001), np.float64(-9.891000000000002), np.float64(-9.493), np.float64(-9.47), np.float64(-9.4095), np.float64(-9.336500000000001), np.float64(-7.150999999999998), np.float64(-7.315500000000001), np.float64(-8.867500000000001), np.float64(-8.382000000000001), np.float64(-7.771500000000001), np.float64(-7.223500000000002), np.float64(-7.638000000000002), np.float64(-7.402500000000002), np.float64(-7.067000000000001), np.float64(-7.994000000000001), np.float64(-7.121), np.float64(-6.548), np.float64(-6.300000000000001), np.float64(-6.952000000000003), np.float64(-5.579), np.float64(-5.531), np.float64(-6.408000000000002), np.float64(-6.222500000000003), np.float64(-5.2870000000000035), np.float64(-5.701500000000001), np.float64(-4.591), np.float64(-5.805500000000001), np.float64(-4.9075000000000015), np.float64(-5.4595), np.float64(-4.149000000000001), np.float64(-5.051), np.float64(-5.4155000000000015), np.float64(-5.130000000000001)]])\n"
     ]
    }
   ],
   "source": [
    "importlib.reload(proAnubis_Analysis_Tools)\n",
    "TAnalyser = proAnubis_Analysis_Tools.Timing_Analyser(chunks[0],0)\n",
    "for processedEvents, chunk in enumerate(chunks):\n",
    "    TAnalyser.update_event(chunk, processedEvents)\n",
    "    TAnalyser.readTDCTimeDiffs()\n",
    "\n",
    "#TAnalyser.calculate_correction_stats()\n",
    "\n",
    "residEta, residPhi = TAnalyser.Calculate_Residual_and_plot_TDC_Time_Diffs( \n",
    "                                                     pdf_filename='output/TDC_time_diffs.pdf', \n",
    "                                                     max_itr = 5)\n",
    "\n",
    "print((residEta, residPhi))\n",
    "outDict = {'totDiffs':TAnalyser.totDiffs,\n",
    "            'nDiffs':TAnalyser.nDiffs,\n",
    "            'diffHists':TAnalyser.diffHists} \n"
   ]
  },
  {
   "cell_type": "code",
   "execution_count": 16,
   "metadata": {},
   "outputs": [
    {
     "name": "stdout",
     "output_type": "stream",
     "text": [
      "64\n"
     ]
    }
   ],
   "source": [
    "print(len(residPhi[0]))"
   ]
  },
  {
   "cell_type": "code",
   "execution_count": 19,
   "metadata": {},
   "outputs": [
    {
     "name": "stdout",
     "output_type": "stream",
     "text": [
      "260\n"
     ]
    }
   ],
   "source": [
    "importlib.reload(VTools)\n",
    "file_path = \"data//interesting_events.pkl\"\n",
    "with open(file_path, 'rb') as f:\n",
    "    data = pickle.load(f)\n",
    "    print(len(data))\n",
    "interesting_events = data\n",
    "for event in interesting_events[10:11]:\n",
    "   VTools.event_3d_plot(event, 0)"
   ]
  },
  {
   "cell_type": "code",
   "execution_count": 11,
   "metadata": {},
   "outputs": [
    {
     "name": "stdout",
     "output_type": "stream",
     "text": [
      "0\n",
      "1\n",
      "2\n",
      "3\n",
      "4\n",
      "5\n",
      "6\n",
      "7\n",
      "8\n",
      "9\n",
      "10\n",
      "11\n",
      "12\n",
      "13\n",
      "14\n",
      "15\n",
      "16\n",
      "17\n",
      "18\n",
      "19\n",
      "20\n",
      "21\n",
      "22\n",
      "23\n",
      "24\n",
      "25\n",
      "26\n",
      "27\n",
      "28\n",
      "29\n",
      "30\n",
      "31\n",
      "32\n",
      "33\n",
      "34\n",
      "35\n",
      "36\n",
      "37\n",
      "38\n",
      "39\n",
      "40\n",
      "41\n",
      "42\n",
      "43\n",
      "44\n",
      "45\n",
      "46\n",
      "47\n",
      "48\n",
      "49\n",
      "50\n",
      "51\n",
      "52\n",
      "53\n",
      "54\n",
      "55\n",
      "56\n",
      "57\n",
      "58\n",
      "59\n",
      "60\n",
      "61\n",
      "62\n",
      "63\n",
      "64\n",
      "65\n",
      "66\n",
      "67\n",
      "68\n",
      "69\n",
      "70\n",
      "71\n",
      "72\n",
      "73\n",
      "74\n",
      "75\n",
      "76\n",
      "77\n",
      "78\n",
      "79\n",
      "80\n",
      "81\n",
      "82\n",
      "83\n",
      "84\n",
      "85\n",
      "86\n",
      "87\n",
      "88\n",
      "89\n",
      "90\n",
      "91\n",
      "92\n",
      "93\n",
      "94\n",
      "95\n",
      "96\n",
      "97\n",
      "98\n",
      "99\n",
      "100\n",
      "101\n",
      "102\n",
      "103\n",
      "104\n",
      "105\n",
      "106\n",
      "107\n",
      "108\n",
      "109\n",
      "110\n",
      "111\n",
      "112\n",
      "113\n",
      "114\n",
      "115\n",
      "116\n",
      "117\n",
      "118\n",
      "119\n",
      "120\n",
      "121\n",
      "122\n",
      "123\n",
      "124\n",
      "125\n",
      "126\n",
      "127\n",
      "128\n",
      "129\n",
      "130\n",
      "131\n",
      "132\n",
      "133\n",
      "134\n",
      "135\n",
      "136\n",
      "137\n",
      "138\n",
      "139\n",
      "140\n",
      "141\n",
      "142\n",
      "143\n",
      "144\n",
      "145\n",
      "146\n",
      "147\n",
      "148\n",
      "149\n",
      "150\n",
      "151\n",
      "152\n",
      "153\n",
      "154\n",
      "155\n",
      "156\n",
      "157\n",
      "158\n",
      "159\n",
      "160\n",
      "161\n",
      "162\n",
      "163\n",
      "164\n",
      "165\n",
      "166\n",
      "167\n",
      "168\n",
      "169\n",
      "170\n",
      "171\n",
      "172\n",
      "173\n",
      "174\n",
      "175\n",
      "176\n",
      "177\n",
      "178\n",
      "179\n",
      "180\n",
      "181\n"
     ]
    },
    {
     "ename": "KeyboardInterrupt",
     "evalue": "",
     "output_type": "error",
     "traceback": [
      "\u001b[1;31m---------------------------------------------------------------------------\u001b[0m",
      "\u001b[1;31mKeyboardInterrupt\u001b[0m                         Traceback (most recent call last)",
      "Cell \u001b[1;32mIn[11], line 11\u001b[0m\n\u001b[0;32m      9\u001b[0m chi2_region \u001b[38;5;241m=\u001b[39m (\u001b[38;5;241m0\u001b[39m, \u001b[38;5;241m100\u001b[39m)\n\u001b[0;32m     10\u001b[0m \u001b[38;5;28;01mfor\u001b[39;00m evt_num, cluster \u001b[38;5;129;01min\u001b[39;00m \u001b[38;5;28menumerate\u001b[39m(clusters):\n\u001b[1;32m---> 11\u001b[0m     tracks \u001b[38;5;241m=\u001b[39m \u001b[43mRTools\u001b[49m\u001b[38;5;241;43m.\u001b[39;49m\u001b[43mreconstruct_timed_Chi2_ByRPC\u001b[49m\u001b[43m(\u001b[49m\u001b[43mcluster\u001b[49m\u001b[43m,\u001b[49m\u001b[43m \u001b[49m\u001b[38;5;241;43m3\u001b[39;49m\u001b[43m,\u001b[49m\u001b[43m \u001b[49m\u001b[38;5;241;43m-\u001b[39;49m\u001b[38;5;241;43m1\u001b[39;49m\u001b[43m)\u001b[49m\n\u001b[0;32m     12\u001b[0m     \u001b[38;5;28;01mif\u001b[39;00m tracks \u001b[38;5;129;01mand\u001b[39;00m \u001b[38;5;28mlen\u001b[39m(tracks) \u001b[38;5;241m>\u001b[39m \u001b[38;5;241m1\u001b[39m:\n\u001b[0;32m     13\u001b[0m         chi2\u001b[38;5;241m.\u001b[39mappend(tracks[\u001b[38;5;241m1\u001b[39m][\u001b[38;5;241m4\u001b[39m])\n",
      "File \u001b[1;32mC:\\/Users//jony//Programming//Python//Anubis//anubis//tools\\Reconstruction_tools.py:451\u001b[0m, in \u001b[0;36mreconstruct_timed_Chi2_ByRPC\u001b[1;34m(event, max_cluster_size, RPC_excluded, rpc_indicies)\u001b[0m\n\u001b[0;32m    449\u001b[0m \u001b[38;5;28;01mif\u001b[39;00m \u001b[38;5;28mlen\u001b[39m(combo) \u001b[38;5;241m<\u001b[39m \u001b[38;5;241m5\u001b[39m:\n\u001b[0;32m    450\u001b[0m     \u001b[38;5;28;01mcontinue\u001b[39;00m\n\u001b[1;32m--> 451\u001b[0m centroid, d, Chi2, coordinates, delta_T, delta_Z\u001b[38;5;241m=\u001b[39m \u001b[43mfit_event_chi2\u001b[49m\u001b[43m(\u001b[49m\u001b[43mcombo\u001b[49m\u001b[43m,\u001b[49m\u001b[43m \u001b[49m\u001b[43mrpc_indicies\u001b[49m\u001b[43m \u001b[49m\u001b[38;5;241;43m=\u001b[39;49m\u001b[43m \u001b[49m\u001b[43mrpc_indicies\u001b[49m\u001b[43m)\u001b[49m\n\u001b[0;32m    452\u001b[0m \u001b[38;5;28;01mif\u001b[39;00m Chi2 \u001b[38;5;241m<\u001b[39m Chi2_current:\n\u001b[0;32m    453\u001b[0m \n\u001b[0;32m    454\u001b[0m     \u001b[38;5;66;03m# If new fit is better than old then replace old fit properties.\u001b[39;00m\n\u001b[0;32m    455\u001b[0m     dZ \u001b[38;5;241m=\u001b[39m delta_Z \n",
      "File \u001b[1;32mC:\\/Users//jony//Programming//Python//Anubis//anubis//tools\\Reconstruction_tools.py:332\u001b[0m, in \u001b[0;36mfit_event_chi2\u001b[1;34m(coordinates_with_error, rpc_indicies)\u001b[0m\n\u001b[0;32m    330\u001b[0m \u001b[38;5;66;03m# performing SVD\u001b[39;00m\n\u001b[0;32m    331\u001b[0m \u001b[38;5;28;01mtry\u001b[39;00m:\n\u001b[1;32m--> 332\u001b[0m     _, _, V \u001b[38;5;241m=\u001b[39m \u001b[43mnp\u001b[49m\u001b[38;5;241;43m.\u001b[39;49m\u001b[43mlinalg\u001b[49m\u001b[38;5;241;43m.\u001b[39;49m\u001b[43msvd\u001b[49m\u001b[43m(\u001b[49m\u001b[43msubtracted\u001b[49m\u001b[43m)\u001b[49m\n\u001b[0;32m    333\u001b[0m \u001b[38;5;28;01mexcept\u001b[39;00m np\u001b[38;5;241m.\u001b[39mlinalg\u001b[38;5;241m.\u001b[39mLinAlgError:\n\u001b[0;32m    334\u001b[0m     \u001b[38;5;28;01mreturn\u001b[39;00m \u001b[38;5;28;01mNone\u001b[39;00m, \u001b[38;5;28;01mNone\u001b[39;00m, np\u001b[38;5;241m.\u001b[39minf, \u001b[38;5;28;01mNone\u001b[39;00m, \u001b[38;5;28;01mNone\u001b[39;00m, \u001b[38;5;28;01mNone\u001b[39;00m\n",
      "File \u001b[1;32mc:\\Users\\jony\\Programming\\Python\\Anubis\\anubis\\.venv\\lib\\site-packages\\numpy\\linalg\\_linalg.py:1796\u001b[0m, in \u001b[0;36msvd\u001b[1;34m(a, full_matrices, compute_uv, hermitian)\u001b[0m\n\u001b[0;32m   1792\u001b[0m signature \u001b[38;5;241m=\u001b[39m \u001b[38;5;124m'\u001b[39m\u001b[38;5;124mD->DdD\u001b[39m\u001b[38;5;124m'\u001b[39m \u001b[38;5;28;01mif\u001b[39;00m isComplexType(t) \u001b[38;5;28;01melse\u001b[39;00m \u001b[38;5;124m'\u001b[39m\u001b[38;5;124md->ddd\u001b[39m\u001b[38;5;124m'\u001b[39m\n\u001b[0;32m   1793\u001b[0m \u001b[38;5;28;01mwith\u001b[39;00m errstate(call\u001b[38;5;241m=\u001b[39m_raise_linalgerror_svd_nonconvergence,\n\u001b[0;32m   1794\u001b[0m               invalid\u001b[38;5;241m=\u001b[39m\u001b[38;5;124m'\u001b[39m\u001b[38;5;124mcall\u001b[39m\u001b[38;5;124m'\u001b[39m, over\u001b[38;5;241m=\u001b[39m\u001b[38;5;124m'\u001b[39m\u001b[38;5;124mignore\u001b[39m\u001b[38;5;124m'\u001b[39m, divide\u001b[38;5;241m=\u001b[39m\u001b[38;5;124m'\u001b[39m\u001b[38;5;124mignore\u001b[39m\u001b[38;5;124m'\u001b[39m,\n\u001b[0;32m   1795\u001b[0m               under\u001b[38;5;241m=\u001b[39m\u001b[38;5;124m'\u001b[39m\u001b[38;5;124mignore\u001b[39m\u001b[38;5;124m'\u001b[39m):\n\u001b[1;32m-> 1796\u001b[0m     u, s, vh \u001b[38;5;241m=\u001b[39m \u001b[43mgufunc\u001b[49m\u001b[43m(\u001b[49m\u001b[43ma\u001b[49m\u001b[43m,\u001b[49m\u001b[43m \u001b[49m\u001b[43msignature\u001b[49m\u001b[38;5;241;43m=\u001b[39;49m\u001b[43msignature\u001b[49m\u001b[43m)\u001b[49m\n\u001b[0;32m   1797\u001b[0m u \u001b[38;5;241m=\u001b[39m u\u001b[38;5;241m.\u001b[39mastype(result_t, copy\u001b[38;5;241m=\u001b[39m\u001b[38;5;28;01mFalse\u001b[39;00m)\n\u001b[0;32m   1798\u001b[0m s \u001b[38;5;241m=\u001b[39m s\u001b[38;5;241m.\u001b[39mastype(_realType(result_t), copy\u001b[38;5;241m=\u001b[39m\u001b[38;5;28;01mFalse\u001b[39;00m)\n",
      "\u001b[1;31mKeyboardInterrupt\u001b[0m: "
     ]
    }
   ],
   "source": [
    "reconstructor = proAnubis_Analysis_Tools.Reconstructor(interesting_events, 0)\n",
    "# populate_hits turns TDC bit wise information into their corresponding strips\n",
    "reconstructor.populate_hits()\n",
    "# This is optionnal, and requires the residual of eta and phi\n",
    "    # make_cluster does temporal and spatial coincidence between the stips, and reconstruction is done\n",
    "clusters = reconstructor.make_cluster()\n",
    "\n",
    "chi2 = []\n",
    "chi2_region = (0, 100)\n",
    "for evt_num, cluster in enumerate(clusters):\n",
    "    tracks = RTools.reconstruct_timed_Chi2_ByRPC(cluster, 3, -1)\n",
    "    if tracks and len(tracks) > 1:\n",
    "        chi2.append(tracks[1][4])\n",
    "    print(evt_num)"
   ]
  },
  {
   "cell_type": "code",
   "execution_count": 12,
   "metadata": {},
   "outputs": [
    {
     "name": "stdout",
     "output_type": "stream",
     "text": [
      "Efficiency Done\n",
      "Possible reconstructions [0, 0, 0, 0, 0, 0]\n",
      "[0.4318181818181818, 0.6, 0.6818181818181818, 0.4406779661016949, 0.35, 0.6071428571428571]\n"
     ]
    }
   ],
   "source": [
    "plt.figure(figsize=(10, 6))\n",
    "max_eff = []\n",
    "for RPC in range(6):\n",
    "    if possible_reconstructions[RPC] == 0:\n",
    "        efficiency = [0 for x in successful_reconstructions[RPC]]\n",
    "    else:\n",
    "        efficiency = [x / possible_reconstructions[RPC] for x in successful_reconstructions[RPC]]\n",
    "    max_eff.append(efficiency[-1])\n",
    "    plt.plot(tol, efficiency, label=f'RPC {RPC}')\n",
    "\n",
    "plt.xlabel('Tolerance')\n",
    "plt.ylabel('Efficiency')\n",
    "plt.title('The efficiency of the second track reconstruction')\n",
    "plt.legend()\n",
    "plt.grid(True)\n",
    "plt.show()\n",
    "plt.close()\n",
    "print(\"Efficiency Done\")\n",
    "print(\"Possible reconstructions\", reconstructor.possible_reconstructions)\n",
    "print(max_eff)"
   ]
  },
  {
   "cell_type": "code",
   "execution_count": 18,
   "metadata": {},
   "outputs": [
    {
     "name": "stdout",
     "output_type": "stream",
     "text": [
      "3.549413719172803\n",
      "[np.float64(2.923268450788971), np.float64(1.5455626187848202), np.float64(1.3824512933971917), np.float64(0.2870659845529911), np.float64(6.057028098867192), np.float64(1.1170741127596033), np.float64(0.47158490850782714), np.float64(1.4008653273049967), np.float64(6.473761420102736), np.float64(1.6294728836774055), np.float64(1.5255178606337314), np.float64(0.4398499126206219), np.float64(3.4205517579528855), np.float64(2.100629585341305), np.float64(3.8330354225996115), np.float64(1.600927888787882), np.float64(4.449677296942161), np.float64(4.449677296942161), np.float64(4.449677296942161), np.float64(4.449677296942161), np.float64(4.449677296942161), np.float64(4.449677296942161), np.float64(4.6383741165254815), np.float64(4.6383741165254815), np.float64(4.6383741165254815), np.float64(4.6383741165254815), np.float64(4.6383741165254815), np.float64(4.6383741165254815), np.float64(5.698472209406913), np.float64(5.698472209406913), np.float64(5.698472209406913), np.float64(5.698472209406913), np.float64(5.698472209406913), np.float64(5.698472209406913), np.float64(6.328031724165147), np.float64(0.37710576628647224), np.float64(7.325059558773219), np.float64(6.587935864600887), np.float64(9.38862172033483), np.float64(2.2519919149052456), np.float64(0.8196106173030243), np.float64(3.680081859289625), np.float64(5.459409426240427), np.float64(1.3538568328433682), np.float64(0.820961324947131), np.float64(5.403311698273861), np.float64(5.634210164993198), np.float64(3.256652605378344), np.float64(3.256652605378344), np.float64(3.256652605378344), np.float64(3.256652605378344), np.float64(3.256652605378344), np.float64(3.256652605378344), np.float64(3.1306520158243503), np.float64(3.1306520158243503), np.float64(3.1306520158243503), np.float64(3.1306520158243503), np.float64(3.1306520158243503), np.float64(3.1306520158243503), np.float64(1.9548221487286825), np.float64(4.59192407453934), np.float64(0.4559054424241508), np.float64(3.994023045768157), np.float64(0.009598848790705652), np.float64(2.907212904421494), np.float64(1.847030775309227), np.float64(0.7306779752798565), np.float64(7.021862842514789), np.float64(1.9380149537851163), np.float64(0.012373379514848721), np.float64(7.651732520722398), np.float64(3.0441217157512495), np.float64(2.2985676156319665), np.float64(4.2367633622813905), np.float64(1.3550056146237461), np.float64(1.5348424309383184), np.float64(1.5348424309383184), np.float64(1.5348424309383184), np.float64(1.5348424309383184), np.float64(1.5348424309383184), np.float64(1.5348424309383184), np.float64(6.815403147611007), np.float64(2.962022629121293), np.float64(1.8857383069434184), np.float64(2.3798102459327826), np.float64(7.6115314927960425), np.float64(7.6115314927960425), np.float64(7.6115314927960425), np.float64(7.6115314927960425), np.float64(7.6115314927960425), np.float64(7.6115314927960425), np.float64(6.019221114832796), np.float64(0.0791897271049115), np.float64(3.3827524118882852), np.float64(2.517441035010737), np.float64(3.9493102337573585), np.float64(0.6234356342941696), np.float64(1.84166177142699), np.float64(3.931693249313128), np.float64(1.0156084690732354), np.float64(9.093256481943119), np.float64(9.093256481943119), np.float64(9.093256481943119), np.float64(1.2058412859564736), np.float64(3.2653961888373164), np.float64(2.0546000364487993), np.float64(7.056156990685611), np.float64(6.265607218687138), np.float64(0.020292343945723084), np.float64(0.8410720150166889), np.float64(8.550083551353223), np.float64(5.755425063030976), np.float64(1.2924738011855041), np.float64(2.0442727323720775), np.float64(2.350858044618328), np.float64(0.16233966712284634), np.float64(9.970711883383604), np.float64(0.1950057766933787), np.float64(0.8451927878332851), np.float64(4.706158614604916), np.float64(2.0744012754525487), np.float64(0.40040993058465535), np.float64(2.0363403593605), np.float64(0.39190270428231017), np.float64(9.644347932389131), np.float64(2.476994729252263), np.float64(6.204799899837352), np.float64(3.452080420516195), np.float64(1.6740047064119203), np.float64(7.11085428447312), np.float64(1.0966284692314419), np.float64(6.4037115631179296), np.float64(0.8790771708354516), np.float64(0.012478503911423078), np.float64(6.529553364409146), np.float64(1.967376496891432), np.float64(4.470556827077824), np.float64(0.3756938759155864), np.float64(4.936851786236806), np.float64(3.816103114466778), np.float64(4.757816402602871), np.float64(0.3856167753901681), np.float64(0.004949351671655166), np.float64(6.118720792546493), np.float64(0.43125327249647216), np.float64(8.741833791941959), np.float64(1.8829972622107662), np.float64(4.4119592882367105), np.float64(4.4119592882367105), np.float64(4.4119592882367105), np.float64(4.4119592882367105), np.float64(4.4119592882367105), np.float64(4.4119592882367105), np.float64(8.632703708922072), np.float64(2.379213820842806), np.float64(2.379213820842806), np.float64(2.379213820842806), np.float64(2.379213820842806), np.float64(2.379213820842806), np.float64(2.379213820842806), np.float64(0.04800874059405714), np.float64(0.0004949351635218295)]\n"
     ]
    }
   ],
   "source": [
    "#plot chi2 distribution\n",
    "import scipy.special as sp\n",
    "k = np.mean(chi2)\n",
    "plt.hist(chi2, bins = int(np.sqrt(8*len(chi2))), density = True)\n",
    "x = np.array([i for i in range(0, 10)])\n",
    "print(sp.gamma(k))\n",
    "plt.plot(x, 2.4*x**(k/2-1)*np.exp(-x/2)/((2**(k/2))*sp.gamma(k/2)), label = f\"Idealised χ2({round(k,2)}) distribution\")#pdf of chi2\n",
    "plt.title('χ2 distribution of the second track')\n",
    "plt.xlabel('Chi2')\n",
    "plt.legend()\n",
    "plt.ylabel('Frequency')\n",
    "plt.show()\n",
    "print(chi2)"
   ]
  }
 ],
 "metadata": {
  "kernelspec": {
   "display_name": ".venv",
   "language": "python",
   "name": "python3"
  },
  "language_info": {
   "codemirror_mode": {
    "name": "ipython",
    "version": 3
   },
   "file_extension": ".py",
   "mimetype": "text/x-python",
   "name": "python",
   "nbconvert_exporter": "python",
   "pygments_lexer": "ipython3",
   "version": "3.10.4"
  }
 },
 "nbformat": 4,
 "nbformat_minor": 2
}
