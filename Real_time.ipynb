{
 "cells": [
  {
   "cell_type": "code",
   "execution_count": 1,
   "metadata": {},
   "outputs": [
    {
     "name": "stdout",
     "output_type": "stream",
     "text": [
      "['C://Users//jony//Programming//Python//Anubis//anubis////data//proAnubis_240731_0817.raw', 'C://Users//jony//Programming//Python//Anubis//anubis////data//proAnubis_240731_0217.raw', 'C://Users//jony//Programming//Python//Anubis//anubis////data//proAnubis_240731_0017.raw', 'C://Users//jony//Programming//Python//Anubis//anubis////data//proAnubis_240716_2142.raw']\n"
     ]
    }
   ],
   "source": [
    "import importlib\n",
    "import sys\n",
    "from tqdm import tqdm\n",
    "import  os\n",
    "import glob\n",
    "from datetime import datetime\n",
    "import matplotlib.pyplot as plt\n",
    "# Add the directories to the sys.path\n",
    "dir_path = \"C://Users//jony//Programming//Python//Anubis//anubis//\" # insert your directory path\n",
    "sys.path.append(dir_path + \"Osiris//processing//python\")\n",
    "sys.path.append(dir_path + \"tools\")\n",
    "\n",
    "import Analysis_tools as ATools\n",
    "import proAnubis_Analysis_Tools\n",
    "import Reconstruction_tools as RTools\n",
    "import mplhep as hep\n",
    "import Timing_tools as TTools\n",
    "import rawFileReader\n",
    "import Visual_tools as VTools\n",
    "hep.style.use([hep.style.ATLAS])\n",
    "\n",
    "# Specify the directory\n",
    "data_list = sorted([f for f in os.listdir(\"data\") if os.path.isfile(os.path.join(\"data\", f))], reverse=True) ##all files in data directory sorted from the newest to the oldest\n",
    "\n",
    "file_path = list(map(lambda p: dir_path+\"//data//\"+p, data_list)) #\n",
    "print(file_path)"
   ]
  },
  {
   "cell_type": "code",
   "execution_count": null,
   "metadata": {},
   "outputs": [],
   "source": [
    "importlib.reload(rawFileReader) # Reload fReader\n",
    "importlib.reload(proAnubis_Analysis_Tools)\n",
    "importlib.reload(ATools)\n",
    "importlib.reload(VTools)\n",
    "import matplotlib.pyplot as plt\n",
    "\n",
    "interval = 1_00 # Set your monitoring chunck size\n",
    "order = [[0,1], [1,2], [2,3], [3,4]] # Order what you want to align\n",
    "max_process_event_chunk = 50_000 # End the loop early\n",
    "    \n",
    "for file in file_path:\n",
    "    fReader = rawFileReader.fileReader(file) # load in the classs object\n",
    "    processedEvents = 0 # Initialisation\n",
    "    noiseStart = 0\n",
    "    firstNoise = False\n",
    "    initial_event_chunk = fReader.get_aligned_events(order=order, interval=interval)\n",
    "    originTime = initial_event_chunk[0].tdcEvents[0].time\n",
    "    mets = [[] for tdc in range(5)]\n",
    "    mets_off = [[] for tdc in range(5)]\n",
    "    file_name = file.split(\"//\")[-1][:-4]\n",
    "    tdc_mets = [[] for tdc in range(5)]\n",
    "    Tot_TDC_info = [[] for tdc in range(5)]\n",
    "    chunks = []\n",
    "    with tqdm(total=max_process_event_chunk, desc=f\"Processing Events {file_name}\", unit='Events') as pbar:\n",
    "        while processedEvents < max_process_event_chunk:\n",
    "            processedEvents += 1\n",
    "            try:\n",
    "                event_chunk, tdc_met, TDC_info = fReader.get_aligned_events(order=order, interval=interval, extract_tdc_mets = True) # get the aligned events\n",
    "            except Exception as e:\n",
    "                print(e)\n",
    "                break\n",
    "            [tdc_mets[i].append(tdc_met[i]) for i in range(5) if tdc_met[i] != 0]\n",
    "            [Tot_TDC_info[i].extend(TDC_info[i]) for i in range(5) if TDC_info[i]]\n",
    "            for idx, (i, j) in enumerate(order):\n",
    "                x, y, l, m = ATools.find_tdc_alignment_metric(i, j) # determining which RPCs to use for aignment metric\n",
    "                alignMet = ATools.calcAvgAlign(event_chunk, 0, x, y, l, m, i, j, processedEvents) # determine the alignment metric\n",
    "                #alignMet_off = ATools.calcAvgAlign(event_chunk, 15, x, y, l, m, i, j, processedEvents) # determine the alignment metric\n",
    "                \n",
    "                #mets_off[idx].append(alignMet_off) # write to memory\n",
    "                mets[idx].append(alignMet) # write to memory\n",
    "                if alignMet > 40 and not firstNoise:\n",
    "                    for tdc in range(5):\n",
    "                        if event_chunk[0].tdcEvents[tdc].time != 0:\n",
    "                            noiseTime = event_chunk[0].tdcEvents[tdc].time\n",
    "                            break\n",
    "                    if noiseTime == 0:\n",
    "                        print(\"No hits in the event???\")\n",
    "                    startTime =  noiseTime - originTime\n",
    "                    print(startTime)\n",
    "                    noiseStart = processedEvents*interval\n",
    "                    firstNoise = True\n",
    "            pbar.update(1)\n",
    "    \n",
    "    #plot_alignment(mets_off, order, max_process_event_chunk, file_name+\"_off\")\n",
    "    #plot_alignment(mets, order, max_process_event_chunk, file_name+\"fuck\")\n",
    "    #plot_bvg(tdc_mets, max_process_event_chunk, file_name+\"fuck\")\n",
    "    #plot_bvg(tdc_mets, max_process_event_chunk, file_name)\n",
    "    print(noiseStart)\n",
    "    #TTools.plot_tdc_error_times_custom_ranges(Tot_TDC_info, [(0, noiseStart), (noiseStart, max_process_event_chunk*interval)], output_pdf=f'output//transition//Time_Hit_{file_name}.pdf')\n",
    "    TTools.plot_tdc_error_channels_custom_ranges(Tot_TDC_info, [(0, noiseStart), (noiseStart, max_process_event_chunk*interval)], tdcs_to_plot=None, output_pdf=f'output//transition//TDC_channel_perEv_{file_name}.pdf')\n"
   ]
  }
 ],
 "metadata": {
  "kernelspec": {
   "display_name": ".venv",
   "language": "python",
   "name": "python3"
  },
  "language_info": {
   "codemirror_mode": {
    "name": "ipython",
    "version": 3
   },
   "file_extension": ".py",
   "mimetype": "text/x-python",
   "name": "python",
   "nbconvert_exporter": "python",
   "pygments_lexer": "ipython3",
   "version": "3.10.4"
  }
 },
 "nbformat": 4,
 "nbformat_minor": 2
}
