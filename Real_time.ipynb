{
 "cells": [
  {
   "cell_type": "code",
   "execution_count": 13,
   "metadata": {},
   "outputs": [
    {
     "name": "stdout",
     "output_type": "stream",
     "text": [
      "['C://Users//jony//Programming//Python//Anubis//anubis//data//reset//proAnubis_240811_2240.raw', 'C://Users//jony//Programming//Python//Anubis//anubis//data//reset//proAnubis_240810_2240.raw', 'C://Users//jony//Programming//Python//Anubis//anubis//data//reset//proAnubis_240810_2040.raw', 'C://Users//jony//Programming//Python//Anubis//anubis//data//reset//proAnubis_240810_1840.raw', 'C://Users//jony//Programming//Python//Anubis//anubis//data//reset//proAnubis_240810_1640.raw', 'C://Users//jony//Programming//Python//Anubis//anubis//data//reset//proAnubis_240810_1440.raw', 'C://Users//jony//Programming//Python//Anubis//anubis//data//reset//proAnubis_240810_1240.raw', 'C://Users//jony//Programming//Python//Anubis//anubis//data//reset//proAnubis_240810_1040.raw', 'C://Users//jony//Programming//Python//Anubis//anubis//data//reset//proAnubis_240810_0840.raw', 'C://Users//jony//Programming//Python//Anubis//anubis//data//reset//proAnubis_240810_0640.raw', 'C://Users//jony//Programming//Python//Anubis//anubis//data//reset//proAnubis_240810_0440.raw', 'C://Users//jony//Programming//Python//Anubis//anubis//data//reset//proAnubis_240810_0240.raw', 'C://Users//jony//Programming//Python//Anubis//anubis//data//reset//proAnubis_240810_0040.raw']\n"
     ]
    }
   ],
   "source": [
    "import importlib\n",
    "import sys\n",
    "from tqdm import tqdm\n",
    "import  os\n",
    "import glob\n",
    "from datetime import datetime\n",
    "import matplotlib.pyplot as plt\n",
    "# Add the directories to the sys.path\n",
    "dir_path = \"C://Users//jony//Programming//Python//Anubis//anubis//\" # insert your directory path\n",
    "sys.path.append(dir_path + \"Osiris//processing//python\")\n",
    "sys.path.append(dir_path + \"tools\")\n",
    "\n",
    "import Analysis_tools as ATools\n",
    "import proAnubis_Analysis_Tools\n",
    "import Reconstruction_tools as RTools\n",
    "import mplhep as hep\n",
    "import Timing_tools as TTools\n",
    "import rawFileReader\n",
    "import Visual_tools as VTools\n",
    "hep.style.use([hep.style.ATLAS])\n",
    "\n",
    "# Specify the directory\n",
    "data_list = sorted([f for f in os.listdir(\"data//reset\") if os.path.isfile(os.path.join(\"data//reset\", f))], reverse=True) ##all files in data directory sorted from the newest to the oldest\n",
    "\n",
    "file_path = list(map(lambda p: dir_path+\"data//reset//\"+p, data_list)) #\n",
    "print(file_path)"
   ]
  },
  {
   "cell_type": "code",
   "execution_count": 16,
   "metadata": {},
   "outputs": [
    {
     "name": "stdout",
     "output_type": "stream",
     "text": [
      "['C://Users//jony//Programming//Python//Anubis//anubis//data//reset//proAnubis_240810_0040.raw', 'C://Users//jony//Programming//Python//Anubis//anubis//data//reset//proAnubis_240811_2240.raw']\n"
     ]
    },
    {
     "name": "stderr",
     "output_type": "stream",
     "text": [
      "Processing Events proAnubis_240810_0040:   0%|          | 0/3000 [00:00<?, ?Events/s]"
     ]
    },
    {
     "name": "stderr",
     "output_type": "stream",
     "text": [
      "Processing Events proAnubis_240810_0040: 100%|██████████| 3000/3000 [01:51<00:00, 26.90Events/s]\n",
      "Processing Events proAnubis_240811_2240: 100%|██████████| 3000/3000 [01:01<00:00, 48.52Events/s]\n"
     ]
    }
   ],
   "source": [
    "importlib.reload(rawFileReader) # Reload fReader\n",
    "importlib.reload(proAnubis_Analysis_Tools)\n",
    "importlib.reload(ATools)\n",
    "importlib.reload(VTools)\n",
    "import matplotlib.pyplot as plt\n",
    "\n",
    "interval = 100 # Set your monitoring chunck size\n",
    "order = [[0,1], [1,2], [2,3], [3,4]] # Order what you want to align\n",
    "max_process_event_chunk = 3_000 # End the loop early\n",
    "file_path = ['C://Users//jony//Programming//Python//Anubis//anubis//data//reset//proAnubis_240810_0040.raw', 'C://Users//jony//Programming//Python//Anubis//anubis//data//reset//proAnubis_240811_2240.raw']\n",
    "print(file_path)\n",
    "for file in file_path:\n",
    "    fReader = rawFileReader.fileReader(file) # load in the classs object\n",
    "    processedEvents = 0 # Initialisation\n",
    "    originTime = None\n",
    "    file_name = file.split(\"//\")[-1][:-4]\n",
    "    times = []\n",
    "    with tqdm(total=max_process_event_chunk, desc=f\"Processing Events {file_name}\", unit='Events') as pbar:\n",
    "        while processedEvents < max_process_event_chunk:\n",
    "            processedEvents += 1\n",
    "            try:\n",
    "                event_chunk, tdc_met, TDC_info = fReader.get_aligned_events(order=order, interval=interval, extract_tdc_mets = True) # get the aligned events\n",
    "            except Exception as e:\n",
    "                print(e)\n",
    "                max_process_event_chunk = processedEvents-1\n",
    "                break\n",
    "            \n",
    "            event_time = min([event_chunk[0].tdcEvents[tdc].time for tdc in range(5) if event_chunk[0].tdcEvents[tdc].time])\n",
    "            \n",
    "            if originTime:\n",
    "                times.append((event_time - originTime).total_seconds())\n",
    "            else:\n",
    "                times.append(0)\n",
    "                originTime = event_time\n",
    "            pbar.update(1)\n",
    "\n",
    "    plt.figure(figsize=(10, 6))\n",
    "    plt.plot(times, [i for i in range(max_process_event_chunk)], label=\"Time between events\")\n",
    "    plt.xlabel(\"Time (s)\")\n",
    "    plt.ylabel(\"Event Chunk Number\")\n",
    "    plt.title(f\"Time vs events {file_name}\")\n",
    "    plt.show()"
   ]
  }
 ],
 "metadata": {
  "kernelspec": {
   "display_name": ".venv",
   "language": "python",
   "name": "python3"
  },
  "language_info": {
   "codemirror_mode": {
    "name": "ipython",
    "version": 3
   },
   "file_extension": ".py",
   "mimetype": "text/x-python",
   "name": "python",
   "nbconvert_exporter": "python",
   "pygments_lexer": "ipython3",
   "version": "3.10.4"
  }
 },
 "nbformat": 4,
 "nbformat_minor": 2
}
