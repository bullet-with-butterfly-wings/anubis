{
 "cells": [
  {
   "cell_type": "code",
   "execution_count": 29,
   "metadata": {},
   "outputs": [
    {
     "name": "stdout",
     "output_type": "stream",
     "text": [
      "['C://Users//jony//Programming//Python//Anubis//anubis//data//reset//proAnubis_240811_2240.raw']\n"
     ]
    }
   ],
   "source": [
    "import importlib\n",
    "import sys\n",
    "from tqdm import tqdm\n",
    "import  os\n",
    "import glob\n",
    "from datetime import datetime\n",
    "import matplotlib.pyplot as plt\n",
    "# Add the directories to the sys.path\n",
    "dir_path = \"C://Users//jony//Programming//Python//Anubis//anubis//\" # insert your directory path\n",
    "sys.path.append(dir_path + \"Osiris//processing//python\")\n",
    "sys.path.append(dir_path + \"tools\")\n",
    "\n",
    "import Analysis_tools as ATools\n",
    "import proAnubis_Analysis_Tools\n",
    "import Reconstruction_tools as RTools\n",
    "import mplhep as hep\n",
    "import Timing_tools as TTools\n",
    "import rawFileReader\n",
    "import Visual_tools as VTools\n",
    "hep.style.use([hep.style.ATLAS])\n",
    "\n",
    "# Specify the directory\n",
    "data_list = sorted([f for f in os.listdir(\"data//reset\") if os.path.isfile(os.path.join(\"data//reset\", f))], reverse=True) ##all files in data directory sorted from the newest to the oldest\n",
    "\n",
    "file_path = list(map(lambda p: dir_path+\"data//reset//\"+p, data_list))[:1] #\n",
    "print(file_path)"
   ]
  },
  {
   "cell_type": "code",
   "execution_count": 15,
   "metadata": {},
   "outputs": [
    {
     "name": "stdout",
     "output_type": "stream",
     "text": [
      "proAnubis_240731_0017\n"
     ]
    },
    {
     "name": "stderr",
     "output_type": "stream",
     "text": [
      "Processing proAnubis_240731_0017:   0%|          | 0/5 [00:00<?, ?Chunks/s]"
     ]
    },
    {
     "name": "stdout",
     "output_type": "stream",
     "text": [
      "Initial Time: 2024-07-30 23:17:53.026146\n"
     ]
    },
    {
     "name": "stderr",
     "output_type": "stream",
     "text": [
      "Processing proAnubis_240731_0017:  20%|██        | 1/5 [00:20<01:20, 20.12s/Chunks]"
     ]
    },
    {
     "name": "stdout",
     "output_type": "stream",
     "text": [
      "Initial Time: 2024-07-30 23:19:33.029881\n"
     ]
    },
    {
     "name": "stderr",
     "output_type": "stream",
     "text": [
      "Processing proAnubis_240731_0017:  40%|████      | 2/5 [00:44<01:07, 22.45s/Chunks]"
     ]
    },
    {
     "name": "stdout",
     "output_type": "stream",
     "text": [
      "Initial Time: 2024-07-30 23:21:13.033783\n"
     ]
    },
    {
     "name": "stderr",
     "output_type": "stream",
     "text": [
      "Processing proAnubis_240731_0017:  60%|██████    | 3/5 [01:04<00:42, 21.42s/Chunks]"
     ]
    },
    {
     "name": "stdout",
     "output_type": "stream",
     "text": [
      "Initial Time: 2024-07-30 23:22:53.036336\n"
     ]
    },
    {
     "name": "stderr",
     "output_type": "stream",
     "text": [
      "Processing proAnubis_240731_0017:  80%|████████  | 4/5 [01:31<00:23, 23.61s/Chunks]"
     ]
    },
    {
     "name": "stdout",
     "output_type": "stream",
     "text": [
      "Initial Time: 2024-07-30 23:24:33.039684\n"
     ]
    },
    {
     "name": "stderr",
     "output_type": "stream",
     "text": [
      "Processing proAnubis_240731_0017: 100%|██████████| 5/5 [01:54<00:00, 23.00s/Chunks]\n",
      "C:\\Users\\jony\\AppData\\Local\\Temp\\ipykernel_23068\\2276687316.py:78: MatplotlibDeprecationWarning: The plot_date function was deprecated in Matplotlib 3.9 and will be removed in 3.11. Use plot instead.\n",
      "  plt.plot_date(dates, triggers_rate, xdate=True, linestyle='solid', label=f\"{file_name}\")\n"
     ]
    }
   ],
   "source": [
    "importlib.reload(rawFileReader) # Reload fReader\n",
    "importlib.reload(proAnubis_Analysis_Tools)\n",
    "importlib.reload(ATools)\n",
    "importlib.reload(VTools)\n",
    "import matplotlib.pyplot as plt\n",
    "\n",
    "['C://Users//jony//Programming//Python//Anubis//anubis//data//reset//proAnubis_240811_2240.raw'] # only 0,1 channels\n",
    "#file_path = paths = ['C://Users//jony//Programming//Python//Anubis//anubis//data//proAnubis_240731_0217.raw', 'C://Users//jony//Programming//Python//Anubis//anubis//data//reset//proAnubis_240810_0040.raw', 'C://Users//jony//Programming//Python//Anubis//anubis//data//proAnubis_240810_0840.raw']\n",
    "\n",
    "\n",
    "file = file_path[0]\n",
    "file_name = file.split(\"//\")[-1][:-4]\n",
    "print(file_name)\n",
    "fReader = rawFileReader.fileReader(file)\n",
    "max_chunks = 10\n",
    "\n",
    "proccesedChunk = 0\n",
    "bcr_time = 0\n",
    "trigger_count = 0\n",
    "bcr_count = 0\n",
    "time_window = 100 #in seconds\n",
    "triggers_rate = []\n",
    "dates = []\n",
    "channels = (1,2) #(1,0)\n",
    "tdc5Reads = []\n",
    "#maybe later against time\n",
    "time = []\n",
    "with tqdm(total=max_chunks, desc=f\"Processing {file_name}\", unit='Chunks') as pbar:\n",
    "    while proccesedChunk < max_chunks:\n",
    "        initial_time = None\n",
    "        trigger_count = 0\n",
    "        bcr_count = 0        \n",
    "        time_collected = 0\n",
    "        all_channels = set()\n",
    "        while time_collected < time_window:\n",
    "            if not fReader.readBlock():\n",
    "                print(\"Finished Reading File\")\n",
    "                max_chunks = event_count\n",
    "                break\n",
    "\n",
    "            if(fReader.hasEvents()):\n",
    "                tdc5Reads = fReader.getTDCFiveEvents()\n",
    "                if not tdc5Reads:\n",
    "                    continue\n",
    "                if not initial_time:\n",
    "                    initial_time = tdc5Reads[0][0]\n",
    "                    print(\"Initial Time:\", initial_time)\n",
    "                for word in tdc5Reads[0][1]:\n",
    "                    tdcChannel = (word>>24)&0x7f\n",
    "                    tdcHitTime = word&0xfffff\n",
    "                    \"\"\"\n",
    "                    if tdcChannel == channels[1]:\n",
    "                        bcr_count += 1\n",
    "                        check = tdcHitTime-bcr_time\n",
    "                        if check:\n",
    "                            bcr_time = tdcHitTime\n",
    "                            print(\"--------------------\")\n",
    "                            print(\"BCR Update\",bcr_time)\n",
    "                            print(\"Check:\", check)\n",
    "                    \"\"\"\n",
    "                    if tdcChannel == channels[0]:\n",
    "                        trigger_count += 1\n",
    "                    time_collected = (tdc5Reads[0][0]-initial_time).total_seconds()\n",
    "                        \n",
    "                \n",
    "        #print(\"BCR Count:\", br_count)\n",
    "        #print(\"Trigger Count:\", triggers_count)\n",
    "        event_count = event_count+1\n",
    "        if initial_time:\n",
    "            time_diff = (tdc5Reads[0][0]-initial_time).total_seconds()\n",
    "        if tdc5Reads and time_diff:\n",
    "            dates.append(tdc5Reads[0][0])\n",
    "            triggers_rate.append(trigger_count/(time_diff))\n",
    "            proccesedChunk += 1\n",
    "            pbar.update(1)\n",
    "            \n",
    "\n",
    "plt.plot_date(dates, triggers_rate, xdate=True, linestyle='solid', label=f\"{file_name}\")\n",
    "plt.xlabel(\"Event Chunks\")\n",
    "plt.ylim(0, 8000)\n",
    "plt.ylabel(\"Triggers Rate (Hz)\")\n",
    "plt.title(f\"Triggers Rate vs Event Chunks\")\n",
    "plt.show()\n",
    "                    \n",
    "                 \n",
    "        \n",
    "    "
   ]
  },
  {
   "cell_type": "code",
   "execution_count": 24,
   "metadata": {},
   "outputs": [],
   "source": [
    "plt.plot(dates, triggers_rate, linestyle='solid', label=f\"{file_name}\")\n",
    "plt.xlabel(\"Date\")\n",
    "plt.ylim(0, 8000)\n",
    "plt.ylabel(\"Triggers Rate (Hz)\")\n",
    "plt.xticks(dates, [d.strftime(\"%H:%M:%S\") for d in dates])\n",
    "plt.title(f\"Triggers Rate\")\n",
    "plt.show()"
   ]
  }
 ],
 "metadata": {
  "kernelspec": {
   "display_name": ".venv",
   "language": "python",
   "name": "python3"
  },
  "language_info": {
   "codemirror_mode": {
    "name": "ipython",
    "version": 3
   },
   "file_extension": ".py",
   "mimetype": "text/x-python",
   "name": "python",
   "nbconvert_exporter": "python",
   "pygments_lexer": "ipython3",
   "version": "3.10.4"
  }
 },
 "nbformat": 4,
 "nbformat_minor": 2
}
